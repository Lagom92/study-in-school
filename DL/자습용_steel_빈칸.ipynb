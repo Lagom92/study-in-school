{
 "cells": [
  {
   "cell_type": "markdown",
   "metadata": {},
   "source": [
    "### 코드 재활용을 위한 이전 파일 계증"
   ]
  },
  {
   "cell_type": "code",
   "execution_count": 4,
   "metadata": {},
   "outputs": [],
   "source": [
    "%run ./AI_abalone.ipynb"
   ]
  },
  {
   "cell_type": "markdown",
   "metadata": {},
   "source": [
    "## A.1 메인함수 정의"
   ]
  },
  {
   "cell_type": "code",
   "execution_count": 2,
   "metadata": {},
   "outputs": [],
   "source": [
    "def steel_exec(epoch_count=10, mb_size = 10, report =1):\n",
    "    load)steel_dataset()\n",
    "    init_model()\n",
    "    train_and_test(epoch_count,mb_size,report)"
   ]
  },
  {
   "cell_type": "markdown",
   "metadata": {},
   "source": [
    "## B.1 데이터 적재 함수 정의"
   ]
  },
  {
   "cell_type": "code",
   "execution_count": 3,
   "metadata": {},
   "outputs": [],
   "source": [
    "def load_steel_dataset():\n",
    "    with open('./data/faults.csv') as csvfile:\n",
    "        csvreader = csv.reader(csvfile)\n",
    "        next(csvreader, None)\n",
    "        rows = []\n",
    "        for row in csvreader:\n",
    "            rows.appendfffffffffffffff(row)\n",
    "            \n",
    "    global data, input_cnt, output_cnt\n",
    "    \n",
    "    input_cnt, output_cnt = 27, \n",
    "    data = np.?(rows, dtype='float32)"
   ]
  },
  {
   "cell_type": "markdown",
   "metadata": {},
   "source": [
    "## D.2 E.2 후처리 과정에 대한 순전파와 역전파 함수의 재정의 "
   ]
  },
  {
   "cell_type": "code",
   "execution_count": 4,
   "metadata": {},
   "outputs": [],
   "source": [
    "def forward_postproc(output, y):\n",
    "    entropy = ?(y, output) \n",
    "    loss = np.mean(?) \n",
    "    return loss, [y, output, entropy] \n",
    "\n",
    "\n",
    "def backprop_postproc(?, aux): \n",
    "    y, output, entropy = aux \n",
    "    g_loss_entropy = ? / np.?(entropy.shape)\n",
    "    g_entropy_output = ?(y,output) \n",
    "\n",
    "    G_entropy = ? * G_loss\n",
    "    G_output = g_entropy_output * ?\n",
    "    \n",
    "    return ?"
   ]
  },
  {
   "cell_type": "markdown",
   "metadata": {},
   "source": [
    "## D.3 정확도 계산 함수 정의"
   ]
  },
  {
   "cell_type": "code",
   "execution_count": 5,
   "metadata": {},
   "outputs": [],
   "source": [
    "def eval_accuracy(output, y): \n",
    "    estimate = np.?(output, ?)\n",
    "    answer = np.?(y, ?) \n",
    "    correct = np.?(estimate, answer)\n",
    "    \n",
    "    return np.mean(correct)  "
   ]
  },
  {
   "cell_type": "markdown",
   "metadata": {},
   "source": [
    "## F.1~3 소프트맥스 관련 함수 정의"
   ]
  },
  {
   "cell_type": "code",
   "execution_count": 6,
   "metadata": {},
   "outputs": [],
   "source": [
    "def softmax(x): \n",
    "    max_elem = np.?(x, axis=1) \n",
    "    diff = (x.transpose() - ?).transpose()\n",
    "    exp = np.?(diff) \n",
    "    sum_exp = np.sum(exp, axis=1)\n",
    "    probs = (exp.transpose()/?).transpose() \n",
    "    return probs  \n",
    "\n",
    "def softmax_cross_entropy_with_logits(labels, logits):\n",
    "    probs = softmax(logits) \n",
    "    return -np.sum(labels * np.log(probs + 1.0e-10), axis=1)\n",
    "    \n",
    "def softmax_cross_entropy_with_logits_derv(labels, logits):\n",
    "    return softmax(logits) - labels"
   ]
  },
  {
   "cell_type": "markdown",
   "metadata": {},
   "source": [
    "## 실행하기"
   ]
  },
  {
   "cell_type": "code",
   "execution_count": null,
   "metadata": {},
   "outputs": [],
   "source": [
    "steel_exec()"
   ]
  },
  {
   "cell_type": "code",
   "execution_count": null,
   "metadata": {},
   "outputs": [],
   "source": [
    "LEARNING_RATE = 0.0001\n",
    "steel_exec()"
   ]
  }
 ],
 "metadata": {
  "kernelspec": {
   "display_name": "Python 3",
   "language": "python",
   "name": "python3"
  },
  "language_info": {
   "codemirror_mode": {
    "name": "ipython",
    "version": 3
   },
   "file_extension": ".py",
   "mimetype": "text/x-python",
   "name": "python",
   "nbconvert_exporter": "python",
   "pygments_lexer": "ipython3",
   "version": "3.6.7"
  }
 },
 "nbformat": 4,
 "nbformat_minor": 2
}