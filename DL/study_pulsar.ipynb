{
 "metadata": {
  "language_info": {
   "codemirror_mode": {
    "name": "ipython",
    "version": 3
   },
   "file_extension": ".py",
   "mimetype": "text/x-python",
   "name": "python",
   "nbconvert_exporter": "python",
   "pygments_lexer": "ipython3",
   "version": 3
  },
  "orig_nbformat": 2,
  "kernelspec": {
   "name": "python_defaultSpec_1595767180814",
   "display_name": "Python 3.7.7 64-bit ('study': conda)"
  }
 },
 "nbformat": 4,
 "nbformat_minor": 2,
 "cells": [
  {
   "cell_type": "markdown",
   "metadata": {},
   "source": [
    "# 단층 퍼셉트론(SLP)\n",
    "\n",
    "## 이진판단_Pulsar"
   ]
  },
  {
   "cell_type": "markdown",
   "metadata": {},
   "source": [
    "### 코드 재활용을 위한 파이썬 파일 실행시키기"
   ]
  },
  {
   "cell_type": "code",
   "execution_count": 2,
   "metadata": {
    "tags": []
   },
   "outputs": [
    {
     "output_type": "stream",
     "name": "stdout",
     "text": "Epoch: 1: loss=32.457, accuracy=0.579/0.821\nEpoch: 2: loss=8.032, accuracy=0.818/0.809\nEpoch: 3: loss=7.557, accuracy=0.806/0.804\nEpoch: 4: loss=7.488, accuracy=0.802/0.806\nEpoch: 5: loss=7.435, accuracy=0.804/0.804\nEpoch: 6: loss=7.392, accuracy=0.803/0.805\nEpoch: 7: loss=7.352, accuracy=0.803/0.805\nEpoch: 8: loss=7.318, accuracy=0.802/0.807\nEpoch: 9: loss=7.292, accuracy=0.804/0.804\nEpoch: 10: loss=7.267, accuracy=0.802/0.804\n\nFinal Test: final accuray = 0.804\nweight:\n [[1.84452753]\n [1.87190383]\n [0.00429812]\n [1.92543471]\n [1.53991706]\n [0.57774027]\n [2.50580724]\n [0.58472533]\n [0.49374033]\n [1.04468813]]\n\nbias:  [3.71858997]\n(array([8.59651892]), array([0.  , 1.  , 0.  , 0.44, 0.3 , 0.08, 0.5 , 0.23, 0.11, 0.2 ]))\nEpoch: 20: loss=5.931, accuracy=0.820/0.825\nEpoch: 40: loss=5.343, accuracy=0.831/0.823\nEpoch: 60: loss=5.128, accuracy=0.834/0.836\nEpoch: 80: loss=5.022, accuracy=0.836/0.837\nEpoch: 100: loss=4.985, accuracy=0.837/0.820\n\nFinal Test: final accuray = 0.820\nsuccess\n"
    }
   ],
   "source": [
    "%run ./study_abalone.ipynb"
   ]
  },
  {
   "cell_type": "markdown",
   "metadata": {},
   "source": [
    "### 메인 함수 정의하기"
   ]
  },
  {
   "cell_type": "code",
   "execution_count": null,
   "metadata": {},
   "outputs": [],
   "source": [
    "def pulsar_exec(epoch_count=10, mb_size=10, report=1):\n",
    "    load_pulsar_dataset()\n",
    "    init_model()\n",
    "    train_and_test(epoch_count, mb_size, report)"
   ]
  },
  {
   "cell_type": "code",
   "execution_count": null,
   "metadata": {},
   "outputs": [],
   "source": []
  },
  {
   "cell_type": "markdown",
   "metadata": {},
   "source": [
    "### 데이터 적재 함수의 정의"
   ]
  },
  {
   "cell_type": "code",
   "execution_count": 9,
   "metadata": {},
   "outputs": [],
   "source": [
    "def load_pulsar_dataset():\n",
    "    global data, input_cnt, output_cnt\n",
    "\n",
    "    with open('./data/pulsar_stars.csv') as f:\n",
    "        csvreader = csv.reader(f)\n",
    "        next(csvreader)\n",
    "        rows = []\n",
    "        for row in csvreader:\n",
    "            rows.append(row)\n",
    "\n",
    "    input_cnt, output_cnt = 8, 1\n",
    "    data = np.asarray(rows, dtype='float32')"
   ]
  },
  {
   "cell_type": "code",
   "execution_count": null,
   "metadata": {},
   "outputs": [],
   "source": []
  }
 ]
}