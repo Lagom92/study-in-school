{
 "cells": [
  {
   "cell_type": "markdown",
   "metadata": {},
   "source": [
    "## 0.0 파이썬 모듈 불러들이기"
   ]
  },
  {
   "cell_type": "code",
   "execution_count": 7,
   "metadata": {},
   "outputs": [],
   "source": [
    "import numpy as np\n",
    "import csv\n",
    "# import time\n",
    "\n",
    "np.random.seed(1234)\n",
    "# def randomize(): np.random.seed(time.time())"
   ]
  },
  {
   "cell_type": "markdown",
   "metadata": {},
   "source": [
    "## 0.1 하이퍼 파라미터 정의"
   ]
  },
  {
   "cell_type": "code",
   "execution_count": 8,
   "metadata": {},
   "outputs": [],
   "source": [
    "# 평균\n",
    "RND_MEAN = 0\n",
    "\n",
    "# 표준편차\n",
    "RND_STD = 0.0030\n",
    "\n",
    "# 학습률\n",
    "LEARNING_RATE = 0.001"
   ]
  },
  {
   "cell_type": "markdown",
   "metadata": {},
   "source": [
    "## A.1 실험용 메인함수"
   ]
  },
  {
   "cell_type": "code",
   "execution_count": 9,
   "metadata": {},
   "outputs": [],
   "source": [
    "def abalone_exec(epoch_count = 10, mb_size = 10, report = 1):\n",
    "    load_abalone_dataset()      # 데이터를 불러들이는 함수\n",
    "    init_model()                # 모델 초기화 함수\n",
    "    train_and_test(epoch_count, mb_size, report)    # 학습 및 테스트 수행 함수"
   ]
  },
  {
   "cell_type": "markdown",
   "metadata": {},
   "source": [
    "## B.1 데이터 적재함수 정의 "
   ]
  },
  {
   "cell_type": "code",
   "execution_count": 10,
   "metadata": {},
   "outputs": [],
   "source": [
    "def load_abalone_dataset():\n",
    "    with open('./data/abalone.csv') as csvfile:\n",
    "        csvreader = csv.reader(csvfile)\n",
    "        next(csvreader, None)\n",
    "        rows = []\n",
    "        # csv 파일의 데어터를 반복문을 활용하여 rows 라는 빈 리스트에 저장\n",
    "        for row in csvreader:\n",
    "            rows.append(row)\n",
    "            \n",
    "    # 이후에 다른 변수에서 활용하고자 전역변수 생성\n",
    "    global data, input_cnt, output_cnt\n",
    "\n",
    "    # 데이터의 입출력 벡터 정보를 저장, 이후 크기 지정에 활용\n",
    "    input_cnt, output_cnt = 10, 1\n",
    "    data = np.zeros([len(rows), input_cnt+output_cnt])\n",
    "\n",
    "    # 원-핫 벡터 처리\n",
    "    # I = 1,0,0 / M = 0,1,0 / F = 0,0,1\n",
    "    for n, row in enumerate(rows):\n",
    "        if row[0] == 'I': data[n, 0] = 1\n",
    "        if row[0] == 'M': data[n, 1] = 1\n",
    "        if row[0] == 'F': data[n, 2] = 1\n",
    "        data[n, 3:] = row[1:]"
   ]
  },
  {
   "cell_type": "markdown",
   "metadata": {},
   "source": [
    "## B.2 파라미터 초기화 함수 정의 "
   ]
  },
  {
   "cell_type": "code",
   "execution_count": 11,
   "metadata": {},
   "outputs": [],
   "source": [
    "def init_model():\n",
    "    # 전역변수 불러오기 및 생성\n",
    "    global weight, bias, input_cnt, output_cnt\n",
    "\n",
    "    # 가중치 초기화\n",
    "    weight = np.random.normal(RND_MEAN, RND_STD,[input_cnt, output_cnt])\n",
    "    \n",
    "    # 편향 초기화\n",
    "    bias = np.zeros([output_cnt])"
   ]
  },
  {
   "cell_type": "markdown",
   "metadata": {},
   "source": [
    "- np.random.normal(평균, 표준편차, 크기) : 정규분포를 갖는 난수 생성\n",
    "\n",
    "- np.zeros(shape) : 0 으로 가득찬 array를 생성"
   ]
  },
  {
   "cell_type": "markdown",
   "metadata": {},
   "source": [
    "## B.3 학습 및 평가 함수 정의"
   ]
  },
  {
   "cell_type": "code",
   "execution_count": 12,
   "metadata": {},
   "outputs": [],
   "source": [
    "def train_and_test(epoch_count, mb_size, report):\n",
    "    step_count = arrange_data(mb_size)\n",
    "    test_x, test_y = get_test_data()\n",
    "    \n",
    "    # epoch_count 만큼 '에폭' 반복 수행\n",
    "    # 한 차례의 에폭마다의 손실과 정확도 저장\n",
    "    for epoch in range(epoch_count):\n",
    "        losses, accs = [], []\n",
    "        \n",
    "        # 학습데이터 크기에 비례하여(80%) 미니배치 처리된 횟수만큼 반복 수행\n",
    "        for n in range(step_count):\n",
    "            # 미니배치 마다의 학습 데이터 분할\n",
    "            train_x, train_y = get_train_data(mb_size, n)\n",
    "\n",
    "            # 학습 수행 및 손실과 정확도 산출\n",
    "            loss, acc = run_train(train_x, train_y)\n",
    "\n",
    "            # 미니배치 처리 이후 손실과 정확도를 누적하여 저장(이후 이 값들을 평균내면 한 차례의 '에폭' 처리)\n",
    "            losses.append(loss)\n",
    "            accs.append(acc)\n",
    "            \n",
    "        # 출력 주기 및 테스트 주기 설정\n",
    "        if report > 0 and (epoch+1) % report == 0:\n",
    "            # 테스트 데이터로 테스트 진행\n",
    "            acc = run_test(test_x, test_y)\n",
    "            print('Epoch {}: loss={:5.3f}, accuracy={:5.3f}/{:5.3f}'. \\\n",
    "                  format(epoch+1, np.mean(losses), np.mean(accs), acc))\n",
    "\n",
    "    # 모든 반복이 종료되었을때, 한번 더 최종 결과 출력        \n",
    "    final_acc = run_test(test_x, test_y)\n",
    "    print('\\nFinal Test: final accuracy = {:5.3f}'.format(final_acc))"
   ]
  },
  {
   "cell_type": "markdown",
   "metadata": {},
   "source": [
    "## C.1~3 학습 및 평가 데이터 획득 함수 정의"
   ]
  },
  {
   "cell_type": "code",
   "execution_count": 13,
   "metadata": {},
   "outputs": [],
   "source": [
    "def arrange_data(mb_size):\n",
    "    global data, shuffle_map, test_begin_idx\n",
    "\n",
    "    # 데이터의 순서값을 생성\n",
    "    shuffle_map = np.arange(data.shape[0])\n",
    "\n",
    "    # 데이터를 무작위로 섞어주는 과정\n",
    "    np.random.shuffle(shuffle_map)\n",
    "\n",
    "    # 데이터의 80% 기준, 미니배치 사이즈에 의한 1 에폭당 미니배치 횟수 출력\n",
    "    step_count = int(data.shape[0] * 0.8) // mb_size\n",
    "\n",
    "    # 학습 데이터와 테스트 데이터의 경계선 인덱스 생성\n",
    "    test_begin_idx = step_count * mb_size\n",
    "\n",
    "    return step_count\n",
    "\n",
    "\n",
    "def get_test_data():\n",
    "    global data, shuffle_map, test_begin_idx, output_cnt\n",
    "\n",
    "    # 테스트 데이터 생성\n",
    "    test_data = data[shuffle_map[test_begin_idx:]]\n",
    "\n",
    "    # 테스트 데이터의 종속변수, 독립변수 분할\n",
    "    return test_data[:, :-output_cnt], test_data[:, -output_cnt:]\n",
    "\n",
    "\n",
    "def get_train_data(mb_size, nth):\n",
    "    # mb_size: 미니배치 크기, nth: 미니배치 실행 순서\n",
    "    global data, shuffle_map, test_begin_idx, output_cnt\n",
    "    if nth == 0:\n",
    "        # 첫 에폭마다 한하여\n",
    "        # 처음부터 경계선까지 인덱스를 섞어준다.\n",
    "        np.random.shuffle(shuffle_map[:test_begin_idx])\n",
    "\n",
    "        # 섞인 인덱스로 미니배치 크기에 맞게 데이터 분할 및 train_data로 저장\n",
    "    train_data = data[shuffle_map[mb_size*nth:mb_size*(nth+1)]]\n",
    "    return train_data[:, :-output_cnt], train_data[:, -output_cnt:]"
   ]
  },
  {
   "cell_type": "markdown",
   "metadata": {},
   "source": [
    "## C.4~5 학습 실행 함수와 평가 실행함수 정의"
   ]
  },
  {
   "cell_type": "code",
   "execution_count": 14,
   "metadata": {},
   "outputs": [],
   "source": [
    "def run_train(x, y):\n",
    "    '''순전파 및 정확도 추출 과정'''\n",
    "\n",
    "    # 신경망 연산 부분(보조정보: 입력 벡터 x)\n",
    "    output, aux_nn = forward_neuralnet(x)\n",
    "\n",
    "    # 신경망 후처리 과정(손실함수 구하는 과정)(보조정보: 편차 diff)\n",
    "    loss, aux_pp = forward_postproc(output, y)\n",
    "\n",
    "    # 정확도를 구하는 과정\n",
    "    accuracy = eval_accuracy(output, y)\n",
    "    \n",
    "    '''역전파 과정'''\n",
    "\n",
    "    # 항상 순전파의 역순으로 수행\n",
    "    # 순전파 때 출력이었던 성분의 '손실함수의 기울기'\n",
    "    G_loss = 1.0\n",
    "\n",
    "    # 손실함수의 처리과정인 '평균제곱오차'의 역순, 즉 'MSE의 역전파 처리'\n",
    "    G_output = backprop_postproc(G_loss, aux_pp)\n",
    "\n",
    "    # 입력값에 따른 f(x)에 대한 편미분 과정을 구해주는 내부처리\n",
    "    # 직접적인 학습이 이뤄지는 부분(가중치와 편향이 학습률을 활용하여 실제 학습 과정 수행)\n",
    "    backprop_neuralnet(G_output, aux_nn)\n",
    "    \n",
    "    return loss, accuracy\n",
    "\n",
    "\n",
    "def run_test(x, y):\n",
    "    # 순전파 과정 수행(두번째 반환값인 '추가정보 바환'은 필요 없으므로 \"_\"처리)\n",
    "    output, _ = forward_neuralnet(x)\n",
    "\n",
    "    # 최종 정확도 추출\n",
    "    accuracy = eval_accuracy(output, y)\n",
    "\n",
    "    return accuracy"
   ]
  },
  {
   "cell_type": "markdown",
   "metadata": {},
   "source": [
    "## D.1 / E.1 단층 퍼셉트론에 대한 순전파 및 역전파 함수 정의"
   ]
  },
  {
   "cell_type": "code",
   "execution_count": 15,
   "metadata": {},
   "outputs": [],
   "source": [
    "def forward_neuralnet(x):\n",
    "    # 전역변수 셋팅\n",
    "    global weight, bias\n",
    "\n",
    "    # 편향이 더해진 입력 벡터와 가중치 벡터에 대한 기본적인 신경망 연산식\n",
    "    output = np.matmul(x, weight) + bias\n",
    "\n",
    "    # 역전파에 필요한 보조정보로 활용\n",
    "    return output, x\n",
    "\n",
    "# 입력값에 따른 f(x)에 대한 편미분 과정에서 각각 가중치(G_W)와 편향(G_B)의 손실 기울기 연산\n",
    "def backprop_neuralnet(G_output, x):\n",
    "    global weight, bias\n",
    "\n",
    "    # 가중치의 손실기울기를 구하기 위해 필요한 값에 대한 사전작업\n",
    "    # 전치 행렬\n",
    "    g_output_w = x.transpose()\n",
    "    \n",
    "    G_w = np.matmul(g_output_w, G_output)\n",
    "    G_b = np.sum(G_output, axis=0)\n",
    "\n",
    "    weight -= LEARNING_RATE * G_w\n",
    "    bias -= LEARNING_RATE * G_b"
   ]
  },
  {
   "cell_type": "markdown",
   "metadata": {},
   "source": [
    "## D.2 / E.2 후처리 과정에 대한 순전파 및 역전파 함수 정의"
   ]
  },
  {
   "cell_type": "code",
   "execution_count": 16,
   "metadata": {},
   "outputs": [],
   "source": [
    "def forward_postproc(output, y):\n",
    "    diff = output - y\n",
    "    square = np.square(diff)\n",
    "    loss = np.mean(square)\n",
    "    return loss, diff\n",
    "\n",
    "def backprop_postproc(G_loss, diff):\n",
    "    shape = diff.shape\n",
    "    \n",
    "    g_loss_square = np.ones(shape) / np.prod(shape)\n",
    "    g_square_diff = 2 * diff\n",
    "    g_diff_output = 1\n",
    "\n",
    "    G_square = g_loss_square * G_loss\n",
    "    G_diff = g_square_diff * G_square\n",
    "    G_output = g_diff_output * G_diff\n",
    "    \n",
    "    return G_output"
   ]
  },
  {
   "cell_type": "markdown",
   "metadata": {},
   "source": [
    "## D.3 정확도 계산 함수 정의  "
   ]
  },
  {
   "cell_type": "code",
   "execution_count": 17,
   "metadata": {},
   "outputs": [],
   "source": [
    "def eval_accuracy(output, y):\n",
    "    mdiff = np.mean(np.abs((output - y)/y))\n",
    "    return 1 - mdiff"
   ]
  },
  {
   "cell_type": "markdown",
   "metadata": {},
   "source": [
    "## 단층퍼셉트론 메인 함수 실행"
   ]
  },
  {
   "cell_type": "code",
   "execution_count": 18,
   "metadata": {
    "tags": []
   },
   "outputs": [
    {
     "output_type": "stream",
     "name": "stdout",
     "text": "Epoch 1: loss=33.875, accuracy=0.557/0.812\nEpoch 2: loss=8.226, accuracy=0.820/0.814\nEpoch 3: loss=7.582, accuracy=0.812/0.809\nEpoch 4: loss=7.475, accuracy=0.808/0.811\nEpoch 5: loss=7.395, accuracy=0.810/0.809\nEpoch 6: loss=7.328, accuracy=0.808/0.810\nEpoch 7: loss=7.269, accuracy=0.808/0.811\nEpoch 8: loss=7.217, accuracy=0.808/0.812\nEpoch 9: loss=7.175, accuracy=0.810/0.810\nEpoch 10: loss=7.135, accuracy=0.809/0.810\n\nFinal Test: final accuracy = 0.810\n"
    }
   ],
   "source": [
    "abalone_exec()"
   ]
  },
  {
   "cell_type": "markdown",
   "metadata": {},
   "source": [
    "## 파라미터 확인"
   ]
  },
  {
   "cell_type": "code",
   "execution_count": 19,
   "metadata": {
    "tags": []
   },
   "outputs": [
    {
     "output_type": "stream",
     "name": "stdout",
     "text": "[[1.02697603]\n [1.47450981]\n [1.66960135]\n [2.04468668]\n [1.62513525]\n [0.60292627]\n [2.39993815]\n [0.54107313]\n [0.46878034]\n [1.01969382]]\n[4.16894769]\n"
    }
   ],
   "source": [
    "print(weight)\n",
    "print(bias)"
   ]
  },
  {
   "cell_type": "markdown",
   "metadata": {},
   "source": [
    "## 새로운 입력 벡터 X에 대한 예측"
   ]
  },
  {
   "cell_type": "code",
   "execution_count": 20,
   "metadata": {
    "tags": []
   },
   "outputs": [
    {
     "output_type": "stream",
     "name": "stdout",
     "text": "(array([8.65881481]), array([0.  , 1.  , 0.  , 0.44, 0.3 , 0.08, 0.5 , 0.23, 0.11, 0.2 ]))\n"
    }
   ],
   "source": [
    "x = np.array([0,1,0,0.44,0.3,0.08,0.5,0.23,0.11,0.2])\n",
    "output = forward_neuralnet(x)\n",
    "print(output)"
   ]
  },
  {
   "cell_type": "markdown",
   "metadata": {},
   "source": [
    "## 하이퍼퍼라미터 수정하며 실험\n",
    "\n",
    "* LEARNING_RATE = 0.001 -> 0.1\n",
    "* epoch_count = 10 -> 100\n",
    "* mb_size = 10 -> 100"
   ]
  },
  {
   "cell_type": "code",
   "execution_count": 21,
   "metadata": {
    "tags": []
   },
   "outputs": [
    {
     "output_type": "stream",
     "name": "stdout",
     "text": "Epoch 20: loss=5.804, accuracy=0.825/0.831\nEpoch 40: loss=5.259, accuracy=0.834/0.828\nEpoch 60: loss=5.056, accuracy=0.837/0.838\nEpoch 80: loss=4.950, accuracy=0.838/0.840\nEpoch 100: loss=4.910, accuracy=0.840/0.826\n\nFinal Test: final accuracy = 0.826\n"
    }
   ],
   "source": [
    "LEARNING_RATE = 0.1\n",
    "abalone_exec(epoch_count=100,mb_size=100,report=20)"
   ]
  },
  {
   "cell_type": "code",
   "execution_count": null,
   "metadata": {},
   "outputs": [],
   "source": []
  },
  {
   "cell_type": "code",
   "execution_count": null,
   "metadata": {},
   "outputs": [],
   "source": []
  }
 ],
 "metadata": {
  "kernelspec": {
   "display_name": "Python 3",
   "language": "python",
   "name": "python3"
  },
  "language_info": {
   "codemirror_mode": {
    "name": "ipython",
    "version": 3
   },
   "file_extension": ".py",
   "mimetype": "text/x-python",
   "name": "python",
   "nbconvert_exporter": "python",
   "pygments_lexer": "ipython3",
   "version": "3.6.7"
  }
 },
 "nbformat": 4,
 "nbformat_minor": 2
}