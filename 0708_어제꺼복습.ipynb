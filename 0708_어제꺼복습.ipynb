{
 "cells": [
  {
   "cell_type": "markdown",
   "metadata": {},
   "source": [
    "### 어제꺼 복습\n",
    "\n",
    "- python에서 sqlite3 연동하기"
   ]
  },
  {
   "cell_type": "code",
   "execution_count": 1,
   "metadata": {},
   "outputs": [],
   "source": [
    "import sqlite3"
   ]
  },
  {
   "cell_type": "code",
   "execution_count": 5,
   "metadata": {},
   "outputs": [
    {
     "name": "stdout",
     "output_type": "stream",
     "text": [
      "(11, 'Groningen', 'NLD', 'Groningen', 172701)\n",
      "(12, 'Breda', 'NLD', 'Noord-Brabant', 160398)\n",
      "(13, 'Apeldoorn', 'NLD', 'Gelderland', 153491)\n",
      "(14, 'Nijmegen', 'NLD', 'Gelderland', 152463)\n",
      "(15, 'Enschede', 'NLD', 'Overijssel', 149544)\n",
      "(16, 'Haarlem', 'NLD', 'Noord-Holland', 148772)\n",
      "(17, 'Almere', 'NLD', 'Flevoland', 142465)\n",
      "(18, 'Arnhem', 'NLD', 'Gelderland', 138020)\n",
      "(19, 'Zaanstad', 'NLD', 'Noord-Holland', 135621)\n",
      "(20, '´s-Hertogenbosch', 'NLD', 'Noord-Brabant', 129170)\n"
     ]
    }
   ],
   "source": [
    "db_path = r'c:\\Apps\\database\\world.db'\n",
    "\n",
    "conn = sqlite3.connect(db_path)\n",
    "cur = conn.cursor()\n",
    "sql = \"select * from city limit 10 offset 10\"\n",
    "cur.execute(sql)\n",
    "rows = cur.fetchall()\n",
    "for r in rows:\n",
    "    print(r)\n",
    "\n",
    "conn.close()"
   ]
  },
  {
   "cell_type": "markdown",
   "metadata": {},
   "source": [
    "- 상수를 받아서 사용\n",
    "\n",
    "- ? 사용, 튜플 사용"
   ]
  },
  {
   "cell_type": "code",
   "execution_count": 6,
   "metadata": {},
   "outputs": [
    {
     "name": "stdout",
     "output_type": "stream",
     "text": [
      "(11, 'Groningen', 'NLD', 'Groningen', 172701)\n",
      "(12, 'Breda', 'NLD', 'Noord-Brabant', 160398)\n",
      "(13, 'Apeldoorn', 'NLD', 'Gelderland', 153491)\n",
      "(14, 'Nijmegen', 'NLD', 'Gelderland', 152463)\n",
      "(15, 'Enschede', 'NLD', 'Overijssel', 149544)\n",
      "(16, 'Haarlem', 'NLD', 'Noord-Holland', 148772)\n",
      "(17, 'Almere', 'NLD', 'Flevoland', 142465)\n",
      "(18, 'Arnhem', 'NLD', 'Gelderland', 138020)\n",
      "(19, 'Zaanstad', 'NLD', 'Noord-Holland', 135621)\n",
      "(20, '´s-Hertogenbosch', 'NLD', 'Noord-Brabant', 129170)\n"
     ]
    }
   ],
   "source": [
    "db_path = r'c:\\Apps\\database\\world.db'\n",
    "\n",
    "conn = sqlite3.connect(db_path)\n",
    "cur = conn.cursor()\n",
    "sql = \"select * from city limit ? offset ?\"\n",
    "cur.execute(sql, (10, 10))\n",
    "rows = cur.fetchall()\n",
    "for r in rows:\n",
    "    print(r)\n",
    "\n",
    "conn.close()"
   ]
  },
  {
   "cell_type": "markdown",
   "metadata": {},
   "source": [
    "- 함수로 만들기"
   ]
  },
  {
   "cell_type": "code",
   "execution_count": 8,
   "metadata": {},
   "outputs": [
    {
     "name": "stdout",
     "output_type": "stream",
     "text": [
      "(11, 'Groningen', 'NLD', 'Groningen', 172701)\n",
      "(12, 'Breda', 'NLD', 'Noord-Brabant', 160398)\n",
      "(13, 'Apeldoorn', 'NLD', 'Gelderland', 153491)\n",
      "(14, 'Nijmegen', 'NLD', 'Gelderland', 152463)\n",
      "(15, 'Enschede', 'NLD', 'Overijssel', 149544)\n"
     ]
    }
   ],
   "source": [
    "def print_city(count, start_id):\n",
    "    db_path = r'c:\\Apps\\database\\world.db'\n",
    "\n",
    "    conn = sqlite3.connect(db_path)\n",
    "    cur = conn.cursor()\n",
    "    sql = \"select * from city limit ? offset ?\"\n",
    "    cur.execute(sql, (count, start_id))\n",
    "    rows = cur.fetchall()\n",
    "    for r in rows:\n",
    "        print(r)\n",
    "\n",
    "    conn.close()\n",
    "    \n",
    "print_city(5, 10)"
   ]
  },
  {
   "cell_type": "markdown",
   "metadata": {},
   "source": [
    "- ? 대신 딕셔너리 사용"
   ]
  },
  {
   "cell_type": "code",
   "execution_count": 9,
   "metadata": {},
   "outputs": [
    {
     "name": "stdout",
     "output_type": "stream",
     "text": [
      "(11, 'Groningen', 'NLD', 'Groningen', 172701)\n",
      "(12, 'Breda', 'NLD', 'Noord-Brabant', 160398)\n",
      "(13, 'Apeldoorn', 'NLD', 'Gelderland', 153491)\n",
      "(14, 'Nijmegen', 'NLD', 'Gelderland', 152463)\n",
      "(15, 'Enschede', 'NLD', 'Overijssel', 149544)\n"
     ]
    }
   ],
   "source": [
    "def print_city(count, start_id):\n",
    "    db_path = r'c:\\Apps\\database\\world.db'\n",
    "\n",
    "    conn = sqlite3.connect(db_path)\n",
    "    cur = conn.cursor()\n",
    "    sql = \"select * from city limit :count offset :start_id\"\n",
    "    cur.execute(sql, {'count': count, 'start_id': start_id})\n",
    "    rows = cur.fetchall()\n",
    "    for r in rows:\n",
    "        print(r)\n",
    "\n",
    "    conn.close()\n",
    "    \n",
    "print_city(5, 10)"
   ]
  },
  {
   "cell_type": "code",
   "execution_count": null,
   "metadata": {},
   "outputs": [],
   "source": []
  }
 ],
 "metadata": {
  "kernelspec": {
   "display_name": "Python 3",
   "language": "python",
   "name": "python3"
  },
  "language_info": {
   "codemirror_mode": {
    "name": "ipython",
    "version": 3
   },
   "file_extension": ".py",
   "mimetype": "text/x-python",
   "name": "python",
   "nbconvert_exporter": "python",
   "pygments_lexer": "ipython3",
   "version": "3.7.6"
  }
 },
 "nbformat": 4,
 "nbformat_minor": 4
}
