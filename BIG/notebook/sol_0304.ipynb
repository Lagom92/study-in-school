{
 "cells": [
  {
   "cell_type": "markdown",
   "metadata": {},
   "source": [
    "### 모범답안"
   ]
  },
  {
   "cell_type": "code",
   "execution_count": null,
   "metadata": {},
   "outputs": [],
   "source": [
    "import scipy.stats as st\n",
    "import numpy as np"
   ]
  },
  {
   "cell_type": "markdown",
   "metadata": {},
   "source": [
    "#### 어느 자동차 생산 공정에서는 두 개의 조각을 용접해서 붙인다고 한다.\n",
    "#### 첫 번째 조각은 길이가 12cm이며 오차가 0.5mm라고 한다.\n",
    "#### 두 번째 조각은 길이가 20cm이며 오차가 0.5mm라고 한다.\n",
    "#### 또한 용접해서 붙이는 과정에서 0.5mm정도의 오차가 발생한다고 한다.\n",
    "#### 조립된 상태에서 오차가 2mm 이상되면 reject 된다고 한다. Reject 될 확률은?\n"
   ]
  },
  {
   "cell_type": "code",
   "execution_count": null,
   "metadata": {},
   "outputs": [],
   "source": [
    "mu1 = 120\n",
    "sigma1 = 0.5\n",
    "\n",
    "mu2 = 200\n",
    "sigma2 = 0.5\n",
    "\n",
    "mu3 = 0\n",
    "sigma3 = 0.5"
   ]
  },
  {
   "cell_type": "code",
   "execution_count": null,
   "metadata": {},
   "outputs": [],
   "source": [
    "mu_tot = mu1 + mu2 + mu3\n",
    "sigma_tot = np.sqrt(sigma1**2 + sigma2**2 + sigma3**2)"
   ]
  },
  {
   "cell_type": "code",
   "execution_count": null,
   "metadata": {},
   "outputs": [],
   "source": [
    "# Reject 확률은.\n",
    "np.round(2*st.norm.cdf(mu_tot - 2, loc=mu_tot, scale=sigma_tot), 3)"
   ]
  },
  {
   "cell_type": "code",
   "execution_count": null,
   "metadata": {},
   "outputs": [],
   "source": []
  }
 ],
 "metadata": {
  "kernelspec": {
   "display_name": "Python 3",
   "language": "python",
   "name": "python3"
  },
  "language_info": {
   "codemirror_mode": {
    "name": "ipython",
    "version": 3
   },
   "file_extension": ".py",
   "mimetype": "text/x-python",
   "name": "python",
   "nbconvert_exporter": "python",
   "pygments_lexer": "ipython3",
   "version": "3.7.6"
  }
 },
 "nbformat": 4,
 "nbformat_minor": 2
}
