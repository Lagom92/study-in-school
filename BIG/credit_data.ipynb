{
 "metadata": {
  "language_info": {
   "codemirror_mode": {
    "name": "ipython",
    "version": 3
   },
   "file_extension": ".py",
   "mimetype": "text/x-python",
   "name": "python",
   "nbconvert_exporter": "python",
   "pygments_lexer": "ipython3",
   "version": 3
  },
  "orig_nbformat": 2,
  "kernelspec": {
   "name": "python_defaultSpec_1597146462500",
   "display_name": "Python 3.7.7 64-bit ('study': conda)"
  }
 },
 "nbformat": 4,
 "nbformat_minor": 2,
 "cells": [
  {
   "cell_type": "markdown",
   "metadata": {},
   "source": [
    "# 신용 카드 거래 데이터 시각화\n",
    "\n",
    "\n",
    "https://www.dacon.io/competitions/official/42473/overview/"
   ]
  },
  {
   "cell_type": "code",
   "execution_count": 1,
   "metadata": {},
   "outputs": [],
   "source": [
    "import pandas as pd\n",
    "import matplotlib.pyplot as plt\n",
    "\n",
    "# 시각화에서 사용할 한글 폰트 설정\n",
    "from matplotlib import font_manager, rc\n",
    "\n",
    "font_name = font_manager.FontProperties(fname=\"c:/Windows/Fonts/malgun.ttf\").get_name()\n",
    "rc('font', family=font_name)"
   ]
  },
  {
   "cell_type": "code",
   "execution_count": 2,
   "metadata": {},
   "outputs": [],
   "source": [
    "credit = pd.read_csv('./data/data_credit.csv')"
   ]
  },
  {
   "cell_type": "code",
   "execution_count": 3,
   "metadata": {},
   "outputs": [
    {
     "output_type": "execute_result",
     "data": {
      "text/plain": "   store_id        date      time     card_id  amount  installments  \\\n0         0  2016-12-14  18:05:31  d297bba73f       5           NaN   \n1         0  2016-12-14  18:05:54  d297bba73f      -5           NaN   \n2         0  2016-12-19  12:42:31  0880849c05     144           NaN   \n3         0  2016-12-19  12:48:08  8b4f9e0e95      66           NaN   \n4         0  2016-12-19  13:31:08  7ad237eed0      24           NaN   \n\n   days_of_week  holyday  \n0             2        0  \n1             2        0  \n2             0        0  \n3             0        0  \n4             0        0  ",
      "text/html": "<div>\n<style scoped>\n    .dataframe tbody tr th:only-of-type {\n        vertical-align: middle;\n    }\n\n    .dataframe tbody tr th {\n        vertical-align: top;\n    }\n\n    .dataframe thead th {\n        text-align: right;\n    }\n</style>\n<table border=\"1\" class=\"dataframe\">\n  <thead>\n    <tr style=\"text-align: right;\">\n      <th></th>\n      <th>store_id</th>\n      <th>date</th>\n      <th>time</th>\n      <th>card_id</th>\n      <th>amount</th>\n      <th>installments</th>\n      <th>days_of_week</th>\n      <th>holyday</th>\n    </tr>\n  </thead>\n  <tbody>\n    <tr>\n      <th>0</th>\n      <td>0</td>\n      <td>2016-12-14</td>\n      <td>18:05:31</td>\n      <td>d297bba73f</td>\n      <td>5</td>\n      <td>NaN</td>\n      <td>2</td>\n      <td>0</td>\n    </tr>\n    <tr>\n      <th>1</th>\n      <td>0</td>\n      <td>2016-12-14</td>\n      <td>18:05:54</td>\n      <td>d297bba73f</td>\n      <td>-5</td>\n      <td>NaN</td>\n      <td>2</td>\n      <td>0</td>\n    </tr>\n    <tr>\n      <th>2</th>\n      <td>0</td>\n      <td>2016-12-19</td>\n      <td>12:42:31</td>\n      <td>0880849c05</td>\n      <td>144</td>\n      <td>NaN</td>\n      <td>0</td>\n      <td>0</td>\n    </tr>\n    <tr>\n      <th>3</th>\n      <td>0</td>\n      <td>2016-12-19</td>\n      <td>12:48:08</td>\n      <td>8b4f9e0e95</td>\n      <td>66</td>\n      <td>NaN</td>\n      <td>0</td>\n      <td>0</td>\n    </tr>\n    <tr>\n      <th>4</th>\n      <td>0</td>\n      <td>2016-12-19</td>\n      <td>13:31:08</td>\n      <td>7ad237eed0</td>\n      <td>24</td>\n      <td>NaN</td>\n      <td>0</td>\n      <td>0</td>\n    </tr>\n  </tbody>\n</table>\n</div>"
     },
     "metadata": {},
     "execution_count": 3
    }
   ],
   "source": [
    "credit.head()"
   ]
  },
  {
   "cell_type": "code",
   "execution_count": 4,
   "metadata": {
    "tags": []
   },
   "outputs": [
    {
     "output_type": "stream",
     "name": "stdout",
     "text": "<class 'pandas.core.frame.DataFrame'>\nRangeIndex: 3362796 entries, 0 to 3362795\nData columns (total 8 columns):\n #   Column        Dtype  \n---  ------        -----  \n 0   store_id      int64  \n 1   date          object \n 2   time          object \n 3   card_id       object \n 4   amount        int64  \n 5   installments  float64\n 6   days_of_week  int64  \n 7   holyday       int64  \ndtypes: float64(1), int64(4), object(3)\nmemory usage: 205.2+ MB\n"
    }
   ],
   "source": [
    "credit.info()"
   ]
  },
  {
   "cell_type": "markdown",
   "metadata": {},
   "source": [
    "### 컬럼 정보\n",
    "\n",
    "store_id: 각 파일에서의 상점 고유 번호\n",
    "\n",
    "date: 거래일자\n",
    "\n",
    "time: 거래 시간\n",
    "\n",
    "card_id: 카드 번호의 hash 값\n",
    "\n",
    "amount: 매출액, 0보다 작은 음수는 거래 취소(환불)\n",
    "\n",
    "installments: 할부개월수, 일시불은 빈 문자열\n",
    "\n",
    "days_of_week: 요일, 월요일이 0, 일요일은 6\n",
    "\n",
    "holyday: 1이면 공휴일, 0이면 공휴일 아님"
   ]
  },
  {
   "cell_type": "markdown",
   "metadata": {},
   "source": [
    "# ?\n",
    "\n",
    "- 요일별 카드 사용 횟수 \n",
    "    \n",
    "    - 언제 가장 많이 카드를 사용 할까?(매출액)\n",
    "\n",
    "    - 언제 가장 많이 카드로 환불을 할까?"
   ]
  },
  {
   "cell_type": "code",
   "execution_count": 5,
   "metadata": {},
   "outputs": [
    {
     "output_type": "execute_result",
     "data": {
      "text/plain": "store_id              0\ndate                  0\ntime                  0\ncard_id               0\namount                0\ninstallments    3345936\ndays_of_week          0\nholyday               0\ndtype: int64"
     },
     "metadata": {},
     "execution_count": 5
    }
   ],
   "source": [
    "# 결측치 확인\n",
    "credit.isnull().sum()"
   ]
  },
  {
   "cell_type": "code",
   "execution_count": 6,
   "metadata": {},
   "outputs": [
    {
     "output_type": "execute_result",
     "data": {
      "text/plain": "2.0      3431\n3.0     10686\n4.0       209\n5.0      1220\n6.0       647\n7.0        28\n8.0        32\n9.0        25\n10.0      252\n12.0      206\n15.0        2\n18.0       11\n20.0        6\n22.0        4\n24.0       96\n36.0        5\nName: installments, dtype: int64"
     },
     "metadata": {},
     "execution_count": 6
    }
   ],
   "source": [
    "# 결측치 이외의 값들 확인\n",
    "credit['installments'].value_counts().sort_index()"
   ]
  },
  {
   "cell_type": "code",
   "execution_count": 7,
   "metadata": {},
   "outputs": [],
   "source": [
    "# 결측치를 0.0으로 채우기\n",
    "credit = credit.fillna(0.0)"
   ]
  },
  {
   "cell_type": "code",
   "execution_count": 8,
   "metadata": {},
   "outputs": [
    {
     "output_type": "execute_result",
     "data": {
      "text/plain": "   store_id        date      time     card_id  amount  installments  \\\n0         0  2016-12-14  18:05:31  d297bba73f       5           0.0   \n1         0  2016-12-14  18:05:54  d297bba73f      -5           0.0   \n2         0  2016-12-19  12:42:31  0880849c05     144           0.0   \n3         0  2016-12-19  12:48:08  8b4f9e0e95      66           0.0   \n4         0  2016-12-19  13:31:08  7ad237eed0      24           0.0   \n\n   days_of_week  holyday  \n0             2        0  \n1             2        0  \n2             0        0  \n3             0        0  \n4             0        0  ",
      "text/html": "<div>\n<style scoped>\n    .dataframe tbody tr th:only-of-type {\n        vertical-align: middle;\n    }\n\n    .dataframe tbody tr th {\n        vertical-align: top;\n    }\n\n    .dataframe thead th {\n        text-align: right;\n    }\n</style>\n<table border=\"1\" class=\"dataframe\">\n  <thead>\n    <tr style=\"text-align: right;\">\n      <th></th>\n      <th>store_id</th>\n      <th>date</th>\n      <th>time</th>\n      <th>card_id</th>\n      <th>amount</th>\n      <th>installments</th>\n      <th>days_of_week</th>\n      <th>holyday</th>\n    </tr>\n  </thead>\n  <tbody>\n    <tr>\n      <th>0</th>\n      <td>0</td>\n      <td>2016-12-14</td>\n      <td>18:05:31</td>\n      <td>d297bba73f</td>\n      <td>5</td>\n      <td>0.0</td>\n      <td>2</td>\n      <td>0</td>\n    </tr>\n    <tr>\n      <th>1</th>\n      <td>0</td>\n      <td>2016-12-14</td>\n      <td>18:05:54</td>\n      <td>d297bba73f</td>\n      <td>-5</td>\n      <td>0.0</td>\n      <td>2</td>\n      <td>0</td>\n    </tr>\n    <tr>\n      <th>2</th>\n      <td>0</td>\n      <td>2016-12-19</td>\n      <td>12:42:31</td>\n      <td>0880849c05</td>\n      <td>144</td>\n      <td>0.0</td>\n      <td>0</td>\n      <td>0</td>\n    </tr>\n    <tr>\n      <th>3</th>\n      <td>0</td>\n      <td>2016-12-19</td>\n      <td>12:48:08</td>\n      <td>8b4f9e0e95</td>\n      <td>66</td>\n      <td>0.0</td>\n      <td>0</td>\n      <td>0</td>\n    </tr>\n    <tr>\n      <th>4</th>\n      <td>0</td>\n      <td>2016-12-19</td>\n      <td>13:31:08</td>\n      <td>7ad237eed0</td>\n      <td>24</td>\n      <td>0.0</td>\n      <td>0</td>\n      <td>0</td>\n    </tr>\n  </tbody>\n</table>\n</div>"
     },
     "metadata": {},
     "execution_count": 8
    }
   ],
   "source": [
    "# 확인\n",
    "credit.head()"
   ]
  },
  {
   "cell_type": "code",
   "execution_count": 10,
   "metadata": {},
   "outputs": [
    {
     "output_type": "error",
     "ename": "ValueError",
     "evalue": "Boolean array expected for the condition, not object",
     "traceback": [
      "\u001b[1;31m---------------------------------------------------------------------------\u001b[0m",
      "\u001b[1;31mValueError\u001b[0m                                Traceback (most recent call last)",
      "\u001b[1;32m<ipython-input-10-2eb78d0a1647>\u001b[0m in \u001b[0;36m<module>\u001b[1;34m\u001b[0m\n\u001b[1;32m----> 1\u001b[1;33m \u001b[0mcredit\u001b[0m\u001b[1;33m[\u001b[0m\u001b[0mcredit\u001b[0m\u001b[1;33m.\u001b[0m\u001b[0mwhere\u001b[0m\u001b[1;33m(\u001b[0m\u001b[0mcredit\u001b[0m\u001b[1;33m[\u001b[0m\u001b[1;34m'amount'\u001b[0m\u001b[1;33m]\u001b[0m \u001b[1;33m<\u001b[0m \u001b[1;36m0\u001b[0m\u001b[1;33m)\u001b[0m\u001b[1;33m]\u001b[0m\u001b[1;33m\u001b[0m\u001b[1;33m\u001b[0m\u001b[0m\n\u001b[0m",
      "\u001b[1;32m~\\anaconda3\\envs\\study\\lib\\site-packages\\pandas\\core\\frame.py\u001b[0m in \u001b[0;36m__getitem__\u001b[1;34m(self, key)\u001b[0m\n\u001b[0;32m   2785\u001b[0m         \u001b[1;31m# Do we have a (boolean) DataFrame?\u001b[0m\u001b[1;33m\u001b[0m\u001b[1;33m\u001b[0m\u001b[1;33m\u001b[0m\u001b[0m\n\u001b[0;32m   2786\u001b[0m         \u001b[1;32mif\u001b[0m \u001b[0misinstance\u001b[0m\u001b[1;33m(\u001b[0m\u001b[0mkey\u001b[0m\u001b[1;33m,\u001b[0m \u001b[0mDataFrame\u001b[0m\u001b[1;33m)\u001b[0m\u001b[1;33m:\u001b[0m\u001b[1;33m\u001b[0m\u001b[1;33m\u001b[0m\u001b[0m\n\u001b[1;32m-> 2787\u001b[1;33m             \u001b[1;32mreturn\u001b[0m \u001b[0mself\u001b[0m\u001b[1;33m.\u001b[0m\u001b[0mwhere\u001b[0m\u001b[1;33m(\u001b[0m\u001b[0mkey\u001b[0m\u001b[1;33m)\u001b[0m\u001b[1;33m\u001b[0m\u001b[1;33m\u001b[0m\u001b[0m\n\u001b[0m\u001b[0;32m   2788\u001b[0m \u001b[1;33m\u001b[0m\u001b[0m\n\u001b[0;32m   2789\u001b[0m         \u001b[1;31m# Do we have a (boolean) 1d indexer?\u001b[0m\u001b[1;33m\u001b[0m\u001b[1;33m\u001b[0m\u001b[1;33m\u001b[0m\u001b[0m\n",
      "\u001b[1;32m~\\anaconda3\\envs\\study\\lib\\site-packages\\pandas\\core\\generic.py\u001b[0m in \u001b[0;36mwhere\u001b[1;34m(self, cond, other, inplace, axis, level, errors, try_cast)\u001b[0m\n\u001b[0;32m   8917\u001b[0m         \u001b[0mother\u001b[0m \u001b[1;33m=\u001b[0m \u001b[0mcom\u001b[0m\u001b[1;33m.\u001b[0m\u001b[0mapply_if_callable\u001b[0m\u001b[1;33m(\u001b[0m\u001b[0mother\u001b[0m\u001b[1;33m,\u001b[0m \u001b[0mself\u001b[0m\u001b[1;33m)\u001b[0m\u001b[1;33m\u001b[0m\u001b[1;33m\u001b[0m\u001b[0m\n\u001b[0;32m   8918\u001b[0m         return self._where(\n\u001b[1;32m-> 8919\u001b[1;33m             \u001b[0mcond\u001b[0m\u001b[1;33m,\u001b[0m \u001b[0mother\u001b[0m\u001b[1;33m,\u001b[0m \u001b[0minplace\u001b[0m\u001b[1;33m,\u001b[0m \u001b[0maxis\u001b[0m\u001b[1;33m,\u001b[0m \u001b[0mlevel\u001b[0m\u001b[1;33m,\u001b[0m \u001b[0merrors\u001b[0m\u001b[1;33m=\u001b[0m\u001b[0merrors\u001b[0m\u001b[1;33m,\u001b[0m \u001b[0mtry_cast\u001b[0m\u001b[1;33m=\u001b[0m\u001b[0mtry_cast\u001b[0m\u001b[1;33m\u001b[0m\u001b[1;33m\u001b[0m\u001b[0m\n\u001b[0m\u001b[0;32m   8920\u001b[0m         )\n\u001b[0;32m   8921\u001b[0m \u001b[1;33m\u001b[0m\u001b[0m\n",
      "\u001b[1;32m~\\anaconda3\\envs\\study\\lib\\site-packages\\pandas\\core\\generic.py\u001b[0m in \u001b[0;36m_where\u001b[1;34m(self, cond, other, inplace, axis, level, errors, try_cast)\u001b[0m\n\u001b[0;32m   8675\u001b[0m             \u001b[1;32mfor\u001b[0m \u001b[0mdt\u001b[0m \u001b[1;32min\u001b[0m \u001b[0mcond\u001b[0m\u001b[1;33m.\u001b[0m\u001b[0mdtypes\u001b[0m\u001b[1;33m:\u001b[0m\u001b[1;33m\u001b[0m\u001b[1;33m\u001b[0m\u001b[0m\n\u001b[0;32m   8676\u001b[0m                 \u001b[1;32mif\u001b[0m \u001b[1;32mnot\u001b[0m \u001b[0mis_bool_dtype\u001b[0m\u001b[1;33m(\u001b[0m\u001b[0mdt\u001b[0m\u001b[1;33m)\u001b[0m\u001b[1;33m:\u001b[0m\u001b[1;33m\u001b[0m\u001b[1;33m\u001b[0m\u001b[0m\n\u001b[1;32m-> 8677\u001b[1;33m                     \u001b[1;32mraise\u001b[0m \u001b[0mValueError\u001b[0m\u001b[1;33m(\u001b[0m\u001b[0mmsg\u001b[0m\u001b[1;33m.\u001b[0m\u001b[0mformat\u001b[0m\u001b[1;33m(\u001b[0m\u001b[0mdtype\u001b[0m\u001b[1;33m=\u001b[0m\u001b[0mdt\u001b[0m\u001b[1;33m)\u001b[0m\u001b[1;33m)\u001b[0m\u001b[1;33m\u001b[0m\u001b[1;33m\u001b[0m\u001b[0m\n\u001b[0m\u001b[0;32m   8678\u001b[0m \u001b[1;33m\u001b[0m\u001b[0m\n\u001b[0;32m   8679\u001b[0m         \u001b[0mcond\u001b[0m \u001b[1;33m=\u001b[0m \u001b[1;33m-\u001b[0m\u001b[0mcond\u001b[0m \u001b[1;32mif\u001b[0m \u001b[0minplace\u001b[0m \u001b[1;32melse\u001b[0m \u001b[0mcond\u001b[0m\u001b[1;33m\u001b[0m\u001b[1;33m\u001b[0m\u001b[0m\n",
      "\u001b[1;31mValueError\u001b[0m: Boolean array expected for the condition, not object"
     ]
    }
   ],
   "source": [
    "credit[credit.where(credit['amount'] < 0)]"
   ]
  },
  {
   "cell_type": "code",
   "execution_count": null,
   "metadata": {},
   "outputs": [],
   "source": []
  },
  {
   "cell_type": "code",
   "execution_count": 9,
   "metadata": {},
   "outputs": [
    {
     "output_type": "execute_result",
     "data": {
      "text/plain": "월요일    444.847\n화요일    467.276\n수요일    471.573\n목요일    472.820\n금요일    511.031\n토요일    533.093\n일요일    462.156\nName: days_of_week, dtype: float64"
     },
     "metadata": {},
     "execution_count": 9
    }
   ],
   "source": [
    "sr_day = credit.days_of_week.value_counts().sort_index()/1000\n",
    "sr_day.index = ['월요일', '화요일', '수요일', '목요일', '금요일', '토요일', '일요일']\n",
    "sr_day"
   ]
  },
  {
   "cell_type": "code",
   "execution_count": 10,
   "metadata": {},
   "outputs": [
    {
     "output_type": "display_data",
     "data": {
      "text/plain": "<Figure size 432x288 with 1 Axes>",
      "image/svg+xml": "<?xml version=\"1.0\" encoding=\"utf-8\" standalone=\"no\"?>\r\n<!DOCTYPE svg PUBLIC \"-//W3C//DTD SVG 1.1//EN\"\r\n  \"http://www.w3.org/Graphics/SVG/1.1/DTD/svg11.dtd\">\r\n<!-- Created with matplotlib (https://matplotlib.org/) -->\r\n<svg height=\"252.592344pt\" version=\"1.1\" viewBox=\"0 0 386.973437 252.592344\" width=\"386.973437pt\" xmlns=\"http://www.w3.org/2000/svg\" xmlns:xlink=\"http://www.w3.org/1999/xlink\">\r\n <defs>\r\n  <style type=\"text/css\">\r\n*{stroke-linecap:butt;stroke-linejoin:round;}\r\n  </style>\r\n </defs>\r\n <g id=\"figure_1\">\r\n  <g id=\"patch_1\">\r\n   <path d=\"M 0 252.592344 \r\nL 386.973437 252.592344 \r\nL 386.973437 0 \r\nL 0 0 \r\nz\r\n\" style=\"fill:none;\"/>\r\n  </g>\r\n  <g id=\"axes_1\">\r\n   <g id=\"patch_2\">\r\n    <path d=\"M 44.973438 228.436094 \r\nL 379.773438 228.436094 \r\nL 379.773438 10.996094 \r\nL 44.973438 10.996094 \r\nz\r\n\" style=\"fill:#ffffff;\"/>\r\n   </g>\r\n   <g id=\"patch_3\">\r\n    <path clip-path=\"url(#p2654aad047)\" d=\"M 56.93058 663.316094 \r\nL 80.844866 663.316094 \r\nL 80.844866 179.678435 \r\nL 56.93058 179.678435 \r\nz\r\n\" style=\"fill:#1f77b4;\"/>\r\n   </g>\r\n   <g id=\"patch_4\">\r\n    <path clip-path=\"url(#p2654aad047)\" d=\"M 104.759152 663.316094 \r\nL 128.673438 663.316094 \r\nL 128.673438 155.293627 \r\nL 104.759152 155.293627 \r\nz\r\n\" style=\"fill:#1f77b4;\"/>\r\n   </g>\r\n   <g id=\"patch_5\">\r\n    <path clip-path=\"url(#p2654aad047)\" d=\"M 152.587723 663.316094 \r\nL 176.502009 663.316094 \r\nL 176.502009 150.621928 \r\nL 152.587723 150.621928 \r\nz\r\n\" style=\"fill:#1f77b4;\"/>\r\n   </g>\r\n   <g id=\"patch_6\">\r\n    <path clip-path=\"url(#p2654aad047)\" d=\"M 200.416295 663.316094 \r\nL 224.33058 663.316094 \r\nL 224.33058 149.26619 \r\nL 200.416295 149.26619 \r\nz\r\n\" style=\"fill:#1f77b4;\"/>\r\n   </g>\r\n   <g id=\"patch_7\">\r\n    <path clip-path=\"url(#p2654aad047)\" d=\"M 248.244866 663.316094 \r\nL 272.159152 663.316094 \r\nL 272.159152 107.723191 \r\nL 248.244866 107.723191 \r\nz\r\n\" style=\"fill:#1f77b4;\"/>\r\n   </g>\r\n   <g id=\"patch_8\">\r\n    <path clip-path=\"url(#p2654aad047)\" d=\"M 296.073438 663.316094 \r\nL 319.987723 663.316094 \r\nL 319.987723 83.737384 \r\nL 296.073438 83.737384 \r\nz\r\n\" style=\"fill:#1f77b4;\"/>\r\n   </g>\r\n   <g id=\"patch_9\">\r\n    <path clip-path=\"url(#p2654aad047)\" d=\"M 343.902009 663.316094 \r\nL 367.816295 663.316094 \r\nL 367.816295 160.860091 \r\nL 343.902009 160.860091 \r\nz\r\n\" style=\"fill:#1f77b4;\"/>\r\n   </g>\r\n   <g id=\"matplotlib.axis_1\">\r\n    <g id=\"xtick_1\">\r\n     <g id=\"line2d_1\">\r\n      <defs>\r\n       <path d=\"M 0 0 \r\nL 0 3.5 \r\n\" id=\"m38511aaee6\" style=\"stroke:#000000;stroke-width:0.8;\"/>\r\n      </defs>\r\n      <g>\r\n       <use style=\"stroke:#000000;stroke-width:0.8;\" x=\"68.887723\" xlink:href=\"#m38511aaee6\" y=\"228.436094\"/>\r\n      </g>\r\n     </g>\r\n     <g id=\"text_1\">\r\n      <!-- 월요일 -->\r\n      <defs>\r\n       <path d=\"M 77.875 29.5 \r\nL 77.875 33.203125 \r\nL 57.90625 33.203125 \r\nL 57.90625 39.203125 \r\nL 77.875 39.203125 \r\nL 77.875 85.40625 \r\nL 85.203125 85.40625 \r\nL 85.203125 29.5 \r\nz\r\nM 40.484375 54.890625 \r\nQ 29.59375 54.890625 23.296875 58.890625 \r\nQ 17 62.890625 17 69.921875 \r\nQ 17 76.953125 23.34375 80.921875 \r\nQ 29.6875 84.90625 40.484375 84.90625 \r\nQ 51.265625 84.90625 57.640625 80.953125 \r\nQ 64.015625 77 64.015625 69.921875 \r\nQ 64.015625 62.796875 57.6875 58.84375 \r\nQ 51.375 54.890625 40.484375 54.890625 \r\nz\r\nM 40.484375 79 \r\nQ 33.015625 79 28.65625 76.53125 \r\nQ 24.3125 74.078125 24.3125 69.921875 \r\nQ 24.3125 65.71875 28.6875 63.25 \r\nQ 33.0625 60.796875 40.484375 60.796875 \r\nQ 47.953125 60.796875 52.359375 63.234375 \r\nQ 56.78125 65.671875 56.78125 69.921875 \r\nQ 56.78125 74.078125 52.390625 76.53125 \r\nQ 48 79 40.484375 79 \r\nz\r\nM 70.703125 44.828125 \r\nQ 52.203125 43.609375 44.09375 43.5 \r\nL 44.09375 29.890625 \r\nL 36.921875 29.890625 \r\nL 36.921875 43.21875 \r\nL 10.203125 42.28125 \r\nL 9.078125 48.78125 \r\nQ 30.859375 48.78125 70.21875 50.875 \r\nz\r\nM 24.515625 -6.984375 \r\nL 24.515625 12.59375 \r\nL 78.078125 12.59375 \r\nL 78.078125 19.1875 \r\nL 24.515625 19.1875 \r\nL 24.515625 25.59375 \r\nL 85.296875 25.59375 \r\nL 85.296875 6.5 \r\nL 31.6875 6.5 \r\nL 31.6875 -0.59375 \r\nL 87.796875 -0.59375 \r\nL 87.796875 -6.984375 \r\nz\r\n\" id=\"MalgunGothic-50900\"/>\r\n       <path d=\"M 6.296875 6.109375 \r\nL 6.296875 12.59375 \r\nL 28.90625 12.59375 \r\nL 28.90625 36.625 \r\nQ 18.21875 42.78125 18.21875 55.078125 \r\nQ 18.21875 66.15625 26.984375 72.28125 \r\nQ 35.75 78.421875 50 78.421875 \r\nQ 64.3125 78.421875 73 72.28125 \r\nQ 81.6875 66.15625 81.6875 55.078125 \r\nQ 81.6875 42.78125 71.09375 36.625 \r\nL 71.09375 12.59375 \r\nL 93.703125 12.59375 \r\nL 93.703125 6.109375 \r\nz\r\nM 25.78125 55.078125 \r\nQ 25.78125 47.21875 32.4375 42.75 \r\nQ 39.109375 38.28125 50 38.28125 \r\nQ 60.890625 38.28125 67.5 42.765625 \r\nQ 74.125 47.265625 74.125 55.078125 \r\nQ 74.125 62.9375 67.453125 67.46875 \r\nQ 60.796875 72.015625 50 72.015625 \r\nQ 39.15625 72.015625 32.46875 67.46875 \r\nQ 25.78125 62.9375 25.78125 55.078125 \r\nz\r\nM 36.1875 33.59375 \r\nL 36.1875 12.59375 \r\nL 63.8125 12.59375 \r\nL 63.8125 33.59375 \r\nQ 57.953125 31.78125 50 31.78125 \r\nQ 42.71875 31.78125 36.1875 33.59375 \r\nz\r\n\" id=\"MalgunGothic-50836\"/>\r\n       <path d=\"M 77.296875 36.921875 \r\nL 77.296875 85.40625 \r\nL 84.71875 85.40625 \r\nL 84.71875 36.921875 \r\nz\r\nM 37.796875 40.28125 \r\nQ 27.15625 40.28125 20.53125 46.40625 \r\nQ 13.921875 52.546875 13.921875 62.015625 \r\nQ 13.921875 71.4375 20.53125 77.515625 \r\nQ 27.15625 83.59375 37.796875 83.59375 \r\nQ 48.390625 83.59375 55.046875 77.484375 \r\nQ 61.71875 71.390625 61.71875 62.015625 \r\nQ 61.71875 52.59375 55.03125 46.4375 \r\nQ 48.34375 40.28125 37.796875 40.28125 \r\nz\r\nM 37.796875 77.296875 \r\nQ 30.171875 77.296875 25.671875 73.125 \r\nQ 21.1875 68.953125 21.1875 62.015625 \r\nQ 21.1875 55.03125 25.671875 50.75 \r\nQ 30.171875 46.484375 37.796875 46.484375 \r\nQ 45.40625 46.484375 49.890625 50.75 \r\nQ 54.390625 55.03125 54.390625 62.015625 \r\nQ 54.390625 68.953125 49.890625 73.125 \r\nQ 45.40625 77.296875 37.796875 77.296875 \r\nz\r\nM 26.609375 -6.59375 \r\nL 26.609375 16.21875 \r\nL 77.484375 16.21875 \r\nL 77.484375 25.203125 \r\nL 26.609375 25.203125 \r\nL 26.609375 31.6875 \r\nL 84.71875 31.6875 \r\nL 84.71875 9.90625 \r\nL 33.796875 9.90625 \r\nL 33.796875 -0.09375 \r\nL 87.3125 -0.09375 \r\nL 87.3125 -6.59375 \r\nz\r\n\" id=\"MalgunGothic-51068\"/>\r\n      </defs>\r\n      <g transform=\"translate(53.887723 243.028281)scale(0.1 -0.1)\">\r\n       <use xlink:href=\"#MalgunGothic-50900\"/>\r\n       <use x=\"100\" xlink:href=\"#MalgunGothic-50836\"/>\r\n       <use x=\"200\" xlink:href=\"#MalgunGothic-51068\"/>\r\n      </g>\r\n     </g>\r\n    </g>\r\n    <g id=\"xtick_2\">\r\n     <g id=\"line2d_2\">\r\n      <g>\r\n       <use style=\"stroke:#000000;stroke-width:0.8;\" x=\"116.716295\" xlink:href=\"#m38511aaee6\" y=\"228.436094\"/>\r\n      </g>\r\n     </g>\r\n     <g id=\"text_2\">\r\n      <!-- 화요일 -->\r\n      <defs>\r\n       <path d=\"M 81.6875 36.921875 \r\nL 81.6875 -8.796875 \r\nL 74.421875 -8.796875 \r\nL 74.421875 85.40625 \r\nL 81.6875 85.40625 \r\nL 81.6875 43.40625 \r\nL 96.1875 43.40625 \r\nL 96.1875 36.921875 \r\nz\r\nM 33.296875 85.015625 \r\nL 40.484375 85.015625 \r\nL 40.484375 72.703125 \r\nL 64.984375 72.703125 \r\nL 64.984375 66.21875 \r\nL 8.6875 66.21875 \r\nL 8.6875 72.703125 \r\nL 33.296875 72.703125 \r\nz\r\nM 40.484375 27.203125 \r\nL 40.484375 13.8125 \r\nQ 57.625 14.0625 68.890625 14.796875 \r\nL 69.390625 8.5 \r\nQ 43.609375 6.984375 5.609375 6.984375 \r\nL 4.890625 13.375 \r\nQ 17.828125 13.375 33.203125 13.71875 \r\nL 33.203125 27.09375 \r\nQ 23.53125 27.984375 18.359375 32.6875 \r\nQ 13.1875 37.40625 13.1875 44.1875 \r\nQ 13.1875 51.8125 19.53125 56.671875 \r\nQ 25.875 61.53125 36.921875 61.53125 \r\nQ 47.796875 61.53125 54.140625 56.765625 \r\nQ 60.5 52 60.5 44.671875 \r\nQ 60.5 37.5 55.25 32.78125 \r\nQ 50 28.078125 40.484375 27.203125 \r\nz\r\nM 36.921875 55.328125 \r\nQ 29.296875 55.328125 24.90625 52.21875 \r\nQ 20.515625 49.125 20.515625 44.1875 \r\nQ 20.515625 39.265625 24.875 36.234375 \r\nQ 29.25 33.203125 36.921875 33.203125 \r\nQ 44.484375 33.203125 48.84375 36.25 \r\nQ 53.21875 39.3125 53.21875 44.1875 \r\nQ 53.21875 49.125 48.828125 52.21875 \r\nQ 44.4375 55.328125 36.921875 55.328125 \r\nz\r\n\" id=\"MalgunGothic-54868\"/>\r\n      </defs>\r\n      <g transform=\"translate(101.716295 243.028281)scale(0.1 -0.1)\">\r\n       <use xlink:href=\"#MalgunGothic-54868\"/>\r\n       <use x=\"100\" xlink:href=\"#MalgunGothic-50836\"/>\r\n       <use x=\"200\" xlink:href=\"#MalgunGothic-51068\"/>\r\n      </g>\r\n     </g>\r\n    </g>\r\n    <g id=\"xtick_3\">\r\n     <g id=\"line2d_3\">\r\n      <g>\r\n       <use style=\"stroke:#000000;stroke-width:0.8;\" x=\"164.544866\" xlink:href=\"#m38511aaee6\" y=\"228.436094\"/>\r\n      </g>\r\n     </g>\r\n     <g id=\"text_3\">\r\n      <!-- 수요일 -->\r\n      <defs>\r\n       <path d=\"M 85.796875 46.78125 \r\nQ 74.21875 48.390625 63.71875 54.65625 \r\nQ 53.21875 60.9375 50 66.796875 \r\nQ 46.484375 60.796875 36.078125 54.546875 \r\nQ 25.6875 48.296875 14.40625 46.1875 \r\nL 9.90625 52.296875 \r\nQ 24.359375 53.90625 35.328125 61.59375 \r\nQ 46.296875 69.28125 46.296875 78.328125 \r\nL 46.296875 82.421875 \r\nL 53.609375 82.421875 \r\nL 53.609375 78.328125 \r\nQ 53.609375 69.234375 64.34375 61.6875 \r\nQ 75.09375 54.15625 90.09375 52.78125 \r\nz\r\nM 53.609375 28.71875 \r\nL 53.609375 -8.796875 \r\nL 46.296875 -8.796875 \r\nL 46.296875 28.71875 \r\nL 6.296875 28.71875 \r\nL 6.296875 35.203125 \r\nL 93.703125 35.203125 \r\nL 93.703125 28.71875 \r\nz\r\n\" id=\"MalgunGothic-49688\"/>\r\n      </defs>\r\n      <g transform=\"translate(149.544866 243.028281)scale(0.1 -0.1)\">\r\n       <use xlink:href=\"#MalgunGothic-49688\"/>\r\n       <use x=\"100\" xlink:href=\"#MalgunGothic-50836\"/>\r\n       <use x=\"200\" xlink:href=\"#MalgunGothic-51068\"/>\r\n      </g>\r\n     </g>\r\n    </g>\r\n    <g id=\"xtick_4\">\r\n     <g id=\"line2d_4\">\r\n      <g>\r\n       <use style=\"stroke:#000000;stroke-width:0.8;\" x=\"212.373438\" xlink:href=\"#m38511aaee6\" y=\"228.436094\"/>\r\n      </g>\r\n     </g>\r\n     <g id=\"text_4\">\r\n      <!-- 목요일 -->\r\n      <defs>\r\n       <path d=\"M 6.296875 33.015625 \r\nL 6.296875 39.5 \r\nL 46.296875 39.5 \r\nL 46.296875 50.296875 \r\nL 21 50.296875 \r\nL 21 83.109375 \r\nL 79 83.109375 \r\nL 79 50.296875 \r\nL 53.71875 50.296875 \r\nL 53.71875 39.59375 \r\nL 93.703125 39.59375 \r\nL 93.703125 33.015625 \r\nz\r\nM 71.78125 76.703125 \r\nL 28.21875 76.703125 \r\nL 28.21875 56.6875 \r\nL 71.78125 56.6875 \r\nz\r\nM 72.015625 -8.796875 \r\nL 72.015625 17.28125 \r\nL 18.703125 17.28125 \r\nL 18.703125 23.78125 \r\nL 79.296875 23.78125 \r\nL 79.296875 -8.796875 \r\nz\r\n\" id=\"MalgunGothic-47785\"/>\r\n      </defs>\r\n      <g transform=\"translate(197.373438 243.028281)scale(0.1 -0.1)\">\r\n       <use xlink:href=\"#MalgunGothic-47785\"/>\r\n       <use x=\"100\" xlink:href=\"#MalgunGothic-50836\"/>\r\n       <use x=\"200\" xlink:href=\"#MalgunGothic-51068\"/>\r\n      </g>\r\n     </g>\r\n    </g>\r\n    <g id=\"xtick_5\">\r\n     <g id=\"line2d_5\">\r\n      <g>\r\n       <use style=\"stroke:#000000;stroke-width:0.8;\" x=\"260.202009\" xlink:href=\"#m38511aaee6\" y=\"228.436094\"/>\r\n      </g>\r\n     </g>\r\n     <g id=\"text_5\">\r\n      <!-- 금요일 -->\r\n      <defs>\r\n       <path d=\"M 6.296875 41.609375 \r\nL 6.296875 48.1875 \r\nL 71.296875 48.1875 \r\nQ 72.40625 59.421875 72.40625 75.296875 \r\nL 20.90625 75.296875 \r\nL 20.90625 81.78125 \r\nL 79.6875 81.78125 \r\nQ 79.6875 63.765625 78.421875 48.1875 \r\nL 93.703125 48.1875 \r\nL 93.703125 41.609375 \r\nz\r\nM 21.09375 -6.5 \r\nL 21.09375 29 \r\nL 79.296875 29 \r\nL 79.296875 -6.5 \r\nz\r\nM 72.125 22.609375 \r\nL 28.328125 22.609375 \r\nL 28.328125 0 \r\nL 72.125 0 \r\nz\r\n\" id=\"MalgunGothic-44552\"/>\r\n      </defs>\r\n      <g transform=\"translate(245.202009 243.028281)scale(0.1 -0.1)\">\r\n       <use xlink:href=\"#MalgunGothic-44552\"/>\r\n       <use x=\"100\" xlink:href=\"#MalgunGothic-50836\"/>\r\n       <use x=\"200\" xlink:href=\"#MalgunGothic-51068\"/>\r\n      </g>\r\n     </g>\r\n    </g>\r\n    <g id=\"xtick_6\">\r\n     <g id=\"line2d_6\">\r\n      <g>\r\n       <use style=\"stroke:#000000;stroke-width:0.8;\" x=\"308.03058\" xlink:href=\"#m38511aaee6\" y=\"228.436094\"/>\r\n      </g>\r\n     </g>\r\n     <g id=\"text_6\">\r\n      <!-- 토요일 -->\r\n      <defs>\r\n       <path d=\"M 6.296875 5.328125 \r\nL 6.296875 11.8125 \r\nL 46.296875 11.8125 \r\nL 46.296875 31.59375 \r\nL 20.125 31.59375 \r\nL 20.125 76.609375 \r\nL 80.421875 76.609375 \r\nL 80.421875 70.125 \r\nL 27.296875 70.125 \r\nL 27.296875 57.625 \r\nL 78.8125 57.625 \r\nL 78.8125 51.21875 \r\nL 27.296875 51.21875 \r\nL 27.296875 37.984375 \r\nL 81.984375 37.984375 \r\nL 81.984375 31.59375 \r\nL 53.71875 31.59375 \r\nL 53.71875 11.8125 \r\nL 93.703125 11.8125 \r\nL 93.703125 5.328125 \r\nz\r\n\" id=\"MalgunGothic-53664\"/>\r\n      </defs>\r\n      <g transform=\"translate(293.03058 243.028281)scale(0.1 -0.1)\">\r\n       <use xlink:href=\"#MalgunGothic-53664\"/>\r\n       <use x=\"100\" xlink:href=\"#MalgunGothic-50836\"/>\r\n       <use x=\"200\" xlink:href=\"#MalgunGothic-51068\"/>\r\n      </g>\r\n     </g>\r\n    </g>\r\n    <g id=\"xtick_7\">\r\n     <g id=\"line2d_7\">\r\n      <g>\r\n       <use style=\"stroke:#000000;stroke-width:0.8;\" x=\"355.859152\" xlink:href=\"#m38511aaee6\" y=\"228.436094\"/>\r\n      </g>\r\n     </g>\r\n     <g id=\"text_7\">\r\n      <!-- 일요일 -->\r\n      <g transform=\"translate(340.859152 243.028281)scale(0.1 -0.1)\">\r\n       <use xlink:href=\"#MalgunGothic-51068\"/>\r\n       <use x=\"100\" xlink:href=\"#MalgunGothic-50836\"/>\r\n       <use x=\"200\" xlink:href=\"#MalgunGothic-51068\"/>\r\n      </g>\r\n     </g>\r\n    </g>\r\n   </g>\r\n   <g id=\"matplotlib.axis_2\">\r\n    <g id=\"ytick_1\">\r\n     <g id=\"line2d_8\">\r\n      <defs>\r\n       <path d=\"M 0 0 \r\nL -3.5 0 \r\n\" id=\"me04607481b\" style=\"stroke:#000000;stroke-width:0.8;\"/>\r\n      </defs>\r\n      <g>\r\n       <use style=\"stroke:#000000;stroke-width:0.8;\" x=\"44.973438\" xlink:href=\"#me04607481b\" y=\"228.436094\"/>\r\n      </g>\r\n     </g>\r\n     <g id=\"text_8\">\r\n      <!-- 400 -->\r\n      <defs>\r\n       <path d=\"M 42.234375 71.875 \r\nL 42.234375 24.421875 \r\nL 51.703125 24.421875 \r\nL 51.703125 17.390625 \r\nL 42.234375 17.390625 \r\nL 42.234375 0 \r\nL 34.578125 0 \r\nL 34.578125 17.390625 \r\nL 0.78125 17.390625 \r\nL 0.78125 23.96875 \r\nQ 11.375 35.890625 20.234375 48.578125 \r\nQ 29.109375 61.28125 33.9375 71.875 \r\nz\r\nM 9.765625 24.421875 \r\nL 34.578125 24.421875 \r\nL 34.578125 59.859375 \r\nQ 25.203125 43.5625 14.984375 30.953125 \r\nz\r\n\" id=\"MalgunGothic-52\"/>\r\n       <path d=\"M 4.34375 34.46875 \r\nQ 4.34375 53.515625 10.546875 63.28125 \r\nQ 16.75 73.046875 28.421875 73.046875 \r\nQ 50.828125 73.046875 50.828125 36.234375 \r\nQ 50.828125 18.0625 44.59375 8.421875 \r\nQ 38.375 -1.21875 26.8125 -1.21875 \r\nQ 15.875 -1.21875 10.109375 8.125 \r\nQ 4.34375 17.484375 4.34375 34.46875 \r\nz\r\nM 12.25 34.859375 \r\nQ 12.25 5.375 27.640625 5.375 \r\nQ 42.921875 5.375 42.921875 35.296875 \r\nQ 42.921875 66.40625 28.03125 66.40625 \r\nQ 12.25 66.40625 12.25 34.859375 \r\nz\r\n\" id=\"MalgunGothic-48\"/>\r\n      </defs>\r\n      <g transform=\"translate(21.45 232.232187)scale(0.1 -0.1)\">\r\n       <use xlink:href=\"#MalgunGothic-52\"/>\r\n       <use x=\"55.078125\" xlink:href=\"#MalgunGothic-48\"/>\r\n       <use x=\"110.15625\" xlink:href=\"#MalgunGothic-48\"/>\r\n      </g>\r\n     </g>\r\n    </g>\r\n    <g id=\"ytick_2\">\r\n     <g id=\"line2d_9\">\r\n      <g>\r\n       <use style=\"stroke:#000000;stroke-width:0.8;\" x=\"44.973438\" xlink:href=\"#me04607481b\" y=\"201.256094\"/>\r\n      </g>\r\n     </g>\r\n     <g id=\"text_9\">\r\n      <!-- 425 -->\r\n      <defs>\r\n       <path d=\"M 39.359375 52.6875 \r\nQ 39.359375 59.125 35.546875 62.78125 \r\nQ 31.734375 66.453125 25.4375 66.453125 \r\nQ 20.953125 66.453125 16.453125 64.125 \r\nQ 11.96875 61.8125 8.34375 57.765625 \r\nL 8.34375 66.15625 \r\nQ 15.328125 73.046875 26.421875 73.046875 \r\nQ 35.640625 73.046875 41.28125 67.71875 \r\nQ 46.921875 62.40625 46.921875 53.375 \r\nQ 46.921875 45.609375 43.3125 39.765625 \r\nQ 39.703125 33.9375 31 27.734375 \r\nQ 22.796875 21.96875 19.59375 18.984375 \r\nQ 16.40625 16.015625 15.109375 13.34375 \r\nQ 13.8125 10.6875 13.8125 7.03125 \r\nL 48.6875 7.03125 \r\nL 48.6875 0 \r\nL 5.5625 0 \r\nL 5.5625 3.515625 \r\nQ 5.5625 9.421875 7.203125 13.59375 \r\nQ 8.84375 17.78125 12.671875 21.75 \r\nQ 16.5 25.734375 24.953125 31.59375 \r\nQ 32.671875 36.921875 36.015625 41.71875 \r\nQ 39.359375 46.53125 39.359375 52.6875 \r\nz\r\n\" id=\"MalgunGothic-50\"/>\r\n       <path d=\"M 48 21.921875 \r\nQ 48 11.28125 41.1875 5.03125 \r\nQ 34.375 -1.21875 22.953125 -1.21875 \r\nQ 12.9375 -1.21875 8.0625 1.765625 \r\nL 8.0625 10.15625 \r\nQ 15.53125 5.375 23.046875 5.375 \r\nQ 30.765625 5.375 35.46875 9.84375 \r\nQ 40.1875 14.3125 40.1875 21.4375 \r\nQ 40.1875 28.71875 35.390625 32.6875 \r\nQ 30.609375 36.671875 21.578125 36.671875 \r\nQ 15.53125 36.671875 9.421875 35.9375 \r\nL 11.859375 71.875 \r\nL 44.828125 71.875 \r\nL 44.828125 64.796875 \r\nL 18.84375 64.796875 \r\nL 17.28125 43.171875 \r\nQ 21.046875 43.5 24.171875 43.5 \r\nQ 35.359375 43.5 41.671875 37.71875 \r\nQ 48 31.9375 48 21.921875 \r\nz\r\n\" id=\"MalgunGothic-53\"/>\r\n      </defs>\r\n      <g transform=\"translate(21.45 205.052187)scale(0.1 -0.1)\">\r\n       <use xlink:href=\"#MalgunGothic-52\"/>\r\n       <use x=\"55.078125\" xlink:href=\"#MalgunGothic-50\"/>\r\n       <use x=\"110.15625\" xlink:href=\"#MalgunGothic-53\"/>\r\n      </g>\r\n     </g>\r\n    </g>\r\n    <g id=\"ytick_3\">\r\n     <g id=\"line2d_10\">\r\n      <g>\r\n       <use style=\"stroke:#000000;stroke-width:0.8;\" x=\"44.973438\" xlink:href=\"#me04607481b\" y=\"174.076094\"/>\r\n      </g>\r\n     </g>\r\n     <g id=\"text_10\">\r\n      <!-- 450 -->\r\n      <g transform=\"translate(21.45 177.872187)scale(0.1 -0.1)\">\r\n       <use xlink:href=\"#MalgunGothic-52\"/>\r\n       <use x=\"55.078125\" xlink:href=\"#MalgunGothic-53\"/>\r\n       <use x=\"110.15625\" xlink:href=\"#MalgunGothic-48\"/>\r\n      </g>\r\n     </g>\r\n    </g>\r\n    <g id=\"ytick_4\">\r\n     <g id=\"line2d_11\">\r\n      <g>\r\n       <use style=\"stroke:#000000;stroke-width:0.8;\" x=\"44.973438\" xlink:href=\"#me04607481b\" y=\"146.896094\"/>\r\n      </g>\r\n     </g>\r\n     <g id=\"text_11\">\r\n      <!-- 475 -->\r\n      <defs>\r\n       <path d=\"M 50.203125 67.140625 \r\nQ 38.71875 46.96875 32.25 29.96875 \r\nQ 25.78125 12.984375 24.21875 0 \r\nL 15.765625 0 \r\nQ 16.9375 8.296875 20.15625 18.375 \r\nQ 23.390625 28.46875 28.359375 39.640625 \r\nQ 33.34375 50.828125 41.109375 64.796875 \r\nL 4.546875 64.796875 \r\nL 4.546875 71.875 \r\nL 50.203125 71.875 \r\nz\r\n\" id=\"MalgunGothic-55\"/>\r\n      </defs>\r\n      <g transform=\"translate(21.45 150.692187)scale(0.1 -0.1)\">\r\n       <use xlink:href=\"#MalgunGothic-52\"/>\r\n       <use x=\"55.078125\" xlink:href=\"#MalgunGothic-55\"/>\r\n       <use x=\"110.15625\" xlink:href=\"#MalgunGothic-53\"/>\r\n      </g>\r\n     </g>\r\n    </g>\r\n    <g id=\"ytick_5\">\r\n     <g id=\"line2d_12\">\r\n      <g>\r\n       <use style=\"stroke:#000000;stroke-width:0.8;\" x=\"44.973438\" xlink:href=\"#me04607481b\" y=\"119.716094\"/>\r\n      </g>\r\n     </g>\r\n     <g id=\"text_12\">\r\n      <!-- 500 -->\r\n      <g transform=\"translate(21.45 123.512187)scale(0.1 -0.1)\">\r\n       <use xlink:href=\"#MalgunGothic-53\"/>\r\n       <use x=\"55.078125\" xlink:href=\"#MalgunGothic-48\"/>\r\n       <use x=\"110.15625\" xlink:href=\"#MalgunGothic-48\"/>\r\n      </g>\r\n     </g>\r\n    </g>\r\n    <g id=\"ytick_6\">\r\n     <g id=\"line2d_13\">\r\n      <g>\r\n       <use style=\"stroke:#000000;stroke-width:0.8;\" x=\"44.973438\" xlink:href=\"#me04607481b\" y=\"92.536094\"/>\r\n      </g>\r\n     </g>\r\n     <g id=\"text_13\">\r\n      <!-- 525 -->\r\n      <g transform=\"translate(21.45 96.332188)scale(0.1 -0.1)\">\r\n       <use xlink:href=\"#MalgunGothic-53\"/>\r\n       <use x=\"55.078125\" xlink:href=\"#MalgunGothic-50\"/>\r\n       <use x=\"110.15625\" xlink:href=\"#MalgunGothic-53\"/>\r\n      </g>\r\n     </g>\r\n    </g>\r\n    <g id=\"ytick_7\">\r\n     <g id=\"line2d_14\">\r\n      <g>\r\n       <use style=\"stroke:#000000;stroke-width:0.8;\" x=\"44.973438\" xlink:href=\"#me04607481b\" y=\"65.356094\"/>\r\n      </g>\r\n     </g>\r\n     <g id=\"text_14\">\r\n      <!-- 550 -->\r\n      <g transform=\"translate(21.45 69.152188)scale(0.1 -0.1)\">\r\n       <use xlink:href=\"#MalgunGothic-53\"/>\r\n       <use x=\"55.078125\" xlink:href=\"#MalgunGothic-53\"/>\r\n       <use x=\"110.15625\" xlink:href=\"#MalgunGothic-48\"/>\r\n      </g>\r\n     </g>\r\n    </g>\r\n    <g id=\"ytick_8\">\r\n     <g id=\"line2d_15\">\r\n      <g>\r\n       <use style=\"stroke:#000000;stroke-width:0.8;\" x=\"44.973438\" xlink:href=\"#me04607481b\" y=\"38.176094\"/>\r\n      </g>\r\n     </g>\r\n     <g id=\"text_15\">\r\n      <!-- 575 -->\r\n      <g transform=\"translate(21.45 41.972187)scale(0.1 -0.1)\">\r\n       <use xlink:href=\"#MalgunGothic-53\"/>\r\n       <use x=\"55.078125\" xlink:href=\"#MalgunGothic-55\"/>\r\n       <use x=\"110.15625\" xlink:href=\"#MalgunGothic-53\"/>\r\n      </g>\r\n     </g>\r\n    </g>\r\n    <g id=\"ytick_9\">\r\n     <g id=\"line2d_16\">\r\n      <g>\r\n       <use style=\"stroke:#000000;stroke-width:0.8;\" x=\"44.973438\" xlink:href=\"#me04607481b\" y=\"10.996094\"/>\r\n      </g>\r\n     </g>\r\n     <g id=\"text_16\">\r\n      <!-- 600 -->\r\n      <defs>\r\n       <path d=\"M 46.578125 63.578125 \r\nQ 40.921875 66.40625 34.8125 66.40625 \r\nQ 24.859375 66.40625 19.1875 57.640625 \r\nQ 13.53125 48.875 13.578125 34.578125 \r\nL 13.8125 34.578125 \r\nQ 18.796875 44.875 30.28125 44.875 \r\nQ 39.796875 44.875 45.359375 38.71875 \r\nQ 50.921875 32.5625 50.921875 22.65625 \r\nQ 50.921875 12.453125 44.640625 5.609375 \r\nQ 38.375 -1.21875 28.515625 -1.21875 \r\nQ 17.4375 -1.21875 11.5 7.46875 \r\nQ 5.5625 16.15625 5.5625 31.546875 \r\nQ 5.5625 49.703125 13.234375 61.375 \r\nQ 20.90625 73.046875 34.71875 73.046875 \r\nQ 42.1875 73.046875 46.578125 71 \r\nz\r\nM 14.15625 23.53125 \r\nQ 14.15625 15.96875 18.203125 10.671875 \r\nQ 22.265625 5.375 28.8125 5.375 \r\nQ 35.109375 5.375 39.03125 10.078125 \r\nQ 42.96875 14.796875 42.96875 21.6875 \r\nQ 42.96875 29.5 39.203125 33.859375 \r\nQ 35.453125 38.234375 28.71875 38.234375 \r\nQ 22.5625 38.234375 18.359375 33.953125 \r\nQ 14.15625 29.6875 14.15625 23.53125 \r\nz\r\n\" id=\"MalgunGothic-54\"/>\r\n      </defs>\r\n      <g transform=\"translate(21.45 14.792188)scale(0.1 -0.1)\">\r\n       <use xlink:href=\"#MalgunGothic-54\"/>\r\n       <use x=\"55.078125\" xlink:href=\"#MalgunGothic-48\"/>\r\n       <use x=\"110.15625\" xlink:href=\"#MalgunGothic-48\"/>\r\n      </g>\r\n     </g>\r\n    </g>\r\n    <g id=\"text_17\">\r\n     <!-- 카드 사용 횟수(천) -->\r\n     <defs>\r\n      <path d=\"M 79.546875 40.09375 \r\nL 79.546875 -8.796875 \r\nL 72.265625 -8.796875 \r\nL 72.265625 85.40625 \r\nL 79.546875 85.40625 \r\nL 79.546875 46.578125 \r\nL 96.4375 46.578125 \r\nL 96.4375 40.09375 \r\nz\r\nM 56.34375 77 \r\nQ 55.515625 37.109375 13.96875 13.375 \r\nL 8.25 19.28125 \r\nQ 18.265625 23.390625 27.46875 31.515625 \r\nQ 36.671875 39.65625 41.84375 49.3125 \r\nL 10.75 46.1875 \r\nL 8.15625 53.125 \r\nL 44.78125 55.421875 \r\nQ 47.65625 62.796875 48.53125 70.515625 \r\nL 12.359375 70.515625 \r\nL 12.359375 77 \r\nz\r\n\" id=\"MalgunGothic-52852\"/>\r\n      <path d=\"M 78.90625 70.125 \r\nL 28.421875 70.125 \r\nL 28.421875 40.828125 \r\nL 80.421875 40.828125 \r\nL 80.421875 34.28125 \r\nL 21.09375 34.28125 \r\nL 21.09375 76.609375 \r\nL 78.90625 76.609375 \r\nz\r\nM 6.296875 7.515625 \r\nL 6.296875 14.015625 \r\nL 93.703125 14.015625 \r\nL 93.703125 7.515625 \r\nz\r\n\" id=\"MalgunGothic-46300\"/>\r\n      <path id=\"MalgunGothic-32\"/>\r\n      <path d=\"M 79.59375 40.625 \r\nL 79.59375 -8.796875 \r\nL 72.3125 -8.796875 \r\nL 72.3125 85.40625 \r\nL 79.59375 85.40625 \r\nL 79.59375 47.125 \r\nL 95.90625 47.125 \r\nL 95.90625 40.625 \r\nz\r\nM 58.5 15.09375 \r\nQ 50.53125 21.1875 43.75 30.25 \r\nQ 36.96875 39.3125 34.90625 46.09375 \r\nQ 32.71875 38.625 26.125 29.421875 \r\nQ 19.53125 20.21875 11.53125 13.921875 \r\nL 5.90625 18.796875 \r\nQ 17.4375 26.609375 24.3125 38.734375 \r\nQ 31.203125 50.875 31.203125 63.484375 \r\nL 31.203125 78.90625 \r\nL 38.484375 78.90625 \r\nL 38.484375 63.8125 \r\nQ 38.484375 51.515625 45.28125 39.890625 \r\nQ 52.09375 28.265625 63.625 20.796875 \r\nz\r\n\" id=\"MalgunGothic-49324\"/>\r\n      <path d=\"M 29.6875 52.78125 \r\nQ 20.125 57.46875 20.125 66.703125 \r\nQ 20.125 75.046875 27.875 79.609375 \r\nQ 35.640625 84.1875 50 84.1875 \r\nQ 64.359375 84.1875 72.125 79.609375 \r\nQ 79.890625 75.046875 79.890625 66.703125 \r\nQ 79.890625 57.328125 70.21875 52.78125 \r\nL 70.21875 39.40625 \r\nL 93.703125 39.40625 \r\nL 93.703125 32.90625 \r\nL 6.296875 32.90625 \r\nL 6.296875 39.40625 \r\nL 29.6875 39.40625 \r\nz\r\nM 50 77.984375 \r\nQ 27.6875 77.984375 27.6875 66.703125 \r\nQ 27.6875 61.375 33.21875 58.390625 \r\nQ 38.765625 55.421875 50 55.421875 \r\nQ 61.234375 55.421875 66.765625 58.390625 \r\nQ 72.3125 61.375 72.3125 66.703125 \r\nQ 72.3125 77.984375 50 77.984375 \r\nz\r\nM 37.015625 39.40625 \r\nL 62.890625 39.40625 \r\nL 62.890625 50.390625 \r\nQ 57.46875 49.21875 50 49.21875 \r\nQ 43.0625 49.21875 37.015625 50.484375 \r\nz\r\nM 50 -8.296875 \r\nQ 35.296875 -8.296875 27.5625 -3.65625 \r\nQ 19.828125 0.984375 19.828125 9.078125 \r\nQ 19.828125 17.28125 27.609375 21.9375 \r\nQ 35.40625 26.609375 50 26.609375 \r\nQ 64.59375 26.609375 72.375 21.9375 \r\nQ 80.171875 17.28125 80.171875 9.078125 \r\nQ 80.171875 0.984375 72.4375 -3.65625 \r\nQ 64.703125 -8.296875 50 -8.296875 \r\nz\r\nM 50 20.40625 \r\nQ 38.8125 20.40625 33.09375 17.375 \r\nQ 27.390625 14.359375 27.390625 9.078125 \r\nQ 27.390625 3.8125 33.078125 0.859375 \r\nQ 38.765625 -2.09375 50 -2.09375 \r\nQ 61.1875 -2.09375 66.890625 0.859375 \r\nQ 72.609375 3.8125 72.609375 9.078125 \r\nQ 72.609375 14.40625 66.875 17.40625 \r\nQ 61.140625 20.40625 50 20.40625 \r\nz\r\n\" id=\"MalgunGothic-50857\"/>\r\n      <path d=\"M 11.1875 70.21875 \r\nL 11.1875 76.609375 \r\nL 35.40625 76.609375 \r\nL 35.40625 86.1875 \r\nL 42.578125 86.1875 \r\nL 42.578125 76.609375 \r\nL 66.703125 76.609375 \r\nL 66.703125 70.21875 \r\nz\r\nM 76.703125 17.09375 \r\nL 76.703125 85.40625 \r\nL 83.890625 85.40625 \r\nL 83.890625 17.09375 \r\nz\r\nM 70.609375 27.484375 \r\nQ 40.765625 25.78125 8.109375 25.78125 \r\nL 7.421875 32.078125 \r\nQ 20.265625 32.078125 35.296875 32.421875 \r\nL 35.296875 39.40625 \r\nQ 25.78125 40.09375 20.671875 43.71875 \r\nQ 15.578125 47.359375 15.578125 53.21875 \r\nQ 15.578125 59.515625 21.75 63.25 \r\nQ 27.9375 67 39.015625 67 \r\nQ 49.75 67 56.078125 63.15625 \r\nQ 62.40625 59.328125 62.40625 53.21875 \r\nQ 62.40625 47.3125 57.203125 43.640625 \r\nQ 52 39.984375 42.484375 39.40625 \r\nL 42.484375 32.625 \r\nQ 63.625 33.15625 70.21875 33.59375 \r\nz\r\nM 39.015625 61.078125 \r\nQ 31 61.078125 26.890625 58.984375 \r\nQ 22.796875 56.890625 22.796875 53.21875 \r\nQ 22.796875 45.3125 39.015625 45.3125 \r\nQ 55.078125 45.3125 55.078125 53.21875 \r\nQ 55.078125 61.078125 39.015625 61.078125 \r\nz\r\nM 87.5 -8.296875 \r\nQ 77.6875 -6.546875 67.75 -0.6875 \r\nQ 57.8125 5.171875 54.59375 11.078125 \r\nQ 51.421875 4.984375 42.015625 -0.625 \r\nQ 32.625 -6.25 22.015625 -8.296875 \r\nL 17 -2.390625 \r\nQ 31.109375 -0.4375 40.984375 6.5625 \r\nQ 50.875 13.578125 51.125 22.015625 \r\nL 51.125 23.09375 \r\nL 58.296875 23.09375 \r\nL 58.296875 22.015625 \r\nQ 58.296875 13.28125 68.46875 6.53125 \r\nQ 78.65625 -0.203125 92.484375 -2.390625 \r\nz\r\n\" id=\"MalgunGothic-54943\"/>\r\n      <path d=\"M 22.46875 -16.3125 \r\nQ 6.984375 1.375 6.984375 27.390625 \r\nQ 6.984375 53.609375 22.46875 71.875 \r\nL 29.5 71.875 \r\nQ 13.71875 52.6875 13.71875 27.484375 \r\nQ 13.71875 2.390625 29.390625 -16.3125 \r\nz\r\n\" id=\"MalgunGothic-40\"/>\r\n      <path d=\"M 76.3125 16.5 \r\nL 76.3125 51.21875 \r\nL 55.328125 51.21875 \r\nL 55.328125 57.71875 \r\nL 76.3125 57.71875 \r\nL 76.3125 85.40625 \r\nL 83.59375 85.40625 \r\nL 83.59375 16.5 \r\nz\r\nM 58.6875 29.390625 \r\nQ 51.65625 32.671875 45.1875 38.59375 \r\nQ 38.71875 44.53125 35.890625 50 \r\nQ 32.953125 43.703125 26.34375 37.1875 \r\nQ 19.734375 30.671875 12.984375 27.296875 \r\nL 7.625 32.90625 \r\nQ 17.1875 36.234375 24.625 44.9375 \r\nQ 32.078125 53.65625 32.078125 61.1875 \r\nL 32.078125 67.921875 \r\nL 10.59375 67.921875 \r\nL 10.59375 74.421875 \r\nL 32.171875 74.421875 \r\nL 32.171875 85.296875 \r\nL 39.5 85.296875 \r\nL 39.5 74.421875 \r\nL 60.890625 74.421875 \r\nL 60.890625 67.921875 \r\nL 39.5 67.921875 \r\nL 39.5 61.28125 \r\nQ 39.5 54 46.96875 46.0625 \r\nQ 54.4375 38.140625 63.625 35.40625 \r\nz\r\nM 25.59375 -5.71875 \r\nL 25.59375 24.703125 \r\nL 33.015625 24.703125 \r\nL 33.015625 0.6875 \r\nL 86.078125 0.6875 \r\nL 86.078125 -5.71875 \r\nz\r\n\" id=\"MalgunGothic-52380\"/>\r\n      <path d=\"M 1.265625 -16.3125 \r\nQ 16.890625 2.34375 16.890625 27.484375 \r\nQ 16.890625 52.78125 1.125 71.875 \r\nL 8.203125 71.875 \r\nQ 23.78125 53.609375 23.78125 27.390625 \r\nQ 23.78125 1.375 8.203125 -16.3125 \r\nz\r\n\" id=\"MalgunGothic-41\"/>\r\n     </defs>\r\n     <g transform=\"translate(15.085938 161.278594)rotate(-90)scale(0.1 -0.1)\">\r\n      <use xlink:href=\"#MalgunGothic-52852\"/>\r\n      <use x=\"100\" xlink:href=\"#MalgunGothic-46300\"/>\r\n      <use x=\"200\" xlink:href=\"#MalgunGothic-32\"/>\r\n      <use x=\"235.15625\" xlink:href=\"#MalgunGothic-49324\"/>\r\n      <use x=\"335.15625\" xlink:href=\"#MalgunGothic-50857\"/>\r\n      <use x=\"435.15625\" xlink:href=\"#MalgunGothic-32\"/>\r\n      <use x=\"470.3125\" xlink:href=\"#MalgunGothic-54943\"/>\r\n      <use x=\"570.3125\" xlink:href=\"#MalgunGothic-49688\"/>\r\n      <use x=\"670.3125\" xlink:href=\"#MalgunGothic-40\"/>\r\n      <use x=\"700.78125\" xlink:href=\"#MalgunGothic-52380\"/>\r\n      <use x=\"800.78125\" xlink:href=\"#MalgunGothic-41\"/>\r\n     </g>\r\n    </g>\r\n   </g>\r\n   <g id=\"patch_10\">\r\n    <path d=\"M 44.973438 228.436094 \r\nL 44.973438 10.996094 \r\n\" style=\"fill:none;stroke:#000000;stroke-linecap:square;stroke-linejoin:miter;stroke-width:0.8;\"/>\r\n   </g>\r\n   <g id=\"patch_11\">\r\n    <path d=\"M 379.773438 228.436094 \r\nL 379.773438 10.996094 \r\n\" style=\"fill:none;stroke:#000000;stroke-linecap:square;stroke-linejoin:miter;stroke-width:0.8;\"/>\r\n   </g>\r\n   <g id=\"patch_12\">\r\n    <path d=\"M 44.973438 228.436094 \r\nL 379.773438 228.436094 \r\n\" style=\"fill:none;stroke:#000000;stroke-linecap:square;stroke-linejoin:miter;stroke-width:0.8;\"/>\r\n   </g>\r\n   <g id=\"patch_13\">\r\n    <path d=\"M 44.973438 10.996094 \r\nL 379.773438 10.996094 \r\n\" style=\"fill:none;stroke:#000000;stroke-linecap:square;stroke-linejoin:miter;stroke-width:0.8;\"/>\r\n   </g>\r\n  </g>\r\n </g>\r\n <defs>\r\n  <clipPath id=\"p2654aad047\">\r\n   <rect height=\"217.44\" width=\"334.8\" x=\"44.973438\" y=\"10.996094\"/>\r\n  </clipPath>\r\n </defs>\r\n</svg>\r\n",
      "image/png": "[encoded data removed]"
     },
     "metadata": {
      "needs_background": "light"
     }
    }
   ],
   "source": [
    "sr_day.plot(kind='bar')\n",
    "plt.ylim(400, 600)\n",
    "plt.ylabel('카드 사용 횟수(천)')\n",
    "plt.xticks(rotation=0)\n",
    "plt.show()"
   ]
  },
  {
   "cell_type": "code",
   "execution_count": null,
   "metadata": {},
   "outputs": [],
   "source": []
  },
  {
   "cell_type": "code",
   "execution_count": null,
   "metadata": {},
   "outputs": [],
   "source": []
  }
 ]
}