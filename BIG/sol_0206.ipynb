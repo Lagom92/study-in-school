{
 "cells": [
  {
   "cell_type": "markdown",
   "metadata": {},
   "source": [
    "# 도별 인구 집계\n",
    "\n",
    "참고\n",
    "\n",
    "Mini-Project_0206"
   ]
  },
  {
   "cell_type": "code",
   "execution_count": 21,
   "metadata": {},
   "outputs": [],
   "source": [
    "import pandas as pd\n",
    "import numpy as np\n",
    "import os\n",
    "from matplotlib import font_manager, rc\n",
    "%matplotlib inline\n",
    "\n",
    "font_name = font_manager.FontProperties(fname=\"c:/Windows/Fonts/malgun.ttf\").get_name()\n",
    "rc('font', family=font_name)"
   ]
  },
  {
   "cell_type": "markdown",
   "metadata": {},
   "source": [
    "### 데이터 읽기\n",
    "\n",
    "\n",
    "- 'data_population.csv' 데이터를 읽어온다.\n",
    "\n",
    "- 읽어 올 때 빈 셀 ''은 결측치(NaN)로 인식한다\n",
    "\n",
    "    - na_values 인자"
   ]
  },
  {
   "cell_type": "code",
   "execution_count": 22,
   "metadata": {},
   "outputs": [],
   "source": [
    "df = pd.read_csv('./data/data_population.csv', encoding = 'ms949', na_values=[' '])"
   ]
  },
  {
   "cell_type": "code",
   "execution_count": 23,
   "metadata": {},
   "outputs": [
    {
     "output_type": "execute_result",
     "data": {
      "text/plain": "(281, 9)"
     },
     "metadata": {},
     "execution_count": 23
    }
   ],
   "source": [
    "df.shape"
   ]
  },
  {
   "cell_type": "code",
   "execution_count": 24,
   "metadata": {},
   "outputs": [
    {
     "output_type": "execute_result",
     "data": {
      "text/plain": "   Unnamed: 0 Province  City  Population  Households  PersInHou     Male  \\\n0           1    서울특별시   NaN    10078850     4197478       2.40  4962774   \n1           2    서울특별시  종로구       155695       72882       2.14    76962   \n2           3    서울특별시   중구       126817       59614       2.13    63292   \n3           4    서울특별시  용산구       235186      108138       2.17   114119   \n4           5    서울특별시  성동구       298145      126915       2.35   148265   \n\n    Female  GenderRatio  \n0  5116076         0.97  \n1    78733         0.98  \n2    63525         1.00  \n3   121067         0.94  \n4   149880         0.99  ",
      "text/html": "<div>\n<style scoped>\n    .dataframe tbody tr th:only-of-type {\n        vertical-align: middle;\n    }\n\n    .dataframe tbody tr th {\n        vertical-align: top;\n    }\n\n    .dataframe thead th {\n        text-align: right;\n    }\n</style>\n<table border=\"1\" class=\"dataframe\">\n  <thead>\n    <tr style=\"text-align: right;\">\n      <th></th>\n      <th>Unnamed: 0</th>\n      <th>Province</th>\n      <th>City</th>\n      <th>Population</th>\n      <th>Households</th>\n      <th>PersInHou</th>\n      <th>Male</th>\n      <th>Female</th>\n      <th>GenderRatio</th>\n    </tr>\n  </thead>\n  <tbody>\n    <tr>\n      <th>0</th>\n      <td>1</td>\n      <td>서울특별시</td>\n      <td>NaN</td>\n      <td>10078850</td>\n      <td>4197478</td>\n      <td>2.40</td>\n      <td>4962774</td>\n      <td>5116076</td>\n      <td>0.97</td>\n    </tr>\n    <tr>\n      <th>1</th>\n      <td>2</td>\n      <td>서울특별시</td>\n      <td>종로구</td>\n      <td>155695</td>\n      <td>72882</td>\n      <td>2.14</td>\n      <td>76962</td>\n      <td>78733</td>\n      <td>0.98</td>\n    </tr>\n    <tr>\n      <th>2</th>\n      <td>3</td>\n      <td>서울특별시</td>\n      <td>중구</td>\n      <td>126817</td>\n      <td>59614</td>\n      <td>2.13</td>\n      <td>63292</td>\n      <td>63525</td>\n      <td>1.00</td>\n    </tr>\n    <tr>\n      <th>3</th>\n      <td>4</td>\n      <td>서울특별시</td>\n      <td>용산구</td>\n      <td>235186</td>\n      <td>108138</td>\n      <td>2.17</td>\n      <td>114119</td>\n      <td>121067</td>\n      <td>0.94</td>\n    </tr>\n    <tr>\n      <th>4</th>\n      <td>5</td>\n      <td>서울특별시</td>\n      <td>성동구</td>\n      <td>298145</td>\n      <td>126915</td>\n      <td>2.35</td>\n      <td>148265</td>\n      <td>149880</td>\n      <td>0.99</td>\n    </tr>\n  </tbody>\n</table>\n</div>"
     },
     "metadata": {},
     "execution_count": 24
    }
   ],
   "source": [
    "df.head()"
   ]
  },
  {
   "cell_type": "code",
   "execution_count": 32,
   "metadata": {
    "tags": []
   },
   "outputs": [
    {
     "output_type": "stream",
     "name": "stdout",
     "text": "<class 'pandas.core.frame.DataFrame'>\nInt64Index: 263 entries, 1 to 280\nData columns (total 9 columns):\n #   Column       Non-Null Count  Dtype  \n---  ------       --------------  -----  \n 0   Unnamed: 0   263 non-null    int64  \n 1   Province     263 non-null    object \n 2   City         263 non-null    object \n 3   Population   263 non-null    int64  \n 4   Households   263 non-null    int64  \n 5   PersInHou    263 non-null    float64\n 6   Male         263 non-null    int64  \n 7   Female       263 non-null    int64  \n 8   GenderRatio  263 non-null    float64\ndtypes: float64(2), int64(5), object(2)\nmemory usage: 30.5+ KB\n"
    }
   ],
   "source": [
    "df.info()"
   ]
  },
  {
   "cell_type": "markdown",
   "metadata": {},
   "source": [
    "### 결측치 처리"
   ]
  },
  {
   "cell_type": "code",
   "execution_count": 25,
   "metadata": {},
   "outputs": [
    {
     "output_type": "execute_result",
     "data": {
      "text/plain": "Unnamed: 0      0\nProvince        0\nCity           18\nPopulation      0\nHouseholds      0\nPersInHou       0\nMale            0\nFemale          0\nGenderRatio     0\ndtype: int64"
     },
     "metadata": {},
     "execution_count": 25
    }
   ],
   "source": [
    "df.isnull().sum()"
   ]
  },
  {
   "cell_type": "code",
   "execution_count": 26,
   "metadata": {},
   "outputs": [
    {
     "output_type": "execute_result",
     "data": {
      "text/plain": "Unnamed: 0     281\nProvince       281\nCity           263\nPopulation     281\nHouseholds     281\nPersInHou      281\nMale           281\nFemale         281\nGenderRatio    281\ndtype: int64"
     },
     "metadata": {},
     "execution_count": 26
    }
   ],
   "source": [
    "# 처리전 정상값 집계.\n",
    "df.count()"
   ]
  },
  {
   "cell_type": "code",
   "execution_count": 28,
   "metadata": {},
   "outputs": [],
   "source": [
    "df.dropna(inplace=True)"
   ]
  },
  {
   "cell_type": "code",
   "execution_count": 30,
   "metadata": {},
   "outputs": [
    {
     "output_type": "execute_result",
     "data": {
      "text/plain": "Unnamed: 0     0\nProvince       0\nCity           0\nPopulation     0\nHouseholds     0\nPersInHou      0\nMale           0\nFemale         0\nGenderRatio    0\ndtype: int64"
     },
     "metadata": {},
     "execution_count": 30
    }
   ],
   "source": [
    "df.isnull().sum()"
   ]
  },
  {
   "cell_type": "code",
   "execution_count": 29,
   "metadata": {},
   "outputs": [
    {
     "output_type": "execute_result",
     "data": {
      "text/plain": "Unnamed: 0     263\nProvince       263\nCity           263\nPopulation     263\nHouseholds     263\nPersInHou      263\nMale           263\nFemale         263\nGenderRatio    263\ndtype: int64"
     },
     "metadata": {},
     "execution_count": 29
    }
   ],
   "source": [
    "# 처리후 정상값 집계.\n",
    "df.count()"
   ]
  },
  {
   "cell_type": "markdown",
   "metadata": {},
   "source": [
    "### 시도별 인구수"
   ]
  },
  {
   "cell_type": "code",
   "execution_count": 31,
   "metadata": {},
   "outputs": [
    {
     "output_type": "execute_result",
     "data": {
      "text/plain": "Province\n강원도         1547166\n경기도        18723822\n경상남도        4428762\n경상북도        3215695\n광주광역시       1476974\n대구광역시       2491137\n대전광역시       1525656\n부산광역시       3517491\n서울특별시      10078850\n울산광역시       1169768\n인천광역시       2914271\n전라남도        1902638\n전라북도        2523806\n제주특별자치도      615250\n충청남도        2671383\n충청북도        2414568\nName: Population, dtype: int64"
     },
     "metadata": {},
     "execution_count": 31
    }
   ],
   "source": [
    "# df.groupby('Province')['Population'].sum()\n",
    "\n",
    "df.groupby('Province').Population.sum()"
   ]
  },
  {
   "cell_type": "code",
   "execution_count": 9,
   "metadata": {},
   "outputs": [
    {
     "output_type": "execute_result",
     "data": {
      "text/plain": "          Population\nProvince            \n강원도          1547166\n경기도         18723822\n경상남도         4428762\n경상북도         3215695\n광주광역시        1476974\n대구광역시        2491137\n대전광역시        1525656\n부산광역시        3517491\n서울특별시       10078850\n울산광역시        1169768\n인천광역시        2914271\n전라남도         1902638\n전라북도         2523806\n제주특별자치도       615250\n충청남도         2671383\n충청북도         2414568",
      "text/html": "<div>\n<style scoped>\n    .dataframe tbody tr th:only-of-type {\n        vertical-align: middle;\n    }\n\n    .dataframe tbody tr th {\n        vertical-align: top;\n    }\n\n    .dataframe thead th {\n        text-align: right;\n    }\n</style>\n<table border=\"1\" class=\"dataframe\">\n  <thead>\n    <tr style=\"text-align: right;\">\n      <th></th>\n      <th>Population</th>\n    </tr>\n    <tr>\n      <th>Province</th>\n      <th></th>\n    </tr>\n  </thead>\n  <tbody>\n    <tr>\n      <th>강원도</th>\n      <td>1547166</td>\n    </tr>\n    <tr>\n      <th>경기도</th>\n      <td>18723822</td>\n    </tr>\n    <tr>\n      <th>경상남도</th>\n      <td>4428762</td>\n    </tr>\n    <tr>\n      <th>경상북도</th>\n      <td>3215695</td>\n    </tr>\n    <tr>\n      <th>광주광역시</th>\n      <td>1476974</td>\n    </tr>\n    <tr>\n      <th>대구광역시</th>\n      <td>2491137</td>\n    </tr>\n    <tr>\n      <th>대전광역시</th>\n      <td>1525656</td>\n    </tr>\n    <tr>\n      <th>부산광역시</th>\n      <td>3517491</td>\n    </tr>\n    <tr>\n      <th>서울특별시</th>\n      <td>10078850</td>\n    </tr>\n    <tr>\n      <th>울산광역시</th>\n      <td>1169768</td>\n    </tr>\n    <tr>\n      <th>인천광역시</th>\n      <td>2914271</td>\n    </tr>\n    <tr>\n      <th>전라남도</th>\n      <td>1902638</td>\n    </tr>\n    <tr>\n      <th>전라북도</th>\n      <td>2523806</td>\n    </tr>\n    <tr>\n      <th>제주특별자치도</th>\n      <td>615250</td>\n    </tr>\n    <tr>\n      <th>충청남도</th>\n      <td>2671383</td>\n    </tr>\n    <tr>\n      <th>충청북도</th>\n      <td>2414568</td>\n    </tr>\n  </tbody>\n</table>\n</div>"
     },
     "metadata": {},
     "execution_count": 9
    }
   ],
   "source": [
    "# 세로 방향으로.\n",
    "df.pivot_table(index='Province', values='Population', aggfunc=np.sum)"
   ]
  },
  {
   "cell_type": "code",
   "execution_count": 10,
   "metadata": {},
   "outputs": [
    {
     "output_type": "execute_result",
     "data": {
      "text/plain": "Province        강원도       경기도     경상남도     경상북도    광주광역시    대구광역시    대전광역시  \\\nPopulation  1547166  18723822  4428762  3215695  1476974  2491137  1525656   \n\nProvince      부산광역시     서울특별시    울산광역시    인천광역시     전라남도     전라북도  제주특별자치도  \\\nPopulation  3517491  10078850  1169768  2914271  1902638  2523806   615250   \n\nProvince       충청남도     충청북도  \nPopulation  2671383  2414568  ",
      "text/html": "<div>\n<style scoped>\n    .dataframe tbody tr th:only-of-type {\n        vertical-align: middle;\n    }\n\n    .dataframe tbody tr th {\n        vertical-align: top;\n    }\n\n    .dataframe thead th {\n        text-align: right;\n    }\n</style>\n<table border=\"1\" class=\"dataframe\">\n  <thead>\n    <tr style=\"text-align: right;\">\n      <th>Province</th>\n      <th>강원도</th>\n      <th>경기도</th>\n      <th>경상남도</th>\n      <th>경상북도</th>\n      <th>광주광역시</th>\n      <th>대구광역시</th>\n      <th>대전광역시</th>\n      <th>부산광역시</th>\n      <th>서울특별시</th>\n      <th>울산광역시</th>\n      <th>인천광역시</th>\n      <th>전라남도</th>\n      <th>전라북도</th>\n      <th>제주특별자치도</th>\n      <th>충청남도</th>\n      <th>충청북도</th>\n    </tr>\n  </thead>\n  <tbody>\n    <tr>\n      <th>Population</th>\n      <td>1547166</td>\n      <td>18723822</td>\n      <td>4428762</td>\n      <td>3215695</td>\n      <td>1476974</td>\n      <td>2491137</td>\n      <td>1525656</td>\n      <td>3517491</td>\n      <td>10078850</td>\n      <td>1169768</td>\n      <td>2914271</td>\n      <td>1902638</td>\n      <td>2523806</td>\n      <td>615250</td>\n      <td>2671383</td>\n      <td>2414568</td>\n    </tr>\n  </tbody>\n</table>\n</div>"
     },
     "metadata": {},
     "execution_count": 10
    }
   ],
   "source": [
    "# 가로 방향으로.\n",
    "df.pivot_table(columns='Province', values='Population', aggfunc=np.sum)"
   ]
  },
  {
   "cell_type": "code",
   "execution_count": null,
   "metadata": {},
   "outputs": [],
   "source": []
  }
 ],
 "metadata": {
  "kernelspec": {
   "display_name": "Python 3",
   "language": "python",
   "name": "python3"
  },
  "language_info": {
   "codemirror_mode": {
    "name": "ipython",
    "version": 3
   },
   "file_extension": ".py",
   "mimetype": "text/x-python",
   "name": "python",
   "nbconvert_exporter": "python",
   "pygments_lexer": "ipython3",
   "version": "3.7.6"
  }
 },
 "nbformat": 4,
 "nbformat_minor": 2
}