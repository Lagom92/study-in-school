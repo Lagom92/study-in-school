{
 "cells": [
  {
   "cell_type": "markdown",
   "metadata": {},
   "source": [
    "참고\n",
    "\n",
    "ex_0211.ipynb"
   ]
  },
  {
   "cell_type": "code",
   "execution_count": 81,
   "metadata": {},
   "outputs": [],
   "source": [
    "import pandas as pd\n",
    "import numpy as np\n",
    "import os"
   ]
  },
  {
   "cell_type": "markdown",
   "metadata": {},
   "source": [
    "# 멀티 인덱스"
   ]
  },
  {
   "cell_type": "code",
   "execution_count": 82,
   "metadata": {},
   "outputs": [],
   "source": [
    "my_header = ['a', 'b', 'c']"
   ]
  },
  {
   "cell_type": "code",
   "execution_count": 83,
   "metadata": {},
   "outputs": [
    {
     "output_type": "execute_result",
     "data": {
      "text/plain": "['G1', 'G1', 'G1', 'G2', 'G2', 'G2']"
     },
     "metadata": {},
     "execution_count": 83
    }
   ],
   "source": [
    "my_index_out = ['G1']*3 + ['G2']*3\n",
    "my_index_out"
   ]
  },
  {
   "cell_type": "code",
   "execution_count": 84,
   "metadata": {},
   "outputs": [
    {
     "output_type": "execute_result",
     "data": {
      "text/plain": "[1, 2, 3, 1, 2, 3]"
     },
     "metadata": {},
     "execution_count": 84
    }
   ],
   "source": [
    "my_index_in = [1, 2, 3]*2\n",
    "my_index_in"
   ]
  },
  {
   "cell_type": "code",
   "execution_count": 85,
   "metadata": {},
   "outputs": [
    {
     "output_type": "execute_result",
     "data": {
      "text/plain": "[('G1', 1), ('G1', 2), ('G1', 3), ('G2', 1), ('G2', 2), ('G2', 3)]"
     },
     "metadata": {},
     "execution_count": 85
    }
   ],
   "source": [
    "my_index_zipped = list(zip(my_index_out, my_index_in))\n",
    "my_index_zipped"
   ]
  },
  {
   "cell_type": "code",
   "execution_count": 86,
   "metadata": {},
   "outputs": [
    {
     "output_type": "execute_result",
     "data": {
      "text/plain": "MultiIndex([('G1', 1),\n            ('G1', 2),\n            ('G1', 3),\n            ('G2', 1),\n            ('G2', 2),\n            ('G2', 3)],\n           )"
     },
     "metadata": {},
     "execution_count": 86
    }
   ],
   "source": [
    "my_index = pd.MultiIndex.from_tuples(my_index_zipped)\n",
    "my_index"
   ]
  },
  {
   "cell_type": "code",
   "execution_count": 87,
   "metadata": {},
   "outputs": [
    {
     "output_type": "execute_result",
     "data": {
      "text/plain": "         G1                            G2                    \n          1         2         3         1         2         3\na  1.304851 -1.115005 -0.756467 -0.494295  0.199059 -0.010850\nb  0.133962  0.504639  1.559036  0.242417 -0.571104  1.470227\nc  0.579546 -1.453267  0.711853 -0.170311  0.574506 -1.091653",
      "text/html": "<div>\n<style scoped>\n    .dataframe tbody tr th:only-of-type {\n        vertical-align: middle;\n    }\n\n    .dataframe tbody tr th {\n        vertical-align: top;\n    }\n\n    .dataframe thead tr th {\n        text-align: left;\n    }\n</style>\n<table border=\"1\" class=\"dataframe\">\n  <thead>\n    <tr>\n      <th></th>\n      <th colspan=\"3\" halign=\"left\">G1</th>\n      <th colspan=\"3\" halign=\"left\">G2</th>\n    </tr>\n    <tr>\n      <th></th>\n      <th>1</th>\n      <th>2</th>\n      <th>3</th>\n      <th>1</th>\n      <th>2</th>\n      <th>3</th>\n    </tr>\n  </thead>\n  <tbody>\n    <tr>\n      <th>a</th>\n      <td>1.304851</td>\n      <td>-1.115005</td>\n      <td>-0.756467</td>\n      <td>-0.494295</td>\n      <td>0.199059</td>\n      <td>-0.010850</td>\n    </tr>\n    <tr>\n      <th>b</th>\n      <td>0.133962</td>\n      <td>0.504639</td>\n      <td>1.559036</td>\n      <td>0.242417</td>\n      <td>-0.571104</td>\n      <td>1.470227</td>\n    </tr>\n    <tr>\n      <th>c</th>\n      <td>0.579546</td>\n      <td>-1.453267</td>\n      <td>0.711853</td>\n      <td>-0.170311</td>\n      <td>0.574506</td>\n      <td>-1.091653</td>\n    </tr>\n  </tbody>\n</table>\n</div>"
     },
     "metadata": {},
     "execution_count": 87
    }
   ],
   "source": [
    "pd.DataFrame(np.random.randn(3, 6), columns=my_index, index=my_header)"
   ]
  },
  {
   "cell_type": "code",
   "execution_count": 88,
   "metadata": {},
   "outputs": [
    {
     "output_type": "execute_result",
     "data": {
      "text/plain": "             a         b         c\nG1 1 -1.756193  0.659026  1.534006\n   2  0.082135 -0.945738  0.861410\n   3  0.502001  1.181817 -0.399567\nG2 1  1.234645  0.714478 -0.081050\n   2 -0.262808  0.163934 -0.558249\n   3  0.024021  0.970215  1.343600",
      "text/html": "<div>\n<style scoped>\n    .dataframe tbody tr th:only-of-type {\n        vertical-align: middle;\n    }\n\n    .dataframe tbody tr th {\n        vertical-align: top;\n    }\n\n    .dataframe thead th {\n        text-align: right;\n    }\n</style>\n<table border=\"1\" class=\"dataframe\">\n  <thead>\n    <tr style=\"text-align: right;\">\n      <th></th>\n      <th></th>\n      <th>a</th>\n      <th>b</th>\n      <th>c</th>\n    </tr>\n  </thead>\n  <tbody>\n    <tr>\n      <th rowspan=\"3\" valign=\"top\">G1</th>\n      <th>1</th>\n      <td>-1.756193</td>\n      <td>0.659026</td>\n      <td>1.534006</td>\n    </tr>\n    <tr>\n      <th>2</th>\n      <td>0.082135</td>\n      <td>-0.945738</td>\n      <td>0.861410</td>\n    </tr>\n    <tr>\n      <th>3</th>\n      <td>0.502001</td>\n      <td>1.181817</td>\n      <td>-0.399567</td>\n    </tr>\n    <tr>\n      <th rowspan=\"3\" valign=\"top\">G2</th>\n      <th>1</th>\n      <td>1.234645</td>\n      <td>0.714478</td>\n      <td>-0.081050</td>\n    </tr>\n    <tr>\n      <th>2</th>\n      <td>-0.262808</td>\n      <td>0.163934</td>\n      <td>-0.558249</td>\n    </tr>\n    <tr>\n      <th>3</th>\n      <td>0.024021</td>\n      <td>0.970215</td>\n      <td>1.343600</td>\n    </tr>\n  </tbody>\n</table>\n</div>"
     },
     "metadata": {},
     "execution_count": 88
    }
   ],
   "source": [
    "df = pd.DataFrame(np.random.randn(6, 3), columns=my_header, index=my_index)\n",
    "df"
   ]
  },
  {
   "cell_type": "markdown",
   "metadata": {},
   "source": [
    "# 슬라이싱"
   ]
  },
  {
   "cell_type": "code",
   "execution_count": 89,
   "metadata": {},
   "outputs": [
    {
     "output_type": "execute_result",
     "data": {
      "text/plain": "G1  1    1.534006\n    2    0.861410\n    3   -0.399567\nG2  1   -0.081050\n    2   -0.558249\n    3    1.343600\nName: c, dtype: float64"
     },
     "metadata": {},
     "execution_count": 89
    }
   ],
   "source": [
    "df['c']"
   ]
  },
  {
   "cell_type": "code",
   "execution_count": 90,
   "metadata": {},
   "outputs": [
    {
     "output_type": "execute_result",
     "data": {
      "text/plain": "          a         b         c\n1 -1.756193  0.659026  1.534006\n2  0.082135 -0.945738  0.861410\n3  0.502001  1.181817 -0.399567",
      "text/html": "<div>\n<style scoped>\n    .dataframe tbody tr th:only-of-type {\n        vertical-align: middle;\n    }\n\n    .dataframe tbody tr th {\n        vertical-align: top;\n    }\n\n    .dataframe thead th {\n        text-align: right;\n    }\n</style>\n<table border=\"1\" class=\"dataframe\">\n  <thead>\n    <tr style=\"text-align: right;\">\n      <th></th>\n      <th>a</th>\n      <th>b</th>\n      <th>c</th>\n    </tr>\n  </thead>\n  <tbody>\n    <tr>\n      <th>1</th>\n      <td>-1.756193</td>\n      <td>0.659026</td>\n      <td>1.534006</td>\n    </tr>\n    <tr>\n      <th>2</th>\n      <td>0.082135</td>\n      <td>-0.945738</td>\n      <td>0.861410</td>\n    </tr>\n    <tr>\n      <th>3</th>\n      <td>0.502001</td>\n      <td>1.181817</td>\n      <td>-0.399567</td>\n    </tr>\n  </tbody>\n</table>\n</div>"
     },
     "metadata": {},
     "execution_count": 90
    }
   ],
   "source": [
    "df.loc['G1']"
   ]
  },
  {
   "cell_type": "code",
   "execution_count": 91,
   "metadata": {},
   "outputs": [
    {
     "output_type": "execute_result",
     "data": {
      "text/plain": "a   -1.756193\nb    0.659026\nc    1.534006\nName: 1, dtype: float64"
     },
     "metadata": {},
     "execution_count": 91
    }
   ],
   "source": [
    "df.loc['G1'].loc[1]"
   ]
  },
  {
   "cell_type": "code",
   "execution_count": 92,
   "metadata": {},
   "outputs": [
    {
     "output_type": "execute_result",
     "data": {
      "text/plain": "1    0.659026\n2   -0.945738\n3    1.181817\nName: b, dtype: float64"
     },
     "metadata": {},
     "execution_count": 92
    }
   ],
   "source": [
    "df.loc['G1']['b']"
   ]
  },
  {
   "cell_type": "code",
   "execution_count": 93,
   "metadata": {},
   "outputs": [
    {
     "output_type": "execute_result",
     "data": {
      "text/plain": "1.534005749104608"
     },
     "metadata": {},
     "execution_count": 93
    }
   ],
   "source": [
    "df.loc['G1'].loc[1, 'c']"
   ]
  },
  {
   "cell_type": "markdown",
   "metadata": {},
   "source": [
    "# 그룹 연산"
   ]
  },
  {
   "cell_type": "code",
   "execution_count": 94,
   "metadata": {},
   "outputs": [],
   "source": [
    "data = pd.read_csv('./data/data_studentlist_en.csv')\n",
    "df = pd.DataFrame(data)"
   ]
  },
  {
   "cell_type": "code",
   "execution_count": 95,
   "metadata": {},
   "outputs": [
    {
     "output_type": "execute_result",
     "data": {
      "text/plain": "              name gender  age  grade absence bloodtype  height  weight\n0    Jared Diamond      M   23      3       Y         O   165.3    68.2\n1   Sarah O'Donnel      F   22      2       N        AB   170.1    53.0\n2     Brian Martin      M   24      4       N         B   175.0    80.1\n3     David Hassel      M   23      3       N        AB   182.1    85.7\n4  Clara Rodriquez      F   20      1       Y         A   168.0    49.5",
      "text/html": "<div>\n<style scoped>\n    .dataframe tbody tr th:only-of-type {\n        vertical-align: middle;\n    }\n\n    .dataframe tbody tr th {\n        vertical-align: top;\n    }\n\n    .dataframe thead th {\n        text-align: right;\n    }\n</style>\n<table border=\"1\" class=\"dataframe\">\n  <thead>\n    <tr style=\"text-align: right;\">\n      <th></th>\n      <th>name</th>\n      <th>gender</th>\n      <th>age</th>\n      <th>grade</th>\n      <th>absence</th>\n      <th>bloodtype</th>\n      <th>height</th>\n      <th>weight</th>\n    </tr>\n  </thead>\n  <tbody>\n    <tr>\n      <th>0</th>\n      <td>Jared Diamond</td>\n      <td>M</td>\n      <td>23</td>\n      <td>3</td>\n      <td>Y</td>\n      <td>O</td>\n      <td>165.3</td>\n      <td>68.2</td>\n    </tr>\n    <tr>\n      <th>1</th>\n      <td>Sarah O'Donnel</td>\n      <td>F</td>\n      <td>22</td>\n      <td>2</td>\n      <td>N</td>\n      <td>AB</td>\n      <td>170.1</td>\n      <td>53.0</td>\n    </tr>\n    <tr>\n      <th>2</th>\n      <td>Brian Martin</td>\n      <td>M</td>\n      <td>24</td>\n      <td>4</td>\n      <td>N</td>\n      <td>B</td>\n      <td>175.0</td>\n      <td>80.1</td>\n    </tr>\n    <tr>\n      <th>3</th>\n      <td>David Hassel</td>\n      <td>M</td>\n      <td>23</td>\n      <td>3</td>\n      <td>N</td>\n      <td>AB</td>\n      <td>182.1</td>\n      <td>85.7</td>\n    </tr>\n    <tr>\n      <th>4</th>\n      <td>Clara Rodriquez</td>\n      <td>F</td>\n      <td>20</td>\n      <td>1</td>\n      <td>Y</td>\n      <td>A</td>\n      <td>168.0</td>\n      <td>49.5</td>\n    </tr>\n  </tbody>\n</table>\n</div>"
     },
     "metadata": {},
     "execution_count": 95
    }
   ],
   "source": [
    "df.head()"
   ]
  },
  {
   "cell_type": "code",
   "execution_count": 96,
   "metadata": {},
   "outputs": [
    {
     "output_type": "execute_result",
     "data": {
      "text/plain": "              age     grade      height     weight\ngender                                            \nF       21.857143  1.714286  166.642857  50.442857\nM       22.700000  2.700000  172.410000  68.500000",
      "text/html": "<div>\n<style scoped>\n    .dataframe tbody tr th:only-of-type {\n        vertical-align: middle;\n    }\n\n    .dataframe tbody tr th {\n        vertical-align: top;\n    }\n\n    .dataframe thead th {\n        text-align: right;\n    }\n</style>\n<table border=\"1\" class=\"dataframe\">\n  <thead>\n    <tr style=\"text-align: right;\">\n      <th></th>\n      <th>age</th>\n      <th>grade</th>\n      <th>height</th>\n      <th>weight</th>\n    </tr>\n    <tr>\n      <th>gender</th>\n      <th></th>\n      <th></th>\n      <th></th>\n      <th></th>\n    </tr>\n  </thead>\n  <tbody>\n    <tr>\n      <th>F</th>\n      <td>21.857143</td>\n      <td>1.714286</td>\n      <td>166.642857</td>\n      <td>50.442857</td>\n    </tr>\n    <tr>\n      <th>M</th>\n      <td>22.700000</td>\n      <td>2.700000</td>\n      <td>172.410000</td>\n      <td>68.500000</td>\n    </tr>\n  </tbody>\n</table>\n</div>"
     },
     "metadata": {},
     "execution_count": 96
    }
   ],
   "source": [
    "df.groupby('gender').mean()"
   ]
  },
  {
   "cell_type": "code",
   "execution_count": 97,
   "metadata": {},
   "outputs": [
    {
     "output_type": "execute_result",
     "data": {
      "text/plain": "166.64285714285714"
     },
     "metadata": {},
     "execution_count": 97
    }
   ],
   "source": [
    "df[df.gender=='F'].height.mean()"
   ]
  },
  {
   "cell_type": "code",
   "execution_count": 98,
   "metadata": {},
   "outputs": [
    {
     "output_type": "execute_result",
     "data": {
      "text/plain": "172.41000000000003"
     },
     "metadata": {},
     "execution_count": 98
    }
   ],
   "source": [
    "df[df.gender=='M'].height.mean()"
   ]
  },
  {
   "cell_type": "code",
   "execution_count": 99,
   "metadata": {},
   "outputs": [
    {
     "output_type": "execute_result",
     "data": {
      "text/plain": "            height     weight\ngender                       \nF       166.642857  50.442857\nM       172.410000  68.500000",
      "text/html": "<div>\n<style scoped>\n    .dataframe tbody tr th:only-of-type {\n        vertical-align: middle;\n    }\n\n    .dataframe tbody tr th {\n        vertical-align: top;\n    }\n\n    .dataframe thead th {\n        text-align: right;\n    }\n</style>\n<table border=\"1\" class=\"dataframe\">\n  <thead>\n    <tr style=\"text-align: right;\">\n      <th></th>\n      <th>height</th>\n      <th>weight</th>\n    </tr>\n    <tr>\n      <th>gender</th>\n      <th></th>\n      <th></th>\n    </tr>\n  </thead>\n  <tbody>\n    <tr>\n      <th>F</th>\n      <td>166.642857</td>\n      <td>50.442857</td>\n    </tr>\n    <tr>\n      <th>M</th>\n      <td>172.410000</td>\n      <td>68.500000</td>\n    </tr>\n  </tbody>\n</table>\n</div>"
     },
     "metadata": {},
     "execution_count": 99
    }
   ],
   "source": [
    "df.groupby('gender')[['height', 'weight']].mean()"
   ]
  },
  {
   "cell_type": "code",
   "execution_count": 100,
   "metadata": {},
   "outputs": [
    {
     "output_type": "execute_result",
     "data": {
      "text/plain": "          height    weight\ngender                    \nF       8.487414  3.907624\nM       6.804647  9.505437",
      "text/html": "<div>\n<style scoped>\n    .dataframe tbody tr th:only-of-type {\n        vertical-align: middle;\n    }\n\n    .dataframe tbody tr th {\n        vertical-align: top;\n    }\n\n    .dataframe thead th {\n        text-align: right;\n    }\n</style>\n<table border=\"1\" class=\"dataframe\">\n  <thead>\n    <tr style=\"text-align: right;\">\n      <th></th>\n      <th>height</th>\n      <th>weight</th>\n    </tr>\n    <tr>\n      <th>gender</th>\n      <th></th>\n      <th></th>\n    </tr>\n  </thead>\n  <tbody>\n    <tr>\n      <th>F</th>\n      <td>8.487414</td>\n      <td>3.907624</td>\n    </tr>\n    <tr>\n      <th>M</th>\n      <td>6.804647</td>\n      <td>9.505437</td>\n    </tr>\n  </tbody>\n</table>\n</div>"
     },
     "metadata": {},
     "execution_count": 100
    }
   ],
   "source": [
    "df.groupby('gender')[['height', 'weight']].std()"
   ]
  },
  {
   "cell_type": "code",
   "execution_count": 101,
   "metadata": {},
   "outputs": [
    {
     "output_type": "execute_result",
     "data": {
      "text/plain": "        height  weight\ngender                \nF        155.2    45.2\nM        162.2    55.3",
      "text/html": "<div>\n<style scoped>\n    .dataframe tbody tr th:only-of-type {\n        vertical-align: middle;\n    }\n\n    .dataframe tbody tr th {\n        vertical-align: top;\n    }\n\n    .dataframe thead th {\n        text-align: right;\n    }\n</style>\n<table border=\"1\" class=\"dataframe\">\n  <thead>\n    <tr style=\"text-align: right;\">\n      <th></th>\n      <th>height</th>\n      <th>weight</th>\n    </tr>\n    <tr>\n      <th>gender</th>\n      <th></th>\n      <th></th>\n    </tr>\n  </thead>\n  <tbody>\n    <tr>\n      <th>F</th>\n      <td>155.2</td>\n      <td>45.2</td>\n    </tr>\n    <tr>\n      <th>M</th>\n      <td>162.2</td>\n      <td>55.3</td>\n    </tr>\n  </tbody>\n</table>\n</div>"
     },
     "metadata": {},
     "execution_count": 101
    }
   ],
   "source": [
    "df.groupby('gender')[['height', 'weight']].min()"
   ]
  },
  {
   "cell_type": "code",
   "execution_count": 102,
   "metadata": {},
   "outputs": [
    {
     "output_type": "execute_result",
     "data": {
      "text/plain": "                      height\ngender bloodtype            \nF      A          172.450000\n       AB         170.100000\n       B          158.200000\n       O          164.433333\nM      A          165.700000\n       AB         181.050000\n       B          174.550000\n       O          166.200000",
      "text/html": "<div>\n<style scoped>\n    .dataframe tbody tr th:only-of-type {\n        vertical-align: middle;\n    }\n\n    .dataframe tbody tr th {\n        vertical-align: top;\n    }\n\n    .dataframe thead th {\n        text-align: right;\n    }\n</style>\n<table border=\"1\" class=\"dataframe\">\n  <thead>\n    <tr style=\"text-align: right;\">\n      <th></th>\n      <th></th>\n      <th>height</th>\n    </tr>\n    <tr>\n      <th>gender</th>\n      <th>bloodtype</th>\n      <th></th>\n    </tr>\n  </thead>\n  <tbody>\n    <tr>\n      <th rowspan=\"4\" valign=\"top\">F</th>\n      <th>A</th>\n      <td>172.450000</td>\n    </tr>\n    <tr>\n      <th>AB</th>\n      <td>170.100000</td>\n    </tr>\n    <tr>\n      <th>B</th>\n      <td>158.200000</td>\n    </tr>\n    <tr>\n      <th>O</th>\n      <td>164.433333</td>\n    </tr>\n    <tr>\n      <th rowspan=\"4\" valign=\"top\">M</th>\n      <th>A</th>\n      <td>165.700000</td>\n    </tr>\n    <tr>\n      <th>AB</th>\n      <td>181.050000</td>\n    </tr>\n    <tr>\n      <th>B</th>\n      <td>174.550000</td>\n    </tr>\n    <tr>\n      <th>O</th>\n      <td>166.200000</td>\n    </tr>\n  </tbody>\n</table>\n</div>"
     },
     "metadata": {},
     "execution_count": 102
    }
   ],
   "source": [
    "df.groupby(['gender','bloodtype'])[['height']].mean()"
   ]
  },
  {
   "cell_type": "code",
   "execution_count": 103,
   "metadata": {},
   "outputs": [
    {
     "output_type": "execute_result",
     "data": {
      "text/plain": "                      height     weight\ngender bloodtype                       \nF      A          172.450000  52.250000\n       AB         170.100000  53.000000\n       B          158.200000  45.200000\n       O          164.433333  50.133333\nM      A          165.700000  58.750000\n       AB         181.050000  80.750000\n       B          174.550000  68.950000\n       O          166.200000  65.100000",
      "text/html": "<div>\n<style scoped>\n    .dataframe tbody tr th:only-of-type {\n        vertical-align: middle;\n    }\n\n    .dataframe tbody tr th {\n        vertical-align: top;\n    }\n\n    .dataframe thead th {\n        text-align: right;\n    }\n</style>\n<table border=\"1\" class=\"dataframe\">\n  <thead>\n    <tr style=\"text-align: right;\">\n      <th></th>\n      <th></th>\n      <th>height</th>\n      <th>weight</th>\n    </tr>\n    <tr>\n      <th>gender</th>\n      <th>bloodtype</th>\n      <th></th>\n      <th></th>\n    </tr>\n  </thead>\n  <tbody>\n    <tr>\n      <th rowspan=\"4\" valign=\"top\">F</th>\n      <th>A</th>\n      <td>172.450000</td>\n      <td>52.250000</td>\n    </tr>\n    <tr>\n      <th>AB</th>\n      <td>170.100000</td>\n      <td>53.000000</td>\n    </tr>\n    <tr>\n      <th>B</th>\n      <td>158.200000</td>\n      <td>45.200000</td>\n    </tr>\n    <tr>\n      <th>O</th>\n      <td>164.433333</td>\n      <td>50.133333</td>\n    </tr>\n    <tr>\n      <th rowspan=\"4\" valign=\"top\">M</th>\n      <th>A</th>\n      <td>165.700000</td>\n      <td>58.750000</td>\n    </tr>\n    <tr>\n      <th>AB</th>\n      <td>181.050000</td>\n      <td>80.750000</td>\n    </tr>\n    <tr>\n      <th>B</th>\n      <td>174.550000</td>\n      <td>68.950000</td>\n    </tr>\n    <tr>\n      <th>O</th>\n      <td>166.200000</td>\n      <td>65.100000</td>\n    </tr>\n  </tbody>\n</table>\n</div>"
     },
     "metadata": {},
     "execution_count": 103
    }
   ],
   "source": [
    "dfr = df.groupby(['gender','bloodtype'])[['height', 'weight']].mean()\n",
    "\n",
    "dfr"
   ]
  },
  {
   "cell_type": "code",
   "execution_count": 104,
   "metadata": {},
   "outputs": [
    {
     "output_type": "execute_result",
     "data": {
      "text/plain": "height    165.70\nweight     58.75\nName: A, dtype: float64"
     },
     "metadata": {},
     "execution_count": 104
    }
   ],
   "source": [
    "dfr.loc['M'].loc['A']"
   ]
  },
  {
   "cell_type": "code",
   "execution_count": 105,
   "metadata": {},
   "outputs": [
    {
     "output_type": "execute_result",
     "data": {
      "text/plain": "165.7"
     },
     "metadata": {},
     "execution_count": 105
    }
   ],
   "source": [
    "dfr.loc['M'].loc['A'].height"
   ]
  },
  {
   "cell_type": "code",
   "execution_count": 106,
   "metadata": {},
   "outputs": [
    {
     "output_type": "execute_result",
     "data": {
      "text/plain": "gender\nF    166.642857\nM    172.410000\nName: height, dtype: float64"
     },
     "metadata": {},
     "execution_count": 106
    }
   ],
   "source": [
    "# SQL 문\n",
    "'''\n",
    "SELECT AVG(height) FROM df GROUP BY gender;\n",
    "'''\n",
    "\n",
    "df.groupby('gender').height.mean()"
   ]
  },
  {
   "cell_type": "markdown",
   "metadata": {},
   "source": [
    "위 형식 같은 문제가 퀴즈에 나올 수 있음"
   ]
  },
  {
   "cell_type": "code",
   "execution_count": 107,
   "metadata": {},
   "outputs": [
    {
     "output_type": "execute_result",
     "data": {
      "text/plain": "gender  bloodtype\nF       A            172.450000\n        AB           170.100000\n        B            158.200000\n        O            164.433333\nM       A            165.700000\n        AB           181.050000\n        B            174.550000\n        O            166.200000\nName: height, dtype: float64"
     },
     "metadata": {},
     "execution_count": 107
    }
   ],
   "source": [
    "# 시리즈의 경우\n",
    "sr = df.groupby(['gender','bloodtype'])['height'].mean()\n",
    "sr"
   ]
  },
  {
   "cell_type": "code",
   "execution_count": 108,
   "metadata": {},
   "outputs": [
    {
     "output_type": "execute_result",
     "data": {
      "text/plain": "172.45"
     },
     "metadata": {},
     "execution_count": 108
    }
   ],
   "source": [
    "sr.loc['F'].loc['A']"
   ]
  },
  {
   "cell_type": "code",
   "execution_count": 109,
   "metadata": {},
   "outputs": [
    {
     "output_type": "execute_result",
     "data": {
      "text/plain": "172.45"
     },
     "metadata": {},
     "execution_count": 109
    }
   ],
   "source": [
    "sr['F']['A']"
   ]
  },
  {
   "cell_type": "code",
   "execution_count": 110,
   "metadata": {},
   "outputs": [
    {
     "output_type": "execute_result",
     "data": {
      "text/plain": "181.05"
     },
     "metadata": {},
     "execution_count": 110
    }
   ],
   "source": [
    "sr['M']['AB']"
   ]
  },
  {
   "cell_type": "markdown",
   "metadata": {},
   "source": [
    "# apply 함수, sort_values 함수 등"
   ]
  },
  {
   "cell_type": "markdown",
   "metadata": {},
   "source": [
    "## apply()"
   ]
  },
  {
   "cell_type": "code",
   "execution_count": 111,
   "metadata": {},
   "outputs": [
    {
     "output_type": "execute_result",
     "data": {
      "text/plain": "0     1.653\n1     1.701\n2     1.750\n3     1.821\n4     1.680\n5     1.620\n6     1.552\n7     1.769\n8     1.785\n9     1.761\n10    1.671\n11    1.800\n12    1.622\n13    1.761\n14    1.582\n15    1.686\n16    1.692\nName: height, dtype: float64"
     },
     "metadata": {},
     "execution_count": 111
    }
   ],
   "source": [
    "df.height.apply(lambda x: x/100)"
   ]
  },
  {
   "cell_type": "code",
   "execution_count": 112,
   "metadata": {},
   "outputs": [
    {
     "output_type": "execute_result",
     "data": {
      "text/plain": "0     165.3\n1     170.1\n2     175.0\n3     182.1\n4     168.0\n5     162.0\n6     155.2\n7     176.9\n8     178.5\n9     176.1\n10    167.1\n11    180.0\n12    162.2\n13    176.1\n14    158.2\n15    168.6\n16    169.2\nName: height, dtype: float64"
     },
     "metadata": {},
     "execution_count": 112
    }
   ],
   "source": [
    "# 원본 객체는 그대로\n",
    "df.height"
   ]
  },
  {
   "cell_type": "markdown",
   "metadata": {},
   "source": [
    "## sort_values()\n",
    "\n",
    "정렬"
   ]
  },
  {
   "cell_type": "code",
   "execution_count": 113,
   "metadata": {},
   "outputs": [
    {
     "output_type": "execute_result",
     "data": {
      "text/plain": "                name gender  age  grade absence bloodtype  height  weight\n4    Clara Rodriquez      F   20      1       Y         A   168.0    49.5\n16      Andrew Daley      M   21      1       N         A   169.2    62.2\n5   Jennifer Lorentz      F   21      2       N         O   162.0    52.0",
      "text/html": "<div>\n<style scoped>\n    .dataframe tbody tr th:only-of-type {\n        vertical-align: middle;\n    }\n\n    .dataframe tbody tr th {\n        vertical-align: top;\n    }\n\n    .dataframe thead th {\n        text-align: right;\n    }\n</style>\n<table border=\"1\" class=\"dataframe\">\n  <thead>\n    <tr style=\"text-align: right;\">\n      <th></th>\n      <th>name</th>\n      <th>gender</th>\n      <th>age</th>\n      <th>grade</th>\n      <th>absence</th>\n      <th>bloodtype</th>\n      <th>height</th>\n      <th>weight</th>\n    </tr>\n  </thead>\n  <tbody>\n    <tr>\n      <th>4</th>\n      <td>Clara Rodriquez</td>\n      <td>F</td>\n      <td>20</td>\n      <td>1</td>\n      <td>Y</td>\n      <td>A</td>\n      <td>168.0</td>\n      <td>49.5</td>\n    </tr>\n    <tr>\n      <th>16</th>\n      <td>Andrew Daley</td>\n      <td>M</td>\n      <td>21</td>\n      <td>1</td>\n      <td>N</td>\n      <td>A</td>\n      <td>169.2</td>\n      <td>62.2</td>\n    </tr>\n    <tr>\n      <th>5</th>\n      <td>Jennifer Lorentz</td>\n      <td>F</td>\n      <td>21</td>\n      <td>2</td>\n      <td>N</td>\n      <td>O</td>\n      <td>162.0</td>\n      <td>52.0</td>\n    </tr>\n  </tbody>\n</table>\n</div>"
     },
     "metadata": {},
     "execution_count": 113
    }
   ],
   "source": [
    "df.sort_values(by='age')[:3]"
   ]
  },
  {
   "cell_type": "code",
   "execution_count": 114,
   "metadata": {},
   "outputs": [
    {
     "output_type": "execute_result",
     "data": {
      "text/plain": "                name gender  age  grade absence bloodtype  height  weight\n1     Sarah O'Donnel      F   22      2       N        AB   170.1    53.0\n14      Linda Carter      F   22      2       N         B   158.2    45.2\n13  Rebecah Anderson      F   23      3       N         O   176.1    53.1",
      "text/html": "<div>\n<style scoped>\n    .dataframe tbody tr th:only-of-type {\n        vertical-align: middle;\n    }\n\n    .dataframe tbody tr th {\n        vertical-align: top;\n    }\n\n    .dataframe thead th {\n        text-align: right;\n    }\n</style>\n<table border=\"1\" class=\"dataframe\">\n  <thead>\n    <tr style=\"text-align: right;\">\n      <th></th>\n      <th>name</th>\n      <th>gender</th>\n      <th>age</th>\n      <th>grade</th>\n      <th>absence</th>\n      <th>bloodtype</th>\n      <th>height</th>\n      <th>weight</th>\n    </tr>\n  </thead>\n  <tbody>\n    <tr>\n      <th>1</th>\n      <td>Sarah O'Donnel</td>\n      <td>F</td>\n      <td>22</td>\n      <td>2</td>\n      <td>N</td>\n      <td>AB</td>\n      <td>170.1</td>\n      <td>53.0</td>\n    </tr>\n    <tr>\n      <th>14</th>\n      <td>Linda Carter</td>\n      <td>F</td>\n      <td>22</td>\n      <td>2</td>\n      <td>N</td>\n      <td>B</td>\n      <td>158.2</td>\n      <td>45.2</td>\n    </tr>\n    <tr>\n      <th>13</th>\n      <td>Rebecah Anderson</td>\n      <td>F</td>\n      <td>23</td>\n      <td>3</td>\n      <td>N</td>\n      <td>O</td>\n      <td>176.1</td>\n      <td>53.1</td>\n    </tr>\n  </tbody>\n</table>\n</div>"
     },
     "metadata": {},
     "execution_count": 114
    }
   ],
   "source": [
    "df.sort_values(by='gender')[:3]"
   ]
  },
  {
   "cell_type": "code",
   "execution_count": 115,
   "metadata": {},
   "outputs": [
    {
     "output_type": "execute_result",
     "data": {
      "text/plain": "              name gender  age  grade absence bloodtype  height  weight\n2     Brian Martin      M   24      4       N         B   175.0    80.1\n15  Richard Swayze      M   24      4       Y         B   168.6    70.2\n10   Joshua Connor      M   24      4       Y         O   167.1    62.0",
      "text/html": "<div>\n<style scoped>\n    .dataframe tbody tr th:only-of-type {\n        vertical-align: middle;\n    }\n\n    .dataframe tbody tr th {\n        vertical-align: top;\n    }\n\n    .dataframe thead th {\n        text-align: right;\n    }\n</style>\n<table border=\"1\" class=\"dataframe\">\n  <thead>\n    <tr style=\"text-align: right;\">\n      <th></th>\n      <th>name</th>\n      <th>gender</th>\n      <th>age</th>\n      <th>grade</th>\n      <th>absence</th>\n      <th>bloodtype</th>\n      <th>height</th>\n      <th>weight</th>\n    </tr>\n  </thead>\n  <tbody>\n    <tr>\n      <th>2</th>\n      <td>Brian Martin</td>\n      <td>M</td>\n      <td>24</td>\n      <td>4</td>\n      <td>N</td>\n      <td>B</td>\n      <td>175.0</td>\n      <td>80.1</td>\n    </tr>\n    <tr>\n      <th>15</th>\n      <td>Richard Swayze</td>\n      <td>M</td>\n      <td>24</td>\n      <td>4</td>\n      <td>Y</td>\n      <td>B</td>\n      <td>168.6</td>\n      <td>70.2</td>\n    </tr>\n    <tr>\n      <th>10</th>\n      <td>Joshua Connor</td>\n      <td>M</td>\n      <td>24</td>\n      <td>4</td>\n      <td>Y</td>\n      <td>O</td>\n      <td>167.1</td>\n      <td>62.0</td>\n    </tr>\n  </tbody>\n</table>\n</div>"
     },
     "metadata": {},
     "execution_count": 115
    }
   ],
   "source": [
    "df.sort_values(by='age', ascending=False)[:3]"
   ]
  },
  {
   "cell_type": "code",
   "execution_count": 116,
   "metadata": {},
   "outputs": [
    {
     "output_type": "execute_result",
     "data": {
      "text/plain": "               name gender  age  grade absence bloodtype  height  weight\n4   Clara Rodriquez      F   20      1       Y         A   168.0    49.5\n12     Eddy Johnson      M   21      1       N         A   162.2    55.3\n16     Andrew Daley      M   21      1       N         A   169.2    62.2\n7   Margareth Jones      F   23      1       N         A   176.9    55.0\n1    Sarah O'Donnel      F   22      2       N        AB   170.1    53.0",
      "text/html": "<div>\n<style scoped>\n    .dataframe tbody tr th:only-of-type {\n        vertical-align: middle;\n    }\n\n    .dataframe tbody tr th {\n        vertical-align: top;\n    }\n\n    .dataframe thead th {\n        text-align: right;\n    }\n</style>\n<table border=\"1\" class=\"dataframe\">\n  <thead>\n    <tr style=\"text-align: right;\">\n      <th></th>\n      <th>name</th>\n      <th>gender</th>\n      <th>age</th>\n      <th>grade</th>\n      <th>absence</th>\n      <th>bloodtype</th>\n      <th>height</th>\n      <th>weight</th>\n    </tr>\n  </thead>\n  <tbody>\n    <tr>\n      <th>4</th>\n      <td>Clara Rodriquez</td>\n      <td>F</td>\n      <td>20</td>\n      <td>1</td>\n      <td>Y</td>\n      <td>A</td>\n      <td>168.0</td>\n      <td>49.5</td>\n    </tr>\n    <tr>\n      <th>12</th>\n      <td>Eddy Johnson</td>\n      <td>M</td>\n      <td>21</td>\n      <td>1</td>\n      <td>N</td>\n      <td>A</td>\n      <td>162.2</td>\n      <td>55.3</td>\n    </tr>\n    <tr>\n      <th>16</th>\n      <td>Andrew Daley</td>\n      <td>M</td>\n      <td>21</td>\n      <td>1</td>\n      <td>N</td>\n      <td>A</td>\n      <td>169.2</td>\n      <td>62.2</td>\n    </tr>\n    <tr>\n      <th>7</th>\n      <td>Margareth Jones</td>\n      <td>F</td>\n      <td>23</td>\n      <td>1</td>\n      <td>N</td>\n      <td>A</td>\n      <td>176.9</td>\n      <td>55.0</td>\n    </tr>\n    <tr>\n      <th>1</th>\n      <td>Sarah O'Donnel</td>\n      <td>F</td>\n      <td>22</td>\n      <td>2</td>\n      <td>N</td>\n      <td>AB</td>\n      <td>170.1</td>\n      <td>53.0</td>\n    </tr>\n  </tbody>\n</table>\n</div>"
     },
     "metadata": {},
     "execution_count": 116
    }
   ],
   "source": [
    "df.sort_values(by=['bloodtype', 'age'])[:5]"
   ]
  },
  {
   "cell_type": "code",
   "execution_count": 117,
   "metadata": {},
   "outputs": [
    {
     "output_type": "execute_result",
     "data": {
      "text/plain": "               name gender  age  grade absence bloodtype  height  weight\n4   Clara Rodriquez      F   20      1       Y         A   168.0    49.5\n12     Eddy Johnson      M   21      1       N         A   162.2    55.3\n16     Andrew Daley      M   21      1       N         A   169.2    62.2\n7   Margareth Jones      F   23      1       N         A   176.9    55.0\n1    Sarah O'Donnel      F   22      2       N        AB   170.1    53.0",
      "text/html": "<div>\n<style scoped>\n    .dataframe tbody tr th:only-of-type {\n        vertical-align: middle;\n    }\n\n    .dataframe tbody tr th {\n        vertical-align: top;\n    }\n\n    .dataframe thead th {\n        text-align: right;\n    }\n</style>\n<table border=\"1\" class=\"dataframe\">\n  <thead>\n    <tr style=\"text-align: right;\">\n      <th></th>\n      <th>name</th>\n      <th>gender</th>\n      <th>age</th>\n      <th>grade</th>\n      <th>absence</th>\n      <th>bloodtype</th>\n      <th>height</th>\n      <th>weight</th>\n    </tr>\n  </thead>\n  <tbody>\n    <tr>\n      <th>4</th>\n      <td>Clara Rodriquez</td>\n      <td>F</td>\n      <td>20</td>\n      <td>1</td>\n      <td>Y</td>\n      <td>A</td>\n      <td>168.0</td>\n      <td>49.5</td>\n    </tr>\n    <tr>\n      <th>12</th>\n      <td>Eddy Johnson</td>\n      <td>M</td>\n      <td>21</td>\n      <td>1</td>\n      <td>N</td>\n      <td>A</td>\n      <td>162.2</td>\n      <td>55.3</td>\n    </tr>\n    <tr>\n      <th>16</th>\n      <td>Andrew Daley</td>\n      <td>M</td>\n      <td>21</td>\n      <td>1</td>\n      <td>N</td>\n      <td>A</td>\n      <td>169.2</td>\n      <td>62.2</td>\n    </tr>\n    <tr>\n      <th>7</th>\n      <td>Margareth Jones</td>\n      <td>F</td>\n      <td>23</td>\n      <td>1</td>\n      <td>N</td>\n      <td>A</td>\n      <td>176.9</td>\n      <td>55.0</td>\n    </tr>\n    <tr>\n      <th>1</th>\n      <td>Sarah O'Donnel</td>\n      <td>F</td>\n      <td>22</td>\n      <td>2</td>\n      <td>N</td>\n      <td>AB</td>\n      <td>170.1</td>\n      <td>53.0</td>\n    </tr>\n  </tbody>\n</table>\n</div>"
     },
     "metadata": {},
     "execution_count": 117
    }
   ],
   "source": [
    "df.sort_values(by=['bloodtype', 'age'], ascending=['True', 'False'])[:5]"
   ]
  },
  {
   "cell_type": "markdown",
   "metadata": {},
   "source": [
    "### reset_index()\n",
    "\n",
    "DataFrame의 열의 리셋\n",
    "\n",
    "인덱스를 리셋 시키는데 사용\n",
    "\n",
    "기본값으로 인덱스 값들을 DataFrame의 열로 전송하며, 새로운 단순한 정수 인덱스를 세팅한다. \n",
    "\n",
    "옵션\n",
    "    - drop: 인덱스로 세팅한 열을 DataFrame내에서 삭제할지 여부를 결정"
   ]
  },
  {
   "cell_type": "code",
   "execution_count": 118,
   "metadata": {},
   "outputs": [
    {
     "output_type": "execute_result",
     "data": {
      "text/plain": "                name gender  age  grade absence bloodtype  height  weight\n0    Clara Rodriquez      F   20      1       Y         A   168.0    49.5\n1       Eddy Johnson      M   21      1       N         A   162.2    55.3\n2       Andrew Daley      M   21      1       N         A   169.2    62.2\n3    Margareth Jones      F   23      1       N         A   176.9    55.0\n4     Sarah O'Donnel      F   22      2       N        AB   170.1    53.0\n5       John Matsuda      M   22      2       N        AB   180.0    75.8\n6       David Hassel      M   23      3       N        AB   182.1    85.7\n7     Jake Timmerman      M   22      2       N         B   176.1    61.3\n8       Linda Carter      F   22      2       N         B   158.2    45.2\n9       John Bertsch      M   23      3       N         B   178.5    64.2\n10      Brian Martin      M   24      4       N         B   175.0    80.1\n11    Richard Swayze      M   24      4       Y         B   168.6    70.2\n12  Jennifer Lorentz      F   21      2       N         O   162.0    52.0\n13       Susan Clark      F   22      1       N         O   155.2    45.3\n14     Jared Diamond      M   23      3       Y         O   165.3    68.2\n15  Rebecah Anderson      F   23      3       N         O   176.1    53.1\n16     Joshua Connor      M   24      4       Y         O   167.1    62.0",
      "text/html": "<div>\n<style scoped>\n    .dataframe tbody tr th:only-of-type {\n        vertical-align: middle;\n    }\n\n    .dataframe tbody tr th {\n        vertical-align: top;\n    }\n\n    .dataframe thead th {\n        text-align: right;\n    }\n</style>\n<table border=\"1\" class=\"dataframe\">\n  <thead>\n    <tr style=\"text-align: right;\">\n      <th></th>\n      <th>name</th>\n      <th>gender</th>\n      <th>age</th>\n      <th>grade</th>\n      <th>absence</th>\n      <th>bloodtype</th>\n      <th>height</th>\n      <th>weight</th>\n    </tr>\n  </thead>\n  <tbody>\n    <tr>\n      <th>0</th>\n      <td>Clara Rodriquez</td>\n      <td>F</td>\n      <td>20</td>\n      <td>1</td>\n      <td>Y</td>\n      <td>A</td>\n      <td>168.0</td>\n      <td>49.5</td>\n    </tr>\n    <tr>\n      <th>1</th>\n      <td>Eddy Johnson</td>\n      <td>M</td>\n      <td>21</td>\n      <td>1</td>\n      <td>N</td>\n      <td>A</td>\n      <td>162.2</td>\n      <td>55.3</td>\n    </tr>\n    <tr>\n      <th>2</th>\n      <td>Andrew Daley</td>\n      <td>M</td>\n      <td>21</td>\n      <td>1</td>\n      <td>N</td>\n      <td>A</td>\n      <td>169.2</td>\n      <td>62.2</td>\n    </tr>\n    <tr>\n      <th>3</th>\n      <td>Margareth Jones</td>\n      <td>F</td>\n      <td>23</td>\n      <td>1</td>\n      <td>N</td>\n      <td>A</td>\n      <td>176.9</td>\n      <td>55.0</td>\n    </tr>\n    <tr>\n      <th>4</th>\n      <td>Sarah O'Donnel</td>\n      <td>F</td>\n      <td>22</td>\n      <td>2</td>\n      <td>N</td>\n      <td>AB</td>\n      <td>170.1</td>\n      <td>53.0</td>\n    </tr>\n    <tr>\n      <th>5</th>\n      <td>John Matsuda</td>\n      <td>M</td>\n      <td>22</td>\n      <td>2</td>\n      <td>N</td>\n      <td>AB</td>\n      <td>180.0</td>\n      <td>75.8</td>\n    </tr>\n    <tr>\n      <th>6</th>\n      <td>David Hassel</td>\n      <td>M</td>\n      <td>23</td>\n      <td>3</td>\n      <td>N</td>\n      <td>AB</td>\n      <td>182.1</td>\n      <td>85.7</td>\n    </tr>\n    <tr>\n      <th>7</th>\n      <td>Jake Timmerman</td>\n      <td>M</td>\n      <td>22</td>\n      <td>2</td>\n      <td>N</td>\n      <td>B</td>\n      <td>176.1</td>\n      <td>61.3</td>\n    </tr>\n    <tr>\n      <th>8</th>\n      <td>Linda Carter</td>\n      <td>F</td>\n      <td>22</td>\n      <td>2</td>\n      <td>N</td>\n      <td>B</td>\n      <td>158.2</td>\n      <td>45.2</td>\n    </tr>\n    <tr>\n      <th>9</th>\n      <td>John Bertsch</td>\n      <td>M</td>\n      <td>23</td>\n      <td>3</td>\n      <td>N</td>\n      <td>B</td>\n      <td>178.5</td>\n      <td>64.2</td>\n    </tr>\n    <tr>\n      <th>10</th>\n      <td>Brian Martin</td>\n      <td>M</td>\n      <td>24</td>\n      <td>4</td>\n      <td>N</td>\n      <td>B</td>\n      <td>175.0</td>\n      <td>80.1</td>\n    </tr>\n    <tr>\n      <th>11</th>\n      <td>Richard Swayze</td>\n      <td>M</td>\n      <td>24</td>\n      <td>4</td>\n      <td>Y</td>\n      <td>B</td>\n      <td>168.6</td>\n      <td>70.2</td>\n    </tr>\n    <tr>\n      <th>12</th>\n      <td>Jennifer Lorentz</td>\n      <td>F</td>\n      <td>21</td>\n      <td>2</td>\n      <td>N</td>\n      <td>O</td>\n      <td>162.0</td>\n      <td>52.0</td>\n    </tr>\n    <tr>\n      <th>13</th>\n      <td>Susan Clark</td>\n      <td>F</td>\n      <td>22</td>\n      <td>1</td>\n      <td>N</td>\n      <td>O</td>\n      <td>155.2</td>\n      <td>45.3</td>\n    </tr>\n    <tr>\n      <th>14</th>\n      <td>Jared Diamond</td>\n      <td>M</td>\n      <td>23</td>\n      <td>3</td>\n      <td>Y</td>\n      <td>O</td>\n      <td>165.3</td>\n      <td>68.2</td>\n    </tr>\n    <tr>\n      <th>15</th>\n      <td>Rebecah Anderson</td>\n      <td>F</td>\n      <td>23</td>\n      <td>3</td>\n      <td>N</td>\n      <td>O</td>\n      <td>176.1</td>\n      <td>53.1</td>\n    </tr>\n    <tr>\n      <th>16</th>\n      <td>Joshua Connor</td>\n      <td>M</td>\n      <td>24</td>\n      <td>4</td>\n      <td>Y</td>\n      <td>O</td>\n      <td>167.1</td>\n      <td>62.0</td>\n    </tr>\n  </tbody>\n</table>\n</div>"
     },
     "metadata": {},
     "execution_count": 118
    }
   ],
   "source": [
    "# index 리셋\n",
    "df.sort_values(by=['bloodtype', 'age'], ascending=['True', 'False']).reset_index(drop=True)"
   ]
  },
  {
   "cell_type": "code",
   "execution_count": 119,
   "metadata": {},
   "outputs": [
    {
     "output_type": "execute_result",
     "data": {
      "text/plain": "array(['O', 'AB', 'B', 'A'], dtype=object)"
     },
     "metadata": {},
     "execution_count": 119
    }
   ],
   "source": [
    "df.bloodtype.unique()"
   ]
  },
  {
   "cell_type": "code",
   "execution_count": 120,
   "metadata": {},
   "outputs": [
    {
     "output_type": "execute_result",
     "data": {
      "text/plain": "4"
     },
     "metadata": {},
     "execution_count": 120
    }
   ],
   "source": [
    "df.bloodtype.nunique()"
   ]
  },
  {
   "cell_type": "code",
   "execution_count": 121,
   "metadata": {},
   "outputs": [
    {
     "output_type": "execute_result",
     "data": {
      "text/plain": "0    B\n1    O\ndtype: object"
     },
     "metadata": {},
     "execution_count": 121
    }
   ],
   "source": [
    "df.bloodtype.mode()"
   ]
  },
  {
   "cell_type": "markdown",
   "metadata": {},
   "source": [
    "# 피벗 테이블"
   ]
  },
  {
   "cell_type": "code",
   "execution_count": 122,
   "metadata": {},
   "outputs": [
    {
     "output_type": "execute_result",
     "data": {
      "text/plain": "            height\ngender            \nF       166.642857\nM       172.410000",
      "text/html": "<div>\n<style scoped>\n    .dataframe tbody tr th:only-of-type {\n        vertical-align: middle;\n    }\n\n    .dataframe tbody tr th {\n        vertical-align: top;\n    }\n\n    .dataframe thead th {\n        text-align: right;\n    }\n</style>\n<table border=\"1\" class=\"dataframe\">\n  <thead>\n    <tr style=\"text-align: right;\">\n      <th></th>\n      <th>height</th>\n    </tr>\n    <tr>\n      <th>gender</th>\n      <th></th>\n    </tr>\n  </thead>\n  <tbody>\n    <tr>\n      <th>F</th>\n      <td>166.642857</td>\n    </tr>\n    <tr>\n      <th>M</th>\n      <td>172.410000</td>\n    </tr>\n  </tbody>\n</table>\n</div>"
     },
     "metadata": {},
     "execution_count": 122
    }
   ],
   "source": [
    "df.groupby('gender')[['height']].mean()"
   ]
  },
  {
   "cell_type": "code",
   "execution_count": 123,
   "metadata": {},
   "outputs": [
    {
     "output_type": "execute_result",
     "data": {
      "text/plain": "            height\ngender            \nF       166.642857\nM       172.410000",
      "text/html": "<div>\n<style scoped>\n    .dataframe tbody tr th:only-of-type {\n        vertical-align: middle;\n    }\n\n    .dataframe tbody tr th {\n        vertical-align: top;\n    }\n\n    .dataframe thead th {\n        text-align: right;\n    }\n</style>\n<table border=\"1\" class=\"dataframe\">\n  <thead>\n    <tr style=\"text-align: right;\">\n      <th></th>\n      <th>height</th>\n    </tr>\n    <tr>\n      <th>gender</th>\n      <th></th>\n    </tr>\n  </thead>\n  <tbody>\n    <tr>\n      <th>F</th>\n      <td>166.642857</td>\n    </tr>\n    <tr>\n      <th>M</th>\n      <td>172.410000</td>\n    </tr>\n  </tbody>\n</table>\n</div>"
     },
     "metadata": {},
     "execution_count": 123
    }
   ],
   "source": [
    "# default 가 np.mean\n",
    "\n",
    "# pd.pivot_table(df, index=['gender'], values='height', aggfunc=np.mean)\n",
    "\n",
    "pd.pivot_table(df, index=['gender'], values='height')"
   ]
  },
  {
   "cell_type": "code",
   "execution_count": 124,
   "metadata": {},
   "outputs": [
    {
     "output_type": "execute_result",
     "data": {
      "text/plain": "            height     weight\ngender                       \nF       166.642857  50.442857\nM       172.410000  68.500000",
      "text/html": "<div>\n<style scoped>\n    .dataframe tbody tr th:only-of-type {\n        vertical-align: middle;\n    }\n\n    .dataframe tbody tr th {\n        vertical-align: top;\n    }\n\n    .dataframe thead th {\n        text-align: right;\n    }\n</style>\n<table border=\"1\" class=\"dataframe\">\n  <thead>\n    <tr style=\"text-align: right;\">\n      <th></th>\n      <th>height</th>\n      <th>weight</th>\n    </tr>\n    <tr>\n      <th>gender</th>\n      <th></th>\n      <th></th>\n    </tr>\n  </thead>\n  <tbody>\n    <tr>\n      <th>F</th>\n      <td>166.642857</td>\n      <td>50.442857</td>\n    </tr>\n    <tr>\n      <th>M</th>\n      <td>172.410000</td>\n      <td>68.500000</td>\n    </tr>\n  </tbody>\n</table>\n</div>"
     },
     "metadata": {},
     "execution_count": 124
    }
   ],
   "source": [
    "pd.pivot_table(df, index=['gender'], values=['height', 'weight'])"
   ]
  },
  {
   "cell_type": "code",
   "execution_count": 125,
   "metadata": {},
   "outputs": [
    {
     "output_type": "execute_result",
     "data": {
      "text/plain": "                      height     weight\ngender bloodtype                       \nF      A          172.450000  52.250000\n       AB         170.100000  53.000000\n       B          158.200000  45.200000\n       O          164.433333  50.133333\nM      A          165.700000  58.750000\n       AB         181.050000  80.750000\n       B          174.550000  68.950000\n       O          166.200000  65.100000",
      "text/html": "<div>\n<style scoped>\n    .dataframe tbody tr th:only-of-type {\n        vertical-align: middle;\n    }\n\n    .dataframe tbody tr th {\n        vertical-align: top;\n    }\n\n    .dataframe thead th {\n        text-align: right;\n    }\n</style>\n<table border=\"1\" class=\"dataframe\">\n  <thead>\n    <tr style=\"text-align: right;\">\n      <th></th>\n      <th></th>\n      <th>height</th>\n      <th>weight</th>\n    </tr>\n    <tr>\n      <th>gender</th>\n      <th>bloodtype</th>\n      <th></th>\n      <th></th>\n    </tr>\n  </thead>\n  <tbody>\n    <tr>\n      <th rowspan=\"4\" valign=\"top\">F</th>\n      <th>A</th>\n      <td>172.450000</td>\n      <td>52.250000</td>\n    </tr>\n    <tr>\n      <th>AB</th>\n      <td>170.100000</td>\n      <td>53.000000</td>\n    </tr>\n    <tr>\n      <th>B</th>\n      <td>158.200000</td>\n      <td>45.200000</td>\n    </tr>\n    <tr>\n      <th>O</th>\n      <td>164.433333</td>\n      <td>50.133333</td>\n    </tr>\n    <tr>\n      <th rowspan=\"4\" valign=\"top\">M</th>\n      <th>A</th>\n      <td>165.700000</td>\n      <td>58.750000</td>\n    </tr>\n    <tr>\n      <th>AB</th>\n      <td>181.050000</td>\n      <td>80.750000</td>\n    </tr>\n    <tr>\n      <th>B</th>\n      <td>174.550000</td>\n      <td>68.950000</td>\n    </tr>\n    <tr>\n      <th>O</th>\n      <td>166.200000</td>\n      <td>65.100000</td>\n    </tr>\n  </tbody>\n</table>\n</div>"
     },
     "metadata": {},
     "execution_count": 125
    }
   ],
   "source": [
    "pd.pivot_table(df, index=['gender', 'bloodtype'], values=['height', 'weight'])"
   ]
  },
  {
   "cell_type": "markdown",
   "metadata": {},
   "source": [
    "- group by 한것과 pivot table 한것이 같아 보인다."
   ]
  },
  {
   "cell_type": "code",
   "execution_count": 126,
   "metadata": {},
   "outputs": [
    {
     "output_type": "execute_result",
     "data": {
      "text/plain": "           height                            \nbloodtype       A      AB       B           O\ngender                                       \nF          172.45  170.10  158.20  164.433333\nM          165.70  181.05  174.55  166.200000",
      "text/html": "<div>\n<style scoped>\n    .dataframe tbody tr th:only-of-type {\n        vertical-align: middle;\n    }\n\n    .dataframe tbody tr th {\n        vertical-align: top;\n    }\n\n    .dataframe thead tr th {\n        text-align: left;\n    }\n\n    .dataframe thead tr:last-of-type th {\n        text-align: right;\n    }\n</style>\n<table border=\"1\" class=\"dataframe\">\n  <thead>\n    <tr>\n      <th></th>\n      <th colspan=\"4\" halign=\"left\">height</th>\n    </tr>\n    <tr>\n      <th>bloodtype</th>\n      <th>A</th>\n      <th>AB</th>\n      <th>B</th>\n      <th>O</th>\n    </tr>\n    <tr>\n      <th>gender</th>\n      <th></th>\n      <th></th>\n      <th></th>\n      <th></th>\n    </tr>\n  </thead>\n  <tbody>\n    <tr>\n      <th>F</th>\n      <td>172.45</td>\n      <td>170.10</td>\n      <td>158.20</td>\n      <td>164.433333</td>\n    </tr>\n    <tr>\n      <th>M</th>\n      <td>165.70</td>\n      <td>181.05</td>\n      <td>174.55</td>\n      <td>166.200000</td>\n    </tr>\n  </tbody>\n</table>\n</div>"
     },
     "metadata": {},
     "execution_count": 126
    }
   ],
   "source": [
    "pd.pivot_table(df, index=['gender'], columns=['bloodtype'], values=['height'])"
   ]
  },
  {
   "cell_type": "code",
   "execution_count": 127,
   "metadata": {},
   "outputs": [
    {
     "output_type": "execute_result",
     "data": {
      "text/plain": "          height                                                     \nabsence        N                                      Y              \nbloodtype      A      AB           B           O      A      B      O\ngender                                                               \nF          176.9  170.10  158.200000  164.433333  168.0    NaN    NaN\nM          165.7  181.05  176.533333         NaN    NaN  168.6  166.2",
      "text/html": "<div>\n<style scoped>\n    .dataframe tbody tr th:only-of-type {\n        vertical-align: middle;\n    }\n\n    .dataframe tbody tr th {\n        vertical-align: top;\n    }\n\n    .dataframe thead tr th {\n        text-align: left;\n    }\n\n    .dataframe thead tr:last-of-type th {\n        text-align: right;\n    }\n</style>\n<table border=\"1\" class=\"dataframe\">\n  <thead>\n    <tr>\n      <th></th>\n      <th colspan=\"7\" halign=\"left\">height</th>\n    </tr>\n    <tr>\n      <th>absence</th>\n      <th colspan=\"4\" halign=\"left\">N</th>\n      <th colspan=\"3\" halign=\"left\">Y</th>\n    </tr>\n    <tr>\n      <th>bloodtype</th>\n      <th>A</th>\n      <th>AB</th>\n      <th>B</th>\n      <th>O</th>\n      <th>A</th>\n      <th>B</th>\n      <th>O</th>\n    </tr>\n    <tr>\n      <th>gender</th>\n      <th></th>\n      <th></th>\n      <th></th>\n      <th></th>\n      <th></th>\n      <th></th>\n      <th></th>\n    </tr>\n  </thead>\n  <tbody>\n    <tr>\n      <th>F</th>\n      <td>176.9</td>\n      <td>170.10</td>\n      <td>158.200000</td>\n      <td>164.433333</td>\n      <td>168.0</td>\n      <td>NaN</td>\n      <td>NaN</td>\n    </tr>\n    <tr>\n      <th>M</th>\n      <td>165.7</td>\n      <td>181.05</td>\n      <td>176.533333</td>\n      <td>NaN</td>\n      <td>NaN</td>\n      <td>168.6</td>\n      <td>166.2</td>\n    </tr>\n  </tbody>\n</table>\n</div>"
     },
     "metadata": {},
     "execution_count": 127
    }
   ],
   "source": [
    "pd.pivot_table(df, index=['gender'], columns=['absence', 'bloodtype'], values=['height'])"
   ]
  },
  {
   "cell_type": "code",
   "execution_count": 128,
   "metadata": {},
   "outputs": [
    {
     "output_type": "execute_result",
     "data": {
      "text/plain": "          height                                                   \nabsence        N                                    Y              \nbloodtype      A      AB           B           O    A      B      O\ngender                                                             \nF          176.9  170.10  158.200000  164.433333  168    0.0    0.0\nM          165.7  181.05  176.533333    0.000000    0  168.6  166.2",
      "text/html": "<div>\n<style scoped>\n    .dataframe tbody tr th:only-of-type {\n        vertical-align: middle;\n    }\n\n    .dataframe tbody tr th {\n        vertical-align: top;\n    }\n\n    .dataframe thead tr th {\n        text-align: left;\n    }\n\n    .dataframe thead tr:last-of-type th {\n        text-align: right;\n    }\n</style>\n<table border=\"1\" class=\"dataframe\">\n  <thead>\n    <tr>\n      <th></th>\n      <th colspan=\"7\" halign=\"left\">height</th>\n    </tr>\n    <tr>\n      <th>absence</th>\n      <th colspan=\"4\" halign=\"left\">N</th>\n      <th colspan=\"3\" halign=\"left\">Y</th>\n    </tr>\n    <tr>\n      <th>bloodtype</th>\n      <th>A</th>\n      <th>AB</th>\n      <th>B</th>\n      <th>O</th>\n      <th>A</th>\n      <th>B</th>\n      <th>O</th>\n    </tr>\n    <tr>\n      <th>gender</th>\n      <th></th>\n      <th></th>\n      <th></th>\n      <th></th>\n      <th></th>\n      <th></th>\n      <th></th>\n    </tr>\n  </thead>\n  <tbody>\n    <tr>\n      <th>F</th>\n      <td>176.9</td>\n      <td>170.10</td>\n      <td>158.200000</td>\n      <td>164.433333</td>\n      <td>168</td>\n      <td>0.0</td>\n      <td>0.0</td>\n    </tr>\n    <tr>\n      <th>M</th>\n      <td>165.7</td>\n      <td>181.05</td>\n      <td>176.533333</td>\n      <td>0.000000</td>\n      <td>0</td>\n      <td>168.6</td>\n      <td>166.2</td>\n    </tr>\n  </tbody>\n</table>\n</div>"
     },
     "metadata": {},
     "execution_count": 128
    }
   ],
   "source": [
    "pd.pivot_table(df, index=['gender'], columns=['absence', 'bloodtype'], values=['height'], fill_value=0)"
   ]
  },
  {
   "cell_type": "code",
   "execution_count": 129,
   "metadata": {},
   "outputs": [
    {
     "output_type": "execute_result",
     "data": {
      "text/plain": "            height     weight\ngender                       \nF       166.642857  50.442857\nM       172.410000  68.500000",
      "text/html": "<div>\n<style scoped>\n    .dataframe tbody tr th:only-of-type {\n        vertical-align: middle;\n    }\n\n    .dataframe tbody tr th {\n        vertical-align: top;\n    }\n\n    .dataframe thead th {\n        text-align: right;\n    }\n</style>\n<table border=\"1\" class=\"dataframe\">\n  <thead>\n    <tr style=\"text-align: right;\">\n      <th></th>\n      <th>height</th>\n      <th>weight</th>\n    </tr>\n    <tr>\n      <th>gender</th>\n      <th></th>\n      <th></th>\n    </tr>\n  </thead>\n  <tbody>\n    <tr>\n      <th>F</th>\n      <td>166.642857</td>\n      <td>50.442857</td>\n    </tr>\n    <tr>\n      <th>M</th>\n      <td>172.410000</td>\n      <td>68.500000</td>\n    </tr>\n  </tbody>\n</table>\n</div>"
     },
     "metadata": {},
     "execution_count": 129
    }
   ],
   "source": [
    "pd.pivot_table(df, index=['gender'], values=['height', 'weight'])"
   ]
  },
  {
   "cell_type": "code",
   "execution_count": 130,
   "metadata": {},
   "outputs": [
    {
     "output_type": "execute_result",
     "data": {
      "text/plain": "            height  weight\ngender                    \nF       166.642857    52.0\nM       172.410000    66.2",
      "text/html": "<div>\n<style scoped>\n    .dataframe tbody tr th:only-of-type {\n        vertical-align: middle;\n    }\n\n    .dataframe tbody tr th {\n        vertical-align: top;\n    }\n\n    .dataframe thead th {\n        text-align: right;\n    }\n</style>\n<table border=\"1\" class=\"dataframe\">\n  <thead>\n    <tr style=\"text-align: right;\">\n      <th></th>\n      <th>height</th>\n      <th>weight</th>\n    </tr>\n    <tr>\n      <th>gender</th>\n      <th></th>\n      <th></th>\n    </tr>\n  </thead>\n  <tbody>\n    <tr>\n      <th>F</th>\n      <td>166.642857</td>\n      <td>52.0</td>\n    </tr>\n    <tr>\n      <th>M</th>\n      <td>172.410000</td>\n      <td>66.2</td>\n    </tr>\n  </tbody>\n</table>\n</div>"
     },
     "metadata": {},
     "execution_count": 130
    }
   ],
   "source": [
    "# 집계 방식을 서로 다르게 정할 수 있다.\n",
    "pd.pivot_table(df, index=['gender'], values=['height', 'weight'], aggfunc={'height':np.mean, 'weight':np.median})"
   ]
  },
  {
   "cell_type": "markdown",
   "metadata": {},
   "source": [
    "## 예시 데이터"
   ]
  },
  {
   "cell_type": "code",
   "execution_count": 131,
   "metadata": {},
   "outputs": [
    {
     "output_type": "execute_result",
     "data": {
      "text/plain": "     A    B      C  D  E\n0  foo  one  small  1  2\n1  foo  one  large  2  4\n2  foo  one  large  2  5\n3  foo  two  small  3  5\n4  foo  two  small  3  6\n5  bar  one  large  4  6\n6  bar  one  small  5  8\n7  bar  two  small  6  9\n8  bar  two  large  7  9",
      "text/html": "<div>\n<style scoped>\n    .dataframe tbody tr th:only-of-type {\n        vertical-align: middle;\n    }\n\n    .dataframe tbody tr th {\n        vertical-align: top;\n    }\n\n    .dataframe thead th {\n        text-align: right;\n    }\n</style>\n<table border=\"1\" class=\"dataframe\">\n  <thead>\n    <tr style=\"text-align: right;\">\n      <th></th>\n      <th>A</th>\n      <th>B</th>\n      <th>C</th>\n      <th>D</th>\n      <th>E</th>\n    </tr>\n  </thead>\n  <tbody>\n    <tr>\n      <th>0</th>\n      <td>foo</td>\n      <td>one</td>\n      <td>small</td>\n      <td>1</td>\n      <td>2</td>\n    </tr>\n    <tr>\n      <th>1</th>\n      <td>foo</td>\n      <td>one</td>\n      <td>large</td>\n      <td>2</td>\n      <td>4</td>\n    </tr>\n    <tr>\n      <th>2</th>\n      <td>foo</td>\n      <td>one</td>\n      <td>large</td>\n      <td>2</td>\n      <td>5</td>\n    </tr>\n    <tr>\n      <th>3</th>\n      <td>foo</td>\n      <td>two</td>\n      <td>small</td>\n      <td>3</td>\n      <td>5</td>\n    </tr>\n    <tr>\n      <th>4</th>\n      <td>foo</td>\n      <td>two</td>\n      <td>small</td>\n      <td>3</td>\n      <td>6</td>\n    </tr>\n    <tr>\n      <th>5</th>\n      <td>bar</td>\n      <td>one</td>\n      <td>large</td>\n      <td>4</td>\n      <td>6</td>\n    </tr>\n    <tr>\n      <th>6</th>\n      <td>bar</td>\n      <td>one</td>\n      <td>small</td>\n      <td>5</td>\n      <td>8</td>\n    </tr>\n    <tr>\n      <th>7</th>\n      <td>bar</td>\n      <td>two</td>\n      <td>small</td>\n      <td>6</td>\n      <td>9</td>\n    </tr>\n    <tr>\n      <th>8</th>\n      <td>bar</td>\n      <td>two</td>\n      <td>large</td>\n      <td>7</td>\n      <td>9</td>\n    </tr>\n  </tbody>\n</table>\n</div>"
     },
     "metadata": {},
     "execution_count": 131
    }
   ],
   "source": [
    "df = pd.DataFrame({\"A\": [\"foo\", \"foo\", \"foo\", \"foo\", \"foo\", \"bar\", \"bar\", \"bar\", \"bar\"], \n",
    "                   \"B\": [\"one\", \"one\", \"one\", \"two\", \"two\", \"one\", \"one\", \"two\", \"two\"],\n",
    "                   \"C\": [\"small\", \"large\", \"large\", \"small\", \"small\", \"large\", \"small\", \"small\", \"large\"],\n",
    "                   \"D\": [1, 2, 2, 3, 3, 4, 5, 6, 7],\n",
    "                   \"E\": [2, 4, 5, 5, 6, 6, 8, 9, 9]})\n",
    "df"
   ]
  },
  {
   "cell_type": "code",
   "execution_count": null,
   "metadata": {},
   "outputs": [],
   "source": []
  }
 ],
 "metadata": {
  "language_info": {
   "codemirror_mode": {
    "name": "ipython",
    "version": 3
   },
   "file_extension": ".py",
   "mimetype": "text/x-python",
   "name": "python",
   "nbconvert_exporter": "python",
   "pygments_lexer": "ipython3",
   "version": 3
  },
  "orig_nbformat": 2,
  "kernelspec": {
   "name": "python_defaultSpec_1594879116566",
   "display_name": "Python 3.7.7 64-bit ('study': conda)"
  }
 },
 "nbformat": 4,
 "nbformat_minor": 2
}