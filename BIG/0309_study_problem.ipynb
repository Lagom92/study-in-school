{
 "metadata": {
  "language_info": {
   "codemirror_mode": {
    "name": "ipython",
    "version": 3
   },
   "file_extension": ".py",
   "mimetype": "text/x-python",
   "name": "python",
   "nbconvert_exporter": "python",
   "pygments_lexer": "ipython3",
   "version": 3
  },
  "orig_nbformat": 2,
  "kernelspec": {
   "name": "python_defaultSpec_1596521404878",
   "display_name": "Python 3.7.7 64-bit ('study': conda)"
  }
 },
 "nbformat": 4,
 "nbformat_minor": 2,
 "cells": [
  {
   "cell_type": "markdown",
   "metadata": {},
   "source": [
    "# Mini Project"
   ]
  },
  {
   "cell_type": "code",
   "execution_count": 3,
   "metadata": {},
   "outputs": [],
   "source": [
    "import scipy.stats as st\n",
    "import numpy as np"
   ]
  },
  {
   "cell_type": "markdown",
   "metadata": {},
   "source": [
    "## 0303 학생 체중"
   ]
  },
  {
   "cell_type": "code",
   "execution_count": 4,
   "metadata": {},
   "outputs": [],
   "source": [
    "n = 500\n",
    "mu = 72\n",
    "sigma = 7"
   ]
  },
  {
   "cell_type": "markdown",
   "metadata": {},
   "source": [
    "### 체중이 60 ~ 70 kg 인 학생의 수"
   ]
  },
  {
   "cell_type": "code",
   "execution_count": 14,
   "metadata": {},
   "outputs": [
    {
     "output_type": "execute_result",
     "data": {
      "text/plain": "172.0"
     },
     "metadata": {},
     "execution_count": 14
    }
   ],
   "source": [
    "# 누적확률 사용\n",
    "res = (n * (st.norm.cdf(70, mu, sigma) - st.norm.cdf(60, mu, sigma)))\n",
    "\n",
    "np.round(res, 0)"
   ]
  },
  {
   "cell_type": "markdown",
   "metadata": {},
   "source": [
    "### 체중이 85 kg 이상인 학생의 수"
   ]
  },
  {
   "cell_type": "code",
   "execution_count": 13,
   "metadata": {},
   "outputs": [
    {
     "output_type": "execute_result",
     "data": {
      "text/plain": "16.0"
     },
     "metadata": {},
     "execution_count": 13
    }
   ],
   "source": [
    "res = n * (1 - st.norm.cdf(85, mu, sigma))\n",
    "\n",
    "np.round(res, 0)"
   ]
  },
  {
   "cell_type": "markdown",
   "metadata": {},
   "source": [
    "### 다른 90% 보다 더 무거운 학생의 몸무게"
   ]
  },
  {
   "cell_type": "code",
   "execution_count": 16,
   "metadata": {},
   "outputs": [
    {
     "output_type": "execute_result",
     "data": {
      "text/plain": "80.97"
     },
     "metadata": {},
     "execution_count": 16
    }
   ],
   "source": [
    "# 분위수 사용\n",
    "res = st.norm.ppf(0.9, mu, sigma)\n",
    "\n",
    "np.round(res, 2)"
   ]
  },
  {
   "cell_type": "markdown",
   "metadata": {},
   "source": [
    "## 0304 카이제곱-1"
   ]
  },
  {
   "cell_type": "code",
   "execution_count": 17,
   "metadata": {},
   "outputs": [],
   "source": [
    "# 자유도\n",
    "k = 9"
   ]
  },
  {
   "cell_type": "code",
   "execution_count": 18,
   "metadata": {},
   "outputs": [],
   "source": [
    "x1 = st.chi2.ppf(0.05, k)\n",
    "x2 = st.chi2.ppf(0.95, k)\n",
    "\n",
    "x1, x2"
   ]
  },
  {
   "cell_type": "code",
   "execution_count": 20,
   "metadata": {},
   "outputs": [
    {
     "output_type": "execute_result",
     "data": {
      "text/plain": "(2.7003894999803584, 19.02276779864163)"
     },
     "metadata": {},
     "execution_count": 20
    }
   ],
   "source": [
    "x1 = st.chi2.ppf(0.025, k)\n",
    "x2 = st.chi2.ppf(0.975, k)\n",
    "\n",
    "x1, x2"
   ]
  },
  {
   "cell_type": "markdown",
   "metadata": {},
   "source": [
    "## 0305 카이제곱-2"
   ]
  },
  {
   "cell_type": "code",
   "execution_count": 25,
   "metadata": {
    "tags": []
   },
   "outputs": [
    {
     "output_type": "stream",
     "name": "stdout",
     "text": "Average: 9\nMedian: 8.34\n"
    }
   ],
   "source": [
    "# 자유도\n",
    "k = 9\n",
    "avg = k\n",
    "\n",
    "median = st.chi2.ppf(0.5, k)\n",
    "\n",
    "print(f\"Average: {avg}\")\n",
    "print(f\"Median: {median:.2f}\")"
   ]
  },
  {
   "cell_type": "code",
   "execution_count": 26,
   "metadata": {
    "tags": []
   },
   "outputs": [
    {
     "output_type": "stream",
     "name": "stdout",
     "text": "Average: 28\nMedian: 27.34\n"
    }
   ],
   "source": [
    "# 자유도\n",
    "k = 28\n",
    "avg = k\n",
    "\n",
    "median = st.chi2.ppf(0.5, k)\n",
    "\n",
    "print(f\"Average: {avg}\")\n",
    "print(f\"Median: {median:.2f}\")"
   ]
  },
  {
   "cell_type": "code",
   "execution_count": 27,
   "metadata": {
    "tags": []
   },
   "outputs": [
    {
     "output_type": "stream",
     "name": "stdout",
     "text": "Average: 40\nMedian: 39.34\n"
    }
   ],
   "source": [
    "# 자유도\n",
    "k = 40\n",
    "avg = k\n",
    "\n",
    "median = st.chi2.ppf(0.5, k)\n",
    "\n",
    "print(f\"Average: {avg}\")\n",
    "print(f\"Median: {median:.2f}\")"
   ]
  },
  {
   "cell_type": "markdown",
   "metadata": {},
   "source": [
    "## 0306 스튜던트 t"
   ]
  },
  {
   "cell_type": "code",
   "execution_count": 28,
   "metadata": {},
   "outputs": [],
   "source": [
    "# 자유도 5\n",
    "x_t_5 = st.t.ppf(0.975, 5)\n",
    "\n",
    "# 자유도 20\n",
    "x_t_20 = st.t.ppf(0.975, 20)\n",
    "\n",
    "# 자유도 100\n",
    "x_t_100 = st.t.ppf(0.975, 100)\n",
    "\n",
    "# 표준정규분포의 97.5% 분위수\n",
    "x_std_norm = st.norm.ppf(0.975, 0, 1)"
   ]
  },
  {
   "cell_type": "code",
   "execution_count": 29,
   "metadata": {},
   "outputs": [
    {
     "output_type": "execute_result",
     "data": {
      "text/plain": "(2.5705818366147395, 2.0859634472658364, 1.9839715184496334)"
     },
     "metadata": {},
     "execution_count": 29
    }
   ],
   "source": [
    "x_t_5, x_t_20, x_t_100"
   ]
  },
  {
   "cell_type": "code",
   "execution_count": 30,
   "metadata": {},
   "outputs": [
    {
     "output_type": "execute_result",
     "data": {
      "text/plain": "1.959963984540054"
     },
     "metadata": {},
     "execution_count": 30
    }
   ],
   "source": [
    "x_std_norm"
   ]
  },
  {
   "cell_type": "markdown",
   "metadata": {},
   "source": [
    "- 자유도가 커질 수록 스튜던트 t의 분위수는 표준정규 분위수로 수렴"
   ]
  },
  {
   "cell_type": "markdown",
   "metadata": {},
   "source": [
    "## 0307 F 분포"
   ]
  },
  {
   "cell_type": "code",
   "execution_count": 31,
   "metadata": {},
   "outputs": [
    {
     "output_type": "execute_result",
     "data": {
      "text/plain": "2.543718549692808"
     },
     "metadata": {},
     "execution_count": 31
    }
   ],
   "source": [
    "# 문제 a\n",
    "alpha = 0.95\n",
    "d1 = 10\n",
    "d2 = 15\n",
    "\n",
    "st.f.ppf(alpha, d1, d2)"
   ]
  },
  {
   "cell_type": "code",
   "execution_count": 32,
   "metadata": {},
   "outputs": [
    {
     "output_type": "execute_result",
     "data": {
      "text/plain": "4.962078356399955"
     },
     "metadata": {},
     "execution_count": 32
    }
   ],
   "source": [
    "# 문제 b\n",
    "alpha = 0.99\n",
    "d1 = 15\n",
    "d2 = 9\n",
    "\n",
    "st.f.ppf(alpha, d1, d2)"
   ]
  },
  {
   "cell_type": "code",
   "execution_count": null,
   "metadata": {},
   "outputs": [],
   "source": []
  }
 ]
}