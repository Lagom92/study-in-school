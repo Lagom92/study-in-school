{
 "cells": [
  {
   "cell_type": "markdown",
   "metadata": {},
   "source": [
    "### 신뢰구간 계산하기"
   ]
  },
  {
   "cell_type": "code",
   "execution_count": 1,
   "metadata": {},
   "outputs": [],
   "source": [
    "import numpy as np\n",
    "import scipy.stats as st"
   ]
  },
  {
   "cell_type": "code",
   "execution_count": 3,
   "metadata": {},
   "outputs": [
    {
     "output_type": "execute_result",
     "data": {
      "text/plain": "36"
     },
     "metadata": {},
     "execution_count": 3
    }
   ],
   "source": [
    "x = np.array([25,24,24,27,29,31,28,24,25,26,25,18,30,28,23,26,27,23,16,20,22,22,25,24, 24,25,25,27,26,30,25,25,26,26,25,24])\n",
    "\n",
    "n = len(x)\n",
    "n"
   ]
  },
  {
   "cell_type": "code",
   "execution_count": 5,
   "metadata": {},
   "outputs": [
    {
     "output_type": "execute_result",
     "data": {
      "text/plain": "0.50709255283711"
     },
     "metadata": {},
     "execution_count": 5
    }
   ],
   "source": [
    "# ddof = 1 표본분산, 표본표준편차.\n",
    "n\n",
    "x_mean = x.mean()\n",
    "# ddof: 불편추정량\n",
    "s = x.std(ddof=1)\n",
    "SEM = s/np.sqrt(n)       #  st.sem(x) 로 대체 가능!\n",
    "SEM"
   ]
  },
  {
   "cell_type": "markdown",
   "metadata": {},
   "source": [
    "#### 90% 신뢰구간"
   ]
  },
  {
   "cell_type": "code",
   "execution_count": 6,
   "metadata": {},
   "outputs": [],
   "source": [
    "# 알파 정의.(오차율)\n",
    "alpha = 0.1"
   ]
  },
  {
   "cell_type": "code",
   "execution_count": 9,
   "metadata": {},
   "outputs": [
    {
     "output_type": "execute_result",
     "data": {
      "text/plain": "(24.165832750582954, 25.834167249417046)"
     },
     "metadata": {},
     "execution_count": 9
    }
   ],
   "source": [
    "# 근사값 사용.\n",
    "# 왼쪽 오른쪽에서 0.05를 땐 것\n",
    "# 신뢰구간의 하한과 상한\n",
    "(x_mean - 1.645*SEM, x_mean + 1.645*SEM)"
   ]
  },
  {
   "cell_type": "markdown",
   "metadata": {},
   "source": [
    "- 미지의 모집단에 대한 추론(inference)"
   ]
  },
  {
   "cell_type": "code",
   "execution_count": 10,
   "metadata": {},
   "outputs": [
    {
     "output_type": "execute_result",
     "data": {
      "text/plain": "1.6448536269514722"
     },
     "metadata": {},
     "execution_count": 10
    }
   ],
   "source": [
    "# 정확한 표준정규분포의 분위수 사용.\n",
    "# 분위수\n",
    "ppf = st.norm.ppf(1-alpha/2, loc=0, scale=1)\n",
    "ppf"
   ]
  },
  {
   "cell_type": "code",
   "execution_count": 11,
   "metadata": {},
   "outputs": [
    {
     "output_type": "execute_result",
     "data": {
      "text/plain": "(24.1659069752658, 25.8340930247342)"
     },
     "metadata": {},
     "execution_count": 11
    }
   ],
   "source": [
    "# 정확한 표준정규분포의 분위수 사용.\n",
    "(x_mean - ppf*SEM, x_mean + ppf*SEM)"
   ]
  },
  {
   "cell_type": "code",
   "execution_count": 12,
   "metadata": {},
   "outputs": [
    {
     "output_type": "execute_result",
     "data": {
      "text/plain": "(24.1659069752658, 25.8340930247342)"
     },
     "metadata": {},
     "execution_count": 12
    }
   ],
   "source": [
    "# 패키지의 함수 사용, 표준정규분포의 신뢰구간.\n",
    "st.norm.interval(1-alpha, loc = x_mean, scale = SEM )"
   ]
  },
  {
   "cell_type": "markdown",
   "metadata": {},
   "source": [
    "- 라이브러리를 사용한 것과 식으로 계산한것이 같음"
   ]
  },
  {
   "cell_type": "code",
   "execution_count": 16,
   "metadata": {},
   "outputs": [
    {
     "output_type": "execute_result",
     "data": {
      "text/plain": "1.6895724539637709"
     },
     "metadata": {},
     "execution_count": 16
    }
   ],
   "source": [
    "# 정확한 Student t 분포의 분위수 사용.\n",
    "# 분위수\n",
    "ppf = st.t.ppf(1-alpha/2, df=n-1)\n",
    "ppf"
   ]
  },
  {
   "cell_type": "code",
   "execution_count": 17,
   "metadata": {},
   "outputs": [
    {
     "output_type": "execute_result",
     "data": {
      "text/plain": "(24.14323039111625, 25.85676960888375)"
     },
     "metadata": {},
     "execution_count": 17
    }
   ],
   "source": [
    "(x_mean - ppf*SEM, x_mean + ppf*SEM)"
   ]
  },
  {
   "cell_type": "code",
   "execution_count": 19,
   "metadata": {},
   "outputs": [
    {
     "output_type": "execute_result",
     "data": {
      "text/plain": "(24.14323039111625, 25.85676960888375)"
     },
     "metadata": {},
     "execution_count": 19
    }
   ],
   "source": [
    "# 패키지의 함수 사용, Student t 분포의 신뢰구간.\n",
    "st.t.interval(1-alpha, df = n-1, loc = x_mean, scale = SEM )"
   ]
  },
  {
   "cell_type": "markdown",
   "metadata": {},
   "source": [
    "#### 95% 신뢰구간"
   ]
  },
  {
   "cell_type": "code",
   "execution_count": 20,
   "metadata": {},
   "outputs": [],
   "source": [
    "# 알파 정의.\n",
    "alpha = 0.05"
   ]
  },
  {
   "cell_type": "code",
   "execution_count": 21,
   "metadata": {},
   "outputs": [
    {
     "output_type": "execute_result",
     "data": {
      "text/plain": "(24.006098596439266, 25.993901403560734)"
     },
     "metadata": {},
     "execution_count": 21
    }
   ],
   "source": [
    "# 근사값 사용.\n",
    "(x_mean - 1.96*SEM, x_mean + 1.96*SEM)"
   ]
  },
  {
   "cell_type": "code",
   "execution_count": 22,
   "metadata": {},
   "outputs": [
    {
     "output_type": "execute_result",
     "data": {
      "text/plain": "(24.006116859610792, 25.993883140389208)"
     },
     "metadata": {},
     "execution_count": 22
    }
   ],
   "source": [
    "# 정확한 표준정규분포의 분위수 사용.\n",
    "(x_mean - st.norm.ppf(1-alpha/2,loc=0,scale=1)*SEM, x_mean + st.norm.ppf(1-alpha/2,loc=0,scale=1)*SEM)"
   ]
  },
  {
   "cell_type": "code",
   "execution_count": 23,
   "metadata": {},
   "outputs": [
    {
     "output_type": "execute_result",
     "data": {
      "text/plain": "(24.006116859610792, 25.993883140389208)"
     },
     "metadata": {},
     "execution_count": 23
    }
   ],
   "source": [
    "# 패키지의 함수 사용, 표준정규분포의 신뢰구간.\n",
    "st.norm.interval(1-alpha, loc = x_mean, scale = SEM )"
   ]
  },
  {
   "cell_type": "code",
   "execution_count": 24,
   "metadata": {},
   "outputs": [
    {
     "output_type": "execute_result",
     "data": {
      "text/plain": "(23.970547388128676, 26.029452611871324)"
     },
     "metadata": {},
     "execution_count": 24
    }
   ],
   "source": [
    "# 정확한 Student t 분포의 분위수 사용.\n",
    "(x_mean - st.t.ppf(1-alpha/2,df=n-1)*SEM, x_mean + st.t.ppf(1-alpha/2,df=n-1)*SEM)"
   ]
  },
  {
   "cell_type": "code",
   "execution_count": 25,
   "metadata": {},
   "outputs": [
    {
     "output_type": "execute_result",
     "data": {
      "text/plain": "(23.970547388128676, 26.029452611871324)"
     },
     "metadata": {},
     "execution_count": 25
    }
   ],
   "source": [
    "# 패키지의 함수 사용, Student t 분포의 신뢰구간.\n",
    "st.t.interval(1-alpha, df = n-1, loc = x_mean, scale = SEM )"
   ]
  },
  {
   "cell_type": "markdown",
   "metadata": {},
   "source": [
    "#### 99% 신뢰구간"
   ]
  },
  {
   "cell_type": "code",
   "execution_count": 26,
   "metadata": {},
   "outputs": [],
   "source": [
    "# 알파 정의.\n",
    "alpha = 0.01"
   ]
  },
  {
   "cell_type": "code",
   "execution_count": 27,
   "metadata": {},
   "outputs": [
    {
     "output_type": "execute_result",
     "data": {
      "text/plain": "(23.693729583891603, 26.306270416108397)"
     },
     "metadata": {},
     "execution_count": 27
    }
   ],
   "source": [
    "# 근사값 사용.\n",
    "(x_mean - 2.576*SEM, x_mean + 2.576*SEM)"
   ]
  },
  {
   "cell_type": "code",
   "execution_count": 28,
   "metadata": {},
   "outputs": [
    {
     "output_type": "execute_result",
     "data": {
      "text/plain": "(23.69381614279075, 26.30618385720925)"
     },
     "metadata": {},
     "execution_count": 28
    }
   ],
   "source": [
    "# 정확한 표준정규분포의 분위수 사용.\n",
    "(x_mean - st.norm.ppf(1-alpha/2,loc=0,scale=1)*SEM, x_mean + st.norm.ppf(1-alpha/2,loc=0,scale=1)*SEM)"
   ]
  },
  {
   "cell_type": "code",
   "execution_count": 29,
   "metadata": {},
   "outputs": [
    {
     "output_type": "execute_result",
     "data": {
      "text/plain": "(23.69381614279075, 26.30618385720925)"
     },
     "metadata": {},
     "execution_count": 29
    }
   ],
   "source": [
    "# 패키지의 함수 사용, 표준정규분포의 신뢰구간.\n",
    "st.norm.interval(1-alpha, loc = x_mean, scale = SEM )"
   ]
  },
  {
   "cell_type": "code",
   "execution_count": 30,
   "metadata": {},
   "outputs": [
    {
     "output_type": "execute_result",
     "data": {
      "text/plain": "(23.618778470336505, 26.381221529663495)"
     },
     "metadata": {},
     "execution_count": 30
    }
   ],
   "source": [
    "# 정확한 Student t 분포의 분위수 사용.\n",
    "(x_mean - st.t.ppf(1-alpha/2,df=n-1)*SEM, x_mean + st.t.ppf(1-alpha/2,df=n-1)*SEM)"
   ]
  },
  {
   "cell_type": "code",
   "execution_count": 31,
   "metadata": {},
   "outputs": [
    {
     "output_type": "execute_result",
     "data": {
      "text/plain": "(23.618778470336505, 26.381221529663495)"
     },
     "metadata": {},
     "execution_count": 31
    }
   ],
   "source": [
    "# 패키지의 함수 사용, Student t 분포의 신뢰구간.\n",
    "st.t.interval(1-alpha, df = n-1, loc = x_mean, scale = SEM )"
   ]
  },
  {
   "cell_type": "code",
   "execution_count": null,
   "metadata": {},
   "outputs": [],
   "source": []
  }
 ],
 "metadata": {
  "kernelspec": {
   "display_name": "Python 3",
   "language": "python",
   "name": "python3"
  },
  "language_info": {
   "codemirror_mode": {
    "name": "ipython",
    "version": 3
   },
   "file_extension": ".py",
   "mimetype": "text/x-python",
   "name": "python",
   "nbconvert_exporter": "python",
   "pygments_lexer": "ipython3",
   "version": "3.7.6"
  }
 },
 "nbformat": 4,
 "nbformat_minor": 2
}