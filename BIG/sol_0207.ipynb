{
 "cells": [
  {
   "cell_type": "markdown",
   "metadata": {},
   "source": [
    "### 커피숍 영업 현황"
   ]
  },
  {
   "cell_type": "markdown",
   "metadata": {},
   "source": [
    "#### 필요한 패키지들을 불러온다."
   ]
  },
  {
   "cell_type": "code",
   "execution_count": null,
   "metadata": {},
   "outputs": [],
   "source": [
    "import pandas as pd\n",
    "import numpy as np\n",
    "import os\n",
    "import matplotlib.pyplot as plt\n",
    "%matplotlib inline\n",
    "from matplotlib import font_manager, rc\n",
    "font_name = font_manager.FontProperties(fname=\"c:/Windows/Fonts/malgun.ttf\").get_name()\n",
    "rc('font', family=font_name)"
   ]
  },
  {
   "cell_type": "markdown",
   "metadata": {},
   "source": [
    "#### 1). 데이터를 불러온다."
   ]
  },
  {
   "cell_type": "code",
   "execution_count": null,
   "metadata": {},
   "outputs": [],
   "source": [
    "os.chdir(r\"..\\..\\data\")"
   ]
  },
  {
   "cell_type": "code",
   "execution_count": null,
   "metadata": {},
   "outputs": [],
   "source": [
    "df = pd.read_csv('data_coffee.csv',encoding = 'ms949')"
   ]
  },
  {
   "cell_type": "code",
   "execution_count": null,
   "metadata": {},
   "outputs": [],
   "source": [
    "df.shape"
   ]
  },
  {
   "cell_type": "code",
   "execution_count": null,
   "metadata": {},
   "outputs": [],
   "source": [
    "df.head(5)"
   ]
  },
  {
   "cell_type": "markdown",
   "metadata": {},
   "source": [
    "현재 운영중인 커피숍:"
   ]
  },
  {
   "cell_type": "code",
   "execution_count": null,
   "metadata": {},
   "outputs": [],
   "source": [
    "df2 = df.loc[df.stateOfbusiness=='운영중',:]\n",
    "df2.shape"
   ]
  },
  {
   "cell_type": "markdown",
   "metadata": {},
   "source": [
    "현재 폐업 상태의 커피숍:"
   ]
  },
  {
   "cell_type": "code",
   "execution_count": null,
   "metadata": {},
   "outputs": [],
   "source": [
    "df3 = df.loc[df.stateOfbusiness=='폐업 등',:]\n",
    "df3.shape"
   ]
  },
  {
   "cell_type": "markdown",
   "metadata": {},
   "source": [
    "#### 2). 1997~2014년도 사이의 개업 횟수를 (yearOfStart) 도수분포표로 요약하고 시각화 하시오."
   ]
  },
  {
   "cell_type": "code",
   "execution_count": null,
   "metadata": {},
   "outputs": [],
   "source": [
    "sr = df.yearOfStart.value_counts()\n",
    "sr = sr.sort_index()\n",
    "sr = sr[(1997 <= sr.index) & (sr.index <= 2014)]                          # 1997 ~ 2014\n",
    "sr"
   ]
  },
  {
   "cell_type": "code",
   "execution_count": null,
   "metadata": {},
   "outputs": [],
   "source": [
    "plt.plot(sr.index, sr.values, color='blue', alpha=0.5, linewidth=2, linestyle='--')\n",
    "plt.xlim([1997, 2014])"
   ]
  },
  {
   "cell_type": "code",
   "execution_count": null,
   "metadata": {},
   "outputs": [],
   "source": [
    "# 다음 방식도 가능함.\n",
    "sr.plot.line( color='blue', alpha=0.5, linewidth=2, linestyle='--')\n",
    "plt.xlim([1997, 2014])"
   ]
  },
  {
   "cell_type": "markdown",
   "metadata": {},
   "source": [
    "#### 3). 운영중인 커피숍 대상으로 1997~2014년도 사이의 개업 회수를 도수분포표로 요약하시오. "
   ]
  },
  {
   "cell_type": "code",
   "execution_count": null,
   "metadata": {},
   "outputs": [],
   "source": [
    "srOpen = df2.yearOfStart.value_counts()\n",
    "srOpen = srOpen.sort_index()\n",
    "srOpen = srOpen[(1997 <= srOpen.index) & (srOpen.index <= 2014)]                          # 1997 ~ 2014\n",
    "#srOpen"
   ]
  },
  {
   "cell_type": "markdown",
   "metadata": {},
   "source": [
    "#### 4). 폐업상태 커피숍 대상으로 1997~2014년도 사이의 개업 회수를 도수분포표로 요약하시오. "
   ]
  },
  {
   "cell_type": "code",
   "execution_count": null,
   "metadata": {},
   "outputs": [],
   "source": [
    "srClose = df3.yearOfStart.value_counts()\n",
    "srClose = srClose.sort_index()\n",
    "srClose = srClose[(1997 <= srClose.index) & (srClose.index <= 2014)]                          # 1997 ~ 2014\n",
    "#srClose"
   ]
  },
  {
   "cell_type": "markdown",
   "metadata": {},
   "source": [
    "#### 5). 위 #3과 #4 결과를 하나의 그래프로 시각화한다. 범례도 포함한다. "
   ]
  },
  {
   "cell_type": "code",
   "execution_count": null,
   "metadata": {},
   "outputs": [],
   "source": [
    "# 다른 방식.\n",
    "plt.plot(srOpen.index, srOpen.values, color = 'blue', linestyle='--',label='Open')\n",
    "plt.plot(srClose.index, srClose.values,color = 'red', linestyle='-.', label='Closed')\n",
    "plt.legend(loc=0)\n",
    "plt.xlim([1997, 2014])\n",
    "plt.show()"
   ]
  },
  {
   "cell_type": "code",
   "execution_count": null,
   "metadata": {},
   "outputs": [],
   "source": [
    "# 또 다른 방식 1.\n",
    "srOpen.plot.line(color = 'blue', linestyle='--',label='Open')\n",
    "srClose.plot.line(color = 'red', linestyle='-.', label='Closed')\n",
    "plt.legend(loc=0)\n",
    "plt.xlim([1997, 2014])\n",
    "plt.show()"
   ]
  },
  {
   "cell_type": "code",
   "execution_count": null,
   "metadata": {},
   "outputs": [],
   "source": [
    "# 또 다른 방식 2.\n",
    "fig = plt.figure(figsize=[5,3])\n",
    "my_axes = fig.add_axes([0,0,1,1])\n",
    "my_axes.plot(srOpen.index, srOpen.values, color = 'blue', linestyle='--',label='Open')\n",
    "my_axes.plot(srClose.index, srClose.values,color = 'red', linestyle='-.', label='Closed')\n",
    "my_axes.legend(loc=0)\n",
    "my_axes.set_xlim([1997, 2014])\n",
    "plt.show()"
   ]
  },
  {
   "cell_type": "markdown",
   "metadata": {},
   "source": [
    "#### 6). groupby 메서드 사용하는 방식:"
   ]
  },
  {
   "cell_type": "code",
   "execution_count": null,
   "metadata": {},
   "outputs": [],
   "source": [
    "my_groups = df.groupby('stateOfbusiness')\n",
    "my_series = []\n",
    "my_names = []\n",
    "for name, dfb in my_groups:\n",
    "    sr = dfb.yearOfStart.value_counts()\n",
    "    sr = sr.sort_index()\n",
    "    sr = sr[(1997 <= sr.index) & (sr.index <= 2014)]\n",
    "    my_series += [sr]\n",
    "    my_names += [name]"
   ]
  },
  {
   "cell_type": "code",
   "execution_count": null,
   "metadata": {},
   "outputs": [],
   "source": [
    "my_colors = ['blue', 'red','green']\n",
    "my_linestyles = ['--', '-.',':']\n",
    "i=0\n",
    "for name, sr in zip(my_names, my_series):\n",
    "    sr.plot.line(color = my_colors[i], linewidth=2, linestyle = my_linestyles[i], alpha=0.5, label=name)\n",
    "    i += 1\n",
    "plt.legend(loc=0)\n",
    "plt.xlim([1997, 2014])\n",
    "plt.show()"
   ]
  },
  {
   "cell_type": "code",
   "execution_count": null,
   "metadata": {},
   "outputs": [],
   "source": []
  }
 ],
 "metadata": {
  "kernelspec": {
   "display_name": "Python 3",
   "language": "python",
   "name": "python3"
  },
  "language_info": {
   "codemirror_mode": {
    "name": "ipython",
    "version": 3
   },
   "file_extension": ".py",
   "mimetype": "text/x-python",
   "name": "python",
   "nbconvert_exporter": "python",
   "pygments_lexer": "ipython3",
   "version": "3.7.6"
  }
 },
 "nbformat": 4,
 "nbformat_minor": 2
}
