{
  "nbformat": 4,
  "nbformat_minor": 0,
  "metadata": {
    "colab": {
      "name": "0706_python.ipynb",
      "provenance": [],
      "collapsed_sections": [],
      "authorship_tag": "ABX9TyPURFKdQPyodkSPMma3wrgp",
      "include_colab_link": true
    },
    "kernelspec": {
      "name": "python3",
      "display_name": "Python 3"
    }
  },
  "cells": [
    {
      "cell_type": "markdown",
      "metadata": {
        "id": "view-in-github",
        "colab_type": "text"
      },
      "source": [
        "<a href=\"https://colab.research.google.com/github/Lagom92/study-in-school/blob/master/0706_python.ipynb\" target=\"_parent\"><img src=\"https://colab.research.google.com/assets/colab-badge.svg\" alt=\"Open In Colab\"/></a>"
      ]
    },
    {
      "cell_type": "markdown",
      "metadata": {
        "id": "uvV3iHleqT4R",
        "colab_type": "text"
      },
      "source": [
        "예제 2"
      ]
    },
    {
      "cell_type": "code",
      "metadata": {
        "id": "6Dni7Q0bqRNP",
        "colab_type": "code",
        "colab": {
          "base_uri": "https://localhost:8080/",
          "height": 52
        },
        "outputId": "600c9c9f-8db0-4c50-f504-0d27e71d4066"
      },
      "source": [
        "n = int(input(\"숫자 입력: \"))\n",
        "\n",
        "print(n - n%100)"
      ],
      "execution_count": null,
      "outputs": [
        {
          "output_type": "stream",
          "text": [
            "숫자 입력: 11111\n",
            "11100\n"
          ],
          "name": "stdout"
        }
      ]
    },
    {
      "cell_type": "code",
      "metadata": {
        "id": "NTjyA4iEqS46",
        "colab_type": "code",
        "colab": {}
      },
      "source": [
        ""
      ],
      "execution_count": null,
      "outputs": []
    },
    {
      "cell_type": "code",
      "metadata": {
        "id": "LTCj8sgmqS7Z",
        "colab_type": "code",
        "colab": {
          "base_uri": "https://localhost:8080/",
          "height": 35
        },
        "outputId": "e726d0dd-752f-4a5b-9e5d-23f6d56a41e1"
      },
      "source": [
        "# 초를 입력 받아 시 분 초 로 출력\n",
        "\n",
        "sec = 3723\n",
        "\n",
        "s = sec%60\n",
        "m = (sec//60)%60\n",
        "h = (sec//60)//60\n",
        "\n",
        "f\"{h}시 {m}분 {s}초\""
      ],
      "execution_count": null,
      "outputs": [
        {
          "output_type": "execute_result",
          "data": {
            "application/vnd.google.colaboratory.intrinsic": {
              "type": "string"
            },
            "text/plain": [
              "'1시 2분 3초'"
            ]
          },
          "metadata": {
            "tags": []
          },
          "execution_count": 16
        }
      ]
    },
    {
      "cell_type": "code",
      "metadata": {
        "id": "k42y9Bz5qS9_",
        "colab_type": "code",
        "colab": {}
      },
      "source": [
        ""
      ],
      "execution_count": null,
      "outputs": []
    },
    {
      "cell_type": "code",
      "metadata": {
        "id": "tV7juGDytJ9S",
        "colab_type": "code",
        "colab": {
          "base_uri": "https://localhost:8080/",
          "height": 34
        },
        "outputId": "3f7ccc89-96bb-4996-c80c-c1d12f76713a"
      },
      "source": [
        "time = 11\n",
        "\n",
        "if time > 8:\n",
        "  n = time - 8\n",
        "  print(f\"{8*5000 + (n*5000)*1.5}원\")\n",
        "else:\n",
        "  print(f\"{time*5000}원\")"
      ],
      "execution_count": null,
      "outputs": [
        {
          "output_type": "stream",
          "text": [
            "62500.0원\n"
          ],
          "name": "stdout"
        }
      ]
    },
    {
      "cell_type": "code",
      "metadata": {
        "id": "3J0506YxtKEE",
        "colab_type": "code",
        "colab": {
          "base_uri": "https://localhost:8080/",
          "height": 34
        },
        "outputId": "6f1e6ac3-1754-4d7e-cd51-b0aa8c015d1b"
      },
      "source": [
        "a = [1, 2]\n",
        "\n",
        "a*2"
      ],
      "execution_count": null,
      "outputs": [
        {
          "output_type": "execute_result",
          "data": {
            "text/plain": [
              "[1, 2, 1, 2]"
            ]
          },
          "metadata": {
            "tags": []
          },
          "execution_count": 26
        }
      ]
    },
    {
      "cell_type": "code",
      "metadata": {
        "id": "78PJ7z-5tKK0",
        "colab_type": "code",
        "colab": {}
      },
      "source": [
        ""
      ],
      "execution_count": null,
      "outputs": []
    },
    {
      "cell_type": "code",
      "metadata": {
        "id": "0YBfdMVix_4f",
        "colab_type": "code",
        "colab": {
          "base_uri": "https://localhost:8080/",
          "height": 87
        },
        "outputId": "70bdf62c-880c-4157-e0c6-7a5e8464327f"
      },
      "source": [
        "# 얕은 복사, 깊은 복사\n",
        "a = [1, 2, 3]\n",
        "\n",
        "b = a\n",
        "print(a is b)\n",
        "print(id(a), id(b))\n",
        "\n",
        "b = a[:]\n",
        "print(a is b)\n",
        "print(id(a), id(b))"
      ],
      "execution_count": null,
      "outputs": [
        {
          "output_type": "stream",
          "text": [
            "True\n",
            "140627419595912 140627419595912\n",
            "False\n",
            "140627419595912 140627429732872\n"
          ],
          "name": "stdout"
        }
      ]
    },
    {
      "cell_type": "code",
      "metadata": {
        "id": "gbCHg_2px_7F",
        "colab_type": "code",
        "colab": {}
      },
      "source": [
        ""
      ],
      "execution_count": null,
      "outputs": []
    },
    {
      "cell_type": "code",
      "metadata": {
        "id": "DVDhl4IvqTAg",
        "colab_type": "code",
        "colab": {
          "base_uri": "https://localhost:8080/",
          "height": 34
        },
        "outputId": "f76e4118-fa6d-4e50-b29b-63bdc1bc39a8"
      },
      "source": [
        "arr = [1, 2, 3, 4, 5]\n",
        "\n",
        "idx = arr.index(5)\n",
        "arr[idx] = 7\n",
        "\n",
        "idx = arr.index(2)\n",
        "arr[idx] = ['a', 'b', 'c']\n",
        "\n",
        "\n",
        "arr[3:] = 'd','e','f','g'\n",
        "arr"
      ],
      "execution_count": null,
      "outputs": [
        {
          "output_type": "execute_result",
          "data": {
            "text/plain": [
              "[1, ['a', 'b', 'c'], 3, 'd', 'e', 'f', 'g']"
            ]
          },
          "metadata": {
            "tags": []
          },
          "execution_count": 43
        }
      ]
    },
    {
      "cell_type": "code",
      "metadata": {
        "id": "Sp0hii3Fz4TQ",
        "colab_type": "code",
        "colab": {}
      },
      "source": [
        ""
      ],
      "execution_count": null,
      "outputs": []
    },
    {
      "cell_type": "code",
      "metadata": {
        "id": "euwi8AC2z4V8",
        "colab_type": "code",
        "colab": {
          "base_uri": "https://localhost:8080/",
          "height": 122
        },
        "outputId": "1a31de3e-dbdc-4eea-cb0f-18da056e52bd"
      },
      "source": [
        "array = [[1, 2], [3, 4], [5, 6]]\n",
        "\n",
        "for arr in array:\n",
        "  for i in arr:\n",
        "    print(i)\n"
      ],
      "execution_count": null,
      "outputs": [
        {
          "output_type": "stream",
          "text": [
            "1\n",
            "2\n",
            "3\n",
            "4\n",
            "5\n",
            "6\n"
          ],
          "name": "stdout"
        }
      ]
    },
    {
      "cell_type": "code",
      "metadata": {
        "id": "2WSFMyAh_EM_",
        "colab_type": "code",
        "colab": {}
      },
      "source": [
        ""
      ],
      "execution_count": null,
      "outputs": []
    },
    {
      "cell_type": "code",
      "metadata": {
        "id": "xIrrQmvR_EPl",
        "colab_type": "code",
        "colab": {}
      },
      "source": [
        "# for문을 사용하여 96에서 53까지 출력하시오.\n",
        "for i in range(96, 54, -1):\n",
        "  # print(i)\n",
        "\n",
        "# for문을 사용하여 21에서 57까지의 수 중 홀수만 출력하시오.\n",
        "\n",
        "\n",
        "# 정수를 입력 받아 1부터 입력 받은 정수까지 차례대로 출력하는 프로그램을 작성하시오."
      ],
      "execution_count": null,
      "outputs": []
    },
    {
      "cell_type": "code",
      "metadata": {
        "id": "UC5JnfdW_ER5",
        "colab_type": "code",
        "colab": {}
      },
      "source": [
        ""
      ],
      "execution_count": null,
      "outputs": []
    },
    {
      "cell_type": "code",
      "metadata": {
        "id": "CDW1xtKZ_EUb",
        "colab_type": "code",
        "colab": {
          "base_uri": "https://localhost:8080/",
          "height": 34
        },
        "outputId": "3c026704-bafd-40e3-8248-425fc1e19185"
      },
      "source": [
        "# 1~100까지 3의 배수의 합을 출력하세요. (1683)\n",
        "res = 0\n",
        "for i in range(1, 101):\n",
        "  if i%3 == 0:\n",
        "    res += i\n",
        "\n",
        "print(res)"
      ],
      "execution_count": null,
      "outputs": [
        {
          "output_type": "stream",
          "text": [
            "1683\n"
          ],
          "name": "stdout"
        }
      ]
    },
    {
      "cell_type": "code",
      "metadata": {
        "id": "DCtK1wEHz4X-",
        "colab_type": "code",
        "colab": {}
      },
      "source": [
        ""
      ],
      "execution_count": null,
      "outputs": []
    },
    {
      "cell_type": "code",
      "metadata": {
        "id": "I5qP1jCBB2dK",
        "colab_type": "code",
        "colab": {
          "base_uri": "https://localhost:8080/",
          "height": 105
        },
        "outputId": "77c192dd-ff17-4ae2-f881-6ba552bd3471"
      },
      "source": [
        "for i in range(1, 6):\n",
        "  print('*'*i)"
      ],
      "execution_count": null,
      "outputs": [
        {
          "output_type": "stream",
          "text": [
            "*\n",
            "**\n",
            "***\n",
            "****\n",
            "*****\n"
          ],
          "name": "stdout"
        }
      ]
    },
    {
      "cell_type": "code",
      "metadata": {
        "id": "OlGpwcJuB2fs",
        "colab_type": "code",
        "colab": {}
      },
      "source": [
        ""
      ],
      "execution_count": null,
      "outputs": []
    },
    {
      "cell_type": "code",
      "metadata": {
        "id": "lwt_fRwTB2h_",
        "colab_type": "code",
        "colab": {
          "base_uri": "https://localhost:8080/",
          "height": 70
        },
        "outputId": "f9d31947-8d55-4b6a-c922-091a101f0a88"
      },
      "source": [
        "# num2가 num1의 약수인지 확인하기\n",
        "\n",
        "def isDivisor(a, b):\n",
        "  if a == 0:\n",
        "    return False\n",
        "\n",
        "  if b%a:\n",
        "    return False\n",
        "  else:\n",
        "    return True\n",
        "\n",
        "\n",
        "num1 = 5\n",
        "num2 = 10\n",
        "res = isDivisor(num1, num2)\n",
        "print(res)\n",
        "\n",
        "num1 = 3\n",
        "num2 = 10\n",
        "res = isDivisor(num1, num2)\n",
        "print(res)\n",
        "\n",
        "num1 = 0\n",
        "num2 = 10\n",
        "res = isDivisor(num1, num2)\n",
        "print(res)\n"
      ],
      "execution_count": null,
      "outputs": [
        {
          "output_type": "stream",
          "text": [
            "True\n",
            "False\n",
            "False\n"
          ],
          "name": "stdout"
        }
      ]
    },
    {
      "cell_type": "code",
      "metadata": {
        "id": "N1nBfUcSB_ff",
        "colab_type": "code",
        "colab": {}
      },
      "source": [
        ""
      ],
      "execution_count": null,
      "outputs": []
    },
    {
      "cell_type": "code",
      "metadata": {
        "id": "vCOrOThIB_iP",
        "colab_type": "code",
        "colab": {
          "base_uri": "https://localhost:8080/",
          "height": 34
        },
        "outputId": "18350b1e-6a6e-48af-d719-27321a207dc1"
      },
      "source": [
        "# 약수들을 구하기\n",
        "\n",
        "num = 24\n",
        "def getDivisor(num):\n",
        "  res = []\n",
        "  print(f\"{num}의 약수: \", end=\" \")\n",
        "  for i in range(1, num+1):\n",
        "    if isDivisor(i, num):\n",
        "      res.append(i)\n",
        "\n",
        "  return res\n",
        "\n",
        "getDivisor(num)"
      ],
      "execution_count": null,
      "outputs": [
        {
          "output_type": "stream",
          "text": [
            "24의 약수:  "
          ],
          "name": "stdout"
        },
        {
          "output_type": "execute_result",
          "data": {
            "text/plain": [
              "[1, 2, 3, 4, 6, 8, 12, 24]"
            ]
          },
          "metadata": {
            "tags": []
          },
          "execution_count": 91
        }
      ]
    },
    {
      "cell_type": "code",
      "metadata": {
        "id": "qYbqk0yXB_kZ",
        "colab_type": "code",
        "colab": {}
      },
      "source": [
        ""
      ],
      "execution_count": null,
      "outputs": []
    },
    {
      "cell_type": "code",
      "metadata": {
        "id": "hlqsT9AhO9C5",
        "colab_type": "code",
        "colab": {
          "base_uri": "https://localhost:8080/",
          "height": 140
        },
        "outputId": "05c2011a-5446-4788-b285-28eee3c94505"
      },
      "source": [
        "start = 10\n",
        "end = 16\n",
        "\n",
        "def getDivisorRange(start, end):\n",
        "  for i in range(start, end+1):\n",
        "    res = getDivisor(i)\n",
        "    print(res)\n",
        "\n",
        "getDivisorRange(start, end)\n",
        "\n"
      ],
      "execution_count": null,
      "outputs": [
        {
          "output_type": "stream",
          "text": [
            "10의 약수:  [1, 2, 5, 10]\n",
            "11의 약수:  [1, 11]\n",
            "12의 약수:  [1, 2, 3, 4, 6, 12]\n",
            "13의 약수:  [1, 13]\n",
            "14의 약수:  [1, 2, 7, 14]\n",
            "15의 약수:  [1, 3, 5, 15]\n",
            "16의 약수:  [1, 2, 4, 8, 16]\n"
          ],
          "name": "stdout"
        }
      ]
    },
    {
      "cell_type": "code",
      "metadata": {
        "id": "yomqLgx-O9Fg",
        "colab_type": "code",
        "colab": {}
      },
      "source": [
        ""
      ],
      "execution_count": null,
      "outputs": []
    },
    {
      "cell_type": "markdown",
      "metadata": {
        "id": "TUxKVflcRSqM",
        "colab_type": "text"
      },
      "source": [
        "클래스, 객체, 인스턴스"
      ]
    },
    {
      "cell_type": "code",
      "metadata": {
        "id": "udTdHwwCO9IH",
        "colab_type": "code",
        "colab": {}
      },
      "source": [
        ""
      ],
      "execution_count": null,
      "outputs": []
    },
    {
      "cell_type": "code",
      "metadata": {
        "id": "7BUW-yD_RQe5",
        "colab_type": "code",
        "colab": {
          "base_uri": "https://localhost:8080/",
          "height": 70
        },
        "outputId": "1630f46d-5234-4304-f6ac-c3d99cac0480"
      },
      "source": [
        "class Flight:\n",
        "\n",
        "    def __init__(self): # 초기화자\n",
        "        print('init')\n",
        "        super().__init__()\n",
        "        self._name = 'SN060' # 내부 변수임을 약속(_싱글 언더바)\n",
        "        self.__hp = 1000    # 비공개 속성(__더블 언더바)\n",
        "\n",
        "    def __new__(cls):  # 생성자\n",
        "        print('new')\n",
        "        return super().__new__(cls)\n",
        "\n",
        "    def number(self):\n",
        "        return self._name\n",
        "\n",
        "\n",
        "f = Flight() # 생성자(constructor)\n",
        "f._name"
      ],
      "execution_count": null,
      "outputs": [
        {
          "output_type": "stream",
          "text": [
            "new\n",
            "init\n"
          ],
          "name": "stdout"
        },
        {
          "output_type": "execute_result",
          "data": {
            "application/vnd.google.colaboratory.intrinsic": {
              "type": "string"
            },
            "text/plain": [
              "'SN060'"
            ]
          },
          "metadata": {
            "tags": []
          },
          "execution_count": 95
        }
      ]
    },
    {
      "cell_type": "markdown",
      "metadata": {
        "id": "jOLEUPWgSsJ3",
        "colab_type": "text"
      },
      "source": [
        "실행 순서가 new 다음 init이 실행된다."
      ]
    },
    {
      "cell_type": "code",
      "metadata": {
        "id": "rnI2wMdrRQmG",
        "colab_type": "code",
        "colab": {}
      },
      "source": [
        ""
      ],
      "execution_count": null,
      "outputs": []
    },
    {
      "cell_type": "code",
      "metadata": {
        "id": "8ZyZ2N-kUAuM",
        "colab_type": "code",
        "colab": {
          "base_uri": "https://localhost:8080/",
          "height": 52
        },
        "outputId": "3f37b9da-e1df-4fcb-b2ca-f195d57c9b44"
      },
      "source": [
        "class Human:\n",
        "  def __init__(self, name, age, gender):\n",
        "    self.name = name\n",
        "    self.age = age\n",
        "    self.gender = gender\n",
        "\n",
        "  def who(self):\n",
        "    print(f\"이름: {self.name}, 나이: {self.age}, 성별: {self.gender}\") \n",
        "\n",
        "  def setinfo(self, name, age, gender):\n",
        "    self.name = name\n",
        "    self.age = age\n",
        "    self.gender = gender\n",
        "\n",
        "  def __del__(self):\n",
        "    print(\"나의 죽음을 알리지 말라\")\n",
        "\n",
        "gildong = Human(\"홍길동\", 25, \"남자\")\n",
        "print(gildong.age)"
      ],
      "execution_count": null,
      "outputs": [
        {
          "output_type": "stream",
          "text": [
            "나의 죽음을 알리지 말라\n",
            "25\n"
          ],
          "name": "stdout"
        }
      ]
    },
    {
      "cell_type": "code",
      "metadata": {
        "id": "Yz3KulS8UAyf",
        "colab_type": "code",
        "colab": {
          "base_uri": "https://localhost:8080/",
          "height": 34
        },
        "outputId": "6788d3dc-c782-4edf-a35d-761ff675b2b8"
      },
      "source": [
        "gildong.who()"
      ],
      "execution_count": null,
      "outputs": [
        {
          "output_type": "stream",
          "text": [
            "이름: 홍길동, 나이: 25, 성별: 남자\n"
          ],
          "name": "stdout"
        }
      ]
    },
    {
      "cell_type": "code",
      "metadata": {
        "id": "ymXyEt_IYWe4",
        "colab_type": "code",
        "colab": {}
      },
      "source": [
        "gildong.setinfo(\"홍길동\", \"모름\", \"모름\")"
      ],
      "execution_count": null,
      "outputs": []
    },
    {
      "cell_type": "code",
      "metadata": {
        "id": "r33SSVbPZnAG",
        "colab_type": "code",
        "colab": {
          "base_uri": "https://localhost:8080/",
          "height": 34
        },
        "outputId": "41025506-148e-4e94-9f50-958e5afe5bd5"
      },
      "source": [
        "del gildong"
      ],
      "execution_count": null,
      "outputs": [
        {
          "output_type": "stream",
          "text": [
            "나의 죽음을 알리지 말라\n"
          ],
          "name": "stdout"
        }
      ]
    },
    {
      "cell_type": "code",
      "metadata": {
        "id": "_ic1OxrGaN_V",
        "colab_type": "code",
        "colab": {}
      },
      "source": [
        ""
      ],
      "execution_count": null,
      "outputs": []
    },
    {
      "cell_type": "code",
      "metadata": {
        "id": "w5q7GidsbGFB",
        "colab_type": "code",
        "colab": {}
      },
      "source": [
        "class Stock():\n",
        "  def __init__(self, name, code):\n",
        "    self.name = name\n",
        "    self.code = code\n",
        "\n",
        "  def set_name(self, name):\n",
        "    self.name = name\n",
        "\n",
        "  def set_code(self, code):\n",
        "    self.code = code\n",
        "\n",
        "  def get_name(self):\n",
        "    return self.name\n",
        "\n",
        "  def get_code(self):\n",
        "    return self.code"
      ],
      "execution_count": null,
      "outputs": []
    },
    {
      "cell_type": "code",
      "metadata": {
        "id": "yFb53JXWbGhC",
        "colab_type": "code",
        "colab": {
          "base_uri": "https://localhost:8080/",
          "height": 34
        },
        "outputId": "9d8f2857-f99b-43db-8e23-f1fe839851e8"
      },
      "source": [
        "samsung = Stock(\"삼성전자\", \"005930\")\n",
        "samsung.name, samsung.code"
      ],
      "execution_count": null,
      "outputs": [
        {
          "output_type": "execute_result",
          "data": {
            "text/plain": [
              "('삼성전자', '005930')"
            ]
          },
          "metadata": {
            "tags": []
          },
          "execution_count": 150
        }
      ]
    },
    {
      "cell_type": "code",
      "metadata": {
        "id": "4kEx1-x7bGkN",
        "colab_type": "code",
        "colab": {
          "base_uri": "https://localhost:8080/",
          "height": 34
        },
        "outputId": "9fa27f91-954a-4e90-fcac-6cb7fc1e8606"
      },
      "source": [
        "a = Stock(None, None)\n",
        "a.set_name(\"삼성전자\")\n",
        "a.name, a.code"
      ],
      "execution_count": null,
      "outputs": [
        {
          "output_type": "execute_result",
          "data": {
            "text/plain": [
              "('삼성전자', None)"
            ]
          },
          "metadata": {
            "tags": []
          },
          "execution_count": 151
        }
      ]
    },
    {
      "cell_type": "code",
      "metadata": {
        "id": "Gs49t9h9bpLk",
        "colab_type": "code",
        "colab": {
          "base_uri": "https://localhost:8080/",
          "height": 34
        },
        "outputId": "10bb2d69-816f-4a35-f4d4-38465a01d406"
      },
      "source": [
        "a.set_code(\"005930\")\n",
        "a.name, a.code"
      ],
      "execution_count": null,
      "outputs": [
        {
          "output_type": "execute_result",
          "data": {
            "text/plain": [
              "('삼성전자', '005930')"
            ]
          },
          "metadata": {
            "tags": []
          },
          "execution_count": 152
        }
      ]
    },
    {
      "cell_type": "code",
      "metadata": {
        "id": "haf8ZFhAbpN-",
        "colab_type": "code",
        "colab": {
          "base_uri": "https://localhost:8080/",
          "height": 52
        },
        "outputId": "ef26e369-cabc-4967-d815-f1c5cd9499be"
      },
      "source": [
        "res = a.get_name()\n",
        "print(res)\n",
        "res = a.get_code()\n",
        "print(res)"
      ],
      "execution_count": null,
      "outputs": [
        {
          "output_type": "stream",
          "text": [
            "삼성전자\n",
            "005930\n"
          ],
          "name": "stdout"
        }
      ]
    },
    {
      "cell_type": "code",
      "metadata": {
        "id": "eWJJv8exbpJA",
        "colab_type": "code",
        "colab": {}
      },
      "source": [
        ""
      ],
      "execution_count": null,
      "outputs": []
    }
  ]
}