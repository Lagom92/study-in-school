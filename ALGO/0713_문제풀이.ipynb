{
 "cells": [
  {
   "cell_type": "markdown",
   "metadata": {},
   "source": [
    "# 4. __파이썬 알고리즘__ [양지웅]\n",
    "\n",
    "#### 아래 코드는 입력받은 문자열 s가 올바른 시간 형식인지 (ex: \"14:30:00\") 검증하는 코드이다.<br>\n",
    "(단, 표기 가능한 시간은 00:00:00부터 23:59:59까지로 간주한다.<br> 입력되는 문자열은 기본적으로 00~99에 해당하는 2자리 숫자와 \":\" 문자의 결합으로 이루어진다.<br> 비정상적인 형태의 문자열은 입력되지 않으며 올바른 시간 값에 해당하는 수치 검증만 행해도 무방하다.)<br>\n",
    "\n",
    "__다음 코드의 is_valid_time 함수를 구현하시오__"
   ]
  },
  {
   "cell_type": "code",
   "execution_count": 7,
   "metadata": {
    "tags": []
   },
   "outputs": [
    {
     "output_type": "stream",
     "name": "stdout",
     "text": "True\nFalse\nFalse\n"
    }
   ],
   "source": [
    "# 문제에서 제시된 변수에 저장된 값을 직접 변경하는 것은 오답으로 처리됩니다. (예외도 있으니 문제설명을 자세히 읽어주세요)\n",
    "# 제시된 변수 이외의 변수를 추가해서 문제를 풀어도 됩니다 (문제 설명에 명시된 변수 변경만 불가합니다.)\n",
    "\n",
    "test_times = [\n",
    "    \"14:30:00\",\n",
    "    \"12:70:00\",\n",
    "    \"24:00:00\"\n",
    "]\n",
    "    \n",
    "def is_valid_time(time_str):\n",
    "    h, m, s = map(int, time_str.split(':'))\n",
    "\n",
    "    if h < 0 or h > 23:\n",
    "        return False\n",
    "    if m < 0 or m > 60:\n",
    "        return False\n",
    "    if s < 0 or s > 60:\n",
    "        return False\n",
    "    \n",
    "    return True\n",
    "    \n",
    "for time in test_times:\n",
    "    print(is_valid_time(time))\n",
    "    \n",
    "# 예상 답 출력값\n",
    "# --------------\n",
    "# True\n",
    "# False\n",
    "# False"
   ]
  },
  {
   "cell_type": "markdown",
   "metadata": {},
   "source": [
    "- 실수한 부분\n",
    "    - 60분일 경우 False가 나와야하는데 범위 지정을 잘목함"
   ]
  },
  {
   "cell_type": "code",
   "execution_count": 9,
   "metadata": {
    "tags": []
   },
   "outputs": [
    {
     "output_type": "stream",
     "name": "stdout",
     "text": "True\nFalse\nFalse\n"
    }
   ],
   "source": [
    "# 강사님 풀이\n",
    "test_times = [\n",
    "    \"14:30:00\",\n",
    "    \"12:70:00\",\n",
    "    \"24:00:00\"\n",
    "]\n",
    "    \n",
    "def is_valid_time(time_str):\n",
    "    max_list = [24, 60, 60]\n",
    "    time_list = time_str.split(\":\")\n",
    "\n",
    "    # 방법 1\n",
    "    idx = 0\n",
    "    for time in time_list:\n",
    "        if int(time) >= max_list[idx]:\n",
    "            return False\n",
    "        idx += 1\n",
    "\n",
    "    # 방법 2\n",
    "    for idx in range(len(time_list)):\n",
    "        time = time_list[idx]\n",
    "        if int(time) >= max_list[idx]:\n",
    "            return False\n",
    "\n",
    "    # 방법 3\n",
    "    for idx, time in enumerate(time_list):\n",
    "        if int(time) >= max_list[idx]:\n",
    "            return False\n",
    "\n",
    "    return True\n",
    "    \n",
    "    \n",
    "for time in test_times:\n",
    "    print(is_valid_time(time))"
   ]
  },
  {
   "cell_type": "markdown",
   "metadata": {},
   "source": [
    "# 8. __SQL(2)__ [양지웅]\n",
    "\n",
    "다음 SQL문은 world.db 데이터베이스 파일에서 실행한다고 간주한다.<br>\n",
    "__다음 보기를 참고하여 SQL문을 작성하시오__\n",
    "\n",
    "    City 테이블에서 CountryCode는 국가 코드를 의미하고, 각각의 행은 도시에 관한 정보를 의미한다. \n",
    "    각 국가 코드(CountryCode)별로 몇 개의 도시를 가지고 있는지 국가코드와 도시 개수를 출력하되, \n",
    "    도시 개수가 많은 순으로 출력하는 SQL문을 작성하시오.\n",
    "    \n",
    "    출력 결과는 국가코드, 도시개수 두 열(Column)을 출력한다.\n",
    "\n",
    "정답 제출 예시 (예시 sql문은 문제와 무관합니다) <br>\n",
    "SELECT * FROM My_Table WHERE No_Emp = '0315' AND (Age<25  OR Nm_Kor = '홍길동');"
   ]
  },
  {
   "cell_type": "markdown",
   "metadata": {},
   "source": [
    "정답 : \n",
    "\n",
    "select co.Code, count(co.Code) \n",
    "\n",
    "from country as co \n",
    "\n",
    "inner join city as ci \n",
    "\n",
    "on co.Code = ci.CountryCode \n",
    "\n",
    "group by co.Code \n",
    "\n",
    "order by count(co.Code) desc;"
   ]
  },
  {
   "cell_type": "markdown",
   "metadata": {},
   "source": [
    "- 강사님 답\n",
    "\n",
    "정답:\n",
    "\n",
    "SELECT CountryCode, COUNT(CountryCode) \n",
    "\n",
    "FROM city \n",
    "\n",
    "GROUP BY CountryCode \n",
    "\n",
    "ORDER BY COUNT(CountryCode) DESC;\n",
    "\n",
    "\n"
   ]
  },
  {
   "cell_type": "code",
   "execution_count": null,
   "metadata": {},
   "outputs": [],
   "source": []
  }
 ],
 "metadata": {
  "language_info": {
   "codemirror_mode": {
    "name": "ipython",
    "version": 3
   },
   "file_extension": ".py",
   "mimetype": "text/x-python",
   "name": "python",
   "nbconvert_exporter": "python",
   "pygments_lexer": "ipython3",
   "version": 3
  },
  "orig_nbformat": 2,
  "kernelspec": {
   "name": "python_defaultSpec_1594603629264",
   "display_name": "Python 3.7.7 64-bit ('study': conda)"
  }
 },
 "nbformat": 4,
 "nbformat_minor": 2
}