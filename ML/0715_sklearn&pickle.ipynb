{
 "cells": [
  {
   "cell_type": "markdown",
   "metadata": {},
   "source": [
    "# 머신러닝 개요\n",
    "\n",
    "## 머신러닝 종류\n",
    "\n",
    "- 지도 학습\n",
    "\n",
    "- 비지도 학습\n",
    "\n",
    "- 강화학습"
   ]
  },
  {
   "cell_type": "markdown",
   "metadata": {},
   "source": [
    "## 지도 학습\n",
    "\n",
    "- 데이터에 대한 Label(명시적인 답)이 주어진 상태에서 컴퓨터를 학습시키는 방법\n",
    "\n",
    "- 분류와 회귀로 나눠진다.\n",
    "\n",
    "ex) 스팸 메일 분류, 집 가격 예측, 손글씨 숫자 판별, 신용카드 의심거래 감지, 의료영상 이미지기반 종양판단"
   ]
  },
  {
   "cell_type": "markdown",
   "metadata": {},
   "source": [
    "## 비지도 학습\n",
    "\n",
    "- 데이터에 대한 Label(명시적인 답)이 없는 상태에서 컴퓨터를 학습시키는 방법\n",
    "\n",
    "- 데이터의 숨겨진 특징, 구조, 패턴 파악\n",
    "\n",
    "- 데이터를 비슷한 특성끼리 묶는 클러스터링과 차원축소 등이 있다.\n",
    "\n",
    "ex) 블로그 글 주제 구분, 고개 취향별 그룹화, 웹사이트 비정상 접근 탐지, 이미지 감색 처리"
   ]
  },
  {
   "cell_type": "markdown",
   "metadata": {},
   "source": [
    "## 강화 학습\n",
    "\n",
    "- 지도학습과 비슷하지만 완전한 답(Label)을 제공하지 않는 특징이 있다.\n",
    "\n",
    "- 기계는 더 많은 보상을 얻을 수 있는 방향으로 행동을 학습\n",
    "\n",
    "ex) 게임이나 로봇 학습"
   ]
  },
  {
   "cell_type": "markdown",
   "metadata": {},
   "source": [
    "## 머신러닝 vs 딥러닝\n",
    "\n",
    "구분 표"
   ]
  },
  {
   "cell_type": "markdown",
   "metadata": {},
   "source": [
    "## scikit-learn\n",
    "\n",
    "- 파이썬에 머신러닝 프레임워크 라이브러리\n",
    "\n",
    "- 회귀, 분류, 군집, 차원축소, 특성공학, 전처리, 교차검증, 파이프라인 등 머신러닝에 필요한 기능 제공\n",
    "\n",
    "- 학습을 위한 샘플 데이터 제공"
   ]
  },
  {
   "cell_type": "markdown",
   "metadata": {},
   "source": [
    "### Scikit-learn 으로 XOR 연산 학습해보기\n",
    "\n",
    "- XOR 연산 ?\n",
    "\n",
    "    - 두 값이 서로 같으면 0, 다르면 1 (배타적 논리 합)"
   ]
  },
  {
   "cell_type": "code",
   "execution_count": 2,
   "metadata": {},
   "outputs": [],
   "source": [
    "from sklearn import svm"
   ]
  },
  {
   "cell_type": "code",
   "execution_count": 4,
   "metadata": {},
   "outputs": [],
   "source": [
    "# XOR의 계산 결과 데이터\n",
    "xor_input = [\n",
    "    # P, Q, R\n",
    "    [0, 0, 0],\n",
    "    [0, 1, 1],\n",
    "    [1, 0, 1],\n",
    "    [1, 1, 0]\n",
    "]"
   ]
  },
  {
   "cell_type": "code",
   "execution_count": 6,
   "metadata": {},
   "outputs": [],
   "source": [
    "# 학습을 위해 데이터와 레이블 분리하기\n",
    "xor_data = []\n",
    "xor_label = []\n",
    "\n",
    "for row in xor_input:\n",
    "    p = row[0]\n",
    "    q = row[1]\n",
    "    r = row[2]\n",
    "\n",
    "    xor_data.append([p, q])\n",
    "    xor_label.append(r)"
   ]
  },
  {
   "cell_type": "code",
   "execution_count": 8,
   "metadata": {},
   "outputs": [
    {
     "output_type": "execute_result",
     "data": {
      "text/plain": "SVC()"
     },
     "metadata": {},
     "execution_count": 8
    }
   ],
   "source": [
    "# 데이터 학습시키기\n",
    "model = svm.SVC()\n",
    "model.fit(xor_data, xor_label)"
   ]
  },
  {
   "cell_type": "code",
   "execution_count": 10,
   "metadata": {
    "tags": []
   },
   "outputs": [
    {
     "output_type": "stream",
     "name": "stdout",
     "text": "예측 데이터:  [[0, 0], [0, 1], [1, 0], [1, 1]]\n예측 결과:  [0 1 1 0]\n"
    }
   ],
   "source": [
    "# 데이터 예측하기\n",
    "pre = model.predict(xor_data)\n",
    "\n",
    "print(\"예측 데이터: \", xor_data)\n",
    "print(\"예측 결과: \", pre)"
   ]
  },
  {
   "cell_type": "code",
   "execution_count": 12,
   "metadata": {
    "tags": []
   },
   "outputs": [
    {
     "output_type": "stream",
     "name": "stdout",
     "text": "정답률:  1.0\n"
    }
   ],
   "source": [
    "# 결과 확인하기\n",
    "ok, total = 0, 0\n",
    "\n",
    "for idx, answer in enumerate(xor_label):\n",
    "    p = pre[idx]\n",
    "    if p == answer:\n",
    "        ok += 1\n",
    "    total += 1\n",
    "\n",
    "print(\"정답률: \", ok/total)\n"
   ]
  },
  {
   "cell_type": "markdown",
   "metadata": {},
   "source": [
    "## Pandas 라이브러리를 사용하여 코드 간략화"
   ]
  },
  {
   "cell_type": "code",
   "execution_count": 14,
   "metadata": {},
   "outputs": [],
   "source": [
    "import pandas as pd\n",
    "from sklearn import svm, metrics\n",
    "from sklearn.neighbors import KNeighborsClassifier"
   ]
  },
  {
   "cell_type": "code",
   "execution_count": 16,
   "metadata": {},
   "outputs": [],
   "source": [
    "# XOR 연산\n",
    "xor_input = [\n",
    "    # P, Q, R\n",
    "    [0, 0, 0],\n",
    "    [0, 1, 1],\n",
    "    [1, 0, 1],\n",
    "    [1, 1, 0]\n",
    "]"
   ]
  },
  {
   "cell_type": "code",
   "execution_count": 18,
   "metadata": {},
   "outputs": [],
   "source": [
    "# 입력을 학습 전용 데이터와 테스트 전용 데이터로 분류하기\n",
    "xor_df = pd.DataFrame(xor_input)\n",
    "xor_data = xor_df[[0, 1]]\n",
    "xor_label = xor_df[2]"
   ]
  },
  {
   "cell_type": "code",
   "execution_count": 20,
   "metadata": {},
   "outputs": [],
   "source": [
    "# 데이터 학습과 예측하기\n",
    "# model = svm.SVC()\n",
    "model = KNeighborsClassifier(n_neighbors=1)\n",
    "model.fit(xor_data, xor_label)\n",
    "pre = model.predict(xor_data)"
   ]
  },
  {
   "cell_type": "code",
   "execution_count": 22,
   "metadata": {
    "tags": []
   },
   "outputs": [
    {
     "output_type": "stream",
     "name": "stdout",
     "text": "정답률:  1.0\n"
    }
   ],
   "source": [
    "# 정답률 구하기\n",
    "ac_score = metrics.accuracy_score(xor_label, pre)\n",
    "\n",
    "print(\"정답률: \", ac_score)"
   ]
  },
  {
   "cell_type": "markdown",
   "metadata": {},
   "source": [
    "### 진행 순서\n",
    "\n",
    "1. clf = 머신러닝 모델 생성\n",
    "2. clf.fit(문제, 답)\n",
    "3. cls.predict(값을 얻고 싶은 데이터)\n",
    "4. ac_score = \n",
    "\n",
    "\n",
    "clf(classifier) - scikit-learn 에서 Estimator 인스턴스인 분류기를 지칭"
   ]
  },
  {
   "cell_type": "markdown",
   "metadata": {},
   "source": [
    "## 모델 저장과 불러오기\n",
    "## Pickle"
   ]
  },
  {
   "cell_type": "code",
   "execution_count": 24,
   "metadata": {},
   "outputs": [],
   "source": [
    "import pickle\n",
    "\n",
    "# 저장하기\n",
    "with open('./data/xor_model.pkl', 'wb') as f:\n",
    "    pickle.dump(model, f)"
   ]
  },
  {
   "cell_type": "code",
   "execution_count": 26,
   "metadata": {
    "tags": []
   },
   "outputs": [
    {
     "output_type": "stream",
     "name": "stdout",
     "text": "[0]\n"
    }
   ],
   "source": [
    "# 불러오기\n",
    "with open('./data/xor_model.pkl', 'rb') as f:\n",
    "    model = pickle.load(f)\n",
    "\n",
    "# 문제\n",
    "x_test = [\n",
    "    [1, 1]\n",
    "]\n",
    "\n",
    "# 모델 예측\n",
    "y_pred = model.predict(x_test)\n",
    "print(y_pred)"
   ]
  },
  {
   "cell_type": "markdown",
   "metadata": {},
   "source": [
    "## joblib"
   ]
  },
  {
   "cell_type": "code",
   "execution_count": 28,
   "metadata": {},
   "outputs": [
    {
     "output_type": "execute_result",
     "data": {
      "text/plain": "['./data/xor_model_2.pkl']"
     },
     "metadata": {},
     "execution_count": 28
    }
   ],
   "source": [
    "import joblib \n",
    "\n",
    "joblib.dump(model, './data/xor_model_2.pkl')"
   ]
  },
  {
   "cell_type": "markdown",
   "metadata": {},
   "source": [
    "## scikit-learn 연습 01\n",
    "\n",
    "### AND 연산 모델 작성\n",
    "\n",
    "ADD 연산 ?\n",
    "\n",
    "- 두 값이 서로 참이면 1, 아니면 0"
   ]
  },
  {
   "cell_type": "code",
   "execution_count": 30,
   "metadata": {
    "tags": []
   },
   "outputs": [
    {
     "output_type": "stream",
     "name": "stdout",
     "text": "정답률:  1.0\n"
    }
   ],
   "source": [
    "and_data = [\n",
    "    [0, 0, 0],\n",
    "    [0, 1, 0],\n",
    "    [1, 0, 0],\n",
    "    [1, 1, 1]\n",
    "]\n",
    "\n",
    "and_df = pd.DataFrame(and_data)\n",
    "x = and_df[[0, 1]]\n",
    "y = and_df[2]\n",
    "\n",
    "model = svm.SVC()\n",
    "model.fit(x, y)\n",
    "\n",
    "pred = model.predict(x)\n",
    "\n",
    "acc = metrics.accuracy_score(y, pred)\n",
    "\n",
    "print(\"정답률: \", acc)"
   ]
  },
  {
   "cell_type": "markdown",
   "metadata": {},
   "source": [
    "## 분류 ? 회귀 ?\n",
    "\n",
    "- 구분이 어려운 경우가 많다."
   ]
  },
  {
   "cell_type": "code",
   "execution_count": null,
   "metadata": {},
   "outputs": [],
   "source": []
  }
 ],
 "metadata": {
  "language_info": {
   "codemirror_mode": {
    "name": "ipython",
    "version": 3
   },
   "file_extension": ".py",
   "mimetype": "text/x-python",
   "name": "python",
   "nbconvert_exporter": "python",
   "pygments_lexer": "ipython3",
   "version": "3.7.7-final"
  },
  "orig_nbformat": 2,
  "kernelspec": {
   "name": "python_defaultSpec_1594775002153",
   "display_name": "Python 3.7.7 64-bit ('study': conda)"
  }
 },
 "nbformat": 4,
 "nbformat_minor": 2
}