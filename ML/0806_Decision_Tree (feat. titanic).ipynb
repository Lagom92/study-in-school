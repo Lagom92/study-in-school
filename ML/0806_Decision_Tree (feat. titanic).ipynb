{
 "metadata": {
  "language_info": {
   "codemirror_mode": {
    "name": "ipython",
    "version": 3
   },
   "file_extension": ".py",
   "mimetype": "text/x-python",
   "name": "python",
   "nbconvert_exporter": "python",
   "pygments_lexer": "ipython3",
   "version": 3
  },
  "orig_nbformat": 2,
  "kernelspec": {
   "name": "python_defaultSpec_1596674494211",
   "display_name": "Python 3.7.7 64-bit ('study': conda)"
  }
 },
 "nbformat": 4,
 "nbformat_minor": 2,
 "cells": [
  {
   "cell_type": "markdown",
   "metadata": {},
   "source": [
    "# 타이타닉 데이터"
   ]
  },
  {
   "cell_type": "code",
   "execution_count": 1,
   "metadata": {},
   "outputs": [],
   "source": [
    "from sklearn.tree import DecisionTreeClassifier\n",
    "import pandas as pd\n",
    "import numpy as np"
   ]
  },
  {
   "cell_type": "markdown",
   "metadata": {},
   "source": [
    "## EDA"
   ]
  },
  {
   "cell_type": "markdown",
   "metadata": {},
   "source": [
    "## 데이터 전처리"
   ]
  },
  {
   "cell_type": "code",
   "execution_count": 2,
   "metadata": {
    "tags": []
   },
   "outputs": [
    {
     "output_type": "stream",
     "name": "stdout",
     "text": "<class 'pandas.core.frame.DataFrame'>\nRangeIndex: 1309 entries, 0 to 1308\nData columns (total 17 columns):\n #   Column      Non-Null Count  Dtype  \n---  ------      --------------  -----  \n 0   pclass      1309 non-null   int64  \n 1   survived    1309 non-null   int64  \n 2   name        1309 non-null   object \n 3   sex         1309 non-null   object \n 4   age         1046 non-null   float64\n 5   sibsp       1309 non-null   int64  \n 6   parch       1309 non-null   int64  \n 7   ticket      1309 non-null   object \n 8   fare        1309 non-null   float64\n 9   cabin       295 non-null    object \n 10  embarked    1307 non-null   object \n 11  boat        486 non-null    object \n 12  body        121 non-null    float64\n 13  home.dest   745 non-null    object \n 14  Embarked_C  1309 non-null   bool   \n 15  Embarked_S  1309 non-null   bool   \n 16  Embarked_Q  1309 non-null   bool   \ndtypes: bool(3), float64(3), int64(4), object(7)\nmemory usage: 147.1+ KB\n(1309, 6)\n(1309,)\n"
    },
    {
     "output_type": "execute_result",
     "data": {
      "text/plain": "0    1\n1    1\n2    0\n3    0\n4    0\nName: survived, dtype: int64"
     },
     "metadata": {},
     "execution_count": 2
    }
   ],
   "source": [
    "titanic_data = pd.read_excel('./data/titanic.xls')\n",
    "titanic_data.head()\n",
    "\n",
    "# - embarked : 탑승장소별 컬럼 추가\n",
    "# S=Southhampton, C=Cherbourg, Q=Queenstown\n",
    "titanic_data[\"Embarked_C\"] = titanic_data[\"embarked\"] == \"C\"\n",
    "titanic_data[\"Embarked_S\"] = titanic_data[\"embarked\"] == \"S\"\n",
    "titanic_data[\"Embarked_Q\"] = titanic_data[\"embarked\"] == \"Q\"\n",
    "\n",
    "\n",
    "# 데이터에서 여성을 1로 남성을 0으로 설정\n",
    "titanic_data.loc[titanic_data[\"sex\"] == \"male\", \"sex\"] = 0 \n",
    "titanic_data.loc[titanic_data[\"sex\"] == \"female\", \"sex\"] = 1\n",
    "\n",
    "# fare : 지불한 운임\n",
    "mean_fare = titanic_data[\"fare\"].mean()\n",
    "\n",
    "# 결측치 채움\n",
    "titanic_data.loc[ pd.isnull(titanic_data[\"fare\"]) , \"fare\"] = mean_fare\n",
    "titanic_data[pd.isnull(titanic_data[\"fare\"])]\n",
    "\n",
    "titanic_data.head()\n",
    "titanic_data.info()\n",
    "\n",
    "# Feature 선택\n",
    "# X = 객실 클래스, 성별, 요금, 선착장 3개, 총 6요소\n",
    "feature_names = [\"pclass\", \"sex\", \"fare\", \"Embarked_C\", \"Embarked_Q\", \"Embarked_S\"]\n",
    "\n",
    "X = titanic_data[feature_names]\n",
    "\n",
    "print(X.shape)\n",
    "X.head()\n",
    "\n",
    "# 정답셋 준비\n",
    "# y = \"survived\"\n",
    "label_name = \"survived\"\n",
    "\n",
    "y = titanic_data[label_name]\n",
    "\n",
    "print(y.shape)\n",
    "y.head()"
   ]
  },
  {
   "cell_type": "code",
   "execution_count": 3,
   "metadata": {},
   "outputs": [],
   "source": [
    "# 데이터 분리\n",
    "from sklearn.model_selection import train_test_split\n",
    "\n",
    "X_train, X_test, y_train, y_test = train_test_split(X,\n",
    "                                                    y,\n",
    "                                                    test_size=0.1,\n",
    "                                                    random_state=13)"
   ]
  },
  {
   "cell_type": "code",
   "execution_count": 21,
   "metadata": {},
   "outputs": [
    {
     "output_type": "execute_result",
     "data": {
      "text/plain": "DecisionTreeClassifier(max_depth=4)"
     },
     "metadata": {},
     "execution_count": 21
    }
   ],
   "source": [
    "model = DecisionTreeClassifier(max_depth=4)\n",
    "model.fit(X_train, y_train)"
   ]
  },
  {
   "cell_type": "code",
   "execution_count": 22,
   "metadata": {
    "tags": []
   },
   "outputs": [
    {
     "output_type": "stream",
     "name": "stdout",
     "text": "0.8005\n0.8168\n"
    }
   ],
   "source": [
    "print(np.round(model.score(X_train, y_train), 4))\n",
    "print(np.round(model.score(X_test, y_test), 4))"
   ]
  },
  {
   "cell_type": "code",
   "execution_count": 23,
   "metadata": {},
   "outputs": [
    {
     "output_type": "display_data",
     "data": {
      "text/plain": "<graphviz.files.Source at 0x20bfa30e048>",
      "image/svg+xml": "<?xml version=\"1.0\" encoding=\"UTF-8\" standalone=\"no\"?>\r\n<!DOCTYPE svg PUBLIC \"-//W3C//DTD SVG 1.1//EN\"\r\n \"http://www.w3.org/Graphics/SVG/1.1/DTD/svg11.dtd\">\r\n<!-- Generated by graphviz version 2.38.0 (20140413.2041)\r\n -->\r\n<!-- Title: Tree Pages: 1 -->\r\n<svg width=\"2001pt\" height=\"477pt\"\r\n viewBox=\"0.00 0.00 2001.00 477.00\" xmlns=\"http://www.w3.org/2000/svg\" xmlns:xlink=\"http://www.w3.org/1999/xlink\">\r\n<g id=\"graph0\" class=\"graph\" transform=\"scale(1 1) rotate(0) translate(4 473)\">\r\n<title>Tree</title>\r\n<polygon fill=\"white\" stroke=\"none\" points=\"-4,4 -4,-473 1997,-473 1997,4 -4,4\"/>\r\n<!-- 0 -->\r\n<g id=\"node1\" class=\"node\"><title>0</title>\r\n<path fill=\"#f5d0b5\" stroke=\"black\" d=\"M1060.5,-469C1060.5,-469 954.5,-469 954.5,-469 948.5,-469 942.5,-463 942.5,-457 942.5,-457 942.5,-413 942.5,-413 942.5,-407 948.5,-401 954.5,-401 954.5,-401 1060.5,-401 1060.5,-401 1066.5,-401 1072.5,-407 1072.5,-413 1072.5,-413 1072.5,-457 1072.5,-457 1072.5,-463 1066.5,-469 1060.5,-469\"/>\r\n<text text-anchor=\"middle\" x=\"1007.5\" y=\"-453.8\" font-family=\"Helvetica,sans-Serif\" font-size=\"14.00\">X[1] &lt;= 0.5</text>\r\n<text text-anchor=\"middle\" x=\"1007.5\" y=\"-438.8\" font-family=\"Helvetica,sans-Serif\" font-size=\"14.00\">gini = 0.473</text>\r\n<text text-anchor=\"middle\" x=\"1007.5\" y=\"-423.8\" font-family=\"Helvetica,sans-Serif\" font-size=\"14.00\">samples = 1178</text>\r\n<text text-anchor=\"middle\" x=\"1007.5\" y=\"-408.8\" font-family=\"Helvetica,sans-Serif\" font-size=\"14.00\">value = [725, 453]</text>\r\n</g>\r\n<!-- 1 -->\r\n<g id=\"node2\" class=\"node\"><title>1</title>\r\n<path fill=\"#eba069\" stroke=\"black\" d=\"M812.5,-365C812.5,-365 706.5,-365 706.5,-365 700.5,-365 694.5,-359 694.5,-353 694.5,-353 694.5,-309 694.5,-309 694.5,-303 700.5,-297 706.5,-297 706.5,-297 812.5,-297 812.5,-297 818.5,-297 824.5,-303 824.5,-309 824.5,-309 824.5,-353 824.5,-353 824.5,-359 818.5,-365 812.5,-365\"/>\r\n<text text-anchor=\"middle\" x=\"759.5\" y=\"-349.8\" font-family=\"Helvetica,sans-Serif\" font-size=\"14.00\">X[0] &lt;= 1.5</text>\r\n<text text-anchor=\"middle\" x=\"759.5\" y=\"-334.8\" font-family=\"Helvetica,sans-Serif\" font-size=\"14.00\">gini = 0.316</text>\r\n<text text-anchor=\"middle\" x=\"759.5\" y=\"-319.8\" font-family=\"Helvetica,sans-Serif\" font-size=\"14.00\">samples = 763</text>\r\n<text text-anchor=\"middle\" x=\"759.5\" y=\"-304.8\" font-family=\"Helvetica,sans-Serif\" font-size=\"14.00\">value = [613, 150]</text>\r\n</g>\r\n<!-- 0&#45;&gt;1 -->\r\n<g id=\"edge1\" class=\"edge\"><title>0&#45;&gt;1</title>\r\n<path fill=\"none\" stroke=\"black\" d=\"M942.341,-407.201C909.153,-393.551 868.644,-376.89 834.198,-362.722\"/>\r\n<polygon fill=\"black\" stroke=\"black\" points=\"835.234,-359.364 824.654,-358.797 832.571,-365.838 835.234,-359.364\"/>\r\n<text text-anchor=\"middle\" x=\"834.279\" y=\"-378.17\" font-family=\"Helvetica,sans-Serif\" font-size=\"14.00\">True</text>\r\n</g>\r\n<!-- 16 -->\r\n<g id=\"node17\" class=\"node\"><title>16</title>\r\n<path fill=\"#82c1ef\" stroke=\"black\" d=\"M1318.5,-365C1318.5,-365 1212.5,-365 1212.5,-365 1206.5,-365 1200.5,-359 1200.5,-353 1200.5,-353 1200.5,-309 1200.5,-309 1200.5,-303 1206.5,-297 1212.5,-297 1212.5,-297 1318.5,-297 1318.5,-297 1324.5,-297 1330.5,-303 1330.5,-309 1330.5,-309 1330.5,-353 1330.5,-353 1330.5,-359 1324.5,-365 1318.5,-365\"/>\r\n<text text-anchor=\"middle\" x=\"1265.5\" y=\"-349.8\" font-family=\"Helvetica,sans-Serif\" font-size=\"14.00\">X[0] &lt;= 2.5</text>\r\n<text text-anchor=\"middle\" x=\"1265.5\" y=\"-334.8\" font-family=\"Helvetica,sans-Serif\" font-size=\"14.00\">gini = 0.394</text>\r\n<text text-anchor=\"middle\" x=\"1265.5\" y=\"-319.8\" font-family=\"Helvetica,sans-Serif\" font-size=\"14.00\">samples = 415</text>\r\n<text text-anchor=\"middle\" x=\"1265.5\" y=\"-304.8\" font-family=\"Helvetica,sans-Serif\" font-size=\"14.00\">value = [112, 303]</text>\r\n</g>\r\n<!-- 0&#45;&gt;16 -->\r\n<g id=\"edge16\" class=\"edge\"><title>0&#45;&gt;16</title>\r\n<path fill=\"none\" stroke=\"black\" d=\"M1072.6,-408.261C1108.66,-394.007 1153.62,-376.23 1191.07,-361.426\"/>\r\n<polygon fill=\"black\" stroke=\"black\" points=\"1192.4,-364.662 1200.42,-357.731 1189.83,-358.152 1192.4,-364.662\"/>\r\n<text text-anchor=\"middle\" x=\"1190.48\" y=\"-376.97\" font-family=\"Helvetica,sans-Serif\" font-size=\"14.00\">False</text>\r\n</g>\r\n<!-- 2 -->\r\n<g id=\"node3\" class=\"node\"><title>2</title>\r\n<path fill=\"#f4c9aa\" stroke=\"black\" d=\"M418.5,-261C418.5,-261 320.5,-261 320.5,-261 314.5,-261 308.5,-255 308.5,-249 308.5,-249 308.5,-205 308.5,-205 308.5,-199 314.5,-193 320.5,-193 320.5,-193 418.5,-193 418.5,-193 424.5,-193 430.5,-199 430.5,-205 430.5,-205 430.5,-249 430.5,-249 430.5,-255 424.5,-261 418.5,-261\"/>\r\n<text text-anchor=\"middle\" x=\"369.5\" y=\"-245.8\" font-family=\"Helvetica,sans-Serif\" font-size=\"14.00\">X[2] &lt;= 152.506</text>\r\n<text text-anchor=\"middle\" x=\"369.5\" y=\"-230.8\" font-family=\"Helvetica,sans-Serif\" font-size=\"14.00\">gini = 0.462</text>\r\n<text text-anchor=\"middle\" x=\"369.5\" y=\"-215.8\" font-family=\"Helvetica,sans-Serif\" font-size=\"14.00\">samples = 157</text>\r\n<text text-anchor=\"middle\" x=\"369.5\" y=\"-200.8\" font-family=\"Helvetica,sans-Serif\" font-size=\"14.00\">value = [100, 57]</text>\r\n</g>\r\n<!-- 1&#45;&gt;2 -->\r\n<g id=\"edge2\" class=\"edge\"><title>1&#45;&gt;2</title>\r\n<path fill=\"none\" stroke=\"black\" d=\"M694.223,-312.927C624.119,-294.593 513.077,-265.551 440.748,-246.634\"/>\r\n<polygon fill=\"black\" stroke=\"black\" points=\"441.367,-243.178 430.807,-244.034 439.596,-249.951 441.367,-243.178\"/>\r\n</g>\r\n<!-- 9 -->\r\n<g id=\"node10\" class=\"node\"><title>9</title>\r\n<path fill=\"#ea985d\" stroke=\"black\" d=\"M808.5,-261C808.5,-261 710.5,-261 710.5,-261 704.5,-261 698.5,-255 698.5,-249 698.5,-249 698.5,-205 698.5,-205 698.5,-199 704.5,-193 710.5,-193 710.5,-193 808.5,-193 808.5,-193 814.5,-193 820.5,-199 820.5,-205 820.5,-205 820.5,-249 820.5,-249 820.5,-255 814.5,-261 808.5,-261\"/>\r\n<text text-anchor=\"middle\" x=\"759.5\" y=\"-245.8\" font-family=\"Helvetica,sans-Serif\" font-size=\"14.00\">X[3] &lt;= 0.5</text>\r\n<text text-anchor=\"middle\" x=\"759.5\" y=\"-230.8\" font-family=\"Helvetica,sans-Serif\" font-size=\"14.00\">gini = 0.26</text>\r\n<text text-anchor=\"middle\" x=\"759.5\" y=\"-215.8\" font-family=\"Helvetica,sans-Serif\" font-size=\"14.00\">samples = 606</text>\r\n<text text-anchor=\"middle\" x=\"759.5\" y=\"-200.8\" font-family=\"Helvetica,sans-Serif\" font-size=\"14.00\">value = [513, 93]</text>\r\n</g>\r\n<!-- 1&#45;&gt;9 -->\r\n<g id=\"edge9\" class=\"edge\"><title>1&#45;&gt;9</title>\r\n<path fill=\"none\" stroke=\"black\" d=\"M759.5,-296.884C759.5,-288.778 759.5,-279.982 759.5,-271.472\"/>\r\n<polygon fill=\"black\" stroke=\"black\" points=\"763,-271.299 759.5,-261.299 756,-271.299 763,-271.299\"/>\r\n</g>\r\n<!-- 3 -->\r\n<g id=\"node4\" class=\"node\"><title>3</title>\r\n<path fill=\"#f5d0b6\" stroke=\"black\" d=\"M224,-157C224,-157 135,-157 135,-157 129,-157 123,-151 123,-145 123,-145 123,-101 123,-101 123,-95 129,-89 135,-89 135,-89 224,-89 224,-89 230,-89 236,-95 236,-101 236,-101 236,-145 236,-145 236,-151 230,-157 224,-157\"/>\r\n<text text-anchor=\"middle\" x=\"179.5\" y=\"-141.8\" font-family=\"Helvetica,sans-Serif\" font-size=\"14.00\">X[2] &lt;= 26.144</text>\r\n<text text-anchor=\"middle\" x=\"179.5\" y=\"-126.8\" font-family=\"Helvetica,sans-Serif\" font-size=\"14.00\">gini = 0.474</text>\r\n<text text-anchor=\"middle\" x=\"179.5\" y=\"-111.8\" font-family=\"Helvetica,sans-Serif\" font-size=\"14.00\">samples = 145</text>\r\n<text text-anchor=\"middle\" x=\"179.5\" y=\"-96.8\" font-family=\"Helvetica,sans-Serif\" font-size=\"14.00\">value = [89, 56]</text>\r\n</g>\r\n<!-- 2&#45;&gt;3 -->\r\n<g id=\"edge3\" class=\"edge\"><title>2&#45;&gt;3</title>\r\n<path fill=\"none\" stroke=\"black\" d=\"M308.337,-193.165C288.114,-182.309 265.539,-170.189 245.004,-159.165\"/>\r\n<polygon fill=\"black\" stroke=\"black\" points=\"246.502,-155.997 236.036,-154.351 243.191,-162.165 246.502,-155.997\"/>\r\n</g>\r\n<!-- 6 -->\r\n<g id=\"node7\" class=\"node\"><title>6</title>\r\n<path fill=\"#e78c4b\" stroke=\"black\" d=\"M417,-157C417,-157 322,-157 322,-157 316,-157 310,-151 310,-145 310,-145 310,-101 310,-101 310,-95 316,-89 322,-89 322,-89 417,-89 417,-89 423,-89 429,-95 429,-101 429,-101 429,-145 429,-145 429,-151 423,-157 417,-157\"/>\r\n<text text-anchor=\"middle\" x=\"369.5\" y=\"-141.8\" font-family=\"Helvetica,sans-Serif\" font-size=\"14.00\">X[2] &lt;= 387.665</text>\r\n<text text-anchor=\"middle\" x=\"369.5\" y=\"-126.8\" font-family=\"Helvetica,sans-Serif\" font-size=\"14.00\">gini = 0.153</text>\r\n<text text-anchor=\"middle\" x=\"369.5\" y=\"-111.8\" font-family=\"Helvetica,sans-Serif\" font-size=\"14.00\">samples = 12</text>\r\n<text text-anchor=\"middle\" x=\"369.5\" y=\"-96.8\" font-family=\"Helvetica,sans-Serif\" font-size=\"14.00\">value = [11, 1]</text>\r\n</g>\r\n<!-- 2&#45;&gt;6 -->\r\n<g id=\"edge6\" class=\"edge\"><title>2&#45;&gt;6</title>\r\n<path fill=\"none\" stroke=\"black\" d=\"M369.5,-192.884C369.5,-184.778 369.5,-175.982 369.5,-167.472\"/>\r\n<polygon fill=\"black\" stroke=\"black\" points=\"373,-167.299 369.5,-157.299 366,-167.299 373,-167.299\"/>\r\n</g>\r\n<!-- 4 -->\r\n<g id=\"node5\" class=\"node\"><title>4</title>\r\n<path fill=\"#eb9c63\" stroke=\"black\" d=\"M93,-53C93,-53 12,-53 12,-53 6,-53 0,-47 0,-41 0,-41 0,-12 0,-12 0,-6 6,-0 12,-0 12,-0 93,-0 93,-0 99,-0 105,-6 105,-12 105,-12 105,-41 105,-41 105,-47 99,-53 93,-53\"/>\r\n<text text-anchor=\"middle\" x=\"52.5\" y=\"-37.8\" font-family=\"Helvetica,sans-Serif\" font-size=\"14.00\">gini = 0.291</text>\r\n<text text-anchor=\"middle\" x=\"52.5\" y=\"-22.8\" font-family=\"Helvetica,sans-Serif\" font-size=\"14.00\">samples = 17</text>\r\n<text text-anchor=\"middle\" x=\"52.5\" y=\"-7.8\" font-family=\"Helvetica,sans-Serif\" font-size=\"14.00\">value = [14, 3]</text>\r\n</g>\r\n<!-- 3&#45;&gt;4 -->\r\n<g id=\"edge4\" class=\"edge\"><title>3&#45;&gt;4</title>\r\n<path fill=\"none\" stroke=\"black\" d=\"M135.082,-88.9485C122.173,-79.3431 108.104,-68.8747 95.297,-59.345\"/>\r\n<polygon fill=\"black\" stroke=\"black\" points=\"97.2,-56.3984 87.088,-53.2367 93.0213,-62.0143 97.2,-56.3984\"/>\r\n</g>\r\n<!-- 5 -->\r\n<g id=\"node6\" class=\"node\"><title>5</title>\r\n<path fill=\"#f7dac5\" stroke=\"black\" d=\"M224,-53C224,-53 135,-53 135,-53 129,-53 123,-47 123,-41 123,-41 123,-12 123,-12 123,-6 129,-0 135,-0 135,-0 224,-0 224,-0 230,-0 236,-6 236,-12 236,-12 236,-41 236,-41 236,-47 230,-53 224,-53\"/>\r\n<text text-anchor=\"middle\" x=\"179.5\" y=\"-37.8\" font-family=\"Helvetica,sans-Serif\" font-size=\"14.00\">gini = 0.485</text>\r\n<text text-anchor=\"middle\" x=\"179.5\" y=\"-22.8\" font-family=\"Helvetica,sans-Serif\" font-size=\"14.00\">samples = 128</text>\r\n<text text-anchor=\"middle\" x=\"179.5\" y=\"-7.8\" font-family=\"Helvetica,sans-Serif\" font-size=\"14.00\">value = [75, 53]</text>\r\n</g>\r\n<!-- 3&#45;&gt;5 -->\r\n<g id=\"edge5\" class=\"edge\"><title>3&#45;&gt;5</title>\r\n<path fill=\"none\" stroke=\"black\" d=\"M179.5,-88.9485C179.5,-80.7153 179.5,-71.848 179.5,-63.4814\"/>\r\n<polygon fill=\"black\" stroke=\"black\" points=\"183,-63.2367 179.5,-53.2367 176,-63.2367 183,-63.2367\"/>\r\n</g>\r\n<!-- 7 -->\r\n<g id=\"node8\" class=\"node\"><title>7</title>\r\n<path fill=\"#e58139\" stroke=\"black\" d=\"M347,-53C347,-53 266,-53 266,-53 260,-53 254,-47 254,-41 254,-41 254,-12 254,-12 254,-6 260,-0 266,-0 266,-0 347,-0 347,-0 353,-0 359,-6 359,-12 359,-12 359,-41 359,-41 359,-47 353,-53 347,-53\"/>\r\n<text text-anchor=\"middle\" x=\"306.5\" y=\"-37.8\" font-family=\"Helvetica,sans-Serif\" font-size=\"14.00\">gini = 0.0</text>\r\n<text text-anchor=\"middle\" x=\"306.5\" y=\"-22.8\" font-family=\"Helvetica,sans-Serif\" font-size=\"14.00\">samples = 11</text>\r\n<text text-anchor=\"middle\" x=\"306.5\" y=\"-7.8\" font-family=\"Helvetica,sans-Serif\" font-size=\"14.00\">value = [11, 0]</text>\r\n</g>\r\n<!-- 6&#45;&gt;7 -->\r\n<g id=\"edge7\" class=\"edge\"><title>6&#45;&gt;7</title>\r\n<path fill=\"none\" stroke=\"black\" d=\"M347.466,-88.9485C341.611,-80.1664 335.275,-70.6629 329.377,-61.815\"/>\r\n<polygon fill=\"black\" stroke=\"black\" points=\"332.117,-59.6158 323.658,-53.2367 326.293,-63.4987 332.117,-59.6158\"/>\r\n</g>\r\n<!-- 8 -->\r\n<g id=\"node9\" class=\"node\"><title>8</title>\r\n<path fill=\"#399de5\" stroke=\"black\" d=\"M462,-53C462,-53 389,-53 389,-53 383,-53 377,-47 377,-41 377,-41 377,-12 377,-12 377,-6 383,-0 389,-0 389,-0 462,-0 462,-0 468,-0 474,-6 474,-12 474,-12 474,-41 474,-41 474,-47 468,-53 462,-53\"/>\r\n<text text-anchor=\"middle\" x=\"425.5\" y=\"-37.8\" font-family=\"Helvetica,sans-Serif\" font-size=\"14.00\">gini = 0.0</text>\r\n<text text-anchor=\"middle\" x=\"425.5\" y=\"-22.8\" font-family=\"Helvetica,sans-Serif\" font-size=\"14.00\">samples = 1</text>\r\n<text text-anchor=\"middle\" x=\"425.5\" y=\"-7.8\" font-family=\"Helvetica,sans-Serif\" font-size=\"14.00\">value = [0, 1]</text>\r\n</g>\r\n<!-- 6&#45;&gt;8 -->\r\n<g id=\"edge8\" class=\"edge\"><title>6&#45;&gt;8</title>\r\n<path fill=\"none\" stroke=\"black\" d=\"M389.086,-88.9485C394.236,-80.2579 399.805,-70.8608 405.001,-62.0917\"/>\r\n<polygon fill=\"black\" stroke=\"black\" points=\"408.162,-63.624 410.249,-53.2367 402.14,-60.0553 408.162,-63.624\"/>\r\n</g>\r\n<!-- 10 -->\r\n<g id=\"node11\" class=\"node\"><title>10</title>\r\n<path fill=\"#e99659\" stroke=\"black\" d=\"M740.5,-157C740.5,-157 642.5,-157 642.5,-157 636.5,-157 630.5,-151 630.5,-145 630.5,-145 630.5,-101 630.5,-101 630.5,-95 636.5,-89 642.5,-89 642.5,-89 740.5,-89 740.5,-89 746.5,-89 752.5,-95 752.5,-101 752.5,-101 752.5,-145 752.5,-145 752.5,-151 746.5,-157 740.5,-157\"/>\r\n<text text-anchor=\"middle\" x=\"691.5\" y=\"-141.8\" font-family=\"Helvetica,sans-Serif\" font-size=\"14.00\">X[2] &lt;= 15.875</text>\r\n<text text-anchor=\"middle\" x=\"691.5\" y=\"-126.8\" font-family=\"Helvetica,sans-Serif\" font-size=\"14.00\">gini = 0.241</text>\r\n<text text-anchor=\"middle\" x=\"691.5\" y=\"-111.8\" font-family=\"Helvetica,sans-Serif\" font-size=\"14.00\">samples = 527</text>\r\n<text text-anchor=\"middle\" x=\"691.5\" y=\"-96.8\" font-family=\"Helvetica,sans-Serif\" font-size=\"14.00\">value = [453, 74]</text>\r\n</g>\r\n<!-- 9&#45;&gt;10 -->\r\n<g id=\"edge10\" class=\"edge\"><title>9&#45;&gt;10</title>\r\n<path fill=\"none\" stroke=\"black\" d=\"M737.422,-192.884C731.662,-184.243 725.379,-174.819 719.362,-165.793\"/>\r\n<polygon fill=\"black\" stroke=\"black\" points=\"722.159,-163.678 713.7,-157.299 716.334,-167.561 722.159,-163.678\"/>\r\n</g>\r\n<!-- 13 -->\r\n<g id=\"node14\" class=\"node\"><title>13</title>\r\n<path fill=\"#eda978\" stroke=\"black\" d=\"M872,-157C872,-157 783,-157 783,-157 777,-157 771,-151 771,-145 771,-145 771,-101 771,-101 771,-95 777,-89 783,-89 783,-89 872,-89 872,-89 878,-89 884,-95 884,-101 884,-101 884,-145 884,-145 884,-151 878,-157 872,-157\"/>\r\n<text text-anchor=\"middle\" x=\"827.5\" y=\"-141.8\" font-family=\"Helvetica,sans-Serif\" font-size=\"14.00\">X[2] &lt;= 8.206</text>\r\n<text text-anchor=\"middle\" x=\"827.5\" y=\"-126.8\" font-family=\"Helvetica,sans-Serif\" font-size=\"14.00\">gini = 0.365</text>\r\n<text text-anchor=\"middle\" x=\"827.5\" y=\"-111.8\" font-family=\"Helvetica,sans-Serif\" font-size=\"14.00\">samples = 79</text>\r\n<text text-anchor=\"middle\" x=\"827.5\" y=\"-96.8\" font-family=\"Helvetica,sans-Serif\" font-size=\"14.00\">value = [60, 19]</text>\r\n</g>\r\n<!-- 9&#45;&gt;13 -->\r\n<g id=\"edge13\" class=\"edge\"><title>9&#45;&gt;13</title>\r\n<path fill=\"none\" stroke=\"black\" d=\"M781.578,-192.884C787.338,-184.243 793.621,-174.819 799.638,-165.793\"/>\r\n<polygon fill=\"black\" stroke=\"black\" points=\"802.666,-167.561 805.3,-157.299 796.841,-163.678 802.666,-167.561\"/>\r\n</g>\r\n<!-- 11 -->\r\n<g id=\"node12\" class=\"node\"><title>11</title>\r\n<path fill=\"#e99355\" stroke=\"black\" d=\"M602.5,-53C602.5,-53 504.5,-53 504.5,-53 498.5,-53 492.5,-47 492.5,-41 492.5,-41 492.5,-12 492.5,-12 492.5,-6 498.5,-0 504.5,-0 504.5,-0 602.5,-0 602.5,-0 608.5,-0 614.5,-6 614.5,-12 614.5,-12 614.5,-41 614.5,-41 614.5,-47 608.5,-53 602.5,-53\"/>\r\n<text text-anchor=\"middle\" x=\"553.5\" y=\"-37.8\" font-family=\"Helvetica,sans-Serif\" font-size=\"14.00\">gini = 0.219</text>\r\n<text text-anchor=\"middle\" x=\"553.5\" y=\"-22.8\" font-family=\"Helvetica,sans-Serif\" font-size=\"14.00\">samples = 400</text>\r\n<text text-anchor=\"middle\" x=\"553.5\" y=\"-7.8\" font-family=\"Helvetica,sans-Serif\" font-size=\"14.00\">value = [350, 50]</text>\r\n</g>\r\n<!-- 10&#45;&gt;11 -->\r\n<g id=\"edge11\" class=\"edge\"><title>10&#45;&gt;11</title>\r\n<path fill=\"none\" stroke=\"black\" d=\"M643.234,-88.9485C629.074,-79.2516 613.629,-68.6752 599.607,-59.073\"/>\r\n<polygon fill=\"black\" stroke=\"black\" points=\"601.312,-55.999 591.084,-53.2367 597.357,-61.7746 601.312,-55.999\"/>\r\n</g>\r\n<!-- 12 -->\r\n<g id=\"node13\" class=\"node\"><title>12</title>\r\n<path fill=\"#eb9e67\" stroke=\"black\" d=\"M742.5,-53C742.5,-53 644.5,-53 644.5,-53 638.5,-53 632.5,-47 632.5,-41 632.5,-41 632.5,-12 632.5,-12 632.5,-6 638.5,-0 644.5,-0 644.5,-0 742.5,-0 742.5,-0 748.5,-0 754.5,-6 754.5,-12 754.5,-12 754.5,-41 754.5,-41 754.5,-47 748.5,-53 742.5,-53\"/>\r\n<text text-anchor=\"middle\" x=\"693.5\" y=\"-37.8\" font-family=\"Helvetica,sans-Serif\" font-size=\"14.00\">gini = 0.307</text>\r\n<text text-anchor=\"middle\" x=\"693.5\" y=\"-22.8\" font-family=\"Helvetica,sans-Serif\" font-size=\"14.00\">samples = 127</text>\r\n<text text-anchor=\"middle\" x=\"693.5\" y=\"-7.8\" font-family=\"Helvetica,sans-Serif\" font-size=\"14.00\">value = [103, 24]</text>\r\n</g>\r\n<!-- 10&#45;&gt;12 -->\r\n<g id=\"edge12\" class=\"edge\"><title>10&#45;&gt;12</title>\r\n<path fill=\"none\" stroke=\"black\" d=\"M692.2,-88.9485C692.374,-80.7153 692.561,-71.848 692.738,-63.4814\"/>\r\n<polygon fill=\"black\" stroke=\"black\" points=\"696.243,-63.3086 692.955,-53.2367 689.244,-63.1604 696.243,-63.3086\"/>\r\n</g>\r\n<!-- 14 -->\r\n<g id=\"node15\" class=\"node\"><title>14</title>\r\n<path fill=\"#e99559\" stroke=\"black\" d=\"M866,-53C866,-53 785,-53 785,-53 779,-53 773,-47 773,-41 773,-41 773,-12 773,-12 773,-6 779,-0 785,-0 785,-0 866,-0 866,-0 872,-0 878,-6 878,-12 878,-12 878,-41 878,-41 878,-47 872,-53 866,-53\"/>\r\n<text text-anchor=\"middle\" x=\"825.5\" y=\"-37.8\" font-family=\"Helvetica,sans-Serif\" font-size=\"14.00\">gini = 0.24</text>\r\n<text text-anchor=\"middle\" x=\"825.5\" y=\"-22.8\" font-family=\"Helvetica,sans-Serif\" font-size=\"14.00\">samples = 43</text>\r\n<text text-anchor=\"middle\" x=\"825.5\" y=\"-7.8\" font-family=\"Helvetica,sans-Serif\" font-size=\"14.00\">value = [37, 6]</text>\r\n</g>\r\n<!-- 13&#45;&gt;14 -->\r\n<g id=\"edge14\" class=\"edge\"><title>13&#45;&gt;14</title>\r\n<path fill=\"none\" stroke=\"black\" d=\"M826.8,-88.9485C826.626,-80.7153 826.439,-71.848 826.262,-63.4814\"/>\r\n<polygon fill=\"black\" stroke=\"black\" points=\"829.756,-63.1604 826.045,-53.2367 822.757,-63.3086 829.756,-63.1604\"/>\r\n</g>\r\n<!-- 15 -->\r\n<g id=\"node16\" class=\"node\"><title>15</title>\r\n<path fill=\"#f4c8a9\" stroke=\"black\" d=\"M997,-53C997,-53 908,-53 908,-53 902,-53 896,-47 896,-41 896,-41 896,-12 896,-12 896,-6 902,-0 908,-0 908,-0 997,-0 997,-0 1003,-0 1009,-6 1009,-12 1009,-12 1009,-41 1009,-41 1009,-47 1003,-53 997,-53\"/>\r\n<text text-anchor=\"middle\" x=\"952.5\" y=\"-37.8\" font-family=\"Helvetica,sans-Serif\" font-size=\"14.00\">gini = 0.461</text>\r\n<text text-anchor=\"middle\" x=\"952.5\" y=\"-22.8\" font-family=\"Helvetica,sans-Serif\" font-size=\"14.00\">samples = 36</text>\r\n<text text-anchor=\"middle\" x=\"952.5\" y=\"-7.8\" font-family=\"Helvetica,sans-Serif\" font-size=\"14.00\">value = [23, 13]</text>\r\n</g>\r\n<!-- 13&#45;&gt;15 -->\r\n<g id=\"edge15\" class=\"edge\"><title>13&#45;&gt;15</title>\r\n<path fill=\"none\" stroke=\"black\" d=\"M871.219,-88.9485C883.924,-79.3431 897.772,-68.8747 910.377,-59.345\"/>\r\n<polygon fill=\"black\" stroke=\"black\" points=\"912.59,-62.0593 918.457,-53.2367 908.369,-56.4754 912.59,-62.0593\"/>\r\n</g>\r\n<!-- 17 -->\r\n<g id=\"node18\" class=\"node\"><title>17</title>\r\n<path fill=\"#46a4e7\" stroke=\"black\" d=\"M1314.5,-261C1314.5,-261 1216.5,-261 1216.5,-261 1210.5,-261 1204.5,-255 1204.5,-249 1204.5,-249 1204.5,-205 1204.5,-205 1204.5,-199 1210.5,-193 1216.5,-193 1216.5,-193 1314.5,-193 1314.5,-193 1320.5,-193 1326.5,-199 1326.5,-205 1326.5,-205 1326.5,-249 1326.5,-249 1326.5,-255 1320.5,-261 1314.5,-261\"/>\r\n<text text-anchor=\"middle\" x=\"1265.5\" y=\"-245.8\" font-family=\"Helvetica,sans-Serif\" font-size=\"14.00\">X[2] &lt;= 32.09</text>\r\n<text text-anchor=\"middle\" x=\"1265.5\" y=\"-230.8\" font-family=\"Helvetica,sans-Serif\" font-size=\"14.00\">gini = 0.119</text>\r\n<text text-anchor=\"middle\" x=\"1265.5\" y=\"-215.8\" font-family=\"Helvetica,sans-Serif\" font-size=\"14.00\">samples = 220</text>\r\n<text text-anchor=\"middle\" x=\"1265.5\" y=\"-200.8\" font-family=\"Helvetica,sans-Serif\" font-size=\"14.00\">value = [14, 206]</text>\r\n</g>\r\n<!-- 16&#45;&gt;17 -->\r\n<g id=\"edge17\" class=\"edge\"><title>16&#45;&gt;17</title>\r\n<path fill=\"none\" stroke=\"black\" d=\"M1265.5,-296.884C1265.5,-288.778 1265.5,-279.982 1265.5,-271.472\"/>\r\n<polygon fill=\"black\" stroke=\"black\" points=\"1269,-271.299 1265.5,-261.299 1262,-271.299 1269,-271.299\"/>\r\n</g>\r\n<!-- 24 -->\r\n<g id=\"node25\" class=\"node\"><title>24</title>\r\n<path fill=\"#fffefd\" stroke=\"black\" d=\"M1679,-261C1679,-261 1590,-261 1590,-261 1584,-261 1578,-255 1578,-249 1578,-249 1578,-205 1578,-205 1578,-199 1584,-193 1590,-193 1590,-193 1679,-193 1679,-193 1685,-193 1691,-199 1691,-205 1691,-205 1691,-249 1691,-249 1691,-255 1685,-261 1679,-261\"/>\r\n<text text-anchor=\"middle\" x=\"1634.5\" y=\"-245.8\" font-family=\"Helvetica,sans-Serif\" font-size=\"14.00\">X[2] &lt;= 23.35</text>\r\n<text text-anchor=\"middle\" x=\"1634.5\" y=\"-230.8\" font-family=\"Helvetica,sans-Serif\" font-size=\"14.00\">gini = 0.5</text>\r\n<text text-anchor=\"middle\" x=\"1634.5\" y=\"-215.8\" font-family=\"Helvetica,sans-Serif\" font-size=\"14.00\">samples = 195</text>\r\n<text text-anchor=\"middle\" x=\"1634.5\" y=\"-200.8\" font-family=\"Helvetica,sans-Serif\" font-size=\"14.00\">value = [98, 97]</text>\r\n</g>\r\n<!-- 16&#45;&gt;24 -->\r\n<g id=\"edge24\" class=\"edge\"><title>16&#45;&gt;24</title>\r\n<path fill=\"none\" stroke=\"black\" d=\"M1330.62,-311.999C1397.47,-293.52 1500.97,-264.911 1568.23,-246.317\"/>\r\n<polygon fill=\"black\" stroke=\"black\" points=\"1569.18,-249.687 1577.89,-243.649 1567.32,-242.94 1569.18,-249.687\"/>\r\n</g>\r\n<!-- 18 -->\r\n<g id=\"node19\" class=\"node\"><title>18</title>\r\n<path fill=\"#56abe9\" stroke=\"black\" d=\"M1243,-157C1243,-157 1154,-157 1154,-157 1148,-157 1142,-151 1142,-145 1142,-145 1142,-101 1142,-101 1142,-95 1148,-89 1154,-89 1154,-89 1243,-89 1243,-89 1249,-89 1255,-95 1255,-101 1255,-101 1255,-145 1255,-145 1255,-151 1249,-157 1243,-157\"/>\r\n<text text-anchor=\"middle\" x=\"1198.5\" y=\"-141.8\" font-family=\"Helvetica,sans-Serif\" font-size=\"14.00\">X[2] &lt;= 31.34</text>\r\n<text text-anchor=\"middle\" x=\"1198.5\" y=\"-126.8\" font-family=\"Helvetica,sans-Serif\" font-size=\"14.00\">gini = 0.221</text>\r\n<text text-anchor=\"middle\" x=\"1198.5\" y=\"-111.8\" font-family=\"Helvetica,sans-Serif\" font-size=\"14.00\">samples = 95</text>\r\n<text text-anchor=\"middle\" x=\"1198.5\" y=\"-96.8\" font-family=\"Helvetica,sans-Serif\" font-size=\"14.00\">value = [12, 83]</text>\r\n</g>\r\n<!-- 17&#45;&gt;18 -->\r\n<g id=\"edge18\" class=\"edge\"><title>17&#45;&gt;18</title>\r\n<path fill=\"none\" stroke=\"black\" d=\"M1243.75,-192.884C1238.07,-184.243 1231.88,-174.819 1225.95,-165.793\"/>\r\n<polygon fill=\"black\" stroke=\"black\" points=\"1228.79,-163.736 1220.37,-157.299 1222.94,-167.579 1228.79,-163.736\"/>\r\n</g>\r\n<!-- 21 -->\r\n<g id=\"node22\" class=\"node\"><title>21</title>\r\n<path fill=\"#3c9fe5\" stroke=\"black\" d=\"M1380,-157C1380,-157 1285,-157 1285,-157 1279,-157 1273,-151 1273,-145 1273,-145 1273,-101 1273,-101 1273,-95 1279,-89 1285,-89 1285,-89 1380,-89 1380,-89 1386,-89 1392,-95 1392,-101 1392,-101 1392,-145 1392,-145 1392,-151 1386,-157 1380,-157\"/>\r\n<text text-anchor=\"middle\" x=\"1332.5\" y=\"-141.8\" font-family=\"Helvetica,sans-Serif\" font-size=\"14.00\">X[2] &lt;= 149.035</text>\r\n<text text-anchor=\"middle\" x=\"1332.5\" y=\"-126.8\" font-family=\"Helvetica,sans-Serif\" font-size=\"14.00\">gini = 0.031</text>\r\n<text text-anchor=\"middle\" x=\"1332.5\" y=\"-111.8\" font-family=\"Helvetica,sans-Serif\" font-size=\"14.00\">samples = 125</text>\r\n<text text-anchor=\"middle\" x=\"1332.5\" y=\"-96.8\" font-family=\"Helvetica,sans-Serif\" font-size=\"14.00\">value = [2, 123]</text>\r\n</g>\r\n<!-- 17&#45;&gt;21 -->\r\n<g id=\"edge21\" class=\"edge\"><title>17&#45;&gt;21</title>\r\n<path fill=\"none\" stroke=\"black\" d=\"M1287.25,-192.884C1292.93,-184.243 1299.12,-174.819 1305.05,-165.793\"/>\r\n<polygon fill=\"black\" stroke=\"black\" points=\"1308.06,-167.579 1310.63,-157.299 1302.21,-163.736 1308.06,-167.579\"/>\r\n</g>\r\n<!-- 19 -->\r\n<g id=\"node20\" class=\"node\"><title>19</title>\r\n<path fill=\"#53aae8\" stroke=\"black\" d=\"M1128,-53C1128,-53 1039,-53 1039,-53 1033,-53 1027,-47 1027,-41 1027,-41 1027,-12 1027,-12 1027,-6 1033,-0 1039,-0 1039,-0 1128,-0 1128,-0 1134,-0 1140,-6 1140,-12 1140,-12 1140,-41 1140,-41 1140,-47 1134,-53 1128,-53\"/>\r\n<text text-anchor=\"middle\" x=\"1083.5\" y=\"-37.8\" font-family=\"Helvetica,sans-Serif\" font-size=\"14.00\">gini = 0.207</text>\r\n<text text-anchor=\"middle\" x=\"1083.5\" y=\"-22.8\" font-family=\"Helvetica,sans-Serif\" font-size=\"14.00\">samples = 94</text>\r\n<text text-anchor=\"middle\" x=\"1083.5\" y=\"-7.8\" font-family=\"Helvetica,sans-Serif\" font-size=\"14.00\">value = [11, 83]</text>\r\n</g>\r\n<!-- 18&#45;&gt;19 -->\r\n<g id=\"edge19\" class=\"edge\"><title>18&#45;&gt;19</title>\r\n<path fill=\"none\" stroke=\"black\" d=\"M1158.28,-88.9485C1146.7,-79.4346 1134.09,-69.074 1122.58,-59.6175\"/>\r\n<polygon fill=\"black\" stroke=\"black\" points=\"1124.77,-56.8814 1114.82,-53.2367 1120.32,-62.2897 1124.77,-56.8814\"/>\r\n</g>\r\n<!-- 20 -->\r\n<g id=\"node21\" class=\"node\"><title>20</title>\r\n<path fill=\"#e58139\" stroke=\"black\" d=\"M1243,-53C1243,-53 1170,-53 1170,-53 1164,-53 1158,-47 1158,-41 1158,-41 1158,-12 1158,-12 1158,-6 1164,-0 1170,-0 1170,-0 1243,-0 1243,-0 1249,-0 1255,-6 1255,-12 1255,-12 1255,-41 1255,-41 1255,-47 1249,-53 1243,-53\"/>\r\n<text text-anchor=\"middle\" x=\"1206.5\" y=\"-37.8\" font-family=\"Helvetica,sans-Serif\" font-size=\"14.00\">gini = 0.0</text>\r\n<text text-anchor=\"middle\" x=\"1206.5\" y=\"-22.8\" font-family=\"Helvetica,sans-Serif\" font-size=\"14.00\">samples = 1</text>\r\n<text text-anchor=\"middle\" x=\"1206.5\" y=\"-7.8\" font-family=\"Helvetica,sans-Serif\" font-size=\"14.00\">value = [1, 0]</text>\r\n</g>\r\n<!-- 18&#45;&gt;20 -->\r\n<g id=\"edge20\" class=\"edge\"><title>18&#45;&gt;20</title>\r\n<path fill=\"none\" stroke=\"black\" d=\"M1201.3,-88.9485C1202,-80.6238 1202.76,-71.6509 1203.48,-63.2027\"/>\r\n<polygon fill=\"black\" stroke=\"black\" points=\"1206.97,-63.4963 1204.32,-53.2367 1199.99,-62.9058 1206.97,-63.4963\"/>\r\n</g>\r\n<!-- 22 -->\r\n<g id=\"node23\" class=\"node\"><title>22</title>\r\n<path fill=\"#399de5\" stroke=\"black\" d=\"M1366,-53C1366,-53 1285,-53 1285,-53 1279,-53 1273,-47 1273,-41 1273,-41 1273,-12 1273,-12 1273,-6 1279,-0 1285,-0 1285,-0 1366,-0 1366,-0 1372,-0 1378,-6 1378,-12 1378,-12 1378,-41 1378,-41 1378,-47 1372,-53 1366,-53\"/>\r\n<text text-anchor=\"middle\" x=\"1325.5\" y=\"-37.8\" font-family=\"Helvetica,sans-Serif\" font-size=\"14.00\">gini = 0.0</text>\r\n<text text-anchor=\"middle\" x=\"1325.5\" y=\"-22.8\" font-family=\"Helvetica,sans-Serif\" font-size=\"14.00\">samples = 98</text>\r\n<text text-anchor=\"middle\" x=\"1325.5\" y=\"-7.8\" font-family=\"Helvetica,sans-Serif\" font-size=\"14.00\">value = [0, 98]</text>\r\n</g>\r\n<!-- 21&#45;&gt;22 -->\r\n<g id=\"edge22\" class=\"edge\"><title>21&#45;&gt;22</title>\r\n<path fill=\"none\" stroke=\"black\" d=\"M1330.05,-88.9485C1329.44,-80.7153 1328.79,-71.848 1328.17,-63.4814\"/>\r\n<polygon fill=\"black\" stroke=\"black\" points=\"1331.64,-62.9508 1327.41,-53.2367 1324.65,-63.468 1331.64,-62.9508\"/>\r\n</g>\r\n<!-- 23 -->\r\n<g id=\"node24\" class=\"node\"><title>23</title>\r\n<path fill=\"#49a5e7\" stroke=\"black\" d=\"M1489,-53C1489,-53 1408,-53 1408,-53 1402,-53 1396,-47 1396,-41 1396,-41 1396,-12 1396,-12 1396,-6 1402,-0 1408,-0 1408,-0 1489,-0 1489,-0 1495,-0 1501,-6 1501,-12 1501,-12 1501,-41 1501,-41 1501,-47 1495,-53 1489,-53\"/>\r\n<text text-anchor=\"middle\" x=\"1448.5\" y=\"-37.8\" font-family=\"Helvetica,sans-Serif\" font-size=\"14.00\">gini = 0.137</text>\r\n<text text-anchor=\"middle\" x=\"1448.5\" y=\"-22.8\" font-family=\"Helvetica,sans-Serif\" font-size=\"14.00\">samples = 27</text>\r\n<text text-anchor=\"middle\" x=\"1448.5\" y=\"-7.8\" font-family=\"Helvetica,sans-Serif\" font-size=\"14.00\">value = [2, 25]</text>\r\n</g>\r\n<!-- 21&#45;&gt;23 -->\r\n<g id=\"edge23\" class=\"edge\"><title>21&#45;&gt;23</title>\r\n<path fill=\"none\" stroke=\"black\" d=\"M1373.07,-88.9485C1384.75,-79.4346 1397.47,-69.074 1409.08,-59.6175\"/>\r\n<polygon fill=\"black\" stroke=\"black\" points=\"1411.37,-62.2663 1416.91,-53.2367 1406.94,-56.8392 1411.37,-62.2663\"/>\r\n</g>\r\n<!-- 25 -->\r\n<g id=\"node26\" class=\"node\"><title>25</title>\r\n<path fill=\"#cce6f8\" stroke=\"black\" d=\"M1679,-157C1679,-157 1590,-157 1590,-157 1584,-157 1578,-151 1578,-145 1578,-145 1578,-101 1578,-101 1578,-95 1584,-89 1590,-89 1590,-89 1679,-89 1679,-89 1685,-89 1691,-95 1691,-101 1691,-101 1691,-145 1691,-145 1691,-151 1685,-157 1679,-157\"/>\r\n<text text-anchor=\"middle\" x=\"1634.5\" y=\"-141.8\" font-family=\"Helvetica,sans-Serif\" font-size=\"14.00\">X[2] &lt;= 7.744</text>\r\n<text text-anchor=\"middle\" x=\"1634.5\" y=\"-126.8\" font-family=\"Helvetica,sans-Serif\" font-size=\"14.00\">gini = 0.489</text>\r\n<text text-anchor=\"middle\" x=\"1634.5\" y=\"-111.8\" font-family=\"Helvetica,sans-Serif\" font-size=\"14.00\">samples = 164</text>\r\n<text text-anchor=\"middle\" x=\"1634.5\" y=\"-96.8\" font-family=\"Helvetica,sans-Serif\" font-size=\"14.00\">value = [70, 94]</text>\r\n</g>\r\n<!-- 24&#45;&gt;25 -->\r\n<g id=\"edge25\" class=\"edge\"><title>24&#45;&gt;25</title>\r\n<path fill=\"none\" stroke=\"black\" d=\"M1634.5,-192.884C1634.5,-184.778 1634.5,-175.982 1634.5,-167.472\"/>\r\n<polygon fill=\"black\" stroke=\"black\" points=\"1638,-167.299 1634.5,-157.299 1631,-167.299 1638,-167.299\"/>\r\n</g>\r\n<!-- 28 -->\r\n<g id=\"node29\" class=\"node\"><title>28</title>\r\n<path fill=\"#e88e4e\" stroke=\"black\" d=\"M1866,-157C1866,-157 1785,-157 1785,-157 1779,-157 1773,-151 1773,-145 1773,-145 1773,-101 1773,-101 1773,-95 1779,-89 1785,-89 1785,-89 1866,-89 1866,-89 1872,-89 1878,-95 1878,-101 1878,-101 1878,-145 1878,-145 1878,-151 1872,-157 1866,-157\"/>\r\n<text text-anchor=\"middle\" x=\"1825.5\" y=\"-141.8\" font-family=\"Helvetica,sans-Serif\" font-size=\"14.00\">X[4] &lt;= 0.5</text>\r\n<text text-anchor=\"middle\" x=\"1825.5\" y=\"-126.8\" font-family=\"Helvetica,sans-Serif\" font-size=\"14.00\">gini = 0.175</text>\r\n<text text-anchor=\"middle\" x=\"1825.5\" y=\"-111.8\" font-family=\"Helvetica,sans-Serif\" font-size=\"14.00\">samples = 31</text>\r\n<text text-anchor=\"middle\" x=\"1825.5\" y=\"-96.8\" font-family=\"Helvetica,sans-Serif\" font-size=\"14.00\">value = [28, 3]</text>\r\n</g>\r\n<!-- 24&#45;&gt;28 -->\r\n<g id=\"edge28\" class=\"edge\"><title>24&#45;&gt;28</title>\r\n<path fill=\"none\" stroke=\"black\" d=\"M1691.03,-195.811C1713.85,-183.623 1740.26,-169.522 1763.59,-157.06\"/>\r\n<polygon fill=\"black\" stroke=\"black\" points=\"1765.54,-159.989 1772.71,-152.191 1762.24,-153.815 1765.54,-159.989\"/>\r\n</g>\r\n<!-- 26 -->\r\n<g id=\"node27\" class=\"node\"><title>26</title>\r\n<path fill=\"#6ab6ec\" stroke=\"black\" d=\"M1612,-53C1612,-53 1531,-53 1531,-53 1525,-53 1519,-47 1519,-41 1519,-41 1519,-12 1519,-12 1519,-6 1525,-0 1531,-0 1531,-0 1612,-0 1612,-0 1618,-0 1624,-6 1624,-12 1624,-12 1624,-41 1624,-41 1624,-47 1618,-53 1612,-53\"/>\r\n<text text-anchor=\"middle\" x=\"1571.5\" y=\"-37.8\" font-family=\"Helvetica,sans-Serif\" font-size=\"14.00\">gini = 0.32</text>\r\n<text text-anchor=\"middle\" x=\"1571.5\" y=\"-22.8\" font-family=\"Helvetica,sans-Serif\" font-size=\"14.00\">samples = 25</text>\r\n<text text-anchor=\"middle\" x=\"1571.5\" y=\"-7.8\" font-family=\"Helvetica,sans-Serif\" font-size=\"14.00\">value = [5, 20]</text>\r\n</g>\r\n<!-- 25&#45;&gt;26 -->\r\n<g id=\"edge26\" class=\"edge\"><title>25&#45;&gt;26</title>\r\n<path fill=\"none\" stroke=\"black\" d=\"M1612.47,-88.9485C1606.61,-80.1664 1600.28,-70.6629 1594.38,-61.815\"/>\r\n<polygon fill=\"black\" stroke=\"black\" points=\"1597.12,-59.6158 1588.66,-53.2367 1591.29,-63.4987 1597.12,-59.6158\"/>\r\n</g>\r\n<!-- 27 -->\r\n<g id=\"node28\" class=\"node\"><title>27</title>\r\n<path fill=\"#e7f3fc\" stroke=\"black\" d=\"M1743,-53C1743,-53 1654,-53 1654,-53 1648,-53 1642,-47 1642,-41 1642,-41 1642,-12 1642,-12 1642,-6 1648,-0 1654,-0 1654,-0 1743,-0 1743,-0 1749,-0 1755,-6 1755,-12 1755,-12 1755,-41 1755,-41 1755,-47 1749,-53 1743,-53\"/>\r\n<text text-anchor=\"middle\" x=\"1698.5\" y=\"-37.8\" font-family=\"Helvetica,sans-Serif\" font-size=\"14.00\">gini = 0.498</text>\r\n<text text-anchor=\"middle\" x=\"1698.5\" y=\"-22.8\" font-family=\"Helvetica,sans-Serif\" font-size=\"14.00\">samples = 139</text>\r\n<text text-anchor=\"middle\" x=\"1698.5\" y=\"-7.8\" font-family=\"Helvetica,sans-Serif\" font-size=\"14.00\">value = [65, 74]</text>\r\n</g>\r\n<!-- 25&#45;&gt;27 -->\r\n<g id=\"edge27\" class=\"edge\"><title>25&#45;&gt;27</title>\r\n<path fill=\"none\" stroke=\"black\" d=\"M1656.88,-88.9485C1662.89,-80.0749 1669.4,-70.4648 1675.45,-61.5388\"/>\r\n<polygon fill=\"black\" stroke=\"black\" points=\"1678.36,-63.4792 1681.07,-53.2367 1672.56,-59.5539 1678.36,-63.4792\"/>\r\n</g>\r\n<!-- 29 -->\r\n<g id=\"node30\" class=\"node\"><title>29</title>\r\n<path fill=\"#e78a48\" stroke=\"black\" d=\"M1866,-53C1866,-53 1785,-53 1785,-53 1779,-53 1773,-47 1773,-41 1773,-41 1773,-12 1773,-12 1773,-6 1779,-0 1785,-0 1785,-0 1866,-0 1866,-0 1872,-0 1878,-6 1878,-12 1878,-12 1878,-41 1878,-41 1878,-47 1872,-53 1866,-53\"/>\r\n<text text-anchor=\"middle\" x=\"1825.5\" y=\"-37.8\" font-family=\"Helvetica,sans-Serif\" font-size=\"14.00\">gini = 0.128</text>\r\n<text text-anchor=\"middle\" x=\"1825.5\" y=\"-22.8\" font-family=\"Helvetica,sans-Serif\" font-size=\"14.00\">samples = 29</text>\r\n<text text-anchor=\"middle\" x=\"1825.5\" y=\"-7.8\" font-family=\"Helvetica,sans-Serif\" font-size=\"14.00\">value = [27, 2]</text>\r\n</g>\r\n<!-- 28&#45;&gt;29 -->\r\n<g id=\"edge29\" class=\"edge\"><title>28&#45;&gt;29</title>\r\n<path fill=\"none\" stroke=\"black\" d=\"M1825.5,-88.9485C1825.5,-80.7153 1825.5,-71.848 1825.5,-63.4814\"/>\r\n<polygon fill=\"black\" stroke=\"black\" points=\"1829,-63.2367 1825.5,-53.2367 1822,-63.2367 1829,-63.2367\"/>\r\n</g>\r\n<!-- 30 -->\r\n<g id=\"node31\" class=\"node\"><title>30</title>\r\n<path fill=\"#ffffff\" stroke=\"black\" d=\"M1981,-53C1981,-53 1908,-53 1908,-53 1902,-53 1896,-47 1896,-41 1896,-41 1896,-12 1896,-12 1896,-6 1902,-0 1908,-0 1908,-0 1981,-0 1981,-0 1987,-0 1993,-6 1993,-12 1993,-12 1993,-41 1993,-41 1993,-47 1987,-53 1981,-53\"/>\r\n<text text-anchor=\"middle\" x=\"1944.5\" y=\"-37.8\" font-family=\"Helvetica,sans-Serif\" font-size=\"14.00\">gini = 0.5</text>\r\n<text text-anchor=\"middle\" x=\"1944.5\" y=\"-22.8\" font-family=\"Helvetica,sans-Serif\" font-size=\"14.00\">samples = 2</text>\r\n<text text-anchor=\"middle\" x=\"1944.5\" y=\"-7.8\" font-family=\"Helvetica,sans-Serif\" font-size=\"14.00\">value = [1, 1]</text>\r\n</g>\r\n<!-- 28&#45;&gt;30 -->\r\n<g id=\"edge30\" class=\"edge\"><title>28&#45;&gt;30</title>\r\n<path fill=\"none\" stroke=\"black\" d=\"M1867.12,-88.9485C1879.1,-79.4346 1892.15,-69.074 1904.06,-59.6175\"/>\r\n<polygon fill=\"black\" stroke=\"black\" points=\"1906.44,-62.1965 1912.09,-53.2367 1902.08,-56.7147 1906.44,-62.1965\"/>\r\n</g>\r\n</g>\r\n</svg>\r\n"
     },
     "metadata": {}
    }
   ],
   "source": [
    "# 트리 구조 시각화하기\n",
    "from sklearn.tree import export_graphviz\n",
    "import graphviz\n",
    "\n",
    "dot_graph = export_graphviz(model, out_file=None,\n",
    "                           impurity=True, filled=True, rounded=True)\n",
    "display( graphviz.Source(dot_graph) )"
   ]
  },
  {
   "cell_type": "code",
   "execution_count": 30,
   "metadata": {},
   "outputs": [
    {
     "output_type": "execute_result",
     "data": {
      "text/plain": "array([[0.63888889, 0.36111111],\n       [0.11702128, 0.88297872]])"
     },
     "metadata": {},
     "execution_count": 30
    }
   ],
   "source": [
    "# 실제 데이터를 넣어서 예측하기\n",
    "dicaprio = [3., 0., 19., True, False, False]\n",
    "winslet  = [1., 1., 17., False, False, True]\n",
    "\n",
    "model.predict([dicaprio, winslet])\n",
    "model.predict_proba([dicaprio, winslet])"
   ]
  },
  {
   "cell_type": "code",
   "execution_count": 31,
   "metadata": {},
   "outputs": [
    {
     "output_type": "execute_result",
     "data": {
      "text/plain": "array([0.21879591, 0.65926614, 0.11301285, 0.00593001, 0.00299509,\n       0.        ])"
     },
     "metadata": {},
     "execution_count": 31
    }
   ],
   "source": [
    "model.feature_importances_"
   ]
  },
  {
   "cell_type": "code",
   "execution_count": null,
   "metadata": {},
   "outputs": [],
   "source": []
  }
 ]
}