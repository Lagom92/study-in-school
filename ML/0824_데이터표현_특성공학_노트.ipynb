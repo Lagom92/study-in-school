{
 "cells": [
  {
   "cell_type": "markdown",
   "metadata": {
    "colab_type": "text",
    "id": "moBqvpsZ0Rpk",
    "slideshow": {
     "slide_type": "slide"
    }
   },
   "source": [
    "# 데이터 표현\n",
    "\n",
    "- 연속형 특성(continuous feature) : 숫자로 이루어진 순서가 있는 데이터 특성\n",
    "\n",
    "- 범주형 특성(categorical feature) 또는 이산형 특성(dicrete feature) : 숫자가 아닌 이산적인 데이터 특성\n",
    "  (컴퓨터, 옷, 책 등)\n",
    "  \n",
    "- 데이터의 특성보다 데이터를 어떻게 표현하는가가 머신러닝 모델의 성능에 주는 영향이 큼\n",
    "\n",
    "-  특성 공학(feature engineering) : 특정 애플리케이션에 가장 적합한 데이터 표현을 찾는 것\n",
    "  "
   ]
  },
  {
   "cell_type": "markdown",
   "metadata": {
    "colab_type": "text",
    "id": "j0thqT-gmxek",
    "slideshow": {
     "slide_type": "slide"
    }
   },
   "source": [
    "## 레이블 인코딩(Label encoding)\n",
    "\n",
    "- 카테고리 특성을 코드형 숫자 값으로 변환하는 것\n",
    "\n",
    "| 상품구분 | 레이블 인코딩 |\n",
    "|---|---|\n",
    "|TV| 0|\n",
    "|냉장고|1|\n",
    "|전자렌지|2|\n",
    "|컴퓨터|3|\n",
    "|선풍기|4|\n",
    "|믹서|5|\n",
    "\n",
    "- 주의 : '01', '02' 코드값 역시 문자열이므로 1, 2와 같은 숫자형 값으로 변환"
   ]
  },
  {
   "cell_type": "code",
   "execution_count": 3,
   "metadata": {
    "colab": {
     "base_uri": "https://localhost:8080/",
     "height": 71
    },
    "colab_type": "code",
    "executionInfo": {
     "elapsed": 716,
     "status": "ok",
     "timestamp": 1598174792568,
     "user": {
      "displayName": "oz To",
      "photoUrl": "",
      "userId": "12937505880450462933"
     },
     "user_tz": -540
    },
    "id": "wXSpqoqpn_k5",
    "outputId": "932882b0-b2c7-4f23-c544-56451a98985c",
    "slideshow": {
     "slide_type": "slide"
    }
   },
   "outputs": [],
   "source": [
    "from sklearn.preprocessing import LabelEncoder\n",
    "\n",
    "items = ['TV','냉장고','전자렌지','컴퓨터','선풍기','믹서']\n",
    "\n",
    "# 인코딩 변환값\n",
    "\n",
    "\n",
    "# 인코딩된 값을 다시 디코딩\n"
   ]
  },
  {
   "cell_type": "markdown",
   "metadata": {
    "colab_type": "text",
    "id": "PJgzU5x2pRQW",
    "slideshow": {
     "slide_type": "slide"
    }
   },
   "source": [
    "- 몇몇 ML 알고리즘에는 숫자 값을 적용할 경우 예측 성능이 떨어지는 경우가 발생할 수 있음\n",
    "- 숫자 값의 경우 크고 작음에 대한 특성이 작용하기 때문\n",
    "- 원-핫-인코딩은 레이블 인코딩의 이러한 문제점을 해결하기 위한 인코딩 방식"
   ]
  },
  {
   "cell_type": "markdown",
   "metadata": {
    "colab_type": "text",
    "id": "EaxFNhr72BAq",
    "slideshow": {
     "slide_type": "slide"
    }
   },
   "source": [
    "## 원-핫-인코딩(one-hot-encoding)\n",
    "\n",
    "- 범주형 변수를 표현하는 데 가장 널리 쓰이는 방법\n",
    "- 범주형 변수를 0 또는 1 값을 가진 하나 이상의 새로운 특성으로 바꾼 것\n",
    "\n",
    "- 예를 들면 과목에 수학, 국어, 과학과 같이 3과목이 특성에 있다면 각각을 (1, 0, 0), (0, 1, 0) (0, 0, 1)과 같이 표현\n",
    "\n",
    "- pandas나 scikit-learn을 이용하여 범주형 변수를 원-핫 인코딩으로 바꿀 수 있음"
   ]
  },
  {
   "cell_type": "code",
   "execution_count": 4,
   "metadata": {
    "colab": {
     "base_uri": "https://localhost:8080/",
     "height": 215
    },
    "colab_type": "code",
    "executionInfo": {
     "elapsed": 710,
     "status": "ok",
     "timestamp": 1598175745645,
     "user": {
      "displayName": "oz To",
      "photoUrl": "",
      "userId": "12937505880450462933"
     },
     "user_tz": -540
    },
    "id": "TroaANL8qujt",
    "outputId": "c9104ffd-f76d-41f5-e885-b6d64b72861e",
    "slideshow": {
     "slide_type": "slide"
    }
   },
   "outputs": [],
   "source": [
    "from sklearn.preprocessing import OneHotEncoder\n",
    "import numpy as np\n",
    "\n",
    "items = ['TV','냉장고','전자렌지','컴퓨터','선풍기','선풍기','믹서','믹서']\n",
    "\n",
    "# 먼저 숫자 값으로 변환\n",
    "\n",
    "\n",
    "# 2차원 데이터로 변화\n",
    "\n",
    "\n",
    "# 원-핫-인코딩 적용\n"
   ]
  },
  {
   "cell_type": "code",
   "execution_count": 5,
   "metadata": {
    "colab": {
     "base_uri": "https://localhost:8080/",
     "height": 297
    },
    "colab_type": "code",
    "executionInfo": {
     "elapsed": 803,
     "status": "ok",
     "timestamp": 1598176002978,
     "user": {
      "displayName": "oz To",
      "photoUrl": "",
      "userId": "12937505880450462933"
     },
     "user_tz": -540
    },
    "id": "6mn7R_GBszkc",
    "outputId": "929190a8-96bc-4d6a-8844-42fb48aa2c6b",
    "slideshow": {
     "slide_type": "slide"
    }
   },
   "outputs": [],
   "source": [
    "# Pandas 원-핫-인코딩\n",
    "import pandas as pd\n",
    "\n",
    "\n",
    "# 숫자형 값으로 변환 없이도 바로 변환 가능\n"
   ]
  },
  {
   "cell_type": "markdown",
   "metadata": {
    "colab_type": "text",
    "id": "hg-U2nBR3Yhb",
    "slideshow": {
     "slide_type": "slide"
    }
   },
   "source": [
    "### 원-핫-인코딩 실습 01\n",
    "\n",
    "- 데이터는 1994년 인구 조사 데이터베이스에서 추출한 미국 성인 소득 데이터셋\n",
    "\n",
    "- adult 데이터셋을 사용해 어떤 근로자의 수입이 50,000달라를 초과하는지, 그 이하일지를 예측\n",
    "\n",
    "- 특성에는 나이, 고용형태, 교육 수준, 성별, 주당 근로시간, 직업 등이 있음"
   ]
  },
  {
   "cell_type": "code",
   "execution_count": 6,
   "metadata": {
    "colab": {},
    "colab_type": "code",
    "executionInfo": {
     "elapsed": 745,
     "status": "ok",
     "timestamp": 1598176139121,
     "user": {
      "displayName": "oz To",
      "photoUrl": "",
      "userId": "12937505880450462933"
     },
     "user_tz": -540
    },
    "id": "-GKMC7N1t8t9",
    "slideshow": {
     "slide_type": "skip"
    }
   },
   "outputs": [],
   "source": [
    "# 경고메시지 무시\n",
    "import warnings\n",
    "warnings.filterwarnings(\"ignore\")"
   ]
  },
  {
   "cell_type": "code",
   "execution_count": 7,
   "metadata": {
    "colab": {
     "base_uri": "https://localhost:8080/",
     "height": 469
    },
    "colab_type": "code",
    "executionInfo": {
     "elapsed": 7480,
     "status": "ok",
     "timestamp": 1598176146472,
     "user": {
      "displayName": "oz To",
      "photoUrl": "",
      "userId": "12937505880450462933"
     },
     "user_tz": -540
    },
    "id": "adbaYQW5uH4r",
    "outputId": "4f8f3d55-9980-4627-86b6-a79a458b60c4",
    "slideshow": {
     "slide_type": "skip"
    }
   },
   "outputs": [],
   "source": [
    "# !pip install mglearn"
   ]
  },
  {
   "cell_type": "code",
   "execution_count": 8,
   "metadata": {
    "colab": {
     "base_uri": "https://localhost:8080/",
     "height": 272
    },
    "colab_type": "code",
    "executionInfo": {
     "elapsed": 1509,
     "status": "ok",
     "timestamp": 1598176299327,
     "user": {
      "displayName": "oz To",
      "photoUrl": "",
      "userId": "12937505880450462933"
     },
     "user_tz": -540
    },
    "id": "ePix4hZfyEHY",
    "outputId": "4f68d738-3eac-4142-cb1b-0f871457cc30",
    "slideshow": {
     "slide_type": "slide"
    }
   },
   "outputs": [
    {
     "output_type": "execute_result",
     "data": {
      "text/plain": "   age          workclass   education   gender  hours-per-week  \\\n0   39          State-gov   Bachelors     Male              40   \n1   50   Self-emp-not-inc   Bachelors     Male              13   \n2   38            Private     HS-grad     Male              40   \n3   53            Private        11th     Male              40   \n4   28            Private   Bachelors   Female              40   \n\n           occupation  income  \n0        Adm-clerical   <=50K  \n1     Exec-managerial   <=50K  \n2   Handlers-cleaners   <=50K  \n3   Handlers-cleaners   <=50K  \n4      Prof-specialty   <=50K  ",
      "text/html": "<div>\n<style scoped>\n    .dataframe tbody tr th:only-of-type {\n        vertical-align: middle;\n    }\n\n    .dataframe tbody tr th {\n        vertical-align: top;\n    }\n\n    .dataframe thead th {\n        text-align: right;\n    }\n</style>\n<table border=\"1\" class=\"dataframe\">\n  <thead>\n    <tr style=\"text-align: right;\">\n      <th></th>\n      <th>age</th>\n      <th>workclass</th>\n      <th>education</th>\n      <th>gender</th>\n      <th>hours-per-week</th>\n      <th>occupation</th>\n      <th>income</th>\n    </tr>\n  </thead>\n  <tbody>\n    <tr>\n      <th>0</th>\n      <td>39</td>\n      <td>State-gov</td>\n      <td>Bachelors</td>\n      <td>Male</td>\n      <td>40</td>\n      <td>Adm-clerical</td>\n      <td>&lt;=50K</td>\n    </tr>\n    <tr>\n      <th>1</th>\n      <td>50</td>\n      <td>Self-emp-not-inc</td>\n      <td>Bachelors</td>\n      <td>Male</td>\n      <td>13</td>\n      <td>Exec-managerial</td>\n      <td>&lt;=50K</td>\n    </tr>\n    <tr>\n      <th>2</th>\n      <td>38</td>\n      <td>Private</td>\n      <td>HS-grad</td>\n      <td>Male</td>\n      <td>40</td>\n      <td>Handlers-cleaners</td>\n      <td>&lt;=50K</td>\n    </tr>\n    <tr>\n      <th>3</th>\n      <td>53</td>\n      <td>Private</td>\n      <td>11th</td>\n      <td>Male</td>\n      <td>40</td>\n      <td>Handlers-cleaners</td>\n      <td>&lt;=50K</td>\n    </tr>\n    <tr>\n      <th>4</th>\n      <td>28</td>\n      <td>Private</td>\n      <td>Bachelors</td>\n      <td>Female</td>\n      <td>40</td>\n      <td>Prof-specialty</td>\n      <td>&lt;=50K</td>\n    </tr>\n  </tbody>\n</table>\n</div>"
     },
     "metadata": {},
     "execution_count": 8
    }
   ],
   "source": [
    "import os\n",
    "import pandas as pd\n",
    "import mglearn\n",
    "\n",
    "# 열 이름을 나타내는 헤더가 없으므로 header=None으로 지정 names 매개변수로 열 이름을 제공\n",
    "data = pd.read_csv(\n",
    "    os.path.join(mglearn.datasets.DATA_PATH, \"adult.data\"),\n",
    "    header=None, index_col=False,\n",
    "    names=['age', 'workclass', 'fnlwgt', 'education',  'education-num',\n",
    "           'marital-status', 'occupation', 'relationship', 'race', 'gender',\n",
    "           'capital-gain', 'capital-loss', 'hours-per-week', 'native-country',\n",
    "           'income'])\n",
    "\n",
    "# 실습을 위해 몇개의 열만 선택\n",
    "data = data[['age', 'workclass', 'education', 'gender', 'hours-per-week', 'occupation', 'income']]\n",
    "\n",
    "data.head()"
   ]
  },
  {
   "cell_type": "markdown",
   "metadata": {
    "colab_type": "text",
    "id": "8ufEvTfz3nIU",
    "slideshow": {
     "slide_type": "slide"
    }
   },
   "source": [
    "#### 범주형 데이터 문자열 확인하기"
   ]
  },
  {
   "cell_type": "code",
   "execution_count": 9,
   "metadata": {
    "colab": {
     "base_uri": "https://localhost:8080/",
     "height": 71
    },
    "colab_type": "code",
    "executionInfo": {
     "elapsed": 870,
     "status": "ok",
     "timestamp": 1598176307356,
     "user": {
      "displayName": "oz To",
      "photoUrl": "",
      "userId": "12937505880450462933"
     },
     "user_tz": -540
    },
    "id": "7GMuj7_63qSL",
    "outputId": "1467f791-8136-470f-e7b9-fd9019d87559",
    "slideshow": {
     "slide_type": "slide"
    }
   },
   "outputs": [],
   "source": [
    "# 열의 내용을 확인하기 위해 유일한 값이 각각 몇 번 나타나는지 출력\n"
   ]
  },
  {
   "cell_type": "markdown",
   "metadata": {
    "colab_type": "text",
    "id": "8PCB0AbO4X_j",
    "slideshow": {
     "slide_type": "slide"
    }
   },
   "source": [
    "- 성별의 경우 Male, Female로 잘 나누어져있고, 정확하게 두 가지 값을 가지고 있어서 원-핫-인코딩으로 나타내기 좋은 형태\n",
    "- 모든 열을 살펴보고 그 값들의 확인이 필요"
   ]
  },
  {
   "cell_type": "code",
   "execution_count": 10,
   "metadata": {
    "colab": {
     "base_uri": "https://localhost:8080/",
     "height": 1000
    },
    "colab_type": "code",
    "executionInfo": {
     "elapsed": 793,
     "status": "ok",
     "timestamp": 1598176654753,
     "user": {
      "displayName": "oz To",
      "photoUrl": "",
      "userId": "12937505880450462933"
     },
     "user_tz": -540
    },
    "id": "zF6S5W5F4h2Z",
    "outputId": "587db913-24ce-4ea2-c3c0-aa186af556d7",
    "slideshow": {
     "slide_type": "slide"
    }
   },
   "outputs": [],
   "source": [
    "# 원본 특성\n",
    "\n",
    "# 원 핫 인코딩 수행\n",
    "\n",
    "# get_dummies 사용 후 특성\n"
   ]
  },
  {
   "cell_type": "markdown",
   "metadata": {
    "colab_type": "text",
    "id": "TOUJMuw0v-FO",
    "slideshow": {
     "slide_type": "slide"
    }
   },
   "source": [
    "- 연속형 특성인 age와 hours-per-week는 그대로\n",
    "- 범주형 특성은 값마다 새로운 특성으로 확장"
   ]
  },
  {
   "cell_type": "code",
   "execution_count": 11,
   "metadata": {
    "colab": {
     "base_uri": "https://localhost:8080/",
     "height": 35
    },
    "colab_type": "code",
    "executionInfo": {
     "elapsed": 739,
     "status": "ok",
     "timestamp": 1598176900574,
     "user": {
      "displayName": "oz To",
      "photoUrl": "",
      "userId": "12937505880450462933"
     },
     "user_tz": -540
    },
    "id": "pt2lj-7Z7a8r",
    "outputId": "321eb969-1324-4d68-ee33-b77aa96d6aec",
    "slideshow": {
     "slide_type": "slide"
    }
   },
   "outputs": [],
   "source": [
    "# 특성과 라벨을 분리\n",
    "# income으로 시작하는 두 열에 인코딩된 라벨을 분리\n"
   ]
  },
  {
   "cell_type": "code",
   "execution_count": 12,
   "metadata": {
    "colab": {
     "base_uri": "https://localhost:8080/",
     "height": 35
    },
    "colab_type": "code",
    "executionInfo": {
     "elapsed": 759,
     "status": "ok",
     "timestamp": 1598176902453,
     "user": {
      "displayName": "oz To",
      "photoUrl": "",
      "userId": "12937505880450462933"
     },
     "user_tz": -540
    },
    "id": "NHU4t-sK7foV",
    "outputId": "35d01d88-d576-489c-a43b-d90f521017ea",
    "slideshow": {
     "slide_type": "slide"
    }
   },
   "outputs": [],
   "source": [
    "# 모델 학습\n",
    "from sklearn.linear_model import LogisticRegression\n",
    "from sklearn.model_selection import train_test_split\n",
    "\n"
   ]
  },
  {
   "cell_type": "markdown",
   "metadata": {
    "colab_type": "text",
    "id": "l3n9M74exYlp",
    "slideshow": {
     "slide_type": "slide"
    }
   },
   "source": [
    "- 훈련 데이터와 테스트 데이터를 모두 담고 있는 DataFrame을 사용해 원-핫-인코딩을 하는 이유\n",
    "- 훈련 세트와 테스트 세트에 범주형 값이 같은 방식으로 표현되어야 하기 때문\n",
    "- 각각 가지고 있는 범주형 값에 따라 특성의 개수가 달라지는 경우가 발생"
   ]
  },
  {
   "cell_type": "markdown",
   "metadata": {
    "colab_type": "text",
    "id": "nEy6kA8I8TkA",
    "slideshow": {
     "slide_type": "slide"
    }
   },
   "source": [
    "#### 숫자로 표현된 범주형 특성\n",
    "\n",
    "- 저장 공간을 위하여 범주형 변수가 숫자로 된 경우가 많음 (남자 : 1, 여자 : 0) -> 연속형으로 다뤄야 할지 범주형으로 다뤄야 할지 어려울 수 있음\n",
    "\n",
    "- 영화 관람 등급의 경우에는 범주형이지만 순서를 가지고 있고, 영화 별점의 경우에는 별 개수에 따라 연속형으로 나타낼 수도 있고, 범주형으로 나타낼 수도 있음.\n",
    "\n",
    "- 풀려는 문제나 데이터 그리고 어떤 머신러닝 알고리즘을 사용할지에 따라 선택"
   ]
  },
  {
   "cell_type": "code",
   "execution_count": 13,
   "metadata": {
    "colab": {
     "base_uri": "https://localhost:8080/",
     "height": 173
    },
    "colab_type": "code",
    "executionInfo": {
     "elapsed": 785,
     "status": "ok",
     "timestamp": 1598177552294,
     "user": {
      "displayName": "oz To",
      "photoUrl": "",
      "userId": "12937505880450462933"
     },
     "user_tz": -540
    },
    "id": "giccGAqq9Ts4",
    "outputId": "a2998b8c-bc00-432d-d46e-543817d543c3",
    "slideshow": {
     "slide_type": "slide"
    }
   },
   "outputs": [
    {
     "output_type": "display_data",
     "data": {
      "text/plain": "   숫자 특성 범주형 특성\n0      0     양말\n1      1     여우\n2      2     양말\n3      1     상자",
      "text/html": "<div>\n<style scoped>\n    .dataframe tbody tr th:only-of-type {\n        vertical-align: middle;\n    }\n\n    .dataframe tbody tr th {\n        vertical-align: top;\n    }\n\n    .dataframe thead th {\n        text-align: right;\n    }\n</style>\n<table border=\"1\" class=\"dataframe\">\n  <thead>\n    <tr style=\"text-align: right;\">\n      <th></th>\n      <th>숫자 특성</th>\n      <th>범주형 특성</th>\n    </tr>\n  </thead>\n  <tbody>\n    <tr>\n      <th>0</th>\n      <td>0</td>\n      <td>양말</td>\n    </tr>\n    <tr>\n      <th>1</th>\n      <td>1</td>\n      <td>여우</td>\n    </tr>\n    <tr>\n      <th>2</th>\n      <td>2</td>\n      <td>양말</td>\n    </tr>\n    <tr>\n      <th>3</th>\n      <td>1</td>\n      <td>상자</td>\n    </tr>\n  </tbody>\n</table>\n</div>"
     },
     "metadata": {}
    }
   ],
   "source": [
    "demo_df = pd.DataFrame({'숫자 특성': [0, 1, 2, 1], '범주형 특성': ['양말', '여우', '양말', '상자']})\n",
    "display(demo_df)"
   ]
  },
  {
   "cell_type": "code",
   "execution_count": 14,
   "metadata": {
    "colab": {
     "base_uri": "https://localhost:8080/",
     "height": 173
    },
    "colab_type": "code",
    "executionInfo": {
     "elapsed": 781,
     "status": "ok",
     "timestamp": 1598177560386,
     "user": {
      "displayName": "oz To",
      "photoUrl": "",
      "userId": "12937505880450462933"
     },
     "user_tz": -540
    },
    "id": "ZQaV7oDr9awi",
    "outputId": "45fbdbac-30d0-48f1-93f9-866d6d8ce2ba",
    "slideshow": {
     "slide_type": "slide"
    }
   },
   "outputs": [],
   "source": [
    "# 원핫 인코딩\n"
   ]
  },
  {
   "cell_type": "markdown",
   "metadata": {
    "colab_type": "text",
    "id": "-2-CzJHYzZC5",
    "slideshow": {
     "slide_type": "slide"
    }
   },
   "source": [
    "- get_dummies 함수는 숫자 특성은 모두 연속형이라고 생각해서 가변수를 만들지 않음"
   ]
  },
  {
   "cell_type": "markdown",
   "metadata": {
    "colab_type": "text",
    "id": "_Hq4voR69fNF",
    "slideshow": {
     "slide_type": "slide"
    }
   },
   "source": [
    "#### 숫자로 표현된 범주형 특성의 원핫 인코딩\n",
    "\n",
    "- 숫자를 문자로 변환 한 후에 원핫 인코딩\n",
    "```\n",
    "demo_df['숫자'] = demo_df['숫자'].astype(str)\n",
    "pd.get_dummies(demo_df, columns=['숫자'])\n",
    "```"
   ]
  },
  {
   "cell_type": "code",
   "execution_count": 15,
   "metadata": {
    "colab": {
     "base_uri": "https://localhost:8080/",
     "height": 190
    },
    "colab_type": "code",
    "executionInfo": {
     "elapsed": 1437,
     "status": "ok",
     "timestamp": 1598177718082,
     "user": {
      "displayName": "oz To",
      "photoUrl": "",
      "userId": "12937505880450462933"
     },
     "user_tz": -540
    },
    "id": "Uyl-XO7o9yW9",
    "outputId": "26223108-781f-406f-91de-b84be7f555cf",
    "slideshow": {
     "slide_type": "slide"
    }
   },
   "outputs": [],
   "source": [
    "# 숫자를 문자로 변환 한 후에 원핫 인코딩\n"
   ]
  },
  {
   "cell_type": "markdown",
   "metadata": {
    "colab_type": "text",
    "id": "_VCJ2b2vUo3D",
    "slideshow": {
     "slide_type": "slide"
    }
   },
   "source": [
    "## 피처 스케일링(feature scaling)\n",
    "\n",
    "- 서로 다른 변수의 값 범위를 일정한 수준으로 맞추는 작업\n",
    "\n",
    "- 데이터의 스케일에 매우 민감한 머신러닝 알고리즘이 존재 (SVM, 신경망 등)"
   ]
  },
  {
   "cell_type": "markdown",
   "metadata": {
    "colab_type": "text",
    "id": "SyqpcsLkVmm7",
    "slideshow": {
     "slide_type": "slide"
    }
   },
   "source": [
    "- 표준화(Standardization) : 데이터의 특성 각각이 평균이 0이고 분산이 1인 가우시안 정규 분포를 가진 값으로 변환하는 것\n",
    "\n",
    "- 정규화(Normalization) : 서로 다른 특성의 크기를 통일하기 위해 크기를 변환해주는 것"
   ]
  },
  {
   "cell_type": "code",
   "execution_count": 16,
   "metadata": {
    "colab": {
     "base_uri": "https://localhost:8080/",
     "height": 364
    },
    "colab_type": "code",
    "executionInfo": {
     "elapsed": 1928,
     "status": "ok",
     "timestamp": 1598186349396,
     "user": {
      "displayName": "oz To",
      "photoUrl": "",
      "userId": "12937505880450462933"
     },
     "user_tz": -540
    },
    "id": "LBZjMIMxVDNx",
    "outputId": "5fb1ebef-ac9d-4226-da06-da10cce65ffb",
    "slideshow": {
     "slide_type": "slide"
    }
   },
   "outputs": [
    {
     "output_type": "display_data",
     "data": {
      "text/plain": "<Figure size 1080x576 with 5 Axes>",
      "image/svg+xml": "<?xml version=\"1.0\" encoding=\"utf-8\" standalone=\"no\"?>\r\n<!DOCTYPE svg PUBLIC \"-//W3C//DTD SVG 1.1//EN\"\r\n  \"http://www.w3.org/Graphics/SVG/1.1/DTD/svg11.dtd\">\r\n<!-- Created with matplotlib (https://matplotlib.org/) -->\r\n<svg height=\"470.277031pt\" version=\"1.1\" viewBox=\"0 0 854.58125 470.277031\" width=\"854.58125pt\" xmlns=\"http://www.w3.org/2000/svg\" xmlns:xlink=\"http://www.w3.org/1999/xlink\">\r\n <defs>\r\n  <style type=\"text/css\">\r\n*{stroke-linecap:butt;stroke-linejoin:round;}\r\n  </style>\r\n </defs>\r\n <g id=\"figure_1\">\r\n  <g id=\"patch_1\">\r\n   <path d=\"M 0 470.277031 \r\nL 854.58125 470.277031 \r\nL 854.58125 0 \r\nL 0 0 \r\nz\r\n\" style=\"fill:none;\"/>\r\n  </g>\r\n  <g id=\"axes_1\">\r\n   <g id=\"patch_2\">\r\n    <path d=\"M 7.2 457.198125 \r\nL 407.504348 457.198125 \r\nL 407.504348 22.318125 \r\nL 7.2 22.318125 \r\nz\r\n\" style=\"fill:#ffffff;\"/>\r\n   </g>\r\n   <g id=\"PathCollection_1\">\r\n    <defs>\r\n     <path d=\"M 0 3.872983 \r\nC 1.027127 3.872983 2.012324 3.464901 2.738613 2.738613 \r\nC 3.464901 2.012324 3.872983 1.027127 3.872983 0 \r\nC 3.872983 -1.027127 3.464901 -2.012324 2.738613 -2.738613 \r\nC 2.012324 -3.464901 1.027127 -3.872983 0 -3.872983 \r\nC -1.027127 -3.872983 -2.012324 -3.464901 -2.738613 -2.738613 \r\nC -3.464901 -2.012324 -3.872983 -1.027127 -3.872983 0 \r\nC -3.872983 1.027127 -3.464901 2.012324 -2.738613 2.738613 \r\nC -2.012324 3.464901 -1.027127 3.872983 0 3.872983 \r\nz\r\n\" id=\"C0_0_fdc23468ef\"/>\r\n    </defs>\r\n    <g clip-path=\"url(#p3dfd9f8a06)\">\r\n     <use style=\"fill:#0000aa;stroke:#0000aa;\" x=\"356.744375\" xlink:href=\"#C0_0_fdc23468ef\" y=\"151.529487\"/>\r\n    </g>\r\n    <g clip-path=\"url(#p3dfd9f8a06)\">\r\n     <use style=\"fill:#ff2020;stroke:#ff2020;\" x=\"353.325366\" xlink:href=\"#C0_0_fdc23468ef\" y=\"128.844099\"/>\r\n    </g>\r\n    <g clip-path=\"url(#p3dfd9f8a06)\">\r\n     <use style=\"fill:#0000aa;stroke:#0000aa;\" x=\"346.03095\" xlink:href=\"#C0_0_fdc23468ef\" y=\"154.864573\"/>\r\n    </g>\r\n    <g clip-path=\"url(#p3dfd9f8a06)\">\r\n     <use style=\"fill:#0000aa;stroke:#0000aa;\" x=\"353.774237\" xlink:href=\"#C0_0_fdc23468ef\" y=\"208.022761\"/>\r\n    </g>\r\n    <g clip-path=\"url(#p3dfd9f8a06)\">\r\n     <use style=\"fill:#0000aa;stroke:#0000aa;\" x=\"341.318124\" xlink:href=\"#C0_0_fdc23468ef\" y=\"171.267173\"/>\r\n    </g>\r\n    <g clip-path=\"url(#p3dfd9f8a06)\">\r\n     <use style=\"fill:#0000aa;stroke:#0000aa;\" x=\"344.048372\" xlink:href=\"#C0_0_fdc23468ef\" y=\"159.15047\"/>\r\n    </g>\r\n    <g clip-path=\"url(#p3dfd9f8a06)\">\r\n     <use style=\"fill:#0000aa;stroke:#0000aa;\" x=\"389.187816\" xlink:href=\"#C0_0_fdc23468ef\" y=\"161.848415\"/>\r\n    </g>\r\n    <g clip-path=\"url(#p3dfd9f8a06)\">\r\n     <use style=\"fill:#ff2020;stroke:#ff2020;\" x=\"361.802472\" xlink:href=\"#C0_0_fdc23468ef\" y=\"109.928329\"/>\r\n    </g>\r\n    <g clip-path=\"url(#p3dfd9f8a06)\">\r\n     <use style=\"fill:#ff2020;stroke:#ff2020;\" x=\"363.703983\" xlink:href=\"#C0_0_fdc23468ef\" y=\"101.579082\"/>\r\n    </g>\r\n    <g clip-path=\"url(#p3dfd9f8a06)\">\r\n     <use style=\"fill:#ff2020;stroke:#ff2020;\" x=\"376.50483\" xlink:href=\"#C0_0_fdc23468ef\" y=\"87.17976\"/>\r\n    </g>\r\n    <g clip-path=\"url(#p3dfd9f8a06)\">\r\n     <use style=\"fill:#0000aa;stroke:#0000aa;\" x=\"369.078872\" xlink:href=\"#C0_0_fdc23468ef\" y=\"169.972255\"/>\r\n    </g>\r\n    <g clip-path=\"url(#p3dfd9f8a06)\">\r\n     <use style=\"fill:#ff2020;stroke:#ff2020;\" x=\"363.02238\" xlink:href=\"#C0_0_fdc23468ef\" y=\"46.405981\"/>\r\n    </g>\r\n    <g clip-path=\"url(#p3dfd9f8a06)\">\r\n     <use style=\"fill:#ff2020;stroke:#ff2020;\" x=\"346.190177\" xlink:href=\"#C0_0_fdc23468ef\" y=\"105.16666\"/>\r\n    </g>\r\n    <g clip-path=\"url(#p3dfd9f8a06)\">\r\n     <use style=\"fill:#ff2020;stroke:#ff2020;\" x=\"346.48285\" xlink:href=\"#C0_0_fdc23468ef\" y=\"45.651789\"/>\r\n    </g>\r\n    <g clip-path=\"url(#p3dfd9f8a06)\">\r\n     <use style=\"fill:#0000aa;stroke:#0000aa;\" x=\"361.525394\" xlink:href=\"#C0_0_fdc23468ef\" y=\"199.257958\"/>\r\n    </g>\r\n    <g clip-path=\"url(#p3dfd9f8a06)\">\r\n     <use style=\"fill:#0000aa;stroke:#0000aa;\" x=\"365.080336\" xlink:href=\"#C0_0_fdc23468ef\" y=\"163.296084\"/>\r\n    </g>\r\n    <g clip-path=\"url(#p3dfd9f8a06)\">\r\n     <use style=\"fill:#0000aa;stroke:#0000aa;\" x=\"350.651702\" xlink:href=\"#C0_0_fdc23468ef\" y=\"158.391391\"/>\r\n    </g>\r\n    <g clip-path=\"url(#p3dfd9f8a06)\">\r\n     <use style=\"fill:#0000aa;stroke:#0000aa;\" x=\"346.204117\" xlink:href=\"#C0_0_fdc23468ef\" y=\"169.778652\"/>\r\n    </g>\r\n    <g clip-path=\"url(#p3dfd9f8a06)\">\r\n     <use style=\"fill:#0000aa;stroke:#0000aa;\" x=\"369.926932\" xlink:href=\"#C0_0_fdc23468ef\" y=\"214.003147\"/>\r\n    </g>\r\n    <g clip-path=\"url(#p3dfd9f8a06)\">\r\n     <use style=\"fill:#0000aa;stroke:#0000aa;\" x=\"355.320429\" xlink:href=\"#C0_0_fdc23468ef\" y=\"143.001642\"/>\r\n    </g>\r\n    <g clip-path=\"url(#p3dfd9f8a06)\">\r\n     <use style=\"fill:#0000aa;stroke:#0000aa;\" x=\"357.629703\" xlink:href=\"#C0_0_fdc23468ef\" y=\"152.333147\"/>\r\n    </g>\r\n    <g clip-path=\"url(#p3dfd9f8a06)\">\r\n     <use style=\"fill:#ff2020;stroke:#ff2020;\" x=\"371.558714\" xlink:href=\"#C0_0_fdc23468ef\" y=\"92.396472\"/>\r\n    </g>\r\n    <g clip-path=\"url(#p3dfd9f8a06)\">\r\n     <use style=\"fill:#0000aa;stroke:#0000aa;\" x=\"350.698877\" xlink:href=\"#C0_0_fdc23468ef\" y=\"157.081815\"/>\r\n    </g>\r\n    <g clip-path=\"url(#p3dfd9f8a06)\">\r\n     <use style=\"fill:#ff2020;stroke:#ff2020;\" x=\"367.731961\" xlink:href=\"#C0_0_fdc23468ef\" y=\"85.831415\"/>\r\n    </g>\r\n    <g clip-path=\"url(#p3dfd9f8a06)\">\r\n     <use style=\"fill:#ff2020;stroke:#ff2020;\" x=\"394.098552\" xlink:href=\"#C0_0_fdc23468ef\" y=\"84.620448\"/>\r\n    </g>\r\n    <g clip-path=\"url(#p3dfd9f8a06)\">\r\n     <use style=\"fill:#ff2020;stroke:#ff2020;\" x=\"361.549531\" xlink:href=\"#C0_0_fdc23468ef\" y=\"88.440103\"/>\r\n    </g>\r\n    <g clip-path=\"url(#p3dfd9f8a06)\">\r\n     <use style=\"fill:#0000aa;stroke:#0000aa;\" x=\"355.679176\" xlink:href=\"#C0_0_fdc23468ef\" y=\"152.463226\"/>\r\n    </g>\r\n    <g clip-path=\"url(#p3dfd9f8a06)\">\r\n     <use style=\"fill:#ff2020;stroke:#ff2020;\" x=\"379.396897\" xlink:href=\"#C0_0_fdc23468ef\" y=\"94.114965\"/>\r\n    </g>\r\n    <g clip-path=\"url(#p3dfd9f8a06)\">\r\n     <use style=\"fill:#ff2020;stroke:#ff2020;\" x=\"348.75985\" xlink:href=\"#C0_0_fdc23468ef\" y=\"82.802104\"/>\r\n    </g>\r\n    <g clip-path=\"url(#p3dfd9f8a06)\">\r\n     <use style=\"fill:#ff2020;stroke:#ff2020;\" x=\"364.881384\" xlink:href=\"#C0_0_fdc23468ef\" y=\"115.283687\"/>\r\n    </g>\r\n    <g clip-path=\"url(#p3dfd9f8a06)\">\r\n     <use style=\"fill:#0000aa;stroke:#0000aa;\" x=\"344.560668\" xlink:href=\"#C0_0_fdc23468ef\" y=\"151.498975\"/>\r\n    </g>\r\n    <g clip-path=\"url(#p3dfd9f8a06)\">\r\n     <use style=\"fill:#ff2020;stroke:#ff2020;\" x=\"373.696464\" xlink:href=\"#C0_0_fdc23468ef\" y=\"80.632625\"/>\r\n    </g>\r\n    <g clip-path=\"url(#p3dfd9f8a06)\">\r\n     <use style=\"fill:#0000aa;stroke:#0000aa;\" x=\"387.371473\" xlink:href=\"#C0_0_fdc23468ef\" y=\"149.702175\"/>\r\n    </g>\r\n    <g clip-path=\"url(#p3dfd9f8a06)\">\r\n     <use style=\"fill:#0000aa;stroke:#0000aa;\" x=\"343.873859\" xlink:href=\"#C0_0_fdc23468ef\" y=\"162.858718\"/>\r\n    </g>\r\n    <g clip-path=\"url(#p3dfd9f8a06)\">\r\n     <use style=\"fill:#ff2020;stroke:#ff2020;\" x=\"372.572297\" xlink:href=\"#C0_0_fdc23468ef\" y=\"96.930214\"/>\r\n    </g>\r\n    <g clip-path=\"url(#p3dfd9f8a06)\">\r\n     <use style=\"fill:#ff2020;stroke:#ff2020;\" x=\"377.94771\" xlink:href=\"#C0_0_fdc23468ef\" y=\"107.953831\"/>\r\n    </g>\r\n    <g clip-path=\"url(#p3dfd9f8a06)\">\r\n     <use style=\"fill:#ff2020;stroke:#ff2020;\" x=\"348.237956\" xlink:href=\"#C0_0_fdc23468ef\" y=\"86.288308\"/>\r\n    </g>\r\n    <g clip-path=\"url(#p3dfd9f8a06)\">\r\n     <use style=\"fill:#0000aa;stroke:#0000aa;\" x=\"363.835978\" xlink:href=\"#C0_0_fdc23468ef\" y=\"197.823602\"/>\r\n    </g>\r\n    <g clip-path=\"url(#p3dfd9f8a06)\">\r\n     <use style=\"fill:#0000aa;stroke:#0000aa;\" x=\"367.675662\" xlink:href=\"#C0_0_fdc23468ef\" y=\"173.101825\"/>\r\n    </g>\r\n    <g clip-path=\"url(#p3dfd9f8a06)\">\r\n     <use style=\"fill:#0000aa;stroke:#0000aa;\" x=\"381.3104\" xlink:href=\"#C0_0_fdc23468ef\" y=\"202.805082\"/>\r\n    </g>\r\n    <g clip-path=\"url(#p3dfd9f8a06)\">\r\n     <use style=\"fill:#ff2020;stroke:#ff2020;\" x=\"361.401323\" xlink:href=\"#C0_0_fdc23468ef\" y=\"92.003577\"/>\r\n    </g>\r\n    <g clip-path=\"url(#p3dfd9f8a06)\">\r\n     <use style=\"fill:#ff2020;stroke:#ff2020;\" x=\"354.251127\" xlink:href=\"#C0_0_fdc23468ef\" y=\"96.842808\"/>\r\n    </g>\r\n    <g clip-path=\"url(#p3dfd9f8a06)\">\r\n     <use style=\"fill:#0000aa;stroke:#0000aa;\" x=\"351.246095\" xlink:href=\"#C0_0_fdc23468ef\" y=\"134.952071\"/>\r\n    </g>\r\n    <g clip-path=\"url(#p3dfd9f8a06)\">\r\n     <use style=\"fill:#ff2020;stroke:#ff2020;\" x=\"350.458341\" xlink:href=\"#C0_0_fdc23468ef\" y=\"88.655601\"/>\r\n    </g>\r\n    <g clip-path=\"url(#p3dfd9f8a06)\">\r\n     <use style=\"fill:#0000aa;stroke:#0000aa;\" x=\"360.025464\" xlink:href=\"#C0_0_fdc23468ef\" y=\"226.071266\"/>\r\n    </g>\r\n    <g clip-path=\"url(#p3dfd9f8a06)\">\r\n     <use style=\"fill:#ff2020;stroke:#ff2020;\" x=\"373.427698\" xlink:href=\"#C0_0_fdc23468ef\" y=\"100.917735\"/>\r\n    </g>\r\n    <g clip-path=\"url(#p3dfd9f8a06)\">\r\n     <use style=\"fill:#ff2020;stroke:#ff2020;\" x=\"328.995187\" xlink:href=\"#C0_0_fdc23468ef\" y=\"107.021398\"/>\r\n    </g>\r\n    <g clip-path=\"url(#p3dfd9f8a06)\">\r\n     <use style=\"fill:#ff2020;stroke:#ff2020;\" x=\"341.385373\" xlink:href=\"#C0_0_fdc23468ef\" y=\"79.864071\"/>\r\n    </g>\r\n    <g clip-path=\"url(#p3dfd9f8a06)\">\r\n     <use style=\"fill:#ff2020;stroke:#ff2020;\" x=\"370.79476\" xlink:href=\"#C0_0_fdc23468ef\" y=\"77.657453\"/>\r\n    </g>\r\n    <g clip-path=\"url(#p3dfd9f8a06)\">\r\n     <use style=\"fill:#0000aa;stroke:#0000aa;\" x=\"382.069305\" xlink:href=\"#C0_0_fdc23468ef\" y=\"197.014753\"/>\r\n    </g>\r\n   </g>\r\n   <g id=\"matplotlib.axis_1\">\r\n    <g id=\"xtick_1\">\r\n     <g id=\"line2d_1\">\r\n      <defs>\r\n       <path d=\"M 0 0 \r\nL 0 3.5 \r\n\" id=\"m027a3317cc\" style=\"stroke:#000000;stroke-width:0.8;\"/>\r\n      </defs>\r\n      <g>\r\n       <use style=\"stroke:#000000;stroke-width:0.8;\" x=\"59.888417\" xlink:href=\"#m027a3317cc\" y=\"239.758125\"/>\r\n      </g>\r\n     </g>\r\n     <g id=\"text_1\">\r\n      <!-- −10 -->\r\n      <defs>\r\n       <path d=\"M 10.59375 35.5 \r\nL 73.1875 35.5 \r\nL 73.1875 27.203125 \r\nL 10.59375 27.203125 \r\nz\r\n\" id=\"DejaVuSans-8722\"/>\r\n       <path d=\"M 12.40625 8.296875 \r\nL 28.515625 8.296875 \r\nL 28.515625 63.921875 \r\nL 10.984375 60.40625 \r\nL 10.984375 69.390625 \r\nL 28.421875 72.90625 \r\nL 38.28125 72.90625 \r\nL 38.28125 8.296875 \r\nL 54.390625 8.296875 \r\nL 54.390625 0 \r\nL 12.40625 0 \r\nz\r\n\" id=\"DejaVuSans-49\"/>\r\n       <path d=\"M 31.78125 66.40625 \r\nQ 24.171875 66.40625 20.328125 58.90625 \r\nQ 16.5 51.421875 16.5 36.375 \r\nQ 16.5 21.390625 20.328125 13.890625 \r\nQ 24.171875 6.390625 31.78125 6.390625 \r\nQ 39.453125 6.390625 43.28125 13.890625 \r\nQ 47.125 21.390625 47.125 36.375 \r\nQ 47.125 51.421875 43.28125 58.90625 \r\nQ 39.453125 66.40625 31.78125 66.40625 \r\nz\r\nM 31.78125 74.21875 \r\nQ 44.046875 74.21875 50.515625 64.515625 \r\nQ 56.984375 54.828125 56.984375 36.375 \r\nQ 56.984375 17.96875 50.515625 8.265625 \r\nQ 44.046875 -1.421875 31.78125 -1.421875 \r\nQ 19.53125 -1.421875 13.0625 8.265625 \r\nQ 6.59375 17.96875 6.59375 36.375 \r\nQ 6.59375 54.828125 13.0625 64.515625 \r\nQ 19.53125 74.21875 31.78125 74.21875 \r\nz\r\n\" id=\"DejaVuSans-48\"/>\r\n      </defs>\r\n      <g transform=\"translate(49.336073 254.356562)scale(0.1 -0.1)\">\r\n       <use xlink:href=\"#DejaVuSans-8722\"/>\r\n       <use x=\"83.789062\" xlink:href=\"#DejaVuSans-49\"/>\r\n       <use x=\"147.412109\" xlink:href=\"#DejaVuSans-48\"/>\r\n      </g>\r\n     </g>\r\n    </g>\r\n    <g id=\"xtick_2\">\r\n     <g id=\"line2d_2\">\r\n      <g>\r\n       <use style=\"stroke:#000000;stroke-width:0.8;\" x=\"126.917397\" xlink:href=\"#m027a3317cc\" y=\"239.758125\"/>\r\n      </g>\r\n     </g>\r\n     <g id=\"text_2\">\r\n      <!-- −5 -->\r\n      <defs>\r\n       <path d=\"M 10.796875 72.90625 \r\nL 49.515625 72.90625 \r\nL 49.515625 64.59375 \r\nL 19.828125 64.59375 \r\nL 19.828125 46.734375 \r\nQ 21.96875 47.46875 24.109375 47.828125 \r\nQ 26.265625 48.1875 28.421875 48.1875 \r\nQ 40.625 48.1875 47.75 41.5 \r\nQ 54.890625 34.8125 54.890625 23.390625 \r\nQ 54.890625 11.625 47.5625 5.09375 \r\nQ 40.234375 -1.421875 26.90625 -1.421875 \r\nQ 22.3125 -1.421875 17.546875 -0.640625 \r\nQ 12.796875 0.140625 7.71875 1.703125 \r\nL 7.71875 11.625 \r\nQ 12.109375 9.234375 16.796875 8.0625 \r\nQ 21.484375 6.890625 26.703125 6.890625 \r\nQ 35.15625 6.890625 40.078125 11.328125 \r\nQ 45.015625 15.765625 45.015625 23.390625 \r\nQ 45.015625 31 40.078125 35.4375 \r\nQ 35.15625 39.890625 26.703125 39.890625 \r\nQ 22.75 39.890625 18.8125 39.015625 \r\nQ 14.890625 38.140625 10.796875 36.28125 \r\nz\r\n\" id=\"DejaVuSans-53\"/>\r\n      </defs>\r\n      <g transform=\"translate(119.546303 254.356562)scale(0.1 -0.1)\">\r\n       <use xlink:href=\"#DejaVuSans-8722\"/>\r\n       <use x=\"83.789062\" xlink:href=\"#DejaVuSans-53\"/>\r\n      </g>\r\n     </g>\r\n    </g>\r\n    <g id=\"xtick_3\">\r\n     <g id=\"line2d_3\">\r\n      <g>\r\n       <use style=\"stroke:#000000;stroke-width:0.8;\" x=\"193.946378\" xlink:href=\"#m027a3317cc\" y=\"239.758125\"/>\r\n      </g>\r\n     </g>\r\n     <g id=\"text_3\">\r\n      <!-- 0 -->\r\n      <g transform=\"translate(190.765128 254.356562)scale(0.1 -0.1)\">\r\n       <use xlink:href=\"#DejaVuSans-48\"/>\r\n      </g>\r\n     </g>\r\n    </g>\r\n    <g id=\"xtick_4\">\r\n     <g id=\"line2d_4\">\r\n      <g>\r\n       <use style=\"stroke:#000000;stroke-width:0.8;\" x=\"260.975358\" xlink:href=\"#m027a3317cc\" y=\"239.758125\"/>\r\n      </g>\r\n     </g>\r\n     <g id=\"text_4\">\r\n      <!-- 5 -->\r\n      <g transform=\"translate(257.794108 254.356562)scale(0.1 -0.1)\">\r\n       <use xlink:href=\"#DejaVuSans-53\"/>\r\n      </g>\r\n     </g>\r\n    </g>\r\n    <g id=\"xtick_5\">\r\n     <g id=\"line2d_5\">\r\n      <g>\r\n       <use style=\"stroke:#000000;stroke-width:0.8;\" x=\"328.004339\" xlink:href=\"#m027a3317cc\" y=\"239.758125\"/>\r\n      </g>\r\n     </g>\r\n     <g id=\"text_5\">\r\n      <!-- 10 -->\r\n      <g transform=\"translate(321.641839 254.356562)scale(0.1 -0.1)\">\r\n       <use xlink:href=\"#DejaVuSans-49\"/>\r\n       <use x=\"63.623047\" xlink:href=\"#DejaVuSans-48\"/>\r\n      </g>\r\n     </g>\r\n    </g>\r\n    <g id=\"xtick_6\">\r\n     <g id=\"line2d_6\">\r\n      <g>\r\n       <use style=\"stroke:#000000;stroke-width:0.8;\" x=\"395.03332\" xlink:href=\"#m027a3317cc\" y=\"239.758125\"/>\r\n      </g>\r\n     </g>\r\n     <g id=\"text_6\">\r\n      <!-- 15 -->\r\n      <g transform=\"translate(388.67082 254.356562)scale(0.1 -0.1)\">\r\n       <use xlink:href=\"#DejaVuSans-49\"/>\r\n       <use x=\"63.623047\" xlink:href=\"#DejaVuSans-53\"/>\r\n      </g>\r\n     </g>\r\n    </g>\r\n   </g>\r\n   <g id=\"matplotlib.axis_2\">\r\n    <g id=\"ytick_1\">\r\n     <g id=\"line2d_7\">\r\n      <defs>\r\n       <path d=\"M 0 0 \r\nL -3.5 0 \r\n\" id=\"m3a93448a10\" style=\"stroke:#000000;stroke-width:0.8;\"/>\r\n      </defs>\r\n      <g>\r\n       <use style=\"stroke:#000000;stroke-width:0.8;\" x=\"207.352174\" xlink:href=\"#m3a93448a10\" y=\"438.094272\"/>\r\n      </g>\r\n     </g>\r\n     <g id=\"text_7\">\r\n      <!-- −7.5 -->\r\n      <defs>\r\n       <path d=\"M 8.203125 72.90625 \r\nL 55.078125 72.90625 \r\nL 55.078125 68.703125 \r\nL 28.609375 0 \r\nL 18.3125 0 \r\nL 43.21875 64.59375 \r\nL 8.203125 64.59375 \r\nz\r\n\" id=\"DejaVuSans-55\"/>\r\n       <path d=\"M 10.6875 12.40625 \r\nL 21 12.40625 \r\nL 21 0 \r\nL 10.6875 0 \r\nz\r\n\" id=\"DejaVuSans-46\"/>\r\n      </defs>\r\n      <g transform=\"translate(176.069361 441.893491)scale(0.1 -0.1)\">\r\n       <use xlink:href=\"#DejaVuSans-8722\"/>\r\n       <use x=\"83.789062\" xlink:href=\"#DejaVuSans-55\"/>\r\n       <use x=\"147.412109\" xlink:href=\"#DejaVuSans-46\"/>\r\n       <use x=\"179.199219\" xlink:href=\"#DejaVuSans-53\"/>\r\n      </g>\r\n     </g>\r\n    </g>\r\n    <g id=\"ytick_2\">\r\n     <g id=\"line2d_8\">\r\n      <g>\r\n       <use style=\"stroke:#000000;stroke-width:0.8;\" x=\"207.352174\" xlink:href=\"#m3a93448a10\" y=\"379.760111\"/>\r\n      </g>\r\n     </g>\r\n     <g id=\"text_8\">\r\n      <!-- −5.0 -->\r\n      <g transform=\"translate(176.069361 383.55933)scale(0.1 -0.1)\">\r\n       <use xlink:href=\"#DejaVuSans-8722\"/>\r\n       <use x=\"83.789062\" xlink:href=\"#DejaVuSans-53\"/>\r\n       <use x=\"147.412109\" xlink:href=\"#DejaVuSans-46\"/>\r\n       <use x=\"179.199219\" xlink:href=\"#DejaVuSans-48\"/>\r\n      </g>\r\n     </g>\r\n    </g>\r\n    <g id=\"ytick_3\">\r\n     <g id=\"line2d_9\">\r\n      <g>\r\n       <use style=\"stroke:#000000;stroke-width:0.8;\" x=\"207.352174\" xlink:href=\"#m3a93448a10\" y=\"321.42595\"/>\r\n      </g>\r\n     </g>\r\n     <g id=\"text_9\">\r\n      <!-- −2.5 -->\r\n      <defs>\r\n       <path d=\"M 19.1875 8.296875 \r\nL 53.609375 8.296875 \r\nL 53.609375 0 \r\nL 7.328125 0 \r\nL 7.328125 8.296875 \r\nQ 12.9375 14.109375 22.625 23.890625 \r\nQ 32.328125 33.6875 34.8125 36.53125 \r\nQ 39.546875 41.84375 41.421875 45.53125 \r\nQ 43.3125 49.21875 43.3125 52.78125 \r\nQ 43.3125 58.59375 39.234375 62.25 \r\nQ 35.15625 65.921875 28.609375 65.921875 \r\nQ 23.96875 65.921875 18.8125 64.3125 \r\nQ 13.671875 62.703125 7.8125 59.421875 \r\nL 7.8125 69.390625 \r\nQ 13.765625 71.78125 18.9375 73 \r\nQ 24.125 74.21875 28.421875 74.21875 \r\nQ 39.75 74.21875 46.484375 68.546875 \r\nQ 53.21875 62.890625 53.21875 53.421875 \r\nQ 53.21875 48.921875 51.53125 44.890625 \r\nQ 49.859375 40.875 45.40625 35.40625 \r\nQ 44.1875 33.984375 37.640625 27.21875 \r\nQ 31.109375 20.453125 19.1875 8.296875 \r\nz\r\n\" id=\"DejaVuSans-50\"/>\r\n      </defs>\r\n      <g transform=\"translate(176.069361 325.225169)scale(0.1 -0.1)\">\r\n       <use xlink:href=\"#DejaVuSans-8722\"/>\r\n       <use x=\"83.789062\" xlink:href=\"#DejaVuSans-50\"/>\r\n       <use x=\"147.412109\" xlink:href=\"#DejaVuSans-46\"/>\r\n       <use x=\"179.199219\" xlink:href=\"#DejaVuSans-53\"/>\r\n      </g>\r\n     </g>\r\n    </g>\r\n    <g id=\"ytick_4\">\r\n     <g id=\"line2d_10\">\r\n      <g>\r\n       <use style=\"stroke:#000000;stroke-width:0.8;\" x=\"207.352174\" xlink:href=\"#m3a93448a10\" y=\"263.091789\"/>\r\n      </g>\r\n     </g>\r\n     <g id=\"text_10\">\r\n      <!-- 0.0 -->\r\n      <g transform=\"translate(184.449049 266.891008)scale(0.1 -0.1)\">\r\n       <use xlink:href=\"#DejaVuSans-48\"/>\r\n       <use x=\"63.623047\" xlink:href=\"#DejaVuSans-46\"/>\r\n       <use x=\"95.410156\" xlink:href=\"#DejaVuSans-48\"/>\r\n      </g>\r\n     </g>\r\n    </g>\r\n    <g id=\"ytick_5\">\r\n     <g id=\"line2d_11\">\r\n      <g>\r\n       <use style=\"stroke:#000000;stroke-width:0.8;\" x=\"207.352174\" xlink:href=\"#m3a93448a10\" y=\"204.757628\"/>\r\n      </g>\r\n     </g>\r\n     <g id=\"text_11\">\r\n      <!-- 2.5 -->\r\n      <g transform=\"translate(184.449049 208.556847)scale(0.1 -0.1)\">\r\n       <use xlink:href=\"#DejaVuSans-50\"/>\r\n       <use x=\"63.623047\" xlink:href=\"#DejaVuSans-46\"/>\r\n       <use x=\"95.410156\" xlink:href=\"#DejaVuSans-53\"/>\r\n      </g>\r\n     </g>\r\n    </g>\r\n    <g id=\"ytick_6\">\r\n     <g id=\"line2d_12\">\r\n      <g>\r\n       <use style=\"stroke:#000000;stroke-width:0.8;\" x=\"207.352174\" xlink:href=\"#m3a93448a10\" y=\"146.423468\"/>\r\n      </g>\r\n     </g>\r\n     <g id=\"text_12\">\r\n      <!-- 5.0 -->\r\n      <g transform=\"translate(184.449049 150.222686)scale(0.1 -0.1)\">\r\n       <use xlink:href=\"#DejaVuSans-53\"/>\r\n       <use x=\"63.623047\" xlink:href=\"#DejaVuSans-46\"/>\r\n       <use x=\"95.410156\" xlink:href=\"#DejaVuSans-48\"/>\r\n      </g>\r\n     </g>\r\n    </g>\r\n    <g id=\"ytick_7\">\r\n     <g id=\"line2d_13\">\r\n      <g>\r\n       <use style=\"stroke:#000000;stroke-width:0.8;\" x=\"207.352174\" xlink:href=\"#m3a93448a10\" y=\"88.089307\"/>\r\n      </g>\r\n     </g>\r\n     <g id=\"text_13\">\r\n      <!-- 7.5 -->\r\n      <g transform=\"translate(184.449049 91.888525)scale(0.1 -0.1)\">\r\n       <use xlink:href=\"#DejaVuSans-55\"/>\r\n       <use x=\"63.623047\" xlink:href=\"#DejaVuSans-46\"/>\r\n       <use x=\"95.410156\" xlink:href=\"#DejaVuSans-53\"/>\r\n      </g>\r\n     </g>\r\n    </g>\r\n    <g id=\"ytick_8\">\r\n     <g id=\"line2d_14\">\r\n      <g>\r\n       <use style=\"stroke:#000000;stroke-width:0.8;\" x=\"207.352174\" xlink:href=\"#m3a93448a10\" y=\"29.755146\"/>\r\n      </g>\r\n     </g>\r\n     <g id=\"text_14\">\r\n      <!-- 10.0 -->\r\n      <g transform=\"translate(178.086549 33.554365)scale(0.1 -0.1)\">\r\n       <use xlink:href=\"#DejaVuSans-49\"/>\r\n       <use x=\"63.623047\" xlink:href=\"#DejaVuSans-48\"/>\r\n       <use x=\"127.246094\" xlink:href=\"#DejaVuSans-46\"/>\r\n       <use x=\"159.033203\" xlink:href=\"#DejaVuSans-48\"/>\r\n      </g>\r\n     </g>\r\n    </g>\r\n   </g>\r\n   <g id=\"patch_3\">\r\n    <path d=\"M 207.352174 457.198125 \r\nL 207.352174 22.318125 \r\n\" style=\"fill:none;stroke:#000000;stroke-linecap:square;stroke-linejoin:miter;stroke-width:0.8;\"/>\r\n   </g>\r\n   <g id=\"patch_4\">\r\n    <path d=\"M 407.504348 457.198125 \r\nL 407.504348 22.318125 \r\n\" style=\"fill:none;\"/>\r\n   </g>\r\n   <g id=\"patch_5\">\r\n    <path d=\"M 7.2 239.758125 \r\nL 407.504348 239.758125 \r\n\" style=\"fill:none;stroke:#000000;stroke-linecap:square;stroke-linejoin:miter;stroke-width:0.8;\"/>\r\n   </g>\r\n   <g id=\"patch_6\">\r\n    <path d=\"M 7.2 22.318125 \r\nL 407.504348 22.318125 \r\n\" style=\"fill:none;\"/>\r\n   </g>\r\n   <g id=\"text_15\">\r\n    <!-- Original Data -->\r\n    <defs>\r\n     <path d=\"M 39.40625 66.21875 \r\nQ 28.65625 66.21875 22.328125 58.203125 \r\nQ 16.015625 50.203125 16.015625 36.375 \r\nQ 16.015625 22.609375 22.328125 14.59375 \r\nQ 28.65625 6.59375 39.40625 6.59375 \r\nQ 50.140625 6.59375 56.421875 14.59375 \r\nQ 62.703125 22.609375 62.703125 36.375 \r\nQ 62.703125 50.203125 56.421875 58.203125 \r\nQ 50.140625 66.21875 39.40625 66.21875 \r\nz\r\nM 39.40625 74.21875 \r\nQ 54.734375 74.21875 63.90625 63.9375 \r\nQ 73.09375 53.65625 73.09375 36.375 \r\nQ 73.09375 19.140625 63.90625 8.859375 \r\nQ 54.734375 -1.421875 39.40625 -1.421875 \r\nQ 24.03125 -1.421875 14.8125 8.828125 \r\nQ 5.609375 19.09375 5.609375 36.375 \r\nQ 5.609375 53.65625 14.8125 63.9375 \r\nQ 24.03125 74.21875 39.40625 74.21875 \r\nz\r\n\" id=\"DejaVuSans-79\"/>\r\n     <path d=\"M 41.109375 46.296875 \r\nQ 39.59375 47.171875 37.8125 47.578125 \r\nQ 36.03125 48 33.890625 48 \r\nQ 26.265625 48 22.1875 43.046875 \r\nQ 18.109375 38.09375 18.109375 28.8125 \r\nL 18.109375 0 \r\nL 9.078125 0 \r\nL 9.078125 54.6875 \r\nL 18.109375 54.6875 \r\nL 18.109375 46.1875 \r\nQ 20.953125 51.171875 25.484375 53.578125 \r\nQ 30.03125 56 36.53125 56 \r\nQ 37.453125 56 38.578125 55.875 \r\nQ 39.703125 55.765625 41.0625 55.515625 \r\nz\r\n\" id=\"DejaVuSans-114\"/>\r\n     <path d=\"M 9.421875 54.6875 \r\nL 18.40625 54.6875 \r\nL 18.40625 0 \r\nL 9.421875 0 \r\nz\r\nM 9.421875 75.984375 \r\nL 18.40625 75.984375 \r\nL 18.40625 64.59375 \r\nL 9.421875 64.59375 \r\nz\r\n\" id=\"DejaVuSans-105\"/>\r\n     <path d=\"M 45.40625 27.984375 \r\nQ 45.40625 37.75 41.375 43.109375 \r\nQ 37.359375 48.484375 30.078125 48.484375 \r\nQ 22.859375 48.484375 18.828125 43.109375 \r\nQ 14.796875 37.75 14.796875 27.984375 \r\nQ 14.796875 18.265625 18.828125 12.890625 \r\nQ 22.859375 7.515625 30.078125 7.515625 \r\nQ 37.359375 7.515625 41.375 12.890625 \r\nQ 45.40625 18.265625 45.40625 27.984375 \r\nz\r\nM 54.390625 6.78125 \r\nQ 54.390625 -7.171875 48.1875 -13.984375 \r\nQ 42 -20.796875 29.203125 -20.796875 \r\nQ 24.46875 -20.796875 20.265625 -20.09375 \r\nQ 16.0625 -19.390625 12.109375 -17.921875 \r\nL 12.109375 -9.1875 \r\nQ 16.0625 -11.328125 19.921875 -12.34375 \r\nQ 23.78125 -13.375 27.78125 -13.375 \r\nQ 36.625 -13.375 41.015625 -8.765625 \r\nQ 45.40625 -4.15625 45.40625 5.171875 \r\nL 45.40625 9.625 \r\nQ 42.625 4.78125 38.28125 2.390625 \r\nQ 33.9375 0 27.875 0 \r\nQ 17.828125 0 11.671875 7.65625 \r\nQ 5.515625 15.328125 5.515625 27.984375 \r\nQ 5.515625 40.671875 11.671875 48.328125 \r\nQ 17.828125 56 27.875 56 \r\nQ 33.9375 56 38.28125 53.609375 \r\nQ 42.625 51.21875 45.40625 46.390625 \r\nL 45.40625 54.6875 \r\nL 54.390625 54.6875 \r\nz\r\n\" id=\"DejaVuSans-103\"/>\r\n     <path d=\"M 54.890625 33.015625 \r\nL 54.890625 0 \r\nL 45.90625 0 \r\nL 45.90625 32.71875 \r\nQ 45.90625 40.484375 42.875 44.328125 \r\nQ 39.84375 48.1875 33.796875 48.1875 \r\nQ 26.515625 48.1875 22.3125 43.546875 \r\nQ 18.109375 38.921875 18.109375 30.90625 \r\nL 18.109375 0 \r\nL 9.078125 0 \r\nL 9.078125 54.6875 \r\nL 18.109375 54.6875 \r\nL 18.109375 46.1875 \r\nQ 21.34375 51.125 25.703125 53.5625 \r\nQ 30.078125 56 35.796875 56 \r\nQ 45.21875 56 50.046875 50.171875 \r\nQ 54.890625 44.34375 54.890625 33.015625 \r\nz\r\n\" id=\"DejaVuSans-110\"/>\r\n     <path d=\"M 34.28125 27.484375 \r\nQ 23.390625 27.484375 19.1875 25 \r\nQ 14.984375 22.515625 14.984375 16.5 \r\nQ 14.984375 11.71875 18.140625 8.90625 \r\nQ 21.296875 6.109375 26.703125 6.109375 \r\nQ 34.1875 6.109375 38.703125 11.40625 \r\nQ 43.21875 16.703125 43.21875 25.484375 \r\nL 43.21875 27.484375 \r\nz\r\nM 52.203125 31.203125 \r\nL 52.203125 0 \r\nL 43.21875 0 \r\nL 43.21875 8.296875 \r\nQ 40.140625 3.328125 35.546875 0.953125 \r\nQ 30.953125 -1.421875 24.3125 -1.421875 \r\nQ 15.921875 -1.421875 10.953125 3.296875 \r\nQ 6 8.015625 6 15.921875 \r\nQ 6 25.140625 12.171875 29.828125 \r\nQ 18.359375 34.515625 30.609375 34.515625 \r\nL 43.21875 34.515625 \r\nL 43.21875 35.40625 \r\nQ 43.21875 41.609375 39.140625 45 \r\nQ 35.0625 48.390625 27.6875 48.390625 \r\nQ 23 48.390625 18.546875 47.265625 \r\nQ 14.109375 46.140625 10.015625 43.890625 \r\nL 10.015625 52.203125 \r\nQ 14.9375 54.109375 19.578125 55.046875 \r\nQ 24.21875 56 28.609375 56 \r\nQ 40.484375 56 46.34375 49.84375 \r\nQ 52.203125 43.703125 52.203125 31.203125 \r\nz\r\n\" id=\"DejaVuSans-97\"/>\r\n     <path d=\"M 9.421875 75.984375 \r\nL 18.40625 75.984375 \r\nL 18.40625 0 \r\nL 9.421875 0 \r\nz\r\n\" id=\"DejaVuSans-108\"/>\r\n     <path id=\"DejaVuSans-32\"/>\r\n     <path d=\"M 19.671875 64.796875 \r\nL 19.671875 8.109375 \r\nL 31.59375 8.109375 \r\nQ 46.6875 8.109375 53.6875 14.9375 \r\nQ 60.6875 21.78125 60.6875 36.53125 \r\nQ 60.6875 51.171875 53.6875 57.984375 \r\nQ 46.6875 64.796875 31.59375 64.796875 \r\nz\r\nM 9.8125 72.90625 \r\nL 30.078125 72.90625 \r\nQ 51.265625 72.90625 61.171875 64.09375 \r\nQ 71.09375 55.28125 71.09375 36.53125 \r\nQ 71.09375 17.671875 61.125 8.828125 \r\nQ 51.171875 0 30.078125 0 \r\nL 9.8125 0 \r\nz\r\n\" id=\"DejaVuSans-68\"/>\r\n     <path d=\"M 18.3125 70.21875 \r\nL 18.3125 54.6875 \r\nL 36.8125 54.6875 \r\nL 36.8125 47.703125 \r\nL 18.3125 47.703125 \r\nL 18.3125 18.015625 \r\nQ 18.3125 11.328125 20.140625 9.421875 \r\nQ 21.96875 7.515625 27.59375 7.515625 \r\nL 36.8125 7.515625 \r\nL 36.8125 0 \r\nL 27.59375 0 \r\nQ 17.1875 0 13.234375 3.875 \r\nQ 9.28125 7.765625 9.28125 18.015625 \r\nL 9.28125 47.703125 \r\nL 2.6875 47.703125 \r\nL 2.6875 54.6875 \r\nL 9.28125 54.6875 \r\nL 9.28125 70.21875 \r\nz\r\n\" id=\"DejaVuSans-116\"/>\r\n    </defs>\r\n    <g transform=\"translate(167.640611 16.318125)scale(0.12 -0.12)\">\r\n     <use xlink:href=\"#DejaVuSans-79\"/>\r\n     <use x=\"78.710938\" xlink:href=\"#DejaVuSans-114\"/>\r\n     <use x=\"119.824219\" xlink:href=\"#DejaVuSans-105\"/>\r\n     <use x=\"147.607422\" xlink:href=\"#DejaVuSans-103\"/>\r\n     <use x=\"211.083984\" xlink:href=\"#DejaVuSans-105\"/>\r\n     <use x=\"238.867188\" xlink:href=\"#DejaVuSans-110\"/>\r\n     <use x=\"302.246094\" xlink:href=\"#DejaVuSans-97\"/>\r\n     <use x=\"363.525391\" xlink:href=\"#DejaVuSans-108\"/>\r\n     <use x=\"391.308594\" xlink:href=\"#DejaVuSans-32\"/>\r\n     <use x=\"423.095703\" xlink:href=\"#DejaVuSans-68\"/>\r\n     <use x=\"500.097656\" xlink:href=\"#DejaVuSans-97\"/>\r\n     <use x=\"561.376953\" xlink:href=\"#DejaVuSans-116\"/>\r\n     <use x=\"600.585938\" xlink:href=\"#DejaVuSans-97\"/>\r\n    </g>\r\n   </g>\r\n  </g>\r\n  <g id=\"axes_2\">\r\n   <g id=\"patch_7\">\r\n    <path d=\"M 443.895652 219.990852 \r\nL 625.852174 219.990852 \r\nL 625.852174 22.318125 \r\nL 443.895652 22.318125 \r\nz\r\n\" style=\"fill:#ffffff;\"/>\r\n   </g>\r\n   <g id=\"PathCollection_2\">\r\n    <defs>\r\n     <path d=\"M 0 3.872983 \r\nC 1.027127 3.872983 2.012324 3.464901 2.738613 2.738613 \r\nC 3.464901 2.012324 3.872983 1.027127 3.872983 0 \r\nC 3.872983 -1.027127 3.464901 -2.012324 2.738613 -2.738613 \r\nC 2.012324 -3.464901 1.027127 -3.872983 0 -3.872983 \r\nC -1.027127 -3.872983 -2.012324 -3.464901 -2.738613 -2.738613 \r\nC -3.464901 -2.012324 -3.872983 -1.027127 -3.872983 0 \r\nC -3.872983 1.027127 -3.464901 2.012324 -2.738613 2.738613 \r\nC -2.012324 3.464901 -1.027127 3.872983 0 3.872983 \r\nz\r\n\" id=\"C1_0_4f11f99a8f\"/>\r\n    </defs>\r\n    <g clip-path=\"url(#p213acc56f3)\">\r\n     <use style=\"fill:#0000aa;stroke:#0000aa;\" x=\"521.205213\" xlink:href=\"#C1_0_4f11f99a8f\" y=\"143.243396\"/>\r\n    </g>\r\n    <g clip-path=\"url(#p213acc56f3)\">\r\n     <use style=\"fill:#ff2020;stroke:#ff2020;\" x=\"510.069024\" xlink:href=\"#C1_0_4f11f99a8f\" y=\"118.470323\"/>\r\n    </g>\r\n    <g clip-path=\"url(#p213acc56f3)\">\r\n     <use style=\"fill:#0000aa;stroke:#0000aa;\" x=\"486.310093\" xlink:href=\"#C1_0_4f11f99a8f\" y=\"146.885401\"/>\r\n    </g>\r\n    <g clip-path=\"url(#p213acc56f3)\">\r\n     <use style=\"fill:#0000aa;stroke:#0000aa;\" x=\"511.53106\" xlink:href=\"#C1_0_4f11f99a8f\" y=\"204.935616\"/>\r\n    </g>\r\n    <g clip-path=\"url(#p213acc56f3)\">\r\n     <use style=\"fill:#0000aa;stroke:#0000aa;\" x=\"470.959761\" xlink:href=\"#C1_0_4f11f99a8f\" y=\"164.797495\"/>\r\n    </g>\r\n    <g clip-path=\"url(#p213acc56f3)\">\r\n     <use style=\"fill:#0000aa;stroke:#0000aa;\" x=\"479.852558\" xlink:href=\"#C1_0_4f11f99a8f\" y=\"151.565721\"/>\r\n    </g>\r\n    <g clip-path=\"url(#p213acc56f3)\">\r\n     <use style=\"fill:#0000aa;stroke:#0000aa;\" x=\"626.878028\" xlink:href=\"#C1_0_4f11f99a8f\" y=\"154.511951\"/>\r\n    </g>\r\n    <g clip-path=\"url(#p213acc56f3)\">\r\n     <use style=\"fill:#ff2020;stroke:#ff2020;\" x=\"537.68014\" xlink:href=\"#C1_0_4f11f99a8f\" y=\"97.813778\"/>\r\n    </g>\r\n    <g clip-path=\"url(#p213acc56f3)\">\r\n     <use style=\"fill:#ff2020;stroke:#ff2020;\" x=\"543.873628\" xlink:href=\"#C1_0_4f11f99a8f\" y=\"88.696169\"/>\r\n    </g>\r\n    <g clip-path=\"url(#p213acc56f3)\">\r\n     <use style=\"fill:#ff2020;stroke:#ff2020;\" x=\"585.567774\" xlink:href=\"#C1_0_4f11f99a8f\" y=\"72.97171\"/>\r\n    </g>\r\n    <g clip-path=\"url(#p213acc56f3)\">\r\n     <use style=\"fill:#0000aa;stroke:#0000aa;\" x=\"561.380392\" xlink:href=\"#C1_0_4f11f99a8f\" y=\"163.38341\"/>\r\n    </g>\r\n    <g clip-path=\"url(#p213acc56f3)\">\r\n     <use style=\"fill:#ff2020;stroke:#ff2020;\" x=\"541.65355\" xlink:href=\"#C1_0_4f11f99a8f\" y=\"28.445614\"/>\r\n    </g>\r\n    <g clip-path=\"url(#p213acc56f3)\">\r\n     <use style=\"fill:#ff2020;stroke:#ff2020;\" x=\"486.828717\" xlink:href=\"#C1_0_4f11f99a8f\" y=\"92.613904\"/>\r\n    </g>\r\n    <g clip-path=\"url(#p213acc56f3)\">\r\n     <use style=\"fill:#ff2020;stroke:#ff2020;\" x=\"487.781993\" xlink:href=\"#C1_0_4f11f99a8f\" y=\"27.622016\"/>\r\n    </g>\r\n    <g clip-path=\"url(#p213acc56f3)\">\r\n     <use style=\"fill:#0000aa;stroke:#0000aa;\" x=\"536.77766\" xlink:href=\"#C1_0_4f11f99a8f\" y=\"195.364209\"/>\r\n    </g>\r\n    <g clip-path=\"url(#p213acc56f3)\">\r\n     <use style=\"fill:#0000aa;stroke:#0000aa;\" x=\"548.356602\" xlink:href=\"#C1_0_4f11f99a8f\" y=\"156.092846\"/>\r\n    </g>\r\n    <g clip-path=\"url(#p213acc56f3)\">\r\n     <use style=\"fill:#0000aa;stroke:#0000aa;\" x=\"501.360525\" xlink:href=\"#C1_0_4f11f99a8f\" y=\"150.736784\"/>\r\n    </g>\r\n    <g clip-path=\"url(#p213acc56f3)\">\r\n     <use style=\"fill:#0000aa;stroke:#0000aa;\" x=\"486.87412\" xlink:href=\"#C1_0_4f11f99a8f\" y=\"163.17199\"/>\r\n    </g>\r\n    <g clip-path=\"url(#p213acc56f3)\">\r\n     <use style=\"fill:#0000aa;stroke:#0000aa;\" x=\"564.142641\" xlink:href=\"#C1_0_4f11f99a8f\" y=\"211.466364\"/>\r\n    </g>\r\n    <g clip-path=\"url(#p213acc56f3)\">\r\n     <use style=\"fill:#0000aa;stroke:#0000aa;\" x=\"516.567222\" xlink:href=\"#C1_0_4f11f99a8f\" y=\"133.930753\"/>\r\n    </g>\r\n    <g clip-path=\"url(#p213acc56f3)\">\r\n     <use style=\"fill:#0000aa;stroke:#0000aa;\" x=\"524.088848\" xlink:href=\"#C1_0_4f11f99a8f\" y=\"144.121015\"/>\r\n    </g>\r\n    <g clip-path=\"url(#p213acc56f3)\">\r\n     <use style=\"fill:#ff2020;stroke:#ff2020;\" x=\"569.457581\" xlink:href=\"#C1_0_4f11f99a8f\" y=\"78.668504\"/>\r\n    </g>\r\n    <g clip-path=\"url(#p213acc56f3)\">\r\n     <use style=\"fill:#0000aa;stroke:#0000aa;\" x=\"501.514183\" xlink:href=\"#C1_0_4f11f99a8f\" y=\"149.306692\"/>\r\n    </g>\r\n    <g clip-path=\"url(#p213acc56f3)\">\r\n     <use style=\"fill:#ff2020;stroke:#ff2020;\" x=\"556.993313\" xlink:href=\"#C1_0_4f11f99a8f\" y=\"71.49928\"/>\r\n    </g>\r\n    <g clip-path=\"url(#p213acc56f3)\">\r\n     <use style=\"fill:#ff2020;stroke:#ff2020;\" x=\"642.872979\" xlink:href=\"#C1_0_4f11f99a8f\" y=\"70.176871\"/>\r\n    </g>\r\n    <g clip-path=\"url(#p213acc56f3)\">\r\n     <use style=\"fill:#ff2020;stroke:#ff2020;\" x=\"536.856278\" xlink:href=\"#C1_0_4f11f99a8f\" y=\"74.34804\"/>\r\n    </g>\r\n    <g clip-path=\"url(#p213acc56f3)\">\r\n     <use style=\"fill:#0000aa;stroke:#0000aa;\" x=\"517.735712\" xlink:href=\"#C1_0_4f11f99a8f\" y=\"144.263064\"/>\r\n    </g>\r\n    <g clip-path=\"url(#p213acc56f3)\">\r\n     <use style=\"fill:#ff2020;stroke:#ff2020;\" x=\"594.987638\" xlink:href=\"#C1_0_4f11f99a8f\" y=\"80.545146\"/>\r\n    </g>\r\n    <g clip-path=\"url(#p213acc56f3)\">\r\n     <use style=\"fill:#ff2020;stroke:#ff2020;\" x=\"495.198501\" xlink:href=\"#C1_0_4f11f99a8f\" y=\"68.191188\"/>\r\n    </g>\r\n    <g clip-path=\"url(#p213acc56f3)\">\r\n     <use style=\"fill:#ff2020;stroke:#ff2020;\" x=\"547.708586\" xlink:href=\"#C1_0_4f11f99a8f\" y=\"103.661978\"/>\r\n    </g>\r\n    <g clip-path=\"url(#p213acc56f3)\">\r\n     <use style=\"fill:#0000aa;stroke:#0000aa;\" x=\"481.521179\" xlink:href=\"#C1_0_4f11f99a8f\" y=\"143.210076\"/>\r\n    </g>\r\n    <g clip-path=\"url(#p213acc56f3)\">\r\n     <use style=\"fill:#ff2020;stroke:#ff2020;\" x=\"576.420533\" xlink:href=\"#C1_0_4f11f99a8f\" y=\"65.822058\"/>\r\n    </g>\r\n    <g clip-path=\"url(#p213acc56f3)\">\r\n     <use style=\"fill:#0000aa;stroke:#0000aa;\" x=\"620.961947\" xlink:href=\"#C1_0_4f11f99a8f\" y=\"141.247921\"/>\r\n    </g>\r\n    <g clip-path=\"url(#p213acc56f3)\">\r\n     <use style=\"fill:#0000aa;stroke:#0000aa;\" x=\"479.284147\" xlink:href=\"#C1_0_4f11f99a8f\" y=\"155.615229\"/>\r\n    </g>\r\n    <g clip-path=\"url(#p213acc56f3)\">\r\n     <use style=\"fill:#ff2020;stroke:#ff2020;\" x=\"572.758963\" xlink:href=\"#C1_0_4f11f99a8f\" y=\"83.619476\"/>\r\n    </g>\r\n    <g clip-path=\"url(#p213acc56f3)\">\r\n     <use style=\"fill:#ff2020;stroke:#ff2020;\" x=\"590.267435\" xlink:href=\"#C1_0_4f11f99a8f\" y=\"95.657571\"/>\r\n    </g>\r\n    <g clip-path=\"url(#p213acc56f3)\">\r\n     <use style=\"fill:#ff2020;stroke:#ff2020;\" x=\"493.49862\" xlink:href=\"#C1_0_4f11f99a8f\" y=\"71.99822\"/>\r\n    </g>\r\n    <g clip-path=\"url(#p213acc56f3)\">\r\n     <use style=\"fill:#0000aa;stroke:#0000aa;\" x=\"544.303555\" xlink:href=\"#C1_0_4f11f99a8f\" y=\"193.797852\"/>\r\n    </g>\r\n    <g clip-path=\"url(#p213acc56f3)\">\r\n     <use style=\"fill:#0000aa;stroke:#0000aa;\" x=\"556.80994\" xlink:href=\"#C1_0_4f11f99a8f\" y=\"166.800986\"/>\r\n    </g>\r\n    <g clip-path=\"url(#p213acc56f3)\">\r\n     <use style=\"fill:#0000aa;stroke:#0000aa;\" x=\"601.220186\" xlink:href=\"#C1_0_4f11f99a8f\" y=\"199.237766\"/>\r\n    </g>\r\n    <g clip-path=\"url(#p213acc56f3)\">\r\n     <use style=\"fill:#ff2020;stroke:#ff2020;\" x=\"536.373543\" xlink:href=\"#C1_0_4f11f99a8f\" y=\"78.239453\"/>\r\n    </g>\r\n    <g clip-path=\"url(#p213acc56f3)\">\r\n     <use style=\"fill:#ff2020;stroke:#ff2020;\" x=\"513.084357\" xlink:href=\"#C1_0_4f11f99a8f\" y=\"83.524027\"/>\r\n    </g>\r\n    <g clip-path=\"url(#p213acc56f3)\">\r\n     <use style=\"fill:#0000aa;stroke:#0000aa;\" x=\"503.296548\" xlink:href=\"#C1_0_4f11f99a8f\" y=\"125.140398\"/>\r\n    </g>\r\n    <g clip-path=\"url(#p213acc56f3)\">\r\n     <use style=\"fill:#ff2020;stroke:#ff2020;\" x=\"500.730722\" xlink:href=\"#C1_0_4f11f99a8f\" y=\"74.58337\"/>\r\n    </g>\r\n    <g clip-path=\"url(#p213acc56f3)\">\r\n     <use style=\"fill:#0000aa;stroke:#0000aa;\" x=\"531.892178\" xlink:href=\"#C1_0_4f11f99a8f\" y=\"224.645084\"/>\r\n    </g>\r\n    <g clip-path=\"url(#p213acc56f3)\">\r\n     <use style=\"fill:#ff2020;stroke:#ff2020;\" x=\"575.545123\" xlink:href=\"#C1_0_4f11f99a8f\" y=\"87.97396\"/>\r\n    </g>\r\n    <g clip-path=\"url(#p213acc56f3)\">\r\n     <use style=\"fill:#ff2020;stroke:#ff2020;\" x=\"430.822236\" xlink:href=\"#C1_0_4f11f99a8f\" y=\"94.639329\"/>\r\n    </g>\r\n    <g clip-path=\"url(#p213acc56f3)\">\r\n     <use style=\"fill:#ff2020;stroke:#ff2020;\" x=\"471.1788\" xlink:href=\"#C1_0_4f11f99a8f\" y=\"64.982775\"/>\r\n    </g>\r\n    <g clip-path=\"url(#p213acc56f3)\">\r\n     <use style=\"fill:#ff2020;stroke:#ff2020;\" x=\"566.969276\" xlink:href=\"#C1_0_4f11f99a8f\" y=\"62.573087\"/>\r\n    </g>\r\n    <g clip-path=\"url(#p213acc56f3)\">\r\n     <use style=\"fill:#0000aa;stroke:#0000aa;\" x=\"603.692043\" xlink:href=\"#C1_0_4f11f99a8f\" y=\"192.914566\"/>\r\n    </g>\r\n   </g>\r\n   <g id=\"matplotlib.axis_3\">\r\n    <g id=\"xtick_7\">\r\n     <g id=\"line2d_15\">\r\n      <g>\r\n       <use style=\"stroke:#000000;stroke-width:0.8;\" x=\"443.895652\" xlink:href=\"#m027a3317cc\" y=\"121.154489\"/>\r\n      </g>\r\n     </g>\r\n     <g id=\"text_16\">\r\n      <!-- −2 -->\r\n      <g transform=\"translate(436.524558 135.752926)scale(0.1 -0.1)\">\r\n       <use xlink:href=\"#DejaVuSans-8722\"/>\r\n       <use x=\"83.789062\" xlink:href=\"#DejaVuSans-50\"/>\r\n      </g>\r\n     </g>\r\n    </g>\r\n    <g id=\"xtick_8\">\r\n     <g id=\"line2d_16\">\r\n      <g>\r\n       <use style=\"stroke:#000000;stroke-width:0.8;\" x=\"489.384783\" xlink:href=\"#m027a3317cc\" y=\"121.154489\"/>\r\n      </g>\r\n     </g>\r\n     <g id=\"text_17\">\r\n      <!-- −1 -->\r\n      <g transform=\"translate(482.013689 135.752926)scale(0.1 -0.1)\">\r\n       <use xlink:href=\"#DejaVuSans-8722\"/>\r\n       <use x=\"83.789062\" xlink:href=\"#DejaVuSans-49\"/>\r\n      </g>\r\n     </g>\r\n    </g>\r\n    <g id=\"xtick_9\">\r\n     <g id=\"line2d_17\">\r\n      <g>\r\n       <use style=\"stroke:#000000;stroke-width:0.8;\" x=\"534.873913\" xlink:href=\"#m027a3317cc\" y=\"121.154489\"/>\r\n      </g>\r\n     </g>\r\n     <g id=\"text_18\">\r\n      <!-- 0 -->\r\n      <g transform=\"translate(531.692663 135.752926)scale(0.1 -0.1)\">\r\n       <use xlink:href=\"#DejaVuSans-48\"/>\r\n      </g>\r\n     </g>\r\n    </g>\r\n    <g id=\"xtick_10\">\r\n     <g id=\"line2d_18\">\r\n      <g>\r\n       <use style=\"stroke:#000000;stroke-width:0.8;\" x=\"580.363043\" xlink:href=\"#m027a3317cc\" y=\"121.154489\"/>\r\n      </g>\r\n     </g>\r\n     <g id=\"text_19\">\r\n      <!-- 1 -->\r\n      <g transform=\"translate(577.181793 135.752926)scale(0.1 -0.1)\">\r\n       <use xlink:href=\"#DejaVuSans-49\"/>\r\n      </g>\r\n     </g>\r\n    </g>\r\n    <g id=\"xtick_11\">\r\n     <g id=\"line2d_19\">\r\n      <g>\r\n       <use style=\"stroke:#000000;stroke-width:0.8;\" x=\"625.852174\" xlink:href=\"#m027a3317cc\" y=\"121.154489\"/>\r\n      </g>\r\n     </g>\r\n     <g id=\"text_20\">\r\n      <!-- 2 -->\r\n      <g transform=\"translate(622.670924 135.752926)scale(0.1 -0.1)\">\r\n       <use xlink:href=\"#DejaVuSans-50\"/>\r\n      </g>\r\n     </g>\r\n    </g>\r\n   </g>\r\n   <g id=\"matplotlib.axis_4\">\r\n    <g id=\"ytick_9\">\r\n     <g id=\"line2d_20\">\r\n      <g>\r\n       <use style=\"stroke:#000000;stroke-width:0.8;\" x=\"534.873913\" xlink:href=\"#m3a93448a10\" y=\"219.990852\"/>\r\n      </g>\r\n     </g>\r\n     <g id=\"text_21\">\r\n      <!-- −2.0 -->\r\n      <g transform=\"translate(503.591101 223.790071)scale(0.1 -0.1)\">\r\n       <use xlink:href=\"#DejaVuSans-8722\"/>\r\n       <use x=\"83.789062\" xlink:href=\"#DejaVuSans-50\"/>\r\n       <use x=\"147.412109\" xlink:href=\"#DejaVuSans-46\"/>\r\n       <use x=\"179.199219\" xlink:href=\"#DejaVuSans-48\"/>\r\n      </g>\r\n     </g>\r\n    </g>\r\n    <g id=\"ytick_10\">\r\n     <g id=\"line2d_21\">\r\n      <g>\r\n       <use style=\"stroke:#000000;stroke-width:0.8;\" x=\"534.873913\" xlink:href=\"#m3a93448a10\" y=\"195.281761\"/>\r\n      </g>\r\n     </g>\r\n     <g id=\"text_22\">\r\n      <!-- −1.5 -->\r\n      <g transform=\"translate(503.591101 199.08098)scale(0.1 -0.1)\">\r\n       <use xlink:href=\"#DejaVuSans-8722\"/>\r\n       <use x=\"83.789062\" xlink:href=\"#DejaVuSans-49\"/>\r\n       <use x=\"147.412109\" xlink:href=\"#DejaVuSans-46\"/>\r\n       <use x=\"179.199219\" xlink:href=\"#DejaVuSans-53\"/>\r\n      </g>\r\n     </g>\r\n    </g>\r\n    <g id=\"ytick_11\">\r\n     <g id=\"line2d_22\">\r\n      <g>\r\n       <use style=\"stroke:#000000;stroke-width:0.8;\" x=\"534.873913\" xlink:href=\"#m3a93448a10\" y=\"170.57267\"/>\r\n      </g>\r\n     </g>\r\n     <g id=\"text_23\">\r\n      <!-- −1.0 -->\r\n      <g transform=\"translate(503.591101 174.371889)scale(0.1 -0.1)\">\r\n       <use xlink:href=\"#DejaVuSans-8722\"/>\r\n       <use x=\"83.789062\" xlink:href=\"#DejaVuSans-49\"/>\r\n       <use x=\"147.412109\" xlink:href=\"#DejaVuSans-46\"/>\r\n       <use x=\"179.199219\" xlink:href=\"#DejaVuSans-48\"/>\r\n      </g>\r\n     </g>\r\n    </g>\r\n    <g id=\"ytick_12\">\r\n     <g id=\"line2d_23\">\r\n      <g>\r\n       <use style=\"stroke:#000000;stroke-width:0.8;\" x=\"534.873913\" xlink:href=\"#m3a93448a10\" y=\"145.86358\"/>\r\n      </g>\r\n     </g>\r\n     <g id=\"text_24\">\r\n      <!-- −0.5 -->\r\n      <g transform=\"translate(503.591101 149.662798)scale(0.1 -0.1)\">\r\n       <use xlink:href=\"#DejaVuSans-8722\"/>\r\n       <use x=\"83.789062\" xlink:href=\"#DejaVuSans-48\"/>\r\n       <use x=\"147.412109\" xlink:href=\"#DejaVuSans-46\"/>\r\n       <use x=\"179.199219\" xlink:href=\"#DejaVuSans-53\"/>\r\n      </g>\r\n     </g>\r\n    </g>\r\n    <g id=\"ytick_13\">\r\n     <g id=\"line2d_24\">\r\n      <g>\r\n       <use style=\"stroke:#000000;stroke-width:0.8;\" x=\"534.873913\" xlink:href=\"#m3a93448a10\" y=\"121.154489\"/>\r\n      </g>\r\n     </g>\r\n     <g id=\"text_25\">\r\n      <!-- 0.0 -->\r\n      <g transform=\"translate(511.970788 124.953707)scale(0.1 -0.1)\">\r\n       <use xlink:href=\"#DejaVuSans-48\"/>\r\n       <use x=\"63.623047\" xlink:href=\"#DejaVuSans-46\"/>\r\n       <use x=\"95.410156\" xlink:href=\"#DejaVuSans-48\"/>\r\n      </g>\r\n     </g>\r\n    </g>\r\n    <g id=\"ytick_14\">\r\n     <g id=\"line2d_25\">\r\n      <g>\r\n       <use style=\"stroke:#000000;stroke-width:0.8;\" x=\"534.873913\" xlink:href=\"#m3a93448a10\" y=\"96.445398\"/>\r\n      </g>\r\n     </g>\r\n     <g id=\"text_26\">\r\n      <!-- 0.5 -->\r\n      <g transform=\"translate(511.970788 100.244616)scale(0.1 -0.1)\">\r\n       <use xlink:href=\"#DejaVuSans-48\"/>\r\n       <use x=\"63.623047\" xlink:href=\"#DejaVuSans-46\"/>\r\n       <use x=\"95.410156\" xlink:href=\"#DejaVuSans-53\"/>\r\n      </g>\r\n     </g>\r\n    </g>\r\n    <g id=\"ytick_15\">\r\n     <g id=\"line2d_26\">\r\n      <g>\r\n       <use style=\"stroke:#000000;stroke-width:0.8;\" x=\"534.873913\" xlink:href=\"#m3a93448a10\" y=\"71.736307\"/>\r\n      </g>\r\n     </g>\r\n     <g id=\"text_27\">\r\n      <!-- 1.0 -->\r\n      <g transform=\"translate(511.970788 75.535526)scale(0.1 -0.1)\">\r\n       <use xlink:href=\"#DejaVuSans-49\"/>\r\n       <use x=\"63.623047\" xlink:href=\"#DejaVuSans-46\"/>\r\n       <use x=\"95.410156\" xlink:href=\"#DejaVuSans-48\"/>\r\n      </g>\r\n     </g>\r\n    </g>\r\n    <g id=\"ytick_16\">\r\n     <g id=\"line2d_27\">\r\n      <g>\r\n       <use style=\"stroke:#000000;stroke-width:0.8;\" x=\"534.873913\" xlink:href=\"#m3a93448a10\" y=\"47.027216\"/>\r\n      </g>\r\n     </g>\r\n     <g id=\"text_28\">\r\n      <!-- 1.5 -->\r\n      <g transform=\"translate(511.970788 50.826435)scale(0.1 -0.1)\">\r\n       <use xlink:href=\"#DejaVuSans-49\"/>\r\n       <use x=\"63.623047\" xlink:href=\"#DejaVuSans-46\"/>\r\n       <use x=\"95.410156\" xlink:href=\"#DejaVuSans-53\"/>\r\n      </g>\r\n     </g>\r\n    </g>\r\n    <g id=\"ytick_17\">\r\n     <g id=\"line2d_28\">\r\n      <g>\r\n       <use style=\"stroke:#000000;stroke-width:0.8;\" x=\"534.873913\" xlink:href=\"#m3a93448a10\" y=\"22.318125\"/>\r\n      </g>\r\n     </g>\r\n     <g id=\"text_29\">\r\n      <!-- 2.0 -->\r\n      <g transform=\"translate(511.970788 26.117344)scale(0.1 -0.1)\">\r\n       <use xlink:href=\"#DejaVuSans-50\"/>\r\n       <use x=\"63.623047\" xlink:href=\"#DejaVuSans-46\"/>\r\n       <use x=\"95.410156\" xlink:href=\"#DejaVuSans-48\"/>\r\n      </g>\r\n     </g>\r\n    </g>\r\n   </g>\r\n   <g id=\"patch_8\">\r\n    <path d=\"M 534.873913 219.990852 \r\nL 534.873913 22.318125 \r\n\" style=\"fill:none;stroke:#000000;stroke-linecap:square;stroke-linejoin:miter;stroke-width:0.8;\"/>\r\n   </g>\r\n   <g id=\"patch_9\">\r\n    <path d=\"M 625.852174 219.990852 \r\nL 625.852174 22.318125 \r\n\" style=\"fill:none;\"/>\r\n   </g>\r\n   <g id=\"patch_10\">\r\n    <path d=\"M 443.895652 121.154489 \r\nL 625.852174 121.154489 \r\n\" style=\"fill:none;stroke:#000000;stroke-linecap:square;stroke-linejoin:miter;stroke-width:0.8;\"/>\r\n   </g>\r\n   <g id=\"patch_11\">\r\n    <path d=\"M 443.895652 22.318125 \r\nL 625.852174 22.318125 \r\n\" style=\"fill:none;\"/>\r\n   </g>\r\n   <g id=\"text_30\">\r\n    <!-- StandardScaler -->\r\n    <defs>\r\n     <path d=\"M 53.515625 70.515625 \r\nL 53.515625 60.890625 \r\nQ 47.90625 63.578125 42.921875 64.890625 \r\nQ 37.9375 66.21875 33.296875 66.21875 \r\nQ 25.25 66.21875 20.875 63.09375 \r\nQ 16.5 59.96875 16.5 54.203125 \r\nQ 16.5 49.359375 19.40625 46.890625 \r\nQ 22.3125 44.4375 30.421875 42.921875 \r\nL 36.375 41.703125 \r\nQ 47.40625 39.59375 52.65625 34.296875 \r\nQ 57.90625 29 57.90625 20.125 \r\nQ 57.90625 9.515625 50.796875 4.046875 \r\nQ 43.703125 -1.421875 29.984375 -1.421875 \r\nQ 24.8125 -1.421875 18.96875 -0.25 \r\nQ 13.140625 0.921875 6.890625 3.21875 \r\nL 6.890625 13.375 \r\nQ 12.890625 10.015625 18.65625 8.296875 \r\nQ 24.421875 6.59375 29.984375 6.59375 \r\nQ 38.421875 6.59375 43.015625 9.90625 \r\nQ 47.609375 13.234375 47.609375 19.390625 \r\nQ 47.609375 24.75 44.3125 27.78125 \r\nQ 41.015625 30.8125 33.5 32.328125 \r\nL 27.484375 33.5 \r\nQ 16.453125 35.6875 11.515625 40.375 \r\nQ 6.59375 45.0625 6.59375 53.421875 \r\nQ 6.59375 63.09375 13.40625 68.65625 \r\nQ 20.21875 74.21875 32.171875 74.21875 \r\nQ 37.3125 74.21875 42.625 73.28125 \r\nQ 47.953125 72.359375 53.515625 70.515625 \r\nz\r\n\" id=\"DejaVuSans-83\"/>\r\n     <path d=\"M 45.40625 46.390625 \r\nL 45.40625 75.984375 \r\nL 54.390625 75.984375 \r\nL 54.390625 0 \r\nL 45.40625 0 \r\nL 45.40625 8.203125 \r\nQ 42.578125 3.328125 38.25 0.953125 \r\nQ 33.9375 -1.421875 27.875 -1.421875 \r\nQ 17.96875 -1.421875 11.734375 6.484375 \r\nQ 5.515625 14.40625 5.515625 27.296875 \r\nQ 5.515625 40.1875 11.734375 48.09375 \r\nQ 17.96875 56 27.875 56 \r\nQ 33.9375 56 38.25 53.625 \r\nQ 42.578125 51.265625 45.40625 46.390625 \r\nz\r\nM 14.796875 27.296875 \r\nQ 14.796875 17.390625 18.875 11.75 \r\nQ 22.953125 6.109375 30.078125 6.109375 \r\nQ 37.203125 6.109375 41.296875 11.75 \r\nQ 45.40625 17.390625 45.40625 27.296875 \r\nQ 45.40625 37.203125 41.296875 42.84375 \r\nQ 37.203125 48.484375 30.078125 48.484375 \r\nQ 22.953125 48.484375 18.875 42.84375 \r\nQ 14.796875 37.203125 14.796875 27.296875 \r\nz\r\n\" id=\"DejaVuSans-100\"/>\r\n     <path d=\"M 48.78125 52.59375 \r\nL 48.78125 44.1875 \r\nQ 44.96875 46.296875 41.140625 47.34375 \r\nQ 37.3125 48.390625 33.40625 48.390625 \r\nQ 24.65625 48.390625 19.8125 42.84375 \r\nQ 14.984375 37.3125 14.984375 27.296875 \r\nQ 14.984375 17.28125 19.8125 11.734375 \r\nQ 24.65625 6.203125 33.40625 6.203125 \r\nQ 37.3125 6.203125 41.140625 7.25 \r\nQ 44.96875 8.296875 48.78125 10.40625 \r\nL 48.78125 2.09375 \r\nQ 45.015625 0.34375 40.984375 -0.53125 \r\nQ 36.96875 -1.421875 32.421875 -1.421875 \r\nQ 20.0625 -1.421875 12.78125 6.34375 \r\nQ 5.515625 14.109375 5.515625 27.296875 \r\nQ 5.515625 40.671875 12.859375 48.328125 \r\nQ 20.21875 56 33.015625 56 \r\nQ 37.15625 56 41.109375 55.140625 \r\nQ 45.0625 54.296875 48.78125 52.59375 \r\nz\r\n\" id=\"DejaVuSans-99\"/>\r\n     <path d=\"M 56.203125 29.59375 \r\nL 56.203125 25.203125 \r\nL 14.890625 25.203125 \r\nQ 15.484375 15.921875 20.484375 11.0625 \r\nQ 25.484375 6.203125 34.421875 6.203125 \r\nQ 39.59375 6.203125 44.453125 7.46875 \r\nQ 49.3125 8.734375 54.109375 11.28125 \r\nL 54.109375 2.78125 \r\nQ 49.265625 0.734375 44.1875 -0.34375 \r\nQ 39.109375 -1.421875 33.890625 -1.421875 \r\nQ 20.796875 -1.421875 13.15625 6.1875 \r\nQ 5.515625 13.8125 5.515625 26.8125 \r\nQ 5.515625 40.234375 12.765625 48.109375 \r\nQ 20.015625 56 32.328125 56 \r\nQ 43.359375 56 49.78125 48.890625 \r\nQ 56.203125 41.796875 56.203125 29.59375 \r\nz\r\nM 47.21875 32.234375 \r\nQ 47.125 39.59375 43.09375 43.984375 \r\nQ 39.0625 48.390625 32.421875 48.390625 \r\nQ 24.90625 48.390625 20.390625 44.140625 \r\nQ 15.875 39.890625 15.1875 32.171875 \r\nz\r\n\" id=\"DejaVuSans-101\"/>\r\n    </defs>\r\n    <g transform=\"translate(488.966413 16.318125)scale(0.12 -0.12)\">\r\n     <use xlink:href=\"#DejaVuSans-83\"/>\r\n     <use x=\"63.476562\" xlink:href=\"#DejaVuSans-116\"/>\r\n     <use x=\"102.685547\" xlink:href=\"#DejaVuSans-97\"/>\r\n     <use x=\"163.964844\" xlink:href=\"#DejaVuSans-110\"/>\r\n     <use x=\"227.34375\" xlink:href=\"#DejaVuSans-100\"/>\r\n     <use x=\"290.820312\" xlink:href=\"#DejaVuSans-97\"/>\r\n     <use x=\"352.099609\" xlink:href=\"#DejaVuSans-114\"/>\r\n     <use x=\"391.462891\" xlink:href=\"#DejaVuSans-100\"/>\r\n     <use x=\"454.939453\" xlink:href=\"#DejaVuSans-83\"/>\r\n     <use x=\"518.416016\" xlink:href=\"#DejaVuSans-99\"/>\r\n     <use x=\"573.396484\" xlink:href=\"#DejaVuSans-97\"/>\r\n     <use x=\"634.675781\" xlink:href=\"#DejaVuSans-108\"/>\r\n     <use x=\"662.458984\" xlink:href=\"#DejaVuSans-101\"/>\r\n     <use x=\"723.982422\" xlink:href=\"#DejaVuSans-114\"/>\r\n    </g>\r\n   </g>\r\n  </g>\r\n  <g id=\"axes_3\">\r\n   <g id=\"patch_12\">\r\n    <path d=\"M 443.895652 457.198125 \r\nL 625.852174 457.198125 \r\nL 625.852174 259.525398 \r\nL 443.895652 259.525398 \r\nz\r\n\" style=\"fill:#ffffff;\"/>\r\n   </g>\r\n   <g id=\"PathCollection_3\">\r\n    <defs>\r\n     <path d=\"M 0 3.872983 \r\nC 1.027127 3.872983 2.012324 3.464901 2.738613 2.738613 \r\nC 3.464901 2.012324 3.872983 1.027127 3.872983 0 \r\nC 3.872983 -1.027127 3.464901 -2.012324 2.738613 -2.738613 \r\nC 2.012324 -3.464901 1.027127 -3.872983 0 -3.872983 \r\nC -1.027127 -3.872983 -2.012324 -3.464901 -2.738613 -2.738613 \r\nC -3.464901 -2.012324 -3.872983 -1.027127 -3.872983 0 \r\nC -3.872983 1.027127 -3.464901 2.012324 -2.738613 2.738613 \r\nC -2.012324 3.464901 -1.027127 3.872983 0 3.872983 \r\nz\r\n\" id=\"C2_0_0a4cddfd3f\"/>\r\n    </defs>\r\n    <g clip-path=\"url(#p8f19452f46)\">\r\n     <use style=\"fill:#0000aa;stroke:#0000aa;\" x=\"524.178823\" xlink:href=\"#C2_0_0a4cddfd3f\" y=\"372.121882\"/>\r\n    </g>\r\n    <g clip-path=\"url(#p8f19452f46)\">\r\n     <use style=\"fill:#ff2020;stroke:#ff2020;\" x=\"516.429991\" xlink:href=\"#C2_0_0a4cddfd3f\" y=\"356.221149\"/>\r\n    </g>\r\n    <g clip-path=\"url(#p8f19452f46)\">\r\n     <use style=\"fill:#0000aa;stroke:#0000aa;\" x=\"499.897948\" xlink:href=\"#C2_0_0a4cddfd3f\" y=\"374.459523\"/>\r\n    </g>\r\n    <g clip-path=\"url(#p8f19452f46)\">\r\n     <use style=\"fill:#0000aa;stroke:#0000aa;\" x=\"517.447311\" xlink:href=\"#C2_0_0a4cddfd3f\" y=\"411.71937\"/>\r\n    </g>\r\n    <g clip-path=\"url(#p8f19452f46)\">\r\n     <use style=\"fill:#0000aa;stroke:#0000aa;\" x=\"489.216814\" xlink:href=\"#C2_0_0a4cddfd3f\" y=\"385.956498\"/>\r\n    </g>\r\n    <g clip-path=\"url(#p8f19452f46)\">\r\n     <use style=\"fill:#0000aa;stroke:#0000aa;\" x=\"495.404639\" xlink:href=\"#C2_0_0a4cddfd3f\" y=\"377.463611\"/>\r\n    </g>\r\n    <g clip-path=\"url(#p8f19452f46)\">\r\n     <use style=\"fill:#0000aa;stroke:#0000aa;\" x=\"597.70854\" xlink:href=\"#C2_0_0a4cddfd3f\" y=\"379.354665\"/>\r\n    </g>\r\n    <g clip-path=\"url(#p8f19452f46)\">\r\n     <use style=\"fill:#ff2020;stroke:#ff2020;\" x=\"535.642478\" xlink:href=\"#C2_0_0a4cddfd3f\" y=\"342.962633\"/>\r\n    </g>\r\n    <g clip-path=\"url(#p8f19452f46)\">\r\n     <use style=\"fill:#ff2020;stroke:#ff2020;\" x=\"539.952058\" xlink:href=\"#C2_0_0a4cddfd3f\" y=\"337.110446\"/>\r\n    </g>\r\n    <g clip-path=\"url(#p8f19452f46)\">\r\n     <use style=\"fill:#ff2020;stroke:#ff2020;\" x=\"568.963859\" xlink:href=\"#C2_0_0a4cddfd3f\" y=\"327.017616\"/>\r\n    </g>\r\n    <g clip-path=\"url(#p8f19452f46)\">\r\n     <use style=\"fill:#0000aa;stroke:#0000aa;\" x=\"552.13369\" xlink:href=\"#C2_0_0a4cddfd3f\" y=\"385.04886\"/>\r\n    </g>\r\n    <g clip-path=\"url(#p8f19452f46)\">\r\n     <use style=\"fill:#ff2020;stroke:#ff2020;\" x=\"538.407273\" xlink:href=\"#C2_0_0a4cddfd3f\" y=\"298.438298\"/>\r\n    </g>\r\n    <g clip-path=\"url(#p8f19452f46)\">\r\n     <use style=\"fill:#ff2020;stroke:#ff2020;\" x=\"500.25882\" xlink:href=\"#C2_0_0a4cddfd3f\" y=\"339.625065\"/>\r\n    </g>\r\n    <g clip-path=\"url(#p8f19452f46)\">\r\n     <use style=\"fill:#ff2020;stroke:#ff2020;\" x=\"500.922132\" xlink:href=\"#C2_0_0a4cddfd3f\" y=\"297.909666\"/>\r\n    </g>\r\n    <g clip-path=\"url(#p8f19452f46)\">\r\n     <use style=\"fill:#0000aa;stroke:#0000aa;\" x=\"535.01451\" xlink:href=\"#C2_0_0a4cddfd3f\" y=\"405.57591\"/>\r\n    </g>\r\n    <g clip-path=\"url(#p8f19452f46)\">\r\n     <use style=\"fill:#0000aa;stroke:#0000aa;\" x=\"543.07142\" xlink:href=\"#C2_0_0a4cddfd3f\" y=\"380.369371\"/>\r\n    </g>\r\n    <g clip-path=\"url(#p8f19452f46)\">\r\n     <use style=\"fill:#0000aa;stroke:#0000aa;\" x=\"510.370405\" xlink:href=\"#C2_0_0a4cddfd3f\" y=\"376.931554\"/>\r\n    </g>\r\n    <g clip-path=\"url(#p8f19452f46)\">\r\n     <use style=\"fill:#0000aa;stroke:#0000aa;\" x=\"500.290412\" xlink:href=\"#C2_0_0a4cddfd3f\" y=\"384.913158\"/>\r\n    </g>\r\n    <g clip-path=\"url(#p8f19452f46)\">\r\n     <use style=\"fill:#0000aa;stroke:#0000aa;\" x=\"554.05573\" xlink:href=\"#C2_0_0a4cddfd3f\" y=\"415.911166\"/>\r\n    </g>\r\n    <g clip-path=\"url(#p8f19452f46)\">\r\n     <use style=\"fill:#0000aa;stroke:#0000aa;\" x=\"520.951595\" xlink:href=\"#C2_0_0a4cddfd3f\" y=\"366.144511\"/>\r\n    </g>\r\n    <g clip-path=\"url(#p8f19452f46)\">\r\n     <use style=\"fill:#0000aa;stroke:#0000aa;\" x=\"526.185326\" xlink:href=\"#C2_0_0a4cddfd3f\" y=\"372.685186\"/>\r\n    </g>\r\n    <g clip-path=\"url(#p8f19452f46)\">\r\n     <use style=\"fill:#ff2020;stroke:#ff2020;\" x=\"557.753995\" xlink:href=\"#C2_0_0a4cddfd3f\" y=\"330.674134\"/>\r\n    </g>\r\n    <g clip-path=\"url(#p8f19452f46)\">\r\n     <use style=\"fill:#0000aa;stroke:#0000aa;\" x=\"510.477325\" xlink:href=\"#C2_0_0a4cddfd3f\" y=\"376.013641\"/>\r\n    </g>\r\n    <g clip-path=\"url(#p8f19452f46)\">\r\n     <use style=\"fill:#ff2020;stroke:#ff2020;\" x=\"549.081054\" xlink:href=\"#C2_0_0a4cddfd3f\" y=\"326.072529\"/>\r\n    </g>\r\n    <g clip-path=\"url(#p8f19452f46)\">\r\n     <use style=\"fill:#ff2020;stroke:#ff2020;\" x=\"608.838216\" xlink:href=\"#C2_0_0a4cddfd3f\" y=\"325.223733\"/>\r\n    </g>\r\n    <g clip-path=\"url(#p8f19452f46)\">\r\n     <use style=\"fill:#ff2020;stroke:#ff2020;\" x=\"535.069214\" xlink:href=\"#C2_0_0a4cddfd3f\" y=\"327.901021\"/>\r\n    </g>\r\n    <g clip-path=\"url(#p8f19452f46)\">\r\n     <use style=\"fill:#0000aa;stroke:#0000aa;\" x=\"521.764659\" xlink:href=\"#C2_0_0a4cddfd3f\" y=\"372.776361\"/>\r\n    </g>\r\n    <g clip-path=\"url(#p8f19452f46)\">\r\n     <use style=\"fill:#ff2020;stroke:#ff2020;\" x=\"575.51843\" xlink:href=\"#C2_0_0a4cddfd3f\" y=\"331.878667\"/>\r\n    </g>\r\n    <g clip-path=\"url(#p8f19452f46)\">\r\n     <use style=\"fill:#ff2020;stroke:#ff2020;\" x=\"506.082719\" xlink:href=\"#C2_0_0a4cddfd3f\" y=\"323.949212\"/>\r\n    </g>\r\n    <g clip-path=\"url(#p8f19452f46)\">\r\n     <use style=\"fill:#ff2020;stroke:#ff2020;\" x=\"542.620515\" xlink:href=\"#C2_0_0a4cddfd3f\" y=\"346.716332\"/>\r\n    </g>\r\n    <g clip-path=\"url(#p8f19452f46)\">\r\n     <use style=\"fill:#0000aa;stroke:#0000aa;\" x=\"496.565705\" xlink:href=\"#C2_0_0a4cddfd3f\" y=\"372.100495\"/>\r\n    </g>\r\n    <g clip-path=\"url(#p8f19452f46)\">\r\n     <use style=\"fill:#ff2020;stroke:#ff2020;\" x=\"562.598986\" xlink:href=\"#C2_0_0a4cddfd3f\" y=\"322.428572\"/>\r\n    </g>\r\n    <g clip-path=\"url(#p8f19452f46)\">\r\n     <use style=\"fill:#0000aa;stroke:#0000aa;\" x=\"593.591986\" xlink:href=\"#C2_0_0a4cddfd3f\" y=\"370.841075\"/>\r\n    </g>\r\n    <g clip-path=\"url(#p8f19452f46)\">\r\n     <use style=\"fill:#0000aa;stroke:#0000aa;\" x=\"495.009124\" xlink:href=\"#C2_0_0a4cddfd3f\" y=\"380.062811\"/>\r\n    </g>\r\n    <g clip-path=\"url(#p8f19452f46)\">\r\n     <use style=\"fill:#ff2020;stroke:#ff2020;\" x=\"560.051177\" xlink:href=\"#C2_0_0a4cddfd3f\" y=\"333.851943\"/>\r\n    </g>\r\n    <g clip-path=\"url(#p8f19452f46)\">\r\n     <use style=\"fill:#ff2020;stroke:#ff2020;\" x=\"572.233998\" xlink:href=\"#C2_0_0a4cddfd3f\" y=\"341.57866\"/>\r\n    </g>\r\n    <g clip-path=\"url(#p8f19452f46)\">\r\n     <use style=\"fill:#ff2020;stroke:#ff2020;\" x=\"504.899901\" xlink:href=\"#C2_0_0a4cddfd3f\" y=\"326.392776\"/>\r\n    </g>\r\n    <g clip-path=\"url(#p8f19452f46)\">\r\n     <use style=\"fill:#0000aa;stroke:#0000aa;\" x=\"540.251211\" xlink:href=\"#C2_0_0a4cddfd3f\" y=\"404.570536\"/>\r\n    </g>\r\n    <g clip-path=\"url(#p8f19452f46)\">\r\n     <use style=\"fill:#0000aa;stroke:#0000aa;\" x=\"548.953458\" xlink:href=\"#C2_0_0a4cddfd3f\" y=\"387.24245\"/>\r\n    </g>\r\n    <g clip-path=\"url(#p8f19452f46)\">\r\n     <use style=\"fill:#0000aa;stroke:#0000aa;\" x=\"579.855188\" xlink:href=\"#C2_0_0a4cddfd3f\" y=\"408.062174\"/>\r\n    </g>\r\n    <g clip-path=\"url(#p8f19452f46)\">\r\n     <use style=\"fill:#ff2020;stroke:#ff2020;\" x=\"534.733316\" xlink:href=\"#C2_0_0a4cddfd3f\" y=\"330.398745\"/>\r\n    </g>\r\n    <g clip-path=\"url(#p8f19452f46)\">\r\n     <use style=\"fill:#ff2020;stroke:#ff2020;\" x=\"518.528133\" xlink:href=\"#C2_0_0a4cddfd3f\" y=\"333.790678\"/>\r\n    </g>\r\n    <g clip-path=\"url(#p8f19452f46)\">\r\n     <use style=\"fill:#0000aa;stroke:#0000aa;\" x=\"511.717537\" xlink:href=\"#C2_0_0a4cddfd3f\" y=\"360.502373\"/>\r\n    </g>\r\n    <g clip-path=\"url(#p8f19452f46)\">\r\n     <use style=\"fill:#ff2020;stroke:#ff2020;\" x=\"509.932173\" xlink:href=\"#C2_0_0a4cddfd3f\" y=\"328.052068\"/>\r\n    </g>\r\n    <g clip-path=\"url(#p8f19452f46)\">\r\n     <use style=\"fill:#0000aa;stroke:#0000aa;\" x=\"531.615073\" xlink:href=\"#C2_0_0a4cddfd3f\" y=\"424.37\"/>\r\n    </g>\r\n    <g clip-path=\"url(#p8f19452f46)\">\r\n     <use style=\"fill:#ff2020;stroke:#ff2020;\" x=\"561.989854\" xlink:href=\"#C2_0_0a4cddfd3f\" y=\"336.646892\"/>\r\n    </g>\r\n    <g clip-path=\"url(#p8f19452f46)\">\r\n     <use style=\"fill:#ff2020;stroke:#ff2020;\" x=\"461.288146\" xlink:href=\"#C2_0_0a4cddfd3f\" y=\"340.925095\"/>\r\n    </g>\r\n    <g clip-path=\"url(#p8f19452f46)\">\r\n     <use style=\"fill:#ff2020;stroke:#ff2020;\" x=\"489.369226\" xlink:href=\"#C2_0_0a4cddfd3f\" y=\"321.889874\"/>\r\n    </g>\r\n    <g clip-path=\"url(#p8f19452f46)\">\r\n     <use style=\"fill:#ff2020;stroke:#ff2020;\" x=\"556.022572\" xlink:href=\"#C2_0_0a4cddfd3f\" y=\"320.343203\"/>\r\n    </g>\r\n    <g clip-path=\"url(#p8f19452f46)\">\r\n     <use style=\"fill:#0000aa;stroke:#0000aa;\" x=\"581.575167\" xlink:href=\"#C2_0_0a4cddfd3f\" y=\"404.003594\"/>\r\n    </g>\r\n   </g>\r\n   <g id=\"matplotlib.axis_5\">\r\n    <g id=\"xtick_12\">\r\n     <g id=\"line2d_29\">\r\n      <g>\r\n       <use style=\"stroke:#000000;stroke-width:0.8;\" x=\"443.895652\" xlink:href=\"#m027a3317cc\" y=\"358.361761\"/>\r\n      </g>\r\n     </g>\r\n     <g id=\"text_31\">\r\n      <!-- −2 -->\r\n      <g transform=\"translate(436.524558 372.960199)scale(0.1 -0.1)\">\r\n       <use xlink:href=\"#DejaVuSans-8722\"/>\r\n       <use x=\"83.789062\" xlink:href=\"#DejaVuSans-50\"/>\r\n      </g>\r\n     </g>\r\n    </g>\r\n    <g id=\"xtick_13\">\r\n     <g id=\"line2d_30\">\r\n      <g>\r\n       <use style=\"stroke:#000000;stroke-width:0.8;\" x=\"489.384783\" xlink:href=\"#m027a3317cc\" y=\"358.361761\"/>\r\n      </g>\r\n     </g>\r\n     <g id=\"text_32\">\r\n      <!-- −1 -->\r\n      <g transform=\"translate(482.013689 372.960199)scale(0.1 -0.1)\">\r\n       <use xlink:href=\"#DejaVuSans-8722\"/>\r\n       <use x=\"83.789062\" xlink:href=\"#DejaVuSans-49\"/>\r\n      </g>\r\n     </g>\r\n    </g>\r\n    <g id=\"xtick_14\">\r\n     <g id=\"line2d_31\">\r\n      <g>\r\n       <use style=\"stroke:#000000;stroke-width:0.8;\" x=\"534.873913\" xlink:href=\"#m027a3317cc\" y=\"358.361761\"/>\r\n      </g>\r\n     </g>\r\n     <g id=\"text_33\">\r\n      <!-- 0 -->\r\n      <g transform=\"translate(531.692663 372.960199)scale(0.1 -0.1)\">\r\n       <use xlink:href=\"#DejaVuSans-48\"/>\r\n      </g>\r\n     </g>\r\n    </g>\r\n    <g id=\"xtick_15\">\r\n     <g id=\"line2d_32\">\r\n      <g>\r\n       <use style=\"stroke:#000000;stroke-width:0.8;\" x=\"580.363043\" xlink:href=\"#m027a3317cc\" y=\"358.361761\"/>\r\n      </g>\r\n     </g>\r\n     <g id=\"text_34\">\r\n      <!-- 1 -->\r\n      <g transform=\"translate(577.181793 372.960199)scale(0.1 -0.1)\">\r\n       <use xlink:href=\"#DejaVuSans-49\"/>\r\n      </g>\r\n     </g>\r\n    </g>\r\n    <g id=\"xtick_16\">\r\n     <g id=\"line2d_33\">\r\n      <g>\r\n       <use style=\"stroke:#000000;stroke-width:0.8;\" x=\"625.852174\" xlink:href=\"#m027a3317cc\" y=\"358.361761\"/>\r\n      </g>\r\n     </g>\r\n     <g id=\"text_35\">\r\n      <!-- 2 -->\r\n      <g transform=\"translate(622.670924 372.960199)scale(0.1 -0.1)\">\r\n       <use xlink:href=\"#DejaVuSans-50\"/>\r\n      </g>\r\n     </g>\r\n    </g>\r\n   </g>\r\n   <g id=\"matplotlib.axis_6\">\r\n    <g id=\"ytick_18\">\r\n     <g id=\"line2d_34\">\r\n      <g>\r\n       <use style=\"stroke:#000000;stroke-width:0.8;\" x=\"534.873913\" xlink:href=\"#m3a93448a10\" y=\"457.198125\"/>\r\n      </g>\r\n     </g>\r\n     <g id=\"text_36\">\r\n      <!-- −2.0 -->\r\n      <g transform=\"translate(503.591101 460.997344)scale(0.1 -0.1)\">\r\n       <use xlink:href=\"#DejaVuSans-8722\"/>\r\n       <use x=\"83.789062\" xlink:href=\"#DejaVuSans-50\"/>\r\n       <use x=\"147.412109\" xlink:href=\"#DejaVuSans-46\"/>\r\n       <use x=\"179.199219\" xlink:href=\"#DejaVuSans-48\"/>\r\n      </g>\r\n     </g>\r\n    </g>\r\n    <g id=\"ytick_19\">\r\n     <g id=\"line2d_35\">\r\n      <g>\r\n       <use style=\"stroke:#000000;stroke-width:0.8;\" x=\"534.873913\" xlink:href=\"#m3a93448a10\" y=\"432.489034\"/>\r\n      </g>\r\n     </g>\r\n     <g id=\"text_37\">\r\n      <!-- −1.5 -->\r\n      <g transform=\"translate(503.591101 436.288253)scale(0.1 -0.1)\">\r\n       <use xlink:href=\"#DejaVuSans-8722\"/>\r\n       <use x=\"83.789062\" xlink:href=\"#DejaVuSans-49\"/>\r\n       <use x=\"147.412109\" xlink:href=\"#DejaVuSans-46\"/>\r\n       <use x=\"179.199219\" xlink:href=\"#DejaVuSans-53\"/>\r\n      </g>\r\n     </g>\r\n    </g>\r\n    <g id=\"ytick_20\">\r\n     <g id=\"line2d_36\">\r\n      <g>\r\n       <use style=\"stroke:#000000;stroke-width:0.8;\" x=\"534.873913\" xlink:href=\"#m3a93448a10\" y=\"407.779943\"/>\r\n      </g>\r\n     </g>\r\n     <g id=\"text_38\">\r\n      <!-- −1.0 -->\r\n      <g transform=\"translate(503.591101 411.579162)scale(0.1 -0.1)\">\r\n       <use xlink:href=\"#DejaVuSans-8722\"/>\r\n       <use x=\"83.789062\" xlink:href=\"#DejaVuSans-49\"/>\r\n       <use x=\"147.412109\" xlink:href=\"#DejaVuSans-46\"/>\r\n       <use x=\"179.199219\" xlink:href=\"#DejaVuSans-48\"/>\r\n      </g>\r\n     </g>\r\n    </g>\r\n    <g id=\"ytick_21\">\r\n     <g id=\"line2d_37\">\r\n      <g>\r\n       <use style=\"stroke:#000000;stroke-width:0.8;\" x=\"534.873913\" xlink:href=\"#m3a93448a10\" y=\"383.070852\"/>\r\n      </g>\r\n     </g>\r\n     <g id=\"text_39\">\r\n      <!-- −0.5 -->\r\n      <g transform=\"translate(503.591101 386.870071)scale(0.1 -0.1)\">\r\n       <use xlink:href=\"#DejaVuSans-8722\"/>\r\n       <use x=\"83.789062\" xlink:href=\"#DejaVuSans-48\"/>\r\n       <use x=\"147.412109\" xlink:href=\"#DejaVuSans-46\"/>\r\n       <use x=\"179.199219\" xlink:href=\"#DejaVuSans-53\"/>\r\n      </g>\r\n     </g>\r\n    </g>\r\n    <g id=\"ytick_22\">\r\n     <g id=\"line2d_38\">\r\n      <g>\r\n       <use style=\"stroke:#000000;stroke-width:0.8;\" x=\"534.873913\" xlink:href=\"#m3a93448a10\" y=\"358.361761\"/>\r\n      </g>\r\n     </g>\r\n     <g id=\"text_40\">\r\n      <!-- 0.0 -->\r\n      <g transform=\"translate(511.970788 362.16098)scale(0.1 -0.1)\">\r\n       <use xlink:href=\"#DejaVuSans-48\"/>\r\n       <use x=\"63.623047\" xlink:href=\"#DejaVuSans-46\"/>\r\n       <use x=\"95.410156\" xlink:href=\"#DejaVuSans-48\"/>\r\n      </g>\r\n     </g>\r\n    </g>\r\n    <g id=\"ytick_23\">\r\n     <g id=\"line2d_39\">\r\n      <g>\r\n       <use style=\"stroke:#000000;stroke-width:0.8;\" x=\"534.873913\" xlink:href=\"#m3a93448a10\" y=\"333.65267\"/>\r\n      </g>\r\n     </g>\r\n     <g id=\"text_41\">\r\n      <!-- 0.5 -->\r\n      <g transform=\"translate(511.970788 337.451889)scale(0.1 -0.1)\">\r\n       <use xlink:href=\"#DejaVuSans-48\"/>\r\n       <use x=\"63.623047\" xlink:href=\"#DejaVuSans-46\"/>\r\n       <use x=\"95.410156\" xlink:href=\"#DejaVuSans-53\"/>\r\n      </g>\r\n     </g>\r\n    </g>\r\n    <g id=\"ytick_24\">\r\n     <g id=\"line2d_40\">\r\n      <g>\r\n       <use style=\"stroke:#000000;stroke-width:0.8;\" x=\"534.873913\" xlink:href=\"#m3a93448a10\" y=\"308.94358\"/>\r\n      </g>\r\n     </g>\r\n     <g id=\"text_42\">\r\n      <!-- 1.0 -->\r\n      <g transform=\"translate(511.970788 312.742798)scale(0.1 -0.1)\">\r\n       <use xlink:href=\"#DejaVuSans-49\"/>\r\n       <use x=\"63.623047\" xlink:href=\"#DejaVuSans-46\"/>\r\n       <use x=\"95.410156\" xlink:href=\"#DejaVuSans-48\"/>\r\n      </g>\r\n     </g>\r\n    </g>\r\n    <g id=\"ytick_25\">\r\n     <g id=\"line2d_41\">\r\n      <g>\r\n       <use style=\"stroke:#000000;stroke-width:0.8;\" x=\"534.873913\" xlink:href=\"#m3a93448a10\" y=\"284.234489\"/>\r\n      </g>\r\n     </g>\r\n     <g id=\"text_43\">\r\n      <!-- 1.5 -->\r\n      <g transform=\"translate(511.970788 288.033707)scale(0.1 -0.1)\">\r\n       <use xlink:href=\"#DejaVuSans-49\"/>\r\n       <use x=\"63.623047\" xlink:href=\"#DejaVuSans-46\"/>\r\n       <use x=\"95.410156\" xlink:href=\"#DejaVuSans-53\"/>\r\n      </g>\r\n     </g>\r\n    </g>\r\n    <g id=\"ytick_26\">\r\n     <g id=\"line2d_42\">\r\n      <g>\r\n       <use style=\"stroke:#000000;stroke-width:0.8;\" x=\"534.873913\" xlink:href=\"#m3a93448a10\" y=\"259.525398\"/>\r\n      </g>\r\n     </g>\r\n     <g id=\"text_44\">\r\n      <!-- 2.0 -->\r\n      <g transform=\"translate(511.970788 263.324616)scale(0.1 -0.1)\">\r\n       <use xlink:href=\"#DejaVuSans-50\"/>\r\n       <use x=\"63.623047\" xlink:href=\"#DejaVuSans-46\"/>\r\n       <use x=\"95.410156\" xlink:href=\"#DejaVuSans-48\"/>\r\n      </g>\r\n     </g>\r\n    </g>\r\n   </g>\r\n   <g id=\"patch_13\">\r\n    <path d=\"M 534.873913 457.198125 \r\nL 534.873913 259.525398 \r\n\" style=\"fill:none;stroke:#000000;stroke-linecap:square;stroke-linejoin:miter;stroke-width:0.8;\"/>\r\n   </g>\r\n   <g id=\"patch_14\">\r\n    <path d=\"M 625.852174 457.198125 \r\nL 625.852174 259.525398 \r\n\" style=\"fill:none;\"/>\r\n   </g>\r\n   <g id=\"patch_15\">\r\n    <path d=\"M 443.895652 358.361761 \r\nL 625.852174 358.361761 \r\n\" style=\"fill:none;stroke:#000000;stroke-linecap:square;stroke-linejoin:miter;stroke-width:0.8;\"/>\r\n   </g>\r\n   <g id=\"patch_16\">\r\n    <path d=\"M 443.895652 259.525398 \r\nL 625.852174 259.525398 \r\n\" style=\"fill:none;\"/>\r\n   </g>\r\n   <g id=\"text_45\">\r\n    <!-- RobustScaler -->\r\n    <defs>\r\n     <path d=\"M 44.390625 34.1875 \r\nQ 47.5625 33.109375 50.5625 29.59375 \r\nQ 53.5625 26.078125 56.59375 19.921875 \r\nL 66.609375 0 \r\nL 56 0 \r\nL 46.6875 18.703125 \r\nQ 43.0625 26.03125 39.671875 28.421875 \r\nQ 36.28125 30.8125 30.421875 30.8125 \r\nL 19.671875 30.8125 \r\nL 19.671875 0 \r\nL 9.8125 0 \r\nL 9.8125 72.90625 \r\nL 32.078125 72.90625 \r\nQ 44.578125 72.90625 50.734375 67.671875 \r\nQ 56.890625 62.453125 56.890625 51.90625 \r\nQ 56.890625 45.015625 53.6875 40.46875 \r\nQ 50.484375 35.9375 44.390625 34.1875 \r\nz\r\nM 19.671875 64.796875 \r\nL 19.671875 38.921875 \r\nL 32.078125 38.921875 \r\nQ 39.203125 38.921875 42.84375 42.21875 \r\nQ 46.484375 45.515625 46.484375 51.90625 \r\nQ 46.484375 58.296875 42.84375 61.546875 \r\nQ 39.203125 64.796875 32.078125 64.796875 \r\nz\r\n\" id=\"DejaVuSans-82\"/>\r\n     <path d=\"M 30.609375 48.390625 \r\nQ 23.390625 48.390625 19.1875 42.75 \r\nQ 14.984375 37.109375 14.984375 27.296875 \r\nQ 14.984375 17.484375 19.15625 11.84375 \r\nQ 23.34375 6.203125 30.609375 6.203125 \r\nQ 37.796875 6.203125 41.984375 11.859375 \r\nQ 46.1875 17.53125 46.1875 27.296875 \r\nQ 46.1875 37.015625 41.984375 42.703125 \r\nQ 37.796875 48.390625 30.609375 48.390625 \r\nz\r\nM 30.609375 56 \r\nQ 42.328125 56 49.015625 48.375 \r\nQ 55.71875 40.765625 55.71875 27.296875 \r\nQ 55.71875 13.875 49.015625 6.21875 \r\nQ 42.328125 -1.421875 30.609375 -1.421875 \r\nQ 18.84375 -1.421875 12.171875 6.21875 \r\nQ 5.515625 13.875 5.515625 27.296875 \r\nQ 5.515625 40.765625 12.171875 48.375 \r\nQ 18.84375 56 30.609375 56 \r\nz\r\n\" id=\"DejaVuSans-111\"/>\r\n     <path d=\"M 48.6875 27.296875 \r\nQ 48.6875 37.203125 44.609375 42.84375 \r\nQ 40.53125 48.484375 33.40625 48.484375 \r\nQ 26.265625 48.484375 22.1875 42.84375 \r\nQ 18.109375 37.203125 18.109375 27.296875 \r\nQ 18.109375 17.390625 22.1875 11.75 \r\nQ 26.265625 6.109375 33.40625 6.109375 \r\nQ 40.53125 6.109375 44.609375 11.75 \r\nQ 48.6875 17.390625 48.6875 27.296875 \r\nz\r\nM 18.109375 46.390625 \r\nQ 20.953125 51.265625 25.265625 53.625 \r\nQ 29.59375 56 35.59375 56 \r\nQ 45.5625 56 51.78125 48.09375 \r\nQ 58.015625 40.1875 58.015625 27.296875 \r\nQ 58.015625 14.40625 51.78125 6.484375 \r\nQ 45.5625 -1.421875 35.59375 -1.421875 \r\nQ 29.59375 -1.421875 25.265625 0.953125 \r\nQ 20.953125 3.328125 18.109375 8.203125 \r\nL 18.109375 0 \r\nL 9.078125 0 \r\nL 9.078125 75.984375 \r\nL 18.109375 75.984375 \r\nz\r\n\" id=\"DejaVuSans-98\"/>\r\n     <path d=\"M 8.5 21.578125 \r\nL 8.5 54.6875 \r\nL 17.484375 54.6875 \r\nL 17.484375 21.921875 \r\nQ 17.484375 14.15625 20.5 10.265625 \r\nQ 23.53125 6.390625 29.59375 6.390625 \r\nQ 36.859375 6.390625 41.078125 11.03125 \r\nQ 45.3125 15.671875 45.3125 23.6875 \r\nL 45.3125 54.6875 \r\nL 54.296875 54.6875 \r\nL 54.296875 0 \r\nL 45.3125 0 \r\nL 45.3125 8.40625 \r\nQ 42.046875 3.421875 37.71875 1 \r\nQ 33.40625 -1.421875 27.6875 -1.421875 \r\nQ 18.265625 -1.421875 13.375 4.4375 \r\nQ 8.5 10.296875 8.5 21.578125 \r\nz\r\nM 31.109375 56 \r\nz\r\n\" id=\"DejaVuSans-117\"/>\r\n     <path d=\"M 44.28125 53.078125 \r\nL 44.28125 44.578125 \r\nQ 40.484375 46.53125 36.375 47.5 \r\nQ 32.28125 48.484375 27.875 48.484375 \r\nQ 21.1875 48.484375 17.84375 46.4375 \r\nQ 14.5 44.390625 14.5 40.28125 \r\nQ 14.5 37.15625 16.890625 35.375 \r\nQ 19.28125 33.59375 26.515625 31.984375 \r\nL 29.59375 31.296875 \r\nQ 39.15625 29.25 43.1875 25.515625 \r\nQ 47.21875 21.78125 47.21875 15.09375 \r\nQ 47.21875 7.46875 41.1875 3.015625 \r\nQ 35.15625 -1.421875 24.609375 -1.421875 \r\nQ 20.21875 -1.421875 15.453125 -0.5625 \r\nQ 10.6875 0.296875 5.421875 2 \r\nL 5.421875 11.28125 \r\nQ 10.40625 8.6875 15.234375 7.390625 \r\nQ 20.0625 6.109375 24.8125 6.109375 \r\nQ 31.15625 6.109375 34.5625 8.28125 \r\nQ 37.984375 10.453125 37.984375 14.40625 \r\nQ 37.984375 18.0625 35.515625 20.015625 \r\nQ 33.0625 21.96875 24.703125 23.78125 \r\nL 21.578125 24.515625 \r\nQ 13.234375 26.265625 9.515625 29.90625 \r\nQ 5.8125 33.546875 5.8125 39.890625 \r\nQ 5.8125 47.609375 11.28125 51.796875 \r\nQ 16.75 56 26.8125 56 \r\nQ 31.78125 56 36.171875 55.265625 \r\nQ 40.578125 54.546875 44.28125 53.078125 \r\nz\r\n\" id=\"DejaVuSans-115\"/>\r\n    </defs>\r\n    <g transform=\"translate(495.603913 253.525398)scale(0.12 -0.12)\">\r\n     <use xlink:href=\"#DejaVuSans-82\"/>\r\n     <use x=\"64.982422\" xlink:href=\"#DejaVuSans-111\"/>\r\n     <use x=\"126.164062\" xlink:href=\"#DejaVuSans-98\"/>\r\n     <use x=\"189.640625\" xlink:href=\"#DejaVuSans-117\"/>\r\n     <use x=\"253.019531\" xlink:href=\"#DejaVuSans-115\"/>\r\n     <use x=\"305.119141\" xlink:href=\"#DejaVuSans-116\"/>\r\n     <use x=\"344.328125\" xlink:href=\"#DejaVuSans-83\"/>\r\n     <use x=\"407.804688\" xlink:href=\"#DejaVuSans-99\"/>\r\n     <use x=\"462.785156\" xlink:href=\"#DejaVuSans-97\"/>\r\n     <use x=\"524.064453\" xlink:href=\"#DejaVuSans-108\"/>\r\n     <use x=\"551.847656\" xlink:href=\"#DejaVuSans-101\"/>\r\n     <use x=\"613.371094\" xlink:href=\"#DejaVuSans-114\"/>\r\n    </g>\r\n   </g>\r\n  </g>\r\n  <g id=\"axes_4\">\r\n   <g id=\"patch_17\">\r\n    <path d=\"M 662.243478 219.990852 \r\nL 844.2 219.990852 \r\nL 844.2 22.318125 \r\nL 662.243478 22.318125 \r\nz\r\n\" style=\"fill:#ffffff;\"/>\r\n   </g>\r\n   <g id=\"PathCollection_4\">\r\n    <defs>\r\n     <path d=\"M 0 3.872983 \r\nC 1.027127 3.872983 2.012324 3.464901 2.738613 2.738613 \r\nC 3.464901 2.012324 3.872983 1.027127 3.872983 0 \r\nC 3.872983 -1.027127 3.464901 -2.012324 2.738613 -2.738613 \r\nC 2.012324 -3.464901 1.027127 -3.872983 0 -3.872983 \r\nC -1.027127 -3.872983 -2.012324 -3.464901 -2.738613 -2.738613 \r\nC -3.464901 -2.012324 -3.872983 -1.027127 -3.872983 0 \r\nC -3.872983 1.027127 -3.464901 2.012324 -2.738613 2.738613 \r\nC -2.012324 3.464901 -1.027127 3.872983 0 3.872983 \r\nz\r\n\" id=\"C3_0_fbe66c69cd\"/>\r\n    </defs>\r\n    <g clip-path=\"url(#p94564a4f67)\">\r\n     <use style=\"fill:#0000aa;stroke:#0000aa;\" x=\"772.610698\" xlink:href=\"#C3_0_fbe66c69cd\" y=\"100.736964\"/>\r\n    </g>\r\n    <g clip-path=\"url(#p94564a4f67)\">\r\n     <use style=\"fill:#ff2020;stroke:#ff2020;\" x=\"770.221762\" xlink:href=\"#C3_0_fbe66c69cd\" y=\"94.523274\"/>\r\n    </g>\r\n    <g clip-path=\"url(#p94564a4f67)\">\r\n     <use style=\"fill:#0000aa;stroke:#0000aa;\" x=\"765.124996\" xlink:href=\"#C3_0_fbe66c69cd\" y=\"101.650467\"/>\r\n    </g>\r\n    <g clip-path=\"url(#p94564a4f67)\">\r\n     <use style=\"fill:#0000aa;stroke:#0000aa;\" x=\"770.535398\" xlink:href=\"#C3_0_fbe66c69cd\" y=\"116.210874\"/>\r\n    </g>\r\n    <g clip-path=\"url(#p94564a4f67)\">\r\n     <use style=\"fill:#0000aa;stroke:#0000aa;\" x=\"761.832042\" xlink:href=\"#C3_0_fbe66c69cd\" y=\"106.143257\"/>\r\n    </g>\r\n    <g clip-path=\"url(#p94564a4f67)\">\r\n     <use style=\"fill:#0000aa;stroke:#0000aa;\" x=\"763.739725\" xlink:href=\"#C3_0_fbe66c69cd\" y=\"102.824405\"/>\r\n    </g>\r\n    <g clip-path=\"url(#p94564a4f67)\">\r\n     <use style=\"fill:#0000aa;stroke:#0000aa;\" x=\"795.279632\" xlink:href=\"#C3_0_fbe66c69cd\" y=\"103.563392\"/>\r\n    </g>\r\n    <g clip-path=\"url(#p94564a4f67)\">\r\n     <use style=\"fill:#ff2020;stroke:#ff2020;\" x=\"776.144899\" xlink:href=\"#C3_0_fbe66c69cd\" y=\"89.34211\"/>\r\n    </g>\r\n    <g clip-path=\"url(#p94564a4f67)\">\r\n     <use style=\"fill:#ff2020;stroke:#ff2020;\" x=\"777.473527\" xlink:href=\"#C3_0_fbe66c69cd\" y=\"87.055191\"/>\r\n    </g>\r\n    <g clip-path=\"url(#p94564a4f67)\">\r\n     <use style=\"fill:#ff2020;stroke:#ff2020;\" x=\"786.417756\" xlink:href=\"#C3_0_fbe66c69cd\" y=\"83.111114\"/>\r\n    </g>\r\n    <g clip-path=\"url(#p94564a4f67)\">\r\n     <use style=\"fill:#0000aa;stroke:#0000aa;\" x=\"781.229078\" xlink:href=\"#C3_0_fbe66c69cd\" y=\"105.788569\"/>\r\n    </g>\r\n    <g clip-path=\"url(#p94564a4f67)\">\r\n     <use style=\"fill:#ff2020;stroke:#ff2020;\" x=\"776.997275\" xlink:href=\"#C3_0_fbe66c69cd\" y=\"71.942885\"/>\r\n    </g>\r\n    <g clip-path=\"url(#p94564a4f67)\">\r\n     <use style=\"fill:#ff2020;stroke:#ff2020;\" x=\"765.236251\" xlink:href=\"#C3_0_fbe66c69cd\" y=\"88.037855\"/>\r\n    </g>\r\n    <g clip-path=\"url(#p94564a4f67)\">\r\n     <use style=\"fill:#ff2020;stroke:#ff2020;\" x=\"765.440748\" xlink:href=\"#C3_0_fbe66c69cd\" y=\"71.736307\"/>\r\n    </g>\r\n    <g clip-path=\"url(#p94564a4f67)\">\r\n     <use style=\"fill:#0000aa;stroke:#0000aa;\" x=\"775.951299\" xlink:href=\"#C3_0_fbe66c69cd\" y=\"113.810132\"/>\r\n    </g>\r\n    <g clip-path=\"url(#p94564a4f67)\">\r\n     <use style=\"fill:#0000aa;stroke:#0000aa;\" x=\"778.435214\" xlink:href=\"#C3_0_fbe66c69cd\" y=\"103.959918\"/>\r\n    </g>\r\n    <g clip-path=\"url(#p94564a4f67)\">\r\n     <use style=\"fill:#0000aa;stroke:#0000aa;\" x=\"768.353615\" xlink:href=\"#C3_0_fbe66c69cd\" y=\"102.616488\"/>\r\n    </g>\r\n    <g clip-path=\"url(#p94564a4f67)\">\r\n     <use style=\"fill:#0000aa;stroke:#0000aa;\" x=\"765.245991\" xlink:href=\"#C3_0_fbe66c69cd\" y=\"105.73554\"/>\r\n    </g>\r\n    <g clip-path=\"url(#p94564a4f67)\">\r\n     <use style=\"fill:#0000aa;stroke:#0000aa;\" x=\"781.821636\" xlink:href=\"#C3_0_fbe66c69cd\" y=\"117.848945\"/>\r\n    </g>\r\n    <g clip-path=\"url(#p94564a4f67)\">\r\n     <use style=\"fill:#0000aa;stroke:#0000aa;\" x=\"771.615756\" xlink:href=\"#C3_0_fbe66c69cd\" y=\"98.401126\"/>\r\n    </g>\r\n    <g clip-path=\"url(#p94564a4f67)\">\r\n     <use style=\"fill:#0000aa;stroke:#0000aa;\" x=\"773.229295\" xlink:href=\"#C3_0_fbe66c69cd\" y=\"100.957092\"/>\r\n    </g>\r\n    <g clip-path=\"url(#p94564a4f67)\">\r\n     <use style=\"fill:#ff2020;stroke:#ff2020;\" x=\"782.961797\" xlink:href=\"#C3_0_fbe66c69cd\" y=\"84.540009\"/>\r\n    </g>\r\n    <g clip-path=\"url(#p94564a4f67)\">\r\n     <use style=\"fill:#0000aa;stroke:#0000aa;\" x=\"768.386577\" xlink:href=\"#C3_0_fbe66c69cd\" y=\"102.257786\"/>\r\n    </g>\r\n    <g clip-path=\"url(#p94564a4f67)\">\r\n     <use style=\"fill:#ff2020;stroke:#ff2020;\" x=\"780.287962\" xlink:href=\"#C3_0_fbe66c69cd\" y=\"82.741793\"/>\r\n    </g>\r\n    <g clip-path=\"url(#p94564a4f67)\">\r\n     <use style=\"fill:#ff2020;stroke:#ff2020;\" x=\"798.71087\" xlink:href=\"#C3_0_fbe66c69cd\" y=\"82.4101\"/>\r\n    </g>\r\n    <g clip-path=\"url(#p94564a4f67)\">\r\n     <use style=\"fill:#ff2020;stroke:#ff2020;\" x=\"775.968164\" xlink:href=\"#C3_0_fbe66c69cd\" y=\"83.456331\"/>\r\n    </g>\r\n    <g clip-path=\"url(#p94564a4f67)\">\r\n     <use style=\"fill:#0000aa;stroke:#0000aa;\" x=\"771.86642\" xlink:href=\"#C3_0_fbe66c69cd\" y=\"100.992721\"/>\r\n    </g>\r\n    <g clip-path=\"url(#p94564a4f67)\">\r\n     <use style=\"fill:#ff2020;stroke:#ff2020;\" x=\"788.438505\" xlink:href=\"#C3_0_fbe66c69cd\" y=\"85.010716\"/>\r\n    </g>\r\n    <g clip-path=\"url(#p94564a4f67)\">\r\n     <use style=\"fill:#ff2020;stroke:#ff2020;\" x=\"767.031737\" xlink:href=\"#C3_0_fbe66c69cd\" y=\"81.912043\"/>\r\n    </g>\r\n    <g clip-path=\"url(#p94564a4f67)\">\r\n     <use style=\"fill:#ff2020;stroke:#ff2020;\" x=\"778.296202\" xlink:href=\"#C3_0_fbe66c69cd\" y=\"90.80898\"/>\r\n    </g>\r\n    <g clip-path=\"url(#p94564a4f67)\">\r\n     <use style=\"fill:#0000aa;stroke:#0000aa;\" x=\"764.097678\" xlink:href=\"#C3_0_fbe66c69cd\" y=\"100.728606\"/>\r\n    </g>\r\n    <g clip-path=\"url(#p94564a4f67)\">\r\n     <use style=\"fill:#ff2020;stroke:#ff2020;\" x=\"784.455489\" xlink:href=\"#C3_0_fbe66c69cd\" y=\"81.317807\"/>\r\n    </g>\r\n    <g clip-path=\"url(#p94564a4f67)\">\r\n     <use style=\"fill:#0000aa;stroke:#0000aa;\" x=\"794.010514\" xlink:href=\"#C3_0_fbe66c69cd\" y=\"100.23645\"/>\r\n    </g>\r\n    <g clip-path=\"url(#p94564a4f67)\">\r\n     <use style=\"fill:#0000aa;stroke:#0000aa;\" x=\"763.617789\" xlink:href=\"#C3_0_fbe66c69cd\" y=\"103.840121\"/>\r\n    </g>\r\n    <g clip-path=\"url(#p94564a4f67)\">\r\n     <use style=\"fill:#ff2020;stroke:#ff2020;\" x=\"783.670009\" xlink:href=\"#C3_0_fbe66c69cd\" y=\"85.781833\"/>\r\n    </g>\r\n    <g clip-path=\"url(#p94564a4f67)\">\r\n     <use style=\"fill:#ff2020;stroke:#ff2020;\" x=\"787.425927\" xlink:href=\"#C3_0_fbe66c69cd\" y=\"88.80128\"/>\r\n    </g>\r\n    <g clip-path=\"url(#p94564a4f67)\">\r\n     <use style=\"fill:#ff2020;stroke:#ff2020;\" x=\"766.667079\" xlink:href=\"#C3_0_fbe66c69cd\" y=\"82.866939\"/>\r\n    </g>\r\n    <g clip-path=\"url(#p94564a4f67)\">\r\n     <use style=\"fill:#0000aa;stroke:#0000aa;\" x=\"777.565754\" xlink:href=\"#C3_0_fbe66c69cd\" y=\"113.417252\"/>\r\n    </g>\r\n    <g clip-path=\"url(#p94564a4f67)\">\r\n     <use style=\"fill:#0000aa;stroke:#0000aa;\" x=\"780.248624\" xlink:href=\"#C3_0_fbe66c69cd\" y=\"106.645781\"/>\r\n    </g>\r\n    <g clip-path=\"url(#p94564a4f67)\">\r\n     <use style=\"fill:#0000aa;stroke:#0000aa;\" x=\"789.775511\" xlink:href=\"#C3_0_fbe66c69cd\" y=\"114.781715\"/>\r\n    </g>\r\n    <g clip-path=\"url(#p94564a4f67)\">\r\n     <use style=\"fill:#ff2020;stroke:#ff2020;\" x=\"775.864608\" xlink:href=\"#C3_0_fbe66c69cd\" y=\"84.432392\"/>\r\n    </g>\r\n    <g clip-path=\"url(#p94564a4f67)\">\r\n     <use style=\"fill:#ff2020;stroke:#ff2020;\" x=\"770.868611\" xlink:href=\"#C3_0_fbe66c69cd\" y=\"85.757892\"/>\r\n    </g>\r\n    <g clip-path=\"url(#p94564a4f67)\">\r\n     <use style=\"fill:#0000aa;stroke:#0000aa;\" x=\"768.76893\" xlink:href=\"#C3_0_fbe66c69cd\" y=\"96.196291\"/>\r\n    </g>\r\n    <g clip-path=\"url(#p94564a4f67)\">\r\n     <use style=\"fill:#ff2020;stroke:#ff2020;\" x=\"768.218509\" xlink:href=\"#C3_0_fbe66c69cd\" y=\"83.515358\"/>\r\n    </g>\r\n    <g clip-path=\"url(#p94564a4f67)\">\r\n     <use style=\"fill:#0000aa;stroke:#0000aa;\" x=\"774.903266\" xlink:href=\"#C3_0_fbe66c69cd\" y=\"121.154489\"/>\r\n    </g>\r\n    <g clip-path=\"url(#p94564a4f67)\">\r\n     <use style=\"fill:#ff2020;stroke:#ff2020;\" x=\"784.267696\" xlink:href=\"#C3_0_fbe66c69cd\" y=\"86.874044\"/>\r\n    </g>\r\n    <g clip-path=\"url(#p94564a4f67)\">\r\n     <use style=\"fill:#ff2020;stroke:#ff2020;\" x=\"753.221739\" xlink:href=\"#C3_0_fbe66c69cd\" y=\"88.54588\"/>\r\n    </g>\r\n    <g clip-path=\"url(#p94564a4f67)\">\r\n     <use style=\"fill:#ff2020;stroke:#ff2020;\" x=\"761.87903\" xlink:href=\"#C3_0_fbe66c69cd\" y=\"81.107295\"/>\r\n    </g>\r\n    <g clip-path=\"url(#p94564a4f67)\">\r\n     <use style=\"fill:#ff2020;stroke:#ff2020;\" x=\"782.428005\" xlink:href=\"#C3_0_fbe66c69cd\" y=\"80.502886\"/>\r\n    </g>\r\n    <g clip-path=\"url(#p94564a4f67)\">\r\n     <use style=\"fill:#0000aa;stroke:#0000aa;\" x=\"790.305774\" xlink:href=\"#C3_0_fbe66c69cd\" y=\"113.195702\"/>\r\n    </g>\r\n   </g>\r\n   <g id=\"matplotlib.axis_7\">\r\n    <g id=\"xtick_17\">\r\n     <g id=\"line2d_43\">\r\n      <g>\r\n       <use style=\"stroke:#000000;stroke-width:0.8;\" x=\"662.243478\" xlink:href=\"#m027a3317cc\" y=\"121.154489\"/>\r\n      </g>\r\n     </g>\r\n     <g id=\"text_46\">\r\n      <!-- −2 -->\r\n      <g transform=\"translate(654.872385 135.752926)scale(0.1 -0.1)\">\r\n       <use xlink:href=\"#DejaVuSans-8722\"/>\r\n       <use x=\"83.789062\" xlink:href=\"#DejaVuSans-50\"/>\r\n      </g>\r\n     </g>\r\n    </g>\r\n    <g id=\"xtick_18\">\r\n     <g id=\"line2d_44\">\r\n      <g>\r\n       <use style=\"stroke:#000000;stroke-width:0.8;\" x=\"707.732609\" xlink:href=\"#m027a3317cc\" y=\"121.154489\"/>\r\n      </g>\r\n     </g>\r\n     <g id=\"text_47\">\r\n      <!-- −1 -->\r\n      <g transform=\"translate(700.361515 135.752926)scale(0.1 -0.1)\">\r\n       <use xlink:href=\"#DejaVuSans-8722\"/>\r\n       <use x=\"83.789062\" xlink:href=\"#DejaVuSans-49\"/>\r\n      </g>\r\n     </g>\r\n    </g>\r\n    <g id=\"xtick_19\">\r\n     <g id=\"line2d_45\">\r\n      <g>\r\n       <use style=\"stroke:#000000;stroke-width:0.8;\" x=\"753.221739\" xlink:href=\"#m027a3317cc\" y=\"121.154489\"/>\r\n      </g>\r\n     </g>\r\n     <g id=\"text_48\">\r\n      <!-- 0 -->\r\n      <g transform=\"translate(750.040489 135.752926)scale(0.1 -0.1)\">\r\n       <use xlink:href=\"#DejaVuSans-48\"/>\r\n      </g>\r\n     </g>\r\n    </g>\r\n    <g id=\"xtick_20\">\r\n     <g id=\"line2d_46\">\r\n      <g>\r\n       <use style=\"stroke:#000000;stroke-width:0.8;\" x=\"798.71087\" xlink:href=\"#m027a3317cc\" y=\"121.154489\"/>\r\n      </g>\r\n     </g>\r\n     <g id=\"text_49\">\r\n      <!-- 1 -->\r\n      <g transform=\"translate(795.52962 135.752926)scale(0.1 -0.1)\">\r\n       <use xlink:href=\"#DejaVuSans-49\"/>\r\n      </g>\r\n     </g>\r\n    </g>\r\n    <g id=\"xtick_21\">\r\n     <g id=\"line2d_47\">\r\n      <g>\r\n       <use style=\"stroke:#000000;stroke-width:0.8;\" x=\"844.2\" xlink:href=\"#m027a3317cc\" y=\"121.154489\"/>\r\n      </g>\r\n     </g>\r\n     <g id=\"text_50\">\r\n      <!-- 2 -->\r\n      <g transform=\"translate(841.01875 135.752926)scale(0.1 -0.1)\">\r\n       <use xlink:href=\"#DejaVuSans-50\"/>\r\n      </g>\r\n     </g>\r\n    </g>\r\n   </g>\r\n   <g id=\"matplotlib.axis_8\">\r\n    <g id=\"ytick_27\">\r\n     <g id=\"line2d_48\">\r\n      <g>\r\n       <use style=\"stroke:#000000;stroke-width:0.8;\" x=\"753.221739\" xlink:href=\"#m3a93448a10\" y=\"219.990852\"/>\r\n      </g>\r\n     </g>\r\n     <g id=\"text_51\">\r\n      <!-- −2.0 -->\r\n      <g transform=\"translate(721.938927 223.790071)scale(0.1 -0.1)\">\r\n       <use xlink:href=\"#DejaVuSans-8722\"/>\r\n       <use x=\"83.789062\" xlink:href=\"#DejaVuSans-50\"/>\r\n       <use x=\"147.412109\" xlink:href=\"#DejaVuSans-46\"/>\r\n       <use x=\"179.199219\" xlink:href=\"#DejaVuSans-48\"/>\r\n      </g>\r\n     </g>\r\n    </g>\r\n    <g id=\"ytick_28\">\r\n     <g id=\"line2d_49\">\r\n      <g>\r\n       <use style=\"stroke:#000000;stroke-width:0.8;\" x=\"753.221739\" xlink:href=\"#m3a93448a10\" y=\"195.281761\"/>\r\n      </g>\r\n     </g>\r\n     <g id=\"text_52\">\r\n      <!-- −1.5 -->\r\n      <g transform=\"translate(721.938927 199.08098)scale(0.1 -0.1)\">\r\n       <use xlink:href=\"#DejaVuSans-8722\"/>\r\n       <use x=\"83.789062\" xlink:href=\"#DejaVuSans-49\"/>\r\n       <use x=\"147.412109\" xlink:href=\"#DejaVuSans-46\"/>\r\n       <use x=\"179.199219\" xlink:href=\"#DejaVuSans-53\"/>\r\n      </g>\r\n     </g>\r\n    </g>\r\n    <g id=\"ytick_29\">\r\n     <g id=\"line2d_50\">\r\n      <g>\r\n       <use style=\"stroke:#000000;stroke-width:0.8;\" x=\"753.221739\" xlink:href=\"#m3a93448a10\" y=\"170.57267\"/>\r\n      </g>\r\n     </g>\r\n     <g id=\"text_53\">\r\n      <!-- −1.0 -->\r\n      <g transform=\"translate(721.938927 174.371889)scale(0.1 -0.1)\">\r\n       <use xlink:href=\"#DejaVuSans-8722\"/>\r\n       <use x=\"83.789062\" xlink:href=\"#DejaVuSans-49\"/>\r\n       <use x=\"147.412109\" xlink:href=\"#DejaVuSans-46\"/>\r\n       <use x=\"179.199219\" xlink:href=\"#DejaVuSans-48\"/>\r\n      </g>\r\n     </g>\r\n    </g>\r\n    <g id=\"ytick_30\">\r\n     <g id=\"line2d_51\">\r\n      <g>\r\n       <use style=\"stroke:#000000;stroke-width:0.8;\" x=\"753.221739\" xlink:href=\"#m3a93448a10\" y=\"145.86358\"/>\r\n      </g>\r\n     </g>\r\n     <g id=\"text_54\">\r\n      <!-- −0.5 -->\r\n      <g transform=\"translate(721.938927 149.662798)scale(0.1 -0.1)\">\r\n       <use xlink:href=\"#DejaVuSans-8722\"/>\r\n       <use x=\"83.789062\" xlink:href=\"#DejaVuSans-48\"/>\r\n       <use x=\"147.412109\" xlink:href=\"#DejaVuSans-46\"/>\r\n       <use x=\"179.199219\" xlink:href=\"#DejaVuSans-53\"/>\r\n      </g>\r\n     </g>\r\n    </g>\r\n    <g id=\"ytick_31\">\r\n     <g id=\"line2d_52\">\r\n      <g>\r\n       <use style=\"stroke:#000000;stroke-width:0.8;\" x=\"753.221739\" xlink:href=\"#m3a93448a10\" y=\"121.154489\"/>\r\n      </g>\r\n     </g>\r\n     <g id=\"text_55\">\r\n      <!-- 0.0 -->\r\n      <g transform=\"translate(730.318614 124.953707)scale(0.1 -0.1)\">\r\n       <use xlink:href=\"#DejaVuSans-48\"/>\r\n       <use x=\"63.623047\" xlink:href=\"#DejaVuSans-46\"/>\r\n       <use x=\"95.410156\" xlink:href=\"#DejaVuSans-48\"/>\r\n      </g>\r\n     </g>\r\n    </g>\r\n    <g id=\"ytick_32\">\r\n     <g id=\"line2d_53\">\r\n      <g>\r\n       <use style=\"stroke:#000000;stroke-width:0.8;\" x=\"753.221739\" xlink:href=\"#m3a93448a10\" y=\"96.445398\"/>\r\n      </g>\r\n     </g>\r\n     <g id=\"text_56\">\r\n      <!-- 0.5 -->\r\n      <g transform=\"translate(730.318614 100.244616)scale(0.1 -0.1)\">\r\n       <use xlink:href=\"#DejaVuSans-48\"/>\r\n       <use x=\"63.623047\" xlink:href=\"#DejaVuSans-46\"/>\r\n       <use x=\"95.410156\" xlink:href=\"#DejaVuSans-53\"/>\r\n      </g>\r\n     </g>\r\n    </g>\r\n    <g id=\"ytick_33\">\r\n     <g id=\"line2d_54\">\r\n      <g>\r\n       <use style=\"stroke:#000000;stroke-width:0.8;\" x=\"753.221739\" xlink:href=\"#m3a93448a10\" y=\"71.736307\"/>\r\n      </g>\r\n     </g>\r\n     <g id=\"text_57\">\r\n      <!-- 1.0 -->\r\n      <g transform=\"translate(730.318614 75.535526)scale(0.1 -0.1)\">\r\n       <use xlink:href=\"#DejaVuSans-49\"/>\r\n       <use x=\"63.623047\" xlink:href=\"#DejaVuSans-46\"/>\r\n       <use x=\"95.410156\" xlink:href=\"#DejaVuSans-48\"/>\r\n      </g>\r\n     </g>\r\n    </g>\r\n    <g id=\"ytick_34\">\r\n     <g id=\"line2d_55\">\r\n      <g>\r\n       <use style=\"stroke:#000000;stroke-width:0.8;\" x=\"753.221739\" xlink:href=\"#m3a93448a10\" y=\"47.027216\"/>\r\n      </g>\r\n     </g>\r\n     <g id=\"text_58\">\r\n      <!-- 1.5 -->\r\n      <g transform=\"translate(730.318614 50.826435)scale(0.1 -0.1)\">\r\n       <use xlink:href=\"#DejaVuSans-49\"/>\r\n       <use x=\"63.623047\" xlink:href=\"#DejaVuSans-46\"/>\r\n       <use x=\"95.410156\" xlink:href=\"#DejaVuSans-53\"/>\r\n      </g>\r\n     </g>\r\n    </g>\r\n    <g id=\"ytick_35\">\r\n     <g id=\"line2d_56\">\r\n      <g>\r\n       <use style=\"stroke:#000000;stroke-width:0.8;\" x=\"753.221739\" xlink:href=\"#m3a93448a10\" y=\"22.318125\"/>\r\n      </g>\r\n     </g>\r\n     <g id=\"text_59\">\r\n      <!-- 2.0 -->\r\n      <g transform=\"translate(730.318614 26.117344)scale(0.1 -0.1)\">\r\n       <use xlink:href=\"#DejaVuSans-50\"/>\r\n       <use x=\"63.623047\" xlink:href=\"#DejaVuSans-46\"/>\r\n       <use x=\"95.410156\" xlink:href=\"#DejaVuSans-48\"/>\r\n      </g>\r\n     </g>\r\n    </g>\r\n   </g>\r\n   <g id=\"patch_18\">\r\n    <path d=\"M 753.221739 219.990852 \r\nL 753.221739 22.318125 \r\n\" style=\"fill:none;stroke:#000000;stroke-linecap:square;stroke-linejoin:miter;stroke-width:0.8;\"/>\r\n   </g>\r\n   <g id=\"patch_19\">\r\n    <path d=\"M 844.2 219.990852 \r\nL 844.2 22.318125 \r\n\" style=\"fill:none;\"/>\r\n   </g>\r\n   <g id=\"patch_20\">\r\n    <path d=\"M 662.243478 121.154489 \r\nL 844.2 121.154489 \r\n\" style=\"fill:none;stroke:#000000;stroke-linecap:square;stroke-linejoin:miter;stroke-width:0.8;\"/>\r\n   </g>\r\n   <g id=\"patch_21\">\r\n    <path d=\"M 662.243478 22.318125 \r\nL 844.2 22.318125 \r\n\" style=\"fill:none;\"/>\r\n   </g>\r\n   <g id=\"text_60\">\r\n    <!-- MinMaxScaler -->\r\n    <defs>\r\n     <path d=\"M 9.8125 72.90625 \r\nL 24.515625 72.90625 \r\nL 43.109375 23.296875 \r\nL 61.8125 72.90625 \r\nL 76.515625 72.90625 \r\nL 76.515625 0 \r\nL 66.890625 0 \r\nL 66.890625 64.015625 \r\nL 48.09375 14.015625 \r\nL 38.1875 14.015625 \r\nL 19.390625 64.015625 \r\nL 19.390625 0 \r\nL 9.8125 0 \r\nz\r\n\" id=\"DejaVuSans-77\"/>\r\n     <path d=\"M 54.890625 54.6875 \r\nL 35.109375 28.078125 \r\nL 55.90625 0 \r\nL 45.3125 0 \r\nL 29.390625 21.484375 \r\nL 13.484375 0 \r\nL 2.875 0 \r\nL 24.125 28.609375 \r\nL 4.6875 54.6875 \r\nL 15.28125 54.6875 \r\nL 29.78125 35.203125 \r\nL 44.28125 54.6875 \r\nz\r\n\" id=\"DejaVuSans-120\"/>\r\n    </defs>\r\n    <g transform=\"translate(711.560177 16.318125)scale(0.12 -0.12)\">\r\n     <use xlink:href=\"#DejaVuSans-77\"/>\r\n     <use x=\"86.279297\" xlink:href=\"#DejaVuSans-105\"/>\r\n     <use x=\"114.0625\" xlink:href=\"#DejaVuSans-110\"/>\r\n     <use x=\"177.441406\" xlink:href=\"#DejaVuSans-77\"/>\r\n     <use x=\"263.720703\" xlink:href=\"#DejaVuSans-97\"/>\r\n     <use x=\"325\" xlink:href=\"#DejaVuSans-120\"/>\r\n     <use x=\"384.179688\" xlink:href=\"#DejaVuSans-83\"/>\r\n     <use x=\"447.65625\" xlink:href=\"#DejaVuSans-99\"/>\r\n     <use x=\"502.636719\" xlink:href=\"#DejaVuSans-97\"/>\r\n     <use x=\"563.916016\" xlink:href=\"#DejaVuSans-108\"/>\r\n     <use x=\"591.699219\" xlink:href=\"#DejaVuSans-101\"/>\r\n     <use x=\"653.222656\" xlink:href=\"#DejaVuSans-114\"/>\r\n    </g>\r\n   </g>\r\n  </g>\r\n  <g id=\"axes_5\">\r\n   <g id=\"patch_22\">\r\n    <path d=\"M 662.243478 457.198125 \r\nL 844.2 457.198125 \r\nL 844.2 259.525398 \r\nL 662.243478 259.525398 \r\nz\r\n\" style=\"fill:#ffffff;\"/>\r\n   </g>\r\n   <g id=\"PathCollection_5\">\r\n    <defs>\r\n     <path d=\"M 0 3.872983 \r\nC 1.027127 3.872983 2.012324 3.464901 2.738613 2.738613 \r\nC 3.464901 2.012324 3.872983 1.027127 3.872983 0 \r\nC 3.872983 -1.027127 3.464901 -2.012324 2.738613 -2.738613 \r\nC 2.012324 -3.464901 1.027127 -3.872983 0 -3.872983 \r\nC -1.027127 -3.872983 -2.012324 -3.464901 -2.738613 -2.738613 \r\nC -3.464901 -2.012324 -3.872983 -1.027127 -3.872983 0 \r\nC -3.872983 1.027127 -3.464901 2.012324 -2.738613 2.738613 \r\nC -2.012324 3.464901 -1.027127 3.872983 0 3.872983 \r\nz\r\n\" id=\"C4_0_c0043742e5\"/>\r\n    </defs>\r\n    <g clip-path=\"url(#pd9c7a1662c)\">\r\n     <use style=\"fill:#0000aa;stroke:#0000aa;\" x=\"795.548497\" xlink:href=\"#C4_0_c0043742e5\" y=\"340.257859\"/>\r\n    </g>\r\n    <g clip-path=\"url(#pd9c7a1662c)\">\r\n     <use style=\"fill:#ff2020;stroke:#ff2020;\" x=\"794.168202\" xlink:href=\"#C4_0_c0043742e5\" y=\"336.834889\"/>\r\n    </g>\r\n    <g clip-path=\"url(#pd9c7a1662c)\">\r\n     <use style=\"fill:#0000aa;stroke:#0000aa;\" x=\"795.327661\" xlink:href=\"#C4_0_c0043742e5\" y=\"339.659966\"/>\r\n    </g>\r\n    <g clip-path=\"url(#pd9c7a1662c)\">\r\n     <use style=\"fill:#0000aa;stroke:#0000aa;\" x=\"797.844971\" xlink:href=\"#C4_0_c0043742e5\" y=\"348.765441\"/>\r\n    </g>\r\n    <g clip-path=\"url(#pd9c7a1662c)\">\r\n     <use style=\"fill:#0000aa;stroke:#0000aa;\" x=\"796.049439\" xlink:href=\"#C4_0_c0043742e5\" y=\"341.706232\"/>\r\n    </g>\r\n    <g clip-path=\"url(#pd9c7a1662c)\">\r\n     <use style=\"fill:#0000aa;stroke:#0000aa;\" x=\"795.488705\" xlink:href=\"#C4_0_c0043742e5\" y=\"340.093735\"/>\r\n    </g>\r\n    <g clip-path=\"url(#pd9c7a1662c)\">\r\n     <use style=\"fill:#0000aa;stroke:#0000aa;\" x=\"796.817264\" xlink:href=\"#C4_0_c0043742e5\" y=\"344.251816\"/>\r\n    </g>\r\n    <g clip-path=\"url(#pd9c7a1662c)\">\r\n     <use style=\"fill:#ff2020;stroke:#ff2020;\" x=\"793.510363\" xlink:href=\"#C4_0_c0043742e5\" y=\"335.416697\"/>\r\n    </g>\r\n    <g clip-path=\"url(#pd9c7a1662c)\">\r\n     <use style=\"fill:#ff2020;stroke:#ff2020;\" x=\"793.13684\" xlink:href=\"#C4_0_c0043742e5\" y=\"334.658753\"/>\r\n    </g>\r\n    <g clip-path=\"url(#pd9c7a1662c)\">\r\n     <use style=\"fill:#ff2020;stroke:#ff2020;\" x=\"793.019234\" xlink:href=\"#C4_0_c0043742e5\" y=\"334.426503\"/>\r\n    </g>\r\n    <g clip-path=\"url(#pd9c7a1662c)\">\r\n     <use style=\"fill:#0000aa;stroke:#0000aa;\" x=\"796.726251\" xlink:href=\"#C4_0_c0043742e5\" y=\"343.92409\"/>\r\n    </g>\r\n    <g clip-path=\"url(#pd9c7a1662c)\">\r\n     <use style=\"fill:#ff2020;stroke:#ff2020;\" x=\"789.85241\" xlink:href=\"#C4_0_c0043742e5\" y=\"329.06078\"/>\r\n    </g>\r\n    <g clip-path=\"url(#pd9c7a1662c)\">\r\n     <use style=\"fill:#ff2020;stroke:#ff2020;\" x=\"792.297723\" xlink:href=\"#C4_0_c0043742e5\" y=\"333.062355\"/>\r\n    </g>\r\n    <g clip-path=\"url(#pd9c7a1662c)\">\r\n     <use style=\"fill:#ff2020;stroke:#ff2020;\" x=\"788.414544\" xlink:href=\"#C4_0_c0043742e5\" y=\"327.049934\"/>\r\n    </g>\r\n    <g clip-path=\"url(#pd9c7a1662c)\">\r\n     <use style=\"fill:#0000aa;stroke:#0000aa;\" x=\"797.65917\" xlink:href=\"#C4_0_c0043742e5\" y=\"347.796773\"/>\r\n    </g>\r\n    <g clip-path=\"url(#pd9c7a1662c)\">\r\n     <use style=\"fill:#0000aa;stroke:#0000aa;\" x=\"796.354496\" xlink:href=\"#C4_0_c0043742e5\" y=\"342.662773\"/>\r\n    </g>\r\n    <g clip-path=\"url(#pd9c7a1662c)\">\r\n     <use style=\"fill:#0000aa;stroke:#0000aa;\" x=\"795.689541\" xlink:href=\"#C4_0_c0043742e5\" y=\"340.651982\"/>\r\n    </g>\r\n    <g clip-path=\"url(#pd9c7a1662c)\">\r\n     <use style=\"fill:#0000aa;stroke:#0000aa;\" x=\"796.128788\" xlink:href=\"#C4_0_c0043742e5\" y=\"341.94903\"/>\r\n    </g>\r\n    <g clip-path=\"url(#pd9c7a1662c)\">\r\n     <use style=\"fill:#0000aa;stroke:#0000aa;\" x=\"798.137729\" xlink:href=\"#C4_0_c0043742e5\" y=\"350.541773\"/>\r\n    </g>\r\n    <g clip-path=\"url(#pd9c7a1662c)\">\r\n     <use style=\"fill:#0000aa;stroke:#0000aa;\" x=\"795.048354\" xlink:href=\"#C4_0_c0043742e5\" y=\"338.934339\"/>\r\n    </g>\r\n    <g clip-path=\"url(#pd9c7a1662c)\">\r\n     <use style=\"fill:#0000aa;stroke:#0000aa;\" x=\"795.619651\" xlink:href=\"#C4_0_c0043742e5\" y=\"340.455437\"/>\r\n    </g>\r\n    <g clip-path=\"url(#pd9c7a1662c)\">\r\n     <use style=\"fill:#ff2020;stroke:#ff2020;\" x=\"793.043809\" xlink:href=\"#C4_0_c0043742e5\" y=\"334.474789\"/>\r\n    </g>\r\n    <g clip-path=\"url(#pd9c7a1662c)\">\r\n     <use style=\"fill:#0000aa;stroke:#0000aa;\" x=\"795.622737\" xlink:href=\"#C4_0_c0043742e5\" y=\"340.464065\"/>\r\n    </g>\r\n    <g clip-path=\"url(#pd9c7a1662c)\">\r\n     <use style=\"fill:#ff2020;stroke:#ff2020;\" x=\"792.468432\" xlink:href=\"#C4_0_c0043742e5\" y=\"333.376162\"/>\r\n    </g>\r\n    <g clip-path=\"url(#pd9c7a1662c)\">\r\n     <use style=\"fill:#ff2020;stroke:#ff2020;\" x=\"793.707441\" xlink:href=\"#C4_0_c0043742e5\" y=\"335.829818\"/>\r\n    </g>\r\n    <g clip-path=\"url(#pd9c7a1662c)\">\r\n     <use style=\"fill:#ff2020;stroke:#ff2020;\" x=\"792.250926\" xlink:href=\"#C4_0_c0043742e5\" y=\"332.977245\"/>\r\n    </g>\r\n    <g clip-path=\"url(#pd9c7a1662c)\">\r\n     <use style=\"fill:#0000aa;stroke:#0000aa;\" x=\"795.558935\" xlink:href=\"#C4_0_c0043742e5\" y=\"340.286689\"/>\r\n    </g>\r\n    <g clip-path=\"url(#pd9c7a1662c)\">\r\n     <use style=\"fill:#ff2020;stroke:#ff2020;\" x=\"793.52273\" xlink:href=\"#C4_0_c0043742e5\" y=\"335.442342\"/>\r\n    </g>\r\n    <g clip-path=\"url(#pd9c7a1662c)\">\r\n     <use style=\"fill:#ff2020;stroke:#ff2020;\" x=\"791.028988\" xlink:href=\"#C4_0_c0043742e5\" y=\"330.881175\"/>\r\n    </g>\r\n    <g clip-path=\"url(#pd9c7a1662c)\">\r\n     <use style=\"fill:#ff2020;stroke:#ff2020;\" x=\"793.960553\" xlink:href=\"#C4_0_c0043742e5\" y=\"336.374841\"/>\r\n    </g>\r\n    <g clip-path=\"url(#pd9c7a1662c)\">\r\n     <use style=\"fill:#0000aa;stroke:#0000aa;\" x=\"795.076592\" xlink:href=\"#C4_0_c0043742e5\" y=\"339.006249\"/>\r\n    </g>\r\n    <g clip-path=\"url(#pd9c7a1662c)\">\r\n     <use style=\"fill:#ff2020;stroke:#ff2020;\" x=\"792.516829\" xlink:href=\"#C4_0_c0043742e5\" y=\"333.466101\"/>\r\n    </g>\r\n    <g clip-path=\"url(#pd9c7a1662c)\">\r\n     <use style=\"fill:#0000aa;stroke:#0000aa;\" x=\"796.331494\" xlink:href=\"#C4_0_c0043742e5\" y=\"342.58838\"/>\r\n    </g>\r\n    <g clip-path=\"url(#pd9c7a1662c)\">\r\n     <use style=\"fill:#0000aa;stroke:#0000aa;\" x=\"795.686209\" xlink:href=\"#C4_0_c0043742e5\" y=\"340.642554\"/>\r\n    </g>\r\n    <g clip-path=\"url(#pd9c7a1662c)\">\r\n     <use style=\"fill:#ff2020;stroke:#ff2020;\" x=\"793.340822\" xlink:href=\"#C4_0_c0043742e5\" y=\"335.068735\"/>\r\n    </g>\r\n    <g clip-path=\"url(#pd9c7a1662c)\">\r\n     <use style=\"fill:#ff2020;stroke:#ff2020;\" x=\"794.160658\" xlink:href=\"#C4_0_c0043742e5\" y=\"336.817963\"/>\r\n    </g>\r\n    <g clip-path=\"url(#pd9c7a1662c)\">\r\n     <use style=\"fill:#ff2020;stroke:#ff2020;\" x=\"791.216154\" xlink:href=\"#C4_0_c0043742e5\" y=\"331.187538\"/>\r\n    </g>\r\n    <g clip-path=\"url(#pd9c7a1662c)\">\r\n     <use style=\"fill:#0000aa;stroke:#0000aa;\" x=\"797.641712\" xlink:href=\"#C4_0_c0043742e5\" y=\"347.710481\"/>\r\n    </g>\r\n    <g clip-path=\"url(#pd9c7a1662c)\">\r\n     <use style=\"fill:#0000aa;stroke:#0000aa;\" x=\"796.821136\" xlink:href=\"#C4_0_c0043742e5\" y=\"344.265942\"/>\r\n    </g>\r\n    <g clip-path=\"url(#pd9c7a1662c)\">\r\n     <use style=\"fill:#0000aa;stroke:#0000aa;\" x=\"797.952978\" xlink:href=\"#C4_0_c0043742e5\" y=\"349.378478\"/>\r\n    </g>\r\n    <g clip-path=\"url(#pd9c7a1662c)\">\r\n     <use style=\"fill:#ff2020;stroke:#ff2020;\" x=\"792.451685\" xlink:href=\"#C4_0_c0043742e5\" y=\"333.345143\"/>\r\n    </g>\r\n    <g clip-path=\"url(#pd9c7a1662c)\">\r\n     <use style=\"fill:#ff2020;stroke:#ff2020;\" x=\"792.300058\" xlink:href=\"#C4_0_c0043742e5\" y=\"333.066611\"/>\r\n    </g>\r\n    <g clip-path=\"url(#pd9c7a1662c)\">\r\n     <use style=\"fill:#0000aa;stroke:#0000aa;\" x=\"794.421812\" xlink:href=\"#C4_0_c0043742e5\" y=\"337.41376\"/>\r\n    </g>\r\n    <g clip-path=\"url(#pd9c7a1662c)\">\r\n     <use style=\"fill:#ff2020;stroke:#ff2020;\" x=\"791.530324\" xlink:href=\"#C4_0_c0043742e5\" y=\"331.713189\"/>\r\n    </g>\r\n    <g clip-path=\"url(#pd9c7a1662c)\">\r\n     <use style=\"fill:#0000aa;stroke:#0000aa;\" x=\"798.342359\" xlink:href=\"#C4_0_c0043742e5\" y=\"352.084193\"/>\r\n    </g>\r\n    <g clip-path=\"url(#pd9c7a1662c)\">\r\n     <use style=\"fill:#ff2020;stroke:#ff2020;\" x=\"793.594913\" xlink:href=\"#C4_0_c0043742e5\" y=\"335.592769\"/>\r\n    </g>\r\n    <g clip-path=\"url(#pd9c7a1662c)\">\r\n     <use style=\"fill:#ff2020;stroke:#ff2020;\" x=\"791.118325\" xlink:href=\"#C4_0_c0043742e5\" y=\"331.026789\"/>\r\n    </g>\r\n    <g clip-path=\"url(#pd9c7a1662c)\">\r\n     <use style=\"fill:#ff2020;stroke:#ff2020;\" x=\"790.24305\" xlink:href=\"#C4_0_c0043742e5\" y=\"329.646063\"/>\r\n    </g>\r\n    <g clip-path=\"url(#pd9c7a1662c)\">\r\n     <use style=\"fill:#ff2020;stroke:#ff2020;\" x=\"792.1867\" xlink:href=\"#C4_0_c0043742e5\" y=\"332.861062\"/>\r\n    </g>\r\n    <g clip-path=\"url(#pd9c7a1662c)\">\r\n     <use style=\"fill:#0000aa;stroke:#0000aa;\" x=\"797.81201\" xlink:href=\"#C4_0_c0043742e5\" y=\"348.586289\"/>\r\n    </g>\r\n   </g>\r\n   <g id=\"matplotlib.axis_9\">\r\n    <g id=\"xtick_22\">\r\n     <g id=\"line2d_57\">\r\n      <g>\r\n       <use style=\"stroke:#000000;stroke-width:0.8;\" x=\"662.243478\" xlink:href=\"#m027a3317cc\" y=\"358.361761\"/>\r\n      </g>\r\n     </g>\r\n     <g id=\"text_61\">\r\n      <!-- −2 -->\r\n      <g transform=\"translate(654.872385 372.960199)scale(0.1 -0.1)\">\r\n       <use xlink:href=\"#DejaVuSans-8722\"/>\r\n       <use x=\"83.789062\" xlink:href=\"#DejaVuSans-50\"/>\r\n      </g>\r\n     </g>\r\n    </g>\r\n    <g id=\"xtick_23\">\r\n     <g id=\"line2d_58\">\r\n      <g>\r\n       <use style=\"stroke:#000000;stroke-width:0.8;\" x=\"707.732609\" xlink:href=\"#m027a3317cc\" y=\"358.361761\"/>\r\n      </g>\r\n     </g>\r\n     <g id=\"text_62\">\r\n      <!-- −1 -->\r\n      <g transform=\"translate(700.361515 372.960199)scale(0.1 -0.1)\">\r\n       <use xlink:href=\"#DejaVuSans-8722\"/>\r\n       <use x=\"83.789062\" xlink:href=\"#DejaVuSans-49\"/>\r\n      </g>\r\n     </g>\r\n    </g>\r\n    <g id=\"xtick_24\">\r\n     <g id=\"line2d_59\">\r\n      <g>\r\n       <use style=\"stroke:#000000;stroke-width:0.8;\" x=\"753.221739\" xlink:href=\"#m027a3317cc\" y=\"358.361761\"/>\r\n      </g>\r\n     </g>\r\n     <g id=\"text_63\">\r\n      <!-- 0 -->\r\n      <g transform=\"translate(750.040489 372.960199)scale(0.1 -0.1)\">\r\n       <use xlink:href=\"#DejaVuSans-48\"/>\r\n      </g>\r\n     </g>\r\n    </g>\r\n    <g id=\"xtick_25\">\r\n     <g id=\"line2d_60\">\r\n      <g>\r\n       <use style=\"stroke:#000000;stroke-width:0.8;\" x=\"798.71087\" xlink:href=\"#m027a3317cc\" y=\"358.361761\"/>\r\n      </g>\r\n     </g>\r\n     <g id=\"text_64\">\r\n      <!-- 1 -->\r\n      <g transform=\"translate(795.52962 372.960199)scale(0.1 -0.1)\">\r\n       <use xlink:href=\"#DejaVuSans-49\"/>\r\n      </g>\r\n     </g>\r\n    </g>\r\n    <g id=\"xtick_26\">\r\n     <g id=\"line2d_61\">\r\n      <g>\r\n       <use style=\"stroke:#000000;stroke-width:0.8;\" x=\"844.2\" xlink:href=\"#m027a3317cc\" y=\"358.361761\"/>\r\n      </g>\r\n     </g>\r\n     <g id=\"text_65\">\r\n      <!-- 2 -->\r\n      <g transform=\"translate(841.01875 372.960199)scale(0.1 -0.1)\">\r\n       <use xlink:href=\"#DejaVuSans-50\"/>\r\n      </g>\r\n     </g>\r\n    </g>\r\n   </g>\r\n   <g id=\"matplotlib.axis_10\">\r\n    <g id=\"ytick_36\">\r\n     <g id=\"line2d_62\">\r\n      <g>\r\n       <use style=\"stroke:#000000;stroke-width:0.8;\" x=\"753.221739\" xlink:href=\"#m3a93448a10\" y=\"457.198125\"/>\r\n      </g>\r\n     </g>\r\n     <g id=\"text_66\">\r\n      <!-- −2.0 -->\r\n      <g transform=\"translate(721.938927 460.997344)scale(0.1 -0.1)\">\r\n       <use xlink:href=\"#DejaVuSans-8722\"/>\r\n       <use x=\"83.789062\" xlink:href=\"#DejaVuSans-50\"/>\r\n       <use x=\"147.412109\" xlink:href=\"#DejaVuSans-46\"/>\r\n       <use x=\"179.199219\" xlink:href=\"#DejaVuSans-48\"/>\r\n      </g>\r\n     </g>\r\n    </g>\r\n    <g id=\"ytick_37\">\r\n     <g id=\"line2d_63\">\r\n      <g>\r\n       <use style=\"stroke:#000000;stroke-width:0.8;\" x=\"753.221739\" xlink:href=\"#m3a93448a10\" y=\"432.489034\"/>\r\n      </g>\r\n     </g>\r\n     <g id=\"text_67\">\r\n      <!-- −1.5 -->\r\n      <g transform=\"translate(721.938927 436.288253)scale(0.1 -0.1)\">\r\n       <use xlink:href=\"#DejaVuSans-8722\"/>\r\n       <use x=\"83.789062\" xlink:href=\"#DejaVuSans-49\"/>\r\n       <use x=\"147.412109\" xlink:href=\"#DejaVuSans-46\"/>\r\n       <use x=\"179.199219\" xlink:href=\"#DejaVuSans-53\"/>\r\n      </g>\r\n     </g>\r\n    </g>\r\n    <g id=\"ytick_38\">\r\n     <g id=\"line2d_64\">\r\n      <g>\r\n       <use style=\"stroke:#000000;stroke-width:0.8;\" x=\"753.221739\" xlink:href=\"#m3a93448a10\" y=\"407.779943\"/>\r\n      </g>\r\n     </g>\r\n     <g id=\"text_68\">\r\n      <!-- −1.0 -->\r\n      <g transform=\"translate(721.938927 411.579162)scale(0.1 -0.1)\">\r\n       <use xlink:href=\"#DejaVuSans-8722\"/>\r\n       <use x=\"83.789062\" xlink:href=\"#DejaVuSans-49\"/>\r\n       <use x=\"147.412109\" xlink:href=\"#DejaVuSans-46\"/>\r\n       <use x=\"179.199219\" xlink:href=\"#DejaVuSans-48\"/>\r\n      </g>\r\n     </g>\r\n    </g>\r\n    <g id=\"ytick_39\">\r\n     <g id=\"line2d_65\">\r\n      <g>\r\n       <use style=\"stroke:#000000;stroke-width:0.8;\" x=\"753.221739\" xlink:href=\"#m3a93448a10\" y=\"383.070852\"/>\r\n      </g>\r\n     </g>\r\n     <g id=\"text_69\">\r\n      <!-- −0.5 -->\r\n      <g transform=\"translate(721.938927 386.870071)scale(0.1 -0.1)\">\r\n       <use xlink:href=\"#DejaVuSans-8722\"/>\r\n       <use x=\"83.789062\" xlink:href=\"#DejaVuSans-48\"/>\r\n       <use x=\"147.412109\" xlink:href=\"#DejaVuSans-46\"/>\r\n       <use x=\"179.199219\" xlink:href=\"#DejaVuSans-53\"/>\r\n      </g>\r\n     </g>\r\n    </g>\r\n    <g id=\"ytick_40\">\r\n     <g id=\"line2d_66\">\r\n      <g>\r\n       <use style=\"stroke:#000000;stroke-width:0.8;\" x=\"753.221739\" xlink:href=\"#m3a93448a10\" y=\"358.361761\"/>\r\n      </g>\r\n     </g>\r\n     <g id=\"text_70\">\r\n      <!-- 0.0 -->\r\n      <g transform=\"translate(730.318614 362.16098)scale(0.1 -0.1)\">\r\n       <use xlink:href=\"#DejaVuSans-48\"/>\r\n       <use x=\"63.623047\" xlink:href=\"#DejaVuSans-46\"/>\r\n       <use x=\"95.410156\" xlink:href=\"#DejaVuSans-48\"/>\r\n      </g>\r\n     </g>\r\n    </g>\r\n    <g id=\"ytick_41\">\r\n     <g id=\"line2d_67\">\r\n      <g>\r\n       <use style=\"stroke:#000000;stroke-width:0.8;\" x=\"753.221739\" xlink:href=\"#m3a93448a10\" y=\"333.65267\"/>\r\n      </g>\r\n     </g>\r\n     <g id=\"text_71\">\r\n      <!-- 0.5 -->\r\n      <g transform=\"translate(730.318614 337.451889)scale(0.1 -0.1)\">\r\n       <use xlink:href=\"#DejaVuSans-48\"/>\r\n       <use x=\"63.623047\" xlink:href=\"#DejaVuSans-46\"/>\r\n       <use x=\"95.410156\" xlink:href=\"#DejaVuSans-53\"/>\r\n      </g>\r\n     </g>\r\n    </g>\r\n    <g id=\"ytick_42\">\r\n     <g id=\"line2d_68\">\r\n      <g>\r\n       <use style=\"stroke:#000000;stroke-width:0.8;\" x=\"753.221739\" xlink:href=\"#m3a93448a10\" y=\"308.94358\"/>\r\n      </g>\r\n     </g>\r\n     <g id=\"text_72\">\r\n      <!-- 1.0 -->\r\n      <g transform=\"translate(730.318614 312.742798)scale(0.1 -0.1)\">\r\n       <use xlink:href=\"#DejaVuSans-49\"/>\r\n       <use x=\"63.623047\" xlink:href=\"#DejaVuSans-46\"/>\r\n       <use x=\"95.410156\" xlink:href=\"#DejaVuSans-48\"/>\r\n      </g>\r\n     </g>\r\n    </g>\r\n    <g id=\"ytick_43\">\r\n     <g id=\"line2d_69\">\r\n      <g>\r\n       <use style=\"stroke:#000000;stroke-width:0.8;\" x=\"753.221739\" xlink:href=\"#m3a93448a10\" y=\"284.234489\"/>\r\n      </g>\r\n     </g>\r\n     <g id=\"text_73\">\r\n      <!-- 1.5 -->\r\n      <g transform=\"translate(730.318614 288.033707)scale(0.1 -0.1)\">\r\n       <use xlink:href=\"#DejaVuSans-49\"/>\r\n       <use x=\"63.623047\" xlink:href=\"#DejaVuSans-46\"/>\r\n       <use x=\"95.410156\" xlink:href=\"#DejaVuSans-53\"/>\r\n      </g>\r\n     </g>\r\n    </g>\r\n    <g id=\"ytick_44\">\r\n     <g id=\"line2d_70\">\r\n      <g>\r\n       <use style=\"stroke:#000000;stroke-width:0.8;\" x=\"753.221739\" xlink:href=\"#m3a93448a10\" y=\"259.525398\"/>\r\n      </g>\r\n     </g>\r\n     <g id=\"text_74\">\r\n      <!-- 2.0 -->\r\n      <g transform=\"translate(730.318614 263.324616)scale(0.1 -0.1)\">\r\n       <use xlink:href=\"#DejaVuSans-50\"/>\r\n       <use x=\"63.623047\" xlink:href=\"#DejaVuSans-46\"/>\r\n       <use x=\"95.410156\" xlink:href=\"#DejaVuSans-48\"/>\r\n      </g>\r\n     </g>\r\n    </g>\r\n   </g>\r\n   <g id=\"patch_23\">\r\n    <path d=\"M 753.221739 457.198125 \r\nL 753.221739 259.525398 \r\n\" style=\"fill:none;stroke:#000000;stroke-linecap:square;stroke-linejoin:miter;stroke-width:0.8;\"/>\r\n   </g>\r\n   <g id=\"patch_24\">\r\n    <path d=\"M 844.2 457.198125 \r\nL 844.2 259.525398 \r\n\" style=\"fill:none;\"/>\r\n   </g>\r\n   <g id=\"patch_25\">\r\n    <path d=\"M 662.243478 358.361761 \r\nL 844.2 358.361761 \r\n\" style=\"fill:none;stroke:#000000;stroke-linecap:square;stroke-linejoin:miter;stroke-width:0.8;\"/>\r\n   </g>\r\n   <g id=\"patch_26\">\r\n    <path d=\"M 662.243478 259.525398 \r\nL 844.2 259.525398 \r\n\" style=\"fill:none;\"/>\r\n   </g>\r\n   <g id=\"text_75\">\r\n    <!-- Normalizer -->\r\n    <defs>\r\n     <path d=\"M 9.8125 72.90625 \r\nL 23.09375 72.90625 \r\nL 55.421875 11.921875 \r\nL 55.421875 72.90625 \r\nL 64.984375 72.90625 \r\nL 64.984375 0 \r\nL 51.703125 0 \r\nL 19.390625 60.984375 \r\nL 19.390625 0 \r\nL 9.8125 0 \r\nz\r\n\" id=\"DejaVuSans-78\"/>\r\n     <path d=\"M 52 44.1875 \r\nQ 55.375 50.25 60.0625 53.125 \r\nQ 64.75 56 71.09375 56 \r\nQ 79.640625 56 84.28125 50.015625 \r\nQ 88.921875 44.046875 88.921875 33.015625 \r\nL 88.921875 0 \r\nL 79.890625 0 \r\nL 79.890625 32.71875 \r\nQ 79.890625 40.578125 77.09375 44.375 \r\nQ 74.3125 48.1875 68.609375 48.1875 \r\nQ 61.625 48.1875 57.5625 43.546875 \r\nQ 53.515625 38.921875 53.515625 30.90625 \r\nL 53.515625 0 \r\nL 44.484375 0 \r\nL 44.484375 32.71875 \r\nQ 44.484375 40.625 41.703125 44.40625 \r\nQ 38.921875 48.1875 33.109375 48.1875 \r\nQ 26.21875 48.1875 22.15625 43.53125 \r\nQ 18.109375 38.875 18.109375 30.90625 \r\nL 18.109375 0 \r\nL 9.078125 0 \r\nL 9.078125 54.6875 \r\nL 18.109375 54.6875 \r\nL 18.109375 46.1875 \r\nQ 21.1875 51.21875 25.484375 53.609375 \r\nQ 29.78125 56 35.6875 56 \r\nQ 41.65625 56 45.828125 52.96875 \r\nQ 50 49.953125 52 44.1875 \r\nz\r\n\" id=\"DejaVuSans-109\"/>\r\n     <path d=\"M 5.515625 54.6875 \r\nL 48.1875 54.6875 \r\nL 48.1875 46.484375 \r\nL 14.40625 7.171875 \r\nL 48.1875 7.171875 \r\nL 48.1875 0 \r\nL 4.296875 0 \r\nL 4.296875 8.203125 \r\nL 38.09375 47.515625 \r\nL 5.515625 47.515625 \r\nz\r\n\" id=\"DejaVuSans-122\"/>\r\n    </defs>\r\n    <g transform=\"translate(720.537677 253.525398)scale(0.12 -0.12)\">\r\n     <use xlink:href=\"#DejaVuSans-78\"/>\r\n     <use x=\"74.804688\" xlink:href=\"#DejaVuSans-111\"/>\r\n     <use x=\"135.986328\" xlink:href=\"#DejaVuSans-114\"/>\r\n     <use x=\"175.349609\" xlink:href=\"#DejaVuSans-109\"/>\r\n     <use x=\"272.761719\" xlink:href=\"#DejaVuSans-97\"/>\r\n     <use x=\"334.041016\" xlink:href=\"#DejaVuSans-108\"/>\r\n     <use x=\"361.824219\" xlink:href=\"#DejaVuSans-105\"/>\r\n     <use x=\"389.607422\" xlink:href=\"#DejaVuSans-122\"/>\r\n     <use x=\"442.097656\" xlink:href=\"#DejaVuSans-101\"/>\r\n     <use x=\"503.621094\" xlink:href=\"#DejaVuSans-114\"/>\r\n    </g>\r\n   </g>\r\n  </g>\r\n </g>\r\n <defs>\r\n  <clipPath id=\"p3dfd9f8a06\">\r\n   <rect height=\"434.88\" width=\"400.304348\" x=\"7.2\" y=\"22.318125\"/>\r\n  </clipPath>\r\n  <clipPath id=\"p213acc56f3\">\r\n   <rect height=\"197.672727\" width=\"181.956522\" x=\"443.895652\" y=\"22.318125\"/>\r\n  </clipPath>\r\n  <clipPath id=\"p8f19452f46\">\r\n   <rect height=\"197.672727\" width=\"181.956522\" x=\"443.895652\" y=\"259.525398\"/>\r\n  </clipPath>\r\n  <clipPath id=\"p94564a4f67\">\r\n   <rect height=\"197.672727\" width=\"181.956522\" x=\"662.243478\" y=\"22.318125\"/>\r\n  </clipPath>\r\n  <clipPath id=\"pd9c7a1662c\">\r\n   <rect height=\"197.672727\" width=\"181.956522\" x=\"662.243478\" y=\"259.525398\"/>\r\n  </clipPath>\r\n </defs>\r\n</svg>\r\n",
      "image/png": "[encoded data removed]"
     },
     "metadata": {
      "needs_background": "light"
     }
    }
   ],
   "source": [
    "# 데이터셋의 스케일을 조정하거나 전처리하는 여러 방법\n",
    "mglearn.plots.plot_scaling()"
   ]
  },
  {
   "cell_type": "markdown",
   "metadata": {
    "colab_type": "text",
    "id": "9HSGh2seWDdp",
    "slideshow": {
     "slide_type": "slide"
    }
   },
   "source": [
    "### StandardScaler\n",
    "\n",
    "- 표준화를 쉽게 지원하기 위한 클래스\n",
    "- 평균이 0이고, 분산이 1인 값으로 변환\n",
    "\n",
    "- 서포트 벡터 머신, 선형 회귀, 로지스틱 회귀는 데이터가 가우시안 분포를 가지고 있다고 가정하고 구현되었기에 표준화 적용이 필요"
   ]
  },
  {
   "cell_type": "code",
   "execution_count": 17,
   "metadata": {
    "colab": {
     "base_uri": "https://localhost:8080/",
     "height": 53
    },
    "colab_type": "code",
    "executionInfo": {
     "elapsed": 740,
     "status": "ok",
     "timestamp": 1598187681882,
     "user": {
      "displayName": "oz To",
      "photoUrl": "",
      "userId": "12937505880450462933"
     },
     "user_tz": -540
    },
    "id": "dvZQXar1XaXZ",
    "outputId": "8c2a8ac5-b118-4342-c8ea-2fb60c59b192",
    "slideshow": {
     "slide_type": "slide"
    },
    "tags": []
   },
   "outputs": [
    {
     "output_type": "stream",
     "name": "stdout",
     "text": "(426, 30)\n(143, 30)\n"
    }
   ],
   "source": [
    "from sklearn.datasets import load_breast_cancer\n",
    "from sklearn.model_selection import train_test_split\n",
    "\n",
    "cancer = load_breast_cancer()\n",
    "\n",
    "X_train, X_test, y_train, y_test = train_test_split(cancer.data, cancer.target,\n",
    "                                                    random_state=0)\n",
    "print(X_train.shape)\n",
    "print(X_test.shape)"
   ]
  },
  {
   "cell_type": "code",
   "execution_count": 18,
   "metadata": {
    "colab": {
     "base_uri": "https://localhost:8080/",
     "height": 35
    },
    "colab_type": "code",
    "executionInfo": {
     "elapsed": 468,
     "status": "ok",
     "timestamp": 1598187682240,
     "user": {
      "displayName": "oz To",
      "photoUrl": "",
      "userId": "12937505880450462933"
     },
     "user_tz": -540
    },
    "id": "widcNYqGXsAQ",
    "outputId": "f46ac0be-b6d7-42f7-e83a-d1c7b58b69c8",
    "slideshow": {
     "slide_type": "slide"
    }
   },
   "outputs": [],
   "source": [
    "from sklearn.svm import SVC\n",
    "\n",
    "# C=100\n",
    "\n",
    "# 테스트 세트 정확도\n"
   ]
  },
  {
   "cell_type": "code",
   "execution_count": 19,
   "metadata": {
    "colab": {
     "base_uri": "https://localhost:8080/",
     "height": 35
    },
    "colab_type": "code",
    "executionInfo": {
     "elapsed": 575,
     "status": "ok",
     "timestamp": 1598187683092,
     "user": {
      "displayName": "oz To",
      "photoUrl": "",
      "userId": "12937505880450462933"
     },
     "user_tz": -540
    },
    "id": "lOQ4bBkTXz5f",
    "outputId": "4d0560ab-c82b-45af-fabd-710cf27fc24d",
    "slideshow": {
     "slide_type": "slide"
    }
   },
   "outputs": [],
   "source": [
    "# 평균 0, 분산 1을 갖도록 스케일 조정\n",
    "from sklearn.preprocessing import StandardScaler\n",
    "\n",
    "# 주의 : 변환을 위하 기준 정보 설정\n",
    "# 학습 데이터와 테스트 데이터의 스케일링 기준 정보를 동일하게 유지\n",
    "\n",
    "# 조정된 데이터로 SVM 학습\n",
    "\n",
    "# 스케일 조정된 테스트 세트의 정확도\n"
   ]
  },
  {
   "cell_type": "code",
   "execution_count": 20,
   "metadata": {
    "colab": {
     "base_uri": "https://localhost:8080/",
     "height": 1000
    },
    "colab_type": "code",
    "executionInfo": {
     "elapsed": 596,
     "status": "ok",
     "timestamp": 1598187684041,
     "user": {
      "displayName": "oz To",
      "photoUrl": "",
      "userId": "12937505880450462933"
     },
     "user_tz": -540
    },
    "id": "_zoWHqXPYVe7",
    "outputId": "583971cf-4133-420c-ede3-cca3cc19aac8",
    "slideshow": {
     "slide_type": "slide"
    }
   },
   "outputs": [],
   "source": [
    "import pandas as pd\n",
    "\n",
    "# 특성들의 평균값과 분산값\n"
   ]
  },
  {
   "cell_type": "markdown",
   "metadata": {
    "colab_type": "text",
    "id": "apQ-Wg86ZVpx",
    "slideshow": {
     "slide_type": "slide"
    }
   },
   "source": [
    "- 특성의 평균이 0에 아주 가까운 값으로, 분산은 1에 아주 가까운 값으로 변환"
   ]
  },
  {
   "cell_type": "markdown",
   "metadata": {
    "colab_type": "text",
    "id": "lkWYDLm_X8E_",
    "slideshow": {
     "slide_type": "slide"
    }
   },
   "source": [
    "### MinMaxScaler\n",
    "\n",
    "- 정규화를 쉽게 지원하기 위한 클래스\n",
    "- 데이터값을 0과 1사이의 범위 값으로 변환\n"
   ]
  },
  {
   "cell_type": "code",
   "execution_count": 21,
   "metadata": {
    "colab": {
     "base_uri": "https://localhost:8080/",
     "height": 35
    },
    "colab_type": "code",
    "executionInfo": {
     "elapsed": 892,
     "status": "ok",
     "timestamp": 1598187780043,
     "user": {
      "displayName": "oz To",
      "photoUrl": "",
      "userId": "12937505880450462933"
     },
     "user_tz": -540
    },
    "id": "-nxLRaxHZdp3",
    "outputId": "e34741ea-406b-477d-e672-7798f93433f1",
    "slideshow": {
     "slide_type": "slide"
    }
   },
   "outputs": [],
   "source": [
    "from sklearn.preprocessing import MinMaxScaler\n",
    "\n",
    "# 0~1 사이로 스케일 조정\n",
    "\n",
    "\n",
    "# 조정된 데이터로 SVM 학습\n",
    "\n",
    "\n",
    "# 스케일 조정된 테스트 세트의 정확도\n"
   ]
  },
  {
   "cell_type": "code",
   "execution_count": 22,
   "metadata": {
    "colab": {
     "base_uri": "https://localhost:8080/",
     "height": 1000
    },
    "colab_type": "code",
    "executionInfo": {
     "elapsed": 792,
     "status": "ok",
     "timestamp": 1598187781564,
     "user": {
      "displayName": "oz To",
      "photoUrl": "",
      "userId": "12937505880450462933"
     },
     "user_tz": -540
    },
    "id": "Pph1_K-FaENi",
    "outputId": "243f7e76-e487-4465-8acf-d182135b579e",
    "slideshow": {
     "slide_type": "slide"
    }
   },
   "outputs": [],
   "source": [
    "# 특성들의 최소값과 최대값\n"
   ]
  },
  {
   "cell_type": "markdown",
   "metadata": {
    "colab_type": "text",
    "id": "MXsZG6vX1XHI",
    "slideshow": {
     "slide_type": "slide"
    }
   },
   "source": [
    "# 특성 공학(feature engineering)\n",
    "\n",
    "- 특정 애플리케이션에 가장 적합한 데이터 표현을 찾는 것"
   ]
  },
  {
   "cell_type": "markdown",
   "metadata": {
    "colab_type": "text",
    "id": "ModrI2jr29t1",
    "slideshow": {
     "slide_type": "slide"
    }
   },
   "source": [
    "- 데이터를 가장 잘 표현하는 방법은 데이터가 가진 의미뿐 아니라 어떤 모델을 사용하는지에 따라 다름\n",
    "\n",
    " - 구간분할(bining) : 한 특성을 여러 특성으로 나누는 것 (이산화)\n",
    "\n",
    " - 용량이 매우 크고 고차원 데이터셋이라 선형 모델을 사용해야 한다면 구간 분할이 모델 성능을 높이는데 도움이 됨\n",
    "\n",
    "- 원본 데이터에 상호작용(interaction)과 다항식(polyonmial) 특성을 추가"
   ]
  },
  {
   "cell_type": "markdown",
   "metadata": {
    "colab_type": "text",
    "id": "d3Uo5Hrb-oLR",
    "slideshow": {
     "slide_type": "slide"
    }
   },
   "source": [
    "## 특성 자동 선택\n",
    "\n",
    "- 특성이 추가되면 모델이 복잡해지고 과대적합 가능성이 올라감\n",
    "\n",
    "- 유용한 특성만 선택하고 나머지는 무시해서 특성의 수를 줄이는 것이 좋음.\n",
    "\n",
    "- 특성 선택 방법 : 일변량 통계, 모델 기반 선택, 반복적 선택\n"
   ]
  },
  {
   "cell_type": "markdown",
   "metadata": {
    "colab_type": "text",
    "id": "rbOzCsWO_3ZP",
    "slideshow": {
     "slide_type": "slide"
    }
   },
   "source": [
    "### 일변량 통계(univariate statistics)\n",
    "\n",
    "- 특성과 타켓 사이에 중요한 통계적 관계가 있는지 계산하고 깊게 관련된 것만 선택"
   ]
  },
  {
   "cell_type": "code",
   "execution_count": 23,
   "metadata": {
    "colab": {
     "base_uri": "https://localhost:8080/",
     "height": 53
    },
    "colab_type": "code",
    "executionInfo": {
     "elapsed": 819,
     "status": "ok",
     "timestamp": 1598178879411,
     "user": {
      "displayName": "oz To",
      "photoUrl": "",
      "userId": "12937505880450462933"
     },
     "user_tz": -540
    },
    "id": "L9UxIvj2AFNF",
    "outputId": "545ea389-2a5c-42d9-a38d-17c3071b49f9",
    "slideshow": {
     "slide_type": "slide"
    }
   },
   "outputs": [
    {
     "output_type": "execute_result",
     "data": {
      "text/plain": "((284, 80), (284, 40))"
     },
     "metadata": {},
     "execution_count": 23
    }
   ],
   "source": [
    "# 의미 없는 노이즈 특성을 추가하고, 식별해서 제거하는지 확인\n",
    "from sklearn.datasets import load_breast_cancer\n",
    "from sklearn.feature_selection import SelectPercentile, f_classif\n",
    "from sklearn.model_selection import train_test_split\n",
    "import numpy as np\n",
    "import matplotlib.pyplot as plt\n",
    "\n",
    "cancer = load_breast_cancer()\n",
    "\n",
    "# 고정된 난수를 발생\n",
    "rng = np.random.RandomState(42)\n",
    "noise = rng.normal(size=(len(cancer.data), 50))\n",
    "\n",
    "# 데이터에 노이즈 특성을 추가\n",
    "# 처음 30개는 원본 특성이고 다음 50개는 노이즈\n",
    "X_w_noise = np.hstack([cancer.data, noise])\n",
    "\n",
    "X_train, X_test, y_train, y_test = train_test_split(X_w_noise, \n",
    "                                                    cancer.target, \n",
    "                                                    random_state=0, \n",
    "                                                    test_size=0.5)\n",
    "\n",
    "# SelectPercentile을 사용하여 특성의 50%를 선택\n",
    "select = SelectPercentile(percentile=50)\n",
    "select.fit(X_train, y_train)\n",
    "\n",
    "\n",
    "# 훈련 세트에 적용\n",
    "X_train_selected = select.transform(X_train)\n",
    "\n",
    "# 훈련 세트 모양 비교\n",
    "X_train.shape, X_train_selected.shape\n"
   ]
  },
  {
   "cell_type": "markdown",
   "metadata": {
    "colab_type": "text",
    "id": "gMV2AWxg9Dre",
    "slideshow": {
     "slide_type": "slide"
    }
   },
   "source": [
    "- 특성 개수가 80개에서 40개로 줄었음(원본 특성의 50%)"
   ]
  },
  {
   "cell_type": "code",
   "execution_count": 24,
   "metadata": {
    "colab": {
     "base_uri": "https://localhost:8080/",
     "height": 181
    },
    "colab_type": "code",
    "executionInfo": {
     "elapsed": 801,
     "status": "ok",
     "timestamp": 1598180204255,
     "user": {
      "displayName": "oz To",
      "photoUrl": "",
      "userId": "12937505880450462933"
     },
     "user_tz": -540
    },
    "id": "zXqs_SvtAVP8",
    "outputId": "9c89520d-e833-44ff-b1e0-1ad66d290b9d",
    "slideshow": {
     "slide_type": "slide"
    },
    "tags": []
   },
   "outputs": [
    {
     "output_type": "stream",
     "name": "stdout",
     "text": "[ True  True  True  True  True  True  True  True  True False  True False\n  True  True  True  True  True  True False False  True  True  True  True\n  True  True  True  True  True  True False False False  True False  True\n False False  True False False False False  True False False  True False\n False  True False  True False False False False False False  True False\n  True False False False False  True False  True False False False False\n  True  True False  True False False False False]\n"
    },
    {
     "output_type": "execute_result",
     "data": {
      "text/plain": "([<matplotlib.axis.YTick at 0x24fdfead2c8>],\n <a list of 1 Text major ticklabel objects>)"
     },
     "metadata": {},
     "execution_count": 24
    },
    {
     "output_type": "display_data",
     "data": {
      "text/plain": "<Figure size 1152x144 with 1 Axes>",
      "image/svg+xml": "<?xml version=\"1.0\" encoding=\"utf-8\" standalone=\"no\"?>\r\n<!DOCTYPE svg PUBLIC \"-//W3C//DTD SVG 1.1//EN\"\r\n  \"http://www.w3.org/Graphics/SVG/1.1/DTD/svg11.dtd\">\r\n<!-- Created with matplotlib (https://matplotlib.org/) -->\r\n<svg height=\"45.738125pt\" version=\"1.1\" viewBox=\"0 0 920.5625 45.738125\" width=\"920.5625pt\" xmlns=\"http://www.w3.org/2000/svg\" xmlns:xlink=\"http://www.w3.org/1999/xlink\">\r\n <defs>\r\n  <style type=\"text/css\">\r\n*{stroke-linecap:butt;stroke-linejoin:round;}\r\n  </style>\r\n </defs>\r\n <g id=\"figure_1\">\r\n  <g id=\"patch_1\">\r\n   <path d=\"M 0 45.738125 \r\nL 920.5625 45.738125 \r\nL 920.5625 0 \r\nL 0 0 \r\nz\r\n\" style=\"fill:none;\"/>\r\n  </g>\r\n  <g id=\"axes_1\">\r\n   <g id=\"patch_2\">\r\n    <path d=\"M 20.5625 35.038125 \r\nL 913.3625 35.038125 \r\nL 913.3625 23.878125 \r\nL 20.5625 23.878125 \r\nz\r\n\" style=\"fill:#ffffff;\"/>\r\n   </g>\r\n   <g clip-path=\"url(#pbb1d005ec1)\">\r\n    <image height=\"12\" id=\"image2fa6e96f37\" transform=\"scale(1 -1)translate(0 -12)\" width=\"893\" x=\"20.5625\" xlink:href=\"data:image/png;base64,\r\niVBORw0KGgoAAAANSUhEUgAAA30AAAAMCAYAAADWHNRAAAAABHNCSVQICAgIfAhkiAAAAKBJREFUeJzt10EOgCAMBEDx/3/GI1dr0gibmbMxSBfijjnnvNjGGKP0fGV8lXeLxVKdyVv2+GxduaioZqjrDtjhjOwwj6odvq8zQ13rOC3HJ0q/WzrJ8jdd/0T2eLn/XgAAAAB9lD4AAIBgSh8AAEAwpQ8AACCY0gcAABBM6QMAAAim9AEAAART+gAAAIIpfQAAAMGUPgAAgGBKHwAAQLAHZzI0Fwbk9jEAAAAASUVORK5CYII=\" y=\"-23.038125\"/>\r\n   </g>\r\n   <g id=\"matplotlib.axis_1\">\r\n    <g id=\"xtick_1\">\r\n     <g id=\"line2d_1\">\r\n      <defs>\r\n       <path d=\"M 0 0 \r\nL 0 3.5 \r\n\" id=\"m9fc7a7cdad\" style=\"stroke:#000000;stroke-width:0.8;\"/>\r\n      </defs>\r\n      <g>\r\n       <use style=\"stroke:#000000;stroke-width:0.8;\" x=\"26.1425\" xlink:href=\"#m9fc7a7cdad\" y=\"35.038125\"/>\r\n      </g>\r\n     </g>\r\n     <g id=\"line2d_2\">\r\n      <defs>\r\n       <path d=\"M 0 0 \r\nL 0 -3.5 \r\n\" id=\"m5b38ed318d\" style=\"stroke:#000000;stroke-width:0.8;\"/>\r\n      </defs>\r\n      <g>\r\n       <use style=\"stroke:#000000;stroke-width:0.8;\" x=\"26.1425\" xlink:href=\"#m5b38ed318d\" y=\"23.878125\"/>\r\n      </g>\r\n     </g>\r\n     <g id=\"text_1\">\r\n      <!-- 0 -->\r\n      <defs>\r\n       <path d=\"M 31.78125 66.40625 \r\nQ 24.171875 66.40625 20.328125 58.90625 \r\nQ 16.5 51.421875 16.5 36.375 \r\nQ 16.5 21.390625 20.328125 13.890625 \r\nQ 24.171875 6.390625 31.78125 6.390625 \r\nQ 39.453125 6.390625 43.28125 13.890625 \r\nQ 47.125 21.390625 47.125 36.375 \r\nQ 47.125 51.421875 43.28125 58.90625 \r\nQ 39.453125 66.40625 31.78125 66.40625 \r\nz\r\nM 31.78125 74.21875 \r\nQ 44.046875 74.21875 50.515625 64.515625 \r\nQ 56.984375 54.828125 56.984375 36.375 \r\nQ 56.984375 17.96875 50.515625 8.265625 \r\nQ 44.046875 -1.421875 31.78125 -1.421875 \r\nQ 19.53125 -1.421875 13.0625 8.265625 \r\nQ 6.59375 17.96875 6.59375 36.375 \r\nQ 6.59375 54.828125 13.0625 64.515625 \r\nQ 19.53125 74.21875 31.78125 74.21875 \r\nz\r\n\" id=\"DejaVuSans-48\"/>\r\n      </defs>\r\n      <g transform=\"translate(22.96125 14.798437)scale(0.1 -0.1)\">\r\n       <use xlink:href=\"#DejaVuSans-48\"/>\r\n      </g>\r\n     </g>\r\n    </g>\r\n    <g id=\"xtick_2\">\r\n     <g id=\"line2d_3\">\r\n      <g>\r\n       <use style=\"stroke:#000000;stroke-width:0.8;\" x=\"137.7425\" xlink:href=\"#m9fc7a7cdad\" y=\"35.038125\"/>\r\n      </g>\r\n     </g>\r\n     <g id=\"line2d_4\">\r\n      <g>\r\n       <use style=\"stroke:#000000;stroke-width:0.8;\" x=\"137.7425\" xlink:href=\"#m5b38ed318d\" y=\"23.878125\"/>\r\n      </g>\r\n     </g>\r\n     <g id=\"text_2\">\r\n      <!-- 10 -->\r\n      <defs>\r\n       <path d=\"M 12.40625 8.296875 \r\nL 28.515625 8.296875 \r\nL 28.515625 63.921875 \r\nL 10.984375 60.40625 \r\nL 10.984375 69.390625 \r\nL 28.421875 72.90625 \r\nL 38.28125 72.90625 \r\nL 38.28125 8.296875 \r\nL 54.390625 8.296875 \r\nL 54.390625 0 \r\nL 12.40625 0 \r\nz\r\n\" id=\"DejaVuSans-49\"/>\r\n      </defs>\r\n      <g transform=\"translate(131.38 14.798437)scale(0.1 -0.1)\">\r\n       <use xlink:href=\"#DejaVuSans-49\"/>\r\n       <use x=\"63.623047\" xlink:href=\"#DejaVuSans-48\"/>\r\n      </g>\r\n     </g>\r\n    </g>\r\n    <g id=\"xtick_3\">\r\n     <g id=\"line2d_5\">\r\n      <g>\r\n       <use style=\"stroke:#000000;stroke-width:0.8;\" x=\"249.3425\" xlink:href=\"#m9fc7a7cdad\" y=\"35.038125\"/>\r\n      </g>\r\n     </g>\r\n     <g id=\"line2d_6\">\r\n      <g>\r\n       <use style=\"stroke:#000000;stroke-width:0.8;\" x=\"249.3425\" xlink:href=\"#m5b38ed318d\" y=\"23.878125\"/>\r\n      </g>\r\n     </g>\r\n     <g id=\"text_3\">\r\n      <!-- 20 -->\r\n      <defs>\r\n       <path d=\"M 19.1875 8.296875 \r\nL 53.609375 8.296875 \r\nL 53.609375 0 \r\nL 7.328125 0 \r\nL 7.328125 8.296875 \r\nQ 12.9375 14.109375 22.625 23.890625 \r\nQ 32.328125 33.6875 34.8125 36.53125 \r\nQ 39.546875 41.84375 41.421875 45.53125 \r\nQ 43.3125 49.21875 43.3125 52.78125 \r\nQ 43.3125 58.59375 39.234375 62.25 \r\nQ 35.15625 65.921875 28.609375 65.921875 \r\nQ 23.96875 65.921875 18.8125 64.3125 \r\nQ 13.671875 62.703125 7.8125 59.421875 \r\nL 7.8125 69.390625 \r\nQ 13.765625 71.78125 18.9375 73 \r\nQ 24.125 74.21875 28.421875 74.21875 \r\nQ 39.75 74.21875 46.484375 68.546875 \r\nQ 53.21875 62.890625 53.21875 53.421875 \r\nQ 53.21875 48.921875 51.53125 44.890625 \r\nQ 49.859375 40.875 45.40625 35.40625 \r\nQ 44.1875 33.984375 37.640625 27.21875 \r\nQ 31.109375 20.453125 19.1875 8.296875 \r\nz\r\n\" id=\"DejaVuSans-50\"/>\r\n      </defs>\r\n      <g transform=\"translate(242.98 14.798437)scale(0.1 -0.1)\">\r\n       <use xlink:href=\"#DejaVuSans-50\"/>\r\n       <use x=\"63.623047\" xlink:href=\"#DejaVuSans-48\"/>\r\n      </g>\r\n     </g>\r\n    </g>\r\n    <g id=\"xtick_4\">\r\n     <g id=\"line2d_7\">\r\n      <g>\r\n       <use style=\"stroke:#000000;stroke-width:0.8;\" x=\"360.9425\" xlink:href=\"#m9fc7a7cdad\" y=\"35.038125\"/>\r\n      </g>\r\n     </g>\r\n     <g id=\"line2d_8\">\r\n      <g>\r\n       <use style=\"stroke:#000000;stroke-width:0.8;\" x=\"360.9425\" xlink:href=\"#m5b38ed318d\" y=\"23.878125\"/>\r\n      </g>\r\n     </g>\r\n     <g id=\"text_4\">\r\n      <!-- 30 -->\r\n      <defs>\r\n       <path d=\"M 40.578125 39.3125 \r\nQ 47.65625 37.796875 51.625 33 \r\nQ 55.609375 28.21875 55.609375 21.1875 \r\nQ 55.609375 10.40625 48.1875 4.484375 \r\nQ 40.765625 -1.421875 27.09375 -1.421875 \r\nQ 22.515625 -1.421875 17.65625 -0.515625 \r\nQ 12.796875 0.390625 7.625 2.203125 \r\nL 7.625 11.71875 \r\nQ 11.71875 9.328125 16.59375 8.109375 \r\nQ 21.484375 6.890625 26.8125 6.890625 \r\nQ 36.078125 6.890625 40.9375 10.546875 \r\nQ 45.796875 14.203125 45.796875 21.1875 \r\nQ 45.796875 27.640625 41.28125 31.265625 \r\nQ 36.765625 34.90625 28.71875 34.90625 \r\nL 20.21875 34.90625 \r\nL 20.21875 43.015625 \r\nL 29.109375 43.015625 \r\nQ 36.375 43.015625 40.234375 45.921875 \r\nQ 44.09375 48.828125 44.09375 54.296875 \r\nQ 44.09375 59.90625 40.109375 62.90625 \r\nQ 36.140625 65.921875 28.71875 65.921875 \r\nQ 24.65625 65.921875 20.015625 65.03125 \r\nQ 15.375 64.15625 9.8125 62.3125 \r\nL 9.8125 71.09375 \r\nQ 15.4375 72.65625 20.34375 73.4375 \r\nQ 25.25 74.21875 29.59375 74.21875 \r\nQ 40.828125 74.21875 47.359375 69.109375 \r\nQ 53.90625 64.015625 53.90625 55.328125 \r\nQ 53.90625 49.265625 50.4375 45.09375 \r\nQ 46.96875 40.921875 40.578125 39.3125 \r\nz\r\n\" id=\"DejaVuSans-51\"/>\r\n      </defs>\r\n      <g transform=\"translate(354.58 14.798437)scale(0.1 -0.1)\">\r\n       <use xlink:href=\"#DejaVuSans-51\"/>\r\n       <use x=\"63.623047\" xlink:href=\"#DejaVuSans-48\"/>\r\n      </g>\r\n     </g>\r\n    </g>\r\n    <g id=\"xtick_5\">\r\n     <g id=\"line2d_9\">\r\n      <g>\r\n       <use style=\"stroke:#000000;stroke-width:0.8;\" x=\"472.5425\" xlink:href=\"#m9fc7a7cdad\" y=\"35.038125\"/>\r\n      </g>\r\n     </g>\r\n     <g id=\"line2d_10\">\r\n      <g>\r\n       <use style=\"stroke:#000000;stroke-width:0.8;\" x=\"472.5425\" xlink:href=\"#m5b38ed318d\" y=\"23.878125\"/>\r\n      </g>\r\n     </g>\r\n     <g id=\"text_5\">\r\n      <!-- 40 -->\r\n      <defs>\r\n       <path d=\"M 37.796875 64.3125 \r\nL 12.890625 25.390625 \r\nL 37.796875 25.390625 \r\nz\r\nM 35.203125 72.90625 \r\nL 47.609375 72.90625 \r\nL 47.609375 25.390625 \r\nL 58.015625 25.390625 \r\nL 58.015625 17.1875 \r\nL 47.609375 17.1875 \r\nL 47.609375 0 \r\nL 37.796875 0 \r\nL 37.796875 17.1875 \r\nL 4.890625 17.1875 \r\nL 4.890625 26.703125 \r\nz\r\n\" id=\"DejaVuSans-52\"/>\r\n      </defs>\r\n      <g transform=\"translate(466.18 14.798437)scale(0.1 -0.1)\">\r\n       <use xlink:href=\"#DejaVuSans-52\"/>\r\n       <use x=\"63.623047\" xlink:href=\"#DejaVuSans-48\"/>\r\n      </g>\r\n     </g>\r\n    </g>\r\n    <g id=\"xtick_6\">\r\n     <g id=\"line2d_11\">\r\n      <g>\r\n       <use style=\"stroke:#000000;stroke-width:0.8;\" x=\"584.1425\" xlink:href=\"#m9fc7a7cdad\" y=\"35.038125\"/>\r\n      </g>\r\n     </g>\r\n     <g id=\"line2d_12\">\r\n      <g>\r\n       <use style=\"stroke:#000000;stroke-width:0.8;\" x=\"584.1425\" xlink:href=\"#m5b38ed318d\" y=\"23.878125\"/>\r\n      </g>\r\n     </g>\r\n     <g id=\"text_6\">\r\n      <!-- 50 -->\r\n      <defs>\r\n       <path d=\"M 10.796875 72.90625 \r\nL 49.515625 72.90625 \r\nL 49.515625 64.59375 \r\nL 19.828125 64.59375 \r\nL 19.828125 46.734375 \r\nQ 21.96875 47.46875 24.109375 47.828125 \r\nQ 26.265625 48.1875 28.421875 48.1875 \r\nQ 40.625 48.1875 47.75 41.5 \r\nQ 54.890625 34.8125 54.890625 23.390625 \r\nQ 54.890625 11.625 47.5625 5.09375 \r\nQ 40.234375 -1.421875 26.90625 -1.421875 \r\nQ 22.3125 -1.421875 17.546875 -0.640625 \r\nQ 12.796875 0.140625 7.71875 1.703125 \r\nL 7.71875 11.625 \r\nQ 12.109375 9.234375 16.796875 8.0625 \r\nQ 21.484375 6.890625 26.703125 6.890625 \r\nQ 35.15625 6.890625 40.078125 11.328125 \r\nQ 45.015625 15.765625 45.015625 23.390625 \r\nQ 45.015625 31 40.078125 35.4375 \r\nQ 35.15625 39.890625 26.703125 39.890625 \r\nQ 22.75 39.890625 18.8125 39.015625 \r\nQ 14.890625 38.140625 10.796875 36.28125 \r\nz\r\n\" id=\"DejaVuSans-53\"/>\r\n      </defs>\r\n      <g transform=\"translate(577.78 14.798437)scale(0.1 -0.1)\">\r\n       <use xlink:href=\"#DejaVuSans-53\"/>\r\n       <use x=\"63.623047\" xlink:href=\"#DejaVuSans-48\"/>\r\n      </g>\r\n     </g>\r\n    </g>\r\n    <g id=\"xtick_7\">\r\n     <g id=\"line2d_13\">\r\n      <g>\r\n       <use style=\"stroke:#000000;stroke-width:0.8;\" x=\"695.7425\" xlink:href=\"#m9fc7a7cdad\" y=\"35.038125\"/>\r\n      </g>\r\n     </g>\r\n     <g id=\"line2d_14\">\r\n      <g>\r\n       <use style=\"stroke:#000000;stroke-width:0.8;\" x=\"695.7425\" xlink:href=\"#m5b38ed318d\" y=\"23.878125\"/>\r\n      </g>\r\n     </g>\r\n     <g id=\"text_7\">\r\n      <!-- 60 -->\r\n      <defs>\r\n       <path d=\"M 33.015625 40.375 \r\nQ 26.375 40.375 22.484375 35.828125 \r\nQ 18.609375 31.296875 18.609375 23.390625 \r\nQ 18.609375 15.53125 22.484375 10.953125 \r\nQ 26.375 6.390625 33.015625 6.390625 \r\nQ 39.65625 6.390625 43.53125 10.953125 \r\nQ 47.40625 15.53125 47.40625 23.390625 \r\nQ 47.40625 31.296875 43.53125 35.828125 \r\nQ 39.65625 40.375 33.015625 40.375 \r\nz\r\nM 52.59375 71.296875 \r\nL 52.59375 62.3125 \r\nQ 48.875 64.0625 45.09375 64.984375 \r\nQ 41.3125 65.921875 37.59375 65.921875 \r\nQ 27.828125 65.921875 22.671875 59.328125 \r\nQ 17.53125 52.734375 16.796875 39.40625 \r\nQ 19.671875 43.65625 24.015625 45.921875 \r\nQ 28.375 48.1875 33.59375 48.1875 \r\nQ 44.578125 48.1875 50.953125 41.515625 \r\nQ 57.328125 34.859375 57.328125 23.390625 \r\nQ 57.328125 12.15625 50.6875 5.359375 \r\nQ 44.046875 -1.421875 33.015625 -1.421875 \r\nQ 20.359375 -1.421875 13.671875 8.265625 \r\nQ 6.984375 17.96875 6.984375 36.375 \r\nQ 6.984375 53.65625 15.1875 63.9375 \r\nQ 23.390625 74.21875 37.203125 74.21875 \r\nQ 40.921875 74.21875 44.703125 73.484375 \r\nQ 48.484375 72.75 52.59375 71.296875 \r\nz\r\n\" id=\"DejaVuSans-54\"/>\r\n      </defs>\r\n      <g transform=\"translate(689.38 14.798437)scale(0.1 -0.1)\">\r\n       <use xlink:href=\"#DejaVuSans-54\"/>\r\n       <use x=\"63.623047\" xlink:href=\"#DejaVuSans-48\"/>\r\n      </g>\r\n     </g>\r\n    </g>\r\n    <g id=\"xtick_8\">\r\n     <g id=\"line2d_15\">\r\n      <g>\r\n       <use style=\"stroke:#000000;stroke-width:0.8;\" x=\"807.3425\" xlink:href=\"#m9fc7a7cdad\" y=\"35.038125\"/>\r\n      </g>\r\n     </g>\r\n     <g id=\"line2d_16\">\r\n      <g>\r\n       <use style=\"stroke:#000000;stroke-width:0.8;\" x=\"807.3425\" xlink:href=\"#m5b38ed318d\" y=\"23.878125\"/>\r\n      </g>\r\n     </g>\r\n     <g id=\"text_8\">\r\n      <!-- 70 -->\r\n      <defs>\r\n       <path d=\"M 8.203125 72.90625 \r\nL 55.078125 72.90625 \r\nL 55.078125 68.703125 \r\nL 28.609375 0 \r\nL 18.3125 0 \r\nL 43.21875 64.59375 \r\nL 8.203125 64.59375 \r\nz\r\n\" id=\"DejaVuSans-55\"/>\r\n      </defs>\r\n      <g transform=\"translate(800.98 14.798437)scale(0.1 -0.1)\">\r\n       <use xlink:href=\"#DejaVuSans-55\"/>\r\n       <use x=\"63.623047\" xlink:href=\"#DejaVuSans-48\"/>\r\n      </g>\r\n     </g>\r\n    </g>\r\n   </g>\r\n   <g id=\"matplotlib.axis_2\">\r\n    <g id=\"ytick_1\">\r\n     <g id=\"line2d_17\">\r\n      <defs>\r\n       <path d=\"M 0 0 \r\nL -3.5 0 \r\n\" id=\"m92191457f6\" style=\"stroke:#000000;stroke-width:0.8;\"/>\r\n      </defs>\r\n      <g>\r\n       <use style=\"stroke:#000000;stroke-width:0.8;\" x=\"20.5625\" xlink:href=\"#m92191457f6\" y=\"29.458125\"/>\r\n      </g>\r\n     </g>\r\n     <g id=\"text_9\">\r\n      <!-- 0 -->\r\n      <g transform=\"translate(7.2 33.257344)scale(0.1 -0.1)\">\r\n       <use xlink:href=\"#DejaVuSans-48\"/>\r\n      </g>\r\n     </g>\r\n    </g>\r\n   </g>\r\n   <g id=\"patch_3\">\r\n    <path d=\"M 20.5625 35.038125 \r\nL 20.5625 23.878125 \r\n\" style=\"fill:none;stroke:#000000;stroke-linecap:square;stroke-linejoin:miter;stroke-width:0.8;\"/>\r\n   </g>\r\n   <g id=\"patch_4\">\r\n    <path d=\"M 913.3625 35.038125 \r\nL 913.3625 23.878125 \r\n\" style=\"fill:none;stroke:#000000;stroke-linecap:square;stroke-linejoin:miter;stroke-width:0.8;\"/>\r\n   </g>\r\n   <g id=\"patch_5\">\r\n    <path d=\"M 20.5625 35.038125 \r\nL 913.3625 35.038125 \r\n\" style=\"fill:none;stroke:#000000;stroke-linecap:square;stroke-linejoin:miter;stroke-width:0.8;\"/>\r\n   </g>\r\n   <g id=\"patch_6\">\r\n    <path d=\"M 20.5625 23.878125 \r\nL 913.3625 23.878125 \r\n\" style=\"fill:none;stroke:#000000;stroke-linecap:square;stroke-linejoin:miter;stroke-width:0.8;\"/>\r\n   </g>\r\n  </g>\r\n </g>\r\n <defs>\r\n  <clipPath id=\"pbb1d005ec1\">\r\n   <rect height=\"11.16\" width=\"892.8\" x=\"20.5625\" y=\"23.878125\"/>\r\n  </clipPath>\r\n </defs>\r\n</svg>\r\n",
      "image/png": "[encoded data removed]"
     },
     "metadata": {
      "needs_background": "light"
     }
    }
   ],
   "source": [
    "# 선택된 특성을 boolen 값으로 표시\n",
    "mask = select.get_support()\n",
    "print(mask)\n",
    "\n",
    "plt.matshow(mask.reshape(1, -1), cmap='gray')\n",
    "plt.yticks([0])"
   ]
  },
  {
   "cell_type": "markdown",
   "metadata": {
    "colab_type": "text",
    "id": "q3rkhYCr9178",
    "slideshow": {
     "slide_type": "slide"
    }
   },
   "source": [
    "- 선택된 특성은 대부분 원본 특성이고 노이즈 특성이 거의 모두 제거"
   ]
  },
  {
   "cell_type": "markdown",
   "metadata": {
    "colab_type": "text",
    "id": "uaglCaRlA4l8",
    "slideshow": {
     "slide_type": "slide"
    }
   },
   "source": [
    "전체 특성을 이용했을 때와 선택된 특성만 사용했을 때의 성능 비교"
   ]
  },
  {
   "cell_type": "code",
   "execution_count": 25,
   "metadata": {
    "colab": {
     "base_uri": "https://localhost:8080/",
     "height": 53
    },
    "colab_type": "code",
    "executionInfo": {
     "elapsed": 752,
     "status": "ok",
     "timestamp": 1598180369735,
     "user": {
      "displayName": "oz To",
      "photoUrl": "",
      "userId": "12937505880450462933"
     },
     "user_tz": -540
    },
    "id": "MS27KZzAA1j1",
    "outputId": "a95a3d43-c765-4810-8a1b-4a83c7e67859",
    "slideshow": {
     "slide_type": "slide"
    },
    "tags": []
   },
   "outputs": [
    {
     "output_type": "stream",
     "name": "stdout",
     "text": "0.9157894736842105\n0.9192982456140351\n"
    }
   ],
   "source": [
    "from sklearn.linear_model import LogisticRegression\n",
    "\n",
    "# 특성 선택\n",
    "X_test_selected = select.transform(X_test)\n",
    "\n",
    "model_lr = LogisticRegression()\n",
    "model_lr.fit(X_train, y_train)\n",
    "\n",
    "# 전체 특성을 사용한 점수\n",
    "score = model_lr.score(X_test, y_test)\n",
    "print(score)\n",
    "\n",
    "# 선택된 일부 특성을 사용한 점수\n",
    "model_lr.fit(X_train_selected, y_train)\n",
    "score = model_lr.score(X_test_selected, y_test)\n",
    "print(score)"
   ]
  },
  {
   "cell_type": "markdown",
   "metadata": {
    "colab_type": "text",
    "id": "vt-P9FDP-VUk",
    "slideshow": {
     "slide_type": "slide"
    }
   },
   "source": [
    "- 일부 원본 특성이 없더라도 노이즈 특성을 제거한 쪽의 성능이 더 높음\n",
    "- 너무 많은 특성 때문에 모델을 만들기가 현실적으로 어려울 때 사용\n",
    "- 많은 특성들이 확실히 도움이 안 된다고 생각될 때 사용"
   ]
  },
  {
   "cell_type": "markdown",
   "metadata": {
    "colab_type": "text",
    "id": "kcbT93-nBqJu",
    "slideshow": {
     "slide_type": "slide"
    }
   },
   "source": [
    "### 모델 기반 선택(model-based selection)\n",
    "\n",
    "- 지도 학습 머신러닝 모델을 사용하여 특성의 중요도를 평가해서 가장 중요한 것만 선택\n",
    "\n",
    "- 지도학습 모델은 최종적으로 사용할 학습 모델과 같은 필요는 없음\n",
    "\n",
    "- 특성 선택을 위한 모델은 각 특성의 중요도를 측정하여 순서 매길 수 있어야 함\n",
    "\n",
    "- 결정트리 기반의 모델들은 각 특성의 중요도를 feature_importances_에 저장"
   ]
  },
  {
   "cell_type": "code",
   "execution_count": 26,
   "metadata": {
    "colab": {},
    "colab_type": "code",
    "executionInfo": {
     "elapsed": 711,
     "status": "ok",
     "timestamp": 1598180686153,
     "user": {
      "displayName": "oz To",
      "photoUrl": "",
      "userId": "12937505880450462933"
     },
     "user_tz": -540
    },
    "id": "W1HHTRohCMt1",
    "slideshow": {
     "slide_type": "slide"
    }
   },
   "outputs": [],
   "source": [
    "from sklearn.feature_selection import SelectFromModel\n",
    "from sklearn.ensemble import RandomForestClassifier\n",
    "\n",
    "# (지도 학습 모델로 계산된) 중요도가 지정한 임계치보다 큰 모든 특성 선택\n",
    "# 일변량 분석으로 선택한 특성과 결과를 비교하기 위해 \n",
    "# 절반 가량의 특성이 선택될수 있도록 중간값을 임계치로 사용 - median\n",
    "select1 = SelectFromModel(RandomForestClassifier(n_estimators=100, random_state=0), threshold='median')"
   ]
  },
  {
   "cell_type": "code",
   "execution_count": 27,
   "metadata": {
    "colab": {
     "base_uri": "https://localhost:8080/",
     "height": 53
    },
    "colab_type": "code",
    "executionInfo": {
     "elapsed": 753,
     "status": "ok",
     "timestamp": 1598180781793,
     "user": {
      "displayName": "oz To",
      "photoUrl": "",
      "userId": "12937505880450462933"
     },
     "user_tz": -540
    },
    "id": "dPhR_olNCbKV",
    "outputId": "ca706414-d7c4-4eb2-96af-181c6c250013",
    "slideshow": {
     "slide_type": "slide"
    },
    "tags": []
   },
   "outputs": [
    {
     "output_type": "stream",
     "name": "stdout",
     "text": "(284, 40)\n0.9298245614035088\n0.9403508771929825\n"
    }
   ],
   "source": [
    "# 특성 선택\n",
    "select1.fit(X_train, y_train)\n",
    "\n",
    "X_train_selected1 = select1.transform(X_train)\n",
    "\n",
    "print(X_train_selected1.shape)\n",
    "\n",
    "X_test_selected1 = select1.transform(X_test)\n",
    "\n",
    "model_rt = RandomForestClassifier(n_estimators=100, random_state=0)\n",
    "model_rt.fit(X_train, y_train)\n",
    "\n",
    "# 전체 특성을 사용한 점수\n",
    "score = model_rt.score(X_test, y_test)\n",
    "print(score)\n",
    "\n",
    "# 선택된 일부 특성을 사용한 점수\n",
    "model_rt.fit(X_train_selected1, y_train)\n",
    "score = model_rt.score(X_test_selected1, y_test)\n",
    "print(score)"
   ]
  },
  {
   "cell_type": "code",
   "execution_count": 28,
   "metadata": {
    "colab": {
     "base_uri": "https://localhost:8080/",
     "height": 55
    },
    "colab_type": "code",
    "executionInfo": {
     "elapsed": 724,
     "status": "ok",
     "timestamp": 1598180814965,
     "user": {
      "displayName": "oz To",
      "photoUrl": "",
      "userId": "12937505880450462933"
     },
     "user_tz": -540
    },
    "id": "rnDOJI5JCiNH",
    "outputId": "a5a77ef8-0540-4451-9e5b-4c03c134ec0e",
    "slideshow": {
     "slide_type": "slide"
    },
    "tags": []
   },
   "outputs": [
    {
     "output_type": "stream",
     "name": "stdout",
     "text": "[ True  True  True  True  True  True  True  True  True False  True False\n  True  True  True  True  True  True False False  True  True  True  True\n  True  True  True  True  True  True False False False  True False  True\n False False  True False False False False  True False False  True False\n False  True False  True False False False False False False  True False\n  True False False False False  True False  True False False False False\n  True  True False  True False False False False]\n"
    },
    {
     "output_type": "execute_result",
     "data": {
      "text/plain": "([<matplotlib.axis.YTick at 0x24fdfbd4d08>],\n <a list of 1 Text major ticklabel objects>)"
     },
     "metadata": {},
     "execution_count": 28
    },
    {
     "output_type": "display_data",
     "data": {
      "text/plain": "<Figure size 1152x144 with 1 Axes>",
      "image/svg+xml": "<?xml version=\"1.0\" encoding=\"utf-8\" standalone=\"no\"?>\r\n<!DOCTYPE svg PUBLIC \"-//W3C//DTD SVG 1.1//EN\"\r\n  \"http://www.w3.org/Graphics/SVG/1.1/DTD/svg11.dtd\">\r\n<!-- Created with matplotlib (https://matplotlib.org/) -->\r\n<svg height=\"45.738125pt\" version=\"1.1\" viewBox=\"0 0 920.5625 45.738125\" width=\"920.5625pt\" xmlns=\"http://www.w3.org/2000/svg\" xmlns:xlink=\"http://www.w3.org/1999/xlink\">\r\n <defs>\r\n  <style type=\"text/css\">\r\n*{stroke-linecap:butt;stroke-linejoin:round;}\r\n  </style>\r\n </defs>\r\n <g id=\"figure_1\">\r\n  <g id=\"patch_1\">\r\n   <path d=\"M 0 45.738125 \r\nL 920.5625 45.738125 \r\nL 920.5625 0 \r\nL 0 0 \r\nz\r\n\" style=\"fill:none;\"/>\r\n  </g>\r\n  <g id=\"axes_1\">\r\n   <g id=\"patch_2\">\r\n    <path d=\"M 20.5625 35.038125 \r\nL 913.3625 35.038125 \r\nL 913.3625 23.878125 \r\nL 20.5625 23.878125 \r\nz\r\n\" style=\"fill:#ffffff;\"/>\r\n   </g>\r\n   <g clip-path=\"url(#p22819de558)\">\r\n    <image height=\"12\" id=\"imagefc8fa2a843\" transform=\"scale(1 -1)translate(0 -12)\" width=\"893\" x=\"20.5625\" xlink:href=\"data:image/png;base64,\r\niVBORw0KGgoAAAANSUhEUgAAA30AAAAMCAYAAADWHNRAAAAABHNCSVQICAgIfAhkiAAAAJxJREFUeJzt18ENwCAMA0Do/jvTFUqlVMG9e/MIJkLyXGutwS/MOR+f7bAWO/OOUTfzabnxjaq92N37HV3mOE1ybpV/VocsurxdlzmqVN3vxNxkUS89i6r7XW+GAQAA4AxKHwAAQDClDwAAIJjSBwAAEEzpAwAACKb0AQAABFP6AAAAgil9AAAAwZQ+AACAYEofAABAMKUPAAAg2A3gozEXxNekjQAAAABJRU5ErkJggg==\" y=\"-23.038125\"/>\r\n   </g>\r\n   <g id=\"matplotlib.axis_1\">\r\n    <g id=\"xtick_1\">\r\n     <g id=\"line2d_1\">\r\n      <defs>\r\n       <path d=\"M 0 0 \r\nL 0 3.5 \r\n\" id=\"m02cb2ad787\" style=\"stroke:#000000;stroke-width:0.8;\"/>\r\n      </defs>\r\n      <g>\r\n       <use style=\"stroke:#000000;stroke-width:0.8;\" x=\"26.1425\" xlink:href=\"#m02cb2ad787\" y=\"35.038125\"/>\r\n      </g>\r\n     </g>\r\n     <g id=\"line2d_2\">\r\n      <defs>\r\n       <path d=\"M 0 0 \r\nL 0 -3.5 \r\n\" id=\"m4eaad7e10c\" style=\"stroke:#000000;stroke-width:0.8;\"/>\r\n      </defs>\r\n      <g>\r\n       <use style=\"stroke:#000000;stroke-width:0.8;\" x=\"26.1425\" xlink:href=\"#m4eaad7e10c\" y=\"23.878125\"/>\r\n      </g>\r\n     </g>\r\n     <g id=\"text_1\">\r\n      <!-- 0 -->\r\n      <defs>\r\n       <path d=\"M 31.78125 66.40625 \r\nQ 24.171875 66.40625 20.328125 58.90625 \r\nQ 16.5 51.421875 16.5 36.375 \r\nQ 16.5 21.390625 20.328125 13.890625 \r\nQ 24.171875 6.390625 31.78125 6.390625 \r\nQ 39.453125 6.390625 43.28125 13.890625 \r\nQ 47.125 21.390625 47.125 36.375 \r\nQ 47.125 51.421875 43.28125 58.90625 \r\nQ 39.453125 66.40625 31.78125 66.40625 \r\nz\r\nM 31.78125 74.21875 \r\nQ 44.046875 74.21875 50.515625 64.515625 \r\nQ 56.984375 54.828125 56.984375 36.375 \r\nQ 56.984375 17.96875 50.515625 8.265625 \r\nQ 44.046875 -1.421875 31.78125 -1.421875 \r\nQ 19.53125 -1.421875 13.0625 8.265625 \r\nQ 6.59375 17.96875 6.59375 36.375 \r\nQ 6.59375 54.828125 13.0625 64.515625 \r\nQ 19.53125 74.21875 31.78125 74.21875 \r\nz\r\n\" id=\"DejaVuSans-48\"/>\r\n      </defs>\r\n      <g transform=\"translate(22.96125 14.798437)scale(0.1 -0.1)\">\r\n       <use xlink:href=\"#DejaVuSans-48\"/>\r\n      </g>\r\n     </g>\r\n    </g>\r\n    <g id=\"xtick_2\">\r\n     <g id=\"line2d_3\">\r\n      <g>\r\n       <use style=\"stroke:#000000;stroke-width:0.8;\" x=\"137.7425\" xlink:href=\"#m02cb2ad787\" y=\"35.038125\"/>\r\n      </g>\r\n     </g>\r\n     <g id=\"line2d_4\">\r\n      <g>\r\n       <use style=\"stroke:#000000;stroke-width:0.8;\" x=\"137.7425\" xlink:href=\"#m4eaad7e10c\" y=\"23.878125\"/>\r\n      </g>\r\n     </g>\r\n     <g id=\"text_2\">\r\n      <!-- 10 -->\r\n      <defs>\r\n       <path d=\"M 12.40625 8.296875 \r\nL 28.515625 8.296875 \r\nL 28.515625 63.921875 \r\nL 10.984375 60.40625 \r\nL 10.984375 69.390625 \r\nL 28.421875 72.90625 \r\nL 38.28125 72.90625 \r\nL 38.28125 8.296875 \r\nL 54.390625 8.296875 \r\nL 54.390625 0 \r\nL 12.40625 0 \r\nz\r\n\" id=\"DejaVuSans-49\"/>\r\n      </defs>\r\n      <g transform=\"translate(131.38 14.798437)scale(0.1 -0.1)\">\r\n       <use xlink:href=\"#DejaVuSans-49\"/>\r\n       <use x=\"63.623047\" xlink:href=\"#DejaVuSans-48\"/>\r\n      </g>\r\n     </g>\r\n    </g>\r\n    <g id=\"xtick_3\">\r\n     <g id=\"line2d_5\">\r\n      <g>\r\n       <use style=\"stroke:#000000;stroke-width:0.8;\" x=\"249.3425\" xlink:href=\"#m02cb2ad787\" y=\"35.038125\"/>\r\n      </g>\r\n     </g>\r\n     <g id=\"line2d_6\">\r\n      <g>\r\n       <use style=\"stroke:#000000;stroke-width:0.8;\" x=\"249.3425\" xlink:href=\"#m4eaad7e10c\" y=\"23.878125\"/>\r\n      </g>\r\n     </g>\r\n     <g id=\"text_3\">\r\n      <!-- 20 -->\r\n      <defs>\r\n       <path d=\"M 19.1875 8.296875 \r\nL 53.609375 8.296875 \r\nL 53.609375 0 \r\nL 7.328125 0 \r\nL 7.328125 8.296875 \r\nQ 12.9375 14.109375 22.625 23.890625 \r\nQ 32.328125 33.6875 34.8125 36.53125 \r\nQ 39.546875 41.84375 41.421875 45.53125 \r\nQ 43.3125 49.21875 43.3125 52.78125 \r\nQ 43.3125 58.59375 39.234375 62.25 \r\nQ 35.15625 65.921875 28.609375 65.921875 \r\nQ 23.96875 65.921875 18.8125 64.3125 \r\nQ 13.671875 62.703125 7.8125 59.421875 \r\nL 7.8125 69.390625 \r\nQ 13.765625 71.78125 18.9375 73 \r\nQ 24.125 74.21875 28.421875 74.21875 \r\nQ 39.75 74.21875 46.484375 68.546875 \r\nQ 53.21875 62.890625 53.21875 53.421875 \r\nQ 53.21875 48.921875 51.53125 44.890625 \r\nQ 49.859375 40.875 45.40625 35.40625 \r\nQ 44.1875 33.984375 37.640625 27.21875 \r\nQ 31.109375 20.453125 19.1875 8.296875 \r\nz\r\n\" id=\"DejaVuSans-50\"/>\r\n      </defs>\r\n      <g transform=\"translate(242.98 14.798437)scale(0.1 -0.1)\">\r\n       <use xlink:href=\"#DejaVuSans-50\"/>\r\n       <use x=\"63.623047\" xlink:href=\"#DejaVuSans-48\"/>\r\n      </g>\r\n     </g>\r\n    </g>\r\n    <g id=\"xtick_4\">\r\n     <g id=\"line2d_7\">\r\n      <g>\r\n       <use style=\"stroke:#000000;stroke-width:0.8;\" x=\"360.9425\" xlink:href=\"#m02cb2ad787\" y=\"35.038125\"/>\r\n      </g>\r\n     </g>\r\n     <g id=\"line2d_8\">\r\n      <g>\r\n       <use style=\"stroke:#000000;stroke-width:0.8;\" x=\"360.9425\" xlink:href=\"#m4eaad7e10c\" y=\"23.878125\"/>\r\n      </g>\r\n     </g>\r\n     <g id=\"text_4\">\r\n      <!-- 30 -->\r\n      <defs>\r\n       <path d=\"M 40.578125 39.3125 \r\nQ 47.65625 37.796875 51.625 33 \r\nQ 55.609375 28.21875 55.609375 21.1875 \r\nQ 55.609375 10.40625 48.1875 4.484375 \r\nQ 40.765625 -1.421875 27.09375 -1.421875 \r\nQ 22.515625 -1.421875 17.65625 -0.515625 \r\nQ 12.796875 0.390625 7.625 2.203125 \r\nL 7.625 11.71875 \r\nQ 11.71875 9.328125 16.59375 8.109375 \r\nQ 21.484375 6.890625 26.8125 6.890625 \r\nQ 36.078125 6.890625 40.9375 10.546875 \r\nQ 45.796875 14.203125 45.796875 21.1875 \r\nQ 45.796875 27.640625 41.28125 31.265625 \r\nQ 36.765625 34.90625 28.71875 34.90625 \r\nL 20.21875 34.90625 \r\nL 20.21875 43.015625 \r\nL 29.109375 43.015625 \r\nQ 36.375 43.015625 40.234375 45.921875 \r\nQ 44.09375 48.828125 44.09375 54.296875 \r\nQ 44.09375 59.90625 40.109375 62.90625 \r\nQ 36.140625 65.921875 28.71875 65.921875 \r\nQ 24.65625 65.921875 20.015625 65.03125 \r\nQ 15.375 64.15625 9.8125 62.3125 \r\nL 9.8125 71.09375 \r\nQ 15.4375 72.65625 20.34375 73.4375 \r\nQ 25.25 74.21875 29.59375 74.21875 \r\nQ 40.828125 74.21875 47.359375 69.109375 \r\nQ 53.90625 64.015625 53.90625 55.328125 \r\nQ 53.90625 49.265625 50.4375 45.09375 \r\nQ 46.96875 40.921875 40.578125 39.3125 \r\nz\r\n\" id=\"DejaVuSans-51\"/>\r\n      </defs>\r\n      <g transform=\"translate(354.58 14.798437)scale(0.1 -0.1)\">\r\n       <use xlink:href=\"#DejaVuSans-51\"/>\r\n       <use x=\"63.623047\" xlink:href=\"#DejaVuSans-48\"/>\r\n      </g>\r\n     </g>\r\n    </g>\r\n    <g id=\"xtick_5\">\r\n     <g id=\"line2d_9\">\r\n      <g>\r\n       <use style=\"stroke:#000000;stroke-width:0.8;\" x=\"472.5425\" xlink:href=\"#m02cb2ad787\" y=\"35.038125\"/>\r\n      </g>\r\n     </g>\r\n     <g id=\"line2d_10\">\r\n      <g>\r\n       <use style=\"stroke:#000000;stroke-width:0.8;\" x=\"472.5425\" xlink:href=\"#m4eaad7e10c\" y=\"23.878125\"/>\r\n      </g>\r\n     </g>\r\n     <g id=\"text_5\">\r\n      <!-- 40 -->\r\n      <defs>\r\n       <path d=\"M 37.796875 64.3125 \r\nL 12.890625 25.390625 \r\nL 37.796875 25.390625 \r\nz\r\nM 35.203125 72.90625 \r\nL 47.609375 72.90625 \r\nL 47.609375 25.390625 \r\nL 58.015625 25.390625 \r\nL 58.015625 17.1875 \r\nL 47.609375 17.1875 \r\nL 47.609375 0 \r\nL 37.796875 0 \r\nL 37.796875 17.1875 \r\nL 4.890625 17.1875 \r\nL 4.890625 26.703125 \r\nz\r\n\" id=\"DejaVuSans-52\"/>\r\n      </defs>\r\n      <g transform=\"translate(466.18 14.798437)scale(0.1 -0.1)\">\r\n       <use xlink:href=\"#DejaVuSans-52\"/>\r\n       <use x=\"63.623047\" xlink:href=\"#DejaVuSans-48\"/>\r\n      </g>\r\n     </g>\r\n    </g>\r\n    <g id=\"xtick_6\">\r\n     <g id=\"line2d_11\">\r\n      <g>\r\n       <use style=\"stroke:#000000;stroke-width:0.8;\" x=\"584.1425\" xlink:href=\"#m02cb2ad787\" y=\"35.038125\"/>\r\n      </g>\r\n     </g>\r\n     <g id=\"line2d_12\">\r\n      <g>\r\n       <use style=\"stroke:#000000;stroke-width:0.8;\" x=\"584.1425\" xlink:href=\"#m4eaad7e10c\" y=\"23.878125\"/>\r\n      </g>\r\n     </g>\r\n     <g id=\"text_6\">\r\n      <!-- 50 -->\r\n      <defs>\r\n       <path d=\"M 10.796875 72.90625 \r\nL 49.515625 72.90625 \r\nL 49.515625 64.59375 \r\nL 19.828125 64.59375 \r\nL 19.828125 46.734375 \r\nQ 21.96875 47.46875 24.109375 47.828125 \r\nQ 26.265625 48.1875 28.421875 48.1875 \r\nQ 40.625 48.1875 47.75 41.5 \r\nQ 54.890625 34.8125 54.890625 23.390625 \r\nQ 54.890625 11.625 47.5625 5.09375 \r\nQ 40.234375 -1.421875 26.90625 -1.421875 \r\nQ 22.3125 -1.421875 17.546875 -0.640625 \r\nQ 12.796875 0.140625 7.71875 1.703125 \r\nL 7.71875 11.625 \r\nQ 12.109375 9.234375 16.796875 8.0625 \r\nQ 21.484375 6.890625 26.703125 6.890625 \r\nQ 35.15625 6.890625 40.078125 11.328125 \r\nQ 45.015625 15.765625 45.015625 23.390625 \r\nQ 45.015625 31 40.078125 35.4375 \r\nQ 35.15625 39.890625 26.703125 39.890625 \r\nQ 22.75 39.890625 18.8125 39.015625 \r\nQ 14.890625 38.140625 10.796875 36.28125 \r\nz\r\n\" id=\"DejaVuSans-53\"/>\r\n      </defs>\r\n      <g transform=\"translate(577.78 14.798437)scale(0.1 -0.1)\">\r\n       <use xlink:href=\"#DejaVuSans-53\"/>\r\n       <use x=\"63.623047\" xlink:href=\"#DejaVuSans-48\"/>\r\n      </g>\r\n     </g>\r\n    </g>\r\n    <g id=\"xtick_7\">\r\n     <g id=\"line2d_13\">\r\n      <g>\r\n       <use style=\"stroke:#000000;stroke-width:0.8;\" x=\"695.7425\" xlink:href=\"#m02cb2ad787\" y=\"35.038125\"/>\r\n      </g>\r\n     </g>\r\n     <g id=\"line2d_14\">\r\n      <g>\r\n       <use style=\"stroke:#000000;stroke-width:0.8;\" x=\"695.7425\" xlink:href=\"#m4eaad7e10c\" y=\"23.878125\"/>\r\n      </g>\r\n     </g>\r\n     <g id=\"text_7\">\r\n      <!-- 60 -->\r\n      <defs>\r\n       <path d=\"M 33.015625 40.375 \r\nQ 26.375 40.375 22.484375 35.828125 \r\nQ 18.609375 31.296875 18.609375 23.390625 \r\nQ 18.609375 15.53125 22.484375 10.953125 \r\nQ 26.375 6.390625 33.015625 6.390625 \r\nQ 39.65625 6.390625 43.53125 10.953125 \r\nQ 47.40625 15.53125 47.40625 23.390625 \r\nQ 47.40625 31.296875 43.53125 35.828125 \r\nQ 39.65625 40.375 33.015625 40.375 \r\nz\r\nM 52.59375 71.296875 \r\nL 52.59375 62.3125 \r\nQ 48.875 64.0625 45.09375 64.984375 \r\nQ 41.3125 65.921875 37.59375 65.921875 \r\nQ 27.828125 65.921875 22.671875 59.328125 \r\nQ 17.53125 52.734375 16.796875 39.40625 \r\nQ 19.671875 43.65625 24.015625 45.921875 \r\nQ 28.375 48.1875 33.59375 48.1875 \r\nQ 44.578125 48.1875 50.953125 41.515625 \r\nQ 57.328125 34.859375 57.328125 23.390625 \r\nQ 57.328125 12.15625 50.6875 5.359375 \r\nQ 44.046875 -1.421875 33.015625 -1.421875 \r\nQ 20.359375 -1.421875 13.671875 8.265625 \r\nQ 6.984375 17.96875 6.984375 36.375 \r\nQ 6.984375 53.65625 15.1875 63.9375 \r\nQ 23.390625 74.21875 37.203125 74.21875 \r\nQ 40.921875 74.21875 44.703125 73.484375 \r\nQ 48.484375 72.75 52.59375 71.296875 \r\nz\r\n\" id=\"DejaVuSans-54\"/>\r\n      </defs>\r\n      <g transform=\"translate(689.38 14.798437)scale(0.1 -0.1)\">\r\n       <use xlink:href=\"#DejaVuSans-54\"/>\r\n       <use x=\"63.623047\" xlink:href=\"#DejaVuSans-48\"/>\r\n      </g>\r\n     </g>\r\n    </g>\r\n    <g id=\"xtick_8\">\r\n     <g id=\"line2d_15\">\r\n      <g>\r\n       <use style=\"stroke:#000000;stroke-width:0.8;\" x=\"807.3425\" xlink:href=\"#m02cb2ad787\" y=\"35.038125\"/>\r\n      </g>\r\n     </g>\r\n     <g id=\"line2d_16\">\r\n      <g>\r\n       <use style=\"stroke:#000000;stroke-width:0.8;\" x=\"807.3425\" xlink:href=\"#m4eaad7e10c\" y=\"23.878125\"/>\r\n      </g>\r\n     </g>\r\n     <g id=\"text_8\">\r\n      <!-- 70 -->\r\n      <defs>\r\n       <path d=\"M 8.203125 72.90625 \r\nL 55.078125 72.90625 \r\nL 55.078125 68.703125 \r\nL 28.609375 0 \r\nL 18.3125 0 \r\nL 43.21875 64.59375 \r\nL 8.203125 64.59375 \r\nz\r\n\" id=\"DejaVuSans-55\"/>\r\n      </defs>\r\n      <g transform=\"translate(800.98 14.798437)scale(0.1 -0.1)\">\r\n       <use xlink:href=\"#DejaVuSans-55\"/>\r\n       <use x=\"63.623047\" xlink:href=\"#DejaVuSans-48\"/>\r\n      </g>\r\n     </g>\r\n    </g>\r\n   </g>\r\n   <g id=\"matplotlib.axis_2\">\r\n    <g id=\"ytick_1\">\r\n     <g id=\"line2d_17\">\r\n      <defs>\r\n       <path d=\"M 0 0 \r\nL -3.5 0 \r\n\" id=\"m0d76ed2506\" style=\"stroke:#000000;stroke-width:0.8;\"/>\r\n      </defs>\r\n      <g>\r\n       <use style=\"stroke:#000000;stroke-width:0.8;\" x=\"20.5625\" xlink:href=\"#m0d76ed2506\" y=\"29.458125\"/>\r\n      </g>\r\n     </g>\r\n     <g id=\"text_9\">\r\n      <!-- 0 -->\r\n      <g transform=\"translate(7.2 33.257344)scale(0.1 -0.1)\">\r\n       <use xlink:href=\"#DejaVuSans-48\"/>\r\n      </g>\r\n     </g>\r\n    </g>\r\n   </g>\r\n   <g id=\"patch_3\">\r\n    <path d=\"M 20.5625 35.038125 \r\nL 20.5625 23.878125 \r\n\" style=\"fill:none;stroke:#000000;stroke-linecap:square;stroke-linejoin:miter;stroke-width:0.8;\"/>\r\n   </g>\r\n   <g id=\"patch_4\">\r\n    <path d=\"M 913.3625 35.038125 \r\nL 913.3625 23.878125 \r\n\" style=\"fill:none;stroke:#000000;stroke-linecap:square;stroke-linejoin:miter;stroke-width:0.8;\"/>\r\n   </g>\r\n   <g id=\"patch_5\">\r\n    <path d=\"M 20.5625 35.038125 \r\nL 913.3625 35.038125 \r\n\" style=\"fill:none;stroke:#000000;stroke-linecap:square;stroke-linejoin:miter;stroke-width:0.8;\"/>\r\n   </g>\r\n   <g id=\"patch_6\">\r\n    <path d=\"M 20.5625 23.878125 \r\nL 913.3625 23.878125 \r\n\" style=\"fill:none;stroke:#000000;stroke-linecap:square;stroke-linejoin:miter;stroke-width:0.8;\"/>\r\n   </g>\r\n  </g>\r\n </g>\r\n <defs>\r\n  <clipPath id=\"p22819de558\">\r\n   <rect height=\"11.16\" width=\"892.8\" x=\"20.5625\" y=\"23.878125\"/>\r\n  </clipPath>\r\n </defs>\r\n</svg>\r\n",
      "image/png": "[encoded data removed]"
     },
     "metadata": {
      "needs_background": "light"
     }
    }
   ],
   "source": [
    "# 선택된 특성을 boolen 값으로 표시\n",
    "mask1 = select1.get_support()\n",
    "print(mask)\n",
    "\n",
    "plt.matshow(mask1.reshape(1, -1), cmap='gray')\n",
    "plt.yticks([0])\n"
   ]
  },
  {
   "cell_type": "markdown",
   "metadata": {
    "colab_type": "text",
    "id": "c9RTkuiICtFF",
    "slideshow": {
     "slide_type": "slide"
    }
   },
   "source": [
    "- 두 개를 제외한 모든 원본 특성이 선택 (특성을 40개 선택 -> 일부 노이즈도 선택) \n",
    "\n"
   ]
  },
  {
   "cell_type": "code",
   "execution_count": 29,
   "metadata": {
    "colab": {
     "base_uri": "https://localhost:8080/",
     "height": 35
    },
    "colab_type": "code",
    "executionInfo": {
     "elapsed": 766,
     "status": "ok",
     "timestamp": 1598180993245,
     "user": {
      "displayName": "oz To",
      "photoUrl": "",
      "userId": "12937505880450462933"
     },
     "user_tz": -540
    },
    "id": "gksVQhEPDN00",
    "outputId": "df0f0b62-6ff2-4fe0-8dd0-afbdabfcecb2",
    "slideshow": {
     "slide_type": "slide"
    },
    "tags": []
   },
   "outputs": [
    {
     "output_type": "stream",
     "name": "stdout",
     "text": "0.9298245614035088\n0.9508771929824561\n[ True  True  True  True  True  True  True  True  True False  True False\n  True  True  True  True  True  True False False  True  True  True  True\n  True  True  True  True  True  True False False False  True False  True\n False False  True False False False False  True False False  True False\n False  True False  True False False False False False False  True False\n  True False False False False  True False  True False False False False\n  True  True False  True False False False False]\n"
    },
    {
     "output_type": "execute_result",
     "data": {
      "text/plain": "([<matplotlib.axis.YTick at 0x24fdfbd4dc8>],\n <a list of 1 Text major ticklabel objects>)"
     },
     "metadata": {},
     "execution_count": 29
    },
    {
     "output_type": "display_data",
     "data": {
      "text/plain": "<Figure size 1152x144 with 1 Axes>",
      "image/svg+xml": "<?xml version=\"1.0\" encoding=\"utf-8\" standalone=\"no\"?>\r\n<!DOCTYPE svg PUBLIC \"-//W3C//DTD SVG 1.1//EN\"\r\n  \"http://www.w3.org/Graphics/SVG/1.1/DTD/svg11.dtd\">\r\n<!-- Created with matplotlib (https://matplotlib.org/) -->\r\n<svg height=\"45.738125pt\" version=\"1.1\" viewBox=\"0 0 920.5625 45.738125\" width=\"920.5625pt\" xmlns=\"http://www.w3.org/2000/svg\" xmlns:xlink=\"http://www.w3.org/1999/xlink\">\r\n <defs>\r\n  <style type=\"text/css\">\r\n*{stroke-linecap:butt;stroke-linejoin:round;}\r\n  </style>\r\n </defs>\r\n <g id=\"figure_1\">\r\n  <g id=\"patch_1\">\r\n   <path d=\"M 0 45.738125 \r\nL 920.5625 45.738125 \r\nL 920.5625 0 \r\nL 0 0 \r\nz\r\n\" style=\"fill:none;\"/>\r\n  </g>\r\n  <g id=\"axes_1\">\r\n   <g id=\"patch_2\">\r\n    <path d=\"M 20.5625 35.038125 \r\nL 913.3625 35.038125 \r\nL 913.3625 23.878125 \r\nL 20.5625 23.878125 \r\nz\r\n\" style=\"fill:#ffffff;\"/>\r\n   </g>\r\n   <g clip-path=\"url(#p5e9a1c9081)\">\r\n    <image height=\"12\" id=\"imageeb202952a9\" transform=\"scale(1 -1)translate(0 -12)\" width=\"893\" x=\"20.5625\" xlink:href=\"data:image/png;base64,\r\niVBORw0KGgoAAAANSUhEUgAAA30AAAAMCAYAAADWHNRAAAAABHNCSVQICAgIfAhkiAAAAJxJREFUeJzt18ENwCAMA0Do/jvTFUqlVMG9e/MIJkLyXGutwS/MOR+f7bAWO/OOUTfzabnxjaq92N37HV3mOE1ybpV/VocsurxdlzmqVN3vxNxkUS89i6r7XW+GAQAA4AxKHwAAQDClDwAAIJjSBwAAEEzpAwAACKb0AQAABFP6AAAAgil9AAAAwZQ+AACAYEofAABAMKUPAAAg2A3gozEXxNekjQAAAABJRU5ErkJggg==\" y=\"-23.038125\"/>\r\n   </g>\r\n   <g id=\"matplotlib.axis_1\">\r\n    <g id=\"xtick_1\">\r\n     <g id=\"line2d_1\">\r\n      <defs>\r\n       <path d=\"M 0 0 \r\nL 0 3.5 \r\n\" id=\"mda36c79417\" style=\"stroke:#000000;stroke-width:0.8;\"/>\r\n      </defs>\r\n      <g>\r\n       <use style=\"stroke:#000000;stroke-width:0.8;\" x=\"26.1425\" xlink:href=\"#mda36c79417\" y=\"35.038125\"/>\r\n      </g>\r\n     </g>\r\n     <g id=\"line2d_2\">\r\n      <defs>\r\n       <path d=\"M 0 0 \r\nL 0 -3.5 \r\n\" id=\"m3c5e55e17a\" style=\"stroke:#000000;stroke-width:0.8;\"/>\r\n      </defs>\r\n      <g>\r\n       <use style=\"stroke:#000000;stroke-width:0.8;\" x=\"26.1425\" xlink:href=\"#m3c5e55e17a\" y=\"23.878125\"/>\r\n      </g>\r\n     </g>\r\n     <g id=\"text_1\">\r\n      <!-- 0 -->\r\n      <defs>\r\n       <path d=\"M 31.78125 66.40625 \r\nQ 24.171875 66.40625 20.328125 58.90625 \r\nQ 16.5 51.421875 16.5 36.375 \r\nQ 16.5 21.390625 20.328125 13.890625 \r\nQ 24.171875 6.390625 31.78125 6.390625 \r\nQ 39.453125 6.390625 43.28125 13.890625 \r\nQ 47.125 21.390625 47.125 36.375 \r\nQ 47.125 51.421875 43.28125 58.90625 \r\nQ 39.453125 66.40625 31.78125 66.40625 \r\nz\r\nM 31.78125 74.21875 \r\nQ 44.046875 74.21875 50.515625 64.515625 \r\nQ 56.984375 54.828125 56.984375 36.375 \r\nQ 56.984375 17.96875 50.515625 8.265625 \r\nQ 44.046875 -1.421875 31.78125 -1.421875 \r\nQ 19.53125 -1.421875 13.0625 8.265625 \r\nQ 6.59375 17.96875 6.59375 36.375 \r\nQ 6.59375 54.828125 13.0625 64.515625 \r\nQ 19.53125 74.21875 31.78125 74.21875 \r\nz\r\n\" id=\"DejaVuSans-48\"/>\r\n      </defs>\r\n      <g transform=\"translate(22.96125 14.798437)scale(0.1 -0.1)\">\r\n       <use xlink:href=\"#DejaVuSans-48\"/>\r\n      </g>\r\n     </g>\r\n    </g>\r\n    <g id=\"xtick_2\">\r\n     <g id=\"line2d_3\">\r\n      <g>\r\n       <use style=\"stroke:#000000;stroke-width:0.8;\" x=\"137.7425\" xlink:href=\"#mda36c79417\" y=\"35.038125\"/>\r\n      </g>\r\n     </g>\r\n     <g id=\"line2d_4\">\r\n      <g>\r\n       <use style=\"stroke:#000000;stroke-width:0.8;\" x=\"137.7425\" xlink:href=\"#m3c5e55e17a\" y=\"23.878125\"/>\r\n      </g>\r\n     </g>\r\n     <g id=\"text_2\">\r\n      <!-- 10 -->\r\n      <defs>\r\n       <path d=\"M 12.40625 8.296875 \r\nL 28.515625 8.296875 \r\nL 28.515625 63.921875 \r\nL 10.984375 60.40625 \r\nL 10.984375 69.390625 \r\nL 28.421875 72.90625 \r\nL 38.28125 72.90625 \r\nL 38.28125 8.296875 \r\nL 54.390625 8.296875 \r\nL 54.390625 0 \r\nL 12.40625 0 \r\nz\r\n\" id=\"DejaVuSans-49\"/>\r\n      </defs>\r\n      <g transform=\"translate(131.38 14.798437)scale(0.1 -0.1)\">\r\n       <use xlink:href=\"#DejaVuSans-49\"/>\r\n       <use x=\"63.623047\" xlink:href=\"#DejaVuSans-48\"/>\r\n      </g>\r\n     </g>\r\n    </g>\r\n    <g id=\"xtick_3\">\r\n     <g id=\"line2d_5\">\r\n      <g>\r\n       <use style=\"stroke:#000000;stroke-width:0.8;\" x=\"249.3425\" xlink:href=\"#mda36c79417\" y=\"35.038125\"/>\r\n      </g>\r\n     </g>\r\n     <g id=\"line2d_6\">\r\n      <g>\r\n       <use style=\"stroke:#000000;stroke-width:0.8;\" x=\"249.3425\" xlink:href=\"#m3c5e55e17a\" y=\"23.878125\"/>\r\n      </g>\r\n     </g>\r\n     <g id=\"text_3\">\r\n      <!-- 20 -->\r\n      <defs>\r\n       <path d=\"M 19.1875 8.296875 \r\nL 53.609375 8.296875 \r\nL 53.609375 0 \r\nL 7.328125 0 \r\nL 7.328125 8.296875 \r\nQ 12.9375 14.109375 22.625 23.890625 \r\nQ 32.328125 33.6875 34.8125 36.53125 \r\nQ 39.546875 41.84375 41.421875 45.53125 \r\nQ 43.3125 49.21875 43.3125 52.78125 \r\nQ 43.3125 58.59375 39.234375 62.25 \r\nQ 35.15625 65.921875 28.609375 65.921875 \r\nQ 23.96875 65.921875 18.8125 64.3125 \r\nQ 13.671875 62.703125 7.8125 59.421875 \r\nL 7.8125 69.390625 \r\nQ 13.765625 71.78125 18.9375 73 \r\nQ 24.125 74.21875 28.421875 74.21875 \r\nQ 39.75 74.21875 46.484375 68.546875 \r\nQ 53.21875 62.890625 53.21875 53.421875 \r\nQ 53.21875 48.921875 51.53125 44.890625 \r\nQ 49.859375 40.875 45.40625 35.40625 \r\nQ 44.1875 33.984375 37.640625 27.21875 \r\nQ 31.109375 20.453125 19.1875 8.296875 \r\nz\r\n\" id=\"DejaVuSans-50\"/>\r\n      </defs>\r\n      <g transform=\"translate(242.98 14.798437)scale(0.1 -0.1)\">\r\n       <use xlink:href=\"#DejaVuSans-50\"/>\r\n       <use x=\"63.623047\" xlink:href=\"#DejaVuSans-48\"/>\r\n      </g>\r\n     </g>\r\n    </g>\r\n    <g id=\"xtick_4\">\r\n     <g id=\"line2d_7\">\r\n      <g>\r\n       <use style=\"stroke:#000000;stroke-width:0.8;\" x=\"360.9425\" xlink:href=\"#mda36c79417\" y=\"35.038125\"/>\r\n      </g>\r\n     </g>\r\n     <g id=\"line2d_8\">\r\n      <g>\r\n       <use style=\"stroke:#000000;stroke-width:0.8;\" x=\"360.9425\" xlink:href=\"#m3c5e55e17a\" y=\"23.878125\"/>\r\n      </g>\r\n     </g>\r\n     <g id=\"text_4\">\r\n      <!-- 30 -->\r\n      <defs>\r\n       <path d=\"M 40.578125 39.3125 \r\nQ 47.65625 37.796875 51.625 33 \r\nQ 55.609375 28.21875 55.609375 21.1875 \r\nQ 55.609375 10.40625 48.1875 4.484375 \r\nQ 40.765625 -1.421875 27.09375 -1.421875 \r\nQ 22.515625 -1.421875 17.65625 -0.515625 \r\nQ 12.796875 0.390625 7.625 2.203125 \r\nL 7.625 11.71875 \r\nQ 11.71875 9.328125 16.59375 8.109375 \r\nQ 21.484375 6.890625 26.8125 6.890625 \r\nQ 36.078125 6.890625 40.9375 10.546875 \r\nQ 45.796875 14.203125 45.796875 21.1875 \r\nQ 45.796875 27.640625 41.28125 31.265625 \r\nQ 36.765625 34.90625 28.71875 34.90625 \r\nL 20.21875 34.90625 \r\nL 20.21875 43.015625 \r\nL 29.109375 43.015625 \r\nQ 36.375 43.015625 40.234375 45.921875 \r\nQ 44.09375 48.828125 44.09375 54.296875 \r\nQ 44.09375 59.90625 40.109375 62.90625 \r\nQ 36.140625 65.921875 28.71875 65.921875 \r\nQ 24.65625 65.921875 20.015625 65.03125 \r\nQ 15.375 64.15625 9.8125 62.3125 \r\nL 9.8125 71.09375 \r\nQ 15.4375 72.65625 20.34375 73.4375 \r\nQ 25.25 74.21875 29.59375 74.21875 \r\nQ 40.828125 74.21875 47.359375 69.109375 \r\nQ 53.90625 64.015625 53.90625 55.328125 \r\nQ 53.90625 49.265625 50.4375 45.09375 \r\nQ 46.96875 40.921875 40.578125 39.3125 \r\nz\r\n\" id=\"DejaVuSans-51\"/>\r\n      </defs>\r\n      <g transform=\"translate(354.58 14.798437)scale(0.1 -0.1)\">\r\n       <use xlink:href=\"#DejaVuSans-51\"/>\r\n       <use x=\"63.623047\" xlink:href=\"#DejaVuSans-48\"/>\r\n      </g>\r\n     </g>\r\n    </g>\r\n    <g id=\"xtick_5\">\r\n     <g id=\"line2d_9\">\r\n      <g>\r\n       <use style=\"stroke:#000000;stroke-width:0.8;\" x=\"472.5425\" xlink:href=\"#mda36c79417\" y=\"35.038125\"/>\r\n      </g>\r\n     </g>\r\n     <g id=\"line2d_10\">\r\n      <g>\r\n       <use style=\"stroke:#000000;stroke-width:0.8;\" x=\"472.5425\" xlink:href=\"#m3c5e55e17a\" y=\"23.878125\"/>\r\n      </g>\r\n     </g>\r\n     <g id=\"text_5\">\r\n      <!-- 40 -->\r\n      <defs>\r\n       <path d=\"M 37.796875 64.3125 \r\nL 12.890625 25.390625 \r\nL 37.796875 25.390625 \r\nz\r\nM 35.203125 72.90625 \r\nL 47.609375 72.90625 \r\nL 47.609375 25.390625 \r\nL 58.015625 25.390625 \r\nL 58.015625 17.1875 \r\nL 47.609375 17.1875 \r\nL 47.609375 0 \r\nL 37.796875 0 \r\nL 37.796875 17.1875 \r\nL 4.890625 17.1875 \r\nL 4.890625 26.703125 \r\nz\r\n\" id=\"DejaVuSans-52\"/>\r\n      </defs>\r\n      <g transform=\"translate(466.18 14.798437)scale(0.1 -0.1)\">\r\n       <use xlink:href=\"#DejaVuSans-52\"/>\r\n       <use x=\"63.623047\" xlink:href=\"#DejaVuSans-48\"/>\r\n      </g>\r\n     </g>\r\n    </g>\r\n    <g id=\"xtick_6\">\r\n     <g id=\"line2d_11\">\r\n      <g>\r\n       <use style=\"stroke:#000000;stroke-width:0.8;\" x=\"584.1425\" xlink:href=\"#mda36c79417\" y=\"35.038125\"/>\r\n      </g>\r\n     </g>\r\n     <g id=\"line2d_12\">\r\n      <g>\r\n       <use style=\"stroke:#000000;stroke-width:0.8;\" x=\"584.1425\" xlink:href=\"#m3c5e55e17a\" y=\"23.878125\"/>\r\n      </g>\r\n     </g>\r\n     <g id=\"text_6\">\r\n      <!-- 50 -->\r\n      <defs>\r\n       <path d=\"M 10.796875 72.90625 \r\nL 49.515625 72.90625 \r\nL 49.515625 64.59375 \r\nL 19.828125 64.59375 \r\nL 19.828125 46.734375 \r\nQ 21.96875 47.46875 24.109375 47.828125 \r\nQ 26.265625 48.1875 28.421875 48.1875 \r\nQ 40.625 48.1875 47.75 41.5 \r\nQ 54.890625 34.8125 54.890625 23.390625 \r\nQ 54.890625 11.625 47.5625 5.09375 \r\nQ 40.234375 -1.421875 26.90625 -1.421875 \r\nQ 22.3125 -1.421875 17.546875 -0.640625 \r\nQ 12.796875 0.140625 7.71875 1.703125 \r\nL 7.71875 11.625 \r\nQ 12.109375 9.234375 16.796875 8.0625 \r\nQ 21.484375 6.890625 26.703125 6.890625 \r\nQ 35.15625 6.890625 40.078125 11.328125 \r\nQ 45.015625 15.765625 45.015625 23.390625 \r\nQ 45.015625 31 40.078125 35.4375 \r\nQ 35.15625 39.890625 26.703125 39.890625 \r\nQ 22.75 39.890625 18.8125 39.015625 \r\nQ 14.890625 38.140625 10.796875 36.28125 \r\nz\r\n\" id=\"DejaVuSans-53\"/>\r\n      </defs>\r\n      <g transform=\"translate(577.78 14.798437)scale(0.1 -0.1)\">\r\n       <use xlink:href=\"#DejaVuSans-53\"/>\r\n       <use x=\"63.623047\" xlink:href=\"#DejaVuSans-48\"/>\r\n      </g>\r\n     </g>\r\n    </g>\r\n    <g id=\"xtick_7\">\r\n     <g id=\"line2d_13\">\r\n      <g>\r\n       <use style=\"stroke:#000000;stroke-width:0.8;\" x=\"695.7425\" xlink:href=\"#mda36c79417\" y=\"35.038125\"/>\r\n      </g>\r\n     </g>\r\n     <g id=\"line2d_14\">\r\n      <g>\r\n       <use style=\"stroke:#000000;stroke-width:0.8;\" x=\"695.7425\" xlink:href=\"#m3c5e55e17a\" y=\"23.878125\"/>\r\n      </g>\r\n     </g>\r\n     <g id=\"text_7\">\r\n      <!-- 60 -->\r\n      <defs>\r\n       <path d=\"M 33.015625 40.375 \r\nQ 26.375 40.375 22.484375 35.828125 \r\nQ 18.609375 31.296875 18.609375 23.390625 \r\nQ 18.609375 15.53125 22.484375 10.953125 \r\nQ 26.375 6.390625 33.015625 6.390625 \r\nQ 39.65625 6.390625 43.53125 10.953125 \r\nQ 47.40625 15.53125 47.40625 23.390625 \r\nQ 47.40625 31.296875 43.53125 35.828125 \r\nQ 39.65625 40.375 33.015625 40.375 \r\nz\r\nM 52.59375 71.296875 \r\nL 52.59375 62.3125 \r\nQ 48.875 64.0625 45.09375 64.984375 \r\nQ 41.3125 65.921875 37.59375 65.921875 \r\nQ 27.828125 65.921875 22.671875 59.328125 \r\nQ 17.53125 52.734375 16.796875 39.40625 \r\nQ 19.671875 43.65625 24.015625 45.921875 \r\nQ 28.375 48.1875 33.59375 48.1875 \r\nQ 44.578125 48.1875 50.953125 41.515625 \r\nQ 57.328125 34.859375 57.328125 23.390625 \r\nQ 57.328125 12.15625 50.6875 5.359375 \r\nQ 44.046875 -1.421875 33.015625 -1.421875 \r\nQ 20.359375 -1.421875 13.671875 8.265625 \r\nQ 6.984375 17.96875 6.984375 36.375 \r\nQ 6.984375 53.65625 15.1875 63.9375 \r\nQ 23.390625 74.21875 37.203125 74.21875 \r\nQ 40.921875 74.21875 44.703125 73.484375 \r\nQ 48.484375 72.75 52.59375 71.296875 \r\nz\r\n\" id=\"DejaVuSans-54\"/>\r\n      </defs>\r\n      <g transform=\"translate(689.38 14.798437)scale(0.1 -0.1)\">\r\n       <use xlink:href=\"#DejaVuSans-54\"/>\r\n       <use x=\"63.623047\" xlink:href=\"#DejaVuSans-48\"/>\r\n      </g>\r\n     </g>\r\n    </g>\r\n    <g id=\"xtick_8\">\r\n     <g id=\"line2d_15\">\r\n      <g>\r\n       <use style=\"stroke:#000000;stroke-width:0.8;\" x=\"807.3425\" xlink:href=\"#mda36c79417\" y=\"35.038125\"/>\r\n      </g>\r\n     </g>\r\n     <g id=\"line2d_16\">\r\n      <g>\r\n       <use style=\"stroke:#000000;stroke-width:0.8;\" x=\"807.3425\" xlink:href=\"#m3c5e55e17a\" y=\"23.878125\"/>\r\n      </g>\r\n     </g>\r\n     <g id=\"text_8\">\r\n      <!-- 70 -->\r\n      <defs>\r\n       <path d=\"M 8.203125 72.90625 \r\nL 55.078125 72.90625 \r\nL 55.078125 68.703125 \r\nL 28.609375 0 \r\nL 18.3125 0 \r\nL 43.21875 64.59375 \r\nL 8.203125 64.59375 \r\nz\r\n\" id=\"DejaVuSans-55\"/>\r\n      </defs>\r\n      <g transform=\"translate(800.98 14.798437)scale(0.1 -0.1)\">\r\n       <use xlink:href=\"#DejaVuSans-55\"/>\r\n       <use x=\"63.623047\" xlink:href=\"#DejaVuSans-48\"/>\r\n      </g>\r\n     </g>\r\n    </g>\r\n   </g>\r\n   <g id=\"matplotlib.axis_2\">\r\n    <g id=\"ytick_1\">\r\n     <g id=\"line2d_17\">\r\n      <defs>\r\n       <path d=\"M 0 0 \r\nL -3.5 0 \r\n\" id=\"m0ae888da95\" style=\"stroke:#000000;stroke-width:0.8;\"/>\r\n      </defs>\r\n      <g>\r\n       <use style=\"stroke:#000000;stroke-width:0.8;\" x=\"20.5625\" xlink:href=\"#m0ae888da95\" y=\"29.458125\"/>\r\n      </g>\r\n     </g>\r\n     <g id=\"text_9\">\r\n      <!-- 0 -->\r\n      <g transform=\"translate(7.2 33.257344)scale(0.1 -0.1)\">\r\n       <use xlink:href=\"#DejaVuSans-48\"/>\r\n      </g>\r\n     </g>\r\n    </g>\r\n   </g>\r\n   <g id=\"patch_3\">\r\n    <path d=\"M 20.5625 35.038125 \r\nL 20.5625 23.878125 \r\n\" style=\"fill:none;stroke:#000000;stroke-linecap:square;stroke-linejoin:miter;stroke-width:0.8;\"/>\r\n   </g>\r\n   <g id=\"patch_4\">\r\n    <path d=\"M 913.3625 35.038125 \r\nL 913.3625 23.878125 \r\n\" style=\"fill:none;stroke:#000000;stroke-linecap:square;stroke-linejoin:miter;stroke-width:0.8;\"/>\r\n   </g>\r\n   <g id=\"patch_5\">\r\n    <path d=\"M 20.5625 35.038125 \r\nL 913.3625 35.038125 \r\n\" style=\"fill:none;stroke:#000000;stroke-linecap:square;stroke-linejoin:miter;stroke-width:0.8;\"/>\r\n   </g>\r\n   <g id=\"patch_6\">\r\n    <path d=\"M 20.5625 23.878125 \r\nL 913.3625 23.878125 \r\n\" style=\"fill:none;stroke:#000000;stroke-linecap:square;stroke-linejoin:miter;stroke-width:0.8;\"/>\r\n   </g>\r\n  </g>\r\n </g>\r\n <defs>\r\n  <clipPath id=\"p5e9a1c9081\">\r\n   <rect height=\"11.16\" width=\"892.8\" x=\"20.5625\" y=\"23.878125\"/>\r\n  </clipPath>\r\n </defs>\r\n</svg>\r\n",
      "image/png": "[encoded data removed]"
     },
     "metadata": {
      "needs_background": "light"
     }
    }
   ],
   "source": [
    "# 특성 선택\n",
    "\n",
    "# LogisticRegression 적용\n",
    "\n",
    "# model_lr = LogisticRegression()\n",
    "model_lr = LogisticRegression(solver='liblinear')\n",
    "\n",
    "# 전체 특성을 사용한 점수\n",
    "model_lr.fit(X_train, y_train)\n",
    "score = model_lr.score(X_test, y_test)\n",
    "print(score)\n",
    "\n",
    "# 선택된 일부 특성을 사용한 점수\n",
    "model_lr.fit(X_train_selected1, y_train)\n",
    "score = model_lr.score(X_test_selected1, y_test)\n",
    "print(score)\n",
    "\n",
    "# 선택된 특성을 boolen 값으로 표시\n",
    "mask2 = select1.get_support()\n",
    "print(mask)\n",
    "\n",
    "plt.matshow(mask2.reshape(1, -1), cmap='gray')\n",
    "plt.yticks([0])"
   ]
  },
  {
   "cell_type": "markdown",
   "metadata": {
    "colab_type": "text",
    "id": "C4dwilApAWJc",
    "slideshow": {
     "slide_type": "slide"
    }
   },
   "source": [
    "- 특성 선택이 더 잘 되었으므로 성능도 조금 향상"
   ]
  },
  {
   "cell_type": "markdown",
   "metadata": {
    "colab_type": "text",
    "id": "IV39Cag1E3ae",
    "slideshow": {
     "slide_type": "slide"
    }
   },
   "source": [
    "### 반복적 특성 선택(iterative selection)\n",
    "\n",
    "- 특성의 수가 각기 다른 모델에서 만들어짐\n",
    "\n",
    "- 방법\n",
    "\n",
    "  1. 특성을 하나도 선택하지 않은 상태로 시작해 어떤 종료 조건을 도달할 때까지 하나씩 추가하는 방법\n",
    "  2. 모든 특성을 가지고 시작해 어떤 종료 조건이 될 때까지 하나씩 제거하는 방법"
   ]
  },
  {
   "cell_type": "code",
   "execution_count": 30,
   "metadata": {
    "colab": {
     "base_uri": "https://localhost:8080/",
     "height": 55
    },
    "colab_type": "code",
    "executionInfo": {
     "elapsed": 8743,
     "status": "ok",
     "timestamp": 1598181143286,
     "user": {
      "displayName": "oz To",
      "photoUrl": "",
      "userId": "12937505880450462933"
     },
     "user_tz": -540
    },
    "id": "7SfFH6jxFTiV",
    "outputId": "c5ea0494-19b6-4ada-fe35-c45008e6c504",
    "slideshow": {
     "slide_type": "slide"
    }
   },
   "outputs": [
    {
     "output_type": "execute_result",
     "data": {
      "text/plain": "([<matplotlib.axis.YTick at 0x24fdf6d3f08>],\n <a list of 1 Text major ticklabel objects>)"
     },
     "metadata": {},
     "execution_count": 30
    },
    {
     "output_type": "display_data",
     "data": {
      "text/plain": "<Figure size 1152x144 with 1 Axes>",
      "image/svg+xml": "<?xml version=\"1.0\" encoding=\"utf-8\" standalone=\"no\"?>\r\n<!DOCTYPE svg PUBLIC \"-//W3C//DTD SVG 1.1//EN\"\r\n  \"http://www.w3.org/Graphics/SVG/1.1/DTD/svg11.dtd\">\r\n<!-- Created with matplotlib (https://matplotlib.org/) -->\r\n<svg height=\"45.738125pt\" version=\"1.1\" viewBox=\"0 0 920.5625 45.738125\" width=\"920.5625pt\" xmlns=\"http://www.w3.org/2000/svg\" xmlns:xlink=\"http://www.w3.org/1999/xlink\">\r\n <defs>\r\n  <style type=\"text/css\">\r\n*{stroke-linecap:butt;stroke-linejoin:round;}\r\n  </style>\r\n </defs>\r\n <g id=\"figure_1\">\r\n  <g id=\"patch_1\">\r\n   <path d=\"M 0 45.738125 \r\nL 920.5625 45.738125 \r\nL 920.5625 0 \r\nL 0 0 \r\nz\r\n\" style=\"fill:none;\"/>\r\n  </g>\r\n  <g id=\"axes_1\">\r\n   <g id=\"patch_2\">\r\n    <path d=\"M 20.5625 35.038125 \r\nL 913.3625 35.038125 \r\nL 913.3625 23.878125 \r\nL 20.5625 23.878125 \r\nz\r\n\" style=\"fill:#ffffff;\"/>\r\n   </g>\r\n   <g clip-path=\"url(#p13760677d0)\">\r\n    <image height=\"12\" id=\"image78910e2be7\" transform=\"scale(1 -1)translate(0 -12)\" width=\"893\" x=\"20.5625\" xlink:href=\"data:image/png;base64,\r\niVBORw0KGgoAAAANSUhEUgAAA30AAAAMCAYAAADWHNRAAAAABHNCSVQICAgIfAhkiAAAAI5JREFUeJzt11EKgCAQRdFs/3uetlDBmL7O+ZYQG8Q7qqoOmGSMcXut0WRlXbP85Lu88/RuSf4nzmIOd8B/dL1duuZix9ncbc+rvGfPrzcAAABAH9EHAAAQTPQBAAAEE30AAADBRB8AAEAw0QcAABBM9AEAAAQTfQAAAMFEHwAAQDDRBwAAEEz0AQAABLsAAnkfFIp6hLcAAAAASUVORK5CYII=\" y=\"-23.038125\"/>\r\n   </g>\r\n   <g id=\"matplotlib.axis_1\">\r\n    <g id=\"xtick_1\">\r\n     <g id=\"line2d_1\">\r\n      <defs>\r\n       <path d=\"M 0 0 \r\nL 0 3.5 \r\n\" id=\"m9e14367181\" style=\"stroke:#000000;stroke-width:0.8;\"/>\r\n      </defs>\r\n      <g>\r\n       <use style=\"stroke:#000000;stroke-width:0.8;\" x=\"26.1425\" xlink:href=\"#m9e14367181\" y=\"35.038125\"/>\r\n      </g>\r\n     </g>\r\n     <g id=\"line2d_2\">\r\n      <defs>\r\n       <path d=\"M 0 0 \r\nL 0 -3.5 \r\n\" id=\"mbb63281ce2\" style=\"stroke:#000000;stroke-width:0.8;\"/>\r\n      </defs>\r\n      <g>\r\n       <use style=\"stroke:#000000;stroke-width:0.8;\" x=\"26.1425\" xlink:href=\"#mbb63281ce2\" y=\"23.878125\"/>\r\n      </g>\r\n     </g>\r\n     <g id=\"text_1\">\r\n      <!-- 0 -->\r\n      <defs>\r\n       <path d=\"M 31.78125 66.40625 \r\nQ 24.171875 66.40625 20.328125 58.90625 \r\nQ 16.5 51.421875 16.5 36.375 \r\nQ 16.5 21.390625 20.328125 13.890625 \r\nQ 24.171875 6.390625 31.78125 6.390625 \r\nQ 39.453125 6.390625 43.28125 13.890625 \r\nQ 47.125 21.390625 47.125 36.375 \r\nQ 47.125 51.421875 43.28125 58.90625 \r\nQ 39.453125 66.40625 31.78125 66.40625 \r\nz\r\nM 31.78125 74.21875 \r\nQ 44.046875 74.21875 50.515625 64.515625 \r\nQ 56.984375 54.828125 56.984375 36.375 \r\nQ 56.984375 17.96875 50.515625 8.265625 \r\nQ 44.046875 -1.421875 31.78125 -1.421875 \r\nQ 19.53125 -1.421875 13.0625 8.265625 \r\nQ 6.59375 17.96875 6.59375 36.375 \r\nQ 6.59375 54.828125 13.0625 64.515625 \r\nQ 19.53125 74.21875 31.78125 74.21875 \r\nz\r\n\" id=\"DejaVuSans-48\"/>\r\n      </defs>\r\n      <g transform=\"translate(22.96125 14.798437)scale(0.1 -0.1)\">\r\n       <use xlink:href=\"#DejaVuSans-48\"/>\r\n      </g>\r\n     </g>\r\n    </g>\r\n    <g id=\"xtick_2\">\r\n     <g id=\"line2d_3\">\r\n      <g>\r\n       <use style=\"stroke:#000000;stroke-width:0.8;\" x=\"137.7425\" xlink:href=\"#m9e14367181\" y=\"35.038125\"/>\r\n      </g>\r\n     </g>\r\n     <g id=\"line2d_4\">\r\n      <g>\r\n       <use style=\"stroke:#000000;stroke-width:0.8;\" x=\"137.7425\" xlink:href=\"#mbb63281ce2\" y=\"23.878125\"/>\r\n      </g>\r\n     </g>\r\n     <g id=\"text_2\">\r\n      <!-- 10 -->\r\n      <defs>\r\n       <path d=\"M 12.40625 8.296875 \r\nL 28.515625 8.296875 \r\nL 28.515625 63.921875 \r\nL 10.984375 60.40625 \r\nL 10.984375 69.390625 \r\nL 28.421875 72.90625 \r\nL 38.28125 72.90625 \r\nL 38.28125 8.296875 \r\nL 54.390625 8.296875 \r\nL 54.390625 0 \r\nL 12.40625 0 \r\nz\r\n\" id=\"DejaVuSans-49\"/>\r\n      </defs>\r\n      <g transform=\"translate(131.38 14.798437)scale(0.1 -0.1)\">\r\n       <use xlink:href=\"#DejaVuSans-49\"/>\r\n       <use x=\"63.623047\" xlink:href=\"#DejaVuSans-48\"/>\r\n      </g>\r\n     </g>\r\n    </g>\r\n    <g id=\"xtick_3\">\r\n     <g id=\"line2d_5\">\r\n      <g>\r\n       <use style=\"stroke:#000000;stroke-width:0.8;\" x=\"249.3425\" xlink:href=\"#m9e14367181\" y=\"35.038125\"/>\r\n      </g>\r\n     </g>\r\n     <g id=\"line2d_6\">\r\n      <g>\r\n       <use style=\"stroke:#000000;stroke-width:0.8;\" x=\"249.3425\" xlink:href=\"#mbb63281ce2\" y=\"23.878125\"/>\r\n      </g>\r\n     </g>\r\n     <g id=\"text_3\">\r\n      <!-- 20 -->\r\n      <defs>\r\n       <path d=\"M 19.1875 8.296875 \r\nL 53.609375 8.296875 \r\nL 53.609375 0 \r\nL 7.328125 0 \r\nL 7.328125 8.296875 \r\nQ 12.9375 14.109375 22.625 23.890625 \r\nQ 32.328125 33.6875 34.8125 36.53125 \r\nQ 39.546875 41.84375 41.421875 45.53125 \r\nQ 43.3125 49.21875 43.3125 52.78125 \r\nQ 43.3125 58.59375 39.234375 62.25 \r\nQ 35.15625 65.921875 28.609375 65.921875 \r\nQ 23.96875 65.921875 18.8125 64.3125 \r\nQ 13.671875 62.703125 7.8125 59.421875 \r\nL 7.8125 69.390625 \r\nQ 13.765625 71.78125 18.9375 73 \r\nQ 24.125 74.21875 28.421875 74.21875 \r\nQ 39.75 74.21875 46.484375 68.546875 \r\nQ 53.21875 62.890625 53.21875 53.421875 \r\nQ 53.21875 48.921875 51.53125 44.890625 \r\nQ 49.859375 40.875 45.40625 35.40625 \r\nQ 44.1875 33.984375 37.640625 27.21875 \r\nQ 31.109375 20.453125 19.1875 8.296875 \r\nz\r\n\" id=\"DejaVuSans-50\"/>\r\n      </defs>\r\n      <g transform=\"translate(242.98 14.798437)scale(0.1 -0.1)\">\r\n       <use xlink:href=\"#DejaVuSans-50\"/>\r\n       <use x=\"63.623047\" xlink:href=\"#DejaVuSans-48\"/>\r\n      </g>\r\n     </g>\r\n    </g>\r\n    <g id=\"xtick_4\">\r\n     <g id=\"line2d_7\">\r\n      <g>\r\n       <use style=\"stroke:#000000;stroke-width:0.8;\" x=\"360.9425\" xlink:href=\"#m9e14367181\" y=\"35.038125\"/>\r\n      </g>\r\n     </g>\r\n     <g id=\"line2d_8\">\r\n      <g>\r\n       <use style=\"stroke:#000000;stroke-width:0.8;\" x=\"360.9425\" xlink:href=\"#mbb63281ce2\" y=\"23.878125\"/>\r\n      </g>\r\n     </g>\r\n     <g id=\"text_4\">\r\n      <!-- 30 -->\r\n      <defs>\r\n       <path d=\"M 40.578125 39.3125 \r\nQ 47.65625 37.796875 51.625 33 \r\nQ 55.609375 28.21875 55.609375 21.1875 \r\nQ 55.609375 10.40625 48.1875 4.484375 \r\nQ 40.765625 -1.421875 27.09375 -1.421875 \r\nQ 22.515625 -1.421875 17.65625 -0.515625 \r\nQ 12.796875 0.390625 7.625 2.203125 \r\nL 7.625 11.71875 \r\nQ 11.71875 9.328125 16.59375 8.109375 \r\nQ 21.484375 6.890625 26.8125 6.890625 \r\nQ 36.078125 6.890625 40.9375 10.546875 \r\nQ 45.796875 14.203125 45.796875 21.1875 \r\nQ 45.796875 27.640625 41.28125 31.265625 \r\nQ 36.765625 34.90625 28.71875 34.90625 \r\nL 20.21875 34.90625 \r\nL 20.21875 43.015625 \r\nL 29.109375 43.015625 \r\nQ 36.375 43.015625 40.234375 45.921875 \r\nQ 44.09375 48.828125 44.09375 54.296875 \r\nQ 44.09375 59.90625 40.109375 62.90625 \r\nQ 36.140625 65.921875 28.71875 65.921875 \r\nQ 24.65625 65.921875 20.015625 65.03125 \r\nQ 15.375 64.15625 9.8125 62.3125 \r\nL 9.8125 71.09375 \r\nQ 15.4375 72.65625 20.34375 73.4375 \r\nQ 25.25 74.21875 29.59375 74.21875 \r\nQ 40.828125 74.21875 47.359375 69.109375 \r\nQ 53.90625 64.015625 53.90625 55.328125 \r\nQ 53.90625 49.265625 50.4375 45.09375 \r\nQ 46.96875 40.921875 40.578125 39.3125 \r\nz\r\n\" id=\"DejaVuSans-51\"/>\r\n      </defs>\r\n      <g transform=\"translate(354.58 14.798437)scale(0.1 -0.1)\">\r\n       <use xlink:href=\"#DejaVuSans-51\"/>\r\n       <use x=\"63.623047\" xlink:href=\"#DejaVuSans-48\"/>\r\n      </g>\r\n     </g>\r\n    </g>\r\n    <g id=\"xtick_5\">\r\n     <g id=\"line2d_9\">\r\n      <g>\r\n       <use style=\"stroke:#000000;stroke-width:0.8;\" x=\"472.5425\" xlink:href=\"#m9e14367181\" y=\"35.038125\"/>\r\n      </g>\r\n     </g>\r\n     <g id=\"line2d_10\">\r\n      <g>\r\n       <use style=\"stroke:#000000;stroke-width:0.8;\" x=\"472.5425\" xlink:href=\"#mbb63281ce2\" y=\"23.878125\"/>\r\n      </g>\r\n     </g>\r\n     <g id=\"text_5\">\r\n      <!-- 40 -->\r\n      <defs>\r\n       <path d=\"M 37.796875 64.3125 \r\nL 12.890625 25.390625 \r\nL 37.796875 25.390625 \r\nz\r\nM 35.203125 72.90625 \r\nL 47.609375 72.90625 \r\nL 47.609375 25.390625 \r\nL 58.015625 25.390625 \r\nL 58.015625 17.1875 \r\nL 47.609375 17.1875 \r\nL 47.609375 0 \r\nL 37.796875 0 \r\nL 37.796875 17.1875 \r\nL 4.890625 17.1875 \r\nL 4.890625 26.703125 \r\nz\r\n\" id=\"DejaVuSans-52\"/>\r\n      </defs>\r\n      <g transform=\"translate(466.18 14.798437)scale(0.1 -0.1)\">\r\n       <use xlink:href=\"#DejaVuSans-52\"/>\r\n       <use x=\"63.623047\" xlink:href=\"#DejaVuSans-48\"/>\r\n      </g>\r\n     </g>\r\n    </g>\r\n    <g id=\"xtick_6\">\r\n     <g id=\"line2d_11\">\r\n      <g>\r\n       <use style=\"stroke:#000000;stroke-width:0.8;\" x=\"584.1425\" xlink:href=\"#m9e14367181\" y=\"35.038125\"/>\r\n      </g>\r\n     </g>\r\n     <g id=\"line2d_12\">\r\n      <g>\r\n       <use style=\"stroke:#000000;stroke-width:0.8;\" x=\"584.1425\" xlink:href=\"#mbb63281ce2\" y=\"23.878125\"/>\r\n      </g>\r\n     </g>\r\n     <g id=\"text_6\">\r\n      <!-- 50 -->\r\n      <defs>\r\n       <path d=\"M 10.796875 72.90625 \r\nL 49.515625 72.90625 \r\nL 49.515625 64.59375 \r\nL 19.828125 64.59375 \r\nL 19.828125 46.734375 \r\nQ 21.96875 47.46875 24.109375 47.828125 \r\nQ 26.265625 48.1875 28.421875 48.1875 \r\nQ 40.625 48.1875 47.75 41.5 \r\nQ 54.890625 34.8125 54.890625 23.390625 \r\nQ 54.890625 11.625 47.5625 5.09375 \r\nQ 40.234375 -1.421875 26.90625 -1.421875 \r\nQ 22.3125 -1.421875 17.546875 -0.640625 \r\nQ 12.796875 0.140625 7.71875 1.703125 \r\nL 7.71875 11.625 \r\nQ 12.109375 9.234375 16.796875 8.0625 \r\nQ 21.484375 6.890625 26.703125 6.890625 \r\nQ 35.15625 6.890625 40.078125 11.328125 \r\nQ 45.015625 15.765625 45.015625 23.390625 \r\nQ 45.015625 31 40.078125 35.4375 \r\nQ 35.15625 39.890625 26.703125 39.890625 \r\nQ 22.75 39.890625 18.8125 39.015625 \r\nQ 14.890625 38.140625 10.796875 36.28125 \r\nz\r\n\" id=\"DejaVuSans-53\"/>\r\n      </defs>\r\n      <g transform=\"translate(577.78 14.798437)scale(0.1 -0.1)\">\r\n       <use xlink:href=\"#DejaVuSans-53\"/>\r\n       <use x=\"63.623047\" xlink:href=\"#DejaVuSans-48\"/>\r\n      </g>\r\n     </g>\r\n    </g>\r\n    <g id=\"xtick_7\">\r\n     <g id=\"line2d_13\">\r\n      <g>\r\n       <use style=\"stroke:#000000;stroke-width:0.8;\" x=\"695.7425\" xlink:href=\"#m9e14367181\" y=\"35.038125\"/>\r\n      </g>\r\n     </g>\r\n     <g id=\"line2d_14\">\r\n      <g>\r\n       <use style=\"stroke:#000000;stroke-width:0.8;\" x=\"695.7425\" xlink:href=\"#mbb63281ce2\" y=\"23.878125\"/>\r\n      </g>\r\n     </g>\r\n     <g id=\"text_7\">\r\n      <!-- 60 -->\r\n      <defs>\r\n       <path d=\"M 33.015625 40.375 \r\nQ 26.375 40.375 22.484375 35.828125 \r\nQ 18.609375 31.296875 18.609375 23.390625 \r\nQ 18.609375 15.53125 22.484375 10.953125 \r\nQ 26.375 6.390625 33.015625 6.390625 \r\nQ 39.65625 6.390625 43.53125 10.953125 \r\nQ 47.40625 15.53125 47.40625 23.390625 \r\nQ 47.40625 31.296875 43.53125 35.828125 \r\nQ 39.65625 40.375 33.015625 40.375 \r\nz\r\nM 52.59375 71.296875 \r\nL 52.59375 62.3125 \r\nQ 48.875 64.0625 45.09375 64.984375 \r\nQ 41.3125 65.921875 37.59375 65.921875 \r\nQ 27.828125 65.921875 22.671875 59.328125 \r\nQ 17.53125 52.734375 16.796875 39.40625 \r\nQ 19.671875 43.65625 24.015625 45.921875 \r\nQ 28.375 48.1875 33.59375 48.1875 \r\nQ 44.578125 48.1875 50.953125 41.515625 \r\nQ 57.328125 34.859375 57.328125 23.390625 \r\nQ 57.328125 12.15625 50.6875 5.359375 \r\nQ 44.046875 -1.421875 33.015625 -1.421875 \r\nQ 20.359375 -1.421875 13.671875 8.265625 \r\nQ 6.984375 17.96875 6.984375 36.375 \r\nQ 6.984375 53.65625 15.1875 63.9375 \r\nQ 23.390625 74.21875 37.203125 74.21875 \r\nQ 40.921875 74.21875 44.703125 73.484375 \r\nQ 48.484375 72.75 52.59375 71.296875 \r\nz\r\n\" id=\"DejaVuSans-54\"/>\r\n      </defs>\r\n      <g transform=\"translate(689.38 14.798437)scale(0.1 -0.1)\">\r\n       <use xlink:href=\"#DejaVuSans-54\"/>\r\n       <use x=\"63.623047\" xlink:href=\"#DejaVuSans-48\"/>\r\n      </g>\r\n     </g>\r\n    </g>\r\n    <g id=\"xtick_8\">\r\n     <g id=\"line2d_15\">\r\n      <g>\r\n       <use style=\"stroke:#000000;stroke-width:0.8;\" x=\"807.3425\" xlink:href=\"#m9e14367181\" y=\"35.038125\"/>\r\n      </g>\r\n     </g>\r\n     <g id=\"line2d_16\">\r\n      <g>\r\n       <use style=\"stroke:#000000;stroke-width:0.8;\" x=\"807.3425\" xlink:href=\"#mbb63281ce2\" y=\"23.878125\"/>\r\n      </g>\r\n     </g>\r\n     <g id=\"text_8\">\r\n      <!-- 70 -->\r\n      <defs>\r\n       <path d=\"M 8.203125 72.90625 \r\nL 55.078125 72.90625 \r\nL 55.078125 68.703125 \r\nL 28.609375 0 \r\nL 18.3125 0 \r\nL 43.21875 64.59375 \r\nL 8.203125 64.59375 \r\nz\r\n\" id=\"DejaVuSans-55\"/>\r\n      </defs>\r\n      <g transform=\"translate(800.98 14.798437)scale(0.1 -0.1)\">\r\n       <use xlink:href=\"#DejaVuSans-55\"/>\r\n       <use x=\"63.623047\" xlink:href=\"#DejaVuSans-48\"/>\r\n      </g>\r\n     </g>\r\n    </g>\r\n   </g>\r\n   <g id=\"matplotlib.axis_2\">\r\n    <g id=\"ytick_1\">\r\n     <g id=\"line2d_17\">\r\n      <defs>\r\n       <path d=\"M 0 0 \r\nL -3.5 0 \r\n\" id=\"m43a4bcccbd\" style=\"stroke:#000000;stroke-width:0.8;\"/>\r\n      </defs>\r\n      <g>\r\n       <use style=\"stroke:#000000;stroke-width:0.8;\" x=\"20.5625\" xlink:href=\"#m43a4bcccbd\" y=\"29.458125\"/>\r\n      </g>\r\n     </g>\r\n     <g id=\"text_9\">\r\n      <!-- 0 -->\r\n      <g transform=\"translate(7.2 33.257344)scale(0.1 -0.1)\">\r\n       <use xlink:href=\"#DejaVuSans-48\"/>\r\n      </g>\r\n     </g>\r\n    </g>\r\n   </g>\r\n   <g id=\"patch_3\">\r\n    <path d=\"M 20.5625 35.038125 \r\nL 20.5625 23.878125 \r\n\" style=\"fill:none;stroke:#000000;stroke-linecap:square;stroke-linejoin:miter;stroke-width:0.8;\"/>\r\n   </g>\r\n   <g id=\"patch_4\">\r\n    <path d=\"M 913.3625 35.038125 \r\nL 913.3625 23.878125 \r\n\" style=\"fill:none;stroke:#000000;stroke-linecap:square;stroke-linejoin:miter;stroke-width:0.8;\"/>\r\n   </g>\r\n   <g id=\"patch_5\">\r\n    <path d=\"M 20.5625 35.038125 \r\nL 913.3625 35.038125 \r\n\" style=\"fill:none;stroke:#000000;stroke-linecap:square;stroke-linejoin:miter;stroke-width:0.8;\"/>\r\n   </g>\r\n   <g id=\"patch_6\">\r\n    <path d=\"M 20.5625 23.878125 \r\nL 913.3625 23.878125 \r\n\" style=\"fill:none;stroke:#000000;stroke-linecap:square;stroke-linejoin:miter;stroke-width:0.8;\"/>\r\n   </g>\r\n  </g>\r\n </g>\r\n <defs>\r\n  <clipPath id=\"p13760677d0\">\r\n   <rect height=\"11.16\" width=\"892.8\" x=\"20.5625\" y=\"23.878125\"/>\r\n  </clipPath>\r\n </defs>\r\n</svg>\r\n",
      "image/png": "[encoded data removed]"
     },
     "metadata": {
      "needs_background": "light"
     }
    }
   ],
   "source": [
    "from sklearn.feature_selection import RFE\n",
    "\n",
    "# 특성 선택\n",
    "select3 = RFE(RandomForestClassifier(n_estimators=100, random_state=0),\n",
    "n_features_to_select=40)\n",
    "select3.fit(X_train, y_train)\n",
    "\n",
    "# 선택된 특성을 표시\n",
    "\n",
    "# 그래프 그리기\n",
    "# 선택된 특성을 boolen 값으로 표시\n",
    "mask3 = select3.get_support()\n",
    "# print(mask)\n",
    "\n",
    "plt.matshow(mask3.reshape(1, -1), cmap='gray')\n",
    "plt.yticks([0])"
   ]
  },
  {
   "cell_type": "markdown",
   "metadata": {
    "colab_type": "text",
    "id": "_jIwyolOBaDS",
    "slideshow": {
     "slide_type": "slide"
    }
   },
   "source": [
    "- 이전 보다 특성 선택이 나아졌지만, 여전히 특성 한 개를 놓침\n",
    "- 랜덤 포레스트 모델은 특성이 누락될 때마다 다시 학습하므로 40번이나 실행하여 모델 기반 선택보다 오래 걸림"
   ]
  },
  {
   "cell_type": "code",
   "execution_count": 31,
   "metadata": {
    "colab": {
     "base_uri": "https://localhost:8080/",
     "height": 35
    },
    "colab_type": "code",
    "executionInfo": {
     "elapsed": 1178,
     "status": "ok",
     "timestamp": 1598181355037,
     "user": {
      "displayName": "oz To",
      "photoUrl": "",
      "userId": "12937505880450462933"
     },
     "user_tz": -540
    },
    "id": "3StYMgIFFgu1",
    "outputId": "aeb7ea0b-0859-41fa-fdd8-2410e5a412e5",
    "slideshow": {
     "slide_type": "slide"
    },
    "tags": []
   },
   "outputs": [
    {
     "output_type": "stream",
     "name": "stdout",
     "text": "0.9298245614035088\n0.9508771929824561\n"
    }
   ],
   "source": [
    "# 특성 선택\n",
    "X_train_selected3 = select3.transform(X_train)\n",
    "\n",
    "X_test_selected3 = select3.transform(X_test)\n",
    "\n",
    "# LogisticRegression 적용\n",
    "model_lr = LogisticRegression(solver='liblinear')\n",
    "\n",
    "# 전체 특성을 사용한 점수\n",
    "model_lr.fit(X_train, y_train)\n",
    "score = model_lr.score(X_test, y_test)\n",
    "print(score)\n",
    "\n",
    "# 선택된 일부 특성을 사용한 점수\n",
    "model_lr.fit(X_train_selected3, y_train)\n",
    "score = model_lr.score(X_test_selected3, y_test)\n",
    "print(score)"
   ]
  },
  {
   "cell_type": "markdown",
   "metadata": {
    "colab_type": "text",
    "id": "fIaDUZ0sCG1U",
    "slideshow": {
     "slide_type": "slide"
    }
   },
   "source": [
    "- 특성 선택이 제대로 되면 선형 모델의 성능은 랜덤 포레스트와 견줄만 함"
   ]
  },
  {
   "cell_type": "markdown",
   "metadata": {
    "colab_type": "text",
    "id": "YFjJAL5vGGom",
    "slideshow": {
     "slide_type": "slide"
    }
   },
   "source": [
    "## 전문가적 지식 활용\n",
    "\n",
    "- 특성 공학은 특정 어플리케이션을 위해 전문가적 지식을 사용할 수 있는 중요한 영역\n",
    "- 분야 전문가는 종종 초기 데이터에서 더 유용한 특성을 선택할 수 있도록 도움을 줄 수 있음\n",
    "\n",
    "- 해당 분야에 내재된 사전 지식이 특성으로 추가될 수 있다면 머신러닝 알고리즘에 도움이 됨"
   ]
  },
  {
   "cell_type": "markdown",
   "metadata": {
    "colab_type": "text",
    "id": "I7Nt6hKrDgWy",
    "slideshow": {
     "slide_type": "slide"
    }
   },
   "source": [
    "### 특성 공학 실습 01 \n",
    "\n",
    "시티바이크 데이터\n",
    "\n",
    "- http://www.citibikenyc.com/system-data\n",
    "\n",
    "- 문제 : 특정 날짜와 시간에 앤디 집 앞에 있는 자전거를 사람들이 얼마나 대여할 것인지 예측하는 것 \n",
    "- 앤디가 빌릴 자전거가 남아 있을까?"
   ]
  },
  {
   "cell_type": "code",
   "execution_count": 32,
   "metadata": {
    "colab": {
     "base_uri": "https://localhost:8080/",
     "height": 143
    },
    "colab_type": "code",
    "executionInfo": {
     "elapsed": 1163,
     "status": "ok",
     "timestamp": 1598182115657,
     "user": {
      "displayName": "oz To",
      "photoUrl": "",
      "userId": "12937505880450462933"
     },
     "user_tz": -540
    },
    "id": "cLQLggbKHO4v",
    "outputId": "944a4492-2d33-4c56-c3e2-3c31cd3cee7b",
    "slideshow": {
     "slide_type": "slide"
    }
   },
   "outputs": [
    {
     "output_type": "execute_result",
     "data": {
      "text/plain": "starttime\n2015-08-01 00:00:00     3\n2015-08-01 03:00:00     0\n2015-08-01 06:00:00     9\n2015-08-01 09:00:00    41\n2015-08-01 12:00:00    39\nFreq: 3H, Name: one, dtype: int64"
     },
     "metadata": {},
     "execution_count": 32
    }
   ],
   "source": [
    "# 2015년 8월 데이터 세 시간 간격 일일 주요 경향\n",
    "import mglearn\n",
    "\n",
    "citibike = mglearn.datasets.load_citibike()\n",
    "\n",
    "citibike.head()"
   ]
  },
  {
   "cell_type": "code",
   "execution_count": 33,
   "metadata": {
    "colab": {
     "base_uri": "https://localhost:8080/",
     "height": 288
    },
    "colab_type": "code",
    "executionInfo": {
     "elapsed": 1046,
     "status": "ok",
     "timestamp": 1598182548683,
     "user": {
      "displayName": "oz To",
      "photoUrl": "",
      "userId": "12937505880450462933"
     },
     "user_tz": -540
    },
    "id": "r0eURPMwHnmT",
    "outputId": "0296ead6-4aa4-472e-f0c1-e35c927ddbe0",
    "slideshow": {
     "slide_type": "slide"
    }
   },
   "outputs": [
    {
     "output_type": "execute_result",
     "data": {
      "text/plain": "Text(0, 0.5, 'rental number')"
     },
     "metadata": {},
     "execution_count": 33
    },
    {
     "output_type": "display_data",
     "data": {
      "text/plain": "<Figure size 720x216 with 1 Axes>",
      "image/svg+xml": "<?xml version=\"1.0\" encoding=\"utf-8\" standalone=\"no\"?>\r\n<!DOCTYPE svg PUBLIC \"-//W3C//DTD SVG 1.1//EN\"\r\n  \"http://www.w3.org/Graphics/SVG/1.1/DTD/svg11.dtd\">\r\n<!-- Created with matplotlib (https://matplotlib.org/) -->\r\n<svg height=\"253.694342pt\" version=\"1.1\" viewBox=\"0 0 605.803125 253.694342\" width=\"605.803125pt\" xmlns=\"http://www.w3.org/2000/svg\" xmlns:xlink=\"http://www.w3.org/1999/xlink\">\r\n <defs>\r\n  <style type=\"text/css\">\r\n*{stroke-linecap:butt;stroke-linejoin:round;}\r\n  </style>\r\n </defs>\r\n <g id=\"figure_1\">\r\n  <g id=\"patch_1\">\r\n   <path d=\"M 0 253.694342 \r\nL 605.803125 253.694342 \r\nL 605.803125 0 \r\nL 0 0 \r\nz\r\n\" style=\"fill:none;\"/>\r\n  </g>\r\n  <g id=\"axes_1\">\r\n   <g id=\"patch_2\">\r\n    <path d=\"M 40.603125 171.778717 \r\nL 598.603125 171.778717 \r\nL 598.603125 8.698717 \r\nL 40.603125 8.698717 \r\nz\r\n\" style=\"fill:#ffffff;\"/>\r\n   </g>\r\n   <g id=\"matplotlib.axis_1\">\r\n    <g id=\"xtick_1\">\r\n     <g id=\"line2d_1\">\r\n      <defs>\r\n       <path d=\"M 0 0 \r\nL 0 3.5 \r\n\" id=\"m5b3350d719\" style=\"stroke:#000000;stroke-width:0.8;\"/>\r\n      </defs>\r\n      <g>\r\n       <use style=\"stroke:#000000;stroke-width:0.8;\" x=\"65.966761\" xlink:href=\"#m5b3350d719\" y=\"171.778717\"/>\r\n      </g>\r\n     </g>\r\n     <g id=\"text_1\">\r\n      <!-- Sat 08-01 -->\r\n      <defs>\r\n       <path d=\"M 53.515625 70.515625 \r\nL 53.515625 60.890625 \r\nQ 47.90625 63.578125 42.921875 64.890625 \r\nQ 37.9375 66.21875 33.296875 66.21875 \r\nQ 25.25 66.21875 20.875 63.09375 \r\nQ 16.5 59.96875 16.5 54.203125 \r\nQ 16.5 49.359375 19.40625 46.890625 \r\nQ 22.3125 44.4375 30.421875 42.921875 \r\nL 36.375 41.703125 \r\nQ 47.40625 39.59375 52.65625 34.296875 \r\nQ 57.90625 29 57.90625 20.125 \r\nQ 57.90625 9.515625 50.796875 4.046875 \r\nQ 43.703125 -1.421875 29.984375 -1.421875 \r\nQ 24.8125 -1.421875 18.96875 -0.25 \r\nQ 13.140625 0.921875 6.890625 3.21875 \r\nL 6.890625 13.375 \r\nQ 12.890625 10.015625 18.65625 8.296875 \r\nQ 24.421875 6.59375 29.984375 6.59375 \r\nQ 38.421875 6.59375 43.015625 9.90625 \r\nQ 47.609375 13.234375 47.609375 19.390625 \r\nQ 47.609375 24.75 44.3125 27.78125 \r\nQ 41.015625 30.8125 33.5 32.328125 \r\nL 27.484375 33.5 \r\nQ 16.453125 35.6875 11.515625 40.375 \r\nQ 6.59375 45.0625 6.59375 53.421875 \r\nQ 6.59375 63.09375 13.40625 68.65625 \r\nQ 20.21875 74.21875 32.171875 74.21875 \r\nQ 37.3125 74.21875 42.625 73.28125 \r\nQ 47.953125 72.359375 53.515625 70.515625 \r\nz\r\n\" id=\"DejaVuSans-83\"/>\r\n       <path d=\"M 34.28125 27.484375 \r\nQ 23.390625 27.484375 19.1875 25 \r\nQ 14.984375 22.515625 14.984375 16.5 \r\nQ 14.984375 11.71875 18.140625 8.90625 \r\nQ 21.296875 6.109375 26.703125 6.109375 \r\nQ 34.1875 6.109375 38.703125 11.40625 \r\nQ 43.21875 16.703125 43.21875 25.484375 \r\nL 43.21875 27.484375 \r\nz\r\nM 52.203125 31.203125 \r\nL 52.203125 0 \r\nL 43.21875 0 \r\nL 43.21875 8.296875 \r\nQ 40.140625 3.328125 35.546875 0.953125 \r\nQ 30.953125 -1.421875 24.3125 -1.421875 \r\nQ 15.921875 -1.421875 10.953125 3.296875 \r\nQ 6 8.015625 6 15.921875 \r\nQ 6 25.140625 12.171875 29.828125 \r\nQ 18.359375 34.515625 30.609375 34.515625 \r\nL 43.21875 34.515625 \r\nL 43.21875 35.40625 \r\nQ 43.21875 41.609375 39.140625 45 \r\nQ 35.0625 48.390625 27.6875 48.390625 \r\nQ 23 48.390625 18.546875 47.265625 \r\nQ 14.109375 46.140625 10.015625 43.890625 \r\nL 10.015625 52.203125 \r\nQ 14.9375 54.109375 19.578125 55.046875 \r\nQ 24.21875 56 28.609375 56 \r\nQ 40.484375 56 46.34375 49.84375 \r\nQ 52.203125 43.703125 52.203125 31.203125 \r\nz\r\n\" id=\"DejaVuSans-97\"/>\r\n       <path d=\"M 18.3125 70.21875 \r\nL 18.3125 54.6875 \r\nL 36.8125 54.6875 \r\nL 36.8125 47.703125 \r\nL 18.3125 47.703125 \r\nL 18.3125 18.015625 \r\nQ 18.3125 11.328125 20.140625 9.421875 \r\nQ 21.96875 7.515625 27.59375 7.515625 \r\nL 36.8125 7.515625 \r\nL 36.8125 0 \r\nL 27.59375 0 \r\nQ 17.1875 0 13.234375 3.875 \r\nQ 9.28125 7.765625 9.28125 18.015625 \r\nL 9.28125 47.703125 \r\nL 2.6875 47.703125 \r\nL 2.6875 54.6875 \r\nL 9.28125 54.6875 \r\nL 9.28125 70.21875 \r\nz\r\n\" id=\"DejaVuSans-116\"/>\r\n       <path id=\"DejaVuSans-32\"/>\r\n       <path d=\"M 31.78125 66.40625 \r\nQ 24.171875 66.40625 20.328125 58.90625 \r\nQ 16.5 51.421875 16.5 36.375 \r\nQ 16.5 21.390625 20.328125 13.890625 \r\nQ 24.171875 6.390625 31.78125 6.390625 \r\nQ 39.453125 6.390625 43.28125 13.890625 \r\nQ 47.125 21.390625 47.125 36.375 \r\nQ 47.125 51.421875 43.28125 58.90625 \r\nQ 39.453125 66.40625 31.78125 66.40625 \r\nz\r\nM 31.78125 74.21875 \r\nQ 44.046875 74.21875 50.515625 64.515625 \r\nQ 56.984375 54.828125 56.984375 36.375 \r\nQ 56.984375 17.96875 50.515625 8.265625 \r\nQ 44.046875 -1.421875 31.78125 -1.421875 \r\nQ 19.53125 -1.421875 13.0625 8.265625 \r\nQ 6.59375 17.96875 6.59375 36.375 \r\nQ 6.59375 54.828125 13.0625 64.515625 \r\nQ 19.53125 74.21875 31.78125 74.21875 \r\nz\r\n\" id=\"DejaVuSans-48\"/>\r\n       <path d=\"M 31.78125 34.625 \r\nQ 24.75 34.625 20.71875 30.859375 \r\nQ 16.703125 27.09375 16.703125 20.515625 \r\nQ 16.703125 13.921875 20.71875 10.15625 \r\nQ 24.75 6.390625 31.78125 6.390625 \r\nQ 38.8125 6.390625 42.859375 10.171875 \r\nQ 46.921875 13.96875 46.921875 20.515625 \r\nQ 46.921875 27.09375 42.890625 30.859375 \r\nQ 38.875 34.625 31.78125 34.625 \r\nz\r\nM 21.921875 38.8125 \r\nQ 15.578125 40.375 12.03125 44.71875 \r\nQ 8.5 49.078125 8.5 55.328125 \r\nQ 8.5 64.0625 14.71875 69.140625 \r\nQ 20.953125 74.21875 31.78125 74.21875 \r\nQ 42.671875 74.21875 48.875 69.140625 \r\nQ 55.078125 64.0625 55.078125 55.328125 \r\nQ 55.078125 49.078125 51.53125 44.71875 \r\nQ 48 40.375 41.703125 38.8125 \r\nQ 48.828125 37.15625 52.796875 32.3125 \r\nQ 56.78125 27.484375 56.78125 20.515625 \r\nQ 56.78125 9.90625 50.3125 4.234375 \r\nQ 43.84375 -1.421875 31.78125 -1.421875 \r\nQ 19.734375 -1.421875 13.25 4.234375 \r\nQ 6.78125 9.90625 6.78125 20.515625 \r\nQ 6.78125 27.484375 10.78125 32.3125 \r\nQ 14.796875 37.15625 21.921875 38.8125 \r\nz\r\nM 18.3125 54.390625 \r\nQ 18.3125 48.734375 21.84375 45.5625 \r\nQ 25.390625 42.390625 31.78125 42.390625 \r\nQ 38.140625 42.390625 41.71875 45.5625 \r\nQ 45.3125 48.734375 45.3125 54.390625 \r\nQ 45.3125 60.0625 41.71875 63.234375 \r\nQ 38.140625 66.40625 31.78125 66.40625 \r\nQ 25.390625 66.40625 21.84375 63.234375 \r\nQ 18.3125 60.0625 18.3125 54.390625 \r\nz\r\n\" id=\"DejaVuSans-56\"/>\r\n       <path d=\"M 4.890625 31.390625 \r\nL 31.203125 31.390625 \r\nL 31.203125 23.390625 \r\nL 4.890625 23.390625 \r\nz\r\n\" id=\"DejaVuSans-45\"/>\r\n       <path d=\"M 12.40625 8.296875 \r\nL 28.515625 8.296875 \r\nL 28.515625 63.921875 \r\nL 10.984375 60.40625 \r\nL 10.984375 69.390625 \r\nL 28.421875 72.90625 \r\nL 38.28125 72.90625 \r\nL 38.28125 8.296875 \r\nL 54.390625 8.296875 \r\nL 54.390625 0 \r\nL 12.40625 0 \r\nz\r\n\" id=\"DejaVuSans-49\"/>\r\n      </defs>\r\n      <g transform=\"translate(73.565199 227.41153)rotate(-90)scale(0.1 -0.1)\">\r\n       <use xlink:href=\"#DejaVuSans-83\"/>\r\n       <use x=\"63.476562\" xlink:href=\"#DejaVuSans-97\"/>\r\n       <use x=\"124.755859\" xlink:href=\"#DejaVuSans-116\"/>\r\n       <use x=\"163.964844\" xlink:href=\"#DejaVuSans-32\"/>\r\n       <use x=\"195.751953\" xlink:href=\"#DejaVuSans-48\"/>\r\n       <use x=\"259.375\" xlink:href=\"#DejaVuSans-56\"/>\r\n       <use x=\"322.998047\" xlink:href=\"#DejaVuSans-45\"/>\r\n       <use x=\"359.082031\" xlink:href=\"#DejaVuSans-48\"/>\r\n       <use x=\"422.705078\" xlink:href=\"#DejaVuSans-49\"/>\r\n      </g>\r\n     </g>\r\n    </g>\r\n    <g id=\"xtick_2\">\r\n     <g id=\"line2d_2\">\r\n      <g>\r\n       <use style=\"stroke:#000000;stroke-width:0.8;\" x=\"82.396647\" xlink:href=\"#m5b3350d719\" y=\"171.778717\"/>\r\n      </g>\r\n     </g>\r\n     <g id=\"text_2\">\r\n      <!-- Sun 08-02 -->\r\n      <defs>\r\n       <path d=\"M 8.5 21.578125 \r\nL 8.5 54.6875 \r\nL 17.484375 54.6875 \r\nL 17.484375 21.921875 \r\nQ 17.484375 14.15625 20.5 10.265625 \r\nQ 23.53125 6.390625 29.59375 6.390625 \r\nQ 36.859375 6.390625 41.078125 11.03125 \r\nQ 45.3125 15.671875 45.3125 23.6875 \r\nL 45.3125 54.6875 \r\nL 54.296875 54.6875 \r\nL 54.296875 0 \r\nL 45.3125 0 \r\nL 45.3125 8.40625 \r\nQ 42.046875 3.421875 37.71875 1 \r\nQ 33.40625 -1.421875 27.6875 -1.421875 \r\nQ 18.265625 -1.421875 13.375 4.4375 \r\nQ 8.5 10.296875 8.5 21.578125 \r\nz\r\nM 31.109375 56 \r\nz\r\n\" id=\"DejaVuSans-117\"/>\r\n       <path d=\"M 54.890625 33.015625 \r\nL 54.890625 0 \r\nL 45.90625 0 \r\nL 45.90625 32.71875 \r\nQ 45.90625 40.484375 42.875 44.328125 \r\nQ 39.84375 48.1875 33.796875 48.1875 \r\nQ 26.515625 48.1875 22.3125 43.546875 \r\nQ 18.109375 38.921875 18.109375 30.90625 \r\nL 18.109375 0 \r\nL 9.078125 0 \r\nL 9.078125 54.6875 \r\nL 18.109375 54.6875 \r\nL 18.109375 46.1875 \r\nQ 21.34375 51.125 25.703125 53.5625 \r\nQ 30.078125 56 35.796875 56 \r\nQ 45.21875 56 50.046875 50.171875 \r\nQ 54.890625 44.34375 54.890625 33.015625 \r\nz\r\n\" id=\"DejaVuSans-110\"/>\r\n       <path d=\"M 19.1875 8.296875 \r\nL 53.609375 8.296875 \r\nL 53.609375 0 \r\nL 7.328125 0 \r\nL 7.328125 8.296875 \r\nQ 12.9375 14.109375 22.625 23.890625 \r\nQ 32.328125 33.6875 34.8125 36.53125 \r\nQ 39.546875 41.84375 41.421875 45.53125 \r\nQ 43.3125 49.21875 43.3125 52.78125 \r\nQ 43.3125 58.59375 39.234375 62.25 \r\nQ 35.15625 65.921875 28.609375 65.921875 \r\nQ 23.96875 65.921875 18.8125 64.3125 \r\nQ 13.671875 62.703125 7.8125 59.421875 \r\nL 7.8125 69.390625 \r\nQ 13.765625 71.78125 18.9375 73 \r\nQ 24.125 74.21875 28.421875 74.21875 \r\nQ 39.75 74.21875 46.484375 68.546875 \r\nQ 53.21875 62.890625 53.21875 53.421875 \r\nQ 53.21875 48.921875 51.53125 44.890625 \r\nQ 49.859375 40.875 45.40625 35.40625 \r\nQ 44.1875 33.984375 37.640625 27.21875 \r\nQ 31.109375 20.453125 19.1875 8.296875 \r\nz\r\n\" id=\"DejaVuSans-50\"/>\r\n      </defs>\r\n      <g transform=\"translate(89.995085 230.038092)rotate(-90)scale(0.1 -0.1)\">\r\n       <use xlink:href=\"#DejaVuSans-83\"/>\r\n       <use x=\"63.476562\" xlink:href=\"#DejaVuSans-117\"/>\r\n       <use x=\"126.855469\" xlink:href=\"#DejaVuSans-110\"/>\r\n       <use x=\"190.234375\" xlink:href=\"#DejaVuSans-32\"/>\r\n       <use x=\"222.021484\" xlink:href=\"#DejaVuSans-48\"/>\r\n       <use x=\"285.644531\" xlink:href=\"#DejaVuSans-56\"/>\r\n       <use x=\"349.267578\" xlink:href=\"#DejaVuSans-45\"/>\r\n       <use x=\"385.351562\" xlink:href=\"#DejaVuSans-48\"/>\r\n       <use x=\"448.974609\" xlink:href=\"#DejaVuSans-50\"/>\r\n      </g>\r\n     </g>\r\n    </g>\r\n    <g id=\"xtick_3\">\r\n     <g id=\"line2d_3\">\r\n      <g>\r\n       <use style=\"stroke:#000000;stroke-width:0.8;\" x=\"98.826533\" xlink:href=\"#m5b3350d719\" y=\"171.778717\"/>\r\n      </g>\r\n     </g>\r\n     <g id=\"text_3\">\r\n      <!-- Mon 08-03 -->\r\n      <defs>\r\n       <path d=\"M 9.8125 72.90625 \r\nL 24.515625 72.90625 \r\nL 43.109375 23.296875 \r\nL 61.8125 72.90625 \r\nL 76.515625 72.90625 \r\nL 76.515625 0 \r\nL 66.890625 0 \r\nL 66.890625 64.015625 \r\nL 48.09375 14.015625 \r\nL 38.1875 14.015625 \r\nL 19.390625 64.015625 \r\nL 19.390625 0 \r\nL 9.8125 0 \r\nz\r\n\" id=\"DejaVuSans-77\"/>\r\n       <path d=\"M 30.609375 48.390625 \r\nQ 23.390625 48.390625 19.1875 42.75 \r\nQ 14.984375 37.109375 14.984375 27.296875 \r\nQ 14.984375 17.484375 19.15625 11.84375 \r\nQ 23.34375 6.203125 30.609375 6.203125 \r\nQ 37.796875 6.203125 41.984375 11.859375 \r\nQ 46.1875 17.53125 46.1875 27.296875 \r\nQ 46.1875 37.015625 41.984375 42.703125 \r\nQ 37.796875 48.390625 30.609375 48.390625 \r\nz\r\nM 30.609375 56 \r\nQ 42.328125 56 49.015625 48.375 \r\nQ 55.71875 40.765625 55.71875 27.296875 \r\nQ 55.71875 13.875 49.015625 6.21875 \r\nQ 42.328125 -1.421875 30.609375 -1.421875 \r\nQ 18.84375 -1.421875 12.171875 6.21875 \r\nQ 5.515625 13.875 5.515625 27.296875 \r\nQ 5.515625 40.765625 12.171875 48.375 \r\nQ 18.84375 56 30.609375 56 \r\nz\r\n\" id=\"DejaVuSans-111\"/>\r\n       <path d=\"M 40.578125 39.3125 \r\nQ 47.65625 37.796875 51.625 33 \r\nQ 55.609375 28.21875 55.609375 21.1875 \r\nQ 55.609375 10.40625 48.1875 4.484375 \r\nQ 40.765625 -1.421875 27.09375 -1.421875 \r\nQ 22.515625 -1.421875 17.65625 -0.515625 \r\nQ 12.796875 0.390625 7.625 2.203125 \r\nL 7.625 11.71875 \r\nQ 11.71875 9.328125 16.59375 8.109375 \r\nQ 21.484375 6.890625 26.8125 6.890625 \r\nQ 36.078125 6.890625 40.9375 10.546875 \r\nQ 45.796875 14.203125 45.796875 21.1875 \r\nQ 45.796875 27.640625 41.28125 31.265625 \r\nQ 36.765625 34.90625 28.71875 34.90625 \r\nL 20.21875 34.90625 \r\nL 20.21875 43.015625 \r\nL 29.109375 43.015625 \r\nQ 36.375 43.015625 40.234375 45.921875 \r\nQ 44.09375 48.828125 44.09375 54.296875 \r\nQ 44.09375 59.90625 40.109375 62.90625 \r\nQ 36.140625 65.921875 28.71875 65.921875 \r\nQ 24.65625 65.921875 20.015625 65.03125 \r\nQ 15.375 64.15625 9.8125 62.3125 \r\nL 9.8125 71.09375 \r\nQ 15.4375 72.65625 20.34375 73.4375 \r\nQ 25.25 74.21875 29.59375 74.21875 \r\nQ 40.828125 74.21875 47.359375 69.109375 \r\nQ 53.90625 64.015625 53.90625 55.328125 \r\nQ 53.90625 49.265625 50.4375 45.09375 \r\nQ 46.96875 40.921875 40.578125 39.3125 \r\nz\r\n\" id=\"DejaVuSans-51\"/>\r\n      </defs>\r\n      <g transform=\"translate(106.424971 232.09903)rotate(-90)scale(0.1 -0.1)\">\r\n       <use xlink:href=\"#DejaVuSans-77\"/>\r\n       <use x=\"86.279297\" xlink:href=\"#DejaVuSans-111\"/>\r\n       <use x=\"147.460938\" xlink:href=\"#DejaVuSans-110\"/>\r\n       <use x=\"210.839844\" xlink:href=\"#DejaVuSans-32\"/>\r\n       <use x=\"242.626953\" xlink:href=\"#DejaVuSans-48\"/>\r\n       <use x=\"306.25\" xlink:href=\"#DejaVuSans-56\"/>\r\n       <use x=\"369.873047\" xlink:href=\"#DejaVuSans-45\"/>\r\n       <use x=\"405.957031\" xlink:href=\"#DejaVuSans-48\"/>\r\n       <use x=\"469.580078\" xlink:href=\"#DejaVuSans-51\"/>\r\n      </g>\r\n     </g>\r\n    </g>\r\n    <g id=\"xtick_4\">\r\n     <g id=\"line2d_4\">\r\n      <g>\r\n       <use style=\"stroke:#000000;stroke-width:0.8;\" x=\"115.256419\" xlink:href=\"#m5b3350d719\" y=\"171.778717\"/>\r\n      </g>\r\n     </g>\r\n     <g id=\"text_4\">\r\n      <!-- Tue 08-04 -->\r\n      <defs>\r\n       <path d=\"M -0.296875 72.90625 \r\nL 61.375 72.90625 \r\nL 61.375 64.59375 \r\nL 35.5 64.59375 \r\nL 35.5 0 \r\nL 25.59375 0 \r\nL 25.59375 64.59375 \r\nL -0.296875 64.59375 \r\nz\r\n\" id=\"DejaVuSans-84\"/>\r\n       <path d=\"M 56.203125 29.59375 \r\nL 56.203125 25.203125 \r\nL 14.890625 25.203125 \r\nQ 15.484375 15.921875 20.484375 11.0625 \r\nQ 25.484375 6.203125 34.421875 6.203125 \r\nQ 39.59375 6.203125 44.453125 7.46875 \r\nQ 49.3125 8.734375 54.109375 11.28125 \r\nL 54.109375 2.78125 \r\nQ 49.265625 0.734375 44.1875 -0.34375 \r\nQ 39.109375 -1.421875 33.890625 -1.421875 \r\nQ 20.796875 -1.421875 13.15625 6.1875 \r\nQ 5.515625 13.8125 5.515625 26.8125 \r\nQ 5.515625 40.234375 12.765625 48.109375 \r\nQ 20.015625 56 32.328125 56 \r\nQ 43.359375 56 49.78125 48.890625 \r\nQ 56.203125 41.796875 56.203125 29.59375 \r\nz\r\nM 47.21875 32.234375 \r\nQ 47.125 39.59375 43.09375 43.984375 \r\nQ 39.0625 48.390625 32.421875 48.390625 \r\nQ 24.90625 48.390625 20.390625 44.140625 \r\nQ 15.875 39.890625 15.1875 32.171875 \r\nz\r\n\" id=\"DejaVuSans-101\"/>\r\n       <path d=\"M 37.796875 64.3125 \r\nL 12.890625 25.390625 \r\nL 37.796875 25.390625 \r\nz\r\nM 35.203125 72.90625 \r\nL 47.609375 72.90625 \r\nL 47.609375 25.390625 \r\nL 58.015625 25.390625 \r\nL 58.015625 17.1875 \r\nL 47.609375 17.1875 \r\nL 47.609375 0 \r\nL 37.796875 0 \r\nL 37.796875 17.1875 \r\nL 4.890625 17.1875 \r\nL 4.890625 26.703125 \r\nz\r\n\" id=\"DejaVuSans-52\"/>\r\n      </defs>\r\n      <g transform=\"translate(122.854857 228.100592)rotate(-90)scale(0.1 -0.1)\">\r\n       <use xlink:href=\"#DejaVuSans-84\"/>\r\n       <use x=\"45.958984\" xlink:href=\"#DejaVuSans-117\"/>\r\n       <use x=\"109.337891\" xlink:href=\"#DejaVuSans-101\"/>\r\n       <use x=\"170.861328\" xlink:href=\"#DejaVuSans-32\"/>\r\n       <use x=\"202.648438\" xlink:href=\"#DejaVuSans-48\"/>\r\n       <use x=\"266.271484\" xlink:href=\"#DejaVuSans-56\"/>\r\n       <use x=\"329.894531\" xlink:href=\"#DejaVuSans-45\"/>\r\n       <use x=\"365.978516\" xlink:href=\"#DejaVuSans-48\"/>\r\n       <use x=\"429.601562\" xlink:href=\"#DejaVuSans-52\"/>\r\n      </g>\r\n     </g>\r\n    </g>\r\n    <g id=\"xtick_5\">\r\n     <g id=\"line2d_5\">\r\n      <g>\r\n       <use style=\"stroke:#000000;stroke-width:0.8;\" x=\"131.686305\" xlink:href=\"#m5b3350d719\" y=\"171.778717\"/>\r\n      </g>\r\n     </g>\r\n     <g id=\"text_5\">\r\n      <!-- Wed 08-05 -->\r\n      <defs>\r\n       <path d=\"M 3.328125 72.90625 \r\nL 13.28125 72.90625 \r\nL 28.609375 11.28125 \r\nL 43.890625 72.90625 \r\nL 54.984375 72.90625 \r\nL 70.3125 11.28125 \r\nL 85.59375 72.90625 \r\nL 95.609375 72.90625 \r\nL 77.296875 0 \r\nL 64.890625 0 \r\nL 49.515625 63.28125 \r\nL 33.984375 0 \r\nL 21.578125 0 \r\nz\r\n\" id=\"DejaVuSans-87\"/>\r\n       <path d=\"M 45.40625 46.390625 \r\nL 45.40625 75.984375 \r\nL 54.390625 75.984375 \r\nL 54.390625 0 \r\nL 45.40625 0 \r\nL 45.40625 8.203125 \r\nQ 42.578125 3.328125 38.25 0.953125 \r\nQ 33.9375 -1.421875 27.875 -1.421875 \r\nQ 17.96875 -1.421875 11.734375 6.484375 \r\nQ 5.515625 14.40625 5.515625 27.296875 \r\nQ 5.515625 40.1875 11.734375 48.09375 \r\nQ 17.96875 56 27.875 56 \r\nQ 33.9375 56 38.25 53.625 \r\nQ 42.578125 51.265625 45.40625 46.390625 \r\nz\r\nM 14.796875 27.296875 \r\nQ 14.796875 17.390625 18.875 11.75 \r\nQ 22.953125 6.109375 30.078125 6.109375 \r\nQ 37.203125 6.109375 41.296875 11.75 \r\nQ 45.40625 17.390625 45.40625 27.296875 \r\nQ 45.40625 37.203125 41.296875 42.84375 \r\nQ 37.203125 48.484375 30.078125 48.484375 \r\nQ 22.953125 48.484375 18.875 42.84375 \r\nQ 14.796875 37.203125 14.796875 27.296875 \r\nz\r\n\" id=\"DejaVuSans-100\"/>\r\n       <path d=\"M 10.796875 72.90625 \r\nL 49.515625 72.90625 \r\nL 49.515625 64.59375 \r\nL 19.828125 64.59375 \r\nL 19.828125 46.734375 \r\nQ 21.96875 47.46875 24.109375 47.828125 \r\nQ 26.265625 48.1875 28.421875 48.1875 \r\nQ 40.625 48.1875 47.75 41.5 \r\nQ 54.890625 34.8125 54.890625 23.390625 \r\nQ 54.890625 11.625 47.5625 5.09375 \r\nQ 40.234375 -1.421875 26.90625 -1.421875 \r\nQ 22.3125 -1.421875 17.546875 -0.640625 \r\nQ 12.796875 0.140625 7.71875 1.703125 \r\nL 7.71875 11.625 \r\nQ 12.109375 9.234375 16.796875 8.0625 \r\nQ 21.484375 6.890625 26.703125 6.890625 \r\nQ 35.15625 6.890625 40.078125 11.328125 \r\nQ 45.015625 15.765625 45.015625 23.390625 \r\nQ 45.015625 31 40.078125 35.4375 \r\nQ 35.15625 39.890625 26.703125 39.890625 \r\nQ 22.75 39.890625 18.8125 39.015625 \r\nQ 14.890625 38.140625 10.796875 36.28125 \r\nz\r\n\" id=\"DejaVuSans-53\"/>\r\n      </defs>\r\n      <g transform=\"translate(139.284742 232.816217)rotate(-90)scale(0.1 -0.1)\">\r\n       <use xlink:href=\"#DejaVuSans-87\"/>\r\n       <use x=\"93.001953\" xlink:href=\"#DejaVuSans-101\"/>\r\n       <use x=\"154.525391\" xlink:href=\"#DejaVuSans-100\"/>\r\n       <use x=\"218.001953\" xlink:href=\"#DejaVuSans-32\"/>\r\n       <use x=\"249.789062\" xlink:href=\"#DejaVuSans-48\"/>\r\n       <use x=\"313.412109\" xlink:href=\"#DejaVuSans-56\"/>\r\n       <use x=\"377.035156\" xlink:href=\"#DejaVuSans-45\"/>\r\n       <use x=\"413.119141\" xlink:href=\"#DejaVuSans-48\"/>\r\n       <use x=\"476.742188\" xlink:href=\"#DejaVuSans-53\"/>\r\n      </g>\r\n     </g>\r\n    </g>\r\n    <g id=\"xtick_6\">\r\n     <g id=\"line2d_6\">\r\n      <g>\r\n       <use style=\"stroke:#000000;stroke-width:0.8;\" x=\"148.116191\" xlink:href=\"#m5b3350d719\" y=\"171.778717\"/>\r\n      </g>\r\n     </g>\r\n     <g id=\"text_6\">\r\n      <!-- Thu 08-06 -->\r\n      <defs>\r\n       <path d=\"M 54.890625 33.015625 \r\nL 54.890625 0 \r\nL 45.90625 0 \r\nL 45.90625 32.71875 \r\nQ 45.90625 40.484375 42.875 44.328125 \r\nQ 39.84375 48.1875 33.796875 48.1875 \r\nQ 26.515625 48.1875 22.3125 43.546875 \r\nQ 18.109375 38.921875 18.109375 30.90625 \r\nL 18.109375 0 \r\nL 9.078125 0 \r\nL 9.078125 75.984375 \r\nL 18.109375 75.984375 \r\nL 18.109375 46.1875 \r\nQ 21.34375 51.125 25.703125 53.5625 \r\nQ 30.078125 56 35.796875 56 \r\nQ 45.21875 56 50.046875 50.171875 \r\nQ 54.890625 44.34375 54.890625 33.015625 \r\nz\r\n\" id=\"DejaVuSans-104\"/>\r\n       <path d=\"M 33.015625 40.375 \r\nQ 26.375 40.375 22.484375 35.828125 \r\nQ 18.609375 31.296875 18.609375 23.390625 \r\nQ 18.609375 15.53125 22.484375 10.953125 \r\nQ 26.375 6.390625 33.015625 6.390625 \r\nQ 39.65625 6.390625 43.53125 10.953125 \r\nQ 47.40625 15.53125 47.40625 23.390625 \r\nQ 47.40625 31.296875 43.53125 35.828125 \r\nQ 39.65625 40.375 33.015625 40.375 \r\nz\r\nM 52.59375 71.296875 \r\nL 52.59375 62.3125 \r\nQ 48.875 64.0625 45.09375 64.984375 \r\nQ 41.3125 65.921875 37.59375 65.921875 \r\nQ 27.828125 65.921875 22.671875 59.328125 \r\nQ 17.53125 52.734375 16.796875 39.40625 \r\nQ 19.671875 43.65625 24.015625 45.921875 \r\nQ 28.375 48.1875 33.59375 48.1875 \r\nQ 44.578125 48.1875 50.953125 41.515625 \r\nQ 57.328125 34.859375 57.328125 23.390625 \r\nQ 57.328125 12.15625 50.6875 5.359375 \r\nQ 44.046875 -1.421875 33.015625 -1.421875 \r\nQ 20.359375 -1.421875 13.671875 8.265625 \r\nQ 6.984375 17.96875 6.984375 36.375 \r\nQ 6.984375 53.65625 15.1875 63.9375 \r\nQ 23.390625 74.21875 37.203125 74.21875 \r\nQ 40.921875 74.21875 44.703125 73.484375 \r\nQ 48.484375 72.75 52.59375 71.296875 \r\nz\r\n\" id=\"DejaVuSans-54\"/>\r\n      </defs>\r\n      <g transform=\"translate(155.714628 229.797467)rotate(-90)scale(0.1 -0.1)\">\r\n       <use xlink:href=\"#DejaVuSans-84\"/>\r\n       <use x=\"61.083984\" xlink:href=\"#DejaVuSans-104\"/>\r\n       <use x=\"124.462891\" xlink:href=\"#DejaVuSans-117\"/>\r\n       <use x=\"187.841797\" xlink:href=\"#DejaVuSans-32\"/>\r\n       <use x=\"219.628906\" xlink:href=\"#DejaVuSans-48\"/>\r\n       <use x=\"283.251953\" xlink:href=\"#DejaVuSans-56\"/>\r\n       <use x=\"346.875\" xlink:href=\"#DejaVuSans-45\"/>\r\n       <use x=\"382.958984\" xlink:href=\"#DejaVuSans-48\"/>\r\n       <use x=\"446.582031\" xlink:href=\"#DejaVuSans-54\"/>\r\n      </g>\r\n     </g>\r\n    </g>\r\n    <g id=\"xtick_7\">\r\n     <g id=\"line2d_7\">\r\n      <g>\r\n       <use style=\"stroke:#000000;stroke-width:0.8;\" x=\"164.546077\" xlink:href=\"#m5b3350d719\" y=\"171.778717\"/>\r\n      </g>\r\n     </g>\r\n     <g id=\"text_7\">\r\n      <!-- Fri 08-07 -->\r\n      <defs>\r\n       <path d=\"M 9.8125 72.90625 \r\nL 51.703125 72.90625 \r\nL 51.703125 64.59375 \r\nL 19.671875 64.59375 \r\nL 19.671875 43.109375 \r\nL 48.578125 43.109375 \r\nL 48.578125 34.8125 \r\nL 19.671875 34.8125 \r\nL 19.671875 0 \r\nL 9.8125 0 \r\nz\r\n\" id=\"DejaVuSans-70\"/>\r\n       <path d=\"M 41.109375 46.296875 \r\nQ 39.59375 47.171875 37.8125 47.578125 \r\nQ 36.03125 48 33.890625 48 \r\nQ 26.265625 48 22.1875 43.046875 \r\nQ 18.109375 38.09375 18.109375 28.8125 \r\nL 18.109375 0 \r\nL 9.078125 0 \r\nL 9.078125 54.6875 \r\nL 18.109375 54.6875 \r\nL 18.109375 46.1875 \r\nQ 20.953125 51.171875 25.484375 53.578125 \r\nQ 30.03125 56 36.53125 56 \r\nQ 37.453125 56 38.578125 55.875 \r\nQ 39.703125 55.765625 41.0625 55.515625 \r\nz\r\n\" id=\"DejaVuSans-114\"/>\r\n       <path d=\"M 9.421875 54.6875 \r\nL 18.40625 54.6875 \r\nL 18.40625 0 \r\nL 9.421875 0 \r\nz\r\nM 9.421875 75.984375 \r\nL 18.40625 75.984375 \r\nL 18.40625 64.59375 \r\nL 9.421875 64.59375 \r\nz\r\n\" id=\"DejaVuSans-105\"/>\r\n       <path d=\"M 8.203125 72.90625 \r\nL 55.078125 72.90625 \r\nL 55.078125 68.703125 \r\nL 28.609375 0 \r\nL 18.3125 0 \r\nL 43.21875 64.59375 \r\nL 8.203125 64.59375 \r\nz\r\n\" id=\"DejaVuSans-55\"/>\r\n      </defs>\r\n      <g transform=\"translate(172.144514 222.93028)rotate(-90)scale(0.1 -0.1)\">\r\n       <use xlink:href=\"#DejaVuSans-70\"/>\r\n       <use x=\"50.269531\" xlink:href=\"#DejaVuSans-114\"/>\r\n       <use x=\"91.382812\" xlink:href=\"#DejaVuSans-105\"/>\r\n       <use x=\"119.166016\" xlink:href=\"#DejaVuSans-32\"/>\r\n       <use x=\"150.953125\" xlink:href=\"#DejaVuSans-48\"/>\r\n       <use x=\"214.576172\" xlink:href=\"#DejaVuSans-56\"/>\r\n       <use x=\"278.199219\" xlink:href=\"#DejaVuSans-45\"/>\r\n       <use x=\"314.283203\" xlink:href=\"#DejaVuSans-48\"/>\r\n       <use x=\"377.90625\" xlink:href=\"#DejaVuSans-55\"/>\r\n      </g>\r\n     </g>\r\n    </g>\r\n    <g id=\"xtick_8\">\r\n     <g id=\"line2d_8\">\r\n      <g>\r\n       <use style=\"stroke:#000000;stroke-width:0.8;\" x=\"180.975963\" xlink:href=\"#m5b3350d719\" y=\"171.778717\"/>\r\n      </g>\r\n     </g>\r\n     <g id=\"text_8\">\r\n      <!-- Sat 08-08 -->\r\n      <g transform=\"translate(188.5744 227.41153)rotate(-90)scale(0.1 -0.1)\">\r\n       <use xlink:href=\"#DejaVuSans-83\"/>\r\n       <use x=\"63.476562\" xlink:href=\"#DejaVuSans-97\"/>\r\n       <use x=\"124.755859\" xlink:href=\"#DejaVuSans-116\"/>\r\n       <use x=\"163.964844\" xlink:href=\"#DejaVuSans-32\"/>\r\n       <use x=\"195.751953\" xlink:href=\"#DejaVuSans-48\"/>\r\n       <use x=\"259.375\" xlink:href=\"#DejaVuSans-56\"/>\r\n       <use x=\"322.998047\" xlink:href=\"#DejaVuSans-45\"/>\r\n       <use x=\"359.082031\" xlink:href=\"#DejaVuSans-48\"/>\r\n       <use x=\"422.705078\" xlink:href=\"#DejaVuSans-56\"/>\r\n      </g>\r\n     </g>\r\n    </g>\r\n    <g id=\"xtick_9\">\r\n     <g id=\"line2d_9\">\r\n      <g>\r\n       <use style=\"stroke:#000000;stroke-width:0.8;\" x=\"197.405849\" xlink:href=\"#m5b3350d719\" y=\"171.778717\"/>\r\n      </g>\r\n     </g>\r\n     <g id=\"text_9\">\r\n      <!-- Sun 08-09 -->\r\n      <defs>\r\n       <path d=\"M 10.984375 1.515625 \r\nL 10.984375 10.5 \r\nQ 14.703125 8.734375 18.5 7.8125 \r\nQ 22.3125 6.890625 25.984375 6.890625 \r\nQ 35.75 6.890625 40.890625 13.453125 \r\nQ 46.046875 20.015625 46.78125 33.40625 \r\nQ 43.953125 29.203125 39.59375 26.953125 \r\nQ 35.25 24.703125 29.984375 24.703125 \r\nQ 19.046875 24.703125 12.671875 31.3125 \r\nQ 6.296875 37.9375 6.296875 49.421875 \r\nQ 6.296875 60.640625 12.9375 67.421875 \r\nQ 19.578125 74.21875 30.609375 74.21875 \r\nQ 43.265625 74.21875 49.921875 64.515625 \r\nQ 56.59375 54.828125 56.59375 36.375 \r\nQ 56.59375 19.140625 48.40625 8.859375 \r\nQ 40.234375 -1.421875 26.421875 -1.421875 \r\nQ 22.703125 -1.421875 18.890625 -0.6875 \r\nQ 15.09375 0.046875 10.984375 1.515625 \r\nz\r\nM 30.609375 32.421875 \r\nQ 37.25 32.421875 41.125 36.953125 \r\nQ 45.015625 41.5 45.015625 49.421875 \r\nQ 45.015625 57.28125 41.125 61.84375 \r\nQ 37.25 66.40625 30.609375 66.40625 \r\nQ 23.96875 66.40625 20.09375 61.84375 \r\nQ 16.21875 57.28125 16.21875 49.421875 \r\nQ 16.21875 41.5 20.09375 36.953125 \r\nQ 23.96875 32.421875 30.609375 32.421875 \r\nz\r\n\" id=\"DejaVuSans-57\"/>\r\n      </defs>\r\n      <g transform=\"translate(205.004286 230.038092)rotate(-90)scale(0.1 -0.1)\">\r\n       <use xlink:href=\"#DejaVuSans-83\"/>\r\n       <use x=\"63.476562\" xlink:href=\"#DejaVuSans-117\"/>\r\n       <use x=\"126.855469\" xlink:href=\"#DejaVuSans-110\"/>\r\n       <use x=\"190.234375\" xlink:href=\"#DejaVuSans-32\"/>\r\n       <use x=\"222.021484\" xlink:href=\"#DejaVuSans-48\"/>\r\n       <use x=\"285.644531\" xlink:href=\"#DejaVuSans-56\"/>\r\n       <use x=\"349.267578\" xlink:href=\"#DejaVuSans-45\"/>\r\n       <use x=\"385.351562\" xlink:href=\"#DejaVuSans-48\"/>\r\n       <use x=\"448.974609\" xlink:href=\"#DejaVuSans-57\"/>\r\n      </g>\r\n     </g>\r\n    </g>\r\n    <g id=\"xtick_10\">\r\n     <g id=\"line2d_10\">\r\n      <g>\r\n       <use style=\"stroke:#000000;stroke-width:0.8;\" x=\"213.835734\" xlink:href=\"#m5b3350d719\" y=\"171.778717\"/>\r\n      </g>\r\n     </g>\r\n     <g id=\"text_10\">\r\n      <!-- Mon 08-10 -->\r\n      <g transform=\"translate(221.434172 232.09903)rotate(-90)scale(0.1 -0.1)\">\r\n       <use xlink:href=\"#DejaVuSans-77\"/>\r\n       <use x=\"86.279297\" xlink:href=\"#DejaVuSans-111\"/>\r\n       <use x=\"147.460938\" xlink:href=\"#DejaVuSans-110\"/>\r\n       <use x=\"210.839844\" xlink:href=\"#DejaVuSans-32\"/>\r\n       <use x=\"242.626953\" xlink:href=\"#DejaVuSans-48\"/>\r\n       <use x=\"306.25\" xlink:href=\"#DejaVuSans-56\"/>\r\n       <use x=\"369.873047\" xlink:href=\"#DejaVuSans-45\"/>\r\n       <use x=\"405.957031\" xlink:href=\"#DejaVuSans-49\"/>\r\n       <use x=\"469.580078\" xlink:href=\"#DejaVuSans-48\"/>\r\n      </g>\r\n     </g>\r\n    </g>\r\n    <g id=\"xtick_11\">\r\n     <g id=\"line2d_11\">\r\n      <g>\r\n       <use style=\"stroke:#000000;stroke-width:0.8;\" x=\"230.26562\" xlink:href=\"#m5b3350d719\" y=\"171.778717\"/>\r\n      </g>\r\n     </g>\r\n     <g id=\"text_11\">\r\n      <!-- Tue 08-11 -->\r\n      <g transform=\"translate(237.864058 228.100592)rotate(-90)scale(0.1 -0.1)\">\r\n       <use xlink:href=\"#DejaVuSans-84\"/>\r\n       <use x=\"45.958984\" xlink:href=\"#DejaVuSans-117\"/>\r\n       <use x=\"109.337891\" xlink:href=\"#DejaVuSans-101\"/>\r\n       <use x=\"170.861328\" xlink:href=\"#DejaVuSans-32\"/>\r\n       <use x=\"202.648438\" xlink:href=\"#DejaVuSans-48\"/>\r\n       <use x=\"266.271484\" xlink:href=\"#DejaVuSans-56\"/>\r\n       <use x=\"329.894531\" xlink:href=\"#DejaVuSans-45\"/>\r\n       <use x=\"365.978516\" xlink:href=\"#DejaVuSans-49\"/>\r\n       <use x=\"429.601562\" xlink:href=\"#DejaVuSans-49\"/>\r\n      </g>\r\n     </g>\r\n    </g>\r\n    <g id=\"xtick_12\">\r\n     <g id=\"line2d_12\">\r\n      <g>\r\n       <use style=\"stroke:#000000;stroke-width:0.8;\" x=\"246.695506\" xlink:href=\"#m5b3350d719\" y=\"171.778717\"/>\r\n      </g>\r\n     </g>\r\n     <g id=\"text_12\">\r\n      <!-- Wed 08-12 -->\r\n      <g transform=\"translate(254.293944 232.816217)rotate(-90)scale(0.1 -0.1)\">\r\n       <use xlink:href=\"#DejaVuSans-87\"/>\r\n       <use x=\"93.001953\" xlink:href=\"#DejaVuSans-101\"/>\r\n       <use x=\"154.525391\" xlink:href=\"#DejaVuSans-100\"/>\r\n       <use x=\"218.001953\" xlink:href=\"#DejaVuSans-32\"/>\r\n       <use x=\"249.789062\" xlink:href=\"#DejaVuSans-48\"/>\r\n       <use x=\"313.412109\" xlink:href=\"#DejaVuSans-56\"/>\r\n       <use x=\"377.035156\" xlink:href=\"#DejaVuSans-45\"/>\r\n       <use x=\"413.119141\" xlink:href=\"#DejaVuSans-49\"/>\r\n       <use x=\"476.742188\" xlink:href=\"#DejaVuSans-50\"/>\r\n      </g>\r\n     </g>\r\n    </g>\r\n    <g id=\"xtick_13\">\r\n     <g id=\"line2d_13\">\r\n      <g>\r\n       <use style=\"stroke:#000000;stroke-width:0.8;\" x=\"263.125392\" xlink:href=\"#m5b3350d719\" y=\"171.778717\"/>\r\n      </g>\r\n     </g>\r\n     <g id=\"text_13\">\r\n      <!-- Thu 08-13 -->\r\n      <g transform=\"translate(270.72383 229.797467)rotate(-90)scale(0.1 -0.1)\">\r\n       <use xlink:href=\"#DejaVuSans-84\"/>\r\n       <use x=\"61.083984\" xlink:href=\"#DejaVuSans-104\"/>\r\n       <use x=\"124.462891\" xlink:href=\"#DejaVuSans-117\"/>\r\n       <use x=\"187.841797\" xlink:href=\"#DejaVuSans-32\"/>\r\n       <use x=\"219.628906\" xlink:href=\"#DejaVuSans-48\"/>\r\n       <use x=\"283.251953\" xlink:href=\"#DejaVuSans-56\"/>\r\n       <use x=\"346.875\" xlink:href=\"#DejaVuSans-45\"/>\r\n       <use x=\"382.958984\" xlink:href=\"#DejaVuSans-49\"/>\r\n       <use x=\"446.582031\" xlink:href=\"#DejaVuSans-51\"/>\r\n      </g>\r\n     </g>\r\n    </g>\r\n    <g id=\"xtick_14\">\r\n     <g id=\"line2d_14\">\r\n      <g>\r\n       <use style=\"stroke:#000000;stroke-width:0.8;\" x=\"279.555278\" xlink:href=\"#m5b3350d719\" y=\"171.778717\"/>\r\n      </g>\r\n     </g>\r\n     <g id=\"text_14\">\r\n      <!-- Fri 08-14 -->\r\n      <g transform=\"translate(287.153716 222.93028)rotate(-90)scale(0.1 -0.1)\">\r\n       <use xlink:href=\"#DejaVuSans-70\"/>\r\n       <use x=\"50.269531\" xlink:href=\"#DejaVuSans-114\"/>\r\n       <use x=\"91.382812\" xlink:href=\"#DejaVuSans-105\"/>\r\n       <use x=\"119.166016\" xlink:href=\"#DejaVuSans-32\"/>\r\n       <use x=\"150.953125\" xlink:href=\"#DejaVuSans-48\"/>\r\n       <use x=\"214.576172\" xlink:href=\"#DejaVuSans-56\"/>\r\n       <use x=\"278.199219\" xlink:href=\"#DejaVuSans-45\"/>\r\n       <use x=\"314.283203\" xlink:href=\"#DejaVuSans-49\"/>\r\n       <use x=\"377.90625\" xlink:href=\"#DejaVuSans-52\"/>\r\n      </g>\r\n     </g>\r\n    </g>\r\n    <g id=\"xtick_15\">\r\n     <g id=\"line2d_15\">\r\n      <g>\r\n       <use style=\"stroke:#000000;stroke-width:0.8;\" x=\"295.985164\" xlink:href=\"#m5b3350d719\" y=\"171.778717\"/>\r\n      </g>\r\n     </g>\r\n     <g id=\"text_15\">\r\n      <!-- Sat 08-15 -->\r\n      <g transform=\"translate(303.583602 227.41153)rotate(-90)scale(0.1 -0.1)\">\r\n       <use xlink:href=\"#DejaVuSans-83\"/>\r\n       <use x=\"63.476562\" xlink:href=\"#DejaVuSans-97\"/>\r\n       <use x=\"124.755859\" xlink:href=\"#DejaVuSans-116\"/>\r\n       <use x=\"163.964844\" xlink:href=\"#DejaVuSans-32\"/>\r\n       <use x=\"195.751953\" xlink:href=\"#DejaVuSans-48\"/>\r\n       <use x=\"259.375\" xlink:href=\"#DejaVuSans-56\"/>\r\n       <use x=\"322.998047\" xlink:href=\"#DejaVuSans-45\"/>\r\n       <use x=\"359.082031\" xlink:href=\"#DejaVuSans-49\"/>\r\n       <use x=\"422.705078\" xlink:href=\"#DejaVuSans-53\"/>\r\n      </g>\r\n     </g>\r\n    </g>\r\n    <g id=\"xtick_16\">\r\n     <g id=\"line2d_16\">\r\n      <g>\r\n       <use style=\"stroke:#000000;stroke-width:0.8;\" x=\"312.41505\" xlink:href=\"#m5b3350d719\" y=\"171.778717\"/>\r\n      </g>\r\n     </g>\r\n     <g id=\"text_16\">\r\n      <!-- Sun 08-16 -->\r\n      <g transform=\"translate(320.013487 230.038092)rotate(-90)scale(0.1 -0.1)\">\r\n       <use xlink:href=\"#DejaVuSans-83\"/>\r\n       <use x=\"63.476562\" xlink:href=\"#DejaVuSans-117\"/>\r\n       <use x=\"126.855469\" xlink:href=\"#DejaVuSans-110\"/>\r\n       <use x=\"190.234375\" xlink:href=\"#DejaVuSans-32\"/>\r\n       <use x=\"222.021484\" xlink:href=\"#DejaVuSans-48\"/>\r\n       <use x=\"285.644531\" xlink:href=\"#DejaVuSans-56\"/>\r\n       <use x=\"349.267578\" xlink:href=\"#DejaVuSans-45\"/>\r\n       <use x=\"385.351562\" xlink:href=\"#DejaVuSans-49\"/>\r\n       <use x=\"448.974609\" xlink:href=\"#DejaVuSans-54\"/>\r\n      </g>\r\n     </g>\r\n    </g>\r\n    <g id=\"xtick_17\">\r\n     <g id=\"line2d_17\">\r\n      <g>\r\n       <use style=\"stroke:#000000;stroke-width:0.8;\" x=\"328.844936\" xlink:href=\"#m5b3350d719\" y=\"171.778717\"/>\r\n      </g>\r\n     </g>\r\n     <g id=\"text_17\">\r\n      <!-- Mon 08-17 -->\r\n      <g transform=\"translate(336.443373 232.09903)rotate(-90)scale(0.1 -0.1)\">\r\n       <use xlink:href=\"#DejaVuSans-77\"/>\r\n       <use x=\"86.279297\" xlink:href=\"#DejaVuSans-111\"/>\r\n       <use x=\"147.460938\" xlink:href=\"#DejaVuSans-110\"/>\r\n       <use x=\"210.839844\" xlink:href=\"#DejaVuSans-32\"/>\r\n       <use x=\"242.626953\" xlink:href=\"#DejaVuSans-48\"/>\r\n       <use x=\"306.25\" xlink:href=\"#DejaVuSans-56\"/>\r\n       <use x=\"369.873047\" xlink:href=\"#DejaVuSans-45\"/>\r\n       <use x=\"405.957031\" xlink:href=\"#DejaVuSans-49\"/>\r\n       <use x=\"469.580078\" xlink:href=\"#DejaVuSans-55\"/>\r\n      </g>\r\n     </g>\r\n    </g>\r\n    <g id=\"xtick_18\">\r\n     <g id=\"line2d_18\">\r\n      <g>\r\n       <use style=\"stroke:#000000;stroke-width:0.8;\" x=\"345.274822\" xlink:href=\"#m5b3350d719\" y=\"171.778717\"/>\r\n      </g>\r\n     </g>\r\n     <g id=\"text_18\">\r\n      <!-- Tue 08-18 -->\r\n      <g transform=\"translate(352.873259 228.100592)rotate(-90)scale(0.1 -0.1)\">\r\n       <use xlink:href=\"#DejaVuSans-84\"/>\r\n       <use x=\"45.958984\" xlink:href=\"#DejaVuSans-117\"/>\r\n       <use x=\"109.337891\" xlink:href=\"#DejaVuSans-101\"/>\r\n       <use x=\"170.861328\" xlink:href=\"#DejaVuSans-32\"/>\r\n       <use x=\"202.648438\" xlink:href=\"#DejaVuSans-48\"/>\r\n       <use x=\"266.271484\" xlink:href=\"#DejaVuSans-56\"/>\r\n       <use x=\"329.894531\" xlink:href=\"#DejaVuSans-45\"/>\r\n       <use x=\"365.978516\" xlink:href=\"#DejaVuSans-49\"/>\r\n       <use x=\"429.601562\" xlink:href=\"#DejaVuSans-56\"/>\r\n      </g>\r\n     </g>\r\n    </g>\r\n    <g id=\"xtick_19\">\r\n     <g id=\"line2d_19\">\r\n      <g>\r\n       <use style=\"stroke:#000000;stroke-width:0.8;\" x=\"361.704708\" xlink:href=\"#m5b3350d719\" y=\"171.778717\"/>\r\n      </g>\r\n     </g>\r\n     <g id=\"text_19\">\r\n      <!-- Wed 08-19 -->\r\n      <g transform=\"translate(369.303145 232.816217)rotate(-90)scale(0.1 -0.1)\">\r\n       <use xlink:href=\"#DejaVuSans-87\"/>\r\n       <use x=\"93.001953\" xlink:href=\"#DejaVuSans-101\"/>\r\n       <use x=\"154.525391\" xlink:href=\"#DejaVuSans-100\"/>\r\n       <use x=\"218.001953\" xlink:href=\"#DejaVuSans-32\"/>\r\n       <use x=\"249.789062\" xlink:href=\"#DejaVuSans-48\"/>\r\n       <use x=\"313.412109\" xlink:href=\"#DejaVuSans-56\"/>\r\n       <use x=\"377.035156\" xlink:href=\"#DejaVuSans-45\"/>\r\n       <use x=\"413.119141\" xlink:href=\"#DejaVuSans-49\"/>\r\n       <use x=\"476.742188\" xlink:href=\"#DejaVuSans-57\"/>\r\n      </g>\r\n     </g>\r\n    </g>\r\n    <g id=\"xtick_20\">\r\n     <g id=\"line2d_20\">\r\n      <g>\r\n       <use style=\"stroke:#000000;stroke-width:0.8;\" x=\"378.134594\" xlink:href=\"#m5b3350d719\" y=\"171.778717\"/>\r\n      </g>\r\n     </g>\r\n     <g id=\"text_20\">\r\n      <!-- Thu 08-20 -->\r\n      <g transform=\"translate(385.733031 229.797467)rotate(-90)scale(0.1 -0.1)\">\r\n       <use xlink:href=\"#DejaVuSans-84\"/>\r\n       <use x=\"61.083984\" xlink:href=\"#DejaVuSans-104\"/>\r\n       <use x=\"124.462891\" xlink:href=\"#DejaVuSans-117\"/>\r\n       <use x=\"187.841797\" xlink:href=\"#DejaVuSans-32\"/>\r\n       <use x=\"219.628906\" xlink:href=\"#DejaVuSans-48\"/>\r\n       <use x=\"283.251953\" xlink:href=\"#DejaVuSans-56\"/>\r\n       <use x=\"346.875\" xlink:href=\"#DejaVuSans-45\"/>\r\n       <use x=\"382.958984\" xlink:href=\"#DejaVuSans-50\"/>\r\n       <use x=\"446.582031\" xlink:href=\"#DejaVuSans-48\"/>\r\n      </g>\r\n     </g>\r\n    </g>\r\n    <g id=\"xtick_21\">\r\n     <g id=\"line2d_21\">\r\n      <g>\r\n       <use style=\"stroke:#000000;stroke-width:0.8;\" x=\"394.564479\" xlink:href=\"#m5b3350d719\" y=\"171.778717\"/>\r\n      </g>\r\n     </g>\r\n     <g id=\"text_21\">\r\n      <!-- Fri 08-21 -->\r\n      <g transform=\"translate(402.162917 222.93028)rotate(-90)scale(0.1 -0.1)\">\r\n       <use xlink:href=\"#DejaVuSans-70\"/>\r\n       <use x=\"50.269531\" xlink:href=\"#DejaVuSans-114\"/>\r\n       <use x=\"91.382812\" xlink:href=\"#DejaVuSans-105\"/>\r\n       <use x=\"119.166016\" xlink:href=\"#DejaVuSans-32\"/>\r\n       <use x=\"150.953125\" xlink:href=\"#DejaVuSans-48\"/>\r\n       <use x=\"214.576172\" xlink:href=\"#DejaVuSans-56\"/>\r\n       <use x=\"278.199219\" xlink:href=\"#DejaVuSans-45\"/>\r\n       <use x=\"314.283203\" xlink:href=\"#DejaVuSans-50\"/>\r\n       <use x=\"377.90625\" xlink:href=\"#DejaVuSans-49\"/>\r\n      </g>\r\n     </g>\r\n    </g>\r\n    <g id=\"xtick_22\">\r\n     <g id=\"line2d_22\">\r\n      <g>\r\n       <use style=\"stroke:#000000;stroke-width:0.8;\" x=\"410.994365\" xlink:href=\"#m5b3350d719\" y=\"171.778717\"/>\r\n      </g>\r\n     </g>\r\n     <g id=\"text_22\">\r\n      <!-- Sat 08-22 -->\r\n      <g transform=\"translate(418.592803 227.41153)rotate(-90)scale(0.1 -0.1)\">\r\n       <use xlink:href=\"#DejaVuSans-83\"/>\r\n       <use x=\"63.476562\" xlink:href=\"#DejaVuSans-97\"/>\r\n       <use x=\"124.755859\" xlink:href=\"#DejaVuSans-116\"/>\r\n       <use x=\"163.964844\" xlink:href=\"#DejaVuSans-32\"/>\r\n       <use x=\"195.751953\" xlink:href=\"#DejaVuSans-48\"/>\r\n       <use x=\"259.375\" xlink:href=\"#DejaVuSans-56\"/>\r\n       <use x=\"322.998047\" xlink:href=\"#DejaVuSans-45\"/>\r\n       <use x=\"359.082031\" xlink:href=\"#DejaVuSans-50\"/>\r\n       <use x=\"422.705078\" xlink:href=\"#DejaVuSans-50\"/>\r\n      </g>\r\n     </g>\r\n    </g>\r\n    <g id=\"xtick_23\">\r\n     <g id=\"line2d_23\">\r\n      <g>\r\n       <use style=\"stroke:#000000;stroke-width:0.8;\" x=\"427.424251\" xlink:href=\"#m5b3350d719\" y=\"171.778717\"/>\r\n      </g>\r\n     </g>\r\n     <g id=\"text_23\">\r\n      <!-- Sun 08-23 -->\r\n      <g transform=\"translate(435.022689 230.038092)rotate(-90)scale(0.1 -0.1)\">\r\n       <use xlink:href=\"#DejaVuSans-83\"/>\r\n       <use x=\"63.476562\" xlink:href=\"#DejaVuSans-117\"/>\r\n       <use x=\"126.855469\" xlink:href=\"#DejaVuSans-110\"/>\r\n       <use x=\"190.234375\" xlink:href=\"#DejaVuSans-32\"/>\r\n       <use x=\"222.021484\" xlink:href=\"#DejaVuSans-48\"/>\r\n       <use x=\"285.644531\" xlink:href=\"#DejaVuSans-56\"/>\r\n       <use x=\"349.267578\" xlink:href=\"#DejaVuSans-45\"/>\r\n       <use x=\"385.351562\" xlink:href=\"#DejaVuSans-50\"/>\r\n       <use x=\"448.974609\" xlink:href=\"#DejaVuSans-51\"/>\r\n      </g>\r\n     </g>\r\n    </g>\r\n    <g id=\"xtick_24\">\r\n     <g id=\"line2d_24\">\r\n      <g>\r\n       <use style=\"stroke:#000000;stroke-width:0.8;\" x=\"443.854137\" xlink:href=\"#m5b3350d719\" y=\"171.778717\"/>\r\n      </g>\r\n     </g>\r\n     <g id=\"text_24\">\r\n      <!-- Mon 08-24 -->\r\n      <g transform=\"translate(451.452575 232.09903)rotate(-90)scale(0.1 -0.1)\">\r\n       <use xlink:href=\"#DejaVuSans-77\"/>\r\n       <use x=\"86.279297\" xlink:href=\"#DejaVuSans-111\"/>\r\n       <use x=\"147.460938\" xlink:href=\"#DejaVuSans-110\"/>\r\n       <use x=\"210.839844\" xlink:href=\"#DejaVuSans-32\"/>\r\n       <use x=\"242.626953\" xlink:href=\"#DejaVuSans-48\"/>\r\n       <use x=\"306.25\" xlink:href=\"#DejaVuSans-56\"/>\r\n       <use x=\"369.873047\" xlink:href=\"#DejaVuSans-45\"/>\r\n       <use x=\"405.957031\" xlink:href=\"#DejaVuSans-50\"/>\r\n       <use x=\"469.580078\" xlink:href=\"#DejaVuSans-52\"/>\r\n      </g>\r\n     </g>\r\n    </g>\r\n    <g id=\"xtick_25\">\r\n     <g id=\"line2d_25\">\r\n      <g>\r\n       <use style=\"stroke:#000000;stroke-width:0.8;\" x=\"460.284023\" xlink:href=\"#m5b3350d719\" y=\"171.778717\"/>\r\n      </g>\r\n     </g>\r\n     <g id=\"text_25\">\r\n      <!-- Tue 08-25 -->\r\n      <g transform=\"translate(467.882461 228.100592)rotate(-90)scale(0.1 -0.1)\">\r\n       <use xlink:href=\"#DejaVuSans-84\"/>\r\n       <use x=\"45.958984\" xlink:href=\"#DejaVuSans-117\"/>\r\n       <use x=\"109.337891\" xlink:href=\"#DejaVuSans-101\"/>\r\n       <use x=\"170.861328\" xlink:href=\"#DejaVuSans-32\"/>\r\n       <use x=\"202.648438\" xlink:href=\"#DejaVuSans-48\"/>\r\n       <use x=\"266.271484\" xlink:href=\"#DejaVuSans-56\"/>\r\n       <use x=\"329.894531\" xlink:href=\"#DejaVuSans-45\"/>\r\n       <use x=\"365.978516\" xlink:href=\"#DejaVuSans-50\"/>\r\n       <use x=\"429.601562\" xlink:href=\"#DejaVuSans-53\"/>\r\n      </g>\r\n     </g>\r\n    </g>\r\n    <g id=\"xtick_26\">\r\n     <g id=\"line2d_26\">\r\n      <g>\r\n       <use style=\"stroke:#000000;stroke-width:0.8;\" x=\"476.713909\" xlink:href=\"#m5b3350d719\" y=\"171.778717\"/>\r\n      </g>\r\n     </g>\r\n     <g id=\"text_26\">\r\n      <!-- Wed 08-26 -->\r\n      <g transform=\"translate(484.312346 232.816217)rotate(-90)scale(0.1 -0.1)\">\r\n       <use xlink:href=\"#DejaVuSans-87\"/>\r\n       <use x=\"93.001953\" xlink:href=\"#DejaVuSans-101\"/>\r\n       <use x=\"154.525391\" xlink:href=\"#DejaVuSans-100\"/>\r\n       <use x=\"218.001953\" xlink:href=\"#DejaVuSans-32\"/>\r\n       <use x=\"249.789062\" xlink:href=\"#DejaVuSans-48\"/>\r\n       <use x=\"313.412109\" xlink:href=\"#DejaVuSans-56\"/>\r\n       <use x=\"377.035156\" xlink:href=\"#DejaVuSans-45\"/>\r\n       <use x=\"413.119141\" xlink:href=\"#DejaVuSans-50\"/>\r\n       <use x=\"476.742188\" xlink:href=\"#DejaVuSans-54\"/>\r\n      </g>\r\n     </g>\r\n    </g>\r\n    <g id=\"xtick_27\">\r\n     <g id=\"line2d_27\">\r\n      <g>\r\n       <use style=\"stroke:#000000;stroke-width:0.8;\" x=\"493.143795\" xlink:href=\"#m5b3350d719\" y=\"171.778717\"/>\r\n      </g>\r\n     </g>\r\n     <g id=\"text_27\">\r\n      <!-- Thu 08-27 -->\r\n      <g transform=\"translate(500.742232 229.797467)rotate(-90)scale(0.1 -0.1)\">\r\n       <use xlink:href=\"#DejaVuSans-84\"/>\r\n       <use x=\"61.083984\" xlink:href=\"#DejaVuSans-104\"/>\r\n       <use x=\"124.462891\" xlink:href=\"#DejaVuSans-117\"/>\r\n       <use x=\"187.841797\" xlink:href=\"#DejaVuSans-32\"/>\r\n       <use x=\"219.628906\" xlink:href=\"#DejaVuSans-48\"/>\r\n       <use x=\"283.251953\" xlink:href=\"#DejaVuSans-56\"/>\r\n       <use x=\"346.875\" xlink:href=\"#DejaVuSans-45\"/>\r\n       <use x=\"382.958984\" xlink:href=\"#DejaVuSans-50\"/>\r\n       <use x=\"446.582031\" xlink:href=\"#DejaVuSans-55\"/>\r\n      </g>\r\n     </g>\r\n    </g>\r\n    <g id=\"xtick_28\">\r\n     <g id=\"line2d_28\">\r\n      <g>\r\n       <use style=\"stroke:#000000;stroke-width:0.8;\" x=\"509.573681\" xlink:href=\"#m5b3350d719\" y=\"171.778717\"/>\r\n      </g>\r\n     </g>\r\n     <g id=\"text_28\">\r\n      <!-- Fri 08-28 -->\r\n      <g transform=\"translate(517.172118 222.93028)rotate(-90)scale(0.1 -0.1)\">\r\n       <use xlink:href=\"#DejaVuSans-70\"/>\r\n       <use x=\"50.269531\" xlink:href=\"#DejaVuSans-114\"/>\r\n       <use x=\"91.382812\" xlink:href=\"#DejaVuSans-105\"/>\r\n       <use x=\"119.166016\" xlink:href=\"#DejaVuSans-32\"/>\r\n       <use x=\"150.953125\" xlink:href=\"#DejaVuSans-48\"/>\r\n       <use x=\"214.576172\" xlink:href=\"#DejaVuSans-56\"/>\r\n       <use x=\"278.199219\" xlink:href=\"#DejaVuSans-45\"/>\r\n       <use x=\"314.283203\" xlink:href=\"#DejaVuSans-50\"/>\r\n       <use x=\"377.90625\" xlink:href=\"#DejaVuSans-56\"/>\r\n      </g>\r\n     </g>\r\n    </g>\r\n    <g id=\"xtick_29\">\r\n     <g id=\"line2d_29\">\r\n      <g>\r\n       <use style=\"stroke:#000000;stroke-width:0.8;\" x=\"526.003567\" xlink:href=\"#m5b3350d719\" y=\"171.778717\"/>\r\n      </g>\r\n     </g>\r\n     <g id=\"text_29\">\r\n      <!-- Sat 08-29 -->\r\n      <g transform=\"translate(533.602004 227.41153)rotate(-90)scale(0.1 -0.1)\">\r\n       <use xlink:href=\"#DejaVuSans-83\"/>\r\n       <use x=\"63.476562\" xlink:href=\"#DejaVuSans-97\"/>\r\n       <use x=\"124.755859\" xlink:href=\"#DejaVuSans-116\"/>\r\n       <use x=\"163.964844\" xlink:href=\"#DejaVuSans-32\"/>\r\n       <use x=\"195.751953\" xlink:href=\"#DejaVuSans-48\"/>\r\n       <use x=\"259.375\" xlink:href=\"#DejaVuSans-56\"/>\r\n       <use x=\"322.998047\" xlink:href=\"#DejaVuSans-45\"/>\r\n       <use x=\"359.082031\" xlink:href=\"#DejaVuSans-50\"/>\r\n       <use x=\"422.705078\" xlink:href=\"#DejaVuSans-57\"/>\r\n      </g>\r\n     </g>\r\n    </g>\r\n    <g id=\"xtick_30\">\r\n     <g id=\"line2d_30\">\r\n      <g>\r\n       <use style=\"stroke:#000000;stroke-width:0.8;\" x=\"542.433453\" xlink:href=\"#m5b3350d719\" y=\"171.778717\"/>\r\n      </g>\r\n     </g>\r\n     <g id=\"text_30\">\r\n      <!-- Sun 08-30 -->\r\n      <g transform=\"translate(550.03189 230.038092)rotate(-90)scale(0.1 -0.1)\">\r\n       <use xlink:href=\"#DejaVuSans-83\"/>\r\n       <use x=\"63.476562\" xlink:href=\"#DejaVuSans-117\"/>\r\n       <use x=\"126.855469\" xlink:href=\"#DejaVuSans-110\"/>\r\n       <use x=\"190.234375\" xlink:href=\"#DejaVuSans-32\"/>\r\n       <use x=\"222.021484\" xlink:href=\"#DejaVuSans-48\"/>\r\n       <use x=\"285.644531\" xlink:href=\"#DejaVuSans-56\"/>\r\n       <use x=\"349.267578\" xlink:href=\"#DejaVuSans-45\"/>\r\n       <use x=\"385.351562\" xlink:href=\"#DejaVuSans-51\"/>\r\n       <use x=\"448.974609\" xlink:href=\"#DejaVuSans-48\"/>\r\n      </g>\r\n     </g>\r\n    </g>\r\n    <g id=\"xtick_31\">\r\n     <g id=\"line2d_31\">\r\n      <g>\r\n       <use style=\"stroke:#000000;stroke-width:0.8;\" x=\"558.863338\" xlink:href=\"#m5b3350d719\" y=\"171.778717\"/>\r\n      </g>\r\n     </g>\r\n     <g id=\"text_31\">\r\n      <!-- Mon 08-31 -->\r\n      <g transform=\"translate(566.461776 232.09903)rotate(-90)scale(0.1 -0.1)\">\r\n       <use xlink:href=\"#DejaVuSans-77\"/>\r\n       <use x=\"86.279297\" xlink:href=\"#DejaVuSans-111\"/>\r\n       <use x=\"147.460938\" xlink:href=\"#DejaVuSans-110\"/>\r\n       <use x=\"210.839844\" xlink:href=\"#DejaVuSans-32\"/>\r\n       <use x=\"242.626953\" xlink:href=\"#DejaVuSans-48\"/>\r\n       <use x=\"306.25\" xlink:href=\"#DejaVuSans-56\"/>\r\n       <use x=\"369.873047\" xlink:href=\"#DejaVuSans-45\"/>\r\n       <use x=\"405.957031\" xlink:href=\"#DejaVuSans-51\"/>\r\n       <use x=\"469.580078\" xlink:href=\"#DejaVuSans-49\"/>\r\n      </g>\r\n     </g>\r\n    </g>\r\n    <g id=\"text_32\">\r\n     <!-- date -->\r\n     <g transform=\"translate(308.328125 244.414655)scale(0.1 -0.1)\">\r\n      <use xlink:href=\"#DejaVuSans-100\"/>\r\n      <use x=\"63.476562\" xlink:href=\"#DejaVuSans-97\"/>\r\n      <use x=\"124.755859\" xlink:href=\"#DejaVuSans-116\"/>\r\n      <use x=\"163.964844\" xlink:href=\"#DejaVuSans-101\"/>\r\n     </g>\r\n    </g>\r\n   </g>\r\n   <g id=\"matplotlib.axis_2\">\r\n    <g id=\"ytick_1\">\r\n     <g id=\"line2d_32\">\r\n      <defs>\r\n       <path d=\"M 0 0 \r\nL -3.5 0 \r\n\" id=\"m9e9a1a6f22\" style=\"stroke:#000000;stroke-width:0.8;\"/>\r\n      </defs>\r\n      <g>\r\n       <use style=\"stroke:#000000;stroke-width:0.8;\" x=\"40.603125\" xlink:href=\"#m9e9a1a6f22\" y=\"164.36599\"/>\r\n      </g>\r\n     </g>\r\n     <g id=\"text_33\">\r\n      <!-- 0 -->\r\n      <g transform=\"translate(27.240625 168.165209)scale(0.1 -0.1)\">\r\n       <use xlink:href=\"#DejaVuSans-48\"/>\r\n      </g>\r\n     </g>\r\n    </g>\r\n    <g id=\"ytick_2\">\r\n     <g id=\"line2d_33\">\r\n      <g>\r\n       <use style=\"stroke:#000000;stroke-width:0.8;\" x=\"40.603125\" xlink:href=\"#m9e9a1a6f22\" y=\"138.804861\"/>\r\n      </g>\r\n     </g>\r\n     <g id=\"text_34\">\r\n      <!-- 10 -->\r\n      <g transform=\"translate(20.878125 142.60408)scale(0.1 -0.1)\">\r\n       <use xlink:href=\"#DejaVuSans-49\"/>\r\n       <use x=\"63.623047\" xlink:href=\"#DejaVuSans-48\"/>\r\n      </g>\r\n     </g>\r\n    </g>\r\n    <g id=\"ytick_3\">\r\n     <g id=\"line2d_34\">\r\n      <g>\r\n       <use style=\"stroke:#000000;stroke-width:0.8;\" x=\"40.603125\" xlink:href=\"#m9e9a1a6f22\" y=\"113.243733\"/>\r\n      </g>\r\n     </g>\r\n     <g id=\"text_35\">\r\n      <!-- 20 -->\r\n      <g transform=\"translate(20.878125 117.042952)scale(0.1 -0.1)\">\r\n       <use xlink:href=\"#DejaVuSans-50\"/>\r\n       <use x=\"63.623047\" xlink:href=\"#DejaVuSans-48\"/>\r\n      </g>\r\n     </g>\r\n    </g>\r\n    <g id=\"ytick_4\">\r\n     <g id=\"line2d_35\">\r\n      <g>\r\n       <use style=\"stroke:#000000;stroke-width:0.8;\" x=\"40.603125\" xlink:href=\"#m9e9a1a6f22\" y=\"87.682604\"/>\r\n      </g>\r\n     </g>\r\n     <g id=\"text_36\">\r\n      <!-- 30 -->\r\n      <g transform=\"translate(20.878125 91.481823)scale(0.1 -0.1)\">\r\n       <use xlink:href=\"#DejaVuSans-51\"/>\r\n       <use x=\"63.623047\" xlink:href=\"#DejaVuSans-48\"/>\r\n      </g>\r\n     </g>\r\n    </g>\r\n    <g id=\"ytick_5\">\r\n     <g id=\"line2d_36\">\r\n      <g>\r\n       <use style=\"stroke:#000000;stroke-width:0.8;\" x=\"40.603125\" xlink:href=\"#m9e9a1a6f22\" y=\"62.121476\"/>\r\n      </g>\r\n     </g>\r\n     <g id=\"text_37\">\r\n      <!-- 40 -->\r\n      <g transform=\"translate(20.878125 65.920695)scale(0.1 -0.1)\">\r\n       <use xlink:href=\"#DejaVuSans-52\"/>\r\n       <use x=\"63.623047\" xlink:href=\"#DejaVuSans-48\"/>\r\n      </g>\r\n     </g>\r\n    </g>\r\n    <g id=\"ytick_6\">\r\n     <g id=\"line2d_37\">\r\n      <g>\r\n       <use style=\"stroke:#000000;stroke-width:0.8;\" x=\"40.603125\" xlink:href=\"#m9e9a1a6f22\" y=\"36.560347\"/>\r\n      </g>\r\n     </g>\r\n     <g id=\"text_38\">\r\n      <!-- 50 -->\r\n      <g transform=\"translate(20.878125 40.359566)scale(0.1 -0.1)\">\r\n       <use xlink:href=\"#DejaVuSans-53\"/>\r\n       <use x=\"63.623047\" xlink:href=\"#DejaVuSans-48\"/>\r\n      </g>\r\n     </g>\r\n    </g>\r\n    <g id=\"ytick_7\">\r\n     <g id=\"line2d_38\">\r\n      <g>\r\n       <use style=\"stroke:#000000;stroke-width:0.8;\" x=\"40.603125\" xlink:href=\"#m9e9a1a6f22\" y=\"10.999219\"/>\r\n      </g>\r\n     </g>\r\n     <g id=\"text_39\">\r\n      <!-- 60 -->\r\n      <g transform=\"translate(20.878125 14.798438)scale(0.1 -0.1)\">\r\n       <use xlink:href=\"#DejaVuSans-54\"/>\r\n       <use x=\"63.623047\" xlink:href=\"#DejaVuSans-48\"/>\r\n      </g>\r\n     </g>\r\n    </g>\r\n    <g id=\"text_40\">\r\n     <!-- rental number -->\r\n     <defs>\r\n      <path d=\"M 9.421875 75.984375 \r\nL 18.40625 75.984375 \r\nL 18.40625 0 \r\nL 9.421875 0 \r\nz\r\n\" id=\"DejaVuSans-108\"/>\r\n      <path d=\"M 52 44.1875 \r\nQ 55.375 50.25 60.0625 53.125 \r\nQ 64.75 56 71.09375 56 \r\nQ 79.640625 56 84.28125 50.015625 \r\nQ 88.921875 44.046875 88.921875 33.015625 \r\nL 88.921875 0 \r\nL 79.890625 0 \r\nL 79.890625 32.71875 \r\nQ 79.890625 40.578125 77.09375 44.375 \r\nQ 74.3125 48.1875 68.609375 48.1875 \r\nQ 61.625 48.1875 57.5625 43.546875 \r\nQ 53.515625 38.921875 53.515625 30.90625 \r\nL 53.515625 0 \r\nL 44.484375 0 \r\nL 44.484375 32.71875 \r\nQ 44.484375 40.625 41.703125 44.40625 \r\nQ 38.921875 48.1875 33.109375 48.1875 \r\nQ 26.21875 48.1875 22.15625 43.53125 \r\nQ 18.109375 38.875 18.109375 30.90625 \r\nL 18.109375 0 \r\nL 9.078125 0 \r\nL 9.078125 54.6875 \r\nL 18.109375 54.6875 \r\nL 18.109375 46.1875 \r\nQ 21.1875 51.21875 25.484375 53.609375 \r\nQ 29.78125 56 35.6875 56 \r\nQ 41.65625 56 45.828125 52.96875 \r\nQ 50 49.953125 52 44.1875 \r\nz\r\n\" id=\"DejaVuSans-109\"/>\r\n      <path d=\"M 48.6875 27.296875 \r\nQ 48.6875 37.203125 44.609375 42.84375 \r\nQ 40.53125 48.484375 33.40625 48.484375 \r\nQ 26.265625 48.484375 22.1875 42.84375 \r\nQ 18.109375 37.203125 18.109375 27.296875 \r\nQ 18.109375 17.390625 22.1875 11.75 \r\nQ 26.265625 6.109375 33.40625 6.109375 \r\nQ 40.53125 6.109375 44.609375 11.75 \r\nQ 48.6875 17.390625 48.6875 27.296875 \r\nz\r\nM 18.109375 46.390625 \r\nQ 20.953125 51.265625 25.265625 53.625 \r\nQ 29.59375 56 35.59375 56 \r\nQ 45.5625 56 51.78125 48.09375 \r\nQ 58.015625 40.1875 58.015625 27.296875 \r\nQ 58.015625 14.40625 51.78125 6.484375 \r\nQ 45.5625 -1.421875 35.59375 -1.421875 \r\nQ 29.59375 -1.421875 25.265625 0.953125 \r\nQ 20.953125 3.328125 18.109375 8.203125 \r\nL 18.109375 0 \r\nL 9.078125 0 \r\nL 9.078125 75.984375 \r\nL 18.109375 75.984375 \r\nz\r\n\" id=\"DejaVuSans-98\"/>\r\n     </defs>\r\n     <g transform=\"translate(14.798437 125.943405)rotate(-90)scale(0.1 -0.1)\">\r\n      <use xlink:href=\"#DejaVuSans-114\"/>\r\n      <use x=\"38.863281\" xlink:href=\"#DejaVuSans-101\"/>\r\n      <use x=\"100.386719\" xlink:href=\"#DejaVuSans-110\"/>\r\n      <use x=\"163.765625\" xlink:href=\"#DejaVuSans-116\"/>\r\n      <use x=\"202.974609\" xlink:href=\"#DejaVuSans-97\"/>\r\n      <use x=\"264.253906\" xlink:href=\"#DejaVuSans-108\"/>\r\n      <use x=\"292.037109\" xlink:href=\"#DejaVuSans-32\"/>\r\n      <use x=\"323.824219\" xlink:href=\"#DejaVuSans-110\"/>\r\n      <use x=\"387.203125\" xlink:href=\"#DejaVuSans-117\"/>\r\n      <use x=\"450.582031\" xlink:href=\"#DejaVuSans-109\"/>\r\n      <use x=\"547.994141\" xlink:href=\"#DejaVuSans-98\"/>\r\n      <use x=\"611.470703\" xlink:href=\"#DejaVuSans-101\"/>\r\n      <use x=\"672.994141\" xlink:href=\"#DejaVuSans-114\"/>\r\n     </g>\r\n    </g>\r\n   </g>\r\n   <g id=\"line2d_39\">\r\n    <path clip-path=\"url(#p7f4178c813)\" d=\"M 65.966761 156.697651 \r\nL 68.020497 164.36599 \r\nL 70.074233 141.360974 \r\nL 72.127969 59.565363 \r\nL 74.181704 64.677589 \r\nL 76.23544 95.350943 \r\nL 78.289176 133.692636 \r\nL 80.342912 154.141538 \r\nL 82.396647 156.697651 \r\nL 84.450383 154.141538 \r\nL 86.504119 149.029313 \r\nL 88.557854 87.682604 \r\nL 90.61159 46.784799 \r\nL 92.665326 95.350943 \r\nL 94.719062 92.79483 \r\nL 96.772797 149.029313 \r\nL 98.826533 156.697651 \r\nL 100.880269 159.253764 \r\nL 102.934005 110.68762 \r\nL 104.98774 141.360974 \r\nL 107.041476 141.360974 \r\nL 109.095212 128.58041 \r\nL 111.148948 92.79483 \r\nL 113.202683 131.136523 \r\nL 115.256419 164.36599 \r\nL 117.310155 159.253764 \r\nL 119.363891 36.560347 \r\nL 121.417626 141.360974 \r\nL 123.471362 133.692636 \r\nL 125.525098 105.575394 \r\nL 127.578834 97.907056 \r\nL 129.632569 128.58041 \r\nL 131.686305 164.36599 \r\nL 133.740041 156.697651 \r\nL 135.793776 57.00925 \r\nL 137.847512 149.029313 \r\nL 139.901248 126.024297 \r\nL 141.954984 85.126491 \r\nL 146.062455 126.024297 \r\nL 148.116191 161.809877 \r\nL 150.169927 154.141538 \r\nL 152.223662 59.565363 \r\nL 154.277398 141.360974 \r\nL 156.331134 126.024297 \r\nL 158.38487 123.468184 \r\nL 160.438605 82.570379 \r\nL 162.492341 133.692636 \r\nL 164.546077 151.585426 \r\nL 166.599813 161.809877 \r\nL 168.653548 62.121476 \r\nL 170.707284 133.692636 \r\nL 172.76102 108.131507 \r\nL 174.814755 72.345927 \r\nL 176.868491 108.131507 \r\nL 178.922227 154.141538 \r\nL 180.975963 149.029313 \r\nL 183.029698 156.697651 \r\nL 185.083434 133.692636 \r\nL 187.13717 80.014266 \r\nL 189.190906 34.004234 \r\nL 191.244641 97.907056 \r\nL 193.298377 97.907056 \r\nL 195.352113 143.917087 \r\nL 197.405849 146.4732 \r\nL 199.459584 159.253764 \r\nL 201.51332 154.141538 \r\nL 205.620792 44.228686 \r\nL 207.674527 92.79483 \r\nL 209.728263 77.458153 \r\nL 211.781999 143.917087 \r\nL 213.835734 161.809877 \r\nL 215.88947 159.253764 \r\nL 217.943206 123.468184 \r\nL 219.996942 138.804861 \r\nL 222.050677 131.136523 \r\nL 224.104413 115.799846 \r\nL 226.158149 105.575394 \r\nL 228.211885 133.692636 \r\nL 230.26562 159.253764 \r\nL 232.319356 159.253764 \r\nL 234.373092 128.58041 \r\nL 236.426828 143.917087 \r\nL 238.480563 146.4732 \r\nL 240.534299 108.131507 \r\nL 242.588035 110.68762 \r\nL 244.641771 143.917087 \r\nL 246.695506 164.36599 \r\nL 248.749242 156.697651 \r\nL 250.802978 46.784799 \r\nL 252.856714 138.804861 \r\nL 254.910449 126.024297 \r\nL 256.964185 128.58041 \r\nL 259.017921 120.912071 \r\nL 261.071656 136.248749 \r\nL 263.125392 159.253764 \r\nL 265.179128 156.697651 \r\nL 267.232864 44.228686 \r\nL 269.286599 131.136523 \r\nL 271.340335 105.575394 \r\nL 273.394071 115.799846 \r\nL 275.447807 95.350943 \r\nL 277.501542 115.799846 \r\nL 279.555278 161.809877 \r\nL 281.609014 161.809877 \r\nL 283.66275 57.00925 \r\nL 285.716485 133.692636 \r\nL 287.770221 120.912071 \r\nL 289.823957 92.79483 \r\nL 291.877693 105.575394 \r\nL 293.931428 123.468184 \r\nL 295.985164 156.697651 \r\nL 298.0389 161.809877 \r\nL 300.092635 141.360974 \r\nL 302.146371 67.233702 \r\nL 304.200107 62.121476 \r\nL 306.253843 80.014266 \r\nL 308.307578 108.131507 \r\nL 310.361314 154.141538 \r\nL 312.41505 159.253764 \r\nL 314.468786 159.253764 \r\nL 316.522521 149.029313 \r\nL 318.576257 95.350943 \r\nL 320.629993 54.453137 \r\nL 322.683729 80.014266 \r\nL 324.737464 80.014266 \r\nL 326.7912 131.136523 \r\nL 328.844936 161.809877 \r\nL 330.898672 151.585426 \r\nL 332.952407 103.019281 \r\nL 335.006143 149.029313 \r\nL 337.059879 146.4732 \r\nL 339.113615 131.136523 \r\nL 341.16735 105.575394 \r\nL 343.221086 146.4732 \r\nL 345.274822 164.36599 \r\nL 347.328557 159.253764 \r\nL 349.382293 72.345927 \r\nL 351.436029 143.917087 \r\nL 353.489765 103.019281 \r\nL 355.5435 138.804861 \r\nL 357.597236 64.677589 \r\nL 359.650972 128.58041 \r\nL 361.704708 159.253764 \r\nL 363.758443 159.253764 \r\nL 365.812179 46.784799 \r\nL 367.865915 143.917087 \r\nL 369.919651 133.692636 \r\nL 371.973386 90.238717 \r\nL 374.027122 103.019281 \r\nL 376.080858 141.360974 \r\nL 378.134594 151.585426 \r\nL 380.188329 159.253764 \r\nL 382.242065 85.126491 \r\nL 384.295801 138.804861 \r\nL 386.349536 136.248749 \r\nL 388.403272 105.575394 \r\nL 390.457008 110.68762 \r\nL 392.510744 138.804861 \r\nL 394.564479 159.253764 \r\nL 396.618215 159.253764 \r\nL 398.671951 92.79483 \r\nL 400.725687 118.355959 \r\nL 402.779422 97.907056 \r\nL 404.833158 100.463169 \r\nL 406.886894 74.90204 \r\nL 408.94063 128.58041 \r\nL 410.994365 146.4732 \r\nL 413.048101 156.697651 \r\nL 415.101837 136.248749 \r\nL 417.155573 64.677589 \r\nL 419.209308 77.458153 \r\nL 421.263044 62.121476 \r\nL 423.31678 110.68762 \r\nL 425.370516 141.360974 \r\nL 427.424251 136.248749 \r\nL 429.477987 164.36599 \r\nL 431.531723 149.029313 \r\nL 433.585458 105.575394 \r\nL 435.639194 87.682604 \r\nL 437.69293 16.111444 \r\nL 439.746666 85.126491 \r\nL 441.800401 133.692636 \r\nL 443.854137 159.253764 \r\nL 445.907873 156.697651 \r\nL 447.961609 95.350943 \r\nL 450.015344 149.029313 \r\nL 452.06908 120.912071 \r\nL 454.122816 128.58041 \r\nL 456.176552 105.575394 \r\nL 458.230287 138.804861 \r\nL 460.284023 164.36599 \r\nL 462.337759 159.253764 \r\nL 464.391495 90.238717 \r\nL 466.44523 103.019281 \r\nL 468.498966 92.79483 \r\nL 470.552702 128.58041 \r\nL 472.606437 100.463169 \r\nL 474.660173 133.692636 \r\nL 476.713909 159.253764 \r\nL 478.767645 156.697651 \r\nL 480.82138 57.00925 \r\nL 482.875116 108.131507 \r\nL 484.928852 87.682604 \r\nL 486.982588 100.463169 \r\nL 489.036323 103.019281 \r\nL 491.090059 143.917087 \r\nL 493.143795 161.809877 \r\nL 495.197531 159.253764 \r\nL 497.251266 54.453137 \r\nL 499.305002 120.912071 \r\nL 501.358738 108.131507 \r\nL 503.412474 100.463169 \r\nL 505.466209 100.463169 \r\nL 507.519945 120.912071 \r\nL 509.573681 156.697651 \r\nL 511.627416 159.253764 \r\nL 513.681152 82.570379 \r\nL 515.734888 115.799846 \r\nL 517.788624 113.243733 \r\nL 519.842359 85.126491 \r\nL 521.896095 105.575394 \r\nL 523.949831 141.360974 \r\nL 526.003567 159.253764 \r\nL 528.057302 164.36599 \r\nL 530.111038 141.360974 \r\nL 532.164774 74.90204 \r\nL 534.21851 41.672573 \r\nL 538.325981 113.243733 \r\nL 540.379717 143.917087 \r\nL 542.433453 156.697651 \r\nL 544.487188 161.809877 \r\nL 546.540924 151.585426 \r\nL 548.59466 80.014266 \r\nL 550.648396 46.784799 \r\nL 552.702131 72.345927 \r\nL 554.755867 69.789814 \r\nL 556.809603 149.029313 \r\nL 558.863338 156.697651 \r\nL 560.917074 159.253764 \r\nL 562.97081 72.345927 \r\nL 565.024546 123.468184 \r\nL 567.078281 143.917087 \r\nL 569.132017 120.912071 \r\nL 571.185753 108.131507 \r\nL 573.239489 146.4732 \r\nL 573.239489 146.4732 \r\n\" style=\"fill:none;stroke:#1f77b4;stroke-linecap:square;\"/>\r\n   </g>\r\n   <g id=\"patch_3\">\r\n    <path d=\"M 40.603125 171.778717 \r\nL 40.603125 8.698717 \r\n\" style=\"fill:none;stroke:#000000;stroke-linecap:square;stroke-linejoin:miter;stroke-width:0.8;\"/>\r\n   </g>\r\n   <g id=\"patch_4\">\r\n    <path d=\"M 598.603125 171.778717 \r\nL 598.603125 8.698717 \r\n\" style=\"fill:none;stroke:#000000;stroke-linecap:square;stroke-linejoin:miter;stroke-width:0.8;\"/>\r\n   </g>\r\n   <g id=\"patch_5\">\r\n    <path d=\"M 40.603125 171.778717 \r\nL 598.603125 171.778717 \r\n\" style=\"fill:none;stroke:#000000;stroke-linecap:square;stroke-linejoin:miter;stroke-width:0.8;\"/>\r\n   </g>\r\n   <g id=\"patch_6\">\r\n    <path d=\"M 40.603125 8.698717 \r\nL 598.603125 8.698717 \r\n\" style=\"fill:none;stroke:#000000;stroke-linecap:square;stroke-linejoin:miter;stroke-width:0.8;\"/>\r\n   </g>\r\n  </g>\r\n </g>\r\n <defs>\r\n  <clipPath id=\"p7f4178c813\">\r\n   <rect height=\"163.08\" width=\"558\" x=\"40.603125\" y=\"8.698717\"/>\r\n  </clipPath>\r\n </defs>\r\n</svg>\r\n",
      "image/png": "[encoded data removed]"
     },
     "metadata": {
      "needs_background": "light"
     }
    }
   ],
   "source": [
    "# 8월 한 달 동안의 대여 횟수\n",
    "plt.figure(figsize=(10, 3))\n",
    "\n",
    "xticks = pd.date_range(start=citibike.index.min(), end=citibike.index.max(), freq='D')\n",
    "week = [\"Sun\", \"Mon\", \"Tue\",\"Wed\", \"Thu\", \"Fri\", \"Sat\"]\n",
    "xticks_name = [week[int(w)]+d for w, d in zip(xticks.strftime(\"%w\"),\n",
    "                                              xticks.strftime(\" %m-%d\"))]\n",
    "\n",
    "plt.xticks(xticks, xticks_name, rotation=90, ha=\"left\")\n",
    "plt.plot(citibike, linewidth=1)\n",
    "plt.xlabel(\"date\")\n",
    "plt.ylabel(\"rental number\")  # 대여 횟수"
   ]
  },
  {
   "cell_type": "markdown",
   "metadata": {
    "colab_type": "text",
    "id": "2jx2nXb7GpAb",
    "slideshow": {
     "slide_type": "slide"
    }
   },
   "source": [
    "- 낮과 밤, 주중과 주말의 패턴 차이\n"
   ]
  },
  {
   "cell_type": "markdown",
   "metadata": {
    "colab_type": "text",
    "id": "n2rceSqrJJIQ",
    "slideshow": {
     "slide_type": "slide"
    }
   },
   "source": [
    "#### 훈련 세트와 테스트 세트로 나누기\n",
    "\n",
    "- 시계열 데이터를 이용한 예측 작업은 과거 데이터에서 학습하여 미래를 예측하는 방식\n",
    "- 어떤 날짜를 기준으로 훈련 세트와 테스트 세트를 나눔"
   ]
  },
  {
   "cell_type": "code",
   "execution_count": 34,
   "metadata": {
    "colab": {},
    "colab_type": "code",
    "executionInfo": {
     "elapsed": 815,
     "status": "ok",
     "timestamp": 1598183324082,
     "user": {
      "displayName": "oz To",
      "photoUrl": "",
      "userId": "12937505880450462933"
     },
     "user_tz": -540
    },
    "id": "cPyVZaBOJPog",
    "slideshow": {
     "slide_type": "slide"
    }
   },
   "outputs": [],
   "source": [
    "# 3시간 누적 카운트 이므로 하루 24/3=8 개씩 23일 치는 184개 8일 치는 64개\n",
    "# 처음 184개 데이터 포인트를 훈련 세트로 사용하고 나머지는 테스트 세트로 사용\n",
    "n_train = 184\n",
    "\n",
    "# 주어진 특성을 사용하여 평가하고 그래프를 만듬\n",
    "def eval_on_features(features, target, regressor):\n",
    "    # 훈련 세트와 테스트 세트로 나눔\n",
    "    X_train, X_test = features[:n_train], features[n_train:]\n",
    "    y_train, y_test = target[:n_train], target[n_train:]\n",
    "    \n",
    "    regressor.fit(X_train, y_train)\n",
    "    print(\"테스트 세트 R^2: {:.2f}\".format(regressor.score(X_test, y_test))) \n",
    "    \n",
    "    y_pred = regressor.predict(X_test)\n",
    "    y_pred_train = regressor.predict(X_train)\n",
    "    plt.figure(figsize=(10, 3))\n",
    "\n",
    "    plt.xticks(range(0, len(X), 8), xticks_name, rotation=90, ha=\"left\")\n",
    "\n",
    "    plt.plot(range(n_train), y_train, label=\"train\")\n",
    "    plt.plot(range(n_train, len(y_test) + n_train), y_test, '-', label=\"test\")\n",
    "    plt.plot(range(n_train), y_pred_train, '--', label=\"train predict\")\n",
    "\n",
    "    plt.plot(range(n_train, len(y_test) + n_train), y_pred, '--', label=\"test predict\")\n",
    "    plt.legend(loc=(1.01, 0))\n",
    "    plt.xlabel(\"date\")\n",
    "    plt.ylabel(\"rental number\")"
   ]
  },
  {
   "cell_type": "markdown",
   "metadata": {
    "colab_type": "text",
    "id": "GKeIyhfpJs-w",
    "slideshow": {
     "slide_type": "slide"
    }
   },
   "source": [
    "#### 첫 번째 시도는 날짜와 시간을 하나의 숫자로 표현한 특성을 사용"
   ]
  },
  {
   "cell_type": "code",
   "execution_count": 35,
   "metadata": {
    "colab": {},
    "colab_type": "code",
    "executionInfo": {
     "elapsed": 789,
     "status": "ok",
     "timestamp": 1598183321739,
     "user": {
      "displayName": "oz To",
      "photoUrl": "",
      "userId": "12937505880450462933"
     },
     "user_tz": -540
    },
    "id": "2HYQlyqkJOIN",
    "slideshow": {
     "slide_type": "slide"
    }
   },
   "outputs": [],
   "source": [
    "# 타깃값 추출 (대여 횟수)\n",
    "\n",
    "# POSIX 시간 : 1970/1/1 00:00:00 부터 초로 나타냄\n",
    "# POSIX 시간을 10**9로 나누어 변환\n"
   ]
  },
  {
   "cell_type": "markdown",
   "metadata": {
    "colab_type": "text",
    "id": "o-kbtWZbJlz-",
    "slideshow": {
     "slide_type": "slide"
    }
   },
   "source": [
    "RandomForestRegressro 이용\n",
    "\n",
    "- 데이터 전처리가 거의 필요하지 않아 처음 시도해보기 좋은 모델"
   ]
  },
  {
   "cell_type": "code",
   "execution_count": 36,
   "metadata": {
    "colab": {
     "base_uri": "https://localhost:8080/",
     "height": 260
    },
    "colab_type": "code",
    "executionInfo": {
     "elapsed": 1438,
     "status": "ok",
     "timestamp": 1598183327561,
     "user": {
      "displayName": "oz To",
      "photoUrl": "",
      "userId": "12937505880450462933"
     },
     "user_tz": -540
    },
    "id": "sml2AlzUJrCm",
    "outputId": "fc8a090b-9feb-4abc-c218-2e86343598d7",
    "slideshow": {
     "slide_type": "slide"
    }
   },
   "outputs": [],
   "source": [
    "from sklearn.ensemble import RandomForestRegressor\n",
    "\n"
   ]
  },
  {
   "cell_type": "markdown",
   "metadata": {
    "colab_type": "text",
    "id": "pdrQnM00LFl-",
    "slideshow": {
     "slide_type": "slide"
    }
   },
   "source": [
    "- 랜덤 포레스트는 훈련 세트에 있는 특성의 범위 밖으로 외샵(extrapolation)할 수 있는 능력이 없음\n",
    "- 테스트 세트와 가장 가까이 있는 마지막 훈련 세트 데이터의 타깃값을 예측으로 사용"
   ]
  },
  {
   "cell_type": "markdown",
   "metadata": {
    "colab_type": "text",
    "id": "SHTJrpBOK0wo",
    "slideshow": {
     "slide_type": "slide"
    }
   },
   "source": [
    "#### 두 번째 시도는 시간과 요일 특성을 추가\n",
    "\n",
    "- 전문가적 지식 : 훈련 데이터의 대여 데이터를 시간과 요일 이라는 두 요소가 중요한 것으로 보임"
   ]
  },
  {
   "cell_type": "code",
   "execution_count": 37,
   "metadata": {
    "colab": {
     "base_uri": "https://localhost:8080/",
     "height": 260
    },
    "colab_type": "code",
    "executionInfo": {
     "elapsed": 1486,
     "status": "ok",
     "timestamp": 1598183778426,
     "user": {
      "displayName": "oz To",
      "photoUrl": "",
      "userId": "12937505880450462933"
     },
     "user_tz": -540
    },
    "id": "xZA7xWhZLN2k",
    "outputId": "898126d3-f6d4-402c-b03e-fe1363afb8f9",
    "slideshow": {
     "slide_type": "slide"
    }
   },
   "outputs": [],
   "source": [
    "# 시간 정보 추가\n"
   ]
  },
  {
   "cell_type": "markdown",
   "metadata": {
    "colab_type": "text",
    "id": "7X_KUaTILZ2o",
    "slideshow": {
     "slide_type": "slide"
    }
   },
   "source": [
    "- 나아졌지만 주간 패턴은 예측 못함"
   ]
  },
  {
   "cell_type": "code",
   "execution_count": 38,
   "metadata": {
    "colab": {
     "base_uri": "https://localhost:8080/",
     "height": 260
    },
    "colab_type": "code",
    "executionInfo": {
     "elapsed": 1677,
     "status": "ok",
     "timestamp": 1598183793169,
     "user": {
      "displayName": "oz To",
      "photoUrl": "",
      "userId": "12937505880450462933"
     },
     "user_tz": -540
    },
    "id": "RgOrH5rZMJUv",
    "outputId": "af731ba5-8cd3-44b1-918f-0ed8bf9cca97",
    "slideshow": {
     "slide_type": "slide"
    }
   },
   "outputs": [],
   "source": [
    "# 요일 정보도 추가\n"
   ]
  },
  {
   "cell_type": "markdown",
   "metadata": {
    "colab_type": "text",
    "id": "3XmX69hhMZ4S",
    "slideshow": {
     "slide_type": "slide"
    }
   },
   "source": [
    "- 하루의 시간과 요일에 따른 주기적인 패턴을 따르고 있음\n",
    "- 8월 23일까지 요일별, 시간별 평균 대여 횟수를 학습"
   ]
  },
  {
   "cell_type": "code",
   "execution_count": 39,
   "metadata": {
    "colab": {
     "base_uri": "https://localhost:8080/",
     "height": 291
    },
    "colab_type": "code",
    "id": "jPZim-hHMn9f",
    "outputId": "98506a6c-294f-4bdb-d988-7117e6d3cea2",
    "slideshow": {
     "slide_type": "slide"
    }
   },
   "outputs": [],
   "source": [
    "# LinearRegression 을 적용\n",
    "# 굳이 랜덤 포레스트같이 복잡한 모델이 필요하지 않음\n",
    "from sklearn.linear_model import LinearRegression\n",
    "\n"
   ]
  },
  {
   "cell_type": "markdown",
   "metadata": {
    "colab_type": "text",
    "id": "hPX7uiodM06Q",
    "slideshow": {
     "slide_type": "slide"
    }
   },
   "source": [
    "- 성능 나쁘고 주기 패턴 이상 이유\n",
    " - 요일과 시간이 정수로 인코딩되어 있어서 연속형 변수로 해석되기 때문\n",
    " - 하루에서 시간이 흐를 수록 대여수가 늘어나게 학습되어 있음\n",
    " - 하지만 실제 패턴 이보다 복잡 \n",
    "\n",
    "- 이 패턴을 잡아내기 위해 OneHotEncoder를 사용하여 정수형을 범주형 변수로 해석"
   ]
  },
  {
   "cell_type": "code",
   "execution_count": 40,
   "metadata": {
    "colab": {},
    "colab_type": "code",
    "executionInfo": {
     "elapsed": 747,
     "status": "ok",
     "timestamp": 1598184159053,
     "user": {
      "displayName": "oz To",
      "photoUrl": "",
      "userId": "12937505880450462933"
     },
     "user_tz": -540
    },
    "id": "xv5d2-r8NVZM",
    "slideshow": {
     "slide_type": "slide"
    }
   },
   "outputs": [],
   "source": [
    "from sklearn.preprocessing import OneHotEncoder\n"
   ]
  },
  {
   "cell_type": "markdown",
   "metadata": {
    "colab_type": "text",
    "id": "mCG04wvaTfN5",
    "slideshow": {
     "slide_type": "slide"
    }
   },
   "source": [
    "Ridge 이용"
   ]
  },
  {
   "cell_type": "code",
   "execution_count": 41,
   "metadata": {
    "colab": {
     "base_uri": "https://localhost:8080/",
     "height": 260
    },
    "colab_type": "code",
    "executionInfo": {
     "elapsed": 1342,
     "status": "ok",
     "timestamp": 1598184173777,
     "user": {
      "displayName": "oz To",
      "photoUrl": "",
      "userId": "12937505880450462933"
     },
     "user_tz": -540
    },
    "id": "d7vAMB_pNnP8",
    "outputId": "28d3cdfd-43ac-484c-f91d-c09c3c51acee",
    "slideshow": {
     "slide_type": "slide"
    }
   },
   "outputs": [],
   "source": [
    "from sklearn.linear_model import Ridge\n",
    "\n"
   ]
  },
  {
   "cell_type": "markdown",
   "metadata": {
    "colab_type": "text",
    "id": "bcXZqFGNN4-Y",
    "slideshow": {
     "slide_type": "slide"
    }
   },
   "source": [
    "- 연속형 특성일 때보다 훨씬 좋아짐\n",
    "\n",
    " - 이 선형 모델은 요일에 대해 하나의 계수를 학습\n",
    " - 시간에 대해서도 하나의 계수 학습\n",
    " - 시간 패턴이 모든 날에 걸쳐 공유된다는 뜻\n",
    "\n",
    "- 상호작용 특성을 사용하면 시간과 요일 조합별 계수를 학습 가능"
   ]
  },
  {
   "cell_type": "code",
   "execution_count": 42,
   "metadata": {
    "colab": {
     "base_uri": "https://localhost:8080/",
     "height": 260
    },
    "colab_type": "code",
    "executionInfo": {
     "elapsed": 1630,
     "status": "ok",
     "timestamp": 1598184308216,
     "user": {
      "displayName": "oz To",
      "photoUrl": "",
      "userId": "12937505880450462933"
     },
     "user_tz": -540
    },
    "id": "yQlFRFjhN-RO",
    "outputId": "76aa27e7-5e2a-4866-beef-f9936f40bae3",
    "slideshow": {
     "slide_type": "slide"
    }
   },
   "outputs": [],
   "source": [
    "# 상호작용 특성 추가\n",
    "from sklearn.preprocessing import PolynomialFeatures\n",
    "\n"
   ]
  },
  {
   "cell_type": "markdown",
   "metadata": {
    "colab_type": "text",
    "id": "d_wK2s2EOQTi",
    "slideshow": {
     "slide_type": "slide"
    }
   },
   "source": [
    "- 이 모델 가장 큰 장점 : 무엇이 학습되었는지 명확 \n",
    "\n",
    "- 각 날짜와 시간에 대해 하나의 계수를 학습 \n",
    "\n",
    "- 랜덤 포레스트와는 달리 이 모델이 학습한 계수를 그래프로 나타낼수 있음"
   ]
  },
  {
   "cell_type": "code",
   "execution_count": 43,
   "metadata": {
    "colab": {},
    "colab_type": "code",
    "executionInfo": {
     "elapsed": 835,
     "status": "ok",
     "timestamp": 1598185400656,
     "user": {
      "displayName": "oz To",
      "photoUrl": "",
      "userId": "12937505880450462933"
     },
     "user_tz": -540
    },
    "id": "zqgSRiToRZwW",
    "slideshow": {
     "slide_type": "slide"
    }
   },
   "outputs": [],
   "source": [
    "# 시간과 요일 특성의 이름\n",
    "hour = [\"%02d:00\" % i for i in range(0, 24, 3)]\n",
    "day = [\"월\", \"화\", \"수\", \"목\", \"금\", \"토\", \"일\"]\n",
    "features =  day + hour"
   ]
  },
  {
   "cell_type": "code",
   "execution_count": 44,
   "metadata": {
    "colab": {},
    "colab_type": "code",
    "executionInfo": {
     "elapsed": 739,
     "status": "ok",
     "timestamp": 1598185401065,
     "user": {
      "displayName": "oz To",
      "photoUrl": "",
      "userId": "12937505880450462933"
     },
     "user_tz": -540
    },
    "id": "ynk0RyTfRcFr",
    "slideshow": {
     "slide_type": "slide"
    }
   },
   "outputs": [],
   "source": [
    "# 추출한 모든 상호작용 특성에 이름을 부여\n",
    "# 계수가 0이 아닌 특성만 선택\n"
   ]
  },
  {
   "cell_type": "code",
   "execution_count": 45,
   "metadata": {
    "colab": {
     "base_uri": "https://localhost:8080/",
     "height": 174
    },
    "colab_type": "code",
    "executionInfo": {
     "elapsed": 1205,
     "status": "ok",
     "timestamp": 1598185567396,
     "user": {
      "displayName": "oz To",
      "photoUrl": "",
      "userId": "12937505880450462933"
     },
     "user_tz": -540
    },
    "id": "BSejArpVRdm7",
    "outputId": "b6e60d1f-52a6-4b53-c2a3-da15743679ea",
    "slideshow": {
     "slide_type": "slide"
    }
   },
   "outputs": [],
   "source": [
    "# 시간과 요일의 곱을 사용한 선형 모델의 계수 시각화\n"
   ]
  }
 ],
 "metadata": {
  "celltoolbar": "Slideshow",
  "colab": {
   "authorship_tag": "ABX9TyNGB81noYpMOAttdpvej704",
   "collapsed_sections": [],
   "name": "ml_14_데이터표현_특성공학.ipynb",
   "provenance": []
  },
  "kernelspec": {
   "display_name": "Python 3",
   "language": "python",
   "name": "python3"
  },
  "language_info": {
   "codemirror_mode": {
    "name": "ipython",
    "version": 3
   },
   "file_extension": ".py",
   "mimetype": "text/x-python",
   "name": "python",
   "nbconvert_exporter": "python",
   "pygments_lexer": "ipython3",
   "version": "3.7.7-final"
  }
 },
 "nbformat": 4,
 "nbformat_minor": 1
}