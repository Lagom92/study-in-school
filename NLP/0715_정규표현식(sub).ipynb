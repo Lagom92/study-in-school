{
 "cells": [
  {
   "cell_type": "markdown",
   "metadata": {},
   "source": [
    "## sub()"
   ]
  },
  {
   "cell_type": "code",
   "execution_count": 1,
   "metadata": {},
   "outputs": [],
   "source": [
    "import re"
   ]
  },
  {
   "cell_type": "code",
   "execution_count": 3,
   "metadata": {},
   "outputs": [],
   "source": [
    "def subdef(match):\n",
    "    matched_text = match.group()\n",
    "\n",
    "    return matched_text + 'good'"
   ]
  },
  {
   "cell_type": "code",
   "execution_count": 11,
   "metadata": {
    "tags": []
   },
   "outputs": [
    {
     "output_type": "stream",
     "name": "stdout",
     "text": "ab\na1b\na12bgood\nascbgood\na123b\n"
    }
   ],
   "source": [
    "list_a = ['ab', 'a1b', 'a12b', 'ascb', 'a123b']\n",
    "p = re.compile('a..b')\n",
    "\n",
    "for i in list_a:\n",
    "    print(p.sub(subdef, i))"
   ]
  },
  {
   "cell_type": "code",
   "execution_count": 12,
   "metadata": {
    "tags": []
   },
   "outputs": [
    {
     "output_type": "stream",
     "name": "stdout",
     "text": "<re.Match object; span=(0, 7), match='<안녕하세요>'>\n"
    }
   ],
   "source": [
    "a = '<안녕하세요><반갑습니다>'\n",
    "p = re.compile('<.+?>')\n",
    "\n",
    "print(p.match(a))"
   ]
  },
  {
   "cell_type": "markdown",
   "metadata": {},
   "source": [
    "- ? \n",
    "\n",
    "    - 첫 번째 매치되는것을 가져옴"
   ]
  },
  {
   "cell_type": "code",
   "execution_count": 19,
   "metadata": {
    "tags": []
   },
   "outputs": [
    {
     "output_type": "stream",
     "name": "stdout",
     "text": "<re.Match object; span=(0, 8), match='코끼리는 코끼리'>\n<re.Match object; span=(0, 8), match='강아지는 강아지'>\n<re.Match object; span=(0, 8), match='고양이는 고양이'>\n<re.Match object; span=(0, 6), match='기린은 기린'>\n"
    }
   ],
   "source": [
    "# 0714 실습 3번 문제\n",
    "\n",
    "data_list = ['코끼리는 코끼리', '강아지는 강아지', '고양이는 고양이', '기린은 기린']\n",
    "\n",
    "p = re.compile(r'(?P<name>.+)[는은]\\s\\1')\n",
    "\n",
    "for data in data_list:\n",
    "    print(p.match(data))"
   ]
  },
  {
   "cell_type": "markdown",
   "metadata": {},
   "source": [
    "- \\[ \\]\n",
    "\n",
    "    - 적어져 있는 것 다 됨\n",
    "\n",
    "    - \\[ 는은 \\]\n",
    "        - 는 이나 은 이라는 글자가 들어간거 모두\n",
    "\n",
    "- ^\n",
    "\n",
    "    - not 이라는 의미\n",
    "\n",
    "    - 단 대괄호 \\[ \\] 안에서 사용할때 not 을 의미 \n",
    "\n",
    "    - 밖에 있을때는 다름\n",
    "\n",
    "- \\[^는\\]\n",
    "\n",
    "    - 은 이라는 글자가 들어간것 만 참"
   ]
  },
  {
   "cell_type": "code",
   "execution_count": 24,
   "metadata": {
    "tags": []
   },
   "outputs": [
    {
     "output_type": "stream",
     "name": "stdout",
     "text": "<re.Match object; span=(0, 4), match='코끼리는'>\nNone\nNone\nNone\n"
    }
   ],
   "source": [
    "data_list = ['코끼리는', '강아지는 강아지', '고양이는 고양이', '기린은 기린']\n",
    "\n",
    "p = re.compile(r'(?P<name>.+)는$')\n",
    "\n",
    "for data in data_list:\n",
    "    print(p.match(data))"
   ]
  },
  {
   "cell_type": "markdown",
   "metadata": {},
   "source": [
    "- $\n",
    "\n",
    "    - 끝을 의미함"
   ]
  },
  {
   "cell_type": "code",
   "execution_count": null,
   "metadata": {},
   "outputs": [],
   "source": []
  }
 ],
 "metadata": {
  "language_info": {
   "codemirror_mode": {
    "name": "ipython",
    "version": 3
   },
   "file_extension": ".py",
   "mimetype": "text/x-python",
   "name": "python",
   "nbconvert_exporter": "python",
   "pygments_lexer": "ipython3",
   "version": 3
  },
  "orig_nbformat": 2,
  "kernelspec": {
   "name": "python_defaultSpec_1594801816800",
   "display_name": "Python 3.7.7 64-bit ('study': conda)"
  }
 },
 "nbformat": 4,
 "nbformat_minor": 2
}