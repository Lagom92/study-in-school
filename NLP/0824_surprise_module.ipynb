{
 "metadata": {
  "language_info": {
   "codemirror_mode": {
    "name": "ipython",
    "version": 3
   },
   "file_extension": ".py",
   "mimetype": "text/x-python",
   "name": "python",
   "nbconvert_exporter": "python",
   "pygments_lexer": "ipython3",
   "version": "3.7.7-final"
  },
  "orig_nbformat": 2,
  "kernelspec": {
   "name": "python_defaultSpec_1598257791099",
   "display_name": "Python 3.7.7 64-bit ('study': conda)"
  }
 },
 "nbformat": 4,
 "nbformat_minor": 2,
 "cells": [
  {
   "cell_type": "markdown",
   "metadata": {},
   "source": [
    "# Movie 추천\n",
    "\n",
    "# Surprise 모듈\n",
    "\n",
    "```\n",
    "pip install scikit-surprise \n",
    "```\n",
    "\n",
    "TMDB 데이터 이용"
   ]
  },
  {
   "cell_type": "code",
   "execution_count": 2,
   "metadata": {},
   "outputs": [],
   "source": [
    "import pandas as pd \n",
    "from surprise import SVD, Dataset, accuracy, Reader\n",
    "from surprise.model_selection import train_test_split"
   ]
  },
  {
   "cell_type": "markdown",
   "metadata": {},
   "source": [
    "- SVD 말그대로 SVD를 통한 행렬 분해를 시키는 함수 -> 객체는 predict, fit, test\n",
    "\n",
    "- Dataset은 surprise 모듈에서 사용가능하도록 데이터를 불러오는 함수\n",
    "\n",
    "- accuracy는 정확도를 구하는 함수\n",
    "\n",
    "- Reader는 데이터를 읽을 때 어떻게 읽을지를 명시하는 함수"
   ]
  },
  {
   "cell_type": "code",
   "execution_count": 8,
   "metadata": {
    "tags": []
   },
   "outputs": [
    {
     "output_type": "stream",
     "name": "stdout",
     "text": "userId  movieId  rating   timestamp\n0       1       31     2.5  1260759144\n1       1     1029     3.0  1260759179\n2       1     1061     3.0  1260759182\n3       1     1129     2.0  1260759185\n4       1     1172     4.0  1260759205\n<surprise.dataset.DatasetAutoFolds object at 0x000001D8B822F5C8>\n"
    }
   ],
   "source": [
    "ratings = pd.read_csv('./data/ratings.csv')\n",
    "print(ratings.head())\n",
    "\n",
    "reader = Reader(rating_scale=(1.0, 5.0))\n",
    "data = Dataset.load_from_df(df=ratings[['userId', 'movieId', 'rating']], reader=reader)\n",
    "\n",
    "print(data)"
   ]
  },
  {
   "cell_type": "code",
   "execution_count": 13,
   "metadata": {
    "tags": []
   },
   "outputs": [],
   "source": [
    "train, test = train_test_split(data, test_size=0.2, shuffle=True)"
   ]
  },
  {
   "cell_type": "code",
   "execution_count": 14,
   "metadata": {},
   "outputs": [
    {
     "output_type": "execute_result",
     "data": {
      "text/plain": "<surprise.prediction_algorithms.matrix_factorization.SVD at 0x1d8beec3f08>"
     },
     "metadata": {},
     "execution_count": 14
    }
   ],
   "source": [
    "# 분해한 행렬을 연산했을 때 trainset 데이터 (평점) 에 가깝도록 행렬을 분해\n",
    "algo = SVD(n_factors=50, n_epochs=20)\n",
    "\n",
    "algo.fit(trainset=train)"
   ]
  },
  {
   "cell_type": "code",
   "execution_count": 16,
   "metadata": {
    "tags": []
   },
   "outputs": [
    {
     "output_type": "stream",
     "name": "stdout",
     "text": "[Prediction(uid=175, iid=4700, r_ui=4.0, est=3.657637245360091, details={'was_impossible': False}), Prediction(uid=435, iid=1230, r_ui=3.0, est=4.533953280519794, details={'was_impossible': False}), Prediction(uid=405, iid=1674, r_ui=4.5, est=4.236288266959995, details={'was_impossible': False})]\n"
    }
   ],
   "source": [
    "pred = algo.test(testset=test)\n",
    "\n",
    "print(pred[:3])"
   ]
  },
  {
   "cell_type": "code",
   "execution_count": 18,
   "metadata": {
    "tags": []
   },
   "outputs": [
    {
     "output_type": "stream",
     "name": "stdout",
     "text": "user: 10         item: 200        r_ui = None   est = 3.55   {'was_impossible': False}\n"
    }
   ],
   "source": [
    "# 분해된 행렬을 연산을 해서 예측값을 도출해냄\n",
    "user = '10'\n",
    "movie = '200'\n",
    "\n",
    "pred = algo.predict(user, movie)\n",
    "print(pred)"
   ]
  },
  {
   "cell_type": "code",
   "execution_count": 24,
   "metadata": {
    "tags": []
   },
   "outputs": [
    {
     "output_type": "stream",
     "name": "stdout",
     "text": "[(4.48519329799742, 318), (4.466696153737801, 858), (4.4220786102041165, 969), (4.406235416106388, 1221), (4.38875940663805, 1228), (4.367694275997463, 2019), (4.364049040410524, 898), (4.363049942332039, 904), (4.363018554526314, 1203), (4.354704821077713, 501)]\n"
    }
   ],
   "source": [
    "# 10번 유저에 대해서 모든 영화에 부여할 평점을 예측하고,\n",
    "# 그 평점을 높은 순으로 정렬\n",
    "user = '10'\n",
    "preds = []\n",
    "for i in ratings['movieId'].unique():\n",
    "    pred = algo.predict(user, i)\n",
    "    preds.append((pred.est, pred.iid))\n",
    "\n",
    "preds.sort(reverse=True)\n",
    "print(preds[:10])"
   ]
  },
  {
   "cell_type": "markdown",
   "metadata": {},
   "source": [
    "## 찾은 영화 아이디(movieId)를 이용해서 그 영화가 무엇인지 확인하기"
   ]
  },
  {
   "cell_type": "code",
   "execution_count": 25,
   "metadata": {},
   "outputs": [
    {
     "output_type": "execute_result",
     "data": {
      "text/plain": "   movieId                               title  \\\n0        1                    Toy Story (1995)   \n1        2                      Jumanji (1995)   \n2        3             Grumpier Old Men (1995)   \n3        4            Waiting to Exhale (1995)   \n4        5  Father of the Bride Part II (1995)   \n\n                                        genres  \n0  Adventure|Animation|Children|Comedy|Fantasy  \n1                   Adventure|Children|Fantasy  \n2                               Comedy|Romance  \n3                         Comedy|Drama|Romance  \n4                                       Comedy  ",
      "text/html": "<div>\n<style scoped>\n    .dataframe tbody tr th:only-of-type {\n        vertical-align: middle;\n    }\n\n    .dataframe tbody tr th {\n        vertical-align: top;\n    }\n\n    .dataframe thead th {\n        text-align: right;\n    }\n</style>\n<table border=\"1\" class=\"dataframe\">\n  <thead>\n    <tr style=\"text-align: right;\">\n      <th></th>\n      <th>movieId</th>\n      <th>title</th>\n      <th>genres</th>\n    </tr>\n  </thead>\n  <tbody>\n    <tr>\n      <th>0</th>\n      <td>1</td>\n      <td>Toy Story (1995)</td>\n      <td>Adventure|Animation|Children|Comedy|Fantasy</td>\n    </tr>\n    <tr>\n      <th>1</th>\n      <td>2</td>\n      <td>Jumanji (1995)</td>\n      <td>Adventure|Children|Fantasy</td>\n    </tr>\n    <tr>\n      <th>2</th>\n      <td>3</td>\n      <td>Grumpier Old Men (1995)</td>\n      <td>Comedy|Romance</td>\n    </tr>\n    <tr>\n      <th>3</th>\n      <td>4</td>\n      <td>Waiting to Exhale (1995)</td>\n      <td>Comedy|Drama|Romance</td>\n    </tr>\n    <tr>\n      <th>4</th>\n      <td>5</td>\n      <td>Father of the Bride Part II (1995)</td>\n      <td>Comedy</td>\n    </tr>\n  </tbody>\n</table>\n</div>"
     },
     "metadata": {},
     "execution_count": 25
    }
   ],
   "source": [
    "movies = pd.read_csv('./data/movies.csv')\n",
    "movies.head()"
   ]
  },
  {
   "cell_type": "code",
   "execution_count": 27,
   "metadata": {
    "tags": []
   },
   "outputs": [
    {
     "output_type": "stream",
     "name": "stdout",
     "text": "movieId                  title       genres\n695      858  Godfather, The (1972)  Crime|Drama\n"
    }
   ],
   "source": [
    "print(movies[movies['movieId'] == 858])"
   ]
  },
  {
   "cell_type": "code",
   "execution_count": null,
   "metadata": {},
   "outputs": [],
   "source": []
  }
 ]
}