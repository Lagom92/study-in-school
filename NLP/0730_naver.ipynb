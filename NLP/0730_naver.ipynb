{
 "metadata": {
  "language_info": {
   "codemirror_mode": {
    "name": "ipython",
    "version": 3
   },
   "file_extension": ".py",
   "mimetype": "text/x-python",
   "name": "python",
   "nbconvert_exporter": "python",
   "pygments_lexer": "ipython3",
   "version": 3
  },
  "orig_nbformat": 2,
  "kernelspec": {
   "name": "python_defaultSpec_1596099255371",
   "display_name": "Python 3.7.7 64-bit ('study': conda)"
  }
 },
 "nbformat": 4,
 "nbformat_minor": 2,
 "cells": [
  {
   "cell_type": "code",
   "execution_count": 57,
   "metadata": {},
   "outputs": [],
   "source": [
    "import pandas as pd\n",
    "import numpy as np\n",
    "from sklearn.model_selection import train_test_split\n",
    "from tensorflow.keras.preprocessing.text import Tokenizer"
   ]
  },
  {
   "cell_type": "code",
   "execution_count": 58,
   "metadata": {},
   "outputs": [
    {
     "output_type": "execute_result",
     "data": {
      "text/plain": "         id                                           document  label\n0   8112052                                어릴때보고 지금다시봐도 재밌어요ㅋㅋ      1\n1   8132799  디자인을 배우는 학생으로, 외국디자이너와 그들이 일군 전통을 통해 발전해가는 문화산...      1\n2   4655635               폴리스스토리 시리즈는 1부터 뉴까지 버릴께 하나도 없음.. 최고.      1\n3   9251303  와.. 연기가 진짜 개쩔구나.. 지루할거라고 생각했는데 몰입해서 봤다.. 그래 이런...      1\n4  10067386                        안개 자욱한 밤하늘에 떠 있는 초승달 같은 영화.      1",
      "text/html": "<div>\n<style scoped>\n    .dataframe tbody tr th:only-of-type {\n        vertical-align: middle;\n    }\n\n    .dataframe tbody tr th {\n        vertical-align: top;\n    }\n\n    .dataframe thead th {\n        text-align: right;\n    }\n</style>\n<table border=\"1\" class=\"dataframe\">\n  <thead>\n    <tr style=\"text-align: right;\">\n      <th></th>\n      <th>id</th>\n      <th>document</th>\n      <th>label</th>\n    </tr>\n  </thead>\n  <tbody>\n    <tr>\n      <th>0</th>\n      <td>8112052</td>\n      <td>어릴때보고 지금다시봐도 재밌어요ㅋㅋ</td>\n      <td>1</td>\n    </tr>\n    <tr>\n      <th>1</th>\n      <td>8132799</td>\n      <td>디자인을 배우는 학생으로, 외국디자이너와 그들이 일군 전통을 통해 발전해가는 문화산...</td>\n      <td>1</td>\n    </tr>\n    <tr>\n      <th>2</th>\n      <td>4655635</td>\n      <td>폴리스스토리 시리즈는 1부터 뉴까지 버릴께 하나도 없음.. 최고.</td>\n      <td>1</td>\n    </tr>\n    <tr>\n      <th>3</th>\n      <td>9251303</td>\n      <td>와.. 연기가 진짜 개쩔구나.. 지루할거라고 생각했는데 몰입해서 봤다.. 그래 이런...</td>\n      <td>1</td>\n    </tr>\n    <tr>\n      <th>4</th>\n      <td>10067386</td>\n      <td>안개 자욱한 밤하늘에 떠 있는 초승달 같은 영화.</td>\n      <td>1</td>\n    </tr>\n  </tbody>\n</table>\n</div>"
     },
     "metadata": {},
     "execution_count": 58
    }
   ],
   "source": [
    "rating_data = pd.read_csv('./data/ratings.txt', sep='\\t', encoding='utf-8')\n",
    "\n",
    "rating_data.head()"
   ]
  },
  {
   "cell_type": "code",
   "execution_count": 59,
   "metadata": {},
   "outputs": [],
   "source": [
    "X = rating_data['document']\n",
    "y = rating_data['label']"
   ]
  },
  {
   "cell_type": "code",
   "execution_count": 60,
   "metadata": {},
   "outputs": [
    {
     "output_type": "execute_result",
     "data": {
      "text/plain": "((150000,), (50000,), (150000,), (50000,))"
     },
     "metadata": {},
     "execution_count": 60
    }
   ],
   "source": [
    "doc_train, doc_test, y_train, y_test = train_test_split(X, y, random_state=123)\n",
    "\n",
    "doc_train.shape, doc_test.shape, y_train.shape, y_test.shape"
   ]
  },
  {
   "cell_type": "code",
   "execution_count": 61,
   "metadata": {},
   "outputs": [],
   "source": [
    "stopword = ['은', '는', '이', '가']"
   ]
  },
  {
   "cell_type": "code",
   "execution_count": 62,
   "metadata": {
    "tags": []
   },
   "outputs": [],
   "source": [
    "X_train = []\n",
    "\n",
    "for doc in doc_train:\n",
    "    token = []\n",
    "    try:\n",
    "        words = doc.split()\n",
    "\n",
    "        for word in words:\n",
    "            if word not in stopword:\n",
    "                token.append(word)\n",
    "    except:\n",
    "        pass\n",
    "    \n",
    "    X_train.append(token)"
   ]
  },
  {
   "cell_type": "code",
   "execution_count": 63,
   "metadata": {},
   "outputs": [],
   "source": [
    "X_test = []\n",
    "\n",
    "for doc in doc_test:\n",
    "    token = []\n",
    "    try:\n",
    "        words = doc.split()\n",
    "\n",
    "        for word in words:\n",
    "            if word not in stopword:\n",
    "                token.append(word)\n",
    "    except:\n",
    "        pass\n",
    "    X_test.append(token)"
   ]
  },
  {
   "cell_type": "code",
   "execution_count": 64,
   "metadata": {},
   "outputs": [],
   "source": [
    "# X_train 단어들을 토대로 정수 인덱스 설정, 전체 단어 갯수 설정\n",
    "tokenizer = Tokenizer(5000)\n",
    "tokenizer.fit_on_texts(X_train)\n",
    "\n",
    "# 설정된 정수 인덱스를 토대로 변환\n",
    "X_train = tokenizer.texts_to_sequences(X_train)\n",
    "X_test = tokenizer.texts_to_sequences(X_test)"
   ]
  },
  {
   "cell_type": "code",
   "execution_count": 65,
   "metadata": {},
   "outputs": [
    {
     "output_type": "execute_result",
     "data": {
      "text/plain": "[[639, 237, 1932],\n [185, 6, 33, 923, 77],\n [1243, 1974, 119, 1060, 1284, 23, 913, 1044]]"
     },
     "metadata": {},
     "execution_count": 65
    }
   ],
   "source": [
    "X_train[:3]"
   ]
  },
  {
   "cell_type": "code",
   "execution_count": 66,
   "metadata": {},
   "outputs": [
    {
     "output_type": "execute_result",
     "data": {
      "text/plain": "list"
     },
     "metadata": {},
     "execution_count": 66
    }
   ],
   "source": [
    "type(X_train)"
   ]
  },
  {
   "cell_type": "code",
   "execution_count": 68,
   "metadata": {},
   "outputs": [
    {
     "output_type": "execute_result",
     "data": {
      "text/plain": "[639, 237, 1932]"
     },
     "metadata": {},
     "execution_count": 68
    }
   ],
   "source": []
  },
  {
   "cell_type": "code",
   "execution_count": null,
   "metadata": {},
   "outputs": [],
   "source": [
    "---나머지는 나중에"
   ]
  }
 ]
}