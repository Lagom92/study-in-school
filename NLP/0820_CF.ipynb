{
 "metadata": {
  "language_info": {
   "codemirror_mode": {
    "name": "ipython",
    "version": 3
   },
   "file_extension": ".py",
   "mimetype": "text/x-python",
   "name": "python",
   "nbconvert_exporter": "python",
   "pygments_lexer": "ipython3",
   "version": "3.7.7-final"
  },
  "orig_nbformat": 2,
  "kernelspec": {
   "name": "python_defaultSpec_1597922852841",
   "display_name": "Python 3.7.7 64-bit ('study': conda)"
  }
 },
 "nbformat": 4,
 "nbformat_minor": 2,
 "cells": [
  {
   "cell_type": "markdown",
   "metadata": {},
   "source": [
    "# 협업 필터링\n",
    "\n",
    "\n",
    "데이터:\n",
    "https://www.kaggle.com/sengzhaotoo/movielens-small?select=movies.csv"
   ]
  },
  {
   "cell_type": "markdown",
   "metadata": {},
   "source": [
    "## 사용자 기반 협업 필터링"
   ]
  },
  {
   "cell_type": "code",
   "execution_count": 26,
   "metadata": {},
   "outputs": [],
   "source": [
    "import pandas as pd \n",
    "import numpy as np "
   ]
  },
  {
   "cell_type": "code",
   "execution_count": 27,
   "metadata": {},
   "outputs": [],
   "source": [
    "pd.set_option('display.max_columns', 6)\n",
    "pd.set_option('display.width', 300)"
   ]
  },
  {
   "cell_type": "code",
   "execution_count": 28,
   "metadata": {},
   "outputs": [],
   "source": [
    "ratings = pd.read_csv('./data/ratings.csv')\n",
    "movies = pd.read_csv('./data/movies.csv')"
   ]
  },
  {
   "cell_type": "code",
   "execution_count": 29,
   "metadata": {},
   "outputs": [
    {
     "output_type": "execute_result",
     "data": {
      "text/plain": "   userId  movieId  rating   timestamp\n0       1       31     2.5  1260759144\n1       1     1029     3.0  1260759179\n2       1     1061     3.0  1260759182\n3       1     1129     2.0  1260759185\n4       1     1172     4.0  1260759205",
      "text/html": "<div>\n<style scoped>\n    .dataframe tbody tr th:only-of-type {\n        vertical-align: middle;\n    }\n\n    .dataframe tbody tr th {\n        vertical-align: top;\n    }\n\n    .dataframe thead th {\n        text-align: right;\n    }\n</style>\n<table border=\"1\" class=\"dataframe\">\n  <thead>\n    <tr style=\"text-align: right;\">\n      <th></th>\n      <th>userId</th>\n      <th>movieId</th>\n      <th>rating</th>\n      <th>timestamp</th>\n    </tr>\n  </thead>\n  <tbody>\n    <tr>\n      <th>0</th>\n      <td>1</td>\n      <td>31</td>\n      <td>2.5</td>\n      <td>1260759144</td>\n    </tr>\n    <tr>\n      <th>1</th>\n      <td>1</td>\n      <td>1029</td>\n      <td>3.0</td>\n      <td>1260759179</td>\n    </tr>\n    <tr>\n      <th>2</th>\n      <td>1</td>\n      <td>1061</td>\n      <td>3.0</td>\n      <td>1260759182</td>\n    </tr>\n    <tr>\n      <th>3</th>\n      <td>1</td>\n      <td>1129</td>\n      <td>2.0</td>\n      <td>1260759185</td>\n    </tr>\n    <tr>\n      <th>4</th>\n      <td>1</td>\n      <td>1172</td>\n      <td>4.0</td>\n      <td>1260759205</td>\n    </tr>\n  </tbody>\n</table>\n</div>"
     },
     "metadata": {},
     "execution_count": 29
    }
   ],
   "source": [
    "ratings.head()"
   ]
  },
  {
   "cell_type": "code",
   "execution_count": 30,
   "metadata": {},
   "outputs": [
    {
     "output_type": "execute_result",
     "data": {
      "text/plain": "   movieId                               title                                       genres\n0        1                    Toy Story (1995)  Adventure|Animation|Children|Comedy|Fantasy\n1        2                      Jumanji (1995)                   Adventure|Children|Fantasy\n2        3             Grumpier Old Men (1995)                               Comedy|Romance\n3        4            Waiting to Exhale (1995)                         Comedy|Drama|Romance\n4        5  Father of the Bride Part II (1995)                                       Comedy",
      "text/html": "<div>\n<style scoped>\n    .dataframe tbody tr th:only-of-type {\n        vertical-align: middle;\n    }\n\n    .dataframe tbody tr th {\n        vertical-align: top;\n    }\n\n    .dataframe thead th {\n        text-align: right;\n    }\n</style>\n<table border=\"1\" class=\"dataframe\">\n  <thead>\n    <tr style=\"text-align: right;\">\n      <th></th>\n      <th>movieId</th>\n      <th>title</th>\n      <th>genres</th>\n    </tr>\n  </thead>\n  <tbody>\n    <tr>\n      <th>0</th>\n      <td>1</td>\n      <td>Toy Story (1995)</td>\n      <td>Adventure|Animation|Children|Comedy|Fantasy</td>\n    </tr>\n    <tr>\n      <th>1</th>\n      <td>2</td>\n      <td>Jumanji (1995)</td>\n      <td>Adventure|Children|Fantasy</td>\n    </tr>\n    <tr>\n      <th>2</th>\n      <td>3</td>\n      <td>Grumpier Old Men (1995)</td>\n      <td>Comedy|Romance</td>\n    </tr>\n    <tr>\n      <th>3</th>\n      <td>4</td>\n      <td>Waiting to Exhale (1995)</td>\n      <td>Comedy|Drama|Romance</td>\n    </tr>\n    <tr>\n      <th>4</th>\n      <td>5</td>\n      <td>Father of the Bride Part II (1995)</td>\n      <td>Comedy</td>\n    </tr>\n  </tbody>\n</table>\n</div>"
     },
     "metadata": {},
     "execution_count": 30
    }
   ],
   "source": [
    "movies.head()"
   ]
  },
  {
   "cell_type": "code",
   "execution_count": 31,
   "metadata": {},
   "outputs": [
    {
     "output_type": "execute_result",
     "data": {
      "text/plain": "   userId  movieId  rating   timestamp                   title genres\n0       1       31     2.5  1260759144  Dangerous Minds (1995)  Drama\n1       7       31     3.0   851868750  Dangerous Minds (1995)  Drama\n2      31       31     4.0  1273541953  Dangerous Minds (1995)  Drama\n3      32       31     4.0   834828440  Dangerous Minds (1995)  Drama\n4      36       31     3.0   847057202  Dangerous Minds (1995)  Drama",
      "text/html": "<div>\n<style scoped>\n    .dataframe tbody tr th:only-of-type {\n        vertical-align: middle;\n    }\n\n    .dataframe tbody tr th {\n        vertical-align: top;\n    }\n\n    .dataframe thead th {\n        text-align: right;\n    }\n</style>\n<table border=\"1\" class=\"dataframe\">\n  <thead>\n    <tr style=\"text-align: right;\">\n      <th></th>\n      <th>userId</th>\n      <th>movieId</th>\n      <th>rating</th>\n      <th>timestamp</th>\n      <th>title</th>\n      <th>genres</th>\n    </tr>\n  </thead>\n  <tbody>\n    <tr>\n      <th>0</th>\n      <td>1</td>\n      <td>31</td>\n      <td>2.5</td>\n      <td>1260759144</td>\n      <td>Dangerous Minds (1995)</td>\n      <td>Drama</td>\n    </tr>\n    <tr>\n      <th>1</th>\n      <td>7</td>\n      <td>31</td>\n      <td>3.0</td>\n      <td>851868750</td>\n      <td>Dangerous Minds (1995)</td>\n      <td>Drama</td>\n    </tr>\n    <tr>\n      <th>2</th>\n      <td>31</td>\n      <td>31</td>\n      <td>4.0</td>\n      <td>1273541953</td>\n      <td>Dangerous Minds (1995)</td>\n      <td>Drama</td>\n    </tr>\n    <tr>\n      <th>3</th>\n      <td>32</td>\n      <td>31</td>\n      <td>4.0</td>\n      <td>834828440</td>\n      <td>Dangerous Minds (1995)</td>\n      <td>Drama</td>\n    </tr>\n    <tr>\n      <th>4</th>\n      <td>36</td>\n      <td>31</td>\n      <td>3.0</td>\n      <td>847057202</td>\n      <td>Dangerous Minds (1995)</td>\n      <td>Drama</td>\n    </tr>\n  </tbody>\n</table>\n</div>"
     },
     "metadata": {},
     "execution_count": 31
    }
   ],
   "source": [
    "# 두 DataFrame 합치기\n",
    "movie_ratings = pd.merge(ratings, movies, on='movieId')\n",
    "\n",
    "movie_ratings.head()"
   ]
  },
  {
   "cell_type": "code",
   "execution_count": 32,
   "metadata": {
    "tags": []
   },
   "outputs": [],
   "source": [
    "title_user = movie_ratings.pivot_table('rating', index='userId', columns='title')\n",
    "\n",
    "# 결측치를 0으로 변경\n",
    "title_user.fillna(0, inplace=True)\n",
    "# print(title_user)"
   ]
  },
  {
   "cell_type": "code",
   "execution_count": 33,
   "metadata": {},
   "outputs": [],
   "source": [
    "# 코사인 유사도\n",
    "from sklearn.metrics.pairwise import cosine_similarity"
   ]
  },
  {
   "cell_type": "code",
   "execution_count": 34,
   "metadata": {
    "tags": []
   },
   "outputs": [],
   "source": [
    "user_based_collab = cosine_similarity(title_user, title_user)\n",
    "\n",
    "# print(user_based_collab)"
   ]
  },
  {
   "cell_type": "code",
   "execution_count": 35,
   "metadata": {
    "tags": []
   },
   "outputs": [],
   "source": [
    "user_based_collab = pd.DataFrame(user_based_collab, index=title_user.index, columns=title_user.index)\n",
    "\n",
    "# print(user_based_collab)"
   ]
  },
  {
   "cell_type": "code",
   "execution_count": 36,
   "metadata": {
    "tags": []
   },
   "outputs": [
    {
     "output_type": "stream",
     "name": "stdout",
     "text": "userId\n1      1.000000\n325    0.371852\n634    0.194093\n341    0.162819\n310    0.157524\n207    0.152746\n35     0.130585\n195    0.122647\n485    0.114021\n130    0.112817\nName: 1, dtype: float64\n"
    }
   ],
   "source": [
    "# 1번 유저와 유사한 유저 10명 \n",
    "id = 1\n",
    "print(user_based_collab[id].sort_values(ascending=False)[:10])"
   ]
  },
  {
   "cell_type": "code",
   "execution_count": 37,
   "metadata": {
    "tags": []
   },
   "outputs": [
    {
     "output_type": "stream",
     "name": "stdout",
     "text": "325\ntitle   Beverly Hills Cop (1984)  Dangerous Minds (1995)  Brady Bunch Movie, The (1995)  ...  Frogs for Snakes (1998)  Fritz the Cat (1972)  İtirazım Var (2014)\nuserId                                                                                   ...                                                                    \n325                          4.5                     4.5                            4.0  ...                      0.0                   0.0                  0.0\n\n[1 rows x 9064 columns]\n"
    }
   ],
   "source": [
    "# 가장 유사한 유저를 뽑아서 그 유저가 본 영화를 추천\n",
    "id = 1\n",
    "user = user_based_collab[id].sort_values(ascending=False)[:10].index[1]\n",
    "\n",
    "print(user)\n",
    "\n",
    "result = title_user.query(f\"userId == {user}\").sort_values(ascending=False, by=user, axis=1)\n",
    "\n",
    "print(result)"
   ]
  },
  {
   "cell_type": "markdown",
   "metadata": {},
   "source": []
  },
  {
   "cell_type": "code",
   "execution_count": 38,
   "metadata": {
    "tags": []
   },
   "outputs": [
    {
     "output_type": "stream",
     "name": "stdout",
     "text": "[325, 634, 341, 310, 207, 35, 195, 485, 130]\n[0.3718515795200445, 0.19409305170790575, 0.16281928881328767, 0.1575243302750048, 0.15274612900892096, 0.13058496348265256, 0.12264701454037472, 0.11402063453702121, 0.11281730419223501]\n1.519104296077447\n"
    }
   ],
   "source": [
    "# 1번 유저와 유사한 유저 9명을 뽑아서, 그 유저들이 특정 영화에 대해서 부여햔 평점에 \n",
    "# 유사도만큼의 가중치를 부여해서 이걸 토대로 1번 유저가 부여햘 평점을 계산/예측\n",
    "# 가중치 --> 유저 9명 유사도의 합 중에서 해당 유저가 차지하는 유사도의 비율\n",
    "\n",
    "id = 1\n",
    "user_index_list = user_based_collab[id].sort_values(ascending=False)[1:10].index.tolist()\n",
    "user_weight_list = user_based_collab[id].sort_values(ascending=False)[1:10].tolist()\n",
    "\n",
    "print(user_index_list)\n",
    "print(user_weight_list)\n",
    "\n",
    "\n",
    "print(sum(user_weight_list))"
   ]
  },
  {
   "cell_type": "code",
   "execution_count": 39,
   "metadata": {
    "tags": []
   },
   "outputs": [
    {
     "output_type": "stream",
     "name": "stdout",
     "text": "0.0\n"
    }
   ],
   "source": [
    "movie_title = 'Dark Knight, The (2008)'\n",
    "# code 수정 해야함\n",
    "weighted_sum = []\n",
    "for i in range(9):\n",
    "    weighted_sum.append(title_user[movie_title][user_index_list[i]] * user_weight_list[i])\n",
    "\n",
    "print(sum(weighted_sum))"
   ]
  },
  {
   "cell_type": "code",
   "execution_count": 40,
   "metadata": {},
   "outputs": [
    {
     "output_type": "execute_result",
     "data": {
      "text/plain": "12816    False\n12817    False\n12818    False\n12819    False\n12820    False\n         ...  \n12932    False\n12933    False\n12934    False\n12935    False\n12936    False\nName: userId, Length: 121, dtype: bool"
     },
     "metadata": {},
     "execution_count": 40
    }
   ],
   "source": [
    "# 유사한 유저 9명이 해당 영화를 봤는지 확인\n",
    "# 안봤다..\n",
    "\n",
    "movie_ratings[movie_ratings.title == movie_title].userId == title_user[movie_title][user_index_list[i]]"
   ]
  },
  {
   "cell_type": "markdown",
   "metadata": {},
   "source": [
    "## 아이템 기반 협업 필터링"
   ]
  },
  {
   "cell_type": "code",
   "execution_count": 41,
   "metadata": {
    "tags": []
   },
   "outputs": [],
   "source": [
    "user_title = movie_ratings.pivot_table('rating', index='title', columns='userId')\n",
    "\n",
    "# 결측치를 0으로 변경\n",
    "user_title.fillna(0, inplace=True)\n",
    "# print(user_title)\n",
    "\n",
    "# 영화와 영화간의 유사도\n",
    "item_based_collab = cosine_similarity(user_title, user_title)\n",
    "# print(item_based_collab)\n",
    "\n",
    "item_based_collab = pd.DataFrame(item_based_collab, index=user_title.index, columns=user_title.index)\n",
    "# print(item_based_collab)\n",
    "\n",
    "movie_title = 'Dark Knight, The (2008)'\n",
    "user = item_based_collab[movie_title].sort_values(ascending=False)[:10]"
   ]
  },
  {
   "cell_type": "markdown",
   "metadata": {},
   "source": [
    "## 잠재 요인"
   ]
  },
  {
   "cell_type": "code",
   "execution_count": 42,
   "metadata": {
    "tags": []
   },
   "outputs": [],
   "source": [
    "# print(user_title)"
   ]
  },
  {
   "cell_type": "code",
   "execution_count": 43,
   "metadata": {},
   "outputs": [],
   "source": [
    "from sklearn.decomposition import TruncatedSVD"
   ]
  },
  {
   "cell_type": "code",
   "execution_count": 44,
   "metadata": {
    "tags": []
   },
   "outputs": [],
   "source": [
    "SVD = TruncatedSVD(n_components=12)\n",
    "SVD_matrix = SVD.fit_transform(user_title)\n",
    "\n",
    "# print(SVD_matrix)"
   ]
  },
  {
   "cell_type": "code",
   "execution_count": 45,
   "metadata": {},
   "outputs": [],
   "source": [
    "# 상관계수를 이용\n",
    "corr = np.corrcoef(SVD_matrix)"
   ]
  },
  {
   "cell_type": "code",
   "execution_count": 46,
   "metadata": {
    "tags": []
   },
   "outputs": [
    {
     "output_type": "stream",
     "name": "stdout",
     "text": "Avengers, The (2012)\nCaptain America: The First Avenger (2011)\nEdge of Tomorrow (2014)\nEnder's Game (2013)\nGuardians of the Galaxy (2014)\nHobbit: An Unexpected Journey, The (2012)\nIn Time (2011)\nIron Man 2 (2010)\nLimitless (2011)\nSherlock Holmes (2009)\nStar Trek Into Darkness (2013)\nWorld War Z (2013)\nX-Men: Days of Future Past (2014)\nX-Men: First Class (2011)\n"
    }
   ],
   "source": [
    "movie_title = title_user.columns.tolist()\n",
    "# print(movie_title)\n",
    "\n",
    "title = \"Avengers, The (2012)\"\n",
    "movie_index = movie_title.index(title)\n",
    "# print(movie_index)\n",
    "\n",
    "# 상관계수가 0.98 이상인 경우만 출력\n",
    "top_index = np.where(corr[movie_index] > 0.98)\n",
    "for i in top_index[0]:\n",
    "    print(movie_title[i])"
   ]
  },
  {
   "cell_type": "code",
   "execution_count": null,
   "metadata": {},
   "outputs": [],
   "source": []
  }
 ]
}