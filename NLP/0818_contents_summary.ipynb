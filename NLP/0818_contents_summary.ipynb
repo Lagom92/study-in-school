{
 "metadata": {
  "language_info": {
   "codemirror_mode": {
    "name": "ipython",
    "version": 3
   },
   "file_extension": ".py",
   "mimetype": "text/x-python",
   "name": "python",
   "nbconvert_exporter": "python",
   "pygments_lexer": "ipython3",
   "version": "3.7.7-final"
  },
  "orig_nbformat": 2,
  "kernelspec": {
   "name": "python_defaultSpec_1597739990995",
   "display_name": "Python 3.7.7 64-bit ('study': conda)"
  }
 },
 "nbformat": 4,
 "nbformat_minor": 2,
 "cells": [
  {
   "cell_type": "markdown",
   "metadata": {},
   "source": [
    "# 내용 요약하기"
   ]
  },
  {
   "cell_type": "code",
   "execution_count": 25,
   "metadata": {},
   "outputs": [],
   "source": [
    "import numpy as np\n",
    "import re\n",
    "import pandas as pd\n",
    "import csv\n",
    "from tensorflow.keras.preprocessing.text import Tokenizer\n",
    "from tensorflow.keras.preprocessing.sequence import pad_sequences"
   ]
  },
  {
   "cell_type": "code",
   "execution_count": 26,
   "metadata": {},
   "outputs": [
    {
     "output_type": "execute_result",
     "data": {
      "text/plain": "                                              reviewText  \\\n0      Not much to write about here, but it does exac...   \n1      The product does exactly as it should and is q...   \n2      The primary job of this device is to block the...   \n3      Nice windscreen protects my MXL mic and preven...   \n4      This pop filter is great. It looks and perform...   \n...                                                  ...   \n10256            Great, just as expected.  Thank to all.   \n10257  I've been thinking about trying the Nanoweb st...   \n10258  I have tried coated strings in the past ( incl...   \n10259  Well, MADE by Elixir and DEVELOPED with Taylor...   \n10260  These strings are really quite good, but I wou...   \n\n                                                 summary  \n0                                                   good  \n1                                                   Jake  \n2                                   It Does The Job Well  \n3                          GOOD WINDSCREEN FOR THE MONEY  \n4                  No more pops when I record my vocals.  \n...                                                  ...  \n10256                                         Five Stars  \n10257  Long life, and for some players, a good econom...  \n10258                                   Good for coated.  \n10259                                        Taylor Made  \n10260  These strings are really quite good, but I wou...  \n\n[10261 rows x 2 columns]",
      "text/html": "<div>\n<style scoped>\n    .dataframe tbody tr th:only-of-type {\n        vertical-align: middle;\n    }\n\n    .dataframe tbody tr th {\n        vertical-align: top;\n    }\n\n    .dataframe thead th {\n        text-align: right;\n    }\n</style>\n<table border=\"1\" class=\"dataframe\">\n  <thead>\n    <tr style=\"text-align: right;\">\n      <th></th>\n      <th>reviewText</th>\n      <th>summary</th>\n    </tr>\n  </thead>\n  <tbody>\n    <tr>\n      <th>0</th>\n      <td>Not much to write about here, but it does exac...</td>\n      <td>good</td>\n    </tr>\n    <tr>\n      <th>1</th>\n      <td>The product does exactly as it should and is q...</td>\n      <td>Jake</td>\n    </tr>\n    <tr>\n      <th>2</th>\n      <td>The primary job of this device is to block the...</td>\n      <td>It Does The Job Well</td>\n    </tr>\n    <tr>\n      <th>3</th>\n      <td>Nice windscreen protects my MXL mic and preven...</td>\n      <td>GOOD WINDSCREEN FOR THE MONEY</td>\n    </tr>\n    <tr>\n      <th>4</th>\n      <td>This pop filter is great. It looks and perform...</td>\n      <td>No more pops when I record my vocals.</td>\n    </tr>\n    <tr>\n      <th>...</th>\n      <td>...</td>\n      <td>...</td>\n    </tr>\n    <tr>\n      <th>10256</th>\n      <td>Great, just as expected.  Thank to all.</td>\n      <td>Five Stars</td>\n    </tr>\n    <tr>\n      <th>10257</th>\n      <td>I've been thinking about trying the Nanoweb st...</td>\n      <td>Long life, and for some players, a good econom...</td>\n    </tr>\n    <tr>\n      <th>10258</th>\n      <td>I have tried coated strings in the past ( incl...</td>\n      <td>Good for coated.</td>\n    </tr>\n    <tr>\n      <th>10259</th>\n      <td>Well, MADE by Elixir and DEVELOPED with Taylor...</td>\n      <td>Taylor Made</td>\n    </tr>\n    <tr>\n      <th>10260</th>\n      <td>These strings are really quite good, but I wou...</td>\n      <td>These strings are really quite good, but I wou...</td>\n    </tr>\n  </tbody>\n</table>\n<p>10261 rows × 2 columns</p>\n</div>"
     },
     "metadata": {},
     "execution_count": 26
    }
   ],
   "source": [
    "data = pd.read_csv('data/Musical_instruments_reviews.csv')\n",
    "\n",
    "df = data[['reviewText', 'summary']]\n",
    "df"
   ]
  },
  {
   "cell_type": "code",
   "execution_count": 27,
   "metadata": {},
   "outputs": [],
   "source": [
    "df.reviewText = df.reviewText.str.replace(\"[^\\w]\", \" \")\n",
    "df.summary = df.summary.str.replace(\"[^\\w]\", \" \")\n",
    "\n",
    "df.reviewText = df.reviewText.str.replace(\"[^\\w]\", \" \")\n",
    "df.summary = df.summary.str.replace(\"[^\\w]\", \" \")"
   ]
  },
  {
   "cell_type": "code",
   "execution_count": 32,
   "metadata": {},
   "outputs": [
    {
     "output_type": "execute_result",
     "data": {
      "text/plain": "                                          reviewText  \\\n0  Not much to write about here  but it does exac...   \n1  The product does exactly as it should and is q...   \n2  The primary job of this device is to block the...   \n3  Nice windscreen protects my MXL mic and preven...   \n4  This pop filter is great  It looks and perform...   \n\n                                 summary  \n0                                   good  \n1                                   Jake  \n2                   It Does The Job Well  \n3          GOOD WINDSCREEN FOR THE MONEY  \n4  No more pops when I record my vocals   ",
      "text/html": "<div>\n<style scoped>\n    .dataframe tbody tr th:only-of-type {\n        vertical-align: middle;\n    }\n\n    .dataframe tbody tr th {\n        vertical-align: top;\n    }\n\n    .dataframe thead th {\n        text-align: right;\n    }\n</style>\n<table border=\"1\" class=\"dataframe\">\n  <thead>\n    <tr style=\"text-align: right;\">\n      <th></th>\n      <th>reviewText</th>\n      <th>summary</th>\n    </tr>\n  </thead>\n  <tbody>\n    <tr>\n      <th>0</th>\n      <td>Not much to write about here  but it does exac...</td>\n      <td>good</td>\n    </tr>\n    <tr>\n      <th>1</th>\n      <td>The product does exactly as it should and is q...</td>\n      <td>Jake</td>\n    </tr>\n    <tr>\n      <th>2</th>\n      <td>The primary job of this device is to block the...</td>\n      <td>It Does The Job Well</td>\n    </tr>\n    <tr>\n      <th>3</th>\n      <td>Nice windscreen protects my MXL mic and preven...</td>\n      <td>GOOD WINDSCREEN FOR THE MONEY</td>\n    </tr>\n    <tr>\n      <th>4</th>\n      <td>This pop filter is great  It looks and perform...</td>\n      <td>No more pops when I record my vocals</td>\n    </tr>\n  </tbody>\n</table>\n</div>"
     },
     "metadata": {},
     "execution_count": 32
    }
   ],
   "source": [
    "df.head()"
   ]
  },
  {
   "cell_type": "code",
   "execution_count": 31,
   "metadata": {
    "tags": []
   },
   "outputs": [
    {
     "output_type": "error",
     "ename": "AttributeError",
     "evalue": "'float' object has no attribute 'split'",
     "traceback": [
      "\u001b[1;31m---------------------------------------------------------------------------\u001b[0m",
      "\u001b[1;31mAttributeError\u001b[0m                            Traceback (most recent call last)",
      "\u001b[1;32m<ipython-input-31-b839c4347237>\u001b[0m in \u001b[0;36m<module>\u001b[1;34m\u001b[0m\n\u001b[0;32m      2\u001b[0m \u001b[1;33m\u001b[0m\u001b[0m\n\u001b[0;32m      3\u001b[0m \u001b[1;32mfor\u001b[0m \u001b[0mstc\u001b[0m \u001b[1;32min\u001b[0m \u001b[0mdf\u001b[0m\u001b[1;33m[\u001b[0m\u001b[1;34m'reviewText'\u001b[0m\u001b[1;33m]\u001b[0m\u001b[1;33m:\u001b[0m\u001b[1;33m\u001b[0m\u001b[1;33m\u001b[0m\u001b[0m\n\u001b[1;32m----> 4\u001b[1;33m     \u001b[0mencoder_input\u001b[0m\u001b[1;33m.\u001b[0m\u001b[0mappend\u001b[0m\u001b[1;33m(\u001b[0m\u001b[0mstc\u001b[0m\u001b[1;33m.\u001b[0m\u001b[0msplit\u001b[0m\u001b[1;33m(\u001b[0m\u001b[1;33m)\u001b[0m\u001b[1;33m)\u001b[0m\u001b[1;33m\u001b[0m\u001b[1;33m\u001b[0m\u001b[0m\n\u001b[0m\u001b[0;32m      5\u001b[0m \u001b[1;33m\u001b[0m\u001b[0m\n\u001b[0;32m      6\u001b[0m \u001b[1;32mfor\u001b[0m \u001b[0mstc\u001b[0m \u001b[1;32min\u001b[0m \u001b[0mdf\u001b[0m\u001b[1;33m[\u001b[0m\u001b[1;34m'summary'\u001b[0m\u001b[1;33m]\u001b[0m\u001b[1;33m:\u001b[0m\u001b[1;33m\u001b[0m\u001b[1;33m\u001b[0m\u001b[0m\n",
      "\u001b[1;31mAttributeError\u001b[0m: 'float' object has no attribute 'split'"
     ]
    }
   ],
   "source": [
    "encoder_input, decoder_input, decoder_output = [], [], []\n",
    "\n",
    "for stc in df['reviewText']:\n",
    "    encoder_input.append(stc.split())\n",
    "\n",
    "for stc in df['summary']:\n",
    "    decoder_input.append((\"<start> \"+stc).split())\n",
    "\n",
    "for stc in df['summary']:\n",
    "    decoder_output.append((stc+\" <end>\").split())\n",
    "\n",
    "print(encoder_input[:3])\n",
    "print(decoder_input[:3])\n",
    "print(decoder_output[:3])"
   ]
  },
  {
   "cell_type": "code",
   "execution_count": 24,
   "metadata": {},
   "outputs": [
    {
     "output_type": "execute_result",
     "data": {
      "text/plain": "                                              reviewText  \\\n0      Not much to write about here  but it does exac...   \n1      The product does exactly as it should and is q...   \n2      The primary job of this device is to block the...   \n3      Nice windscreen protects my MXL mic and preven...   \n4      This pop filter is great  It looks and perform...   \n...                                                  ...   \n10256            Great  just as expected   Thank to all    \n10257  I ve been thinking about trying the Nanoweb st...   \n10258  I have tried coated strings in the past   incl...   \n10259  Well  MADE by Elixir and DEVELOPED with Taylor...   \n10260  These strings are really quite good  but I wou...   \n\n                                                 summary  \n0                                                   good  \n1                                                   Jake  \n2                                   It Does The Job Well  \n3                          GOOD WINDSCREEN FOR THE MONEY  \n4                  No more pops when I record my vocals   \n...                                                  ...  \n10256                                         Five Stars  \n10257  Long life  and for some players  a good econom...  \n10258                                   Good for coated   \n10259                                        Taylor Made  \n10260  These strings are really quite good  but I wou...  \n\n[10254 rows x 2 columns]",
      "text/html": "<div>\n<style scoped>\n    .dataframe tbody tr th:only-of-type {\n        vertical-align: middle;\n    }\n\n    .dataframe tbody tr th {\n        vertical-align: top;\n    }\n\n    .dataframe thead th {\n        text-align: right;\n    }\n</style>\n<table border=\"1\" class=\"dataframe\">\n  <thead>\n    <tr style=\"text-align: right;\">\n      <th></th>\n      <th>reviewText</th>\n      <th>summary</th>\n    </tr>\n  </thead>\n  <tbody>\n    <tr>\n      <th>0</th>\n      <td>Not much to write about here  but it does exac...</td>\n      <td>good</td>\n    </tr>\n    <tr>\n      <th>1</th>\n      <td>The product does exactly as it should and is q...</td>\n      <td>Jake</td>\n    </tr>\n    <tr>\n      <th>2</th>\n      <td>The primary job of this device is to block the...</td>\n      <td>It Does The Job Well</td>\n    </tr>\n    <tr>\n      <th>3</th>\n      <td>Nice windscreen protects my MXL mic and preven...</td>\n      <td>GOOD WINDSCREEN FOR THE MONEY</td>\n    </tr>\n    <tr>\n      <th>4</th>\n      <td>This pop filter is great  It looks and perform...</td>\n      <td>No more pops when I record my vocals</td>\n    </tr>\n    <tr>\n      <th>...</th>\n      <td>...</td>\n      <td>...</td>\n    </tr>\n    <tr>\n      <th>10256</th>\n      <td>Great  just as expected   Thank to all</td>\n      <td>Five Stars</td>\n    </tr>\n    <tr>\n      <th>10257</th>\n      <td>I ve been thinking about trying the Nanoweb st...</td>\n      <td>Long life  and for some players  a good econom...</td>\n    </tr>\n    <tr>\n      <th>10258</th>\n      <td>I have tried coated strings in the past   incl...</td>\n      <td>Good for coated</td>\n    </tr>\n    <tr>\n      <th>10259</th>\n      <td>Well  MADE by Elixir and DEVELOPED with Taylor...</td>\n      <td>Taylor Made</td>\n    </tr>\n    <tr>\n      <th>10260</th>\n      <td>These strings are really quite good  but I wou...</td>\n      <td>These strings are really quite good  but I wou...</td>\n    </tr>\n  </tbody>\n</table>\n<p>10254 rows × 2 columns</p>\n</div>"
     },
     "metadata": {},
     "execution_count": 24
    }
   ],
   "source": [
    "df"
   ]
  },
  {
   "cell_type": "code",
   "execution_count": null,
   "metadata": {},
   "outputs": [],
   "source": []
  }
 ]
}