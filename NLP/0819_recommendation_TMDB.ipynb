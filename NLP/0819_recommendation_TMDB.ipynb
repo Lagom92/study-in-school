{
 "metadata": {
  "language_info": {
   "codemirror_mode": {
    "name": "ipython",
    "version": 3
   },
   "file_extension": ".py",
   "mimetype": "text/x-python",
   "name": "python",
   "nbconvert_exporter": "python",
   "pygments_lexer": "ipython3",
   "version": "3.7.7-final"
  },
  "orig_nbformat": 2,
  "kernelspec": {
   "name": "python_defaultSpec_1597826401501",
   "display_name": "Python 3.7.7 64-bit ('study': conda)"
  }
 },
 "nbformat": 4,
 "nbformat_minor": 2,
 "cells": [
  {
   "cell_type": "markdown",
   "metadata": {},
   "source": [
    "# Movie Recommendation\n",
    "\n",
    "TMDB data"
   ]
  },
  {
   "cell_type": "code",
   "execution_count": 18,
   "metadata": {},
   "outputs": [],
   "source": [
    "import pandas as pd \n",
    "import numpy as np \n",
    "from ast import literal_eval"
   ]
  },
  {
   "cell_type": "code",
   "execution_count": 19,
   "metadata": {},
   "outputs": [],
   "source": [
    "pd.set_option('display.max_columns', 20)\n",
    "pd.set_option('display.width', 1000)"
   ]
  },
  {
   "cell_type": "code",
   "execution_count": 20,
   "metadata": {},
   "outputs": [
    {
     "output_type": "execute_result",
     "data": {
      "text/plain": "                                      title                                             genres                                           keywords\n0                                    Avatar  [{'id': 28, 'name': 'Action'}, {'id': 12, 'nam...  [{'id': 1463, 'name': 'culture clash'}, {'id':...\n1  Pirates of the Caribbean: At World's End  [{'id': 12, 'name': 'Adventure'}, {'id': 14, '...  [{'id': 270, 'name': 'ocean'}, {'id': 726, 'na...\n2                                   Spectre  [{'id': 28, 'name': 'Action'}, {'id': 12, 'nam...  [{'id': 470, 'name': 'spy'}, {'id': 818, 'name...\n3                     The Dark Knight Rises  [{'id': 28, 'name': 'Action'}, {'id': 80, 'nam...  [{'id': 849, 'name': 'dc comics'}, {'id': 853,...\n4                               John Carter  [{'id': 28, 'name': 'Action'}, {'id': 12, 'nam...  [{'id': 818, 'name': 'based on novel'}, {'id':...",
      "text/html": "<div>\n<style scoped>\n    .dataframe tbody tr th:only-of-type {\n        vertical-align: middle;\n    }\n\n    .dataframe tbody tr th {\n        vertical-align: top;\n    }\n\n    .dataframe thead th {\n        text-align: right;\n    }\n</style>\n<table border=\"1\" class=\"dataframe\">\n  <thead>\n    <tr style=\"text-align: right;\">\n      <th></th>\n      <th>title</th>\n      <th>genres</th>\n      <th>keywords</th>\n    </tr>\n  </thead>\n  <tbody>\n    <tr>\n      <th>0</th>\n      <td>Avatar</td>\n      <td>[{'id': 28, 'name': 'Action'}, {'id': 12, 'nam...</td>\n      <td>[{'id': 1463, 'name': 'culture clash'}, {'id':...</td>\n    </tr>\n    <tr>\n      <th>1</th>\n      <td>Pirates of the Caribbean: At World's End</td>\n      <td>[{'id': 12, 'name': 'Adventure'}, {'id': 14, '...</td>\n      <td>[{'id': 270, 'name': 'ocean'}, {'id': 726, 'na...</td>\n    </tr>\n    <tr>\n      <th>2</th>\n      <td>Spectre</td>\n      <td>[{'id': 28, 'name': 'Action'}, {'id': 12, 'nam...</td>\n      <td>[{'id': 470, 'name': 'spy'}, {'id': 818, 'name...</td>\n    </tr>\n    <tr>\n      <th>3</th>\n      <td>The Dark Knight Rises</td>\n      <td>[{'id': 28, 'name': 'Action'}, {'id': 80, 'nam...</td>\n      <td>[{'id': 849, 'name': 'dc comics'}, {'id': 853,...</td>\n    </tr>\n    <tr>\n      <th>4</th>\n      <td>John Carter</td>\n      <td>[{'id': 28, 'name': 'Action'}, {'id': 12, 'nam...</td>\n      <td>[{'id': 818, 'name': 'based on novel'}, {'id':...</td>\n    </tr>\n  </tbody>\n</table>\n</div>"
     },
     "metadata": {},
     "execution_count": 20
    }
   ],
   "source": [
    "movies = pd.read_csv('./data/tmdb_5000_movies.csv')\n",
    "movies.head()\n",
    "\n",
    "movies = movies.loc[:, ['title', 'genres', 'keywords']]\n",
    "movies.head()\n",
    "\n",
    "# str로 되어있는걸 dic로 변경\n",
    "movies['genres'] = movies['genres'].apply(literal_eval)\n",
    "movies['keywords'] = movies['keywords'].apply(literal_eval)\n",
    "\n",
    "movies.head()"
   ]
  },
  {
   "cell_type": "code",
   "execution_count": 21,
   "metadata": {
    "tags": []
   },
   "outputs": [],
   "source": [
    "# name에 해당하는것만 가져오기\n",
    "# 방법 1\n",
    "\n",
    "# i = 0\n",
    "# for row in movies['genres']:\n",
    "#     genres = []\n",
    "#     for ele in row:\n",
    "#         genres.append(ele['name'])\n",
    "#     movies['genres'][i] = genres\n",
    "#     i += 1"
   ]
  },
  {
   "cell_type": "code",
   "execution_count": 22,
   "metadata": {},
   "outputs": [
    {
     "output_type": "execute_result",
     "data": {
      "text/plain": "                                      title                                         genres                                           keywords\n0                                    Avatar  [Action, Adventure, Fantasy, Science Fiction]  [culture clash, future, space war, space colon...\n1  Pirates of the Caribbean: At World's End                   [Adventure, Fantasy, Action]  [ocean, drug abuse, exotic island, east india ...\n2                                   Spectre                     [Action, Adventure, Crime]  [spy, based on novel, secret agent, sequel, mi...\n3                     The Dark Knight Rises               [Action, Crime, Drama, Thriller]  [dc comics, crime fighter, terrorist, secret i...\n4                               John Carter           [Action, Adventure, Science Fiction]  [based on novel, mars, medallion, space travel...",
      "text/html": "<div>\n<style scoped>\n    .dataframe tbody tr th:only-of-type {\n        vertical-align: middle;\n    }\n\n    .dataframe tbody tr th {\n        vertical-align: top;\n    }\n\n    .dataframe thead th {\n        text-align: right;\n    }\n</style>\n<table border=\"1\" class=\"dataframe\">\n  <thead>\n    <tr style=\"text-align: right;\">\n      <th></th>\n      <th>title</th>\n      <th>genres</th>\n      <th>keywords</th>\n    </tr>\n  </thead>\n  <tbody>\n    <tr>\n      <th>0</th>\n      <td>Avatar</td>\n      <td>[Action, Adventure, Fantasy, Science Fiction]</td>\n      <td>[culture clash, future, space war, space colon...</td>\n    </tr>\n    <tr>\n      <th>1</th>\n      <td>Pirates of the Caribbean: At World's End</td>\n      <td>[Adventure, Fantasy, Action]</td>\n      <td>[ocean, drug abuse, exotic island, east india ...</td>\n    </tr>\n    <tr>\n      <th>2</th>\n      <td>Spectre</td>\n      <td>[Action, Adventure, Crime]</td>\n      <td>[spy, based on novel, secret agent, sequel, mi...</td>\n    </tr>\n    <tr>\n      <th>3</th>\n      <td>The Dark Knight Rises</td>\n      <td>[Action, Crime, Drama, Thriller]</td>\n      <td>[dc comics, crime fighter, terrorist, secret i...</td>\n    </tr>\n    <tr>\n      <th>4</th>\n      <td>John Carter</td>\n      <td>[Action, Adventure, Science Fiction]</td>\n      <td>[based on novel, mars, medallion, space travel...</td>\n    </tr>\n  </tbody>\n</table>\n</div>"
     },
     "metadata": {},
     "execution_count": 22
    }
   ],
   "source": [
    "# 방법 2\n",
    "# dic => list\n",
    "movies['genres'] = movies['genres'].apply(lambda x: [ele['name'] for ele in x])\n",
    "\n",
    "movies['keywords'] = movies['keywords'].apply(lambda x: [ele['name'] for ele in x])\n",
    "\n",
    "movies.head()"
   ]
  },
  {
   "cell_type": "code",
   "execution_count": 23,
   "metadata": {},
   "outputs": [
    {
     "output_type": "execute_result",
     "data": {
      "text/plain": "                                      title                                    genres                                           keywords\n0                                    Avatar  Action Adventure Fantasy Science Fiction  culture clash future space war space colony so...\n1  Pirates of the Caribbean: At World's End                  Adventure Fantasy Action  ocean drug abuse exotic island east india trad...\n2                                   Spectre                    Action Adventure Crime  spy based on novel secret agent sequel mi6 bri...\n3                     The Dark Knight Rises               Action Crime Drama Thriller  dc comics crime fighter terrorist secret ident...\n4                               John Carter          Action Adventure Science Fiction  based on novel mars medallion space travel pri...",
      "text/html": "<div>\n<style scoped>\n    .dataframe tbody tr th:only-of-type {\n        vertical-align: middle;\n    }\n\n    .dataframe tbody tr th {\n        vertical-align: top;\n    }\n\n    .dataframe thead th {\n        text-align: right;\n    }\n</style>\n<table border=\"1\" class=\"dataframe\">\n  <thead>\n    <tr style=\"text-align: right;\">\n      <th></th>\n      <th>title</th>\n      <th>genres</th>\n      <th>keywords</th>\n    </tr>\n  </thead>\n  <tbody>\n    <tr>\n      <th>0</th>\n      <td>Avatar</td>\n      <td>Action Adventure Fantasy Science Fiction</td>\n      <td>culture clash future space war space colony so...</td>\n    </tr>\n    <tr>\n      <th>1</th>\n      <td>Pirates of the Caribbean: At World's End</td>\n      <td>Adventure Fantasy Action</td>\n      <td>ocean drug abuse exotic island east india trad...</td>\n    </tr>\n    <tr>\n      <th>2</th>\n      <td>Spectre</td>\n      <td>Action Adventure Crime</td>\n      <td>spy based on novel secret agent sequel mi6 bri...</td>\n    </tr>\n    <tr>\n      <th>3</th>\n      <td>The Dark Knight Rises</td>\n      <td>Action Crime Drama Thriller</td>\n      <td>dc comics crime fighter terrorist secret ident...</td>\n    </tr>\n    <tr>\n      <th>4</th>\n      <td>John Carter</td>\n      <td>Action Adventure Science Fiction</td>\n      <td>based on novel mars medallion space travel pri...</td>\n    </tr>\n  </tbody>\n</table>\n</div>"
     },
     "metadata": {},
     "execution_count": 23
    }
   ],
   "source": [
    "# [ 장르, 장르 ] => 장르 장르\n",
    "# list => str\n",
    "movies['genres'] = movies['genres'].apply(lambda x: ' '.join(x))\n",
    "movies['keywords'] = movies['keywords'].apply(lambda x: ' '.join(x))\n",
    "\n",
    "movies.head()"
   ]
  },
  {
   "cell_type": "markdown",
   "metadata": {},
   "source": [
    "## TF-IDF"
   ]
  },
  {
   "cell_type": "code",
   "execution_count": null,
   "metadata": {},
   "outputs": [],
   "source": []
  },
  {
   "cell_type": "code",
   "execution_count": null,
   "metadata": {},
   "outputs": [],
   "source": []
  },
  {
   "cell_type": "code",
   "execution_count": null,
   "metadata": {},
   "outputs": [],
   "source": []
  },
  {
   "cell_type": "code",
   "execution_count": null,
   "metadata": {},
   "outputs": [],
   "source": []
  },
  {
   "cell_type": "code",
   "execution_count": null,
   "metadata": {},
   "outputs": [],
   "source": []
  }
 ]
}