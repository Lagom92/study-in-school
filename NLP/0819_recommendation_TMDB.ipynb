{
 "metadata": {
  "language_info": {
   "codemirror_mode": {
    "name": "ipython",
    "version": 3
   },
   "file_extension": ".py",
   "mimetype": "text/x-python",
   "name": "python",
   "nbconvert_exporter": "python",
   "pygments_lexer": "ipython3",
   "version": "3.7.7-final"
  },
  "orig_nbformat": 2,
  "kernelspec": {
   "name": "python_defaultSpec_1597923410156",
   "display_name": "Python 3.7.7 64-bit ('study': conda)"
  }
 },
 "nbformat": 4,
 "nbformat_minor": 2,
 "cells": [
  {
   "cell_type": "markdown",
   "metadata": {},
   "source": [
    "# Movie Recommendation\n",
    "\n",
    "TMDB data"
   ]
  },
  {
   "cell_type": "code",
   "execution_count": 1,
   "metadata": {},
   "outputs": [],
   "source": [
    "import pandas as pd \n",
    "import numpy as np \n",
    "from ast import literal_eval"
   ]
  },
  {
   "cell_type": "code",
   "execution_count": 2,
   "metadata": {},
   "outputs": [],
   "source": [
    "pd.set_option('display.max_columns', 20)\n",
    "pd.set_option('display.width', 1000)"
   ]
  },
  {
   "cell_type": "code",
   "execution_count": 3,
   "metadata": {},
   "outputs": [
    {
     "output_type": "execute_result",
     "data": {
      "text/plain": "                                      title                                             genres                                           keywords\n0                                    Avatar  [{'id': 28, 'name': 'Action'}, {'id': 12, 'nam...  [{'id': 1463, 'name': 'culture clash'}, {'id':...\n1  Pirates of the Caribbean: At World's End  [{'id': 12, 'name': 'Adventure'}, {'id': 14, '...  [{'id': 270, 'name': 'ocean'}, {'id': 726, 'na...\n2                                   Spectre  [{'id': 28, 'name': 'Action'}, {'id': 12, 'nam...  [{'id': 470, 'name': 'spy'}, {'id': 818, 'name...\n3                     The Dark Knight Rises  [{'id': 28, 'name': 'Action'}, {'id': 80, 'nam...  [{'id': 849, 'name': 'dc comics'}, {'id': 853,...\n4                               John Carter  [{'id': 28, 'name': 'Action'}, {'id': 12, 'nam...  [{'id': 818, 'name': 'based on novel'}, {'id':...",
      "text/html": "<div>\n<style scoped>\n    .dataframe tbody tr th:only-of-type {\n        vertical-align: middle;\n    }\n\n    .dataframe tbody tr th {\n        vertical-align: top;\n    }\n\n    .dataframe thead th {\n        text-align: right;\n    }\n</style>\n<table border=\"1\" class=\"dataframe\">\n  <thead>\n    <tr style=\"text-align: right;\">\n      <th></th>\n      <th>title</th>\n      <th>genres</th>\n      <th>keywords</th>\n    </tr>\n  </thead>\n  <tbody>\n    <tr>\n      <th>0</th>\n      <td>Avatar</td>\n      <td>[{'id': 28, 'name': 'Action'}, {'id': 12, 'nam...</td>\n      <td>[{'id': 1463, 'name': 'culture clash'}, {'id':...</td>\n    </tr>\n    <tr>\n      <th>1</th>\n      <td>Pirates of the Caribbean: At World's End</td>\n      <td>[{'id': 12, 'name': 'Adventure'}, {'id': 14, '...</td>\n      <td>[{'id': 270, 'name': 'ocean'}, {'id': 726, 'na...</td>\n    </tr>\n    <tr>\n      <th>2</th>\n      <td>Spectre</td>\n      <td>[{'id': 28, 'name': 'Action'}, {'id': 12, 'nam...</td>\n      <td>[{'id': 470, 'name': 'spy'}, {'id': 818, 'name...</td>\n    </tr>\n    <tr>\n      <th>3</th>\n      <td>The Dark Knight Rises</td>\n      <td>[{'id': 28, 'name': 'Action'}, {'id': 80, 'nam...</td>\n      <td>[{'id': 849, 'name': 'dc comics'}, {'id': 853,...</td>\n    </tr>\n    <tr>\n      <th>4</th>\n      <td>John Carter</td>\n      <td>[{'id': 28, 'name': 'Action'}, {'id': 12, 'nam...</td>\n      <td>[{'id': 818, 'name': 'based on novel'}, {'id':...</td>\n    </tr>\n  </tbody>\n</table>\n</div>"
     },
     "metadata": {},
     "execution_count": 3
    }
   ],
   "source": [
    "movies = pd.read_csv('./data/tmdb_5000_movies.csv')\n",
    "movies.head()\n",
    "\n",
    "movies = movies.loc[:, ['title', 'genres', 'keywords']]\n",
    "movies.head()\n",
    "\n",
    "# str로 되어있는걸 dict로 변경\n",
    "movies['genres'] = movies['genres'].apply(literal_eval)\n",
    "movies['keywords'] = movies['keywords'].apply(literal_eval)\n",
    "\n",
    "movies.head()"
   ]
  },
  {
   "cell_type": "code",
   "execution_count": 4,
   "metadata": {
    "tags": []
   },
   "outputs": [],
   "source": [
    "# name에 해당하는것만 가져오기\n",
    "# 방법 1\n",
    "\n",
    "# i = 0\n",
    "# for row in movies['genres']:\n",
    "#     genres = []\n",
    "#     for ele in row:\n",
    "#         genres.append(ele['name'])\n",
    "#     movies['genres'][i] = genres\n",
    "#     i += 1"
   ]
  },
  {
   "cell_type": "code",
   "execution_count": 5,
   "metadata": {},
   "outputs": [
    {
     "output_type": "execute_result",
     "data": {
      "text/plain": "                                      title                                         genres                                           keywords\n0                                    Avatar  [Action, Adventure, Fantasy, Science Fiction]  [culture clash, future, space war, space colon...\n1  Pirates of the Caribbean: At World's End                   [Adventure, Fantasy, Action]  [ocean, drug abuse, exotic island, east india ...\n2                                   Spectre                     [Action, Adventure, Crime]  [spy, based on novel, secret agent, sequel, mi...\n3                     The Dark Knight Rises               [Action, Crime, Drama, Thriller]  [dc comics, crime fighter, terrorist, secret i...\n4                               John Carter           [Action, Adventure, Science Fiction]  [based on novel, mars, medallion, space travel...",
      "text/html": "<div>\n<style scoped>\n    .dataframe tbody tr th:only-of-type {\n        vertical-align: middle;\n    }\n\n    .dataframe tbody tr th {\n        vertical-align: top;\n    }\n\n    .dataframe thead th {\n        text-align: right;\n    }\n</style>\n<table border=\"1\" class=\"dataframe\">\n  <thead>\n    <tr style=\"text-align: right;\">\n      <th></th>\n      <th>title</th>\n      <th>genres</th>\n      <th>keywords</th>\n    </tr>\n  </thead>\n  <tbody>\n    <tr>\n      <th>0</th>\n      <td>Avatar</td>\n      <td>[Action, Adventure, Fantasy, Science Fiction]</td>\n      <td>[culture clash, future, space war, space colon...</td>\n    </tr>\n    <tr>\n      <th>1</th>\n      <td>Pirates of the Caribbean: At World's End</td>\n      <td>[Adventure, Fantasy, Action]</td>\n      <td>[ocean, drug abuse, exotic island, east india ...</td>\n    </tr>\n    <tr>\n      <th>2</th>\n      <td>Spectre</td>\n      <td>[Action, Adventure, Crime]</td>\n      <td>[spy, based on novel, secret agent, sequel, mi...</td>\n    </tr>\n    <tr>\n      <th>3</th>\n      <td>The Dark Knight Rises</td>\n      <td>[Action, Crime, Drama, Thriller]</td>\n      <td>[dc comics, crime fighter, terrorist, secret i...</td>\n    </tr>\n    <tr>\n      <th>4</th>\n      <td>John Carter</td>\n      <td>[Action, Adventure, Science Fiction]</td>\n      <td>[based on novel, mars, medallion, space travel...</td>\n    </tr>\n  </tbody>\n</table>\n</div>"
     },
     "metadata": {},
     "execution_count": 5
    }
   ],
   "source": [
    "# 방법 2\n",
    "# 딕셔너리 형태를 깔끔하게 장르에 해당하는 부분만 뽑아서 문자열화\n",
    "# dict => list\n",
    "movies['genres'] = movies['genres'].apply(lambda x: [ele['name'] for ele in x])\n",
    "\n",
    "movies['keywords'] = movies['keywords'].apply(lambda x: [ele['name'] for ele in x])\n",
    "\n",
    "movies.head()"
   ]
  },
  {
   "cell_type": "code",
   "execution_count": 6,
   "metadata": {},
   "outputs": [
    {
     "output_type": "execute_result",
     "data": {
      "text/plain": "                                      title                                    genres                                           keywords\n0                                    Avatar  Action Adventure Fantasy Science Fiction  culture clash future space war space colony so...\n1  Pirates of the Caribbean: At World's End                  Adventure Fantasy Action  ocean drug abuse exotic island east india trad...\n2                                   Spectre                    Action Adventure Crime  spy based on novel secret agent sequel mi6 bri...\n3                     The Dark Knight Rises               Action Crime Drama Thriller  dc comics crime fighter terrorist secret ident...\n4                               John Carter          Action Adventure Science Fiction  based on novel mars medallion space travel pri...",
      "text/html": "<div>\n<style scoped>\n    .dataframe tbody tr th:only-of-type {\n        vertical-align: middle;\n    }\n\n    .dataframe tbody tr th {\n        vertical-align: top;\n    }\n\n    .dataframe thead th {\n        text-align: right;\n    }\n</style>\n<table border=\"1\" class=\"dataframe\">\n  <thead>\n    <tr style=\"text-align: right;\">\n      <th></th>\n      <th>title</th>\n      <th>genres</th>\n      <th>keywords</th>\n    </tr>\n  </thead>\n  <tbody>\n    <tr>\n      <th>0</th>\n      <td>Avatar</td>\n      <td>Action Adventure Fantasy Science Fiction</td>\n      <td>culture clash future space war space colony so...</td>\n    </tr>\n    <tr>\n      <th>1</th>\n      <td>Pirates of the Caribbean: At World's End</td>\n      <td>Adventure Fantasy Action</td>\n      <td>ocean drug abuse exotic island east india trad...</td>\n    </tr>\n    <tr>\n      <th>2</th>\n      <td>Spectre</td>\n      <td>Action Adventure Crime</td>\n      <td>spy based on novel secret agent sequel mi6 bri...</td>\n    </tr>\n    <tr>\n      <th>3</th>\n      <td>The Dark Knight Rises</td>\n      <td>Action Crime Drama Thriller</td>\n      <td>dc comics crime fighter terrorist secret ident...</td>\n    </tr>\n    <tr>\n      <th>4</th>\n      <td>John Carter</td>\n      <td>Action Adventure Science Fiction</td>\n      <td>based on novel mars medallion space travel pri...</td>\n    </tr>\n  </tbody>\n</table>\n</div>"
     },
     "metadata": {},
     "execution_count": 6
    }
   ],
   "source": [
    "# [ 장르, 장르 ] => 장르 장르\n",
    "# list => str\n",
    "movies['genres'] = movies['genres'].apply(lambda x: ' '.join(x))\n",
    "movies['keywords'] = movies['keywords'].apply(lambda x: ' '.join(x))\n",
    "\n",
    "movies.head()"
   ]
  },
  {
   "cell_type": "markdown",
   "metadata": {},
   "source": [
    "## TF-IDF"
   ]
  },
  {
   "cell_type": "code",
   "execution_count": 8,
   "metadata": {},
   "outputs": [],
   "source": [
    "from sklearn.feature_extraction.text import TfidfVectorizer"
   ]
  },
  {
   "cell_type": "code",
   "execution_count": 14,
   "metadata": {
    "tags": []
   },
   "outputs": [
    {
     "output_type": "stream",
     "name": "stdout",
     "text": "[('culture', 9037), ('clash', 7010), ('future', 15032), ('space', 34485), ('war', 40021)]\n(4803, 41554)\n"
    }
   ],
   "source": [
    "# ngram_range=(1, 2) 는 단어를 1개 혹은 2개 연속으로 보겠다는 의미\n",
    "tfidf_vec = TfidfVectorizer(ngram_range=(1, 2))\n",
    "tfidf_matrix = tfidf_vec.fit_transform(movies['keywords'])\n",
    "\n",
    "# print(tfidf_vec.vocabulary_.items())\n",
    "print(list(tfidf_vec.vocabulary_.items())[:5])\n",
    "\n",
    "# 4803은 영화 의 개수, 276은 단어의 개수\n",
    "# --> 하나의 영화를 276개 열을 가진 벡터로 표현\n",
    "print(tfidf_matrix.shape)"
   ]
  },
  {
   "cell_type": "code",
   "execution_count": 16,
   "metadata": {},
   "outputs": [
    {
     "output_type": "execute_result",
     "data": {
      "text/plain": "<4803x41554 sparse matrix of type '<class 'numpy.float64'>'\n\twith 101584 stored elements in Compressed Sparse Row format>"
     },
     "metadata": {},
     "execution_count": 16
    }
   ],
   "source": [
    "tfidf_matrix"
   ]
  },
  {
   "cell_type": "code",
   "execution_count": 18,
   "metadata": {},
   "outputs": [],
   "source": [
    "# 유사도 행렬 (4803, 4803)\n",
    "# 1, 1 (1번째 영화와 1번재 영화의 유사도)\n",
    "# 1, 1 / 1, 2 / .... / 1, 4803 -> 1번째 영화와 1~4803번재 영화의 유사도\n",
    "# 2, 1 / 2, 2 / .... / 2, 4803 -> 2번째 영화와 1~4803번째 영화의 유사도\n",
    "# ....\n",
    "# 4803, 1 / 4803, 2 / .... / 4803, 4803 -> 4803번째 영화와 1~4803번째 영화의 유사도\n",
    "from sklearn.metrics.pairwise import cosine_similarity"
   ]
  },
  {
   "cell_type": "code",
   "execution_count": 19,
   "metadata": {
    "tags": []
   },
   "outputs": [
    {
     "output_type": "stream",
     "name": "stdout",
     "text": "[[1.         0.00486926 0.         ... 0.00773342 0.         0.        ]\n [0.00486926 1.         0.         ... 0.00908723 0.         0.        ]\n [0.         0.         1.         ... 0.         0.         0.        ]\n ...\n [0.00773342 0.00908723 0.         ... 1.         0.         0.        ]\n [0.         0.         0.         ... 0.         0.         0.        ]\n [0.         0.         0.         ... 0.         0.         1.        ]]\n"
    }
   ],
   "source": [
    "# 4803개의 영화랑 4803개의 영화끼리 유사도를 구하겠다!\n",
    "# 자신과의 유사도는 1\n",
    "genres_similarity = cosine_similarity(tfidf_matrix, tfidf_matrix)\n",
    "print(genres_similarity)"
   ]
  },
  {
   "cell_type": "code",
   "execution_count": 20,
   "metadata": {
    "tags": []
   },
   "outputs": [
    {
     "output_type": "stream",
     "name": "stdout",
     "text": "[[   0 2403  278 ... 1996 1961 4802]\n [   1   12  199 ... 1984 1971 4802]\n [   2   11 3285 ... 1915 1880 4802]\n ...\n [4800 2674 2108 ... 1688 1697 4802]\n [   0 3205 3204 ... 1596 1594 4802]\n [4802 2000 4066 ... 1619 1635 2401]]\n"
    }
   ],
   "source": [
    "# 유사도 값이 높은 영화의 제목\n",
    "# 유사도 값이 높은 순으로 인덱스 값을 뽑아낸다\n",
    "similar_index = np.argsort(-genres_similarity)\n",
    "print(similar_index)"
   ]
  },
  {
   "cell_type": "markdown",
   "metadata": {},
   "source": [
    "## Count(빈도수)"
   ]
  },
  {
   "cell_type": "code",
   "execution_count": 24,
   "metadata": {
    "tags": []
   },
   "outputs": [
    {
     "output_type": "stream",
     "name": "stdout",
     "text": "[   0 2403  278 4332  838  373 3158 1951 1354 3730]\n                   title                                     genres                                           keywords\n0                 Avatar   Action Adventure Fantasy Science Fiction  culture clash future space war space colony so...\n2403              Aliens     Horror Action Thriller Science Fiction  android extraterrestrial technology space mari...\n278   Planet of the Apes  Thriller Science Fiction Action Adventure  gorilla space marine space suit revolution chi...\n4332      Silent Running            Adventure Drama Science Fiction  space marine sunlight plants space travel satu...\n838               Alien³              Science Fiction Action Horror  prison android spacecraft space marine impriso...\n373      Mission to Mars                            Science Fiction  mars spacecraft space travel alien long take o...\n3158               Alien     Horror Action Thriller Science Fiction  android countdown space marine space suit behe...\n1951          Space Dogs                           Family Animation         russia space mission space outer space dog\n1354        Space Chimps                           Animation Family       space marine chimp space aftercreditsstinger\n3730               Cargo           Thriller Mystery Science Fiction  space colony space travel simulated reality  s...\n"
    }
   ],
   "source": [
    "from sklearn.feature_extraction.text import CountVectorizer\n",
    "count_vec = CountVectorizer(ngram_range=(1, 2))\n",
    "count_matrix = count_vec.fit_transform(movies['keywords'])\n",
    "\n",
    "# print(count_matrix)\n",
    "\n",
    "# 유사도 행렬 (4803, 4803)\n",
    "# 1, 1 (1번째 영화와 1번째 영화의 유사도)\n",
    "# 1, 1 / 1, 2 / .... / 1, 4803\n",
    "# 2, 1 / 2, 2 / .... / 2, 4803\n",
    "# .....\n",
    "# 4803, 1 / 4803, 2 / .... / 4803, 4803\n",
    "from sklearn.metrics.pairwise import cosine_similarity\n",
    "\n",
    "# 4803개의 영화랑 4803개의 영화끼리 유사도를 구하겠다!\n",
    "genres_similarity = cosine_similarity(count_matrix, count_matrix)\n",
    "# print(genres_similarity)\n",
    "\n",
    "# 유사도가 높은 영화\n",
    "# 유사도 값이 높은 것의 인덱스를 내림차순으로 출력/리턴\n",
    "similar_index = np.argsort(-genres_similarity)\n",
    "# print(similar_index)\n",
    "\n",
    "# 사용자가 입력한 영화의 인덱스 값을 찾아내고\n",
    "# similar_index 에 기록된 유사한 영화 인덱스를 찾아내고\n",
    "# 유사한 영화 인덱스를 토대로 영화 이름을 찾아내면 된다!\n",
    "\n",
    "# input_movie = input()\n",
    "input_movie = 'Avatar'\n",
    "\n",
    "movie_index = movies[movies['title']==input_movie].index.values\n",
    "# print(movie_index)\n",
    "\n",
    "similar_movies = similar_index[movie_index, :10]\n",
    "# print(similar_movies)\n",
    "\n",
    "# 인덱스로 사용하기 위해서는 1차원으로 변형해줘야하기 때문\n",
    "similar_movies_index = similar_movies.reshape(-1)\n",
    "print(similar_movies_index)\n",
    "print(movies.iloc[similar_movies_index])"
   ]
  },
  {
   "cell_type": "code",
   "execution_count": null,
   "metadata": {},
   "outputs": [],
   "source": []
  }
 ]
}