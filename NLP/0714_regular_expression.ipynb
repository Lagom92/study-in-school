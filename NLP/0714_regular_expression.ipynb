{
 "cells": [
  {
   "cell_type": "markdown",
   "metadata": {},
   "source": [
    "# Regular Expression(정규 표현식)"
   ]
  },
  {
   "cell_type": "code",
   "execution_count": 1,
   "metadata": {},
   "outputs": [],
   "source": [
    "import re"
   ]
  },
  {
   "cell_type": "markdown",
   "metadata": {},
   "source": [
    "### 정규 표현식의 사용법"
   ]
  },
  {
   "cell_type": "code",
   "execution_count": 2,
   "metadata": {
    "tags": []
   },
   "outputs": [
    {
     "output_type": "stream",
     "name": "stdout",
     "text": "<re.Match object; span=(0, 3), match='abc'>\n"
    }
   ],
   "source": [
    "# 패턴 만들기\n",
    "p = re.compile('abc')\n",
    "\n",
    "a = 'abc'\n",
    "print(p.match(a))"
   ]
  },
  {
   "cell_type": "code",
   "execution_count": 3,
   "metadata": {
    "tags": []
   },
   "outputs": [
    {
     "output_type": "stream",
     "name": "stdout",
     "text": "<re.Match object; span=(0, 2), match='ab'>\nNone\nNone\nNone\n"
    }
   ],
   "source": [
    "list_a = ['ab', 'a1b', 'a12b', 'a123b']\n",
    "p = re.compile('ab')\n",
    "\n",
    "for i in list_a:\n",
    "    print(p.match(i))"
   ]
  },
  {
   "cell_type": "markdown",
   "metadata": {},
   "source": [
    "- 아무것도 match() 되지 않으면 None을 출력한다."
   ]
  },
  {
   "cell_type": "markdown",
   "metadata": {},
   "source": [
    "- match object\n",
    "\n",
    "    - 매치의 시작과 끝을 알려줌\n",
    "\n",
    "    - 무엇이 매치된건지 알려줌"
   ]
  },
  {
   "cell_type": "code",
   "execution_count": 4,
   "metadata": {
    "tags": []
   },
   "outputs": [
    {
     "output_type": "stream",
     "name": "stdout",
     "text": "None\n<re.Match object; span=(0, 3), match='a1b'>\nNone\nNone\n"
    }
   ],
   "source": [
    "list_a = ['ab', 'a1b', 'a12b', 'a123b']\n",
    "p = re.compile('a.b')\n",
    "\n",
    "for i in list_a:\n",
    "    print(p.match(i))"
   ]
  },
  {
   "cell_type": "markdown",
   "metadata": {},
   "source": [
    "- `.`\n",
    "    - 모든 문자 숫자 공백을 말한다.\n",
    "    - 어떤 문자든 1개가 있는 경우\n",
    "\n",
    "- `..`\n",
    "\n",
    "    - 어떤 문자든 2개가 있는 경우"
   ]
  },
  {
   "cell_type": "code",
   "execution_count": 5,
   "metadata": {
    "tags": []
   },
   "outputs": [
    {
     "output_type": "stream",
     "name": "stdout",
     "text": "None\n<re.Match object; span=(0, 3), match='a1b'>\n<re.Match object; span=(0, 4), match='a12b'>\n<re.Match object; span=(0, 5), match='a123b'>\n"
    }
   ],
   "source": [
    "list_a = ['ab', 'a1b', 'a12b', 'a123b']\n",
    "p = re.compile('a.+b')\n",
    "\n",
    "for i in list_a:\n",
    "    print(p.match(i))"
   ]
  },
  {
   "cell_type": "markdown",
   "metadata": {},
   "source": [
    "- `.+`\n",
    "\n",
    "    - .의 개수가 1개 이상이기만 하면 됨\n",
    "    \n",
    "    - 최소 1개 이상"
   ]
  },
  {
   "cell_type": "code",
   "execution_count": 6,
   "metadata": {
    "tags": []
   },
   "outputs": [
    {
     "output_type": "stream",
     "name": "stdout",
     "text": "<re.Match object; span=(0, 2), match='ab'>\n<re.Match object; span=(0, 3), match='a1b'>\n<re.Match object; span=(0, 4), match='a12b'>\n<re.Match object; span=(0, 5), match='a123b'>\n"
    }
   ],
   "source": [
    "list_a = ['ab', 'a1b', 'a12b', 'a123b']\n",
    "p = re.compile('a.*b')\n",
    "\n",
    "for i in list_a:\n",
    "    print(p.match(i))"
   ]
  },
  {
   "cell_type": "markdown",
   "metadata": {},
   "source": [
    "- `.*`\n",
    "\n",
    "    - 어떠한 문자든 0개 이상이기만 하면 됨\n",
    "    \n",
    "    - 아무것도 없어도 됨\n",
    "    "
   ]
  },
  {
   "cell_type": "code",
   "execution_count": 7,
   "metadata": {
    "tags": []
   },
   "outputs": [
    {
     "output_type": "stream",
     "name": "stdout",
     "text": "None\nNone\n<re.Match object; span=(0, 4), match='a12b'>\n<re.Match object; span=(0, 5), match='a123b'>\n"
    }
   ],
   "source": [
    "list_a = ['ab', 'a1b', 'a12b', 'a123b']\n",
    "p = re.compile('a.{2,}b')\n",
    "\n",
    "for i in list_a:\n",
    "    print(p.match(i))"
   ]
  },
  {
   "cell_type": "markdown",
   "metadata": {},
   "source": [
    "- `{ }`\n",
    "\n",
    "    - 범위 지정\n",
    "\n",
    "    - 횟수 지정"
   ]
  },
  {
   "cell_type": "code",
   "execution_count": 8,
   "metadata": {
    "tags": []
   },
   "outputs": [
    {
     "output_type": "stream",
     "name": "stdout",
     "text": "None\n<re.Match object; span=(0, 2), match='ab'>\nNone\nNone\nNone\n"
    }
   ],
   "source": [
    "list_a = ['123, ab', 'ab', 'a1b', 'a12b', 'a123b']\n",
    "p = re.compile('ab')\n",
    "\n",
    "for i in list_a:\n",
    "    print(p.match(i))"
   ]
  },
  {
   "cell_type": "markdown",
   "metadata": {},
   "source": [
    "- 매치는 처음부터 탐색을 함"
   ]
  },
  {
   "cell_type": "code",
   "execution_count": 9,
   "metadata": {
    "tags": []
   },
   "outputs": [
    {
     "output_type": "stream",
     "name": "stdout",
     "text": "<re.Match object; span=(4, 6), match='ab'>\n<re.Match object; span=(0, 2), match='ab'>\nNone\nNone\nNone\n"
    }
   ],
   "source": [
    "list_a = ['123 ab', 'ab', 'a1b', 'a12b', 'a123b']\n",
    "p = re.compile('ab')\n",
    "\n",
    "for i in list_a:\n",
    "    print(p.search(i))"
   ]
  },
  {
   "cell_type": "markdown",
   "metadata": {},
   "source": [
    "- search()\n",
    "\n",
    "    - 문자열 전체에서 찾아서 표시를 해준다."
   ]
  },
  {
   "cell_type": "code",
   "execution_count": 10,
   "metadata": {
    "tags": []
   },
   "outputs": [
    {
     "output_type": "stream",
     "name": "stdout",
     "text": "['a', 'a', 'a', 'a', 'a', 'a', 'a']\n"
    }
   ],
   "source": [
    "a = 'ab abcd abaaadaf sdfbsdf'\n",
    "p = re.compile('a')\n",
    "\n",
    "print(p.findall(a))"
   ]
  },
  {
   "cell_type": "markdown",
   "metadata": {},
   "source": [
    "- findall()\n",
    "\n",
    "    - 문자가 있는 것만 골라낼때 사용"
   ]
  },
  {
   "cell_type": "code",
   "execution_count": 11,
   "metadata": {
    "tags": []
   },
   "outputs": [
    {
     "output_type": "stream",
     "name": "stdout",
     "text": "ab\na1b\na12b\na123b\n"
    }
   ],
   "source": [
    "list_a = ['ab', 'a1b', 'a12b', 'a123b']\n",
    "p = re.compile('a.*b')\n",
    "\n",
    "for i in list_a:\n",
    "    print(p.match(i).group())"
   ]
  },
  {
   "cell_type": "markdown",
   "metadata": {},
   "source": [
    "- group()\n",
    "\n",
    "- start()\n",
    "\n",
    "- end()\n",
    "\n",
    "- span()"
   ]
  },
  {
   "cell_type": "code",
   "execution_count": 12,
   "metadata": {
    "tags": []
   },
   "outputs": [
    {
     "output_type": "stream",
     "name": "stdout",
     "text": "<re.Match object; span=(0, 2), match='ab'>\n<re.Match object; span=(0, 3), match='a1b'>\n<re.Match object; span=(0, 4), match='a12b'>\n<re.Match object; span=(0, 5), match='a123b'>\n"
    }
   ],
   "source": [
    "list_a = ['ab', 'a1b', 'a12b', 'a123b']\n",
    "p = re.compile('A.*B', re.I)\n",
    "\n",
    "for i in list_a:\n",
    "    print(p.match(i))"
   ]
  },
  {
   "cell_type": "markdown",
   "metadata": {},
   "source": [
    "- re.I\n",
    "\n",
    "    - 대소문자를 무시하고 매치를 함\n",
    "\n",
    "    - re.IGNORECASE\n",
    "\n",
    "- 다른 옵션들도 있음"
   ]
  },
  {
   "cell_type": "code",
   "execution_count": 13,
   "metadata": {
    "tags": []
   },
   "outputs": [
    {
     "output_type": "stream",
     "name": "stdout",
     "text": "None\nNone\nNone\n<re.Match object; span=(0, 4), match='accb'>\nNone\n"
    }
   ],
   "source": [
    "list_a = ['ab', 'a1b', 'a12b', 'accb', 'a123b']\n",
    "p = re.compile('a\\D\\Db')\n",
    "\n",
    "for i in list_a:\n",
    "    print(p.match(i))"
   ]
  },
  {
   "cell_type": "markdown",
   "metadata": {},
   "source": [
    "### 문자 클래스\n",
    "\n",
    "\\d, \\D, \\s, \\S, \\w, \\W, \\b, \\B, \\A, \\Z\n",
    "\n",
    "- 단, 파이썬에서는 \\ 앞에 r을 입력해줘야 한다.\n",
    "\n",
    "- ex) r'a\\bb'\n",
    "\n",
    "- \\ 를 사용할꺼면 r'' 를 하는게 좋다."
   ]
  },
  {
   "cell_type": "markdown",
   "metadata": {},
   "source": [
    "### 그루핑"
   ]
  },
  {
   "cell_type": "code",
   "execution_count": 14,
   "metadata": {
    "tags": []
   },
   "outputs": [
    {
     "output_type": "stream",
     "name": "stdout",
     "text": "홍길동\n학점 2.0\n"
    }
   ],
   "source": [
    "a = '홍길동 - 학점 2.0'\n",
    "p = re.compile(r'(?P<name>\\w+)\\s.\\s(?P<grade>.+\\s.+)')\n",
    "\n",
    "print(p.match(a).group(1))\n",
    "print(p.match(a).group(2))"
   ]
  },
  {
   "cell_type": "code",
   "execution_count": 15,
   "metadata": {
    "tags": []
   },
   "outputs": [
    {
     "output_type": "stream",
     "name": "stdout",
     "text": "<re.Match object; span=(0, 9), match='홍길동 - 홍길동'>\n"
    }
   ],
   "source": [
    "a = '홍길동 - 홍길동'\n",
    "p = re.compile(r'(?P<name>\\w+)\\s.\\s\\1')\n",
    "\n",
    "print(p.match(a))"
   ]
  },
  {
   "cell_type": "code",
   "execution_count": 16,
   "metadata": {
    "tags": []
   },
   "outputs": [
    {
     "output_type": "stream",
     "name": "stdout",
     "text": "None\n"
    }
   ],
   "source": [
    "a = '홍길동 - 이순신'\n",
    "p = re.compile(r'(?P<name>\\w+)\\s.\\s\\1')\n",
    "\n",
    "print(p.match(a))"
   ]
  },
  {
   "cell_type": "markdown",
   "metadata": {},
   "source": [
    "### 대치\n",
    "\n",
    "- 매치 되는 것들을 바꾸고 싶을때 사용\n",
    "\n",
    "- .sub(바뀌는 내용, 바뀌는 대상)\n"
   ]
  },
  {
   "cell_type": "code",
   "execution_count": 17,
   "metadata": {
    "tags": []
   },
   "outputs": [
    {
     "output_type": "stream",
     "name": "stdout",
     "text": "ab\na1b\ndddd\ndddd\na123b\n"
    }
   ],
   "source": [
    "list_a = ['ab', 'a1b', 'a12b', 'accb', 'a123b']\n",
    "p = re.compile('a..b')\n",
    "\n",
    "for i in list_a:\n",
    "    print(p.sub('dddd', i))"
   ]
  },
  {
   "cell_type": "markdown",
   "metadata": {},
   "source": [
    "- 내용 위치 바꾸기"
   ]
  },
  {
   "cell_type": "code",
   "execution_count": 18,
   "metadata": {
    "tags": []
   },
   "outputs": [
    {
     "output_type": "stream",
     "name": "stdout",
     "text": "학점 2.0 - 홍길동\n"
    }
   ],
   "source": [
    "a = '홍길동 - 학점 2.0'\n",
    "p = re.compile(r'(?P<name>\\w+)\\s.\\s(?P<grade>.+\\s.+)')\n",
    "\n",
    "print(p.sub(\"\\g<grade> - \\g<name>\", a))\n",
    "# print(p.match(a).group(1))"
   ]
  },
  {
   "cell_type": "code",
   "execution_count": null,
   "metadata": {},
   "outputs": [],
   "source": []
  }
 ],
 "metadata": {
  "language_info": {
   "codemirror_mode": {
    "name": "ipython",
    "version": 3
   },
   "file_extension": ".py",
   "mimetype": "text/x-python",
   "name": "python",
   "nbconvert_exporter": "python",
   "pygments_lexer": "ipython3",
   "version": 3
  },
  "orig_nbformat": 2,
  "kernelspec": {
   "name": "python_defaultSpec_1594718385356",
   "display_name": "Python 3.7.7 64-bit ('study': conda)"
  }
 },
 "nbformat": 4,
 "nbformat_minor": 2
}