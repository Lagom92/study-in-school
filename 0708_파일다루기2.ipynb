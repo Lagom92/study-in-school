{
 "cells": [
  {
   "cell_type": "markdown",
   "metadata": {},
   "source": [
    "# 파이썬 라이브러리 1\n",
    "\n",
    "# 파일다루기 2"
   ]
  },
  {
   "cell_type": "markdown",
   "metadata": {},
   "source": [
    "## Pickle\n",
    "\n",
    "- dump\n",
    "\n",
    "- load"
   ]
  },
  {
   "cell_type": "code",
   "execution_count": 3,
   "metadata": {},
   "outputs": [],
   "source": [
    "import pickle"
   ]
  },
  {
   "cell_type": "code",
   "execution_count": 5,
   "metadata": {},
   "outputs": [],
   "source": [
    "# 딕셔너리 객체를 저장\n",
    "f = open(r\"c:/Apps/test.txt\", mode=\"wb\")\n",
    "data = {\n",
    "    1: 'python',\n",
    "    2: 'java',\n",
    "    3: 'c'\n",
    "}\n",
    "pickle.dump(data, f)\n",
    "f.close()"
   ]
  },
  {
   "cell_type": "code",
   "execution_count": 6,
   "metadata": {},
   "outputs": [
    {
     "data": {
      "text/plain": [
       "['334CH',\n",
       " '7VDFT',\n",
       " 'database',\n",
       " 'SQLiteStudio',\n",
       " 'SupportAssist',\n",
       " 'test.txt',\n",
       " 'YR2T2']"
      ]
     },
     "execution_count": 6,
     "metadata": {},
     "output_type": "execute_result"
    }
   ],
   "source": [
    "import os\n",
    "\n",
    "os.listdir(r\"c:/Apps/\")"
   ]
  },
  {
   "cell_type": "code",
   "execution_count": 7,
   "metadata": {},
   "outputs": [
    {
     "name": "stdout",
     "output_type": "stream",
     "text": [
      "{1: 'python', 2: 'java', 3: 'c'}\n"
     ]
    }
   ],
   "source": [
    "# 불러오기\n",
    "with open(r\"c:/Apps/test.txt\", \"rb\") as f:\n",
    "    print(pickle.load(f))"
   ]
  },
  {
   "cell_type": "markdown",
   "metadata": {},
   "source": [
    "## Shelve\n",
    "\n",
    "- pickle과 같이 객체를 파일에 저장하고 불러올 수 있게 하는 모듈\n",
    "\n",
    "- 저장 시 key값과 매칭시켜 저장"
   ]
  },
  {
   "cell_type": "code",
   "execution_count": 8,
   "metadata": {},
   "outputs": [],
   "source": [
    "import shelve"
   ]
  },
  {
   "cell_type": "code",
   "execution_count": 9,
   "metadata": {},
   "outputs": [],
   "source": [
    "data1 = [\"aaa\", 22, 333]\n",
    "data2 = [\"bbb\", 11, 444]"
   ]
  },
  {
   "cell_type": "code",
   "execution_count": 13,
   "metadata": {},
   "outputs": [],
   "source": [
    "# 저장하기\n",
    "with shelve.open(r\"c:/Apps/test1.bin\") as f:\n",
    "    f['d1'] = data1\n",
    "    f['d2'] = data2"
   ]
  },
  {
   "cell_type": "code",
   "execution_count": 14,
   "metadata": {},
   "outputs": [
    {
     "name": "stdout",
     "output_type": "stream",
     "text": [
      "['aaa', 22, 333]\n",
      "['bbb', 11, 444]\n"
     ]
    }
   ],
   "source": [
    "# 가져오기\n",
    "with shelve.open(r\"c:/Apps/test1.bin\") as f:\n",
    "    print(f['d1'])\n",
    "    print(f['d2'])\n"
   ]
  },
  {
   "cell_type": "markdown",
   "metadata": {},
   "source": [
    "## 그외의 모듈들"
   ]
  },
  {
   "cell_type": "markdown",
   "metadata": {},
   "source": [
    "### shutil\n",
    "\n",
    "- 파일을 복사해 주는 모듈"
   ]
  },
  {
   "cell_type": "markdown",
   "metadata": {},
   "source": [
    "### glob\n",
    "\n",
    "- 디렉토리에 있는 파일들을 리스트로 만들어 주는 모듈"
   ]
  },
  {
   "cell_type": "markdown",
   "metadata": {},
   "source": [
    "### tempfile\n",
    "\n",
    "- 중복되지 않는 임시 파일의 이름을 무작위로 만들어서 돌려주는 모듈"
   ]
  },
  {
   "cell_type": "code",
   "execution_count": null,
   "metadata": {},
   "outputs": [],
   "source": []
  }
 ],
 "metadata": {
  "kernelspec": {
   "display_name": "Python 3",
   "language": "python",
   "name": "python3"
  },
  "language_info": {
   "codemirror_mode": {
    "name": "ipython",
    "version": 3
   },
   "file_extension": ".py",
   "mimetype": "text/x-python",
   "name": "python",
   "nbconvert_exporter": "python",
   "pygments_lexer": "ipython3",
   "version": "3.7.6"
  }
 },
 "nbformat": 4,
 "nbformat_minor": 4
}
