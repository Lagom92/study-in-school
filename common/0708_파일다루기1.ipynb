{
 "cells": [
  {
   "cell_type": "markdown",
   "metadata": {},
   "source": [
    "# 파이썬과 라이브러리 1\n",
    "\n",
    "# 파일 다루기"
   ]
  },
  {
   "cell_type": "markdown",
   "metadata": {},
   "source": [
    "라이브러리\n",
    "\n",
    "- 다른 사람들이 만든 프로그램을 모아둔 것"
   ]
  },
  {
   "cell_type": "markdown",
   "metadata": {},
   "source": [
    "## sys 모듈\n"
   ]
  },
  {
   "cell_type": "code",
   "execution_count": 1,
   "metadata": {},
   "outputs": [
    {
     "data": {
      "text/plain": [
       "['C:\\\\Users\\\\Lagom\\\\anaconda3\\\\lib\\\\site-packages\\\\ipykernel_launcher.py',\n",
       " '-f',\n",
       " 'C:\\\\Users\\\\Lagom\\\\AppData\\\\Roaming\\\\jupyter\\\\runtime\\\\kernel-9998f0a5-97ee-480e-957f-a089b3bc3576.json']"
      ]
     },
     "execution_count": 1,
     "metadata": {},
     "output_type": "execute_result"
    }
   ],
   "source": [
    "import sys\n",
    "\n",
    "sys.argv"
   ]
  },
  {
   "cell_type": "code",
   "execution_count": 2,
   "metadata": {},
   "outputs": [],
   "source": [
    "# 강제로 스크립트 종료하기\n",
    "\n",
    "# sys.exit()"
   ]
  },
  {
   "cell_type": "code",
   "execution_count": 3,
   "metadata": {},
   "outputs": [
    {
     "data": {
      "text/plain": [
       "['C:\\\\Users\\\\Lagom\\\\lagom\\\\study-in-school',\n",
       " 'C:\\\\Users\\\\Lagom\\\\anaconda3\\\\python37.zip',\n",
       " 'C:\\\\Users\\\\Lagom\\\\anaconda3\\\\DLLs',\n",
       " 'C:\\\\Users\\\\Lagom\\\\anaconda3\\\\lib',\n",
       " 'C:\\\\Users\\\\Lagom\\\\anaconda3',\n",
       " '',\n",
       " 'C:\\\\Users\\\\Lagom\\\\anaconda3\\\\lib\\\\site-packages',\n",
       " 'C:\\\\Users\\\\Lagom\\\\anaconda3\\\\lib\\\\site-packages\\\\win32',\n",
       " 'C:\\\\Users\\\\Lagom\\\\anaconda3\\\\lib\\\\site-packages\\\\win32\\\\lib',\n",
       " 'C:\\\\Users\\\\Lagom\\\\anaconda3\\\\lib\\\\site-packages\\\\Pythonwin',\n",
       " 'C:\\\\Users\\\\Lagom\\\\anaconda3\\\\lib\\\\site-packages\\\\IPython\\\\extensions',\n",
       " 'C:\\\\Users\\\\Lagom\\\\.ipython']"
      ]
     },
     "execution_count": 3,
     "metadata": {},
     "output_type": "execute_result"
    }
   ],
   "source": [
    "sys.path"
   ]
  },
  {
   "cell_type": "markdown",
   "metadata": {},
   "source": [
    "## os 모듈\n",
    "\n",
    "- 환경 변수나 디렉토리, 파일 등의 os 자원을 제어할 수 있게 해주는 모듈이다."
   ]
  },
  {
   "cell_type": "code",
   "execution_count": 4,
   "metadata": {},
   "outputs": [],
   "source": [
    "import os\n",
    "\n",
    "# 내 시스템의 환경 변수값을 알고 싶을 때\n",
    "# os.environ"
   ]
  },
  {
   "cell_type": "code",
   "execution_count": 5,
   "metadata": {},
   "outputs": [
    {
     "data": {
      "text/plain": [
       "'C:\\\\Users\\\\Lagom\\\\lagom\\\\study-in-school'"
      ]
     },
     "execution_count": 5,
     "metadata": {},
     "output_type": "execute_result"
    }
   ],
   "source": [
    "# 현 작업 폴더의 위치 확인하기\n",
    "os.getcwd()"
   ]
  },
  {
   "cell_type": "code",
   "execution_count": 6,
   "metadata": {},
   "outputs": [
    {
     "data": {
      "text/plain": [
       "'C:\\\\Users\\\\Lagom\\\\lagom\\\\study-in-school'"
      ]
     },
     "execution_count": 6,
     "metadata": {},
     "output_type": "execute_result"
    }
   ],
   "source": [
    "%pwd"
   ]
  },
  {
   "cell_type": "code",
   "execution_count": 7,
   "metadata": {},
   "outputs": [
    {
     "data": {
      "text/plain": [
       "'c:\\\\Apps\\\\database'"
      ]
     },
     "execution_count": 7,
     "metadata": {},
     "output_type": "execute_result"
    }
   ],
   "source": [
    "# 새로운 작업 폴더로 이동\n",
    "os.chdir(r\"c:/Apps/database/\")\n",
    "os.getcwd()"
   ]
  },
  {
   "cell_type": "code",
   "execution_count": 8,
   "metadata": {},
   "outputs": [
    {
     "data": {
      "text/plain": [
       "'C:\\\\Users\\\\Lagom\\\\lagom\\\\study-in-school'"
      ]
     },
     "execution_count": 8,
     "metadata": {},
     "output_type": "execute_result"
    }
   ],
   "source": [
    "os.chdir(r\"C:/Users/Lagom/lagom/study-in-school\")\n",
    "os.getcwd()"
   ]
  },
  {
   "cell_type": "code",
   "execution_count": 9,
   "metadata": {},
   "outputs": [
    {
     "data": {
      "text/plain": [
       "'C:\\\\Users\\\\Lagom\\\\lagom\\\\study-in-school'"
      ]
     },
     "execution_count": 9,
     "metadata": {},
     "output_type": "execute_result"
    }
   ],
   "source": [
    "os.getcwd()"
   ]
  },
  {
   "cell_type": "code",
   "execution_count": 10,
   "metadata": {},
   "outputs": [
    {
     "name": "stdout",
     "output_type": "stream",
     "text": [
      "['.git', '.gitignore', '.ipynb_checkpoints', '0706_python.ipynb', '0707_class.ipynb', '0707_sqlite3_conn.ipynb', '0707_study.ipynb', '0708_DML.ipynb', '0708_file다루기.ipynb', '0708_어제꺼복습.ipynb', 'data', 'README.md']\n"
     ]
    }
   ],
   "source": [
    "# 현 위치의 파일들 확인\n",
    "print(os.listdir())\n",
    "\n",
    "# 폴더 만들기\n",
    "os.mkdir(\"tmp\")"
   ]
  },
  {
   "cell_type": "code",
   "execution_count": 11,
   "metadata": {},
   "outputs": [
    {
     "name": "stdout",
     "output_type": "stream",
     "text": [
      "['.git', '.gitignore', '.ipynb_checkpoints', '0706_python.ipynb', '0707_class.ipynb', '0707_sqlite3_conn.ipynb', '0707_study.ipynb', '0708_DML.ipynb', '0708_file다루기.ipynb', '0708_어제꺼복습.ipynb', 'data', 'README.md', 'tmp']\n"
     ]
    }
   ],
   "source": [
    "# 파일 추가하기\n",
    "print(os.listdir())\n",
    "f = open(\"./tmp/test.txt\", mode=\"wt\", encoding=\"utf-8\")\n",
    "f.write(\"hello, python\")\n",
    "f.close()"
   ]
  },
  {
   "cell_type": "code",
   "execution_count": 12,
   "metadata": {},
   "outputs": [
    {
     "name": "stdout",
     "output_type": "stream",
     "text": [
      "['test.txt']\n"
     ]
    }
   ],
   "source": [
    "print(os.listdir(\"./tmp\"))"
   ]
  },
  {
   "cell_type": "code",
   "execution_count": 13,
   "metadata": {},
   "outputs": [],
   "source": [
    "# 파일 이름 바꾸기\n",
    "os.rename(\"./tmp/test.txt\", \"./tmp/hello.txt\")"
   ]
  },
  {
   "cell_type": "code",
   "execution_count": 14,
   "metadata": {},
   "outputs": [
    {
     "data": {
      "text/plain": [
       "['hello.txt']"
      ]
     },
     "execution_count": 14,
     "metadata": {},
     "output_type": "execute_result"
    }
   ],
   "source": [
    "os.listdir(\"./tmp/\")"
   ]
  },
  {
   "cell_type": "code",
   "execution_count": 15,
   "metadata": {},
   "outputs": [
    {
     "name": "stdout",
     "output_type": "stream",
     "text": [
      "[]\n"
     ]
    }
   ],
   "source": [
    "# 파일 지우기\n",
    "os.unlink(\"./tmp/hello.txt\")\n",
    "\n",
    "# 확인\n",
    "print(os.listdir(\"./tmp/\"))\n",
    "\n",
    "# 폴더 지우기\n",
    "os.rmdir(\"tmp\")"
   ]
  },
  {
   "cell_type": "code",
   "execution_count": 16,
   "metadata": {},
   "outputs": [
    {
     "data": {
      "text/plain": [
       "['.git',\n",
       " '.gitignore',\n",
       " '.ipynb_checkpoints',\n",
       " '0706_python.ipynb',\n",
       " '0707_class.ipynb',\n",
       " '0707_sqlite3_conn.ipynb',\n",
       " '0707_study.ipynb',\n",
       " '0708_DML.ipynb',\n",
       " '0708_file다루기.ipynb',\n",
       " '0708_어제꺼복습.ipynb',\n",
       " 'data',\n",
       " 'README.md']"
      ]
     },
     "execution_count": 16,
     "metadata": {},
     "output_type": "execute_result"
    }
   ],
   "source": [
    "# tmp 폴더가 지워졌는지 확인\n",
    "os.listdir()"
   ]
  },
  {
   "cell_type": "markdown",
   "metadata": {},
   "source": [
    "### 폴더 트리 구조 보기\n",
    "\n",
    "- os.walk()"
   ]
  },
  {
   "cell_type": "code",
   "execution_count": null,
   "metadata": {
    "scrolled": true
   },
   "outputs": [],
   "source": [
    "# 현 폴더 이하 트리 구조 출력\n",
    "for folderName, subFolder, fileName in os.walk(r\"c:/Apps/\"):\n",
    "    print(folderName)\n",
    "    print(subFolder)\n",
    "    print(fileName)"
   ]
  },
  {
   "cell_type": "code",
   "execution_count": null,
   "metadata": {},
   "outputs": [],
   "source": []
  }
 ],
 "metadata": {
  "kernelspec": {
   "display_name": "Python 3",
   "language": "python",
   "name": "python3"
  },
  "language_info": {
   "codemirror_mode": {
    "name": "ipython",
    "version": 3
   },
   "file_extension": ".py",
   "mimetype": "text/x-python",
   "name": "python",
   "nbconvert_exporter": "python",
   "pygments_lexer": "ipython3",
   "version": "3.7.6"
  }
 },
 "nbformat": 4,
 "nbformat_minor": 4
}
