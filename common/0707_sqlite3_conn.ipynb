{
 "cells": [
  {
   "cell_type": "code",
   "execution_count": 1,
   "metadata": {},
   "outputs": [],
   "source": [
    "# 나중에 사용할 모듈들\n",
    "import numpy as np\n",
    "import pandas as pd\n",
    "import matplotlib.pyplot as plt\n",
    "import seaborn\n",
    "import sklearn"
   ]
  },
  {
   "cell_type": "markdown",
   "metadata": {},
   "source": [
    "## Python에서의 접근\n",
    "\n",
    "- 커서(cursor) 객체를 만들고 SQL 커맨드를 쉽게 처리할 수 있다."
   ]
  },
  {
   "cell_type": "code",
   "execution_count": 2,
   "metadata": {},
   "outputs": [],
   "source": [
    "import sqlite3"
   ]
  },
  {
   "cell_type": "code",
   "execution_count": 3,
   "metadata": {},
   "outputs": [
    {
     "data": {
      "text/plain": [
       "'2.6.0'"
      ]
     },
     "execution_count": 3,
     "metadata": {},
     "output_type": "execute_result"
    }
   ],
   "source": [
    "sqlite3.version"
   ]
  },
  {
   "cell_type": "code",
   "execution_count": 4,
   "metadata": {},
   "outputs": [],
   "source": [
    "# db 경로\n",
    "db_path = r\"c:\\Apps\\database\\world.db\""
   ]
  },
  {
   "cell_type": "code",
   "execution_count": 5,
   "metadata": {},
   "outputs": [
    {
     "name": "stdout",
     "output_type": "stream",
     "text": [
      "('ABW', 'Aruba', 'North America', 'Caribbean', 193.0, None, 103000, 78.4, 828.0, 793.0, 'Aruba', 'Nonmetropolitan Territory of The Netherlands', 'Beatrix', 129, 'AW')\n",
      "('AFG', 'Afghanistan', 'Asia', 'Southern and Central Asia', 652090.0, 1919, 22720000, 45.9, 5976.0, None, 'Afganistan/Afqanestan', 'Islamic Emirate', 'Mohammad Omar', 1, 'AF')\n",
      "('AGO', 'Angola', 'Africa', 'Central Africa', 1246700.0, 1975, 12878000, 38.3, 6648.0, 7984.0, 'Angola', 'Republic', 'José Eduardo dos Santos', 56, 'AO')\n",
      "('AIA', 'Anguilla', 'North America', 'Caribbean', 96.0, None, 8000, 76.1, 63.2, None, 'Anguilla', 'Dependent Territory of the UK', 'Elisabeth II', 62, 'AI')\n",
      "('ALB', 'Albania', 'Europe', 'Southern Europe', 28748.0, 1912, 3401200, 71.6, 3205.0, 2500.0, 'Shqipëria', 'Republic', 'Rexhep Mejdani', 34, 'AL')\n"
     ]
    }
   ],
   "source": [
    "conn = sqlite3.connect(db_path)\n",
    "\n",
    "cur = conn.cursor()\n",
    "cur.execute(\"select * from country limit 5\")\n",
    "rows = cur.fetchall() # 한 행씩 값을 가져옴\n",
    "\n",
    "for r in rows:\n",
    "    print(r)\n",
    "\n",
    "\n",
    "conn.close()"
   ]
  },
  {
   "cell_type": "code",
   "execution_count": 6,
   "metadata": {},
   "outputs": [
    {
     "name": "stdout",
     "output_type": "stream",
     "text": [
      "(4079,)\n"
     ]
    }
   ],
   "source": [
    "conn = sqlite3.connect(db_path)\n",
    "\n",
    "cur = conn.cursor()\n",
    "# sql = \"select * from country where continent=? and region=? limit 5\"\n",
    "sql = \"select count(*) from city\"\n",
    "\n",
    "# cur.execute(sql, ('Asia', 'Middle East'))\n",
    "cur.execute(sql)\n",
    "\n",
    "rows = cur.fetchall() # 한 행씩 값을 가져옴\n",
    "\n",
    "for r in rows:\n",
    "    print(r)\n",
    "\n",
    "\n",
    "conn.close()"
   ]
  },
  {
   "cell_type": "markdown",
   "metadata": {},
   "source": [
    "- '?' 를 사용하여 편리하게 외부 입력을 받을 수 있다."
   ]
  },
  {
   "cell_type": "code",
   "execution_count": 7,
   "metadata": {},
   "outputs": [
    {
     "name": "stdout",
     "output_type": "stream",
     "text": [
      "('Anguilla', 8000)\n",
      "('Saint Helena', 6000)\n",
      "('Saint Pierre and Miquelon', 7000)\n"
     ]
    }
   ],
   "source": [
    "# country의 기준값이상 기준값 이하일 때의 name, population 출력\n",
    "\n",
    "conn = sqlite3.connect(db_path)\n",
    "\n",
    "cur = conn.cursor()\n",
    "sql = \"select name, population as p from country where p between ? and ?\"\n",
    "cur.execute(sql, (5000, 10000))\n",
    "\n",
    "rows = cur.fetchall() # 한 행씩 값을 가져옴\n",
    "for r in rows:\n",
    "    print(r)\n",
    "\n",
    "conn.close()"
   ]
  },
  {
   "cell_type": "code",
   "execution_count": 8,
   "metadata": {},
   "outputs": [],
   "source": [
    "# 메소드로 만들기\n",
    "def print_pop_range(start, end):\n",
    "    conn = sqlite3.connect(db_path)\n",
    "\n",
    "    cur = conn.cursor()\n",
    "    sql = \"select name, population as p from country where p between ? and ?\"\n",
    "    cur.execute(sql, (start, end))\n",
    "\n",
    "    rows = cur.fetchall() # 한 행씩 값을 가져옴\n",
    "    for r in rows:\n",
    "        print(r)\n",
    "\n",
    "    conn.close()\n",
    "    "
   ]
  },
  {
   "cell_type": "code",
   "execution_count": 9,
   "metadata": {},
   "outputs": [
    {
     "name": "stdout",
     "output_type": "stream",
     "text": [
      "('Anguilla', 8000)\n",
      "('Saint Helena', 6000)\n",
      "('Saint Pierre and Miquelon', 7000)\n"
     ]
    }
   ],
   "source": [
    "print_pop_range(5000, 10000)"
   ]
  },
  {
   "cell_type": "markdown",
   "metadata": {},
   "source": [
    "- '?' 대신 딕셔너리를 이용하는 방법\n",
    "\n",
    "- 순서가 바껴도 key를 이용하는것이기 때문에 상관없다."
   ]
  },
  {
   "cell_type": "code",
   "execution_count": 10,
   "metadata": {},
   "outputs": [],
   "source": [
    "# 메소드로 만들기\n",
    "def print_pop_range(start, end):\n",
    "    conn = sqlite3.connect(db_path)\n",
    "\n",
    "    cur = conn.cursor()\n",
    "    sql = \"select name, population as p from country where p between :start and :end\"\n",
    "    cur.execute(sql, {\"start\":start, \"end\":end})\n",
    "\n",
    "    rows = cur.fetchall() # 한 행씩 값을 가져옴\n",
    "    for r in rows:\n",
    "        print(r)\n",
    "\n",
    "    conn.close()"
   ]
  },
  {
   "cell_type": "code",
   "execution_count": null,
   "metadata": {},
   "outputs": [],
   "source": []
  }
 ],
 "metadata": {
  "kernelspec": {
   "display_name": "Python 3",
   "language": "python",
   "name": "python3"
  },
  "language_info": {
   "codemirror_mode": {
    "name": "ipython",
    "version": 3
   },
   "file_extension": ".py",
   "mimetype": "text/x-python",
   "name": "python",
   "nbconvert_exporter": "python",
   "pygments_lexer": "ipython3",
   "version": "3.7.6"
  }
 },
 "nbformat": 4,
 "nbformat_minor": 4
}
