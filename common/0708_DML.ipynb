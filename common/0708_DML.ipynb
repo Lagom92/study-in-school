{
 "cells": [
  {
   "cell_type": "markdown",
   "metadata": {},
   "source": [
    "## DML\n",
    "\n",
    "- insert\n",
    "\n",
    "- update\n",
    "\n",
    "- delete"
   ]
  },
  {
   "cell_type": "code",
   "execution_count": 1,
   "metadata": {},
   "outputs": [],
   "source": [
    "import sqlite3"
   ]
  },
  {
   "cell_type": "markdown",
   "metadata": {},
   "source": [
    "### Table 삭제"
   ]
  },
  {
   "cell_type": "code",
   "execution_count": 5,
   "metadata": {},
   "outputs": [],
   "source": [
    "db_path = r'c:\\Apps\\database\\world.db'\n",
    "\n",
    "conn = sqlite3.connect(db_path)\n",
    "\n",
    "cur = conn.cursor()\n",
    "sql = \"DROP TABLE IF EXISTS test_ex\"\n",
    "cur.execute(sql)\n",
    "conn.commit()\n",
    "\n",
    "conn.close()"
   ]
  },
  {
   "cell_type": "markdown",
   "metadata": {},
   "source": [
    "### Table 생성"
   ]
  },
  {
   "cell_type": "code",
   "execution_count": 4,
   "metadata": {},
   "outputs": [],
   "source": [
    "db_path = r'c:\\Apps\\database\\world.db'\n",
    "\n",
    "conn = sqlite3.connect(db_path)\n",
    "\n",
    "cur = conn.cursor()\n",
    "sql = \"CREATE TABLE test_ex (a INT, b TEXT, c TEXT)\"\n",
    "cur.execute(sql)\n",
    "conn.commit()\n",
    "\n",
    "conn.close()"
   ]
  },
  {
   "cell_type": "markdown",
   "metadata": {},
   "source": [
    "- 이전 코드와 다르게 commit()이 추가되었다."
   ]
  },
  {
   "cell_type": "markdown",
   "metadata": {},
   "source": [
    "- IF EXISTS\n",
    "\n",
    "    만약 존재한다면을 의미한다.\n",
    "\n",
    "    ex) \"DROP TABLE IF EXISTS test_ex\"\n",
    "\n",
    "    test_ex 테이블이 있으면 삭제, 없으면 실행 되지 않음"
   ]
  },
  {
   "cell_type": "markdown",
   "metadata": {},
   "source": [
    "### CREATE 와 DROP를 한문장으로 만들기\n",
    "\n",
    "- script(스크립트)\n",
    "\n",
    "- cur.executescript()"
   ]
  },
  {
   "cell_type": "code",
   "execution_count": 6,
   "metadata": {},
   "outputs": [],
   "source": [
    "db_path = r'c:\\Apps\\database\\world.db'\n",
    "\n",
    "conn = sqlite3.connect(db_path)\n",
    "\n",
    "cur = conn.cursor()\n",
    "sql = \"\"\"\n",
    "DROP TABLE IF EXISTS test_ex;\n",
    "CREATE TABLE test_ex (a INT, b TEXT, c TEXT)\n",
    "\"\"\"\n",
    "cur.executescript(sql)\n",
    "conn.commit()\n",
    "\n",
    "conn.close()"
   ]
  },
  {
   "cell_type": "markdown",
   "metadata": {},
   "source": [
    "### DATA 추가\n",
    "\n",
    "- INSERT INTO"
   ]
  },
  {
   "cell_type": "code",
   "execution_count": 7,
   "metadata": {},
   "outputs": [],
   "source": [
    "# INSERT INTO\n",
    "conn = sqlite3.connect(db_path)\n",
    "\n",
    "cur = conn.cursor()\n",
    "sql = \"INSERT INTO test_ex VALUES (?, ?, ?)\"\n",
    "cur.execute(sql, (1, 'This', 'Right here!'))\n",
    "conn.commit()\n",
    "\n",
    "conn.close()"
   ]
  },
  {
   "cell_type": "code",
   "execution_count": 10,
   "metadata": {},
   "outputs": [
    {
     "name": "stdout",
     "output_type": "stream",
     "text": [
      "(1, 'This', 'Right here!')\n"
     ]
    }
   ],
   "source": [
    "# test_ex에 data가 들어갔는지 확인하기\n",
    "# SELECT\n",
    "conn = sqlite3.connect(db_path)\n",
    "\n",
    "cur = conn.cursor()\n",
    "sql = \"select * from test_ex\"\n",
    "cur.execute(sql)\n",
    "rows = cur.fetchall()\n",
    "for r in rows:\n",
    "    print(r)\n",
    "    \n",
    "conn.close()"
   ]
  },
  {
   "cell_type": "markdown",
   "metadata": {},
   "source": [
    "## 생성, 추가, 검색, 삭제\n",
    "\n",
    "- 지금까지 한거 정리"
   ]
  },
  {
   "cell_type": "code",
   "execution_count": 21,
   "metadata": {},
   "outputs": [],
   "source": [
    "# Table 삭제(DROP TABLE)\n",
    "# Table 생성(CREATE TABLE)\n",
    "# data 추가(INSERT INTO)\n",
    "conn = sqlite3.connect(db_path)\n",
    "\n",
    "cur = conn.cursor()\n",
    "sql = \"\"\"\n",
    "DROP TABLE IF EXISTS test_table;\n",
    "CREATE TABLE test_table (a INT, b TEXT);\n",
    "\n",
    "INSERT INTO test_table VALUES (10, 'Hi');\n",
    "INSERT INTO test_table VALUES (30, 'Hello');\n",
    "\"\"\"\n",
    "cur.executescript(sql)\n",
    "conn.commit()\n",
    "\n",
    "conn.close()"
   ]
  },
  {
   "cell_type": "code",
   "execution_count": 22,
   "metadata": {},
   "outputs": [
    {
     "name": "stdout",
     "output_type": "stream",
     "text": [
      "(10, 'Hi')\n",
      "(30, 'Hello')\n"
     ]
    }
   ],
   "source": [
    "# data 검색하기(SELECT)\n",
    "conn = sqlite3.connect(db_path)\n",
    "\n",
    "cur = conn.cursor()\n",
    "sql = \"select * from test_table\"\n",
    "cur.execute(sql)\n",
    "rows = cur.fetchall()\n",
    "for r in rows:\n",
    "    print(r)\n",
    "    \n",
    "conn.close()"
   ]
  },
  {
   "cell_type": "markdown",
   "metadata": {},
   "source": [
    "### 여러개의 data 한번에 넣기\n",
    "\n",
    "- cur.executemany()"
   ]
  },
  {
   "cell_type": "code",
   "execution_count": 23,
   "metadata": {},
   "outputs": [],
   "source": [
    "data = {\n",
    "    (1, 'This'),\n",
    "    (3, 'hi'),\n",
    "    (7, 'gogo')\n",
    "}"
   ]
  },
  {
   "cell_type": "code",
   "execution_count": 24,
   "metadata": {},
   "outputs": [],
   "source": [
    "conn = sqlite3.connect(db_path)\n",
    "\n",
    "cur = conn.cursor()\n",
    "sql = \"INSERT INTO test_table VALUES (?, ?)\"\n",
    "cur.executemany(sql, data)\n",
    "conn.commit()\n",
    "\n",
    "conn.close()"
   ]
  },
  {
   "cell_type": "code",
   "execution_count": 25,
   "metadata": {},
   "outputs": [
    {
     "name": "stdout",
     "output_type": "stream",
     "text": [
      "(10, 'Hi')\n",
      "(30, 'Hello')\n",
      "(1, 'This')\n",
      "(3, 'hi')\n",
      "(7, 'gogo')\n"
     ]
    }
   ],
   "source": [
    "# data 검색하기(SELECT)\n",
    "conn = sqlite3.connect(db_path)\n",
    "\n",
    "cur = conn.cursor()\n",
    "sql = \"select * from test_table\"\n",
    "cur.execute(sql)\n",
    "rows = cur.fetchall()\n",
    "for r in rows:\n",
    "    print(r)\n",
    "    \n",
    "conn.close()"
   ]
  },
  {
   "cell_type": "code",
   "execution_count": null,
   "metadata": {},
   "outputs": [],
   "source": []
  }
 ],
 "metadata": {
  "kernelspec": {
   "display_name": "Python 3",
   "language": "python",
   "name": "python3"
  },
  "language_info": {
   "codemirror_mode": {
    "name": "ipython",
    "version": 3
   },
   "file_extension": ".py",
   "mimetype": "text/x-python",
   "name": "python",
   "nbconvert_exporter": "python",
   "pygments_lexer": "ipython3",
   "version": "3.7.6"
  }
 },
 "nbformat": 4,
 "nbformat_minor": 4
}
