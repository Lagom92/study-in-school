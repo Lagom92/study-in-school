{
  "nbformat": 4,
  "nbformat_minor": 0,
  "metadata": {
    "colab": {
      "name": "0707_study.ipynb",
      "provenance": [],
      "collapsed_sections": [],
      "authorship_tag": "ABX9TyP6s+uKmdkPwoZc+8GsPVM2",
      "include_colab_link": true
    },
    "kernelspec": {
      "name": "python3",
      "display_name": "Python 3"
    }
  },
  "cells": [
    {
      "cell_type": "markdown",
      "metadata": {
        "id": "view-in-github",
        "colab_type": "text"
      },
      "source": [
        "<a href=\"https://colab.research.google.com/github/Lagom92/study-in-school/blob/master/0707_study.ipynb\" target=\"_parent\"><img src=\"https://colab.research.google.com/assets/colab-badge.svg\" alt=\"Open In Colab\"/></a>"
      ]
    },
    {
      "cell_type": "markdown",
      "metadata": {
        "id": "AwLvdx308h-O",
        "colab_type": "text"
      },
      "source": [
        "## google drive"
      ]
    },
    {
      "cell_type": "code",
      "metadata": {
        "id": "mSOX7uzE6McZ",
        "colab_type": "code",
        "colab": {
          "base_uri": "https://localhost:8080/",
          "height": 125
        },
        "outputId": "3ffedfd6-8fd5-4a5a-d6ae-a156cfd3bdc9"
      },
      "source": [
        "# 구글 드라이브 연동\n",
        "from google.colab import drive\n",
        "drive.mount('/gdrive', force_remount=True)"
      ],
      "execution_count": 1,
      "outputs": [
        {
          "output_type": "stream",
          "text": [
            "Go to this URL in a browser: https://accounts.google.com/o/oauth2/auth?client_id=947318989803-6bn6qk8qdgf4n4g3pfee6491hc0brc4i.apps.googleusercontent.com&redirect_uri=urn%3aietf%3awg%3aoauth%3a2.0%3aoob&response_type=code&scope=email%20https%3a%2f%2fwww.googleapis.com%2fauth%2fdocs.test%20https%3a%2f%2fwww.googleapis.com%2fauth%2fdrive%20https%3a%2f%2fwww.googleapis.com%2fauth%2fdrive.photos.readonly%20https%3a%2f%2fwww.googleapis.com%2fauth%2fpeopleapi.readonly\n",
            "\n",
            "Enter your authorization code:\n",
            "··········\n",
            "Mounted at /gdrive\n"
          ],
          "name": "stdout"
        }
      ]
    },
    {
      "cell_type": "code",
      "metadata": {
        "id": "sNd6Qa-56SDO",
        "colab_type": "code",
        "colab": {
          "base_uri": "https://localhost:8080/",
          "height": 105
        },
        "outputId": "38f2f381-39f4-4b9f-aa2c-7a7a05061fb2"
      },
      "source": [
        "# 구글 드라이브 파일 확인\n",
        "!ls '/gdrive/My Drive/temp/'"
      ],
      "execution_count": 3,
      "outputs": [
        {
          "output_type": "stream",
          "text": [
            "매수종목1.txt\t   HelloWorld.xlsx\t  sample2.pdf\t    train.csv\n",
            "database\t   little-char.png\t  sample_merge.pdf  user_id_mean.csv\n",
            "demo.docx\t   population_number.csv  sample.xlsx\n",
            "example.docx\t   ratings_small.txt\t  test.db.db\n",
            "height_weight.txt  sample1.pdf\t\t  test.txt\n"
          ],
          "name": "stdout"
        }
      ]
    },
    {
      "cell_type": "code",
      "metadata": {
        "id": "tTDTOkQz6jf3",
        "colab_type": "code",
        "colab": {}
      },
      "source": [
        "# 반복되는 드라이브 경로 변수화\n",
        "drive_path = '/gdrive/My Drive/temp/'"
      ],
      "execution_count": 4,
      "outputs": []
    },
    {
      "cell_type": "markdown",
      "metadata": {
        "id": "RWjGXgkY8qX6",
        "colab_type": "text"
      },
      "source": [
        "## 파일 쓰기\n",
        "\n",
        "- open\n",
        "\n",
        "- write\n",
        "\n",
        "- close"
      ]
    },
    {
      "cell_type": "code",
      "metadata": {
        "id": "ka86Kvnf8eV4",
        "colab_type": "code",
        "colab": {}
      },
      "source": [
        "f = open(drive_path + \"매수종목1.txt\", mode=\"wt\", encoding=\"utf-8\")\n",
        "\n",
        "f.write(\"005930\\n\")\n",
        "f.write(\"005380\\n\")\n",
        "f.write(\"035420\")\n",
        "f.close()"
      ],
      "execution_count": 6,
      "outputs": []
    },
    {
      "cell_type": "markdown",
      "metadata": {
        "id": "2s2Z9G2W-H5G",
        "colab_type": "text"
      },
      "source": [
        "## 파일 쓰기"
      ]
    },
    {
      "cell_type": "code",
      "metadata": {
        "id": "MuHwL_Fo8oZI",
        "colab_type": "code",
        "colab": {}
      },
      "source": [
        "f = open(drive_path + \"매수종목2.txt\", mode=\"wt\", encoding=\"utf-8\")\n",
        "\n",
        "f.write(\"005930, 삼성전자\\n\")\n",
        "f.write(\"005380, 현대차\\n\")\n",
        "f.write(\"035420, NAVER\\n\")\n",
        "f.close()"
      ],
      "execution_count": 7,
      "outputs": []
    },
    {
      "cell_type": "markdown",
      "metadata": {
        "id": "alMk4gdk-qvu",
        "colab_type": "text"
      },
      "source": [
        "## CSV 파일 쓰기"
      ]
    },
    {
      "cell_type": "code",
      "metadata": {
        "id": "gM0to6Fl-k5r",
        "colab_type": "code",
        "colab": {}
      },
      "source": [
        "import csv\n",
        "\n",
        "f = open(drive_path + \"매수종목.csv\", mode=\"wt\", encoding=\"cp949\", newline='')\n",
        "writer = csv.writer(f)\n",
        "writer.writerow([\"종목명\", \"종목코드\", \"PER\"])\n",
        "writer.writerow([\"삼성전자\", \"005930\", 15.59])\n",
        "writer.writerow([\"NAVER\", \"035420\", 55.82])\n",
        "f.close()"
      ],
      "execution_count": 8,
      "outputs": []
    },
    {
      "cell_type": "markdown",
      "metadata": {
        "id": "qgIL463qAXo-",
        "colab_type": "text"
      },
      "source": [
        "## 파일 읽기"
      ]
    },
    {
      "cell_type": "code",
      "metadata": {
        "id": "dgFmi7A-AUkn",
        "colab_type": "code",
        "colab": {
          "base_uri": "https://localhost:8080/",
          "height": 34
        },
        "outputId": "f7419c87-696b-4b59-81ba-86bb978ca3ff"
      },
      "source": [
        "f = open(drive_path + \"매수종목1.txt\", encoding=\"utf-8\")\n",
        "lines = f.readlines()\n",
        "\n",
        "codes = []\n",
        "for line in lines:\n",
        "  code = line.strip()\n",
        "  codes.append(code)\n",
        "\n",
        "print(codes)\n",
        "\n",
        "f.close()"
      ],
      "execution_count": 9,
      "outputs": [
        {
          "output_type": "stream",
          "text": [
            "['005930', '005380', '035420']\n"
          ],
          "name": "stdout"
        }
      ]
    },
    {
      "cell_type": "markdown",
      "metadata": {
        "id": "1jdVg77rCgnt",
        "colab_type": "text"
      },
      "source": [
        "매수종목2.txt 파일을 읽은 후 종목코드와 종목명을 딕셔너리로 저장\n",
        "\n",
        "종목 코드는 key\n",
        "\n",
        "종목명은 value"
      ]
    },
    {
      "cell_type": "code",
      "metadata": {
        "id": "7rRmsUrQAgKa",
        "colab_type": "code",
        "colab": {
          "base_uri": "https://localhost:8080/",
          "height": 34
        },
        "outputId": "cd237c9d-ea97-4b89-8bb2-f92a06c77f78"
      },
      "source": [
        "f = open(drive_path + \"매수종목2.txt\", encoding=\"utf-8\")\n",
        "lines = f.readlines()\n",
        "\n",
        "data = {}\n",
        "for line in lines:\n",
        "  code, name = line.split(',')\n",
        "  data[code] = name.strip()\n",
        "\n",
        "f.close()\n",
        "\n",
        "print(data)"
      ],
      "execution_count": 27,
      "outputs": [
        {
          "output_type": "stream",
          "text": [
            "{'005930': '삼성전자', '005380': '현대차', '035420': 'NAVER'}\n"
          ],
          "name": "stdout"
        }
      ]
    },
    {
      "cell_type": "markdown",
      "metadata": {
        "id": "jDHNhQN8Delu",
        "colab_type": "text"
      },
      "source": [
        "## 예외처리"
      ]
    },
    {
      "cell_type": "code",
      "metadata": {
        "id": "dKEbv37tAgM6",
        "colab_type": "code",
        "colab": {
          "base_uri": "https://localhost:8080/",
          "height": 70
        },
        "outputId": "d841f9f1-3079-4ad4-8f68-b26468548215"
      },
      "source": [
        "per = [\"10\", \"\", \"8.000\"]\n",
        "\n",
        "for i in per:\n",
        "  try:\n",
        "    print(float(i))\n",
        "  except:\n",
        "    print(0)"
      ],
      "execution_count": 28,
      "outputs": [
        {
          "output_type": "stream",
          "text": [
            "10.0\n",
            "0\n",
            "8.0\n"
          ],
          "name": "stdout"
        }
      ]
    },
    {
      "cell_type": "markdown",
      "metadata": {
        "id": "AY28v68WEoru",
        "colab_type": "text"
      },
      "source": [
        "결측치를 처리할때 예외처리를 함"
      ]
    },
    {
      "cell_type": "markdown",
      "metadata": {
        "id": "w46rHbtNEtaS",
        "colab_type": "text"
      },
      "source": [
        "## 예외처리 및 리스트에 저장"
      ]
    },
    {
      "cell_type": "code",
      "metadata": {
        "id": "JVWwQYxRAgPk",
        "colab_type": "code",
        "colab": {
          "base_uri": "https://localhost:8080/",
          "height": 34
        },
        "outputId": "1fd0b2ba-0c72-431a-b897-cfde2c4fa370"
      },
      "source": [
        "per = [\"10\", \"\", \"8.000\"]\n",
        "lst = []\n",
        "\n",
        "for i in per:\n",
        "  try:\n",
        "    v = float(i)\n",
        "  except:\n",
        "    v = 0\n",
        "  lst.append(v)\n",
        "\n",
        "print(lst)"
      ],
      "execution_count": 29,
      "outputs": [
        {
          "output_type": "stream",
          "text": [
            "[10.0, 0, 8.0]\n"
          ],
          "name": "stdout"
        }
      ]
    },
    {
      "cell_type": "markdown",
      "metadata": {
        "id": "P2X8TTPzBG9i",
        "colab_type": "text"
      },
      "source": [
        "## 예외 처리"
      ]
    },
    {
      "cell_type": "code",
      "metadata": {
        "id": "iMNrf0S4FF69",
        "colab_type": "code",
        "colab": {}
      },
      "source": [
        ""
      ],
      "execution_count": null,
      "outputs": []
    }
  ]
}